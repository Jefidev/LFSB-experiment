{
 "cells": [
  {
   "cell_type": "code",
   "execution_count": 18,
   "metadata": {},
   "outputs": [],
   "source": [
    "import numpy as np\n",
    "import pandas as pd\n",
    "import random\n",
    "from sklearn.metrics.pairwise import cosine_similarity"
   ]
  },
  {
   "cell_type": "code",
   "execution_count": 38,
   "metadata": {},
   "outputs": [
    {
     "name": "stdout",
     "output_type": "stream",
     "text": [
      "(5391, 1024)\n",
      "  label                                               pred  count\n",
      "0     1  [0.0, 0.0, 0.0, 0.0, 0.0, 0.0, 0.0, 0.0, 0.0, ...     55\n",
      "1     1  [0.0, 0.0, 0.0, 0.0, 0.0, 0.0, 0.0, 0.0, 0.0, ...     55\n",
      "2     1  [0.0, 0.0, 0.0, 0.0, 0.0, 0.0, 0.0, 0.0, 0.0, ...     55\n",
      "3     1  [0.0, 0.0, 0.0, 0.0, 0.0, 0.0, 0.0, 0.0, 0.0, ...     55\n",
      "4     1  [0.0, 0.0, 0.0, 0.0, 0.0, 0.0, 0.0, 0.0, 0.0, ...     55\n"
     ]
    }
   ],
   "source": [
    "# loading data\n",
    "preds = np.load(\"../results/preds_exp1.np\")\n",
    "label = np.load(\"../results/label_exp1.np\")\n",
    "print(preds.shape)\n",
    "\n",
    "# create prd dataframe\n",
    "preds = pd.Series(preds.tolist())\n",
    "res = pd.DataFrame({'pred':preds, 'label': label})\n",
    "res[\"count\"] = res.apply(lambda row: len(res[res[\"label\"] == row[\"label\"]]), axis=1)\n",
    "res = res[res[\"count\"] > 2]\n",
    "\n",
    "\n",
    "print(res.head())"
   ]
  },
  {
   "cell_type": "code",
   "execution_count": 16,
   "metadata": {},
   "outputs": [],
   "source": [
    "def create_positif(df, nbr):\n",
    "    duets = []\n",
    "    list_label = list(set(df[\"label\"].tolist()))\n",
    "    \n",
    "    for elem in range(nbr):\n",
    "        chosen_label = random.choice(list_label)\n",
    "        \n",
    "        # select duet\n",
    "        select = df[df[\"label\"] == chosen_label]\n",
    "        samp = select.sample(2)\n",
    "        samp = samp[\"pred\"].tolist()\n",
    "        d = (samp[0], samp[1])\n",
    "        \n",
    "        duets.append(d)\n",
    "        \n",
    "    return duets\n",
    "        \n",
    "        \n",
    "\n",
    "def create_negatif(df, nbr):\n",
    "    duets = []\n",
    "    list_label = list(set(df[\"label\"].tolist()))\n",
    "    \n",
    "    for elem in range(nbr):\n",
    "        chosen_label = random.choice(list_label)\n",
    "        \n",
    "        # select duet\n",
    "        pos = df[df[\"label\"] == chosen_label]\n",
    "        neg = df[~(df[\"label\"] == chosen_label)]\n",
    "        \n",
    "        p_samp = pos.sample(1)\n",
    "        n_samp = neg.sample(1)\n",
    "        \n",
    "        p_samp = p_samp[\"pred\"].tolist()[0]\n",
    "        n_samp = n_samp[\"pred\"].tolist()[0]\n",
    "        \n",
    "        \n",
    "        d = (p_samp, n_samp)\n",
    "        \n",
    "        duets.append(d)\n",
    "        \n",
    "    return duets\n",
    "        \n",
    "\n"
   ]
  },
  {
   "cell_type": "code",
   "execution_count": 17,
   "metadata": {},
   "outputs": [
    {
     "name": "stdout",
     "output_type": "stream",
     "text": [
      "2000\n",
      "2000\n"
     ]
    }
   ],
   "source": [
    "positives = create_positif(res, 2000)\n",
    "negatives = create_negatif(res, 2000)\n",
    "\n",
    "print(len(positives))\n",
    "print(len(negatives))"
   ]
  },
  {
   "cell_type": "code",
   "execution_count": 40,
   "metadata": {},
   "outputs": [
    {
     "name": "stdout",
     "output_type": "stream",
     "text": [
      "Moyenne consine 0.0 for 2000\n",
      "Moyenne eucli 0.0 for 2000\n",
      "Moyenne consine nan\n",
      "Moyenne eucli 0.0 for 2000\n"
     ]
    },
    {
     "name": "stderr",
     "output_type": "stream",
     "text": [
      "/home/jfink/anaconda3/lib/python3.6/site-packages/ipykernel_launcher.py:30: RuntimeWarning: Mean of empty slice.\n"
     ]
    }
   ],
   "source": [
    "# Evaluation of the model\n",
    "\n",
    "T = 0.2\n",
    "\n",
    "# Evaluate positif\n",
    "cosine_pos = []\n",
    "eucli = []\n",
    "for pos in positives:\n",
    "    t1 = np.array([pos[0]])*100\n",
    "    t2 = np.array([pos[1]])*100\n",
    "    cosine_pos.append(cosine_similarity(t1, t2)[0][0])\n",
    "    eucli.append(np.linalg.norm(t1[0]-t2[0]))\n",
    "\n",
    "c = np.array(cosine_pos)\n",
    "e = np.array(eucli)\n",
    "print(\"Moyenne consine {} for {}\".format(c.mean(), len(c)))\n",
    "print(\"Moyenne eucli {} for {}\".format(e.mean(), len(e)))\n",
    "\n",
    "\n",
    "cosine_neg = []\n",
    "eucli = []\n",
    "for neg in negatives:\n",
    "    t1 = np.array([neg[0]])\n",
    "    t2 = np.array([neg[1]])\n",
    "    cosine_pos.append(cosine_similarity(t1, t2)[0][0])\n",
    "    eucli.append(np.linalg.norm(t1[0]-t2[0]))\n",
    "    \n",
    "c = np.array(cosine_neg)\n",
    "e = np.array(eucli)\n",
    "print(\"Moyenne consine {}\".format(c.mean()))\n",
    "print(\"Moyenne eucli {} for {}\".format(e.mean(), len(e)))"
   ]
  }
 ],
 "metadata": {
  "kernelspec": {
   "display_name": "Python 3",
   "language": "python",
   "name": "python3"
  },
  "language_info": {
   "codemirror_mode": {
    "name": "ipython",
    "version": 3
   },
   "file_extension": ".py",
   "mimetype": "text/x-python",
   "name": "python",
   "nbconvert_exporter": "python",
   "pygments_lexer": "ipython3",
   "version": "3.6.8"
  }
 },
 "nbformat": 4,
 "nbformat_minor": 2
}
