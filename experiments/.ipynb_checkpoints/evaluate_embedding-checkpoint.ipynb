{
 "cells": [
  {
   "cell_type": "code",
   "execution_count": 1,
   "metadata": {},
   "outputs": [],
   "source": [
    "\n",
    "import numpy as np\n",
    "import pandas as pd\n",
    "import random\n",
    "from sklearn.metrics.pairwise import cosine_similarity\n",
    "from sklearn.metrics import confusion_matrix\n",
    "import seaborn as sn\n",
    "from sklearn.utils.multiclass import unique_labels\n",
    "import matplotlib.pyplot as plt\n",
    "%matplotlib inline\n"
   ]
  },
  {
   "cell_type": "code",
   "execution_count": 2,
   "metadata": {},
   "outputs": [
    {
     "name": "stdout",
     "output_type": "stream",
     "text": [
      "(33, 128)\n",
      "33\n"
     ]
    }
   ],
   "source": [
    "# loading data\n",
    "preds = np.load(\"./30_examples/results/preds.np\")\n",
    "label = np.load(\"./30_examples/results/label.np\")\n",
    "print(preds.shape)\n",
    "\n",
    "# create prd dataframe\n",
    "preds = pd.Series(preds.tolist())\n",
    "res = pd.DataFrame({'pred':preds, 'label': label})\n",
    "#res[\"count\"] = res.apply(lambda row: len(res[res[\"label\"] == row[\"label\"]]), axis=1)\n",
    "#res = res[res[\"count\"] > 90]\n",
    "\n",
    "\n",
    "print(len(res))"
   ]
  },
  {
   "cell_type": "code",
   "execution_count": 3,
   "metadata": {},
   "outputs": [],
   "source": [
    "def create_positif(df, nbr):\n",
    "    duets = []\n",
    "    list_label = list(set(df[\"label\"].tolist()))\n",
    "    \n",
    "    for elem in range(nbr):\n",
    "        chosen_label = random.choice(list_label)\n",
    "        \n",
    "        # select duet\n",
    "        select = df[df[\"label\"] == chosen_label]\n",
    "        samp = select.sample(2)\n",
    "        samp = samp[\"pred\"].tolist()\n",
    "        d = (samp[0], samp[1])\n",
    "        \n",
    "        duets.append(d)\n",
    "        \n",
    "    return duets\n",
    "        \n",
    "        \n",
    "\n",
    "def create_negatif(df, nbr):\n",
    "    duets = []\n",
    "    list_label = list(set(df[\"label\"].tolist()))\n",
    "    \n",
    "    for elem in range(nbr):\n",
    "        chosen_label = random.choice(list_label)\n",
    "        \n",
    "        # select duet\n",
    "        pos = df[df[\"label\"] == chosen_label]\n",
    "        neg = df[~(df[\"label\"] == chosen_label)]\n",
    "        \n",
    "        p_samp = pos.sample(1)\n",
    "        n_samp = neg.sample(1)\n",
    "        \n",
    "        p_samp = p_samp[\"pred\"].tolist()[0]\n",
    "        n_samp = n_samp[\"pred\"].tolist()[0]\n",
    "        \n",
    "        \n",
    "        d = (p_samp, n_samp)\n",
    "        \n",
    "        duets.append(d)\n",
    "        \n",
    "    return duets\n",
    "        \n",
    "\n"
   ]
  },
  {
   "cell_type": "code",
   "execution_count": 8,
   "metadata": {},
   "outputs": [
    {
     "name": "stdout",
     "output_type": "stream",
     "text": [
      "100\n",
      "100\n"
     ]
    }
   ],
   "source": [
    "positives = create_positif(res, 100)\n",
    "negatives = create_negatif(res, 100)\n",
    "\n",
    "print(len(positives))\n",
    "print(len(negatives))"
   ]
  },
  {
   "cell_type": "code",
   "execution_count": 14,
   "metadata": {},
   "outputs": [
    {
     "ename": "NameError",
     "evalue": "name 'positives' is not defined",
     "output_type": "error",
     "traceback": [
      "\u001b[0;31m---------------------------------------------------------------------------\u001b[0m",
      "\u001b[0;31mNameError\u001b[0m                                 Traceback (most recent call last)",
      "\u001b[0;32m<ipython-input-14-acdfd34a2874>\u001b[0m in \u001b[0;36m<module>\u001b[0;34m\u001b[0m\n\u001b[1;32m     11\u001b[0m \u001b[0mcosine_pos\u001b[0m \u001b[0;34m=\u001b[0m \u001b[0;34m[\u001b[0m\u001b[0;34m]\u001b[0m\u001b[0;34m\u001b[0m\u001b[0;34m\u001b[0m\u001b[0m\n\u001b[1;32m     12\u001b[0m \u001b[0meucli\u001b[0m \u001b[0;34m=\u001b[0m \u001b[0;34m[\u001b[0m\u001b[0;34m]\u001b[0m\u001b[0;34m\u001b[0m\u001b[0;34m\u001b[0m\u001b[0m\n\u001b[0;32m---> 13\u001b[0;31m \u001b[0;32mfor\u001b[0m \u001b[0mpos\u001b[0m \u001b[0;32min\u001b[0m \u001b[0mpositives\u001b[0m\u001b[0;34m:\u001b[0m\u001b[0;34m\u001b[0m\u001b[0;34m\u001b[0m\u001b[0m\n\u001b[0m\u001b[1;32m     14\u001b[0m     \u001b[0mt1\u001b[0m \u001b[0;34m=\u001b[0m \u001b[0mnp\u001b[0m\u001b[0;34m.\u001b[0m\u001b[0marray\u001b[0m\u001b[0;34m(\u001b[0m\u001b[0;34m[\u001b[0m\u001b[0mpos\u001b[0m\u001b[0;34m[\u001b[0m\u001b[0;36m0\u001b[0m\u001b[0;34m]\u001b[0m\u001b[0;34m]\u001b[0m\u001b[0;34m)\u001b[0m\u001b[0;34m\u001b[0m\u001b[0;34m\u001b[0m\u001b[0m\n\u001b[1;32m     15\u001b[0m     \u001b[0mt2\u001b[0m \u001b[0;34m=\u001b[0m \u001b[0mnp\u001b[0m\u001b[0;34m.\u001b[0m\u001b[0marray\u001b[0m\u001b[0;34m(\u001b[0m\u001b[0;34m[\u001b[0m\u001b[0mpos\u001b[0m\u001b[0;34m[\u001b[0m\u001b[0;36m1\u001b[0m\u001b[0;34m]\u001b[0m\u001b[0;34m]\u001b[0m\u001b[0;34m)\u001b[0m\u001b[0;34m\u001b[0m\u001b[0;34m\u001b[0m\u001b[0m\n",
      "\u001b[0;31mNameError\u001b[0m: name 'positives' is not defined"
     ]
    }
   ],
   "source": [
    "# Evaluation of the model\n",
    "\n",
    "limit_dist = 0.0000158\n",
    "\n",
    "tp = 0\n",
    "tn = 0\n",
    "fp = 0\n",
    "fn = 0\n",
    "\n",
    "# Evaluate positif\n",
    "cosine_pos = []\n",
    "eucli = []\n",
    "for pos in positives:\n",
    "    t1 = np.array([pos[0]])\n",
    "    t2 = np.array([pos[1]])\n",
    "    cosine_pos.append(cosine_similarity(t1, t2)[0][0])\n",
    "    eucli.append(np.linalg.norm(t1[0]-t2[0]))\n",
    "    if eucli[-1] <= limit_dist:\n",
    "        tp += 1\n",
    "    else:\n",
    "        fn += 1\n",
    "\n",
    "c = np.array(cosine_pos)\n",
    "e = np.array(eucli)\n",
    "print(\"Moyenne consine {} for {}\".format(c.mean(), len(c)))\n",
    "print(\"Moyenne eucli {} for {}\".format(e.mean(), len(e)))\n",
    "\n",
    "\n",
    "cosine_neg = []\n",
    "eucli = []\n",
    "for neg in negatives:\n",
    "    t1 = np.array([neg[0]])\n",
    "    t2 = np.array([neg[1]])\n",
    "    cosine_neg.append(cosine_similarity(t1, t2)[0][0])\n",
    "    eucli.append(np.linalg.norm(t1[0]-t2[0]))\n",
    "    \n",
    "    if eucli[-1] > limit_dist:\n",
    "        tn += 1\n",
    "    else:\n",
    "        fp += 1\n",
    "    \n",
    "c = np.array(cosine_neg)\n",
    "e = np.array(eucli)\n",
    "print(\"Moyenne consine {}\".format(c.mean()))\n",
    "print(\"Moyenne eucli {} for {}\".format(e.mean(), len(e)))\n",
    "\n",
    "print(\"\\n\\n\")\n",
    "\n",
    "accuracy = (tp + tn) / 10000\n",
    "precision = tp /(fp + tp)\n",
    "recall = tp / (fn+tp)\n",
    "f1 = 2*((precision*recall)/(precision+recall))\n",
    "\n",
    "print(\"accuracy: {}\".format(accuracy))\n",
    "print(\"precision: {}\".format(precision))\n",
    "print(\"recall: {}\".format(recall))\n",
    "print(\"f1: {}\".format(f1))"
   ]
  },
  {
   "cell_type": "code",
   "execution_count": 4,
   "metadata": {},
   "outputs": [
    {
     "name": "stdout",
     "output_type": "stream",
     "text": [
      "0\n",
      "1\n",
      "2\n",
      "3\n",
      "4\n",
      "5\n",
      "6\n",
      "7\n",
      "8\n",
      "9\n",
      "10\n",
      "11\n",
      "12\n",
      "13\n",
      "14\n",
      "15\n",
      "16\n",
      "17\n",
      "18\n",
      "19\n",
      "20\n",
      "21\n",
      "22\n",
      "23\n",
      "24\n",
      "25\n",
      "26\n",
      "27\n",
      "28\n",
      "29\n",
      "30\n",
      "31\n",
      "32\n"
     ]
    }
   ],
   "source": [
    "# Evaluation with confusion matrice\n",
    "\n",
    "y_true = []\n",
    "y_pred = []\n",
    "\n",
    "for index, row in res.iterrows():\n",
    "    true_label = row[\"label\"]\n",
    "    embed = np.array([row[\"pred\"]])\n",
    "    print(index)\n",
    "    \n",
    "    best_cosine = 1000\n",
    "    pred_label = \"\"\n",
    "    \n",
    "    for ifound, irow in res.iterrows():\n",
    "        if ifound == index:\n",
    "            continue\n",
    "        \n",
    "        ie = np.array([irow[\"pred\"]])\n",
    "        #cos = cosine_similarity(embed, ie)[0][0]\n",
    "        cos = np.linalg.norm(embed[0]-ie[0])\n",
    "        \n",
    "        if cos < best_cosine:\n",
    "            best_cosine = cos\n",
    "            pred_label = irow[\"label\"]\n",
    "            \n",
    "    \n",
    "    y_true.append(true_label)\n",
    "    y_pred.append(pred_label)\n",
    "        \n",
    "\n"
   ]
  },
  {
   "cell_type": "code",
   "execution_count": 5,
   "metadata": {},
   "outputs": [
    {
     "name": "stdout",
     "output_type": "stream",
     "text": [
      "['1' '2' '3' '4' '5']\n"
     ]
    },
    {
     "data": {
      "image/png": "[encoded data removed]",
      "text/plain": [
       "<Figure size 504x504 with 2 Axes>"
      ]
     },
     "metadata": {},
     "output_type": "display_data"
    }
   ],
   "source": [
    "confusion = confusion_matrix(y_true, y_pred)\n",
    "confusion = confusion / confusion.sum(axis=1)[:, np.newaxis]\n",
    "\n",
    "classes = unique_labels(y_true, y_pred)\n",
    "print(classes)\n",
    "\n",
    "df_cm = pd.DataFrame(confusion, index = [i for i in classes],\n",
    "                  columns = [i for i in classes])\n",
    "plt.figure(figsize=(7,7))\n",
    "sn.heatmap(df_cm, annot=True)\n",
    "plt.show()"
   ]
  },
  {
   "cell_type": "code",
   "execution_count": null,
   "metadata": {},
   "outputs": [],
   "source": [
    "plt.figure(figsize=(50,50))\n",
    "sn.heatmap(df_cm, annot=True)\n",
    "plt.savefig(\"epic.jpg\")"
   ]
  },
  {
   "cell_type": "code",
   "execution_count": null,
   "metadata": {},
   "outputs": [],
   "source": [
    "y = [\"True\", \"False, \"]"
   ]
  }
 ],
 "metadata": {
  "kernelspec": {
   "display_name": "Python 3",
   "language": "python",
   "name": "python3"
  },
  "language_info": {
   "codemirror_mode": {
    "name": "ipython",
    "version": 3
   },
   "file_extension": ".py",
   "mimetype": "text/x-python",
   "name": "python",
   "nbconvert_exporter": "python",
   "pygments_lexer": "ipython3",
   "version": "3.6.8"
  }
 },
 "nbformat": 4,
 "nbformat_minor": 2
}
