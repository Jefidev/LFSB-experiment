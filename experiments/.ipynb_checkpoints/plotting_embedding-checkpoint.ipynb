{
 "cells": [
  {
   "cell_type": "code",
   "execution_count": 1,
   "metadata": {},
   "outputs": [],
   "source": [
    "import numpy as np\n",
    "from sklearn.manifold import TSNE\n",
    "import pandas as pd\n",
    "import altair as alt\n",
    "from IPython.display import display"
   ]
  },
  {
   "cell_type": "code",
   "execution_count": 2,
   "metadata": {},
   "outputs": [
    {
     "name": "stdout",
     "output_type": "stream",
     "text": [
      "[[-1.2378092e-05  2.6209746e-05 -2.6121561e-05 ...  1.4149919e-05\n",
      "  -8.5376669e-06  2.6205729e-05]\n",
      " [-1.2378092e-05  2.6209746e-05 -2.6121561e-05 ...  1.4149919e-05\n",
      "  -8.5376669e-06  2.6205729e-05]\n",
      " [-1.2378092e-05  2.6209746e-05 -2.6121561e-05 ...  1.4149919e-05\n",
      "  -8.5376669e-06  2.6205729e-05]\n",
      " ...\n",
      " [-1.2378092e-05  2.6209746e-05 -2.6121561e-05 ...  1.4149919e-05\n",
      "  -8.5376669e-06  2.6205729e-05]\n",
      " [-1.2378092e-05  2.6209746e-05 -2.6121561e-05 ...  1.4149919e-05\n",
      "  -8.5376669e-06  2.6205729e-05]\n",
      " [-1.2378092e-05  2.6209746e-05 -2.6121561e-05 ...  1.4149919e-05\n",
      "  -8.5376669e-06  2.6205729e-05]]\n",
      "['1' '1' '1' '1' '1' '1' '1' '1' '1' '1' '1' '1' '1' '1' '1' '1' '1' '1'\n",
      " '1' '1' '1' '1' '1' '1' '1' '1' '1' '1' '1' '1' '1' '1' '1' '1' '1' '1'\n",
      " '1' '1' '1' '1' '1' '1' '1' '1' '1' '1' '1' '1' '1' '1' '1' '1' '1' '1'\n",
      " '1' '5' '5' '5' '5' '5' '5' '5' '2' '2' '2' '2' '2' '2' '2' '2' '2' '2'\n",
      " '2' '2' '2' '2' '2' '2' '2' '2' '2' '2' '2' '2' '2' '2' '2' '2' '3' '3'\n",
      " '3' '3' '3' '3' '3' '3' '3' '3' '3' '3' '3' '3' '3' '3' '4' '4' '4' '4'\n",
      " '4' '4' '4' '4' '4' '4' '4' '4' '4' '4' '4' '4' '4' '4' '4' '4']\n"
     ]
    }
   ],
   "source": [
    "# loading data\n",
    "preds = np.load(\"../results/preds.np\")\n",
    "label = np.load(\"../results/label.np\")\n",
    "\n",
    "print(preds)\n",
    "print(label)"
   ]
  },
  {
   "cell_type": "code",
   "execution_count": 4,
   "metadata": {},
   "outputs": [],
   "source": [
    "# reducting dimensions\n",
    "\n",
    "def reduce_dim(perplexity):\n",
    "    preds_reduced = TSNE(n_components=2, perplexity = perplexity).fit_transform(preds)\n",
    "    return preds_reduced\n",
    "\n",
    "\n",
    "def create_plot(preds_reduced, label):\n",
    "    plot_df = pd.DataFrame({'X':preds_reduced[:,0],'Y':preds_reduced[:,1], 'label': label})\n",
    "\n",
    "    #plot_df[\"count\"] = plot_df.apply(lambda row: len(plot_df[plot_df[\"label\"] == row[\"label\"]]), axis=1)\n",
    "    #plot_df = plot_df[plot_df[\"count\"] > 45]\n",
    "\n",
    "    chart = alt.Chart(plot_df).mark_circle(size=60).encode(\n",
    "        x='X',\n",
    "        y='Y',\n",
    "        color='label').interactive()\n",
    "    \n",
    "    display(chart)"
   ]
  },
  {
   "cell_type": "code",
   "execution_count": 5,
   "metadata": {},
   "outputs": [
    {
     "name": "stdout",
     "output_type": "stream",
     "text": [
      "Perplexity 5\n"
     ]
    },
    {
     "data": {
      "application/vnd.vegalite.v2+json": {
       "$schema": "https://vega.github.io/schema/vega-lite/v2.6.0.json",
       "config": {
        "view": {
         "height": 300,
         "width": 400
        }
       },
       "data": {
        "name": "data-6c1693b0988ec26bbe51453bcd94bef1"
       },
       "datasets": {
        "data-6c1693b0988ec26bbe51453bcd94bef1": [
         {
          "X": -52.30164337158203,
          "Y": -8.271023750305176,
          "label": "1"
         },
         {
          "X": -14.721102714538574,
          "Y": 10.517963409423828,
          "label": "1"
         },
         {
          "X": 2.504291296005249,
          "Y": 11.49592113494873,
          "label": "1"
         },
         {
          "X": -0.24928636848926544,
          "Y": 6.374020576477051,
          "label": "1"
         },
         {
          "X": -74.24925994873047,
          "Y": -55.09688949584961,
          "label": "1"
         },
         {
          "X": -4.351412773132324,
          "Y": -14.448700904846191,
          "label": "1"
         },
         {
          "X": 55.5948486328125,
          "Y": 3.7668561935424805,
          "label": "1"
         },
         {
          "X": 19.973175048828125,
          "Y": -12.083447456359863,
          "label": "1"
         },
         {
          "X": -0.8249772787094116,
          "Y": 0.6018935441970825,
          "label": "1"
         },
         {
          "X": 4.30804967880249,
          "Y": -2.003985643386841,
          "label": "1"
         },
         {
          "X": -9.027242660522461,
          "Y": -6.9670796394348145,
          "label": "1"
         },
         {
          "X": -4.5183210372924805,
          "Y": 10.049516677856445,
          "label": "1"
         },
         {
          "X": -9.814006805419922,
          "Y": 7.452520370483398,
          "label": "1"
         },
         {
          "X": -15.91001033782959,
          "Y": 4.1373209953308105,
          "label": "1"
         },
         {
          "X": 108.74363708496094,
          "Y": 211.6431884765625,
          "label": "1"
         },
         {
          "X": -123.20207977294922,
          "Y": -114.0175552368164,
          "label": "1"
         },
         {
          "X": -14.410855293273926,
          "Y": -2.852818489074707,
          "label": "1"
         },
         {
          "X": 89.14611053466797,
          "Y": 41.4754753112793,
          "label": "1"
         },
         {
          "X": -5.37257194519043,
          "Y": 4.066434860229492,
          "label": "1"
         },
         {
          "X": -10.630729675292969,
          "Y": 1.63209867477417,
          "label": "1"
         },
         {
          "X": 54.201908111572266,
          "Y": -22.33965492248535,
          "label": "1"
         },
         {
          "X": 17.8966121673584,
          "Y": -85.8349838256836,
          "label": "1"
         },
         {
          "X": -49.71261215209961,
          "Y": 22.396116256713867,
          "label": "1"
         },
         {
          "X": -57.94133377075195,
          "Y": 36.32883071899414,
          "label": "1"
         },
         {
          "X": -17.075485229492188,
          "Y": 65.057861328125,
          "label": "1"
         },
         {
          "X": -27.610694885253906,
          "Y": 30.05325698852539,
          "label": "1"
         },
         {
          "X": -64.60232543945312,
          "Y": 19.37277603149414,
          "label": "1"
         },
         {
          "X": 84.57306671142578,
          "Y": 41.7211799621582,
          "label": "1"
         },
         {
          "X": 50.441951751708984,
          "Y": 19.801841735839844,
          "label": "1"
         },
         {
          "X": -5.475095272064209,
          "Y": 53.27547073364258,
          "label": "1"
         },
         {
          "X": 21.408061981201172,
          "Y": 26.711585998535156,
          "label": "1"
         },
         {
          "X": -40.21802520751953,
          "Y": -7.589444160461426,
          "label": "1"
         },
         {
          "X": -41.137020111083984,
          "Y": 3.088238000869751,
          "label": "1"
         },
         {
          "X": 40.62992477416992,
          "Y": 8.431129455566406,
          "label": "1"
         },
         {
          "X": 43.978878021240234,
          "Y": -6.741998195648193,
          "label": "1"
         },
         {
          "X": -17.81604766845703,
          "Y": 17.855100631713867,
          "label": "1"
         },
         {
          "X": 31.614076614379883,
          "Y": -6.370087623596191,
          "label": "1"
         },
         {
          "X": 21.14750099182129,
          "Y": -2.35029935836792,
          "label": "1"
         },
         {
          "X": 30.891992568969727,
          "Y": -17.35621452331543,
          "label": "1"
         },
         {
          "X": 29.718488693237305,
          "Y": -29.306522369384766,
          "label": "1"
         },
         {
          "X": -14.32504940032959,
          "Y": -12.697638511657715,
          "label": "1"
         },
         {
          "X": -41.67852020263672,
          "Y": -64.21350860595703,
          "label": "1"
         },
         {
          "X": 43.07950210571289,
          "Y": -20.789655685424805,
          "label": "1"
         },
         {
          "X": 19.65654182434082,
          "Y": 7.747705459594727,
          "label": "1"
         },
         {
          "X": 77.5540542602539,
          "Y": 35.91389465332031,
          "label": "1"
         },
         {
          "X": 81.44172668457031,
          "Y": 37.72860336303711,
          "label": "1"
         },
         {
          "X": 26.26333236694336,
          "Y": 15.394211769104004,
          "label": "1"
         },
         {
          "X": -21.76551055908203,
          "Y": -7.622148513793945,
          "label": "1"
         },
         {
          "X": 8.495471000671387,
          "Y": -28.778724670410156,
          "label": "1"
         },
         {
          "X": 4.050065517425537,
          "Y": -11.281123161315918,
          "label": "1"
         },
         {
          "X": 41.22780227661133,
          "Y": -36.246971130371094,
          "label": "1"
         },
         {
          "X": 35.632652282714844,
          "Y": 21.056968688964844,
          "label": "1"
         },
         {
          "X": 18.404951095581055,
          "Y": -36.046051025390625,
          "label": "1"
         },
         {
          "X": -232.15875244140625,
          "Y": -26.139062881469727,
          "label": "1"
         },
         {
          "X": 29.888566970825195,
          "Y": 4.500999927520752,
          "label": "1"
         },
         {
          "X": -21.350170135498047,
          "Y": -18.776268005371094,
          "label": "5"
         },
         {
          "X": 22.441818237304688,
          "Y": 61.75929641723633,
          "label": "5"
         },
         {
          "X": 35.737613677978516,
          "Y": 49.247962951660156,
          "label": "5"
         },
         {
          "X": -27.218053817749023,
          "Y": 18.454082489013672,
          "label": "5"
         },
         {
          "X": -45.8400993347168,
          "Y": 48.6674919128418,
          "label": "5"
         },
         {
          "X": -18.988590240478516,
          "Y": 49.33980178833008,
          "label": "5"
         },
         {
          "X": -41.09220886230469,
          "Y": -19.042543411254883,
          "label": "5"
         },
         {
          "X": -7.588794231414795,
          "Y": 41.17582702636719,
          "label": "2"
         },
         {
          "X": 19.155061721801758,
          "Y": -90.55052947998047,
          "label": "2"
         },
         {
          "X": 5.228733539581299,
          "Y": 4.7375407218933105,
          "label": "2"
         },
         {
          "X": -9.26747989654541,
          "Y": 13.999637603759766,
          "label": "2"
         },
         {
          "X": -37.704734802246094,
          "Y": -60.95077133178711,
          "label": "2"
         },
         {
          "X": 30.649171829223633,
          "Y": 33.566349029541016,
          "label": "2"
         },
         {
          "X": -9.640657424926758,
          "Y": 21.802383422851562,
          "label": "2"
         },
         {
          "X": 13.364524841308594,
          "Y": -49.51182556152344,
          "label": "2"
         },
         {
          "X": -65.54718780517578,
          "Y": -15.597075462341309,
          "label": "2"
         },
         {
          "X": 9.788347244262695,
          "Y": 53.294464111328125,
          "label": "2"
         },
         {
          "X": -23.155874252319336,
          "Y": 1.3008074760437012,
          "label": "2"
         },
         {
          "X": 11.464174270629883,
          "Y": -6.78602409362793,
          "label": "2"
         },
         {
          "X": -16.055187225341797,
          "Y": -53.91521453857422,
          "label": "2"
         },
         {
          "X": 10.534360885620117,
          "Y": -17.216289520263672,
          "label": "2"
         },
         {
          "X": 45.26966857910156,
          "Y": 34.74378967285156,
          "label": "2"
         },
         {
          "X": -36.38526153564453,
          "Y": -45.90791320800781,
          "label": "2"
         },
         {
          "X": -40.59962463378906,
          "Y": -33.00249099731445,
          "label": "2"
         },
         {
          "X": 10.883217811584473,
          "Y": 10.673442840576172,
          "label": "2"
         },
         {
          "X": 6.218669891357422,
          "Y": 18.369647979736328,
          "label": "2"
         },
         {
          "X": -17.633729934692383,
          "Y": -29.621417999267578,
          "label": "2"
         },
         {
          "X": 15.973713874816895,
          "Y": 17.978206634521484,
          "label": "2"
         },
         {
          "X": -30.167131423950195,
          "Y": -13.687047958374023,
          "label": "2"
         },
         {
          "X": 87.55316162109375,
          "Y": 37.08753967285156,
          "label": "2"
         },
         {
          "X": 21.60413932800293,
          "Y": 44.38982391357422,
          "label": "2"
         },
         {
          "X": 12.609367370605469,
          "Y": 1.7077486515045166,
          "label": "2"
         },
         {
          "X": 16.656455993652344,
          "Y": -149.30873107910156,
          "label": "2"
         },
         {
          "X": -4.98579740524292,
          "Y": -30.295629501342773,
          "label": "3"
         },
         {
          "X": 1.0657750368118286,
          "Y": -21.589406967163086,
          "label": "3"
         },
         {
          "X": -30.860782623291016,
          "Y": -2.8915998935699463,
          "label": "3"
         },
         {
          "X": -32.557533264160156,
          "Y": 57.91555404663086,
          "label": "3"
         },
         {
          "X": -66.02435302734375,
          "Y": 1.9960131645202637,
          "label": "3"
         },
         {
          "X": -41.61574935913086,
          "Y": 34.26580810546875,
          "label": "3"
         },
         {
          "X": -10.13105583190918,
          "Y": -41.118343353271484,
          "label": "3"
         },
         {
          "X": -10.609024047851562,
          "Y": -21.479639053344727,
          "label": "3"
         },
         {
          "X": -53.70391845703125,
          "Y": -26.16702651977539,
          "label": "3"
         },
         {
          "X": -31.359554290771484,
          "Y": 7.953551292419434,
          "label": "3"
         },
         {
          "X": -0.9365025162696838,
          "Y": 23.56351661682129,
          "label": "3"
         },
         {
          "X": -46.5260009765625,
          "Y": -65.92391967773438,
          "label": "3"
         },
         {
          "X": -40.20718002319336,
          "Y": 13.900959014892578,
          "label": "3"
         },
         {
          "X": 58.971126556396484,
          "Y": -23.75749969482422,
          "label": "3"
         },
         {
          "X": -18.164228439331055,
          "Y": 26.497406005859375,
          "label": "3"
         },
         {
          "X": 1.513675570487976,
          "Y": 67.02568054199219,
          "label": "3"
         },
         {
          "X": -30.629789352416992,
          "Y": 41.91707992553711,
          "label": "4"
         },
         {
          "X": -8.698799133300781,
          "Y": 30.713693618774414,
          "label": "4"
         },
         {
          "X": 9.674662590026855,
          "Y": 26.45145034790039,
          "label": "4"
         },
         {
          "X": -22.82525062561035,
          "Y": 10.179101943969727,
          "label": "4"
         },
         {
          "X": -29.603565216064453,
          "Y": -26.12856674194336,
          "label": "4"
         },
         {
          "X": -36.133544921875,
          "Y": 23.649734497070312,
          "label": "4"
         },
         {
          "X": -18.393239974975586,
          "Y": 37.005592346191406,
          "label": "4"
         },
         {
          "X": 28.999916076660156,
          "Y": -49.39918518066406,
          "label": "4"
         },
         {
          "X": 4.180257797241211,
          "Y": 42.61371612548828,
          "label": "4"
         },
         {
          "X": 1.3980213403701782,
          "Y": 32.42987060546875,
          "label": "4"
         },
         {
          "X": -0.20077547430992126,
          "Y": -56.61268997192383,
          "label": "4"
         },
         {
          "X": 13.80825138092041,
          "Y": 35.83021545410156,
          "label": "4"
         },
         {
          "X": -52.465030670166016,
          "Y": 7.517668724060059,
          "label": "4"
         },
         {
          "X": 2.9027018547058105,
          "Y": -39.85524368286133,
          "label": "4"
         },
         {
          "X": 18.86825942993164,
          "Y": -23.141971588134766,
          "label": "4"
         },
         {
          "X": -24.090316772460938,
          "Y": -39.541717529296875,
          "label": "4"
         },
         {
          "X": -110.94428253173828,
          "Y": -70.66277313232422,
          "label": "4"
         },
         {
          "X": -2.713846445083618,
          "Y": 15.644135475158691,
          "label": "4"
         },
         {
          "X": -1.7259265184402466,
          "Y": -5.794028282165527,
          "label": "4"
         },
         {
          "X": -6.242665767669678,
          "Y": -1.7972257137298584,
          "label": "4"
         }
        ]
       },
       "encoding": {
        "color": {
         "field": "label",
         "type": "nominal"
        },
        "x": {
         "field": "X",
         "type": "quantitative"
        },
        "y": {
         "field": "Y",
         "type": "quantitative"
        }
       },
       "mark": {
        "size": 60,
        "type": "circle"
       },
       "selection": {
        "selector001": {
         "bind": "scales",
         "encodings": [
          "x",
          "y"
         ],
         "mark": {
          "fill": "#333",
          "fillOpacity": 0.125,
          "stroke": "white"
         },
         "on": "[mousedown, window:mouseup] > window:mousemove!",
         "resolve": "global",
         "translate": "[mousedown, window:mouseup] > window:mousemove!",
         "type": "interval",
         "zoom": "wheel!"
        }
       }
      },
      "image/png": "[encoded data removed]",
      "text/plain": [
       "<VegaLite 2 object>\n",
       "\n",
       "If you see this message, it means the renderer has not been properly enabled\n",
       "for the frontend that you are using. For more information, see\n",
       "https://altair-viz.github.io/user_guide/troubleshooting.html\n"
      ]
     },
     "metadata": {},
     "output_type": "display_data"
    },
    {
     "name": "stdout",
     "output_type": "stream",
     "text": [
      "Perplexity 15\n"
     ]
    },
    {
     "data": {
      "application/vnd.vegalite.v2+json": {
       "$schema": "https://vega.github.io/schema/vega-lite/v2.6.0.json",
       "config": {
        "view": {
         "height": 300,
         "width": 400
        }
       },
       "data": {
        "name": "data-245f14227e2819372420222a89c811d7"
       },
       "datasets": {
        "data-245f14227e2819372420222a89c811d7": [
         {
          "X": 5.349429607391357,
          "Y": -16.56833839416504,
          "label": "1"
         },
         {
          "X": 5.720574855804443,
          "Y": -10.606101989746094,
          "label": "1"
         },
         {
          "X": 0.3709211051464081,
          "Y": -12.969758987426758,
          "label": "1"
         },
         {
          "X": -17.169870376586914,
          "Y": 7.285526275634766,
          "label": "1"
         },
         {
          "X": -62.194923400878906,
          "Y": 178.26210021972656,
          "label": "1"
         },
         {
          "X": 17.820714950561523,
          "Y": -7.245838165283203,
          "label": "1"
         },
         {
          "X": 18.351112365722656,
          "Y": -47.920433044433594,
          "label": "1"
         },
         {
          "X": 25.08751678466797,
          "Y": 21.92866325378418,
          "label": "1"
         },
         {
          "X": -5.2863450050354,
          "Y": -16.181461334228516,
          "label": "1"
         },
         {
          "X": -0.1032228171825409,
          "Y": -18.687814712524414,
          "label": "1"
         },
         {
          "X": 11.687501907348633,
          "Y": -8.418185234069824,
          "label": "1"
         },
         {
          "X": -4.163697719573975,
          "Y": 10.199213981628418,
          "label": "1"
         },
         {
          "X": 7.18593692779541,
          "Y": 6.6227593421936035,
          "label": "1"
         },
         {
          "X": -4.498513698577881,
          "Y": -10.463544845581055,
          "label": "1"
         },
         {
          "X": 53.5530891418457,
          "Y": 21.03849983215332,
          "label": "1"
         },
         {
          "X": 83.574951171875,
          "Y": -210.30682373046875,
          "label": "1"
         },
         {
          "X": -8.413015365600586,
          "Y": -1.6877672672271729,
          "label": "1"
         },
         {
          "X": -1.6913639307022095,
          "Y": 62.9869384765625,
          "label": "1"
         },
         {
          "X": 2.7901341915130615,
          "Y": 3.035423755645752,
          "label": "1"
         },
         {
          "X": -3.70574951171875,
          "Y": -5.106773853302002,
          "label": "1"
         },
         {
          "X": 40.78954315185547,
          "Y": 23.925371170043945,
          "label": "1"
         },
         {
          "X": 79.63815307617188,
          "Y": -10.302895545959473,
          "label": "1"
         },
         {
          "X": -10.017181396484375,
          "Y": -12.950121879577637,
          "label": "1"
         },
         {
          "X": 12.373878479003906,
          "Y": -2.805325746536255,
          "label": "1"
         },
         {
          "X": -1.868344783782959,
          "Y": 5.335214138031006,
          "label": "1"
         },
         {
          "X": 16.683059692382812,
          "Y": -13.988663673400879,
          "label": "1"
         },
         {
          "X": -20.27655029296875,
          "Y": -5.079156398773193,
          "label": "1"
         },
         {
          "X": 2.880044937133789,
          "Y": 64.71292114257812,
          "label": "1"
         },
         {
          "X": 11.021092414855957,
          "Y": -20.292505264282227,
          "label": "1"
         },
         {
          "X": 10.614140510559082,
          "Y": -14.022326469421387,
          "label": "1"
         },
         {
          "X": -9.890625953674316,
          "Y": 8.140625953674316,
          "label": "1"
         },
         {
          "X": -0.06426630914211273,
          "Y": 15.461872100830078,
          "label": "1"
         },
         {
          "X": -7.028479099273682,
          "Y": 3.5232086181640625,
          "label": "1"
         },
         {
          "X": 1.9732648134231567,
          "Y": -2.4323227405548096,
          "label": "1"
         },
         {
          "X": 7.302430629730225,
          "Y": 0.17059245705604553,
          "label": "1"
         },
         {
          "X": 24.451875686645508,
          "Y": 12.697564125061035,
          "label": "1"
         },
         {
          "X": 4.319746494293213,
          "Y": -23.167455673217773,
          "label": "1"
         },
         {
          "X": 11.95737075805664,
          "Y": 10.363787651062012,
          "label": "1"
         },
         {
          "X": -9.981990814208984,
          "Y": -20.278627395629883,
          "label": "1"
         },
         {
          "X": -15.110607147216797,
          "Y": -16.416397094726562,
          "label": "1"
         },
         {
          "X": -33.65370559692383,
          "Y": 13.939973831176758,
          "label": "1"
         },
         {
          "X": 1.8689589500427246,
          "Y": -57.133853912353516,
          "label": "1"
         },
         {
          "X": 34.8039436340332,
          "Y": 12.130979537963867,
          "label": "1"
         },
         {
          "X": 6.659214496612549,
          "Y": 13.981794357299805,
          "label": "1"
         },
         {
          "X": 3.7917280197143555,
          "Y": 56.46698760986328,
          "label": "1"
         },
         {
          "X": 2.366978406906128,
          "Y": 60.03809356689453,
          "label": "1"
         },
         {
          "X": -14.07667064666748,
          "Y": -3.034466505050659,
          "label": "1"
         },
         {
          "X": 12.104235649108887,
          "Y": 3.227621555328369,
          "label": "1"
         },
         {
          "X": -19.367294311523438,
          "Y": 1.2239463329315186,
          "label": "1"
         },
         {
          "X": -2.7103965282440186,
          "Y": -0.05199471116065979,
          "label": "1"
         },
         {
          "X": -12.867406845092773,
          "Y": 2.646465301513672,
          "label": "1"
         },
         {
          "X": -3.9212067127227783,
          "Y": -23.30998992919922,
          "label": "1"
         },
         {
          "X": -9.015093803405762,
          "Y": -7.058525562286377,
          "label": "1"
         },
         {
          "X": 122.97470092773438,
          "Y": 167.6031036376953,
          "label": "1"
         },
         {
          "X": -13.521790504455566,
          "Y": 12.812867164611816,
          "label": "1"
         },
         {
          "X": 1.0210611820220947,
          "Y": -7.583073616027832,
          "label": "5"
         },
         {
          "X": -14.37658977508545,
          "Y": -8.911279678344727,
          "label": "5"
         },
         {
          "X": 17.306779861450195,
          "Y": 6.4091691970825195,
          "label": "5"
         },
         {
          "X": -29.773704528808594,
          "Y": 35.60419845581055,
          "label": "5"
         },
         {
          "X": 0.1825340986251831,
          "Y": -40.43824005126953,
          "label": "5"
         },
         {
          "X": 28.935955047607422,
          "Y": -26.46703338623047,
          "label": "5"
         },
         {
          "X": 34.57014083862305,
          "Y": 2.0778138637542725,
          "label": "5"
         },
         {
          "X": 44.359527587890625,
          "Y": -11.103631019592285,
          "label": "2"
         },
         {
          "X": 84.09737396240234,
          "Y": -10.445113182067871,
          "label": "2"
         },
         {
          "X": 18.152986526489258,
          "Y": -0.5639913082122803,
          "label": "2"
         },
         {
          "X": 2.191006898880005,
          "Y": 9.510668754577637,
          "label": "2"
         },
         {
          "X": 4.704782962799072,
          "Y": -53.69232177734375,
          "label": "2"
         },
         {
          "X": -37.79764938354492,
          "Y": -6.462146759033203,
          "label": "2"
         },
         {
          "X": -28.583019256591797,
          "Y": -9.25003433227539,
          "label": "2"
         },
         {
          "X": -40.36267852783203,
          "Y": 25.040559768676758,
          "label": "2"
         },
         {
          "X": 30.873023986816406,
          "Y": -40.22945785522461,
          "label": "2"
         },
         {
          "X": -11.432377815246582,
          "Y": -38.21232986450195,
          "label": "2"
         },
         {
          "X": -32.888343811035156,
          "Y": -39.384368896484375,
          "label": "2"
         },
         {
          "X": -36.67788314819336,
          "Y": 4.031104564666748,
          "label": "2"
         },
         {
          "X": -47.747947692871094,
          "Y": -14.985156059265137,
          "label": "2"
         },
         {
          "X": -35.780704498291016,
          "Y": -17.31163215637207,
          "label": "2"
         },
         {
          "X": -13.504546165466309,
          "Y": 21.454238891601562,
          "label": "2"
         },
         {
          "X": 25.951316833496094,
          "Y": -5.579582214355469,
          "label": "2"
         },
         {
          "X": -12.440571784973145,
          "Y": -28.574811935424805,
          "label": "2"
         },
         {
          "X": -21.251434326171875,
          "Y": -34.079750061035156,
          "label": "2"
         },
         {
          "X": -21.503786087036133,
          "Y": 16.382688522338867,
          "label": "2"
         },
         {
          "X": 26.32335090637207,
          "Y": 32.20212173461914,
          "label": "2"
         },
         {
          "X": 20.07741355895996,
          "Y": -22.704914093017578,
          "label": "2"
         },
         {
          "X": 25.24190330505371,
          "Y": -14.647807121276855,
          "label": "2"
         },
         {
          "X": -0.7279261946678162,
          "Y": 67.19020080566406,
          "label": "2"
         },
         {
          "X": 3.0537967681884766,
          "Y": 30.929086685180664,
          "label": "2"
         },
         {
          "X": -28.33150291442871,
          "Y": 23.03114891052246,
          "label": "2"
         },
         {
          "X": 58.43775177001953,
          "Y": -8.447443008422852,
          "label": "2"
         },
         {
          "X": 6.845022678375244,
          "Y": 41.17921829223633,
          "label": "3"
         },
         {
          "X": 25.535268783569336,
          "Y": 3.834329605102539,
          "label": "3"
         },
         {
          "X": 34.75812911987305,
          "Y": -6.982907772064209,
          "label": "3"
         },
         {
          "X": -4.807039737701416,
          "Y": 39.65019607543945,
          "label": "3"
         },
         {
          "X": -25.93202018737793,
          "Y": 8.436203956604004,
          "label": "3"
         },
         {
          "X": 15.841228485107422,
          "Y": 35.8766975402832,
          "label": "3"
         },
         {
          "X": -25.948863983154297,
          "Y": -17.831323623657227,
          "label": "3"
         },
         {
          "X": 20.87380599975586,
          "Y": -34.29581069946289,
          "label": "3"
         },
         {
          "X": 34.302528381347656,
          "Y": -17.313701629638672,
          "label": "3"
         },
         {
          "X": 5.914311408996582,
          "Y": 22.344871520996094,
          "label": "3"
         },
         {
          "X": 40.6295280456543,
          "Y": -28.324787139892578,
          "label": "3"
         },
         {
          "X": -84.6135025024414,
          "Y": 21.050670623779297,
          "label": "3"
         },
         {
          "X": -16.88051986694336,
          "Y": 40.288639068603516,
          "label": "3"
         },
         {
          "X": 48.49858856201172,
          "Y": 37.355140686035156,
          "label": "3"
         },
         {
          "X": -3.994776964187622,
          "Y": -31.573944091796875,
          "label": "3"
         },
         {
          "X": -48.421485900878906,
          "Y": -0.8246945142745972,
          "label": "3"
         },
         {
          "X": -19.662370681762695,
          "Y": -23.838163375854492,
          "label": "4"
         },
         {
          "X": -41.57905197143555,
          "Y": -28.138418197631836,
          "label": "4"
         },
         {
          "X": 15.923150062561035,
          "Y": 17.318130493164062,
          "label": "4"
         },
         {
          "X": 45.53109359741211,
          "Y": 5.183681964874268,
          "label": "4"
         },
         {
          "X": -19.626907348632812,
          "Y": 28.570144653320312,
          "label": "4"
         },
         {
          "X": -8.41504955291748,
          "Y": -48.66651153564453,
          "label": "4"
         },
         {
          "X": -28.244661331176758,
          "Y": -0.27159643173217773,
          "label": "4"
         },
         {
          "X": 13.098251342773438,
          "Y": -28.889392852783203,
          "label": "4"
         },
         {
          "X": -21.01824188232422,
          "Y": -46.53593444824219,
          "label": "4"
         },
         {
          "X": 4.731515407562256,
          "Y": -31.590803146362305,
          "label": "4"
         },
         {
          "X": 10.714961051940918,
          "Y": -39.81492614746094,
          "label": "4"
         },
         {
          "X": -45.86514663696289,
          "Y": 12.423240661621094,
          "label": "4"
         },
         {
          "X": -29.514108657836914,
          "Y": -27.282629013061523,
          "label": "4"
         },
         {
          "X": -3.4049248695373535,
          "Y": 23.297910690307617,
          "label": "4"
         },
         {
          "X": 14.184231758117676,
          "Y": 25.75967788696289,
          "label": "4"
         },
         {
          "X": -9.12861442565918,
          "Y": 30.0448055267334,
          "label": "4"
         },
         {
          "X": 58.787322998046875,
          "Y": -5.429240703582764,
          "label": "4"
         },
         {
          "X": -7.104007244110107,
          "Y": 15.395116806030273,
          "label": "4"
         },
         {
          "X": 6.707400798797607,
          "Y": -5.270725250244141,
          "label": "4"
         },
         {
          "X": -19.713300704956055,
          "Y": -11.755080223083496,
          "label": "4"
         }
        ]
       },
       "encoding": {
        "color": {
         "field": "label",
         "type": "nominal"
        },
        "x": {
         "field": "X",
         "type": "quantitative"
        },
        "y": {
         "field": "Y",
         "type": "quantitative"
        }
       },
       "mark": {
        "size": 60,
        "type": "circle"
       },
       "selection": {
        "selector002": {
         "bind": "scales",
         "encodings": [
          "x",
          "y"
         ],
         "mark": {
          "fill": "#333",
          "fillOpacity": 0.125,
          "stroke": "white"
         },
         "on": "[mousedown, window:mouseup] > window:mousemove!",
         "resolve": "global",
         "translate": "[mousedown, window:mouseup] > window:mousemove!",
         "type": "interval",
         "zoom": "wheel!"
        }
       }
      },
      "image/png": "[encoded data removed]",
      "text/plain": [
       "<VegaLite 2 object>\n",
       "\n",
       "If you see this message, it means the renderer has not been properly enabled\n",
       "for the frontend that you are using. For more information, see\n",
       "https://altair-viz.github.io/user_guide/troubleshooting.html\n"
      ]
     },
     "metadata": {},
     "output_type": "display_data"
    },
    {
     "name": "stdout",
     "output_type": "stream",
     "text": [
      "Perplexity 30\n"
     ]
    },
    {
     "name": "stderr",
     "output_type": "stream",
     "text": [
      "/home/jfink/anaconda3/lib/python3.6/site-packages/sklearn/neighbors/base.py:371: RuntimeWarning: invalid value encountered in sqrt\n",
      "  result = np.sqrt(dist[sample_range, neigh_ind]), neigh_ind\n"
     ]
    },
    {
     "data": {
      "application/vnd.vegalite.v2+json": {
       "$schema": "https://vega.github.io/schema/vega-lite/v2.6.0.json",
       "config": {
        "view": {
         "height": 300,
         "width": 400
        }
       },
       "data": {
        "name": "data-9c231e17a9108b275e3e763b5f08dda2"
       },
       "datasets": {
        "data-9c231e17a9108b275e3e763b5f08dda2": [
         {
          "X": -2.8227906227111816,
          "Y": 2.14619779586792,
          "label": "1"
         },
         {
          "X": -3.1128554344177246,
          "Y": 2.4779906272888184,
          "label": "1"
         },
         {
          "X": -2.8073770999908447,
          "Y": 2.4512391090393066,
          "label": "1"
         },
         {
          "X": -3.062699556350708,
          "Y": 2.1321840286254883,
          "label": "1"
         },
         {
          "X": 3.1846020221710205,
          "Y": 0.7959049940109253,
          "label": "1"
         },
         {
          "X": -3.093287467956543,
          "Y": 2.3189992904663086,
          "label": "1"
         },
         {
          "X": -2.889615297317505,
          "Y": 2.1821789741516113,
          "label": "1"
         },
         {
          "X": -2.860354423522949,
          "Y": 2.402439832687378,
          "label": "1"
         },
         {
          "X": -3.1705985069274902,
          "Y": 2.2468438148498535,
          "label": "1"
         },
         {
          "X": -2.766361713409424,
          "Y": 2.366481065750122,
          "label": "1"
         },
         {
          "X": -2.9987289905548096,
          "Y": 2.4991941452026367,
          "label": "1"
         },
         {
          "X": -2.863576650619507,
          "Y": 2.100055456161499,
          "label": "1"
         },
         {
          "X": -2.9466588497161865,
          "Y": 2.3020734786987305,
          "label": "1"
         },
         {
          "X": -2.9466590881347656,
          "Y": 2.3020730018615723,
          "label": "1"
         },
         {
          "X": 3.2383129596710205,
          "Y": 0.8174131512641907,
          "label": "1"
         },
         {
          "X": 3.103212594985962,
          "Y": 0.7688770890235901,
          "label": "1"
         },
         {
          "X": -3.0934720039367676,
          "Y": 2.318943500518799,
          "label": "1"
         },
         {
          "X": -1.6245994567871094,
          "Y": -1.4645899534225464,
          "label": "1"
         },
         {
          "X": -2.8878092765808105,
          "Y": 2.182345151901245,
          "label": "1"
         },
         {
          "X": -2.8625316619873047,
          "Y": 2.403843402862549,
          "label": "1"
         },
         {
          "X": -0.28110435605049133,
          "Y": 3.1202123165130615,
          "label": "1"
         },
         {
          "X": 6.523488521575928,
          "Y": 0.9508724808692932,
          "label": "1"
         },
         {
          "X": -2.914522886276245,
          "Y": 2.294008493423462,
          "label": "1"
         },
         {
          "X": -2.987077474594116,
          "Y": 2.31241774559021,
          "label": "1"
         },
         {
          "X": -2.8255090713500977,
          "Y": 2.2699382305145264,
          "label": "1"
         },
         {
          "X": -3.017960786819458,
          "Y": 2.464360475540161,
          "label": "1"
         },
         {
          "X": -3.016099691390991,
          "Y": 2.180467367172241,
          "label": "1"
         },
         {
          "X": -1.621037483215332,
          "Y": -1.4620873928070068,
          "label": "1"
         },
         {
          "X": -5.731137275695801,
          "Y": -3.067437171936035,
          "label": "1"
         },
         {
          "X": -5.7622809410095215,
          "Y": -2.6498069763183594,
          "label": "1"
         },
         {
          "X": -6.214934349060059,
          "Y": -3.124324083328247,
          "label": "1"
         },
         {
          "X": -6.180950164794922,
          "Y": -2.5987179279327393,
          "label": "1"
         },
         {
          "X": -6.022854328155518,
          "Y": -2.5531797409057617,
          "label": "1"
         },
         {
          "X": -5.78102445602417,
          "Y": -3.1244053840637207,
          "label": "1"
         },
         {
          "X": -5.771275520324707,
          "Y": -2.718616485595703,
          "label": "1"
         },
         {
          "X": -6.341447353363037,
          "Y": -3.0367331504821777,
          "label": "1"
         },
         {
          "X": -5.75577974319458,
          "Y": -2.695221185684204,
          "label": "1"
         },
         {
          "X": -5.878161907196045,
          "Y": -3.1876635551452637,
          "label": "1"
         },
         {
          "X": -6.292792320251465,
          "Y": -3.035541534423828,
          "label": "1"
         },
         {
          "X": -6.222075939178467,
          "Y": -2.627951145172119,
          "label": "1"
         },
         {
          "X": 0.7339226007461548,
          "Y": 1.9240696430206299,
          "label": "1"
         },
         {
          "X": -0.07701782882213593,
          "Y": 0.19165916740894318,
          "label": "1"
         },
         {
          "X": -0.43300366401672363,
          "Y": 1.8515222072601318,
          "label": "1"
         },
         {
          "X": -6.100069522857666,
          "Y": -2.9047651290893555,
          "label": "1"
         },
         {
          "X": -1.5382006168365479,
          "Y": -1.4201241731643677,
          "label": "1"
         },
         {
          "X": -1.582773208618164,
          "Y": -1.4463857412338257,
          "label": "1"
         },
         {
          "X": -5.928613185882568,
          "Y": -3.0435798168182373,
          "label": "1"
         },
         {
          "X": -6.165245532989502,
          "Y": -2.7490508556365967,
          "label": "1"
         },
         {
          "X": -5.912878513336182,
          "Y": -2.5681889057159424,
          "label": "1"
         },
         {
          "X": -5.691184043884277,
          "Y": -2.9199929237365723,
          "label": "1"
         },
         {
          "X": -6.328415393829346,
          "Y": -2.7841765880584717,
          "label": "1"
         },
         {
          "X": -6.050899505615234,
          "Y": -3.217162609100342,
          "label": "1"
         },
         {
          "X": -5.7479376792907715,
          "Y": -2.956397771835327,
          "label": "1"
         },
         {
          "X": -35.83758544921875,
          "Y": -60.02033615112305,
          "label": "1"
         },
         {
          "X": -6.181424140930176,
          "Y": -2.6619393825531006,
          "label": "1"
         },
         {
          "X": -6.181988716125488,
          "Y": -3.1051292419433594,
          "label": "5"
         },
         {
          "X": -6.363149642944336,
          "Y": -2.8911941051483154,
          "label": "5"
         },
         {
          "X": -6.062078475952148,
          "Y": -3.2153398990631104,
          "label": "5"
         },
         {
          "X": -5.934402942657471,
          "Y": -2.5473146438598633,
          "label": "5"
         },
         {
          "X": -5.684475421905518,
          "Y": -2.9156908988952637,
          "label": "5"
         },
         {
          "X": 2.7825045585632324,
          "Y": -2.5852017402648926,
          "label": "5"
         },
         {
          "X": 2.211108446121216,
          "Y": -2.290174722671509,
          "label": "5"
         },
         {
          "X": 2.367868661880493,
          "Y": -2.849653482437134,
          "label": "2"
         },
         {
          "X": 6.641434669494629,
          "Y": 0.9507593512535095,
          "label": "2"
         },
         {
          "X": 2.580204725265503,
          "Y": -2.270378589630127,
          "label": "2"
         },
         {
          "X": 2.1421937942504883,
          "Y": -2.613697052001953,
          "label": "2"
         },
         {
          "X": -0.08876398205757141,
          "Y": 0.16685432195663452,
          "label": "2"
         },
         {
          "X": 2.640690565109253,
          "Y": -2.7960987091064453,
          "label": "2"
         },
         {
          "X": 2.3156378269195557,
          "Y": -2.888284683227539,
          "label": "2"
         },
         {
          "X": 2.779665470123291,
          "Y": -2.6656267642974854,
          "label": "2"
         },
         {
          "X": 2.5530128479003906,
          "Y": -2.2004387378692627,
          "label": "2"
         },
         {
          "X": 2.078927993774414,
          "Y": -2.4132840633392334,
          "label": "2"
         },
         {
          "X": 2.7717225551605225,
          "Y": -2.718909502029419,
          "label": "2"
         },
         {
          "X": 2.24436616897583,
          "Y": -2.8569655418395996,
          "label": "2"
         },
         {
          "X": 2.562988519668579,
          "Y": -2.207674741744995,
          "label": "2"
         },
         {
          "X": 2.1201348304748535,
          "Y": -2.3615074157714844,
          "label": "2"
         },
         {
          "X": 2.5052480697631836,
          "Y": -2.899327278137207,
          "label": "2"
         },
         {
          "X": 2.08597469329834,
          "Y": -2.643828868865967,
          "label": "2"
         },
         {
          "X": 2.782140016555786,
          "Y": -2.406524419784546,
          "label": "2"
         },
         {
          "X": 2.3172531127929688,
          "Y": -2.187981128692627,
          "label": "2"
         },
         {
          "X": 2.347182273864746,
          "Y": -2.1846272945404053,
          "label": "2"
         },
         {
          "X": 2.467646360397339,
          "Y": -2.9037654399871826,
          "label": "2"
         },
         {
          "X": 2.082031488418579,
          "Y": -2.6076531410217285,
          "label": "2"
         },
         {
          "X": 2.7900407314300537,
          "Y": -2.446756362915039,
          "label": "2"
         },
         {
          "X": -1.667496919631958,
          "Y": -1.4650262594223022,
          "label": "2"
         },
         {
          "X": 2.6413121223449707,
          "Y": -2.4532310962677,
          "label": "2"
         },
         {
          "X": 2.2085399627685547,
          "Y": -2.6192524433135986,
          "label": "2"
         },
         {
          "X": 1.4974045753479004,
          "Y": 0.6150117516517639,
          "label": "2"
         },
         {
          "X": 2.1500635147094727,
          "Y": -2.7808682918548584,
          "label": "3"
         },
         {
          "X": 2.6725032329559326,
          "Y": -2.819124698638916,
          "label": "3"
         },
         {
          "X": 2.1873395442962646,
          "Y": -2.281794309616089,
          "label": "3"
         },
         {
          "X": 2.6581192016601562,
          "Y": -2.259540557861328,
          "label": "3"
         },
         {
          "X": 2.33771014213562,
          "Y": 4.745959281921387,
          "label": "3"
         },
         {
          "X": 2.5545923709869385,
          "Y": 4.022003650665283,
          "label": "3"
         },
         {
          "X": 2.066110372543335,
          "Y": 4.293097972869873,
          "label": "3"
         },
         {
          "X": 2.8055531978607178,
          "Y": 4.46557092666626,
          "label": "3"
         },
         {
          "X": 2.7640483379364014,
          "Y": 4.32639741897583,
          "label": "3"
         },
         {
          "X": 2.3263533115386963,
          "Y": 4.6908698081970215,
          "label": "3"
         },
         {
          "X": 2.2379813194274902,
          "Y": 4.131617546081543,
          "label": "3"
         },
         {
          "X": -0.05976899340748787,
          "Y": 0.22719912230968475,
          "label": "3"
         },
         {
          "X": 2.4192850589752197,
          "Y": 4.05949592590332,
          "label": "3"
         },
         {
          "X": -0.2881498336791992,
          "Y": 3.1634342670440674,
          "label": "3"
         },
         {
          "X": 2.7355751991271973,
          "Y": 4.519674777984619,
          "label": "3"
         },
         {
          "X": 2.171783924102783,
          "Y": 4.5798797607421875,
          "label": "3"
         },
         {
          "X": 2.82722544670105,
          "Y": 4.342449188232422,
          "label": "4"
         },
         {
          "X": 2.4165234565734863,
          "Y": 4.002869606018066,
          "label": "4"
         },
         {
          "X": 2.0626022815704346,
          "Y": 4.426092147827148,
          "label": "4"
         },
         {
          "X": 2.466657876968384,
          "Y": 4.759096145629883,
          "label": "4"
         },
         {
          "X": 2.2293872833251953,
          "Y": 4.06984806060791,
          "label": "4"
         },
         {
          "X": 2.1247684955596924,
          "Y": 4.5940117835998535,
          "label": "4"
         },
         {
          "X": 2.650067090988159,
          "Y": 4.691552639007568,
          "label": "4"
         },
         {
          "X": 2.762880563735962,
          "Y": 4.174802780151367,
          "label": "4"
         },
         {
          "X": 2.125866651535034,
          "Y": 4.60251522064209,
          "label": "4"
         },
         {
          "X": 2.6502835750579834,
          "Y": 4.6902360916137695,
          "label": "4"
         },
         {
          "X": 2.224498987197876,
          "Y": 4.072659015655518,
          "label": "4"
         },
         {
          "X": 2.7614283561706543,
          "Y": 4.1675944328308105,
          "label": "4"
         },
         {
          "X": 2.0919902324676514,
          "Y": 4.231631278991699,
          "label": "4"
         },
         {
          "X": 2.7827253341674805,
          "Y": 4.530570983886719,
          "label": "4"
         },
         {
          "X": 2.2806036472320557,
          "Y": 4.723354816436768,
          "label": "4"
         },
         {
          "X": 2.6068382263183594,
          "Y": 4.041128158569336,
          "label": "4"
         },
         {
          "X": 1.7285962104797363,
          "Y": 1.3542225360870361,
          "label": "4"
         },
         {
          "X": 2.6014347076416016,
          "Y": 4.103421688079834,
          "label": "4"
         },
         {
          "X": 2.1108908653259277,
          "Y": 4.354583263397217,
          "label": "4"
         },
         {
          "X": 2.6395390033721924,
          "Y": 4.748039245605469,
          "label": "4"
         }
        ]
       },
       "encoding": {
        "color": {
         "field": "label",
         "type": "nominal"
        },
        "x": {
         "field": "X",
         "type": "quantitative"
        },
        "y": {
         "field": "Y",
         "type": "quantitative"
        }
       },
       "mark": {
        "size": 60,
        "type": "circle"
       },
       "selection": {
        "selector003": {
         "bind": "scales",
         "encodings": [
          "x",
          "y"
         ],
         "mark": {
          "fill": "#333",
          "fillOpacity": 0.125,
          "stroke": "white"
         },
         "on": "[mousedown, window:mouseup] > window:mousemove!",
         "resolve": "global",
         "translate": "[mousedown, window:mouseup] > window:mousemove!",
         "type": "interval",
         "zoom": "wheel!"
        }
       }
      },
      "image/png": "[encoded data removed]",
      "text/plain": [
       "<VegaLite 2 object>\n",
       "\n",
       "If you see this message, it means the renderer has not been properly enabled\n",
       "for the frontend that you are using. For more information, see\n",
       "https://altair-viz.github.io/user_guide/troubleshooting.html\n"
      ]
     },
     "metadata": {},
     "output_type": "display_data"
    },
    {
     "name": "stdout",
     "output_type": "stream",
     "text": [
      "Perplexity 35\n"
     ]
    },
    {
     "data": {
      "application/vnd.vegalite.v2+json": {
       "$schema": "https://vega.github.io/schema/vega-lite/v2.6.0.json",
       "config": {
        "view": {
         "height": 300,
         "width": 400
        }
       },
       "data": {
        "name": "data-79e90a990dccdaa54f2230f20b543120"
       },
       "datasets": {
        "data-79e90a990dccdaa54f2230f20b543120": [
         {
          "X": -1.2861939668655396,
          "Y": 0.3737472891807556,
          "label": "1"
         },
         {
          "X": -1.0981937646865845,
          "Y": 0.1165352314710617,
          "label": "1"
         },
         {
          "X": -1.5327155590057373,
          "Y": 0.17872215807437897,
          "label": "1"
         },
         {
          "X": -1.3529430627822876,
          "Y": -0.07421602308750153,
          "label": "1"
         },
         {
          "X": -1.7699183225631714,
          "Y": 3.212247371673584,
          "label": "1"
         },
         {
          "X": -1.1779738664627075,
          "Y": 0.2206687331199646,
          "label": "1"
         },
         {
          "X": -1.450184941291809,
          "Y": 0.2217758297920227,
          "label": "1"
         },
         {
          "X": -1.3169223070144653,
          "Y": -0.00048652058467268944,
          "label": "1"
         },
         {
          "X": -1.1888394355773926,
          "Y": -0.036788977682590485,
          "label": "1"
         },
         {
          "X": -1.144899606704712,
          "Y": 0.2874026894569397,
          "label": "1"
         },
         {
          "X": -1.489402174949646,
          "Y": 0.018344011157751083,
          "label": "1"
         },
         {
          "X": -1.4440995454788208,
          "Y": 0.32690316438674927,
          "label": "1"
         },
         {
          "X": -1.3118106126785278,
          "Y": 0.14557825028896332,
          "label": "1"
         },
         {
          "X": -1.3118103742599487,
          "Y": 0.14557808637619019,
          "label": "1"
         },
         {
          "X": -1.7586158514022827,
          "Y": 3.2359588146209717,
          "label": "1"
         },
         {
          "X": -1.7813384532928467,
          "Y": 3.185288906097412,
          "label": "1"
         },
         {
          "X": -1.3113899230957031,
          "Y": 0.28864362835884094,
          "label": "1"
         },
         {
          "X": 0.9311310052871704,
          "Y": -2.1372976303100586,
          "label": "1"
         },
         {
          "X": -1.4538731575012207,
          "Y": 0.07509496808052063,
          "label": "1"
         },
         {
          "X": -1.1774890422821045,
          "Y": 0.07904724776744843,
          "label": "1"
         },
         {
          "X": -4.421672344207764,
          "Y": 1.9920474290847778,
          "label": "1"
         },
         {
          "X": -8.63862419128418,
          "Y": 3.2699737548828125,
          "label": "1"
         },
         {
          "X": -1.312270998954773,
          "Y": 0.14563855528831482,
          "label": "1"
         },
         {
          "X": -1.3122742176055908,
          "Y": 0.14560207724571228,
          "label": "1"
         },
         {
          "X": -1.3727595806121826,
          "Y": 0.010461533442139626,
          "label": "1"
         },
         {
          "X": -1.3963314294815063,
          "Y": 0.2758622467517853,
          "label": "1"
         },
         {
          "X": -1.1703672409057617,
          "Y": 0.1546870470046997,
          "label": "1"
         },
         {
          "X": 0.9277979731559753,
          "Y": -2.143758773803711,
          "label": "1"
         },
         {
          "X": -4.650424480438232,
          "Y": 4.7747602462768555,
          "label": "1"
         },
         {
          "X": -4.09286642074585,
          "Y": 5.161489486694336,
          "label": "1"
         },
         {
          "X": -4.551456928253174,
          "Y": 5.280889511108398,
          "label": "1"
         },
         {
          "X": -4.207254886627197,
          "Y": 4.719183444976807,
          "label": "1"
         },
         {
          "X": -4.042544841766357,
          "Y": 5.023256778717041,
          "label": "1"
         },
         {
          "X": -4.39967679977417,
          "Y": 5.33052396774292,
          "label": "1"
         },
         {
          "X": -4.36221170425415,
          "Y": 4.669586181640625,
          "label": "1"
         },
         {
          "X": -4.699775218963623,
          "Y": 4.9208197593688965,
          "label": "1"
         },
         {
          "X": -4.088502407073975,
          "Y": 4.840987205505371,
          "label": "1"
         },
         {
          "X": -4.210050106048584,
          "Y": 5.278985023498535,
          "label": "1"
         },
         {
          "X": -4.566768646240234,
          "Y": 4.708750247955322,
          "label": "1"
         },
         {
          "X": -4.680856227874756,
          "Y": 5.168780326843262,
          "label": "1"
         },
         {
          "X": -3.4552018642425537,
          "Y": 1.3392592668533325,
          "label": "1"
         },
         {
          "X": 2.0720839500427246,
          "Y": 0.5447319746017456,
          "label": "1"
         },
         {
          "X": -3.1468520164489746,
          "Y": 2.3286471366882324,
          "label": "1"
         },
         {
          "X": -4.397375583648682,
          "Y": 5.047724723815918,
          "label": "1"
         },
         {
          "X": 0.8825973868370056,
          "Y": -2.0645203590393066,
          "label": "1"
         },
         {
          "X": 0.9123510718345642,
          "Y": -2.100944995880127,
          "label": "1"
         },
         {
          "X": -4.526558876037598,
          "Y": 5.130770683288574,
          "label": "1"
         },
         {
          "X": -4.241977214813232,
          "Y": 4.884521484375,
          "label": "1"
         },
         {
          "X": -4.387816905975342,
          "Y": 5.3254170417785645,
          "label": "1"
         },
         {
          "X": -4.70320463180542,
          "Y": 4.935993194580078,
          "label": "1"
         },
         {
          "X": -4.042963027954102,
          "Y": 5.015453338623047,
          "label": "1"
         },
         {
          "X": -4.3709611892700195,
          "Y": 4.668854713439941,
          "label": "1"
         },
         {
          "X": -4.135085582733154,
          "Y": 5.142945289611816,
          "label": "1"
         },
         {
          "X": 50.833160400390625,
          "Y": -60.726104736328125,
          "label": "1"
         },
         {
          "X": -4.629741668701172,
          "Y": 5.096982479095459,
          "label": "1"
         },
         {
          "X": -4.369180679321289,
          "Y": 4.710814952850342,
          "label": "5"
         },
         {
          "X": -4.559338569641113,
          "Y": 4.700531959533691,
          "label": "5"
         },
         {
          "X": -4.671070575714111,
          "Y": 5.170820236206055,
          "label": "5"
         },
         {
          "X": -4.103734493255615,
          "Y": 4.822011470794678,
          "label": "5"
         },
         {
          "X": -4.187215805053711,
          "Y": 5.261254787445068,
          "label": "5"
         },
         {
          "X": 1.1172610521316528,
          "Y": 4.250371932983398,
          "label": "5"
         },
         {
          "X": 1.662089467048645,
          "Y": 4.343291282653809,
          "label": "5"
         },
         {
          "X": 1.4865648746490479,
          "Y": 3.817845344543457,
          "label": "2"
         },
         {
          "X": -8.771963119506836,
          "Y": 3.3051655292510986,
          "label": "2"
         },
         {
          "X": 1.3425885438919067,
          "Y": 4.449484348297119,
          "label": "2"
         },
         {
          "X": 1.7242501974105835,
          "Y": 4.061074733734131,
          "label": "2"
         },
         {
          "X": 1.6244020462036133,
          "Y": 0.6889224648475647,
          "label": "2"
         },
         {
          "X": 1.2098846435546875,
          "Y": 3.9052634239196777,
          "label": "2"
         },
         {
          "X": 1.776329755783081,
          "Y": 4.179043769836426,
          "label": "2"
         },
         {
          "X": 1.038145899772644,
          "Y": 4.090075492858887,
          "label": "2"
         },
         {
          "X": 1.387869119644165,
          "Y": 4.5081787109375,
          "label": "2"
         },
         {
          "X": 1.4601774215698242,
          "Y": 3.761425018310547,
          "label": "2"
         },
         {
          "X": 1.186587929725647,
          "Y": 4.427152156829834,
          "label": "2"
         },
         {
          "X": 1.6935113668441772,
          "Y": 4.374638557434082,
          "label": "2"
         },
         {
          "X": 1.6499992609024048,
          "Y": 3.839088201522827,
          "label": "2"
         },
         {
          "X": 1.147363305091858,
          "Y": 3.9031217098236084,
          "label": "2"
         },
         {
          "X": 1.75148606300354,
          "Y": 3.976980209350586,
          "label": "2"
         },
         {
          "X": 1.2735024690628052,
          "Y": 3.8068320751190186,
          "label": "2"
         },
         {
          "X": 1.073020100593567,
          "Y": 4.272247791290283,
          "label": "2"
         },
         {
          "X": 1.5767241716384888,
          "Y": 4.493259429931641,
          "label": "2"
         },
         {
          "X": 1.171217679977417,
          "Y": 3.8703231811523438,
          "label": "2"
         },
         {
          "X": 1.670539379119873,
          "Y": 3.848999500274658,
          "label": "2"
         },
         {
          "X": 1.1637455224990845,
          "Y": 4.400801181793213,
          "label": "2"
         },
         {
          "X": 1.6665719747543335,
          "Y": 4.438072681427002,
          "label": "2"
         },
         {
          "X": 0.9307237863540649,
          "Y": -2.1422410011291504,
          "label": "2"
         },
         {
          "X": 1.6475389003753662,
          "Y": 4.042300701141357,
          "label": "2"
         },
         {
          "X": 1.2000617980957031,
          "Y": 4.25405216217041,
          "label": "2"
         },
         {
          "X": -2.85264253616333,
          "Y": -2.400655746459961,
          "label": "2"
         },
         {
          "X": 1.7770235538482666,
          "Y": 4.183295249938965,
          "label": "3"
         },
         {
          "X": 1.3827461004257202,
          "Y": 4.510298252105713,
          "label": "3"
         },
         {
          "X": 1.0406832695007324,
          "Y": 4.082805633544922,
          "label": "3"
         },
         {
          "X": 1.457160234451294,
          "Y": 3.7622721195220947,
          "label": "3"
         },
         {
          "X": -6.145145893096924,
          "Y": -0.537784218788147,
          "label": "3"
         },
         {
          "X": -5.599151134490967,
          "Y": -0.6409807205200195,
          "label": "3"
         },
         {
          "X": -5.6872687339782715,
          "Y": -1.1768020391464233,
          "label": "3"
         },
         {
          "X": -6.2266340255737305,
          "Y": -1.085202932357788,
          "label": "3"
         },
         {
          "X": -5.848930358886719,
          "Y": -0.5398585796356201,
          "label": "3"
         },
         {
          "X": -5.664148807525635,
          "Y": -1.0861539840698242,
          "label": "3"
         },
         {
          "X": -6.235589981079102,
          "Y": -0.9647946357727051,
          "label": "3"
         },
         {
          "X": 1.9060806035995483,
          "Y": 0.5269200205802917,
          "label": "3"
         },
         {
          "X": -6.04774284362793,
          "Y": -0.54793781042099,
          "label": "3"
         },
         {
          "X": -4.467657089233398,
          "Y": 1.9840222597122192,
          "label": "3"
         },
         {
          "X": -6.115688800811768,
          "Y": -1.1452075242996216,
          "label": "3"
         },
         {
          "X": -5.582685947418213,
          "Y": -0.8964632153511047,
          "label": "3"
         },
         {
          "X": -5.536942481994629,
          "Y": -0.8734222054481506,
          "label": "4"
         },
         {
          "X": -6.3032708168029785,
          "Y": -0.8569493889808655,
          "label": "4"
         },
         {
          "X": -5.904131889343262,
          "Y": -1.2494808435440063,
          "label": "4"
         },
         {
          "X": -5.911025524139404,
          "Y": -0.47048380970954895,
          "label": "4"
         },
         {
          "X": -5.616245269775391,
          "Y": -1.1095216274261475,
          "label": "4"
         },
         {
          "X": -5.671672344207764,
          "Y": -0.56192547082901,
          "label": "4"
         },
         {
          "X": -6.21571159362793,
          "Y": -0.5990811586380005,
          "label": "4"
         },
         {
          "X": -6.145919322967529,
          "Y": -1.1756671667099,
          "label": "4"
         },
         {
          "X": -5.547600269317627,
          "Y": -0.983374834060669,
          "label": "4"
         },
         {
          "X": -6.284537315368652,
          "Y": -0.7545263171195984,
          "label": "4"
         },
         {
          "X": -6.012997150421143,
          "Y": -1.2372021675109863,
          "label": "4"
         },
         {
          "X": -5.818027496337891,
          "Y": -0.47891560196876526,
          "label": "4"
         },
         {
          "X": -5.79362154006958,
          "Y": -1.2408447265625,
          "label": "4"
         },
         {
          "X": -5.552104473114014,
          "Y": -0.7401073575019836,
          "label": "4"
         },
         {
          "X": -6.037782669067383,
          "Y": -0.4814646542072296,
          "label": "4"
         },
         {
          "X": -6.27418851852417,
          "Y": -0.977777361869812,
          "label": "4"
         },
         {
          "X": -2.8544416427612305,
          "Y": -2.389474391937256,
          "label": "4"
         },
         {
          "X": -5.865509986877441,
          "Y": -1.2002875804901123,
          "label": "4"
         },
         {
          "X": -5.658520221710205,
          "Y": -0.6533022522926331,
          "label": "4"
         },
         {
          "X": -6.235176086425781,
          "Y": -0.7311941385269165,
          "label": "4"
         }
        ]
       },
       "encoding": {
        "color": {
         "field": "label",
         "type": "nominal"
        },
        "x": {
         "field": "X",
         "type": "quantitative"
        },
        "y": {
         "field": "Y",
         "type": "quantitative"
        }
       },
       "mark": {
        "size": 60,
        "type": "circle"
       },
       "selection": {
        "selector004": {
         "bind": "scales",
         "encodings": [
          "x",
          "y"
         ],
         "mark": {
          "fill": "#333",
          "fillOpacity": 0.125,
          "stroke": "white"
         },
         "on": "[mousedown, window:mouseup] > window:mousemove!",
         "resolve": "global",
         "translate": "[mousedown, window:mouseup] > window:mousemove!",
         "type": "interval",
         "zoom": "wheel!"
        }
       }
      },
      "image/png": "[encoded data removed]",
      "text/plain": [
       "<VegaLite 2 object>\n",
       "\n",
       "If you see this message, it means the renderer has not been properly enabled\n",
       "for the frontend that you are using. For more information, see\n",
       "https://altair-viz.github.io/user_guide/troubleshooting.html\n"
      ]
     },
     "metadata": {},
     "output_type": "display_data"
    },
    {
     "name": "stdout",
     "output_type": "stream",
     "text": [
      "Perplexity 40\n"
     ]
    },
    {
     "data": {
      "application/vnd.vegalite.v2+json": {
       "$schema": "https://vega.github.io/schema/vega-lite/v2.6.0.json",
       "config": {
        "view": {
         "height": 300,
         "width": 400
        }
       },
       "data": {
        "name": "data-e556a92bcc605f07d3d117ebac0c9324"
       },
       "datasets": {
        "data-e556a92bcc605f07d3d117ebac0c9324": [
         {
          "X": -2.027495861053467,
          "Y": 0.6554763913154602,
          "label": "1"
         },
         {
          "X": -1.9500715732574463,
          "Y": 0.351929634809494,
          "label": "1"
         },
         {
          "X": -2.152620792388916,
          "Y": 0.4928112030029297,
          "label": "1"
         },
         {
          "X": -1.835269808769226,
          "Y": 0.5182827115058899,
          "label": "1"
         },
         {
          "X": 2.6429967880249023,
          "Y": -0.9621467590332031,
          "label": "1"
         },
         {
          "X": -1.9290599822998047,
          "Y": 0.5158912539482117,
          "label": "1"
         },
         {
          "X": -2.065835952758789,
          "Y": 0.5317227244377136,
          "label": "1"
         },
         {
          "X": -1.985337257385254,
          "Y": 0.46277308464050293,
          "label": "1"
         },
         {
          "X": -2.0278496742248535,
          "Y": 0.6552967429161072,
          "label": "1"
         },
         {
          "X": -1.9511263370513916,
          "Y": 0.3516753315925598,
          "label": "1"
         },
         {
          "X": -2.1508002281188965,
          "Y": 0.4957234561443329,
          "label": "1"
         },
         {
          "X": -1.8371801376342773,
          "Y": 0.5149388909339905,
          "label": "1"
         },
         {
          "X": -1.9989749193191528,
          "Y": 0.5026688575744629,
          "label": "1"
         },
         {
          "X": -1.9989748001098633,
          "Y": 0.5026689171791077,
          "label": "1"
         },
         {
          "X": 2.725529432296753,
          "Y": -1.023084044456482,
          "label": "1"
         },
         {
          "X": 2.533848762512207,
          "Y": -0.8772464990615845,
          "label": "1"
         },
         {
          "X": -2.0085527896881104,
          "Y": 0.46187397837638855,
          "label": "1"
         },
         {
          "X": -2.910287618637085,
          "Y": -2.5176620483398438,
          "label": "1"
         },
         {
          "X": -1.9205182790756226,
          "Y": 0.5070816278457642,
          "label": "1"
         },
         {
          "X": -2.0527541637420654,
          "Y": 0.5420527458190918,
          "label": "1"
         },
         {
          "X": 1.2259045839309692,
          "Y": 0.12701484560966492,
          "label": "1"
         },
         {
          "X": -4.611407279968262,
          "Y": 3.2812535762786865,
          "label": "1"
         },
         {
          "X": -1.9984606504440308,
          "Y": 0.504892885684967,
          "label": "1"
         },
         {
          "X": -1.9992830753326416,
          "Y": 0.5011789798736572,
          "label": "1"
         },
         {
          "X": -1.9756430387496948,
          "Y": 0.46112754940986633,
          "label": "1"
         },
         {
          "X": -2.0696229934692383,
          "Y": 0.5290684103965759,
          "label": "1"
         },
         {
          "X": -1.9344161748886108,
          "Y": 0.5204887986183167,
          "label": "1"
         },
         {
          "X": -2.908280611038208,
          "Y": -2.5175254344940186,
          "label": "1"
         },
         {
          "X": -0.48955127596855164,
          "Y": 3.8853836059570312,
          "label": "1"
         },
         {
          "X": -0.1868741512298584,
          "Y": 3.6492395401000977,
          "label": "1"
         },
         {
          "X": 0.09043189883232117,
          "Y": 3.9484548568725586,
          "label": "1"
         },
         {
          "X": -0.2383325845003128,
          "Y": 4.20478630065918,
          "label": "1"
         },
         {
          "X": -0.08331742882728577,
          "Y": 3.6799545288085938,
          "label": "1"
         },
         {
          "X": 0.04829386621713638,
          "Y": 4.045047760009766,
          "label": "1"
         },
         {
          "X": -0.3351752460002899,
          "Y": 4.1747026443481445,
          "label": "1"
         },
         {
          "X": -0.45300984382629395,
          "Y": 3.789402961730957,
          "label": "1"
         },
         {
          "X": -0.007684899028390646,
          "Y": 4.125840187072754,
          "label": "1"
         },
         {
          "X": 0.0015570307150483131,
          "Y": 3.740875005722046,
          "label": "1"
         },
         {
          "X": -0.3893851041793823,
          "Y": 3.713996171951294,
          "label": "1"
         },
         {
          "X": -0.41480734944343567,
          "Y": 4.115118980407715,
          "label": "1"
         },
         {
          "X": 1.458791971206665,
          "Y": 1.9226412773132324,
          "label": "1"
         },
         {
          "X": 0.5168635845184326,
          "Y": 1.2467886209487915,
          "label": "1"
         },
         {
          "X": 0.3517811596393585,
          "Y": -0.1038421243429184,
          "label": "1"
         },
         {
          "X": -0.20908872783184052,
          "Y": 3.9550364017486572,
          "label": "1"
         },
         {
          "X": -2.8308212757110596,
          "Y": -2.4553117752075195,
          "label": "1"
         },
         {
          "X": -2.8736095428466797,
          "Y": -2.4960434436798096,
          "label": "1"
         },
         {
          "X": -0.3633158504962921,
          "Y": 3.9494686126708984,
          "label": "1"
         },
         {
          "X": -0.048231497406959534,
          "Y": 3.922569513320923,
          "label": "1"
         },
         {
          "X": -0.24209167063236237,
          "Y": 3.6487081050872803,
          "label": "1"
         },
         {
          "X": 0.08766219764947891,
          "Y": 3.882758855819702,
          "label": "1"
         },
         {
          "X": -0.1667066067457199,
          "Y": 4.203819751739502,
          "label": "1"
         },
         {
          "X": -0.4902012050151825,
          "Y": 3.949880599975586,
          "label": "1"
         },
         {
          "X": -0.43892595171928406,
          "Y": 3.900437593460083,
          "label": "1"
         },
         {
          "X": -31.583547592163086,
          "Y": 65.26409912109375,
          "label": "1"
         },
         {
          "X": -0.07251252979040146,
          "Y": 3.738490343093872,
          "label": "1"
         },
         {
          "X": -0.10645871609449387,
          "Y": 4.139034271240234,
          "label": "5"
         },
         {
          "X": -0.46135810017585754,
          "Y": 4.053627967834473,
          "label": "5"
         },
         {
          "X": 0.04671383276581764,
          "Y": 3.7790701389312744,
          "label": "5"
         },
         {
          "X": -0.32628682255744934,
          "Y": 3.67741060256958,
          "label": "5"
         },
         {
          "X": -0.07658244669437408,
          "Y": 4.177874565124512,
          "label": "5"
         },
         {
          "X": 0.4596412181854248,
          "Y": -2.6653358936309814,
          "label": "5"
         },
         {
          "X": 0.7799068093299866,
          "Y": -3.001495838165283,
          "label": "5"
         },
         {
          "X": 0.8917748928070068,
          "Y": -2.542048931121826,
          "label": "2"
         },
         {
          "X": -4.773427963256836,
          "Y": 3.3500115871429443,
          "label": "2"
         },
         {
          "X": 0.6873942613601685,
          "Y": -2.4671967029571533,
          "label": "2"
         },
         {
          "X": 0.9621607065200806,
          "Y": -2.888974905014038,
          "label": "2"
         },
         {
          "X": 0.4980768859386444,
          "Y": 1.2366503477096558,
          "label": "2"
         },
         {
          "X": 0.4903296232223511,
          "Y": -2.897146224975586,
          "label": "2"
         },
         {
          "X": 0.5160518884658813,
          "Y": -3.0008790493011475,
          "label": "2"
         },
         {
          "X": 0.9681272506713867,
          "Y": -2.951590061187744,
          "label": "2"
         },
         {
          "X": 0.8962947726249695,
          "Y": -2.4847073554992676,
          "label": "2"
         },
         {
          "X": 0.4658806622028351,
          "Y": -2.53139328956604,
          "label": "2"
         },
         {
          "X": 0.5260440111160278,
          "Y": -3.005976676940918,
          "label": "2"
         },
         {
          "X": 0.8859352469444275,
          "Y": -2.4779052734375,
          "label": "2"
         },
         {
          "X": 0.4593249559402466,
          "Y": -2.5370538234710693,
          "label": "2"
         },
         {
          "X": 0.9773817658424377,
          "Y": -2.9432339668273926,
          "label": "2"
         },
         {
          "X": 0.3857869505882263,
          "Y": -2.748112916946411,
          "label": "2"
         },
         {
          "X": 1.0462208986282349,
          "Y": -2.744553565979004,
          "label": "2"
         },
         {
          "X": 0.6858593821525574,
          "Y": -2.423072338104248,
          "label": "2"
         },
         {
          "X": 0.7219520211219788,
          "Y": -3.0538346767425537,
          "label": "2"
         },
         {
          "X": 0.6949926018714905,
          "Y": -3.0581064224243164,
          "label": "2"
         },
         {
          "X": 0.7118315100669861,
          "Y": -2.422347068786621,
          "label": "2"
         },
         {
          "X": 0.388297975063324,
          "Y": -2.7166590690612793,
          "label": "2"
         },
         {
          "X": 1.0475538969039917,
          "Y": -2.764528512954712,
          "label": "2"
         },
         {
          "X": -2.912503242492676,
          "Y": -2.5218522548675537,
          "label": "2"
         },
         {
          "X": 0.9046686291694641,
          "Y": -2.714277505874634,
          "label": "2"
         },
         {
          "X": 0.5128355026245117,
          "Y": -2.775754690170288,
          "label": "2"
         },
         {
          "X": 2.9577832221984863,
          "Y": 4.394429683685303,
          "label": "2"
         },
         {
          "X": 0.9888139963150024,
          "Y": -2.583437919616699,
          "label": "3"
         },
         {
          "X": 0.8812611699104309,
          "Y": -3.021728515625,
          "label": "3"
         },
         {
          "X": 0.4329836964607239,
          "Y": -2.9111461639404297,
          "label": "3"
         },
         {
          "X": 0.547553300857544,
          "Y": -2.4631426334381104,
          "label": "3"
         },
         {
          "X": 4.133357048034668,
          "Y": 1.1071159839630127,
          "label": "3"
         },
         {
          "X": 4.105107307434082,
          "Y": 1.6204938888549805,
          "label": "3"
         },
         {
          "X": 3.632361888885498,
          "Y": 1.5904299020767212,
          "label": "3"
         },
         {
          "X": 3.6585640907287598,
          "Y": 1.1055091619491577,
          "label": "3"
         },
         {
          "X": 3.9951205253601074,
          "Y": 1.0775469541549683,
          "label": "3"
         },
         {
          "X": 3.600458860397339,
          "Y": 1.4022281169891357,
          "label": "3"
         },
         {
          "X": 4.0772576332092285,
          "Y": 1.5814344882965088,
          "label": "3"
         },
         {
          "X": 0.537472128868103,
          "Y": 1.2595887184143066,
          "label": "3"
         },
         {
          "X": 3.6993987560272217,
          "Y": 1.5778071880340576,
          "label": "3"
         },
         {
          "X": 1.2504624128341675,
          "Y": 0.12942951917648315,
          "label": "3"
         },
         {
          "X": 4.176187038421631,
          "Y": 1.3904285430908203,
          "label": "3"
         },
         {
          "X": 3.7713489532470703,
          "Y": 1.0823546648025513,
          "label": "3"
         },
         {
          "X": 3.5502543449401855,
          "Y": 1.3124439716339111,
          "label": "4"
         },
         {
          "X": 4.222006797790527,
          "Y": 1.4155828952789307,
          "label": "4"
         },
         {
          "X": 3.8170278072357178,
          "Y": 1.6802011728286743,
          "label": "4"
         },
         {
          "X": 3.9415605068206787,
          "Y": 1.0166852474212646,
          "label": "4"
         },
         {
          "X": 3.6584341526031494,
          "Y": 1.612298607826233,
          "label": "4"
         },
         {
          "X": 3.631580114364624,
          "Y": 1.126814842224121,
          "label": "4"
         },
         {
          "X": 4.134322643280029,
          "Y": 1.591068983078003,
          "label": "4"
         },
         {
          "X": 4.113795280456543,
          "Y": 1.0788114070892334,
          "label": "4"
         },
         {
          "X": 3.5676450729370117,
          "Y": 1.4647060632705688,
          "label": "4"
         },
         {
          "X": 3.7798893451690674,
          "Y": 1.0233193635940552,
          "label": "4"
         },
         {
          "X": 3.9868931770324707,
          "Y": 1.6863926649093628,
          "label": "4"
         },
         {
          "X": 4.203233242034912,
          "Y": 1.2289478778839111,
          "label": "4"
         },
         {
          "X": 3.9839024543762207,
          "Y": 1.0291682481765747,
          "label": "4"
         },
         {
          "X": 3.5657193660736084,
          "Y": 1.2573919296264648,
          "label": "4"
         },
         {
          "X": 4.202377796173096,
          "Y": 1.4610321521759033,
          "label": "4"
         },
         {
          "X": 3.7735350131988525,
          "Y": 1.6636515855789185,
          "label": "4"
         },
         {
          "X": 2.7430903911590576,
          "Y": 4.322907447814941,
          "label": "4"
         },
         {
          "X": 4.137971878051758,
          "Y": 1.1718356609344482,
          "label": "4"
         },
         {
          "X": 3.909428119659424,
          "Y": 1.63289475440979,
          "label": "4"
         },
         {
          "X": 3.619051218032837,
          "Y": 1.2387657165527344,
          "label": "4"
         }
        ]
       },
       "encoding": {
        "color": {
         "field": "label",
         "type": "nominal"
        },
        "x": {
         "field": "X",
         "type": "quantitative"
        },
        "y": {
         "field": "Y",
         "type": "quantitative"
        }
       },
       "mark": {
        "size": 60,
        "type": "circle"
       },
       "selection": {
        "selector005": {
         "bind": "scales",
         "encodings": [
          "x",
          "y"
         ],
         "mark": {
          "fill": "#333",
          "fillOpacity": 0.125,
          "stroke": "white"
         },
         "on": "[mousedown, window:mouseup] > window:mousemove!",
         "resolve": "global",
         "translate": "[mousedown, window:mouseup] > window:mousemove!",
         "type": "interval",
         "zoom": "wheel!"
        }
       }
      },
      "image/png": "[encoded data removed]",
      "text/plain": [
       "<VegaLite 2 object>\n",
       "\n",
       "If you see this message, it means the renderer has not been properly enabled\n",
       "for the frontend that you are using. For more information, see\n",
       "https://altair-viz.github.io/user_guide/troubleshooting.html\n"
      ]
     },
     "metadata": {},
     "output_type": "display_data"
    },
    {
     "name": "stdout",
     "output_type": "stream",
     "text": [
      "Perplexity 45\n"
     ]
    },
    {
     "data": {
      "application/vnd.vegalite.v2+json": {
       "$schema": "https://vega.github.io/schema/vega-lite/v2.6.0.json",
       "config": {
        "view": {
         "height": 300,
         "width": 400
        }
       },
       "data": {
        "name": "data-d79945e66442d5c0ddb9a17c33f6055e"
       },
       "datasets": {
        "data-d79945e66442d5c0ddb9a17c33f6055e": [
         {
          "X": -0.4633947014808655,
          "Y": 1.4969396591186523,
          "label": "1"
         },
         {
          "X": -0.425030380487442,
          "Y": 1.421937346458435,
          "label": "1"
         },
         {
          "X": -0.599688708782196,
          "Y": 1.3743573427200317,
          "label": "1"
         },
         {
          "X": -0.5988136529922485,
          "Y": 1.3752858638763428,
          "label": "1"
         },
         {
          "X": -0.9335383772850037,
          "Y": -2.748375654220581,
          "label": "1"
         },
         {
          "X": -0.5200147032737732,
          "Y": 1.4205611944198608,
          "label": "1"
         },
         {
          "X": -0.5200148820877075,
          "Y": 1.4205607175827026,
          "label": "1"
         },
         {
          "X": -0.5200144052505493,
          "Y": 1.4205615520477295,
          "label": "1"
         },
         {
          "X": -0.598077118396759,
          "Y": 1.3701975345611572,
          "label": "1"
         },
         {
          "X": -0.4601151645183563,
          "Y": 1.4943956136703491,
          "label": "1"
         },
         {
          "X": -0.42604291439056396,
          "Y": 1.423462986946106,
          "label": "1"
         },
         {
          "X": -0.6024980545043945,
          "Y": 1.3804646730422974,
          "label": "1"
         },
         {
          "X": -0.5177745819091797,
          "Y": 1.4244779348373413,
          "label": "1"
         },
         {
          "X": -0.5177749395370483,
          "Y": 1.4244780540466309,
          "label": "1"
         },
         {
          "X": -0.9007901549339294,
          "Y": -2.8505818843841553,
          "label": "1"
         },
         {
          "X": -0.982803225517273,
          "Y": -2.596968650817871,
          "label": "1"
         },
         {
          "X": -0.5202988386154175,
          "Y": 1.420560359954834,
          "label": "1"
         },
         {
          "X": -2.406183958053589,
          "Y": 3.694417715072632,
          "label": "1"
         },
         {
          "X": -0.5202987790107727,
          "Y": 1.4205608367919922,
          "label": "1"
         },
         {
          "X": -0.5202984809875488,
          "Y": 1.4205608367919922,
          "label": "1"
         },
         {
          "X": -2.5146994590759277,
          "Y": -0.8185531497001648,
          "label": "1"
         },
         {
          "X": 2.9429423809051514,
          "Y": 2.195544958114624,
          "label": "1"
         },
         {
          "X": -0.5179616808891296,
          "Y": 1.4244849681854248,
          "label": "1"
         },
         {
          "X": -0.5179617404937744,
          "Y": 1.4244849681854248,
          "label": "1"
         },
         {
          "X": -0.5202223658561707,
          "Y": 1.4205626249313354,
          "label": "1"
         },
         {
          "X": -0.5202221870422363,
          "Y": 1.4205628633499146,
          "label": "1"
         },
         {
          "X": -0.5202223062515259,
          "Y": 1.4205623865127563,
          "label": "1"
         },
         {
          "X": -2.4100043773651123,
          "Y": 3.691162109375,
          "label": "1"
         },
         {
          "X": -3.001038074493408,
          "Y": -3.151545763015747,
          "label": "1"
         },
         {
          "X": -3.0112359523773193,
          "Y": -2.8073182106018066,
          "label": "1"
         },
         {
          "X": -3.380622625350952,
          "Y": -3.1397995948791504,
          "label": "1"
         },
         {
          "X": -3.349184036254883,
          "Y": -2.7871315479278564,
          "label": "1"
         },
         {
          "X": -3.0371670722961426,
          "Y": -3.195159912109375,
          "label": "1"
         },
         {
          "X": -3.4207706451416016,
          "Y": -3.0810344219207764,
          "label": "1"
         },
         {
          "X": -3.301753282546997,
          "Y": -2.7563562393188477,
          "label": "1"
         },
         {
          "X": -2.9762754440307617,
          "Y": -2.8571979999542236,
          "label": "1"
         },
         {
          "X": -2.958293914794922,
          "Y": -3.090529203414917,
          "label": "1"
         },
         {
          "X": -3.306145429611206,
          "Y": -3.1956253051757812,
          "label": "1"
         },
         {
          "X": -3.402280807495117,
          "Y": -2.84604811668396,
          "label": "1"
         },
         {
          "X": -3.07468581199646,
          "Y": -2.7607572078704834,
          "label": "1"
         },
         {
          "X": -2.0787906646728516,
          "Y": 0.19511304795742035,
          "label": "1"
         },
         {
          "X": -1.2330509424209595,
          "Y": -0.9508551359176636,
          "label": "1"
         },
         {
          "X": -2.0232837200164795,
          "Y": -0.3832411766052246,
          "label": "1"
         },
         {
          "X": -3.1961820125579834,
          "Y": -2.9957118034362793,
          "label": "1"
         },
         {
          "X": -2.4000494480133057,
          "Y": 3.5850794315338135,
          "label": "1"
         },
         {
          "X": -2.404085397720337,
          "Y": 3.6540846824645996,
          "label": "1"
         },
         {
          "X": -3.112543821334839,
          "Y": -3.070530414581299,
          "label": "1"
         },
         {
          "X": -3.268148899078369,
          "Y": -2.8938262462615967,
          "label": "1"
         },
         {
          "X": -2.930905818939209,
          "Y": -2.9793496131896973,
          "label": "1"
         },
         {
          "X": -3.440990447998047,
          "Y": -2.962494134902954,
          "label": "1"
         },
         {
          "X": -3.187131404876709,
          "Y": -2.729936122894287,
          "label": "1"
         },
         {
          "X": -3.178804636001587,
          "Y": -3.2250421047210693,
          "label": "1"
         },
         {
          "X": -3.1184730529785156,
          "Y": -3.1585206985473633,
          "label": "1"
         },
         {
          "X": 49.4322395324707,
          "Y": 23.422454833984375,
          "label": "1"
         },
         {
          "X": -3.062222480773926,
          "Y": -2.82882022857666,
          "label": "1"
         },
         {
          "X": -3.3849222660064697,
          "Y": -2.938143014907837,
          "label": "5"
         },
         {
          "X": -2.9487245082855225,
          "Y": -3.069941520690918,
          "label": "5"
         },
         {
          "X": -3.09531569480896,
          "Y": -2.7512476444244385,
          "label": "5"
         },
         {
          "X": -3.4133167266845703,
          "Y": -2.867232322692871,
          "label": "5"
         },
         {
          "X": -3.2856099605560303,
          "Y": -3.205446243286133,
          "label": "5"
         },
         {
          "X": 0.899172842502594,
          "Y": -1.6469289064407349,
          "label": "5"
         },
         {
          "X": 1.2679368257522583,
          "Y": -1.8408950567245483,
          "label": "5"
         },
         {
          "X": 1.2398396730422974,
          "Y": -1.4027040004730225,
          "label": "2"
         },
         {
          "X": 3.1233654022216797,
          "Y": 2.319660186767578,
          "label": "2"
         },
         {
          "X": 0.9698196649551392,
          "Y": -1.4553674459457397,
          "label": "2"
         },
         {
          "X": 1.370266318321228,
          "Y": -1.5593736171722412,
          "label": "2"
         },
         {
          "X": -1.235365629196167,
          "Y": -0.9218193888664246,
          "label": "2"
         },
         {
          "X": 1.0661516189575195,
          "Y": -1.8718183040618896,
          "label": "2"
         },
         {
          "X": 1.2506836652755737,
          "Y": -1.8975108861923218,
          "label": "2"
         },
         {
          "X": 1.3813438415527344,
          "Y": -1.4724820852279663,
          "label": "2"
         },
         {
          "X": 0.8802546858787537,
          "Y": -1.7770432233810425,
          "label": "2"
         },
         {
          "X": 1.012988805770874,
          "Y": -1.3657053709030151,
          "label": "2"
         },
         {
          "X": 1.4280422925949097,
          "Y": -1.6328397989273071,
          "label": "2"
         },
         {
          "X": 1.1046432256698608,
          "Y": -1.9269472360610962,
          "label": "2"
         },
         {
          "X": 1.164000153541565,
          "Y": -1.3387089967727661,
          "label": "2"
         },
         {
          "X": 0.8561986684799194,
          "Y": -1.6140493154525757,
          "label": "2"
         },
         {
          "X": 0.9297916293144226,
          "Y": -1.4347045421600342,
          "label": "2"
         },
         {
          "X": 1.3387563228607178,
          "Y": -1.8397339582443237,
          "label": "2"
         },
         {
          "X": 0.9511546492576599,
          "Y": -1.8590742349624634,
          "label": "2"
         },
         {
          "X": 1.3157176971435547,
          "Y": -1.3969182968139648,
          "label": "2"
         },
         {
          "X": 1.401733160018921,
          "Y": -1.7293107509613037,
          "label": "2"
         },
         {
          "X": 1.2336328029632568,
          "Y": -1.3478927612304688,
          "label": "2"
         },
         {
          "X": 0.8697599768638611,
          "Y": -1.536539912223816,
          "label": "2"
         },
         {
          "X": 1.0316842794418335,
          "Y": -1.9071934223175049,
          "label": "2"
         },
         {
          "X": -2.407521963119507,
          "Y": 3.6957223415374756,
          "label": "2"
         },
         {
          "X": 1.3090238571166992,
          "Y": -1.6659016609191895,
          "label": "2"
         },
         {
          "X": 0.9752402901649475,
          "Y": -1.5987133979797363,
          "label": "2"
         },
         {
          "X": -0.4177168309688568,
          "Y": -4.467041015625,
          "label": "2"
         },
         {
          "X": 1.007152795791626,
          "Y": -1.3689111471176147,
          "label": "3"
         },
         {
          "X": 1.2546268701553345,
          "Y": -1.896885871887207,
          "label": "3"
         },
         {
          "X": 0.8839112520217896,
          "Y": -1.7765278816223145,
          "label": "3"
         },
         {
          "X": 1.3815467357635498,
          "Y": -1.4745209217071533,
          "label": "3"
         },
         {
          "X": -3.935410261154175,
          "Y": 0.7762584090232849,
          "label": "3"
         },
         {
          "X": -4.294791221618652,
          "Y": 0.5253120064735413,
          "label": "3"
         },
         {
          "X": -4.5341010093688965,
          "Y": 0.8693054914474487,
          "label": "3"
         },
         {
          "X": -4.15383768081665,
          "Y": 1.1239835023880005,
          "label": "3"
         },
         {
          "X": -4.3892059326171875,
          "Y": 1.0339428186416626,
          "label": "3"
         },
         {
          "X": -3.974841594696045,
          "Y": 0.871094286441803,
          "label": "3"
         },
         {
          "X": -4.334187030792236,
          "Y": 0.5819900035858154,
          "label": "3"
         },
         {
          "X": -1.2306199073791504,
          "Y": -0.978190541267395,
          "label": "3"
         },
         {
          "X": -4.223535060882568,
          "Y": 1.0849543809890747,
          "label": "3"
         },
         {
          "X": -2.5174152851104736,
          "Y": -0.8405242562294006,
          "label": "3"
         },
         {
          "X": -4.009685516357422,
          "Y": 0.7018426656723022,
          "label": "3"
         },
         {
          "X": -4.462450981140137,
          "Y": 0.694568932056427,
          "label": "3"
         },
         {
          "X": -4.530981540679932,
          "Y": 0.8845663070678711,
          "label": "4"
         },
         {
          "X": -4.145147323608398,
          "Y": 1.1238194704055786,
          "label": "4"
         },
         {
          "X": -4.308406352996826,
          "Y": 0.5242931246757507,
          "label": "4"
         },
         {
          "X": -3.9373531341552734,
          "Y": 0.7622295022010803,
          "label": "4"
         },
         {
          "X": -4.103187084197998,
          "Y": 0.5505054593086243,
          "label": "4"
         },
         {
          "X": -4.509605884552002,
          "Y": 0.6805834770202637,
          "label": "4"
         },
         {
          "X": -4.3369460105896,
          "Y": 1.1144472360610962,
          "label": "4"
         },
         {
          "X": -3.9576101303100586,
          "Y": 0.952001690864563,
          "label": "4"
         },
         {
          "X": -4.425075531005859,
          "Y": 0.5812796354293823,
          "label": "4"
         },
         {
          "X": -4.467547416687012,
          "Y": 1.0172884464263916,
          "label": "4"
         },
         {
          "X": -4.0301337242126465,
          "Y": 1.0631910562515259,
          "label": "4"
         },
         {
          "X": -3.9966881275177,
          "Y": 0.6361377835273743,
          "label": "4"
         },
         {
          "X": -4.3387837409973145,
          "Y": 1.1147754192352295,
          "label": "4"
         },
         {
          "X": -4.101456642150879,
          "Y": 0.5531966686248779,
          "label": "4"
         },
         {
          "X": -4.51054573059082,
          "Y": 0.6789313554763794,
          "label": "4"
         },
         {
          "X": -3.958613872528076,
          "Y": 0.9516114592552185,
          "label": "4"
         },
         {
          "X": -0.40946632623672485,
          "Y": -4.467465877532959,
          "label": "4"
         },
         {
          "X": -4.045736789703369,
          "Y": 1.0132343769073486,
          "label": "4"
         },
         {
          "X": -4.174428462982178,
          "Y": 0.5676251649856567,
          "label": "4"
         },
         {
          "X": -4.4878973960876465,
          "Y": 0.8976024985313416,
          "label": "4"
         }
        ]
       },
       "encoding": {
        "color": {
         "field": "label",
         "type": "nominal"
        },
        "x": {
         "field": "X",
         "type": "quantitative"
        },
        "y": {
         "field": "Y",
         "type": "quantitative"
        }
       },
       "mark": {
        "size": 60,
        "type": "circle"
       },
       "selection": {
        "selector006": {
         "bind": "scales",
         "encodings": [
          "x",
          "y"
         ],
         "mark": {
          "fill": "#333",
          "fillOpacity": 0.125,
          "stroke": "white"
         },
         "on": "[mousedown, window:mouseup] > window:mousemove!",
         "resolve": "global",
         "translate": "[mousedown, window:mouseup] > window:mousemove!",
         "type": "interval",
         "zoom": "wheel!"
        }
       }
      },
      "image/png": "[encoded data removed]",
      "text/plain": [
       "<VegaLite 2 object>\n",
       "\n",
       "If you see this message, it means the renderer has not been properly enabled\n",
       "for the frontend that you are using. For more information, see\n",
       "https://altair-viz.github.io/user_guide/troubleshooting.html\n"
      ]
     },
     "metadata": {},
     "output_type": "display_data"
    },
    {
     "name": "stdout",
     "output_type": "stream",
     "text": [
      "Perplexity 50\n"
     ]
    },
    {
     "data": {
      "application/vnd.vegalite.v2+json": {
       "$schema": "https://vega.github.io/schema/vega-lite/v2.6.0.json",
       "config": {
        "view": {
         "height": 300,
         "width": 400
        }
       },
       "data": {
        "name": "data-d2bb580e338ee72ce7d4fc9f08173171"
       },
       "datasets": {
        "data-d2bb580e338ee72ce7d4fc9f08173171": [
         {
          "X": -1.6770302057266235,
          "Y": -0.5848240256309509,
          "label": "1"
         },
         {
          "X": -1.6770297288894653,
          "Y": -0.5848233103752136,
          "label": "1"
         },
         {
          "X": -1.6770296096801758,
          "Y": -0.5848233699798584,
          "label": "1"
         },
         {
          "X": -1.6770297288894653,
          "Y": -0.5848233699798584,
          "label": "1"
         },
         {
          "X": -0.9446679353713989,
          "Y": -2.535503387451172,
          "label": "1"
         },
         {
          "X": -1.676433801651001,
          "Y": -0.5809375643730164,
          "label": "1"
         },
         {
          "X": -1.676433801651001,
          "Y": -0.5809375643730164,
          "label": "1"
         },
         {
          "X": -1.6764335632324219,
          "Y": -0.5809372067451477,
          "label": "1"
         },
         {
          "X": -1.6772191524505615,
          "Y": -0.5847429633140564,
          "label": "1"
         },
         {
          "X": -1.6772196292877197,
          "Y": -0.5847439169883728,
          "label": "1"
         },
         {
          "X": -1.6772186756134033,
          "Y": -0.5847434997558594,
          "label": "1"
         },
         {
          "X": -1.6772197484970093,
          "Y": -0.5847441554069519,
          "label": "1"
         },
         {
          "X": -1.6793147325515747,
          "Y": -0.5759837627410889,
          "label": "1"
         },
         {
          "X": -1.679314374923706,
          "Y": -0.5759845972061157,
          "label": "1"
         },
         {
          "X": -0.9423171281814575,
          "Y": -2.537400245666504,
          "label": "1"
         },
         {
          "X": -0.9529173374176025,
          "Y": -2.534611701965332,
          "label": "1"
         },
         {
          "X": -1.6778433322906494,
          "Y": -0.5807346105575562,
          "label": "1"
         },
         {
          "X": 0.6253494024276733,
          "Y": 1.037325382232666,
          "label": "1"
         },
         {
          "X": -1.6778427362442017,
          "Y": -0.580734372138977,
          "label": "1"
         },
         {
          "X": -1.677842617034912,
          "Y": -0.580734133720398,
          "label": "1"
         },
         {
          "X": -1.5768104791641235,
          "Y": -3.365553617477417,
          "label": "1"
         },
         {
          "X": -4.7383623123168945,
          "Y": 0.6673570871353149,
          "label": "1"
         },
         {
          "X": -1.6793256998062134,
          "Y": -0.5760390162467957,
          "label": "1"
         },
         {
          "X": -1.6793254613876343,
          "Y": -0.5760393142700195,
          "label": "1"
         },
         {
          "X": -1.677849531173706,
          "Y": -0.5800378918647766,
          "label": "1"
         },
         {
          "X": -1.677849531173706,
          "Y": -0.5800377130508423,
          "label": "1"
         },
         {
          "X": -1.677849531173706,
          "Y": -0.5800389051437378,
          "label": "1"
         },
         {
          "X": 0.6237055063247681,
          "Y": 1.0323679447174072,
          "label": "1"
         },
         {
          "X": 1.0029654502868652,
          "Y": -2.1167280673980713,
          "label": "1"
         },
         {
          "X": 1.2952791452407837,
          "Y": -2.077348232269287,
          "label": "1"
         },
         {
          "X": 1.2343071699142456,
          "Y": -1.7588658332824707,
          "label": "1"
         },
         {
          "X": 0.9480184316635132,
          "Y": -1.827208399772644,
          "label": "1"
         },
         {
          "X": 1.0418946743011475,
          "Y": -2.138397693634033,
          "label": "1"
         },
         {
          "X": 1.3236550092697144,
          "Y": -2.030637264251709,
          "label": "1"
         },
         {
          "X": 0.927462100982666,
          "Y": -1.8749363422393799,
          "label": "1"
         },
         {
          "X": 1.1867793798446655,
          "Y": -1.7366944551467896,
          "label": "1"
         },
         {
          "X": 1.317423701286316,
          "Y": -2.042874574661255,
          "label": "1"
         },
         {
          "X": 1.03226637840271,
          "Y": -2.1351141929626465,
          "label": "1"
         },
         {
          "X": 0.9307082891464233,
          "Y": -1.863267421722412,
          "label": "1"
         },
         {
          "X": 1.1993212699890137,
          "Y": -1.7409379482269287,
          "label": "1"
         },
         {
          "X": -1.737354040145874,
          "Y": -2.4955949783325195,
          "label": "1"
         },
         {
          "X": 1.3280000686645508,
          "Y": -4.178865909576416,
          "label": "1"
         },
         {
          "X": -0.6452953219413757,
          "Y": -3.209773063659668,
          "label": "1"
         },
         {
          "X": 1.1510577201843262,
          "Y": -1.936824917793274,
          "label": "1"
         },
         {
          "X": 0.5940898060798645,
          "Y": 0.9272875189781189,
          "label": "1"
         },
         {
          "X": 0.609005331993103,
          "Y": 0.998062014579773,
          "label": "1"
         },
         {
          "X": 1.175543189048767,
          "Y": -1.8853473663330078,
          "label": "1"
         },
         {
          "X": 1.092419981956482,
          "Y": -2.0006463527679443,
          "label": "1"
         },
         {
          "X": 0.9383906126022339,
          "Y": -1.8467901945114136,
          "label": "1"
         },
         {
          "X": 1.01984703540802,
          "Y": -2.127819776535034,
          "label": "1"
         },
         {
          "X": 1.3094464540481567,
          "Y": -2.05861234664917,
          "label": "1"
         },
         {
          "X": 1.2118871212005615,
          "Y": -1.7463099956512451,
          "label": "1"
         },
         {
          "X": 1.053670883178711,
          "Y": -1.7978075742721558,
          "label": "1"
         },
         {
          "X": -44.04230880737305,
          "Y": 29.2642765045166,
          "label": "1"
         },
         {
          "X": 1.031684398651123,
          "Y": -2.074216842651367,
          "label": "1"
         },
         {
          "X": 1.2893085479736328,
          "Y": -1.9611765146255493,
          "label": "5"
         },
         {
          "X": 1.1926668882369995,
          "Y": -1.7386324405670166,
          "label": "5"
         },
         {
          "X": 1.319694995880127,
          "Y": -2.038939952850342,
          "label": "5"
         },
         {
          "X": 1.0368784666061401,
          "Y": -2.136765480041504,
          "label": "5"
         },
         {
          "X": 0.9298492074012756,
          "Y": -1.8666164875030518,
          "label": "5"
         },
         {
          "X": -0.6145179271697998,
          "Y": -4.972707271575928,
          "label": "5"
         },
         {
          "X": -0.5429791808128357,
          "Y": -5.339206695556641,
          "label": "5"
         },
         {
          "X": -0.9007416367530823,
          "Y": -5.210079669952393,
          "label": "2"
         },
         {
          "X": -4.9278059005737305,
          "Y": 0.8670568466186523,
          "label": "2"
         },
         {
          "X": -0.8244691491127014,
          "Y": -5.344623565673828,
          "label": "2"
         },
         {
          "X": -0.47432202100753784,
          "Y": -5.196650981903076,
          "label": "2"
         },
         {
          "X": 1.1636111736297607,
          "Y": -4.072322368621826,
          "label": "2"
         },
         {
          "X": -0.7555749416351318,
          "Y": -4.978023529052734,
          "label": "2"
         },
         {
          "X": -0.4692745804786682,
          "Y": -5.031031131744385,
          "label": "2"
         },
         {
          "X": -0.5377108454704285,
          "Y": -5.38781213760376,
          "label": "2"
         },
         {
          "X": -0.8053063154220581,
          "Y": -4.95590877532959,
          "label": "2"
         },
         {
          "X": -0.9328524470329285,
          "Y": -5.296624183654785,
          "label": "2"
         },
         {
          "X": -0.9018392562866211,
          "Y": -5.0420308113098145,
          "label": "2"
         },
         {
          "X": -0.8635721802711487,
          "Y": -5.371347904205322,
          "label": "2"
         },
         {
          "X": -0.5319396257400513,
          "Y": -4.959659099578857,
          "label": "2"
         },
         {
          "X": -0.4504227340221405,
          "Y": -5.296337127685547,
          "label": "2"
         },
         {
          "X": -0.4990561902523041,
          "Y": -4.992356777191162,
          "label": "2"
         },
         {
          "X": -0.8668776750564575,
          "Y": -5.001070022583008,
          "label": "2"
         },
         {
          "X": -0.9045904278755188,
          "Y": -5.333445072174072,
          "label": "2"
         },
         {
          "X": -0.4754829704761505,
          "Y": -5.334743499755859,
          "label": "2"
         },
         {
          "X": -0.7367984652519226,
          "Y": -5.425130367279053,
          "label": "2"
         },
         {
          "X": -0.6405379772186279,
          "Y": -4.919046878814697,
          "label": "2"
         },
         {
          "X": -0.42593228816986084,
          "Y": -5.173396110534668,
          "label": "2"
         },
         {
          "X": -0.9468161463737488,
          "Y": -5.154047012329102,
          "label": "2"
         },
         {
          "X": 0.6237261891365051,
          "Y": 1.0376664400100708,
          "label": "2"
         },
         {
          "X": -0.8191472291946411,
          "Y": -5.1382670402526855,
          "label": "2"
         },
         {
          "X": -0.5498365759849548,
          "Y": -5.230710506439209,
          "label": "2"
         },
         {
          "X": 2.6482491493225098,
          "Y": -4.519609451293945,
          "label": "2"
         },
         {
          "X": -0.41748932003974915,
          "Y": -5.187870502471924,
          "label": "3"
         },
         {
          "X": -0.9442119598388672,
          "Y": -5.142268657684326,
          "label": "3"
         },
         {
          "X": -0.6442366242408752,
          "Y": -4.925030708312988,
          "label": "3"
         },
         {
          "X": -0.748540997505188,
          "Y": -5.419504642486572,
          "label": "3"
         },
         {
          "X": -3.886234760284424,
          "Y": -3.0426526069641113,
          "label": "3"
         },
         {
          "X": -3.3548669815063477,
          "Y": -3.129382610321045,
          "label": "3"
         },
         {
          "X": -3.60404109954834,
          "Y": -2.811180591583252,
          "label": "3"
         },
         {
          "X": -3.621051073074341,
          "Y": -3.372316360473633,
          "label": "3"
         },
         {
          "X": -3.816470146179199,
          "Y": -3.2027037143707275,
          "label": "3"
         },
         {
          "X": -3.4269368648529053,
          "Y": -3.2180275917053223,
          "label": "3"
         },
         {
          "X": -3.6225531101226807,
          "Y": -2.8517699241638184,
          "label": "3"
         },
         {
          "X": 1.4140294790267944,
          "Y": -4.247920036315918,
          "label": "3"
         },
         {
          "X": -3.4084603786468506,
          "Y": -3.0230135917663574,
          "label": "3"
         },
         {
          "X": -1.5845516920089722,
          "Y": -3.3670525550842285,
          "label": "3"
         },
         {
          "X": -3.787358045578003,
          "Y": -2.9218828678131104,
          "label": "3"
         },
         {
          "X": -3.6630406379699707,
          "Y": -3.3255209922790527,
          "label": "3"
         },
         {
          "X": -3.7711126804351807,
          "Y": -2.8528051376342773,
          "label": "4"
         },
         {
          "X": -3.422346830368042,
          "Y": -2.9070820808410645,
          "label": "4"
         },
         {
          "X": -3.4571707248687744,
          "Y": -3.313767194747925,
          "label": "4"
         },
         {
          "X": -3.8119754791259766,
          "Y": -3.2851178646087646,
          "label": "4"
         },
         {
          "X": -3.601066827774048,
          "Y": -3.3722341060638428,
          "label": "4"
         },
         {
          "X": -3.6224663257598877,
          "Y": -2.8096604347229004,
          "label": "4"
         },
         {
          "X": -3.353447914123535,
          "Y": -3.103717803955078,
          "label": "4"
         },
         {
          "X": -3.888636827468872,
          "Y": -3.0699105262756348,
          "label": "4"
         },
         {
          "X": -3.816352367401123,
          "Y": -3.2785449028015137,
          "label": "4"
         },
         {
          "X": -3.416245698928833,
          "Y": -2.9134366512298584,
          "label": "4"
         },
         {
          "X": -3.7653071880340576,
          "Y": -2.8482234477996826,
          "label": "4"
         },
         {
          "X": -3.4637644290924072,
          "Y": -3.317767381668091,
          "label": "4"
         },
         {
          "X": -3.8131093978881836,
          "Y": -3.283393144607544,
          "label": "4"
         },
         {
          "X": -3.425238609313965,
          "Y": -2.90553617477417,
          "label": "4"
         },
         {
          "X": -3.4568288326263428,
          "Y": -3.31554913520813,
          "label": "4"
         },
         {
          "X": -3.7671892642974854,
          "Y": -2.8517649173736572,
          "label": "4"
         },
         {
          "X": 2.646711826324463,
          "Y": -4.51690149307251,
          "label": "4"
         },
         {
          "X": -3.843891143798828,
          "Y": -3.0297558307647705,
          "label": "4"
         },
         {
          "X": -3.550759792327881,
          "Y": -3.3201904296875,
          "label": "4"
         },
         {
          "X": -3.471576452255249,
          "Y": -2.9156036376953125,
          "label": "4"
         }
        ]
       },
       "encoding": {
        "color": {
         "field": "label",
         "type": "nominal"
        },
        "x": {
         "field": "X",
         "type": "quantitative"
        },
        "y": {
         "field": "Y",
         "type": "quantitative"
        }
       },
       "mark": {
        "size": 60,
        "type": "circle"
       },
       "selection": {
        "selector007": {
         "bind": "scales",
         "encodings": [
          "x",
          "y"
         ],
         "mark": {
          "fill": "#333",
          "fillOpacity": 0.125,
          "stroke": "white"
         },
         "on": "[mousedown, window:mouseup] > window:mousemove!",
         "resolve": "global",
         "translate": "[mousedown, window:mouseup] > window:mousemove!",
         "type": "interval",
         "zoom": "wheel!"
        }
       }
      },
      "image/png": "[encoded data removed]",
      "text/plain": [
       "<VegaLite 2 object>\n",
       "\n",
       "If you see this message, it means the renderer has not been properly enabled\n",
       "for the frontend that you are using. For more information, see\n",
       "https://altair-viz.github.io/user_guide/troubleshooting.html\n"
      ]
     },
     "metadata": {},
     "output_type": "display_data"
    },
    {
     "name": "stdout",
     "output_type": "stream",
     "text": [
      "Perplexity 60\n"
     ]
    },
    {
     "data": {
      "application/vnd.vegalite.v2+json": {
       "$schema": "https://vega.github.io/schema/vega-lite/v2.6.0.json",
       "config": {
        "view": {
         "height": 300,
         "width": 400
        }
       },
       "data": {
        "name": "data-2e3634934f33d8855587d424ffbede36"
       },
       "datasets": {
        "data-2e3634934f33d8855587d424ffbede36": [
         {
          "X": 1.3460999727249146,
          "Y": 3.3006527423858643,
          "label": "1"
         },
         {
          "X": 1.3460999727249146,
          "Y": 3.3006532192230225,
          "label": "1"
         },
         {
          "X": 1.3460999727249146,
          "Y": 3.3006532192230225,
          "label": "1"
         },
         {
          "X": 1.346099853515625,
          "Y": 3.300652027130127,
          "label": "1"
         },
         {
          "X": -0.5630847215652466,
          "Y": 3.4772274494171143,
          "label": "1"
         },
         {
          "X": 1.345392107963562,
          "Y": 3.303009510040283,
          "label": "1"
         },
         {
          "X": 1.345392107963562,
          "Y": 3.303009510040283,
          "label": "1"
         },
         {
          "X": 1.3453923463821411,
          "Y": 3.303009271621704,
          "label": "1"
         },
         {
          "X": 1.3460999727249146,
          "Y": 3.3006527423858643,
          "label": "1"
         },
         {
          "X": 1.346099853515625,
          "Y": 3.3006527423858643,
          "label": "1"
         },
         {
          "X": 1.3460999727249146,
          "Y": 3.3006527423858643,
          "label": "1"
         },
         {
          "X": 1.3460999727249146,
          "Y": 3.3006527423858643,
          "label": "1"
         },
         {
          "X": 1.3444609642028809,
          "Y": 3.3070623874664307,
          "label": "1"
         },
         {
          "X": 1.344444751739502,
          "Y": 3.307661533355713,
          "label": "1"
         },
         {
          "X": -0.7057632207870483,
          "Y": 3.593449592590332,
          "label": "1"
         },
         {
          "X": 1.3202760219573975,
          "Y": 1.933173418045044,
          "label": "1"
         },
         {
          "X": 1.344720482826233,
          "Y": 3.3033411502838135,
          "label": "1"
         },
         {
          "X": 4.635293483734131,
          "Y": -0.18754713237285614,
          "label": "1"
         },
         {
          "X": 1.344720482826233,
          "Y": 3.3033416271209717,
          "label": "1"
         },
         {
          "X": 1.344720482826233,
          "Y": 3.303341865539551,
          "label": "1"
         },
         {
          "X": 0.13789603114128113,
          "Y": -0.8024362325668335,
          "label": "1"
         },
         {
          "X": 5.395214080810547,
          "Y": 4.457583904266357,
          "label": "1"
         },
         {
          "X": 1.344330072402954,
          "Y": 3.3075432777404785,
          "label": "1"
         },
         {
          "X": 1.3441323041915894,
          "Y": 3.307292938232422,
          "label": "1"
         },
         {
          "X": 1.3455135822296143,
          "Y": 3.3033361434936523,
          "label": "1"
         },
         {
          "X": 1.3453311920166016,
          "Y": 3.303328514099121,
          "label": "1"
         },
         {
          "X": 1.3453311920166016,
          "Y": 3.3033292293548584,
          "label": "1"
         },
         {
          "X": 4.633749485015869,
          "Y": -0.1873847395181656,
          "label": "1"
         },
         {
          "X": 1.9863591194152832,
          "Y": 0.03826366364955902,
          "label": "1"
         },
         {
          "X": 2.003884792327881,
          "Y": 0.27692699432373047,
          "label": "1"
         },
         {
          "X": 2.1431174278259277,
          "Y": 0.08208336681127548,
          "label": "1"
         },
         {
          "X": 2.0038845539093018,
          "Y": 0.2769269645214081,
          "label": "1"
         },
         {
          "X": 2.1453680992126465,
          "Y": 0.08642666786909103,
          "label": "1"
         },
         {
          "X": 1.9894764423370361,
          "Y": 0.03489821404218674,
          "label": "1"
         },
         {
          "X": 2.0021891593933105,
          "Y": 0.27768030762672424,
          "label": "1"
         },
         {
          "X": 2.002190113067627,
          "Y": 0.27768009901046753,
          "label": "1"
         },
         {
          "X": 2.0038390159606934,
          "Y": 0.27830618619918823,
          "label": "1"
         },
         {
          "X": 1.9879015684127808,
          "Y": 0.035044580698013306,
          "label": "1"
         },
         {
          "X": 2.0038397312164307,
          "Y": 0.2783055603504181,
          "label": "1"
         },
         {
          "X": 2.1435720920562744,
          "Y": 0.08671078085899353,
          "label": "1"
         },
         {
          "X": 0.44622984528541565,
          "Y": -0.24378205835819244,
          "label": "1"
         },
         {
          "X": 2.9562666416168213,
          "Y": 4.479726791381836,
          "label": "1"
         },
         {
          "X": -0.20144027471542358,
          "Y": 3.1105144023895264,
          "label": "1"
         },
         {
          "X": 2.041255474090576,
          "Y": 0.13817620277404785,
          "label": "1"
         },
         {
          "X": 4.543612957000732,
          "Y": -0.11239335685968399,
          "label": "1"
         },
         {
          "X": 4.604379653930664,
          "Y": -0.16186410188674927,
          "label": "1"
         },
         {
          "X": 2.0374653339385986,
          "Y": 0.15165464580059052,
          "label": "1"
         },
         {
          "X": 2.0374653339385986,
          "Y": 0.15165717899799347,
          "label": "1"
         },
         {
          "X": 1.9966579675674438,
          "Y": 0.033860284835100174,
          "label": "1"
         },
         {
          "X": 1.9969959259033203,
          "Y": 0.27685368061065674,
          "label": "1"
         },
         {
          "X": 1.9969958066940308,
          "Y": 0.27685442566871643,
          "label": "1"
         },
         {
          "X": 2.1495766639709473,
          "Y": 0.08988627046346664,
          "label": "1"
         },
         {
          "X": 2.0367345809936523,
          "Y": 0.16107557713985443,
          "label": "1"
         },
         {
          "X": -42.854366302490234,
          "Y": -9.180856704711914,
          "label": "1"
         },
         {
          "X": 2.036733865737915,
          "Y": 0.16107654571533203,
          "label": "1"
         },
         {
          "X": 2.0367343425750732,
          "Y": 0.1610742062330246,
          "label": "5"
         },
         {
          "X": 2.144904375076294,
          "Y": 0.08480772376060486,
          "label": "5"
         },
         {
          "X": 2.0027689933776855,
          "Y": 0.27817070484161377,
          "label": "5"
         },
         {
          "X": 2.002769708633423,
          "Y": 0.2781721353530884,
          "label": "5"
         },
         {
          "X": 1.9880168437957764,
          "Y": 0.03545361012220383,
          "label": "5"
         },
         {
          "X": -0.06215531378984451,
          "Y": 1.4359270334243774,
          "label": "5"
         },
         {
          "X": -0.2333344966173172,
          "Y": 1.2778337001800537,
          "label": "5"
         },
         {
          "X": -0.28298208117485046,
          "Y": 1.5193085670471191,
          "label": "2"
         },
         {
          "X": 5.709501266479492,
          "Y": 4.70400333404541,
          "label": "2"
         },
         {
          "X": -0.23245644569396973,
          "Y": 1.2798473834991455,
          "label": "2"
         },
         {
          "X": -0.060354653745889664,
          "Y": 1.4342361688613892,
          "label": "2"
         },
         {
          "X": 2.903463363647461,
          "Y": 4.274966239929199,
          "label": "2"
         },
         {
          "X": -0.2831558883190155,
          "Y": 1.519087791442871,
          "label": "2"
         },
         {
          "X": -0.2857188582420349,
          "Y": 1.2456448078155518,
          "label": "2"
         },
         {
          "X": -0.08052313327789307,
          "Y": 1.5440688133239746,
          "label": "2"
         },
         {
          "X": -0.04105193167924881,
          "Y": 1.322798252105713,
          "label": "2"
         },
         {
          "X": -0.3366289734840393,
          "Y": 1.539009928703308,
          "label": "2"
         },
         {
          "X": -0.04205986484885216,
          "Y": 1.3260198831558228,
          "label": "2"
         },
         {
          "X": -0.2797956168651581,
          "Y": 1.239781379699707,
          "label": "2"
         },
         {
          "X": -0.33865848183631897,
          "Y": 1.5377352237701416,
          "label": "2"
         },
         {
          "X": -0.08371420949697495,
          "Y": 1.5462100505828857,
          "label": "2"
         },
         {
          "X": -0.08069131523370743,
          "Y": 1.544276237487793,
          "label": "2"
         },
         {
          "X": -0.2840085029602051,
          "Y": 1.244709849357605,
          "label": "2"
         },
         {
          "X": -0.33822116255760193,
          "Y": 1.5383104085922241,
          "label": "2"
         },
         {
          "X": -0.04029501974582672,
          "Y": 1.3251357078552246,
          "label": "2"
         },
         {
          "X": -0.13769853115081787,
          "Y": 1.5742995738983154,
          "label": "2"
         },
         {
          "X": -0.23501446843147278,
          "Y": 1.2239853143692017,
          "label": "2"
         },
         {
          "X": -0.016821885481476784,
          "Y": 1.369248390197754,
          "label": "2"
         },
         {
          "X": -0.35967817902565,
          "Y": 1.4924347400665283,
          "label": "2"
         },
         {
          "X": 4.637874126434326,
          "Y": -0.18795841932296753,
          "label": "2"
         },
         {
          "X": -0.2083897739648819,
          "Y": 1.4124611616134644,
          "label": "2"
         },
         {
          "X": -0.20826455950737,
          "Y": 1.4111418724060059,
          "label": "2"
         },
         {
          "X": 0.35323530435562134,
          "Y": 5.1071085929870605,
          "label": "2"
         },
         {
          "X": -0.3408121168613434,
          "Y": 1.5340148210525513,
          "label": "3"
         },
         {
          "X": -0.2789406180381775,
          "Y": 1.2418776750564575,
          "label": "3"
         },
         {
          "X": -0.038952331990003586,
          "Y": 1.3290821313858032,
          "label": "3"
         },
         {
          "X": -0.08508771657943726,
          "Y": 1.547163486480713,
          "label": "3"
         },
         {
          "X": 3.3599748611450195,
          "Y": 2.4198431968688965,
          "label": "3"
         },
         {
          "X": 3.608103036880493,
          "Y": 2.398850440979004,
          "label": "3"
         },
         {
          "X": 3.5724070072174072,
          "Y": 2.0807549953460693,
          "label": "3"
         },
         {
          "X": 3.302570104598999,
          "Y": 2.151081085205078,
          "label": "3"
         },
         {
          "X": 3.5773568153381348,
          "Y": 2.144197940826416,
          "label": "3"
         },
         {
          "X": 3.317030429840088,
          "Y": 2.214843273162842,
          "label": "3"
         },
         {
          "X": 3.497102737426758,
          "Y": 2.421102285385132,
          "label": "3"
         },
         {
          "X": 2.987342119216919,
          "Y": 4.60772180557251,
          "label": "3"
         },
         {
          "X": 3.319378137588501,
          "Y": 2.216059684753418,
          "label": "3"
         },
         {
          "X": 0.07440712302923203,
          "Y": -0.9199703335762024,
          "label": "3"
         },
         {
          "X": 3.4986844062805176,
          "Y": 2.4235386848449707,
          "label": "3"
         },
         {
          "X": 3.5800318717956543,
          "Y": 2.1450018882751465,
          "label": "3"
         },
         {
          "X": 3.4535255432128906,
          "Y": 2.0719375610351562,
          "label": "4"
         },
         {
          "X": 3.6602959632873535,
          "Y": 2.23531436920166,
          "label": "4"
         },
         {
          "X": 3.268263101577759,
          "Y": 2.248957395553589,
          "label": "4"
         },
         {
          "X": 3.4603850841522217,
          "Y": 2.4751546382904053,
          "label": "4"
         },
         {
          "X": 3.2683238983154297,
          "Y": 2.249974489212036,
          "label": "4"
         },
         {
          "X": 3.460188388824463,
          "Y": 2.478355884552002,
          "label": "4"
         },
         {
          "X": 3.6625194549560547,
          "Y": 2.232516050338745,
          "label": "4"
         },
         {
          "X": 3.456535816192627,
          "Y": 2.069389820098877,
          "label": "4"
         },
         {
          "X": 3.5562174320220947,
          "Y": 2.0739119052886963,
          "label": "4"
         },
         {
          "X": 3.2919092178344727,
          "Y": 2.1647374629974365,
          "label": "4"
         },
         {
          "X": 3.6235077381134033,
          "Y": 2.3780393600463867,
          "label": "4"
         },
         {
          "X": 3.36963152885437,
          "Y": 2.4371578693389893,
          "label": "4"
         },
         {
          "X": 3.567478656768799,
          "Y": 2.0769166946411133,
          "label": "4"
         },
         {
          "X": 3.612405776977539,
          "Y": 2.395209312438965,
          "label": "4"
         },
         {
          "X": 3.29960560798645,
          "Y": 2.1543784141540527,
          "label": "4"
         },
         {
          "X": 3.359799385070801,
          "Y": 2.426831007003784,
          "label": "4"
         },
         {
          "X": 0.35347169637680054,
          "Y": 5.114686965942383,
          "label": "4"
         },
         {
          "X": 3.577526807785034,
          "Y": 2.145824909210205,
          "label": "4"
         },
         {
          "X": 3.3166191577911377,
          "Y": 2.2158315181732178,
          "label": "4"
         },
         {
          "X": 3.4979944229125977,
          "Y": 2.422950506210327,
          "label": "4"
         }
        ]
       },
       "encoding": {
        "color": {
         "field": "label",
         "type": "nominal"
        },
        "x": {
         "field": "X",
         "type": "quantitative"
        },
        "y": {
         "field": "Y",
         "type": "quantitative"
        }
       },
       "mark": {
        "size": 60,
        "type": "circle"
       },
       "selection": {
        "selector008": {
         "bind": "scales",
         "encodings": [
          "x",
          "y"
         ],
         "mark": {
          "fill": "#333",
          "fillOpacity": 0.125,
          "stroke": "white"
         },
         "on": "[mousedown, window:mouseup] > window:mousemove!",
         "resolve": "global",
         "translate": "[mousedown, window:mouseup] > window:mousemove!",
         "type": "interval",
         "zoom": "wheel!"
        }
       }
      },
      "image/png": "[encoded data removed]",
      "text/plain": [
       "<VegaLite 2 object>\n",
       "\n",
       "If you see this message, it means the renderer has not been properly enabled\n",
       "for the frontend that you are using. For more information, see\n",
       "https://altair-viz.github.io/user_guide/troubleshooting.html\n"
      ]
     },
     "metadata": {},
     "output_type": "display_data"
    }
   ],
   "source": [
    "perplexity = [5, 15, 30, 35, 40, 45, 50, 60]\n",
    "\n",
    "for p in perplexity:\n",
    "    print(\"Perplexity {}\".format(p))\n",
    "    r = reduce_dim(p)\n",
    "    create_plot(r, label)"
   ]
  },
  {
   "cell_type": "code",
   "execution_count": 5,
   "metadata": {},
   "outputs": [
    {
     "data": {
      "application/vnd.vegalite.v2+json": {
       "$schema": "https://vega.github.io/schema/vega-lite/v2.6.0.json",
       "config": {
        "view": {
         "height": 300,
         "width": 400
        }
       },
       "data": {
        "name": "data-599324ea1f6dbcbcf748ccbd7db43a13"
       },
       "datasets": {
        "data-599324ea1f6dbcbcf748ccbd7db43a13": [
         {
          "X": 0.3825382888317108,
          "Y": 0.02663634717464447,
          "count": 55,
          "label": "1"
         },
         {
          "X": 0.382377564907074,
          "Y": 0.02660462073981762,
          "count": 55,
          "label": "1"
         },
         {
          "X": 0.38253846764564514,
          "Y": 0.026636363938450813,
          "count": 55,
          "label": "1"
         },
         {
          "X": 0.38253846764564514,
          "Y": 0.026636358350515366,
          "count": 55,
          "label": "1"
         },
         {
          "X": 0.382538378238678,
          "Y": 0.02663639560341835,
          "count": 55,
          "label": "1"
         },
         {
          "X": 0.38237738609313965,
          "Y": 0.026604613289237022,
          "count": 55,
          "label": "1"
         },
         {
          "X": 0.38253846764564514,
          "Y": 0.026636363938450813,
          "count": 55,
          "label": "1"
         },
         {
          "X": 0.38237738609313965,
          "Y": 0.026604605838656425,
          "count": 55,
          "label": "1"
         },
         {
          "X": 0.3823775351047516,
          "Y": 0.026604538783431053,
          "count": 55,
          "label": "1"
         },
         {
          "X": 0.3823774456977844,
          "Y": 0.026604579761624336,
          "count": 55,
          "label": "1"
         },
         {
          "X": 0.38237741589546204,
          "Y": 0.026604605838656425,
          "count": 55,
          "label": "1"
         },
         {
          "X": 0.38237738609313965,
          "Y": 0.02660457231104374,
          "count": 55,
          "label": "1"
         },
         {
          "X": 0.38237741589546204,
          "Y": 0.026604609563946724,
          "count": 55,
          "label": "1"
         },
         {
          "X": 0.38253846764564514,
          "Y": 0.026636363938450813,
          "count": 55,
          "label": "1"
         },
         {
          "X": 0.3823776841163635,
          "Y": 0.02660461701452732,
          "count": 55,
          "label": "1"
         },
         {
          "X": 0.382377564907074,
          "Y": 0.026604613289237022,
          "count": 55,
          "label": "1"
         },
         {
          "X": 0.3823775053024292,
          "Y": 0.02660461701452732,
          "count": 55,
          "label": "1"
         },
         {
          "X": 0.38237762451171875,
          "Y": 0.026604585349559784,
          "count": 55,
          "label": "1"
         },
         {
          "X": 0.38237741589546204,
          "Y": 0.02660459093749523,
          "count": 55,
          "label": "1"
         },
         {
          "X": 0.3823775053024292,
          "Y": 0.026604600250720978,
          "count": 55,
          "label": "1"
         },
         {
          "X": 0.382377564907074,
          "Y": 0.02660459466278553,
          "count": 55,
          "label": "1"
         },
         {
          "X": 0.3823775053024292,
          "Y": 0.026604648679494858,
          "count": 55,
          "label": "1"
         },
         {
          "X": 0.382538378238678,
          "Y": 0.026636334136128426,
          "count": 55,
          "label": "1"
         },
         {
          "X": 0.38237741589546204,
          "Y": 0.026604609563946724,
          "count": 55,
          "label": "1"
         },
         {
          "X": 0.38237762451171875,
          "Y": 0.026604605838656425,
          "count": 55,
          "label": "1"
         },
         {
          "X": 0.382538378238678,
          "Y": 0.02663630247116089,
          "count": 55,
          "label": "1"
         },
         {
          "X": 0.3823775053024292,
          "Y": 0.026604648679494858,
          "count": 55,
          "label": "1"
         },
         {
          "X": 0.3823774755001068,
          "Y": 0.02660461701452732,
          "count": 55,
          "label": "1"
         },
         {
          "X": 0.382377564907074,
          "Y": 0.02660462073981762,
          "count": 55,
          "label": "1"
         },
         {
          "X": 0.38237738609313965,
          "Y": 0.026604602113366127,
          "count": 55,
          "label": "1"
         },
         {
          "X": 0.382377564907074,
          "Y": 0.02660459466278553,
          "count": 55,
          "label": "1"
         },
         {
          "X": 0.38253846764564514,
          "Y": 0.026636380702257156,
          "count": 55,
          "label": "1"
         },
         {
          "X": 0.3823773264884949,
          "Y": 0.02660461701452732,
          "count": 55,
          "label": "1"
         },
         {
          "X": 0.3823774755001068,
          "Y": 0.026604661718010902,
          "count": 55,
          "label": "1"
         },
         {
          "X": 0.38237759470939636,
          "Y": 0.026604637503623962,
          "count": 55,
          "label": "1"
         },
         {
          "X": 0.38237741589546204,
          "Y": 0.026604609563946724,
          "count": 55,
          "label": "1"
         },
         {
          "X": 0.3825382590293884,
          "Y": 0.026636401191353798,
          "count": 55,
          "label": "1"
         },
         {
          "X": 0.38237738609313965,
          "Y": 0.02660457231104374,
          "count": 55,
          "label": "1"
         },
         {
          "X": 0.38237738609313965,
          "Y": 0.026604603976011276,
          "count": 55,
          "label": "1"
         },
         {
          "X": 0.38237762451171875,
          "Y": 0.026604587212204933,
          "count": 55,
          "label": "1"
         },
         {
          "X": 0.3823775351047516,
          "Y": 0.026604538783431053,
          "count": 55,
          "label": "1"
         },
         {
          "X": 0.38237762451171875,
          "Y": 0.02660459838807583,
          "count": 55,
          "label": "1"
         },
         {
          "X": 0.382377564907074,
          "Y": 0.02660462073981762,
          "count": 55,
          "label": "1"
         },
         {
          "X": 0.38237762451171875,
          "Y": 0.026604562997817993,
          "count": 55,
          "label": "1"
         },
         {
          "X": 0.3823774755001068,
          "Y": 0.026604607701301575,
          "count": 55,
          "label": "1"
         },
         {
          "X": 0.38237759470939636,
          "Y": 0.026604607701301575,
          "count": 55,
          "label": "1"
         },
         {
          "X": 0.38253846764564514,
          "Y": 0.026636358350515366,
          "count": 55,
          "label": "1"
         },
         {
          "X": 0.3823774755001068,
          "Y": 0.026604635640978813,
          "count": 55,
          "label": "1"
         },
         {
          "X": 0.3825383484363556,
          "Y": 0.026636401191353798,
          "count": 55,
          "label": "1"
         },
         {
          "X": 0.38253840804100037,
          "Y": 0.02663635089993477,
          "count": 55,
          "label": "1"
         },
         {
          "X": 0.382377564907074,
          "Y": 0.02660461515188217,
          "count": 55,
          "label": "1"
         },
         {
          "X": 0.38253846764564514,
          "Y": 0.026636363938450813,
          "count": 55,
          "label": "1"
         },
         {
          "X": 0.3825382590293884,
          "Y": 0.026636401191353798,
          "count": 55,
          "label": "1"
         },
         {
          "X": 0.3823775053024292,
          "Y": 0.02660461701452732,
          "count": 55,
          "label": "1"
         },
         {
          "X": 0.38253840804100037,
          "Y": 0.026636403053998947,
          "count": 55,
          "label": "1"
         },
         {
          "X": 0.054940976202487946,
          "Y": 1.9244228601455688,
          "count": 124,
          "label": "AUSSI"
         },
         {
          "X": -1.3968206644058228,
          "Y": -0.7054904103279114,
          "count": 124,
          "label": "AUSSI"
         },
         {
          "X": 0.030435696244239807,
          "Y": 1.9478543996810913,
          "count": 124,
          "label": "AUSSI"
         },
         {
          "X": -0.010860791429877281,
          "Y": 0.7860143780708313,
          "count": 124,
          "label": "AUSSI"
         },
         {
          "X": -0.7744936347007751,
          "Y": 0.43829581141471863,
          "count": 124,
          "label": "AUSSI"
         },
         {
          "X": 0.12445073574781418,
          "Y": 0.05000607669353485,
          "count": 124,
          "label": "AUSSI"
         },
         {
          "X": -0.5263254046440125,
          "Y": -0.5030304193496704,
          "count": 124,
          "label": "AUSSI"
         },
         {
          "X": 0.38237738609313965,
          "Y": 0.026604602113366127,
          "count": 124,
          "label": "AUSSI"
         },
         {
          "X": -0.2342323362827301,
          "Y": -2.38041090965271,
          "count": 124,
          "label": "AUSSI"
         },
         {
          "X": 0.7569299340248108,
          "Y": -1.7701759338378906,
          "count": 124,
          "label": "AUSSI"
         },
         {
          "X": 0.7769594192504883,
          "Y": -0.937835156917572,
          "count": 124,
          "label": "AUSSI"
         },
         {
          "X": -1.433718204498291,
          "Y": -1.7712657451629639,
          "count": 124,
          "label": "AUSSI"
         },
         {
          "X": 0.12445073574781418,
          "Y": 0.05000607669353485,
          "count": 124,
          "label": "AUSSI"
         },
         {
          "X": 0.5215978622436523,
          "Y": -1.8576406240463257,
          "count": 124,
          "label": "AUSSI"
         },
         {
          "X": 0.8493266105651855,
          "Y": 0.3709956705570221,
          "count": 124,
          "label": "AUSSI"
         },
         {
          "X": 2.843754768371582,
          "Y": 0.3875747323036194,
          "count": 124,
          "label": "AUSSI"
         },
         {
          "X": 2.5976979732513428,
          "Y": 1.3837021589279175,
          "count": 124,
          "label": "AUSSI"
         },
         {
          "X": 0.7569299340248108,
          "Y": -1.7701759338378906,
          "count": 124,
          "label": "AUSSI"
         },
         {
          "X": 0.08518155664205551,
          "Y": -0.5668357610702515,
          "count": 124,
          "label": "AUSSI"
         },
         {
          "X": 0.12445073574781418,
          "Y": 0.05000607669353485,
          "count": 124,
          "label": "AUSSI"
         },
         {
          "X": 0.9383410811424255,
          "Y": -0.30791112780570984,
          "count": 124,
          "label": "AUSSI"
         },
         {
          "X": -2.2484381198883057,
          "Y": -0.08005529642105103,
          "count": 124,
          "label": "AUSSI"
         },
         {
          "X": 2.5976979732513428,
          "Y": 1.3837021589279175,
          "count": 124,
          "label": "AUSSI"
         },
         {
          "X": 0.12445073574781418,
          "Y": 0.05000607669353485,
          "count": 124,
          "label": "AUSSI"
         },
         {
          "X": 0.4047434628009796,
          "Y": 2.6628003120422363,
          "count": 124,
          "label": "AUSSI"
         },
         {
          "X": 0.7769594192504883,
          "Y": -0.937835156917572,
          "count": 124,
          "label": "AUSSI"
         },
         {
          "X": 1.5444684028625488,
          "Y": -2.3124451637268066,
          "count": 124,
          "label": "AUSSI"
         },
         {
          "X": 0.9383410811424255,
          "Y": -0.30791112780570984,
          "count": 124,
          "label": "AUSSI"
         },
         {
          "X": -1.433718204498291,
          "Y": -1.7712657451629639,
          "count": 124,
          "label": "AUSSI"
         },
         {
          "X": -1.669831395149231,
          "Y": 0.19383834302425385,
          "count": 124,
          "label": "AUSSI"
         },
         {
          "X": -0.5734463334083557,
          "Y": 1.4404056072235107,
          "count": 124,
          "label": "AUSSI"
         },
         {
          "X": 0.08518155664205551,
          "Y": -0.5668357610702515,
          "count": 124,
          "label": "AUSSI"
         },
         {
          "X": 0.12445073574781418,
          "Y": 0.05000607669353485,
          "count": 124,
          "label": "AUSSI"
         },
         {
          "X": 2.316990375518799,
          "Y": 1.6865448951721191,
          "count": 124,
          "label": "AUSSI"
         },
         {
          "X": 1.3840988874435425,
          "Y": -0.24738861620426178,
          "count": 124,
          "label": "AUSSI"
         },
         {
          "X": -0.010860791429877281,
          "Y": 0.7860143780708313,
          "count": 124,
          "label": "AUSSI"
         },
         {
          "X": 0.7769594192504883,
          "Y": -0.937835156917572,
          "count": 124,
          "label": "AUSSI"
         },
         {
          "X": 0.8493266105651855,
          "Y": 0.3709956705570221,
          "count": 124,
          "label": "AUSSI"
         },
         {
          "X": -0.010860791429877281,
          "Y": 0.7860143780708313,
          "count": 124,
          "label": "AUSSI"
         },
         {
          "X": 0.7133759260177612,
          "Y": 1.2155088186264038,
          "count": 124,
          "label": "AUSSI"
         },
         {
          "X": 1.9337143898010254,
          "Y": 0.7559248805046082,
          "count": 124,
          "label": "AUSSI"
         },
         {
          "X": -0.20227792859077454,
          "Y": 2.6058075428009033,
          "count": 124,
          "label": "AUSSI"
         },
         {
          "X": 0.8493266105651855,
          "Y": 0.3709956705570221,
          "count": 124,
          "label": "AUSSI"
         },
         {
          "X": 0.7133759260177612,
          "Y": 1.2155088186264038,
          "count": 124,
          "label": "AUSSI"
         },
         {
          "X": -1.669831395149231,
          "Y": 0.19383834302425385,
          "count": 124,
          "label": "AUSSI"
         },
         {
          "X": -0.010860791429877281,
          "Y": 0.7860143780708313,
          "count": 124,
          "label": "AUSSI"
         },
         {
          "X": 1.5576236248016357,
          "Y": 0.37839797139167786,
          "count": 124,
          "label": "AUSSI"
         },
         {
          "X": 1.0381417274475098,
          "Y": 2.305878162384033,
          "count": 124,
          "label": "AUSSI"
         },
         {
          "X": 2.189912796020508,
          "Y": -0.3414364457130432,
          "count": 124,
          "label": "AUSSI"
         },
         {
          "X": -2.094820976257324,
          "Y": 0.9459067583084106,
          "count": 124,
          "label": "AUSSI"
         },
         {
          "X": -1.664787769317627,
          "Y": 1.7272974252700806,
          "count": 124,
          "label": "AUSSI"
         },
         {
          "X": 0.5059654712677002,
          "Y": -0.36345821619033813,
          "count": 124,
          "label": "AUSSI"
         },
         {
          "X": 0.7769594192504883,
          "Y": -0.937835156917572,
          "count": 124,
          "label": "AUSSI"
         },
         {
          "X": 0.8493266105651855,
          "Y": 0.3709956705570221,
          "count": 124,
          "label": "AUSSI"
         },
         {
          "X": -1.1061962842941284,
          "Y": 2.2150063514709473,
          "count": 124,
          "label": "AUSSI"
         },
         {
          "X": -1.4802589416503906,
          "Y": -0.13927695155143738,
          "count": 124,
          "label": "AUSSI"
         },
         {
          "X": -0.5734463334083557,
          "Y": 1.4404056072235107,
          "count": 124,
          "label": "AUSSI"
         },
         {
          "X": -0.038906216621398926,
          "Y": -1.3321967124938965,
          "count": 124,
          "label": "AUSSI"
         },
         {
          "X": -0.038906216621398926,
          "Y": -1.3321967124938965,
          "count": 124,
          "label": "AUSSI"
         },
         {
          "X": -0.2342323362827301,
          "Y": -2.38041090965271,
          "count": 124,
          "label": "AUSSI"
         },
         {
          "X": -0.010860791429877281,
          "Y": 0.7860143780708313,
          "count": 124,
          "label": "AUSSI"
         },
         {
          "X": -0.5734463334083557,
          "Y": 1.4404056072235107,
          "count": 124,
          "label": "AUSSI"
         },
         {
          "X": -1.433718204498291,
          "Y": -1.7712657451629639,
          "count": 124,
          "label": "AUSSI"
         },
         {
          "X": -0.038906216621398926,
          "Y": -1.3321967124938965,
          "count": 124,
          "label": "AUSSI"
         },
         {
          "X": 0.12445073574781418,
          "Y": 0.05000607669353485,
          "count": 124,
          "label": "AUSSI"
         },
         {
          "X": 0.7133759260177612,
          "Y": 1.2155088186264038,
          "count": 124,
          "label": "AUSSI"
         },
         {
          "X": 2.189912796020508,
          "Y": -0.3414364457130432,
          "count": 124,
          "label": "AUSSI"
         },
         {
          "X": 0.7133759260177612,
          "Y": 1.2155088186264038,
          "count": 124,
          "label": "AUSSI"
         },
         {
          "X": 0.006693319883197546,
          "Y": -0.5674325227737427,
          "count": 124,
          "label": "AUSSI"
         },
         {
          "X": 1.9539906978607178,
          "Y": 2.177903652191162,
          "count": 124,
          "label": "AUSSI"
         },
         {
          "X": -0.7744936347007751,
          "Y": 0.43829581141471863,
          "count": 124,
          "label": "AUSSI"
         },
         {
          "X": 0.12445073574781418,
          "Y": 0.05000607669353485,
          "count": 124,
          "label": "AUSSI"
         },
         {
          "X": 0.08518155664205551,
          "Y": -0.5668357610702515,
          "count": 124,
          "label": "AUSSI"
         },
         {
          "X": -2.094820976257324,
          "Y": 0.9459067583084106,
          "count": 124,
          "label": "AUSSI"
         },
         {
          "X": 0.8493266105651855,
          "Y": 0.3709956705570221,
          "count": 124,
          "label": "AUSSI"
         },
         {
          "X": 1.490423321723938,
          "Y": -0.8618544936180115,
          "count": 124,
          "label": "AUSSI"
         },
         {
          "X": 1.4603018760681152,
          "Y": 1.5007543563842773,
          "count": 124,
          "label": "AUSSI"
         },
         {
          "X": 0.9383410811424255,
          "Y": -0.30791112780570984,
          "count": 124,
          "label": "AUSSI"
         },
         {
          "X": 0.054940976202487946,
          "Y": 1.9244228601455688,
          "count": 124,
          "label": "AUSSI"
         },
         {
          "X": -0.010860791429877281,
          "Y": 0.7860143780708313,
          "count": 124,
          "label": "AUSSI"
         },
         {
          "X": -0.010860791429877281,
          "Y": 0.7860143780708313,
          "count": 124,
          "label": "AUSSI"
         },
         {
          "X": 1.5617005825042725,
          "Y": 0.3695625364780426,
          "count": 124,
          "label": "AUSSI"
         },
         {
          "X": -1.669831395149231,
          "Y": 0.19383834302425385,
          "count": 124,
          "label": "AUSSI"
         },
         {
          "X": -0.5263254046440125,
          "Y": -0.5030304193496704,
          "count": 124,
          "label": "AUSSI"
         },
         {
          "X": 0.4047434628009796,
          "Y": 2.6628003120422363,
          "count": 124,
          "label": "AUSSI"
         },
         {
          "X": -0.038906216621398926,
          "Y": -1.3321967124938965,
          "count": 124,
          "label": "AUSSI"
         },
         {
          "X": 1.9337143898010254,
          "Y": 0.7559248805046082,
          "count": 124,
          "label": "AUSSI"
         },
         {
          "X": 0.7769594192504883,
          "Y": -0.937835156917572,
          "count": 124,
          "label": "AUSSI"
         },
         {
          "X": -0.20227792859077454,
          "Y": 2.6058075428009033,
          "count": 124,
          "label": "AUSSI"
         },
         {
          "X": -1.986215591430664,
          "Y": -1.3099150657653809,
          "count": 124,
          "label": "AUSSI"
         },
         {
          "X": 2.299724578857422,
          "Y": -2.0451042652130127,
          "count": 124,
          "label": "AUSSI"
         },
         {
          "X": 0.8493266105651855,
          "Y": 0.3709956705570221,
          "count": 124,
          "label": "AUSSI"
         },
         {
          "X": 1.9539906978607178,
          "Y": 2.177903652191162,
          "count": 124,
          "label": "AUSSI"
         },
         {
          "X": -0.010860791429877281,
          "Y": 0.7860143780708313,
          "count": 124,
          "label": "AUSSI"
         },
         {
          "X": -0.038906216621398926,
          "Y": -1.3321967124938965,
          "count": 124,
          "label": "AUSSI"
         },
         {
          "X": 0.12445073574781418,
          "Y": 0.05000607669353485,
          "count": 124,
          "label": "AUSSI"
         },
         {
          "X": 0.8493266105651855,
          "Y": 0.3709956705570221,
          "count": 124,
          "label": "AUSSI"
         },
         {
          "X": 0.08518155664205551,
          "Y": -0.5668357610702515,
          "count": 124,
          "label": "AUSSI"
         },
         {
          "X": 1.9337143898010254,
          "Y": 0.7559248805046082,
          "count": 124,
          "label": "AUSSI"
         },
         {
          "X": -0.7520882487297058,
          "Y": -0.2695270776748657,
          "count": 124,
          "label": "AUSSI"
         },
         {
          "X": 1.4603018760681152,
          "Y": 1.5007543563842773,
          "count": 124,
          "label": "AUSSI"
         },
         {
          "X": 1.4603018760681152,
          "Y": 1.5007543563842773,
          "count": 124,
          "label": "AUSSI"
         },
         {
          "X": 0.7569299340248108,
          "Y": -1.7701759338378906,
          "count": 124,
          "label": "AUSSI"
         },
         {
          "X": 0.08518155664205551,
          "Y": -0.5668357610702515,
          "count": 124,
          "label": "AUSSI"
         },
         {
          "X": 1.7958910465240479,
          "Y": -1.4791693687438965,
          "count": 124,
          "label": "AUSSI"
         },
         {
          "X": 1.490423321723938,
          "Y": -0.8618544936180115,
          "count": 124,
          "label": "AUSSI"
         },
         {
          "X": 1.7958910465240479,
          "Y": -1.4791693687438965,
          "count": 124,
          "label": "AUSSI"
         },
         {
          "X": -2.094820976257324,
          "Y": 0.9459067583084106,
          "count": 124,
          "label": "AUSSI"
         },
         {
          "X": 2.299724578857422,
          "Y": -2.0451042652130127,
          "count": 124,
          "label": "AUSSI"
         },
         {
          "X": 2.189912796020508,
          "Y": -0.3414364457130432,
          "count": 124,
          "label": "AUSSI"
         },
         {
          "X": 0.311575323343277,
          "Y": -2.505739450454712,
          "count": 124,
          "label": "AUSSI"
         },
         {
          "X": -0.038906216621398926,
          "Y": -1.3321967124938965,
          "count": 124,
          "label": "AUSSI"
         },
         {
          "X": 0.7133759260177612,
          "Y": 1.2155088186264038,
          "count": 124,
          "label": "AUSSI"
         },
         {
          "X": 0.12445073574781418,
          "Y": 0.05000607669353485,
          "count": 124,
          "label": "AUSSI"
         },
         {
          "X": -2.2484381198883057,
          "Y": -0.08005529642105103,
          "count": 124,
          "label": "AUSSI"
         },
         {
          "X": -2.330791473388672,
          "Y": 0.45270487666130066,
          "count": 124,
          "label": "AUSSI"
         },
         {
          "X": -0.5734463334083557,
          "Y": 1.4404056072235107,
          "count": 124,
          "label": "AUSSI"
         },
         {
          "X": 0.8493266105651855,
          "Y": 0.3709956705570221,
          "count": 124,
          "label": "AUSSI"
         },
         {
          "X": 1.3840988874435425,
          "Y": -0.24738861620426178,
          "count": 124,
          "label": "AUSSI"
         },
         {
          "X": 0.7133759260177612,
          "Y": 1.2155088186264038,
          "count": 124,
          "label": "AUSSI"
         },
         {
          "X": 1.490423321723938,
          "Y": -0.8618544936180115,
          "count": 124,
          "label": "AUSSI"
         },
         {
          "X": 0.2876945436000824,
          "Y": 1.8856663703918457,
          "count": 124,
          "label": "AUSSI"
         },
         {
          "X": 1.3840988874435425,
          "Y": -0.24738861620426178,
          "count": 124,
          "label": "AUSSI"
         },
         {
          "X": 0.006693319883197546,
          "Y": -0.5674325227737427,
          "count": 124,
          "label": "AUSSI"
         },
         {
          "X": -2.2484381198883057,
          "Y": -0.08005529642105103,
          "count": 118,
          "label": "OUI"
         },
         {
          "X": 2.923506736755371,
          "Y": -0.958000123500824,
          "count": 118,
          "label": "OUI"
         },
         {
          "X": -0.7744936347007751,
          "Y": 0.43829581141471863,
          "count": 118,
          "label": "OUI"
         },
         {
          "X": 0.7133759260177612,
          "Y": 1.2155088186264038,
          "count": 118,
          "label": "OUI"
         },
         {
          "X": 0.2876945436000824,
          "Y": 1.8856663703918457,
          "count": 118,
          "label": "OUI"
         },
         {
          "X": 0.12445073574781418,
          "Y": 0.05000607669353485,
          "count": 118,
          "label": "OUI"
         },
         {
          "X": 1.490423321723938,
          "Y": -0.8618544936180115,
          "count": 118,
          "label": "OUI"
         },
         {
          "X": -2.094820976257324,
          "Y": 0.9459067583084106,
          "count": 118,
          "label": "OUI"
         },
         {
          "X": -0.5727768540382385,
          "Y": 0.19141483306884766,
          "count": 118,
          "label": "OUI"
         },
         {
          "X": -1.986215591430664,
          "Y": -1.3099150657653809,
          "count": 118,
          "label": "OUI"
         },
         {
          "X": 0.5004889369010925,
          "Y": -0.3752165734767914,
          "count": 118,
          "label": "OUI"
         },
         {
          "X": -1.0455948114395142,
          "Y": 0.62473464012146,
          "count": 118,
          "label": "OUI"
         },
         {
          "X": -0.7458605766296387,
          "Y": 2.3939642906188965,
          "count": 118,
          "label": "OUI"
         },
         {
          "X": 1.9539906978607178,
          "Y": 2.177903652191162,
          "count": 118,
          "label": "OUI"
         },
         {
          "X": -2.094820976257324,
          "Y": 0.9459067583084106,
          "count": 118,
          "label": "OUI"
         },
         {
          "X": 1.4603018760681152,
          "Y": 1.5007543563842773,
          "count": 118,
          "label": "OUI"
         },
         {
          "X": -1.0455948114395142,
          "Y": 0.62473464012146,
          "count": 118,
          "label": "OUI"
         },
         {
          "X": 0.8493266105651855,
          "Y": 0.3709956705570221,
          "count": 118,
          "label": "OUI"
         },
         {
          "X": 1.7958910465240479,
          "Y": -1.4791693687438965,
          "count": 118,
          "label": "OUI"
         },
         {
          "X": -2.2484381198883057,
          "Y": -0.08005529642105103,
          "count": 118,
          "label": "OUI"
         },
         {
          "X": -0.010860791429877281,
          "Y": 0.7860143780708313,
          "count": 118,
          "label": "OUI"
         },
         {
          "X": 1.4874746799468994,
          "Y": -1.1944838762283325,
          "count": 118,
          "label": "OUI"
         },
         {
          "X": 0.054940976202487946,
          "Y": 1.9244228601455688,
          "count": 118,
          "label": "OUI"
         },
         {
          "X": 1.490423321723938,
          "Y": -0.8618544936180115,
          "count": 118,
          "label": "OUI"
         },
         {
          "X": 0.030435696244239807,
          "Y": 1.9478543996810913,
          "count": 118,
          "label": "OUI"
         },
         {
          "X": 2.189912796020508,
          "Y": -0.3414364457130432,
          "count": 118,
          "label": "OUI"
         },
         {
          "X": 1.4603018760681152,
          "Y": 1.5007543563842773,
          "count": 118,
          "label": "OUI"
         },
         {
          "X": -0.5734463334083557,
          "Y": 1.4404056072235107,
          "count": 118,
          "label": "OUI"
         },
         {
          "X": -1.3457872867584229,
          "Y": 0.9522409439086914,
          "count": 118,
          "label": "OUI"
         },
         {
          "X": 0.8493266105651855,
          "Y": 0.3709956705570221,
          "count": 118,
          "label": "OUI"
         },
         {
          "X": -1.4802589416503906,
          "Y": -0.13927695155143738,
          "count": 118,
          "label": "OUI"
         },
         {
          "X": 0.9383410811424255,
          "Y": -0.30791112780570984,
          "count": 118,
          "label": "OUI"
         },
         {
          "X": 0.7133759260177612,
          "Y": 1.2155088186264038,
          "count": 118,
          "label": "OUI"
         },
         {
          "X": 2.333472967147827,
          "Y": 1.6907259225845337,
          "count": 118,
          "label": "OUI"
         },
         {
          "X": -2.2484381198883057,
          "Y": -0.08005529642105103,
          "count": 118,
          "label": "OUI"
         },
         {
          "X": 2.5976979732513428,
          "Y": 1.3837021589279175,
          "count": 118,
          "label": "OUI"
         },
         {
          "X": 0.8493266105651855,
          "Y": 0.3709956705570221,
          "count": 118,
          "label": "OUI"
         },
         {
          "X": -0.038906216621398926,
          "Y": -1.3321967124938965,
          "count": 118,
          "label": "OUI"
         },
         {
          "X": 0.12445073574781418,
          "Y": 0.05000607669353485,
          "count": 118,
          "label": "OUI"
         },
         {
          "X": 0.12445073574781418,
          "Y": 0.05000607669353485,
          "count": 118,
          "label": "OUI"
         },
         {
          "X": 1.3840988874435425,
          "Y": -0.24738861620426178,
          "count": 118,
          "label": "OUI"
         },
         {
          "X": 0.12445073574781418,
          "Y": 0.05000607669353485,
          "count": 118,
          "label": "OUI"
         },
         {
          "X": -0.038906216621398926,
          "Y": -1.3321967124938965,
          "count": 118,
          "label": "OUI"
         },
         {
          "X": -0.010860791429877281,
          "Y": 0.7860143780708313,
          "count": 118,
          "label": "OUI"
         },
         {
          "X": -0.2342323362827301,
          "Y": -2.38041090965271,
          "count": 118,
          "label": "OUI"
         },
         {
          "X": 0.12445073574781418,
          "Y": 0.05000607669353485,
          "count": 118,
          "label": "OUI"
         },
         {
          "X": 0.4047434628009796,
          "Y": 2.6628003120422363,
          "count": 118,
          "label": "OUI"
         },
         {
          "X": 2.5976979732513428,
          "Y": 1.3837021589279175,
          "count": 118,
          "label": "OUI"
         },
         {
          "X": -0.8977599740028381,
          "Y": -2.1725804805755615,
          "count": 118,
          "label": "OUI"
         },
         {
          "X": 0.7769594192504883,
          "Y": -0.937835156917572,
          "count": 118,
          "label": "OUI"
         },
         {
          "X": -0.2342323362827301,
          "Y": -2.38041090965271,
          "count": 118,
          "label": "OUI"
         },
         {
          "X": -0.7744936347007751,
          "Y": 0.43829581141471863,
          "count": 118,
          "label": "OUI"
         },
         {
          "X": 0.7133759260177612,
          "Y": 1.2155088186264038,
          "count": 118,
          "label": "OUI"
         },
         {
          "X": 2.8399338722229004,
          "Y": 0.9212411046028137,
          "count": 118,
          "label": "OUI"
         },
         {
          "X": -0.7744936347007751,
          "Y": 0.43829581141471863,
          "count": 118,
          "label": "OUI"
         },
         {
          "X": -0.20227792859077454,
          "Y": 2.6058075428009033,
          "count": 118,
          "label": "OUI"
         },
         {
          "X": 0.3275226056575775,
          "Y": 1.327501893043518,
          "count": 118,
          "label": "OUI"
         },
         {
          "X": 2.8399338722229004,
          "Y": 0.9212411046028137,
          "count": 118,
          "label": "OUI"
         },
         {
          "X": 0.7133759260177612,
          "Y": 1.2155088186264038,
          "count": 118,
          "label": "OUI"
         },
         {
          "X": -0.010860791429877281,
          "Y": 0.7860143780708313,
          "count": 118,
          "label": "OUI"
         },
         {
          "X": -0.7890880703926086,
          "Y": -1.0077091455459595,
          "count": 118,
          "label": "OUI"
         },
         {
          "X": -0.010860791429877281,
          "Y": 0.7860143780708313,
          "count": 118,
          "label": "OUI"
         },
         {
          "X": -1.664787769317627,
          "Y": 1.7272974252700806,
          "count": 118,
          "label": "OUI"
         },
         {
          "X": 0.9383410811424255,
          "Y": -0.30791112780570984,
          "count": 118,
          "label": "OUI"
         },
         {
          "X": 0.7769594192504883,
          "Y": -0.937835156917572,
          "count": 118,
          "label": "OUI"
         },
         {
          "X": 1.227840542793274,
          "Y": 1.0427117347717285,
          "count": 118,
          "label": "OUI"
         },
         {
          "X": 0.12445073574781418,
          "Y": 0.05000607669353485,
          "count": 118,
          "label": "OUI"
         },
         {
          "X": -1.0455948114395142,
          "Y": 0.62473464012146,
          "count": 118,
          "label": "OUI"
         },
         {
          "X": 1.7958910465240479,
          "Y": -1.4791693687438965,
          "count": 118,
          "label": "OUI"
         },
         {
          "X": 0.8493266105651855,
          "Y": 0.3709956705570221,
          "count": 118,
          "label": "OUI"
         },
         {
          "X": 0.12445073574781418,
          "Y": 0.05000607669353485,
          "count": 118,
          "label": "OUI"
         },
         {
          "X": 0.12445073574781418,
          "Y": 0.05000607669353485,
          "count": 118,
          "label": "OUI"
         },
         {
          "X": 1.9337143898010254,
          "Y": 0.7559248805046082,
          "count": 118,
          "label": "OUI"
         },
         {
          "X": 0.7133759260177612,
          "Y": 1.2155088186264038,
          "count": 118,
          "label": "OUI"
         },
         {
          "X": 0.9383410811424255,
          "Y": -0.30791112780570984,
          "count": 118,
          "label": "OUI"
         },
         {
          "X": 0.12445073574781418,
          "Y": 0.05000607669353485,
          "count": 118,
          "label": "OUI"
         },
         {
          "X": 1.4603018760681152,
          "Y": 1.5007543563842773,
          "count": 118,
          "label": "OUI"
         },
         {
          "X": 1.5576236248016357,
          "Y": 0.37839797139167786,
          "count": 118,
          "label": "OUI"
         },
         {
          "X": 0.8493266105651855,
          "Y": 0.3709956705570221,
          "count": 118,
          "label": "OUI"
         },
         {
          "X": -0.010860791429877281,
          "Y": 0.7860143780708313,
          "count": 118,
          "label": "OUI"
         },
         {
          "X": -0.038906216621398926,
          "Y": -1.3321967124938965,
          "count": 118,
          "label": "OUI"
         },
         {
          "X": 1.565230369567871,
          "Y": 0.3735778033733368,
          "count": 118,
          "label": "OUI"
         },
         {
          "X": 1.9539906978607178,
          "Y": 2.177903652191162,
          "count": 118,
          "label": "OUI"
         },
         {
          "X": 2.356484889984131,
          "Y": 1.6304043531417847,
          "count": 118,
          "label": "OUI"
         },
         {
          "X": -0.038906216621398926,
          "Y": -1.3321967124938965,
          "count": 118,
          "label": "OUI"
         },
         {
          "X": 0.12445073574781418,
          "Y": 0.05000607669353485,
          "count": 118,
          "label": "OUI"
         },
         {
          "X": 2.2986629009246826,
          "Y": -2.04585337638855,
          "count": 118,
          "label": "OUI"
         },
         {
          "X": 0.12445073574781418,
          "Y": 0.05000607669353485,
          "count": 118,
          "label": "OUI"
         },
         {
          "X": -0.6066305637359619,
          "Y": 0.047458481043577194,
          "count": 118,
          "label": "OUI"
         },
         {
          "X": -0.038906216621398926,
          "Y": -1.3321967124938965,
          "count": 118,
          "label": "OUI"
         },
         {
          "X": 0.08518155664205551,
          "Y": -0.5668357610702515,
          "count": 118,
          "label": "OUI"
         },
         {
          "X": 1.7958910465240479,
          "Y": -1.4791693687438965,
          "count": 118,
          "label": "OUI"
         },
         {
          "X": 0.8493266105651855,
          "Y": 0.3709956705570221,
          "count": 118,
          "label": "OUI"
         },
         {
          "X": -0.010860791429877281,
          "Y": 0.7860143780708313,
          "count": 118,
          "label": "OUI"
         },
         {
          "X": -0.2342323362827301,
          "Y": -2.38041090965271,
          "count": 118,
          "label": "OUI"
         },
         {
          "X": 1.9337143898010254,
          "Y": 0.7559248805046082,
          "count": 118,
          "label": "OUI"
         },
         {
          "X": -1.3968206644058228,
          "Y": -0.7054904103279114,
          "count": 118,
          "label": "OUI"
         },
         {
          "X": 1.9539906978607178,
          "Y": 2.177903652191162,
          "count": 118,
          "label": "OUI"
         },
         {
          "X": -2.2484381198883057,
          "Y": -0.08005529642105103,
          "count": 118,
          "label": "OUI"
         },
         {
          "X": -0.5734463334083557,
          "Y": 1.4404056072235107,
          "count": 118,
          "label": "OUI"
         },
         {
          "X": -0.5734463334083557,
          "Y": 1.4404056072235107,
          "count": 118,
          "label": "OUI"
         },
         {
          "X": -0.010860791429877281,
          "Y": 0.7860143780708313,
          "count": 118,
          "label": "OUI"
         },
         {
          "X": -0.010860791429877281,
          "Y": 0.7860143780708313,
          "count": 118,
          "label": "OUI"
         },
         {
          "X": 0.7133759260177612,
          "Y": 1.2155088186264038,
          "count": 118,
          "label": "OUI"
         },
         {
          "X": 0.7133759260177612,
          "Y": 1.2155088186264038,
          "count": 118,
          "label": "OUI"
         },
         {
          "X": 2.3268849849700928,
          "Y": 1.6612770557403564,
          "count": 118,
          "label": "OUI"
         },
         {
          "X": -0.535822331905365,
          "Y": -0.45780566334724426,
          "count": 118,
          "label": "OUI"
         },
         {
          "X": 2.189912796020508,
          "Y": -0.3414364457130432,
          "count": 118,
          "label": "OUI"
         },
         {
          "X": 0.006693319883197546,
          "Y": -0.5674325227737427,
          "count": 118,
          "label": "OUI"
         },
         {
          "X": -0.038906216621398926,
          "Y": -1.3321967124938965,
          "count": 118,
          "label": "OUI"
         },
         {
          "X": 1.5444684028625488,
          "Y": -2.3124451637268066,
          "count": 118,
          "label": "OUI"
         },
         {
          "X": -2.094820976257324,
          "Y": 0.9459067583084106,
          "count": 118,
          "label": "OUI"
         },
         {
          "X": -0.5734463334083557,
          "Y": 1.4404056072235107,
          "count": 118,
          "label": "OUI"
         },
         {
          "X": 2.189912796020508,
          "Y": -0.3414364457130432,
          "count": 118,
          "label": "OUI"
         },
         {
          "X": 0.5004889369010925,
          "Y": -0.3752165734767914,
          "count": 118,
          "label": "OUI"
         },
         {
          "X": 2.8399338722229004,
          "Y": 0.9212411046028137,
          "count": 118,
          "label": "OUI"
         },
         {
          "X": 0.7769594192504883,
          "Y": -0.937835156917572,
          "count": 118,
          "label": "OUI"
         },
         {
          "X": 1.9337143898010254,
          "Y": 0.7559248805046082,
          "count": 118,
          "label": "OUI"
         },
         {
          "X": 0.9383410811424255,
          "Y": -0.30791112780570984,
          "count": 49,
          "label": "DIRE"
         },
         {
          "X": 0.8493266105651855,
          "Y": 0.3709956705570221,
          "count": 49,
          "label": "DIRE"
         },
         {
          "X": -2.094820976257324,
          "Y": 0.9459067583084106,
          "count": 49,
          "label": "DIRE"
         },
         {
          "X": -0.010860791429877281,
          "Y": 0.7860143780708313,
          "count": 49,
          "label": "DIRE"
         },
         {
          "X": 0.8493266105651855,
          "Y": 0.3709956705570221,
          "count": 49,
          "label": "DIRE"
         },
         {
          "X": 2.189912796020508,
          "Y": -0.3414364457130432,
          "count": 49,
          "label": "DIRE"
         },
         {
          "X": 0.8493266105651855,
          "Y": 0.3709956705570221,
          "count": 49,
          "label": "DIRE"
         },
         {
          "X": 0.9383410811424255,
          "Y": -0.30791112780570984,
          "count": 49,
          "label": "DIRE"
         },
         {
          "X": 1.9337143898010254,
          "Y": 0.7559248805046082,
          "count": 49,
          "label": "DIRE"
         },
         {
          "X": 1.3840988874435425,
          "Y": -0.24738861620426178,
          "count": 49,
          "label": "DIRE"
         },
         {
          "X": -0.7890880703926086,
          "Y": -1.0077091455459595,
          "count": 49,
          "label": "DIRE"
         },
         {
          "X": -1.2051360607147217,
          "Y": 1.1815179586410522,
          "count": 49,
          "label": "DIRE"
         },
         {
          "X": 1.9539906978607178,
          "Y": 2.177903652191162,
          "count": 49,
          "label": "DIRE"
         },
         {
          "X": 0.8493266105651855,
          "Y": 0.3709956705570221,
          "count": 49,
          "label": "DIRE"
         },
         {
          "X": -0.038906216621398926,
          "Y": -1.3321967124938965,
          "count": 49,
          "label": "DIRE"
         },
         {
          "X": -0.010860791429877281,
          "Y": 0.7860143780708313,
          "count": 49,
          "label": "DIRE"
         },
         {
          "X": 1.7958910465240479,
          "Y": -1.4791693687438965,
          "count": 49,
          "label": "DIRE"
         },
         {
          "X": 0.8493266105651855,
          "Y": 0.3709956705570221,
          "count": 49,
          "label": "DIRE"
         },
         {
          "X": 2.8399338722229004,
          "Y": 0.9212411046028137,
          "count": 49,
          "label": "DIRE"
         },
         {
          "X": 1.5444684028625488,
          "Y": -2.3124451637268066,
          "count": 49,
          "label": "DIRE"
         },
         {
          "X": 0.8493266105651855,
          "Y": 0.3709956705570221,
          "count": 49,
          "label": "DIRE"
         },
         {
          "X": -0.7744936347007751,
          "Y": 0.43829581141471863,
          "count": 49,
          "label": "DIRE"
         },
         {
          "X": 0.8493266105651855,
          "Y": 0.3709956705570221,
          "count": 49,
          "label": "DIRE"
         },
         {
          "X": 0.8493266105651855,
          "Y": 0.3709956705570221,
          "count": 49,
          "label": "DIRE"
         },
         {
          "X": -0.7890880703926086,
          "Y": -1.0077091455459595,
          "count": 49,
          "label": "DIRE"
         },
         {
          "X": 0.12445073574781418,
          "Y": 0.05000607669353485,
          "count": 49,
          "label": "DIRE"
         },
         {
          "X": 0.8493266105651855,
          "Y": 0.3709956705570221,
          "count": 49,
          "label": "DIRE"
         },
         {
          "X": 0.7809913158416748,
          "Y": -2.468172311782837,
          "count": 49,
          "label": "DIRE"
         },
         {
          "X": -1.3968206644058228,
          "Y": -0.7054904103279114,
          "count": 49,
          "label": "DIRE"
         },
         {
          "X": 0.12445073574781418,
          "Y": 0.05000607669353485,
          "count": 49,
          "label": "DIRE"
         },
         {
          "X": -0.20227792859077454,
          "Y": 2.6058075428009033,
          "count": 49,
          "label": "DIRE"
         },
         {
          "X": 0.8493266105651855,
          "Y": 0.3709956705570221,
          "count": 49,
          "label": "DIRE"
         },
         {
          "X": -1.986215591430664,
          "Y": -1.3099150657653809,
          "count": 49,
          "label": "DIRE"
         },
         {
          "X": -1.669831395149231,
          "Y": 0.19383834302425385,
          "count": 49,
          "label": "DIRE"
         },
         {
          "X": 1.9539906978607178,
          "Y": 2.177903652191162,
          "count": 49,
          "label": "DIRE"
         },
         {
          "X": 0.12445073574781418,
          "Y": 0.05000607669353485,
          "count": 49,
          "label": "DIRE"
         },
         {
          "X": 0.2876945436000824,
          "Y": 1.8856663703918457,
          "count": 49,
          "label": "DIRE"
         },
         {
          "X": 0.7133759260177612,
          "Y": 1.2155088186264038,
          "count": 49,
          "label": "DIRE"
         },
         {
          "X": 1.9337143898010254,
          "Y": 0.7559248805046082,
          "count": 49,
          "label": "DIRE"
         },
         {
          "X": 1.5576236248016357,
          "Y": 0.37839797139167786,
          "count": 49,
          "label": "DIRE"
         },
         {
          "X": -0.7744936347007751,
          "Y": 0.43829581141471863,
          "count": 49,
          "label": "DIRE"
         },
         {
          "X": -1.3455700874328613,
          "Y": 1.0156828165054321,
          "count": 49,
          "label": "DIRE"
         },
         {
          "X": 0.9383410811424255,
          "Y": -0.30791112780570984,
          "count": 49,
          "label": "DIRE"
         },
         {
          "X": 0.9383410811424255,
          "Y": -0.30791112780570984,
          "count": 49,
          "label": "DIRE"
         },
         {
          "X": -0.7744936347007751,
          "Y": 0.43829581141471863,
          "count": 49,
          "label": "DIRE"
         },
         {
          "X": 0.7133759260177612,
          "Y": 1.2155088186264038,
          "count": 49,
          "label": "DIRE"
         },
         {
          "X": 1.4603018760681152,
          "Y": 1.5007543563842773,
          "count": 49,
          "label": "DIRE"
         },
         {
          "X": -0.8002203106880188,
          "Y": -1.5430399179458618,
          "count": 49,
          "label": "DIRE"
         },
         {
          "X": 0.7769594192504883,
          "Y": -0.937835156917572,
          "count": 49,
          "label": "DIRE"
         },
         {
          "X": -0.5734463334083557,
          "Y": 1.4404056072235107,
          "count": 56,
          "label": "RIEN "
         },
         {
          "X": -0.038906216621398926,
          "Y": -1.3321967124938965,
          "count": 56,
          "label": "RIEN "
         },
         {
          "X": 1.5444684028625488,
          "Y": -2.3124451637268066,
          "count": 56,
          "label": "RIEN "
         },
         {
          "X": 0.8493266105651855,
          "Y": 0.3709956705570221,
          "count": 56,
          "label": "RIEN "
         },
         {
          "X": 0.7569299340248108,
          "Y": -1.7701759338378906,
          "count": 56,
          "label": "RIEN "
         },
         {
          "X": -0.5316834449768066,
          "Y": -0.3826110363006592,
          "count": 56,
          "label": "RIEN "
         },
         {
          "X": 2.189912796020508,
          "Y": -0.3414364457130432,
          "count": 56,
          "label": "RIEN "
         },
         {
          "X": -0.7827644348144531,
          "Y": -1.1214321851730347,
          "count": 56,
          "label": "RIEN "
         },
         {
          "X": 0.3275226056575775,
          "Y": 1.327501893043518,
          "count": 56,
          "label": "RIEN "
         },
         {
          "X": -0.2342323362827301,
          "Y": -2.38041090965271,
          "count": 56,
          "label": "RIEN "
         },
         {
          "X": -0.5727768540382385,
          "Y": 0.19141483306884766,
          "count": 56,
          "label": "RIEN "
         },
         {
          "X": 0.12445073574781418,
          "Y": 0.05000607669353485,
          "count": 56,
          "label": "RIEN "
         },
         {
          "X": 0.12445073574781418,
          "Y": 0.05000607669353485,
          "count": 56,
          "label": "RIEN "
         },
         {
          "X": -1.986215591430664,
          "Y": -1.3099150657653809,
          "count": 56,
          "label": "RIEN "
         },
         {
          "X": -1.4802589416503906,
          "Y": -0.13927695155143738,
          "count": 56,
          "label": "RIEN "
         },
         {
          "X": 1.9337143898010254,
          "Y": 0.7559248805046082,
          "count": 56,
          "label": "RIEN "
         },
         {
          "X": 0.5037851333618164,
          "Y": -0.36826446652412415,
          "count": 56,
          "label": "RIEN "
         },
         {
          "X": 0.7769594192504883,
          "Y": -0.937835156917572,
          "count": 56,
          "label": "RIEN "
         },
         {
          "X": 0.7809913158416748,
          "Y": -2.468172311782837,
          "count": 56,
          "label": "RIEN "
         },
         {
          "X": 0.7133759260177612,
          "Y": 1.2155088186264038,
          "count": 56,
          "label": "RIEN "
         },
         {
          "X": 0.5059654712677002,
          "Y": -0.36345821619033813,
          "count": 56,
          "label": "RIEN "
         },
         {
          "X": 1.7958910465240479,
          "Y": -1.4791693687438965,
          "count": 56,
          "label": "RIEN "
         },
         {
          "X": 0.2876945436000824,
          "Y": 1.8856663703918457,
          "count": 56,
          "label": "RIEN "
         },
         {
          "X": 0.5215978622436523,
          "Y": -1.8576406240463257,
          "count": 56,
          "label": "RIEN "
         },
         {
          "X": 1.9337143898010254,
          "Y": 0.7559248805046082,
          "count": 56,
          "label": "RIEN "
         },
         {
          "X": -0.7744936347007751,
          "Y": 0.43829581141471863,
          "count": 56,
          "label": "RIEN "
         },
         {
          "X": -0.010860791429877281,
          "Y": 0.7860143780708313,
          "count": 56,
          "label": "RIEN "
         },
         {
          "X": 0.006693319883197546,
          "Y": -0.5674325227737427,
          "count": 56,
          "label": "RIEN "
         },
         {
          "X": 0.5004889369010925,
          "Y": -0.3752165734767914,
          "count": 56,
          "label": "RIEN "
         },
         {
          "X": -1.3455700874328613,
          "Y": 1.0156828165054321,
          "count": 56,
          "label": "RIEN "
         },
         {
          "X": 0.12445073574781418,
          "Y": 0.05000607669353485,
          "count": 56,
          "label": "RIEN "
         },
         {
          "X": -1.669831395149231,
          "Y": 0.19383834302425385,
          "count": 56,
          "label": "RIEN "
         },
         {
          "X": 0.7133759260177612,
          "Y": 1.2155088186264038,
          "count": 56,
          "label": "RIEN "
         },
         {
          "X": 0.08518155664205551,
          "Y": -0.5668357610702515,
          "count": 56,
          "label": "RIEN "
         },
         {
          "X": 1.9539906978607178,
          "Y": 2.177903652191162,
          "count": 56,
          "label": "RIEN "
         },
         {
          "X": 0.12445073574781418,
          "Y": 0.05000607669353485,
          "count": 56,
          "label": "RIEN "
         },
         {
          "X": -0.5288838148117065,
          "Y": -0.4518406093120575,
          "count": 56,
          "label": "RIEN "
         },
         {
          "X": 0.7809913158416748,
          "Y": -2.468172311782837,
          "count": 56,
          "label": "RIEN "
         },
         {
          "X": 1.4603018760681152,
          "Y": 1.5007543563842773,
          "count": 56,
          "label": "RIEN "
         },
         {
          "X": -0.7890880703926086,
          "Y": -1.0077091455459595,
          "count": 56,
          "label": "RIEN "
         },
         {
          "X": -1.0455948114395142,
          "Y": 0.62473464012146,
          "count": 56,
          "label": "RIEN "
         },
         {
          "X": 2.356484889984131,
          "Y": 1.6304043531417847,
          "count": 56,
          "label": "RIEN "
         },
         {
          "X": -0.2342323362827301,
          "Y": -2.38041090965271,
          "count": 56,
          "label": "RIEN "
         },
         {
          "X": -1.986215591430664,
          "Y": -1.3099150657653809,
          "count": 56,
          "label": "RIEN "
         },
         {
          "X": -0.010860791429877281,
          "Y": 0.7860143780708313,
          "count": 56,
          "label": "RIEN "
         },
         {
          "X": 1.490423321723938,
          "Y": -0.8618544936180115,
          "count": 56,
          "label": "RIEN "
         },
         {
          "X": 0.8493266105651855,
          "Y": 0.3709956705570221,
          "count": 56,
          "label": "RIEN "
         },
         {
          "X": 1.4603018760681152,
          "Y": 1.5007543563842773,
          "count": 56,
          "label": "RIEN "
         },
         {
          "X": 1.7958910465240479,
          "Y": -1.4791693687438965,
          "count": 56,
          "label": "RIEN "
         },
         {
          "X": -0.7520882487297058,
          "Y": -0.2695270776748657,
          "count": 56,
          "label": "RIEN "
         },
         {
          "X": -1.4802589416503906,
          "Y": -0.13927695155143738,
          "count": 56,
          "label": "RIEN "
         },
         {
          "X": 0.030435696244239807,
          "Y": 1.9478543996810913,
          "count": 56,
          "label": "RIEN "
         },
         {
          "X": -0.010860791429877281,
          "Y": 0.7860143780708313,
          "count": 56,
          "label": "RIEN "
         },
         {
          "X": 0.9383410811424255,
          "Y": -0.30791112780570984,
          "count": 56,
          "label": "RIEN "
         },
         {
          "X": -0.5316834449768066,
          "Y": -0.3826110363006592,
          "count": 56,
          "label": "RIEN "
         },
         {
          "X": 0.2876945436000824,
          "Y": 1.8856663703918457,
          "count": 56,
          "label": "RIEN "
         },
         {
          "X": 1.5576236248016357,
          "Y": 0.37839797139167786,
          "count": 96,
          "label": "QUOI"
         },
         {
          "X": -0.2342323362827301,
          "Y": -2.38041090965271,
          "count": 96,
          "label": "QUOI"
         },
         {
          "X": -0.7458605766296387,
          "Y": 2.3939642906188965,
          "count": 96,
          "label": "QUOI"
         },
         {
          "X": 0.9383410811424255,
          "Y": -0.30791112780570984,
          "count": 96,
          "label": "QUOI"
         },
         {
          "X": 0.5004889369010925,
          "Y": -0.3752165734767914,
          "count": 96,
          "label": "QUOI"
         },
         {
          "X": -1.433718204498291,
          "Y": -1.7712657451629639,
          "count": 96,
          "label": "QUOI"
         },
         {
          "X": 0.6420198082923889,
          "Y": -1.793840765953064,
          "count": 96,
          "label": "QUOI"
         },
         {
          "X": -1.0455948114395142,
          "Y": 0.62473464012146,
          "count": 96,
          "label": "QUOI"
         },
         {
          "X": 1.7958910465240479,
          "Y": -1.4791693687438965,
          "count": 96,
          "label": "QUOI"
         },
         {
          "X": -1.433718204498291,
          "Y": -1.7712657451629639,
          "count": 96,
          "label": "QUOI"
         },
         {
          "X": 2.2986629009246826,
          "Y": -2.04585337638855,
          "count": 96,
          "label": "QUOI"
         },
         {
          "X": -0.7520882487297058,
          "Y": -0.2695270776748657,
          "count": 96,
          "label": "QUOI"
         },
         {
          "X": -0.010860791429877281,
          "Y": 0.7860143780708313,
          "count": 96,
          "label": "QUOI"
         },
         {
          "X": 0.5022168159484863,
          "Y": -0.369074285030365,
          "count": 96,
          "label": "QUOI"
         },
         {
          "X": -0.7890880703926086,
          "Y": -1.0077091455459595,
          "count": 96,
          "label": "QUOI"
         },
         {
          "X": 0.5037851333618164,
          "Y": -0.36826446652412415,
          "count": 96,
          "label": "QUOI"
         },
         {
          "X": 0.7769594192504883,
          "Y": -0.937835156917572,
          "count": 96,
          "label": "QUOI"
         },
         {
          "X": 0.8493266105651855,
          "Y": 0.3709956705570221,
          "count": 96,
          "label": "QUOI"
         },
         {
          "X": 0.2876945436000824,
          "Y": 1.8856663703918457,
          "count": 96,
          "label": "QUOI"
         },
         {
          "X": -1.4802589416503906,
          "Y": -0.13927695155143738,
          "count": 96,
          "label": "QUOI"
         },
         {
          "X": 0.8493266105651855,
          "Y": 0.3709956705570221,
          "count": 96,
          "label": "QUOI"
         },
         {
          "X": 1.5444684028625488,
          "Y": -2.3124451637268066,
          "count": 96,
          "label": "QUOI"
         },
         {
          "X": 1.3840988874435425,
          "Y": -0.24738861620426178,
          "count": 96,
          "label": "QUOI"
         },
         {
          "X": 1.0381417274475098,
          "Y": 2.305878162384033,
          "count": 96,
          "label": "QUOI"
         },
         {
          "X": -1.372414469718933,
          "Y": 1.3572791814804077,
          "count": 96,
          "label": "QUOI"
         },
         {
          "X": 0.9383410811424255,
          "Y": -0.30791112780570984,
          "count": 96,
          "label": "QUOI"
         },
         {
          "X": -1.433718204498291,
          "Y": -1.7712657451629639,
          "count": 96,
          "label": "QUOI"
         },
         {
          "X": -0.5734463334083557,
          "Y": 1.4404056072235107,
          "count": 96,
          "label": "QUOI"
         },
         {
          "X": -0.7890880703926086,
          "Y": -1.0077091455459595,
          "count": 96,
          "label": "QUOI"
         },
         {
          "X": 1.9337143898010254,
          "Y": 0.7559248805046082,
          "count": 96,
          "label": "QUOI"
         },
         {
          "X": 2.8399338722229004,
          "Y": 0.9212411046028137,
          "count": 96,
          "label": "QUOI"
         },
         {
          "X": -1.3455700874328613,
          "Y": 1.0156828165054321,
          "count": 96,
          "label": "QUOI"
         },
         {
          "X": 0.7769594192504883,
          "Y": -0.937835156917572,
          "count": 96,
          "label": "QUOI"
         },
         {
          "X": 1.0381417274475098,
          "Y": 2.305878162384033,
          "count": 96,
          "label": "QUOI"
         },
         {
          "X": -0.038906216621398926,
          "Y": -1.3321967124938965,
          "count": 96,
          "label": "QUOI"
         },
         {
          "X": -0.7890880703926086,
          "Y": -1.0077091455459595,
          "count": 96,
          "label": "QUOI"
         },
         {
          "X": 3.1168785095214844,
          "Y": -0.411366730928421,
          "count": 96,
          "label": "QUOI"
         },
         {
          "X": -1.669831395149231,
          "Y": 0.19383834302425385,
          "count": 96,
          "label": "QUOI"
         },
         {
          "X": 1.0381417274475098,
          "Y": 2.305878162384033,
          "count": 96,
          "label": "QUOI"
         },
         {
          "X": -0.5263254046440125,
          "Y": -0.5030304193496704,
          "count": 96,
          "label": "QUOI"
         },
         {
          "X": 0.8493266105651855,
          "Y": 0.3709956705570221,
          "count": 96,
          "label": "QUOI"
         },
         {
          "X": -0.038906216621398926,
          "Y": -1.3321967124938965,
          "count": 96,
          "label": "QUOI"
         },
         {
          "X": 2.189912796020508,
          "Y": -0.3414364457130432,
          "count": 96,
          "label": "QUOI"
         },
         {
          "X": -1.3968206644058228,
          "Y": -0.7054904103279114,
          "count": 96,
          "label": "QUOI"
         },
         {
          "X": 1.4603018760681152,
          "Y": 1.5007543563842773,
          "count": 96,
          "label": "QUOI"
         },
         {
          "X": -1.3968206644058228,
          "Y": -0.7054904103279114,
          "count": 96,
          "label": "QUOI"
         },
         {
          "X": 1.0381417274475098,
          "Y": 2.305878162384033,
          "count": 96,
          "label": "QUOI"
         },
         {
          "X": 1.5576236248016357,
          "Y": 0.37839797139167786,
          "count": 96,
          "label": "QUOI"
         },
         {
          "X": 2.189912796020508,
          "Y": -0.3414364457130432,
          "count": 96,
          "label": "QUOI"
         },
         {
          "X": 1.7958910465240479,
          "Y": -1.4791693687438965,
          "count": 96,
          "label": "QUOI"
         },
         {
          "X": -0.7890880703926086,
          "Y": -1.0077091455459595,
          "count": 96,
          "label": "QUOI"
         },
         {
          "X": -0.010860791429877281,
          "Y": 0.7860143780708313,
          "count": 96,
          "label": "QUOI"
         },
         {
          "X": 0.12445073574781418,
          "Y": 0.05000607669353485,
          "count": 96,
          "label": "QUOI"
         },
         {
          "X": 1.9337143898010254,
          "Y": 0.7559248805046082,
          "count": 96,
          "label": "QUOI"
         },
         {
          "X": -0.7890880703926086,
          "Y": -1.0077091455459595,
          "count": 96,
          "label": "QUOI"
         },
         {
          "X": 0.8493266105651855,
          "Y": 0.3709956705570221,
          "count": 96,
          "label": "QUOI"
         },
         {
          "X": 2.8399338722229004,
          "Y": 0.9212411046028137,
          "count": 96,
          "label": "QUOI"
         },
         {
          "X": 0.8493266105651855,
          "Y": 0.3709956705570221,
          "count": 96,
          "label": "QUOI"
         },
         {
          "X": 0.7769594192504883,
          "Y": -0.937835156917572,
          "count": 96,
          "label": "QUOI"
         },
         {
          "X": 0.8493266105651855,
          "Y": 0.3709956705570221,
          "count": 96,
          "label": "QUOI"
         },
         {
          "X": -1.664787769317627,
          "Y": 1.7272974252700806,
          "count": 96,
          "label": "QUOI"
         },
         {
          "X": -0.5734463334083557,
          "Y": 1.4404056072235107,
          "count": 96,
          "label": "QUOI"
         },
         {
          "X": -1.664787769317627,
          "Y": 1.7272974252700806,
          "count": 96,
          "label": "QUOI"
         },
         {
          "X": 2.189912796020508,
          "Y": -0.3414364457130432,
          "count": 96,
          "label": "QUOI"
         },
         {
          "X": -0.535822331905365,
          "Y": -0.45780566334724426,
          "count": 96,
          "label": "QUOI"
         },
         {
          "X": 1.7958910465240479,
          "Y": -1.4791693687438965,
          "count": 96,
          "label": "QUOI"
         },
         {
          "X": -1.474680781364441,
          "Y": 0.5168231129646301,
          "count": 96,
          "label": "QUOI"
         },
         {
          "X": 1.9337143898010254,
          "Y": 0.7559248805046082,
          "count": 96,
          "label": "QUOI"
         },
         {
          "X": -0.7890880703926086,
          "Y": -1.0077091455459595,
          "count": 96,
          "label": "QUOI"
         },
         {
          "X": 0.7769594192504883,
          "Y": -0.937835156917572,
          "count": 96,
          "label": "QUOI"
         },
         {
          "X": 0.5022168159484863,
          "Y": -0.369074285030365,
          "count": 96,
          "label": "QUOI"
         },
         {
          "X": 0.8493266105651855,
          "Y": 0.3709956705570221,
          "count": 96,
          "label": "QUOI"
         },
         {
          "X": 3.1163887977600098,
          "Y": -0.36505642533302307,
          "count": 96,
          "label": "QUOI"
         },
         {
          "X": 2.189912796020508,
          "Y": -0.3414364457130432,
          "count": 96,
          "label": "QUOI"
         },
         {
          "X": -2.2484381198883057,
          "Y": -0.08005529642105103,
          "count": 96,
          "label": "QUOI"
         },
         {
          "X": 2.189912796020508,
          "Y": -0.3414364457130432,
          "count": 96,
          "label": "QUOI"
         },
         {
          "X": -0.5316834449768066,
          "Y": -0.3826110363006592,
          "count": 96,
          "label": "QUOI"
         },
         {
          "X": -0.010860791429877281,
          "Y": 0.7860143780708313,
          "count": 96,
          "label": "QUOI"
         },
         {
          "X": 0.7133759260177612,
          "Y": 1.2155088186264038,
          "count": 96,
          "label": "QUOI"
         },
         {
          "X": 1.7958910465240479,
          "Y": -1.4791693687438965,
          "count": 96,
          "label": "QUOI"
         },
         {
          "X": 1.490423321723938,
          "Y": -0.8618544936180115,
          "count": 96,
          "label": "QUOI"
         },
         {
          "X": -1.669831395149231,
          "Y": 0.19383834302425385,
          "count": 96,
          "label": "QUOI"
         },
         {
          "X": 1.3840988874435425,
          "Y": -0.24738861620426178,
          "count": 96,
          "label": "QUOI"
         },
         {
          "X": -0.6066305637359619,
          "Y": 0.047458481043577194,
          "count": 96,
          "label": "QUOI"
         },
         {
          "X": 0.3065185546875,
          "Y": -2.5074639320373535,
          "count": 96,
          "label": "QUOI"
         },
         {
          "X": 0.7133759260177612,
          "Y": 1.2155088186264038,
          "count": 96,
          "label": "QUOI"
         },
         {
          "X": 0.5004889369010925,
          "Y": -0.3752165734767914,
          "count": 96,
          "label": "QUOI"
         },
         {
          "X": 2.5816004276275635,
          "Y": -1.5323636531829834,
          "count": 96,
          "label": "QUOI"
         },
         {
          "X": 0.08518155664205551,
          "Y": -0.5668357610702515,
          "count": 96,
          "label": "QUOI"
         },
         {
          "X": 0.8493266105651855,
          "Y": 0.3709956705570221,
          "count": 96,
          "label": "QUOI"
         },
         {
          "X": -0.010860791429877281,
          "Y": 0.7860143780708313,
          "count": 96,
          "label": "QUOI"
         },
         {
          "X": 0.5021163821220398,
          "Y": -0.36915501952171326,
          "count": 96,
          "label": "QUOI"
         },
         {
          "X": -0.5316834449768066,
          "Y": -0.3826110363006592,
          "count": 96,
          "label": "QUOI"
         },
         {
          "X": -1.474680781364441,
          "Y": 0.5168231129646301,
          "count": 96,
          "label": "QUOI"
         },
         {
          "X": 0.08518155664205551,
          "Y": -0.5668357610702515,
          "count": 96,
          "label": "QUOI"
         },
         {
          "X": 1.0381417274475098,
          "Y": 2.305878162384033,
          "count": 96,
          "label": "QUOI"
         },
         {
          "X": 0.8493266105651855,
          "Y": 0.3709956705570221,
          "count": 77,
          "label": "MAIS"
         },
         {
          "X": -2.2484381198883057,
          "Y": -0.08005529642105103,
          "count": 77,
          "label": "MAIS"
         },
         {
          "X": -0.5734463334083557,
          "Y": 1.4404056072235107,
          "count": 77,
          "label": "MAIS"
         },
         {
          "X": 2.189912796020508,
          "Y": -0.3414364457130432,
          "count": 77,
          "label": "MAIS"
         },
         {
          "X": 1.490423321723938,
          "Y": -0.8618544936180115,
          "count": 77,
          "label": "MAIS"
         },
         {
          "X": 2.796124219894409,
          "Y": 0.428219199180603,
          "count": 77,
          "label": "MAIS"
         },
         {
          "X": -0.010860791429877281,
          "Y": 0.7860143780708313,
          "count": 77,
          "label": "MAIS"
         },
         {
          "X": 0.5215978622436523,
          "Y": -1.8576406240463257,
          "count": 77,
          "label": "MAIS"
         },
         {
          "X": 0.12445073574781418,
          "Y": 0.05000607669353485,
          "count": 77,
          "label": "MAIS"
         },
         {
          "X": -0.010860791429877281,
          "Y": 0.7860143780708313,
          "count": 77,
          "label": "MAIS"
         },
         {
          "X": 2.5976979732513428,
          "Y": 1.3837021589279175,
          "count": 77,
          "label": "MAIS"
         },
         {
          "X": -0.7744936347007751,
          "Y": 0.43829581141471863,
          "count": 77,
          "label": "MAIS"
         },
         {
          "X": -2.2484381198883057,
          "Y": -0.08005529642105103,
          "count": 77,
          "label": "MAIS"
         },
         {
          "X": -0.010860791429877281,
          "Y": 0.7860143780708313,
          "count": 77,
          "label": "MAIS"
         },
         {
          "X": -0.2342323362827301,
          "Y": -2.38041090965271,
          "count": 77,
          "label": "MAIS"
         },
         {
          "X": 0.7569299340248108,
          "Y": -1.7701759338378906,
          "count": 77,
          "label": "MAIS"
         },
         {
          "X": 2.8399338722229004,
          "Y": 0.9212411046028137,
          "count": 77,
          "label": "MAIS"
         },
         {
          "X": -0.010860791429877281,
          "Y": 0.7860143780708313,
          "count": 77,
          "label": "MAIS"
         },
         {
          "X": 2.2986629009246826,
          "Y": -2.04585337638855,
          "count": 77,
          "label": "MAIS"
         },
         {
          "X": 1.0381417274475098,
          "Y": 2.305878162384033,
          "count": 77,
          "label": "MAIS"
         },
         {
          "X": 0.12445073574781418,
          "Y": 0.05000607669353485,
          "count": 77,
          "label": "MAIS"
         },
         {
          "X": -1.4802589416503906,
          "Y": -0.13927695155143738,
          "count": 77,
          "label": "MAIS"
         },
         {
          "X": 0.08518155664205551,
          "Y": -0.5668357610702515,
          "count": 77,
          "label": "MAIS"
         },
         {
          "X": 0.7769594192504883,
          "Y": -0.937835156917572,
          "count": 77,
          "label": "MAIS"
         },
         {
          "X": 2.189912796020508,
          "Y": -0.3414364457130432,
          "count": 77,
          "label": "MAIS"
         },
         {
          "X": -1.433718204498291,
          "Y": -1.7712657451629639,
          "count": 77,
          "label": "MAIS"
         },
         {
          "X": 0.5059654712677002,
          "Y": -0.36345821619033813,
          "count": 77,
          "label": "MAIS"
         },
         {
          "X": 1.0381417274475098,
          "Y": 2.305878162384033,
          "count": 77,
          "label": "MAIS"
         },
         {
          "X": 2.8399338722229004,
          "Y": 0.9212411046028137,
          "count": 77,
          "label": "MAIS"
         },
         {
          "X": -0.5734463334083557,
          "Y": 1.4404056072235107,
          "count": 77,
          "label": "MAIS"
         },
         {
          "X": 2.8399338722229004,
          "Y": 0.9212411046028137,
          "count": 77,
          "label": "MAIS"
         },
         {
          "X": 0.030435696244239807,
          "Y": 1.9478543996810913,
          "count": 77,
          "label": "MAIS"
         },
         {
          "X": 2.189912796020508,
          "Y": -0.3414364457130432,
          "count": 77,
          "label": "MAIS"
         },
         {
          "X": 0.8493266105651855,
          "Y": 0.3709956705570221,
          "count": 77,
          "label": "MAIS"
         },
         {
          "X": -1.4802589416503906,
          "Y": -0.13927695155143738,
          "count": 77,
          "label": "MAIS"
         },
         {
          "X": -0.20227792859077454,
          "Y": 2.6058075428009033,
          "count": 77,
          "label": "MAIS"
         },
         {
          "X": 0.12445073574781418,
          "Y": 0.05000607669353485,
          "count": 77,
          "label": "MAIS"
         },
         {
          "X": 1.0381417274475098,
          "Y": 2.305878162384033,
          "count": 77,
          "label": "MAIS"
         },
         {
          "X": 1.1252766847610474,
          "Y": -1.8188939094543457,
          "count": 77,
          "label": "MAIS"
         },
         {
          "X": -0.038906216621398926,
          "Y": -1.3321967124938965,
          "count": 77,
          "label": "MAIS"
         },
         {
          "X": 0.12445073574781418,
          "Y": 0.05000607669353485,
          "count": 77,
          "label": "MAIS"
         },
         {
          "X": -0.5734463334083557,
          "Y": 1.4404056072235107,
          "count": 77,
          "label": "MAIS"
         },
         {
          "X": 0.8493266105651855,
          "Y": 0.3709956705570221,
          "count": 77,
          "label": "MAIS"
         },
         {
          "X": 0.7133759260177612,
          "Y": 1.2155088186264038,
          "count": 77,
          "label": "MAIS"
         },
         {
          "X": -0.8977599740028381,
          "Y": -2.1725804805755615,
          "count": 77,
          "label": "MAIS"
         },
         {
          "X": -0.7744936347007751,
          "Y": 0.43829581141471863,
          "count": 77,
          "label": "MAIS"
         },
         {
          "X": 0.8493266105651855,
          "Y": 0.3709956705570221,
          "count": 77,
          "label": "MAIS"
         },
         {
          "X": 0.5037851333618164,
          "Y": -0.36826446652412415,
          "count": 77,
          "label": "MAIS"
         },
         {
          "X": -0.038906216621398926,
          "Y": -1.3321967124938965,
          "count": 77,
          "label": "MAIS"
         },
         {
          "X": 0.7133759260177612,
          "Y": 1.2155088186264038,
          "count": 77,
          "label": "MAIS"
         },
         {
          "X": 1.7958910465240479,
          "Y": -1.4791693687438965,
          "count": 77,
          "label": "MAIS"
         },
         {
          "X": -1.3968206644058228,
          "Y": -0.7054904103279114,
          "count": 77,
          "label": "MAIS"
         },
         {
          "X": -0.5734463334083557,
          "Y": 1.4404056072235107,
          "count": 77,
          "label": "MAIS"
         },
         {
          "X": 3.1184773445129395,
          "Y": 0.05429292470216751,
          "count": 77,
          "label": "MAIS"
         },
         {
          "X": 0.12445073574781418,
          "Y": 0.05000607669353485,
          "count": 77,
          "label": "MAIS"
         },
         {
          "X": -1.664787769317627,
          "Y": 1.7272974252700806,
          "count": 77,
          "label": "MAIS"
         },
         {
          "X": 1.4603018760681152,
          "Y": 1.5007543563842773,
          "count": 77,
          "label": "MAIS"
         },
         {
          "X": 0.3275226056575775,
          "Y": 1.327501893043518,
          "count": 77,
          "label": "MAIS"
         },
         {
          "X": 0.7769594192504883,
          "Y": -0.937835156917572,
          "count": 77,
          "label": "MAIS"
         },
         {
          "X": 0.7769594192504883,
          "Y": -0.937835156917572,
          "count": 77,
          "label": "MAIS"
         },
         {
          "X": -1.1061962842941284,
          "Y": 2.2150063514709473,
          "count": 77,
          "label": "MAIS"
         },
         {
          "X": 0.8493266105651855,
          "Y": 0.3709956705570221,
          "count": 77,
          "label": "MAIS"
         },
         {
          "X": 3.056864023208618,
          "Y": 0.18146811425685883,
          "count": 77,
          "label": "MAIS"
         },
         {
          "X": 0.12445073574781418,
          "Y": 0.05000607669353485,
          "count": 77,
          "label": "MAIS"
         },
         {
          "X": 0.08518155664205551,
          "Y": -0.5668357610702515,
          "count": 77,
          "label": "MAIS"
         },
         {
          "X": 0.7809913158416748,
          "Y": -2.468172311782837,
          "count": 77,
          "label": "MAIS"
         },
         {
          "X": 2.8399338722229004,
          "Y": 0.9212411046028137,
          "count": 77,
          "label": "MAIS"
         },
         {
          "X": -0.038906216621398926,
          "Y": -1.3321967124938965,
          "count": 77,
          "label": "MAIS"
         },
         {
          "X": -0.8977599740028381,
          "Y": -2.1725804805755615,
          "count": 77,
          "label": "MAIS"
         },
         {
          "X": 0.5021163821220398,
          "Y": -0.36915501952171326,
          "count": 77,
          "label": "MAIS"
         },
         {
          "X": 0.006693319883197546,
          "Y": -0.5674325227737427,
          "count": 77,
          "label": "MAIS"
         },
         {
          "X": -0.010860791429877281,
          "Y": 0.7860143780708313,
          "count": 77,
          "label": "MAIS"
         },
         {
          "X": -1.0455948114395142,
          "Y": 0.62473464012146,
          "count": 77,
          "label": "MAIS"
         },
         {
          "X": -0.038906216621398926,
          "Y": -1.3321967124938965,
          "count": 77,
          "label": "MAIS"
         },
         {
          "X": 0.9383410811424255,
          "Y": -0.30791112780570984,
          "count": 77,
          "label": "MAIS"
         },
         {
          "X": 0.9383410811424255,
          "Y": -0.30791112780570984,
          "count": 77,
          "label": "MAIS"
         },
         {
          "X": -0.5734463334083557,
          "Y": 1.4404056072235107,
          "count": 77,
          "label": "MAIS"
         },
         {
          "X": -1.4223387241363525,
          "Y": -1.1469751596450806,
          "count": 52,
          "label": "PLUS.P"
         },
         {
          "X": 0.08518155664205551,
          "Y": -0.5668357610702515,
          "count": 52,
          "label": "PLUS.P"
         },
         {
          "X": 0.5021993517875671,
          "Y": -0.3690900206565857,
          "count": 52,
          "label": "PLUS.P"
         },
         {
          "X": -1.3968206644058228,
          "Y": -0.7054904103279114,
          "count": 52,
          "label": "PLUS.P"
         },
         {
          "X": 1.5576236248016357,
          "Y": 0.37839797139167786,
          "count": 52,
          "label": "PLUS.P"
         },
         {
          "X": 2.189912796020508,
          "Y": -0.3414364457130432,
          "count": 52,
          "label": "PLUS.P"
         },
         {
          "X": -0.010860791429877281,
          "Y": 0.7860143780708313,
          "count": 52,
          "label": "PLUS.P"
         },
         {
          "X": 0.7769594192504883,
          "Y": -0.937835156917572,
          "count": 52,
          "label": "PLUS.P"
         },
         {
          "X": 1.9337143898010254,
          "Y": 0.7559248805046082,
          "count": 52,
          "label": "PLUS.P"
         },
         {
          "X": 2.189912796020508,
          "Y": -0.3414364457130432,
          "count": 52,
          "label": "PLUS.P"
         },
         {
          "X": 0.12445073574781418,
          "Y": 0.05000607669353485,
          "count": 52,
          "label": "PLUS.P"
         },
         {
          "X": -0.010860791429877281,
          "Y": 0.7860143780708313,
          "count": 52,
          "label": "PLUS.P"
         },
         {
          "X": 0.4047434628009796,
          "Y": 2.6628003120422363,
          "count": 52,
          "label": "PLUS.P"
         },
         {
          "X": -0.010860791429877281,
          "Y": 0.7860143780708313,
          "count": 52,
          "label": "PLUS.P"
         },
         {
          "X": 1.7958910465240479,
          "Y": -1.4791693687438965,
          "count": 52,
          "label": "PLUS.P"
         },
         {
          "X": 1.5444684028625488,
          "Y": -2.3124451637268066,
          "count": 52,
          "label": "PLUS.P"
         },
         {
          "X": 0.12445073574781418,
          "Y": 0.05000607669353485,
          "count": 52,
          "label": "PLUS.P"
         },
         {
          "X": 0.8493266105651855,
          "Y": 0.3709956705570221,
          "count": 52,
          "label": "PLUS.P"
         },
         {
          "X": 0.7133759260177612,
          "Y": 1.2155088186264038,
          "count": 52,
          "label": "PLUS.P"
         },
         {
          "X": 1.1252766847610474,
          "Y": -1.8188939094543457,
          "count": 52,
          "label": "PLUS.P"
         },
         {
          "X": 1.9337143898010254,
          "Y": 0.7559248805046082,
          "count": 52,
          "label": "PLUS.P"
         },
         {
          "X": 0.7769594192504883,
          "Y": -0.937835156917572,
          "count": 52,
          "label": "PLUS.P"
         },
         {
          "X": -1.3455700874328613,
          "Y": 1.0156828165054321,
          "count": 52,
          "label": "PLUS.P"
         },
         {
          "X": 0.12445073574781418,
          "Y": 0.05000607669353485,
          "count": 52,
          "label": "PLUS.P"
         },
         {
          "X": 1.9337143898010254,
          "Y": 0.7559248805046082,
          "count": 52,
          "label": "PLUS.P"
         },
         {
          "X": -0.8932654857635498,
          "Y": 2.2788407802581787,
          "count": 52,
          "label": "PLUS.P"
         },
         {
          "X": -2.094820976257324,
          "Y": 0.9459067583084106,
          "count": 52,
          "label": "PLUS.P"
         },
         {
          "X": 0.054940976202487946,
          "Y": 1.9244228601455688,
          "count": 52,
          "label": "PLUS.P"
         },
         {
          "X": 2.8062100410461426,
          "Y": 0.41145914793014526,
          "count": 52,
          "label": "PLUS.P"
         },
         {
          "X": 1.7958910465240479,
          "Y": -1.4791693687438965,
          "count": 52,
          "label": "PLUS.P"
         },
         {
          "X": 1.565230369567871,
          "Y": 0.3735778033733368,
          "count": 52,
          "label": "PLUS.P"
         },
         {
          "X": 1.9337143898010254,
          "Y": 0.7559248805046082,
          "count": 52,
          "label": "PLUS.P"
         },
         {
          "X": 0.8493266105651855,
          "Y": 0.3709956705570221,
          "count": 52,
          "label": "PLUS.P"
         },
         {
          "X": 0.9383410811424255,
          "Y": -0.30791112780570984,
          "count": 52,
          "label": "PLUS.P"
         },
         {
          "X": 1.7958910465240479,
          "Y": -1.4791693687438965,
          "count": 52,
          "label": "PLUS.P"
         },
         {
          "X": 1.4603018760681152,
          "Y": 1.5007543563842773,
          "count": 52,
          "label": "PLUS.P"
         },
         {
          "X": -1.433718204498291,
          "Y": -1.7712657451629639,
          "count": 52,
          "label": "PLUS.P"
         },
         {
          "X": 0.12445073574781418,
          "Y": 0.05000607669353485,
          "count": 52,
          "label": "PLUS.P"
         },
         {
          "X": 1.3840988874435425,
          "Y": -0.24738861620426178,
          "count": 52,
          "label": "PLUS.P"
         },
         {
          "X": 1.5444684028625488,
          "Y": -2.3124451637268066,
          "count": 52,
          "label": "PLUS.P"
         },
         {
          "X": -1.3455700874328613,
          "Y": 1.0156828165054321,
          "count": 52,
          "label": "PLUS.P"
         },
         {
          "X": 0.7133759260177612,
          "Y": 1.2155088186264038,
          "count": 52,
          "label": "PLUS.P"
         },
         {
          "X": 0.4047434628009796,
          "Y": 2.6628003120422363,
          "count": 52,
          "label": "PLUS.P"
         },
         {
          "X": 0.8493266105651855,
          "Y": 0.3709956705570221,
          "count": 52,
          "label": "PLUS.P"
         },
         {
          "X": 0.7769594192504883,
          "Y": -0.937835156917572,
          "count": 52,
          "label": "PLUS.P"
         },
         {
          "X": 1.9337143898010254,
          "Y": 0.7559248805046082,
          "count": 52,
          "label": "PLUS.P"
         },
         {
          "X": 2.356484889984131,
          "Y": 1.6304043531417847,
          "count": 52,
          "label": "PLUS.P"
         },
         {
          "X": -0.038906216621398926,
          "Y": -1.3321967124938965,
          "count": 52,
          "label": "PLUS.P"
         },
         {
          "X": -1.664787769317627,
          "Y": 1.7272974252700806,
          "count": 52,
          "label": "PLUS.P"
         },
         {
          "X": -0.010860791429877281,
          "Y": 0.7860143780708313,
          "count": 52,
          "label": "PLUS.P"
         },
         {
          "X": 0.7809913158416748,
          "Y": -2.468172311782837,
          "count": 52,
          "label": "PLUS.P"
         },
         {
          "X": 1.227840542793274,
          "Y": 1.0427117347717285,
          "count": 52,
          "label": "PLUS.P"
         },
         {
          "X": -0.20227792859077454,
          "Y": 2.6058075428009033,
          "count": 116,
          "label": "GSIGN"
         },
         {
          "X": 0.12445073574781418,
          "Y": 0.05000607669353485,
          "count": 116,
          "label": "GSIGN"
         },
         {
          "X": -1.664787769317627,
          "Y": 1.7272974252700806,
          "count": 116,
          "label": "GSIGN"
         },
         {
          "X": -0.2342323362827301,
          "Y": -2.38041090965271,
          "count": 116,
          "label": "GSIGN"
         },
         {
          "X": -1.4223387241363525,
          "Y": -1.1469751596450806,
          "count": 116,
          "label": "GSIGN"
         },
         {
          "X": 0.12445073574781418,
          "Y": 0.05000607669353485,
          "count": 116,
          "label": "GSIGN"
         },
         {
          "X": 0.9383410811424255,
          "Y": -0.30791112780570984,
          "count": 116,
          "label": "GSIGN"
         },
         {
          "X": 0.7769594192504883,
          "Y": -0.937835156917572,
          "count": 116,
          "label": "GSIGN"
         },
         {
          "X": -1.433718204498291,
          "Y": -1.7712657451629639,
          "count": 116,
          "label": "GSIGN"
         },
         {
          "X": 1.9539906978607178,
          "Y": 2.177903652191162,
          "count": 116,
          "label": "GSIGN"
         },
         {
          "X": -0.7744936347007751,
          "Y": 0.43829581141471863,
          "count": 116,
          "label": "GSIGN"
         },
         {
          "X": -0.038906216621398926,
          "Y": -1.3321967124938965,
          "count": 116,
          "label": "GSIGN"
         },
         {
          "X": 0.5059654712677002,
          "Y": -0.36345821619033813,
          "count": 116,
          "label": "GSIGN"
         },
         {
          "X": -2.330791473388672,
          "Y": 0.45270487666130066,
          "count": 116,
          "label": "GSIGN"
         },
         {
          "X": 0.8493266105651855,
          "Y": 0.3709956705570221,
          "count": 116,
          "label": "GSIGN"
         },
         {
          "X": 0.12445073574781418,
          "Y": 0.05000607669353485,
          "count": 116,
          "label": "GSIGN"
         },
         {
          "X": -0.6066305637359619,
          "Y": 0.047458481043577194,
          "count": 116,
          "label": "GSIGN"
         },
         {
          "X": 0.12445073574781418,
          "Y": 0.05000607669353485,
          "count": 116,
          "label": "GSIGN"
         },
         {
          "X": 1.5576236248016357,
          "Y": 0.37839797139167786,
          "count": 116,
          "label": "GSIGN"
         },
         {
          "X": 2.189912796020508,
          "Y": -0.3414364457130432,
          "count": 116,
          "label": "GSIGN"
         },
         {
          "X": 0.311575323343277,
          "Y": -2.505739450454712,
          "count": 116,
          "label": "GSIGN"
         },
         {
          "X": 2.923506736755371,
          "Y": -0.958000123500824,
          "count": 116,
          "label": "GSIGN"
         },
         {
          "X": 2.6689469814300537,
          "Y": -1.2330992221832275,
          "count": 116,
          "label": "GSIGN"
         },
         {
          "X": -2.168177843093872,
          "Y": -0.8271084427833557,
          "count": 116,
          "label": "GSIGN"
         },
         {
          "X": -2.1734933853149414,
          "Y": -0.8107757568359375,
          "count": 116,
          "label": "GSIGN"
         },
         {
          "X": -0.5734463334083557,
          "Y": 1.4404056072235107,
          "count": 116,
          "label": "GSIGN"
         },
         {
          "X": 0.3275226056575775,
          "Y": 1.327501893043518,
          "count": 116,
          "label": "GSIGN"
         },
         {
          "X": 0.06318021565675735,
          "Y": 1.9193215370178223,
          "count": 116,
          "label": "GSIGN"
         },
         {
          "X": 2.923506736755371,
          "Y": -0.958000123500824,
          "count": 116,
          "label": "GSIGN"
         },
         {
          "X": 0.3275226056575775,
          "Y": 1.327501893043518,
          "count": 116,
          "label": "GSIGN"
         },
         {
          "X": -0.5263254046440125,
          "Y": -0.5030304193496704,
          "count": 116,
          "label": "GSIGN"
         },
         {
          "X": 0.12445073574781418,
          "Y": 0.05000607669353485,
          "count": 116,
          "label": "GSIGN"
         },
         {
          "X": 1.0381417274475098,
          "Y": 2.305878162384033,
          "count": 116,
          "label": "GSIGN"
         },
         {
          "X": -1.4223387241363525,
          "Y": -1.1469751596450806,
          "count": 116,
          "label": "GSIGN"
         },
         {
          "X": 0.8493266105651855,
          "Y": 0.3709956705570221,
          "count": 116,
          "label": "GSIGN"
         },
         {
          "X": -0.038906216621398926,
          "Y": -1.3321967124938965,
          "count": 116,
          "label": "GSIGN"
         },
         {
          "X": 0.8493266105651855,
          "Y": 0.3709956705570221,
          "count": 116,
          "label": "GSIGN"
         },
         {
          "X": 0.7133759260177612,
          "Y": 1.2155088186264038,
          "count": 116,
          "label": "GSIGN"
         },
         {
          "X": -1.433718204498291,
          "Y": -1.7712657451629639,
          "count": 116,
          "label": "GSIGN"
         },
         {
          "X": 0.5059654712677002,
          "Y": -0.36345821619033813,
          "count": 116,
          "label": "GSIGN"
         },
         {
          "X": 1.227840542793274,
          "Y": 1.0427117347717285,
          "count": 116,
          "label": "GSIGN"
         },
         {
          "X": 2.796124219894409,
          "Y": 0.428219199180603,
          "count": 116,
          "label": "GSIGN"
         },
         {
          "X": -0.038906216621398926,
          "Y": -1.3321967124938965,
          "count": 116,
          "label": "GSIGN"
         },
         {
          "X": -0.7520882487297058,
          "Y": -0.2695270776748657,
          "count": 116,
          "label": "GSIGN"
         },
         {
          "X": -0.5263254046440125,
          "Y": -0.5030304193496704,
          "count": 116,
          "label": "GSIGN"
         },
         {
          "X": -0.7458605766296387,
          "Y": 2.3939642906188965,
          "count": 116,
          "label": "GSIGN"
         },
         {
          "X": -1.34554123878479,
          "Y": 0.9518899321556091,
          "count": 116,
          "label": "GSIGN"
         },
         {
          "X": 1.4603018760681152,
          "Y": 1.5007543563842773,
          "count": 116,
          "label": "GSIGN"
         },
         {
          "X": 0.12445073574781418,
          "Y": 0.05000607669353485,
          "count": 116,
          "label": "GSIGN"
         },
         {
          "X": 2.2986629009246826,
          "Y": -2.04585337638855,
          "count": 116,
          "label": "GSIGN"
         },
         {
          "X": 3.119617223739624,
          "Y": -0.13792037963867188,
          "count": 116,
          "label": "GSIGN"
         },
         {
          "X": 0.7769594192504883,
          "Y": -0.937835156917572,
          "count": 116,
          "label": "GSIGN"
         },
         {
          "X": 0.2876945436000824,
          "Y": 1.8856663703918457,
          "count": 116,
          "label": "GSIGN"
         },
         {
          "X": 3.119617223739624,
          "Y": -0.13792037963867188,
          "count": 116,
          "label": "GSIGN"
         },
         {
          "X": 0.8493266105651855,
          "Y": 0.3709956705570221,
          "count": 116,
          "label": "GSIGN"
         },
         {
          "X": 0.08518155664205551,
          "Y": -0.5668357610702515,
          "count": 116,
          "label": "GSIGN"
         },
         {
          "X": 1.5444684028625488,
          "Y": -2.3124451637268066,
          "count": 116,
          "label": "GSIGN"
         },
         {
          "X": -0.7744936347007751,
          "Y": 0.43829581141471863,
          "count": 116,
          "label": "GSIGN"
         },
         {
          "X": -1.3457872867584229,
          "Y": 0.9522409439086914,
          "count": 116,
          "label": "GSIGN"
         },
         {
          "X": 0.8493266105651855,
          "Y": 0.3709956705570221,
          "count": 116,
          "label": "GSIGN"
         },
         {
          "X": 1.490423321723938,
          "Y": -0.8618544936180115,
          "count": 116,
          "label": "GSIGN"
         },
         {
          "X": 0.9383410811424255,
          "Y": -0.30791112780570984,
          "count": 116,
          "label": "GSIGN"
         },
         {
          "X": -0.038906216621398926,
          "Y": -1.3321967124938965,
          "count": 116,
          "label": "GSIGN"
         },
         {
          "X": 1.7958910465240479,
          "Y": -1.4791693687438965,
          "count": 116,
          "label": "GSIGN"
         },
         {
          "X": 0.7133759260177612,
          "Y": 1.2155088186264038,
          "count": 116,
          "label": "GSIGN"
         },
         {
          "X": 0.5004889369010925,
          "Y": -0.3752165734767914,
          "count": 116,
          "label": "GSIGN"
         },
         {
          "X": 0.5043330192565918,
          "Y": -0.36959728598594666,
          "count": 116,
          "label": "GSIGN"
         },
         {
          "X": 1.0381417274475098,
          "Y": 2.305878162384033,
          "count": 116,
          "label": "GSIGN"
         },
         {
          "X": -0.7520882487297058,
          "Y": -0.2695270776748657,
          "count": 116,
          "label": "GSIGN"
         },
         {
          "X": -1.433718204498291,
          "Y": -1.7712657451629639,
          "count": 116,
          "label": "GSIGN"
         },
         {
          "X": 0.7769594192504883,
          "Y": -0.937835156917572,
          "count": 116,
          "label": "GSIGN"
         },
         {
          "X": -1.3968206644058228,
          "Y": -0.7054904103279114,
          "count": 116,
          "label": "GSIGN"
         },
         {
          "X": 0.9383410811424255,
          "Y": -0.30791112780570984,
          "count": 116,
          "label": "GSIGN"
         },
         {
          "X": -1.3000863790512085,
          "Y": 1.9862135648727417,
          "count": 116,
          "label": "GSIGN"
         },
         {
          "X": 0.7809913158416748,
          "Y": -2.468172311782837,
          "count": 116,
          "label": "GSIGN"
         },
         {
          "X": 0.9383410811424255,
          "Y": -0.30791112780570984,
          "count": 116,
          "label": "GSIGN"
         },
         {
          "X": 0.12445073574781418,
          "Y": 0.05000607669353485,
          "count": 116,
          "label": "GSIGN"
         },
         {
          "X": -0.038906216621398926,
          "Y": -1.3321967124938965,
          "count": 116,
          "label": "GSIGN"
         },
         {
          "X": -0.535822331905365,
          "Y": -0.45780566334724426,
          "count": 116,
          "label": "GSIGN"
         },
         {
          "X": 1.0381417274475098,
          "Y": 2.305878162384033,
          "count": 116,
          "label": "GSIGN"
         },
         {
          "X": 0.12445073574781418,
          "Y": 0.05000607669353485,
          "count": 116,
          "label": "GSIGN"
         },
         {
          "X": -1.433718204498291,
          "Y": -1.7712657451629639,
          "count": 116,
          "label": "GSIGN"
         },
         {
          "X": -0.010860791429877281,
          "Y": 0.7860143780708313,
          "count": 116,
          "label": "GSIGN"
         },
         {
          "X": 0.19849514961242676,
          "Y": 2.5399622917175293,
          "count": 116,
          "label": "GSIGN"
         },
         {
          "X": -0.2342323362827301,
          "Y": -2.38041090965271,
          "count": 116,
          "label": "GSIGN"
         },
         {
          "X": 0.9383410811424255,
          "Y": -0.30791112780570984,
          "count": 116,
          "label": "GSIGN"
         },
         {
          "X": 0.7133759260177612,
          "Y": 1.2155088186264038,
          "count": 116,
          "label": "GSIGN"
         },
         {
          "X": -0.8002203106880188,
          "Y": -1.5430399179458618,
          "count": 116,
          "label": "GSIGN"
         },
         {
          "X": 0.12445073574781418,
          "Y": 0.05000607669353485,
          "count": 116,
          "label": "GSIGN"
         },
         {
          "X": 0.12445073574781418,
          "Y": 0.05000607669353485,
          "count": 116,
          "label": "GSIGN"
         },
         {
          "X": 1.227840542793274,
          "Y": 1.0427117347717285,
          "count": 116,
          "label": "GSIGN"
         },
         {
          "X": 2.923506736755371,
          "Y": -0.958000123500824,
          "count": 116,
          "label": "GSIGN"
         },
         {
          "X": -0.038906216621398926,
          "Y": -1.3321967124938965,
          "count": 116,
          "label": "GSIGN"
         },
         {
          "X": 0.6420198082923889,
          "Y": -1.793840765953064,
          "count": 116,
          "label": "GSIGN"
         },
         {
          "X": 0.7769594192504883,
          "Y": -0.937835156917572,
          "count": 116,
          "label": "GSIGN"
         },
         {
          "X": -0.010860791429877281,
          "Y": 0.7860143780708313,
          "count": 116,
          "label": "GSIGN"
         },
         {
          "X": 0.8493266105651855,
          "Y": 0.3709956705570221,
          "count": 116,
          "label": "GSIGN"
         },
         {
          "X": -0.010860791429877281,
          "Y": 0.7860143780708313,
          "count": 116,
          "label": "GSIGN"
         },
         {
          "X": 0.9383410811424255,
          "Y": -0.30791112780570984,
          "count": 116,
          "label": "GSIGN"
         },
         {
          "X": 0.12445073574781418,
          "Y": 0.05000607669353485,
          "count": 116,
          "label": "GSIGN"
         },
         {
          "X": 1.7958910465240479,
          "Y": -1.4791693687438965,
          "count": 116,
          "label": "GSIGN"
         },
         {
          "X": -1.0455948114395142,
          "Y": 0.62473464012146,
          "count": 116,
          "label": "GSIGN"
         },
         {
          "X": 0.12445073574781418,
          "Y": 0.05000607669353485,
          "count": 116,
          "label": "GSIGN"
         },
         {
          "X": -2.094820976257324,
          "Y": 0.9459067583084106,
          "count": 116,
          "label": "GSIGN"
         },
         {
          "X": -0.010860791429877281,
          "Y": 0.7860143780708313,
          "count": 116,
          "label": "GSIGN"
         },
         {
          "X": -0.8977599740028381,
          "Y": -2.1725804805755615,
          "count": 116,
          "label": "GSIGN"
         },
         {
          "X": -0.038906216621398926,
          "Y": -1.3321967124938965,
          "count": 116,
          "label": "GSIGN"
         },
         {
          "X": 2.189912796020508,
          "Y": -0.3414364457130432,
          "count": 116,
          "label": "GSIGN"
         },
         {
          "X": -0.038906216621398926,
          "Y": -1.3321967124938965,
          "count": 116,
          "label": "GSIGN"
         },
         {
          "X": 0.12445073574781418,
          "Y": 0.05000607669353485,
          "count": 116,
          "label": "GSIGN"
         },
         {
          "X": 1.9337143898010254,
          "Y": 0.7559248805046082,
          "count": 116,
          "label": "GSIGN"
         },
         {
          "X": -1.3455700874328613,
          "Y": 1.0156828165054321,
          "count": 116,
          "label": "GSIGN"
         },
         {
          "X": -1.433718204498291,
          "Y": -1.7712657451629639,
          "count": 116,
          "label": "GSIGN"
         },
         {
          "X": 0.8493266105651855,
          "Y": 0.3709956705570221,
          "count": 116,
          "label": "GSIGN"
         },
         {
          "X": -1.3374443054199219,
          "Y": 0.9789514541625977,
          "count": 116,
          "label": "GSIGN"
         },
         {
          "X": -1.3968206644058228,
          "Y": -0.7054904103279114,
          "count": 116,
          "label": "GSIGN"
         },
         {
          "X": 0.7769594192504883,
          "Y": -0.937835156917572,
          "count": 69,
          "label": "FALLOIR"
         },
         {
          "X": 0.7133759260177612,
          "Y": 1.2155088186264038,
          "count": 69,
          "label": "FALLOIR"
         },
         {
          "X": 0.006693319883197546,
          "Y": -0.5674325227737427,
          "count": 69,
          "label": "FALLOIR"
         },
         {
          "X": 2.189912796020508,
          "Y": -0.3414364457130432,
          "count": 69,
          "label": "FALLOIR"
         },
         {
          "X": 0.9383410811424255,
          "Y": -0.30791112780570984,
          "count": 69,
          "label": "FALLOIR"
         },
         {
          "X": 2.5816004276275635,
          "Y": -1.5323636531829834,
          "count": 69,
          "label": "FALLOIR"
         },
         {
          "X": 1.9539906978607178,
          "Y": 2.177903652191162,
          "count": 69,
          "label": "FALLOIR"
         },
         {
          "X": 2.189912796020508,
          "Y": -0.3414364457130432,
          "count": 69,
          "label": "FALLOIR"
         },
         {
          "X": 0.12445073574781418,
          "Y": 0.05000607669353485,
          "count": 69,
          "label": "FALLOIR"
         },
         {
          "X": 0.7769594192504883,
          "Y": -0.937835156917572,
          "count": 69,
          "label": "FALLOIR"
         },
         {
          "X": 1.5617005825042725,
          "Y": 0.3695625364780426,
          "count": 69,
          "label": "FALLOIR"
         },
         {
          "X": -1.4802589416503906,
          "Y": -0.13927695155143738,
          "count": 69,
          "label": "FALLOIR"
         },
         {
          "X": 0.5004889369010925,
          "Y": -0.3752165734767914,
          "count": 69,
          "label": "FALLOIR"
         },
         {
          "X": 0.7133759260177612,
          "Y": 1.2155088186264038,
          "count": 69,
          "label": "FALLOIR"
         },
         {
          "X": -2.1325340270996094,
          "Y": -0.914607584476471,
          "count": 69,
          "label": "FALLOIR"
         },
         {
          "X": -0.5316834449768066,
          "Y": -0.3826110363006592,
          "count": 69,
          "label": "FALLOIR"
         },
         {
          "X": -0.010860791429877281,
          "Y": 0.7860143780708313,
          "count": 69,
          "label": "FALLOIR"
         },
         {
          "X": 2.356484889984131,
          "Y": 1.6304043531417847,
          "count": 69,
          "label": "FALLOIR"
         },
         {
          "X": 0.5021993517875671,
          "Y": -0.3690900206565857,
          "count": 69,
          "label": "FALLOIR"
         },
         {
          "X": 0.5021163821220398,
          "Y": -0.36915501952171326,
          "count": 69,
          "label": "FALLOIR"
         },
         {
          "X": 0.054940976202487946,
          "Y": 1.9244228601455688,
          "count": 69,
          "label": "FALLOIR"
         },
         {
          "X": 1.7958910465240479,
          "Y": -1.4791693687438965,
          "count": 69,
          "label": "FALLOIR"
         },
         {
          "X": -0.010860791429877281,
          "Y": 0.7860143780708313,
          "count": 69,
          "label": "FALLOIR"
         },
         {
          "X": -2.1472415924072266,
          "Y": -0.8699626922607422,
          "count": 69,
          "label": "FALLOIR"
         },
         {
          "X": 2.8062100410461426,
          "Y": 0.41145914793014526,
          "count": 69,
          "label": "FALLOIR"
         },
         {
          "X": 2.189912796020508,
          "Y": -0.3414364457130432,
          "count": 69,
          "label": "FALLOIR"
         },
         {
          "X": -0.2342323362827301,
          "Y": -2.38041090965271,
          "count": 69,
          "label": "FALLOIR"
         },
         {
          "X": 1.0381417274475098,
          "Y": 2.305878162384033,
          "count": 69,
          "label": "FALLOIR"
         },
         {
          "X": 2.189912796020508,
          "Y": -0.3414364457130432,
          "count": 69,
          "label": "FALLOIR"
         },
         {
          "X": 1.7958910465240479,
          "Y": -1.4791693687438965,
          "count": 69,
          "label": "FALLOIR"
         },
         {
          "X": 0.9383410811424255,
          "Y": -0.30791112780570984,
          "count": 69,
          "label": "FALLOIR"
         },
         {
          "X": 1.0381417274475098,
          "Y": 2.305878162384033,
          "count": 69,
          "label": "FALLOIR"
         },
         {
          "X": -0.5316834449768066,
          "Y": -0.3826110363006592,
          "count": 69,
          "label": "FALLOIR"
         },
         {
          "X": 0.12445073574781418,
          "Y": 0.05000607669353485,
          "count": 69,
          "label": "FALLOIR"
         },
         {
          "X": -0.5316834449768066,
          "Y": -0.3826110363006592,
          "count": 69,
          "label": "FALLOIR"
         },
         {
          "X": 1.227840542793274,
          "Y": 1.0427117347717285,
          "count": 69,
          "label": "FALLOIR"
         },
         {
          "X": -1.4802589416503906,
          "Y": -0.13927695155143738,
          "count": 69,
          "label": "FALLOIR"
         },
         {
          "X": -0.010860791429877281,
          "Y": 0.7860143780708313,
          "count": 69,
          "label": "FALLOIR"
         },
         {
          "X": 2.356484889984131,
          "Y": 1.6304043531417847,
          "count": 69,
          "label": "FALLOIR"
         },
         {
          "X": -0.573866069316864,
          "Y": 0.29519519209861755,
          "count": 69,
          "label": "FALLOIR"
         },
         {
          "X": -0.7744936347007751,
          "Y": 0.43829581141471863,
          "count": 69,
          "label": "FALLOIR"
         },
         {
          "X": 0.12445073574781418,
          "Y": 0.05000607669353485,
          "count": 69,
          "label": "FALLOIR"
         },
         {
          "X": -0.2342323362827301,
          "Y": -2.38041090965271,
          "count": 69,
          "label": "FALLOIR"
         },
         {
          "X": 2.189912796020508,
          "Y": -0.3414364457130432,
          "count": 69,
          "label": "FALLOIR"
         },
         {
          "X": -1.0455948114395142,
          "Y": 0.62473464012146,
          "count": 69,
          "label": "FALLOIR"
         },
         {
          "X": 1.562938928604126,
          "Y": -0.99180668592453,
          "count": 69,
          "label": "FALLOIR"
         },
         {
          "X": 1.9539906978607178,
          "Y": 2.177903652191162,
          "count": 69,
          "label": "FALLOIR"
         },
         {
          "X": 1.3840988874435425,
          "Y": -0.24738861620426178,
          "count": 69,
          "label": "FALLOIR"
         },
         {
          "X": 1.0381417274475098,
          "Y": 2.305878162384033,
          "count": 69,
          "label": "FALLOIR"
         },
         {
          "X": -0.7458605766296387,
          "Y": 2.3939642906188965,
          "count": 69,
          "label": "FALLOIR"
         },
         {
          "X": 1.228036642074585,
          "Y": 1.042841911315918,
          "count": 69,
          "label": "FALLOIR"
         },
         {
          "X": 1.490423321723938,
          "Y": -0.8618544936180115,
          "count": 69,
          "label": "FALLOIR"
         },
         {
          "X": 2.189912796020508,
          "Y": -0.3414364457130432,
          "count": 69,
          "label": "FALLOIR"
         },
         {
          "X": 0.8493266105651855,
          "Y": 0.3709956705570221,
          "count": 69,
          "label": "FALLOIR"
         },
         {
          "X": 0.311575323343277,
          "Y": -2.505739450454712,
          "count": 69,
          "label": "FALLOIR"
         },
         {
          "X": -2.094820976257324,
          "Y": 0.9459067583084106,
          "count": 69,
          "label": "FALLOIR"
         },
         {
          "X": 0.12445073574781418,
          "Y": 0.05000607669353485,
          "count": 69,
          "label": "FALLOIR"
         },
         {
          "X": 0.8493266105651855,
          "Y": 0.3709956705570221,
          "count": 69,
          "label": "FALLOIR"
         },
         {
          "X": 0.12445073574781418,
          "Y": 0.05000607669353485,
          "count": 69,
          "label": "FALLOIR"
         },
         {
          "X": 0.10488466173410416,
          "Y": -0.5608643889427185,
          "count": 69,
          "label": "FALLOIR"
         },
         {
          "X": -0.5734463334083557,
          "Y": 1.4404056072235107,
          "count": 69,
          "label": "FALLOIR"
         },
         {
          "X": -0.010860791429877281,
          "Y": 0.7860143780708313,
          "count": 69,
          "label": "FALLOIR"
         },
         {
          "X": 1.7958910465240479,
          "Y": -1.4791693687438965,
          "count": 69,
          "label": "FALLOIR"
         },
         {
          "X": 2.8399338722229004,
          "Y": 0.9212411046028137,
          "count": 69,
          "label": "FALLOIR"
         },
         {
          "X": 1.490423321723938,
          "Y": -0.8618544936180115,
          "count": 69,
          "label": "FALLOIR"
         },
         {
          "X": -0.7520882487297058,
          "Y": -0.2695270776748657,
          "count": 69,
          "label": "FALLOIR"
         },
         {
          "X": 0.8493266105651855,
          "Y": 0.3709956705570221,
          "count": 69,
          "label": "FALLOIR"
         },
         {
          "X": 0.3275226056575775,
          "Y": 1.327501893043518,
          "count": 69,
          "label": "FALLOIR"
         },
         {
          "X": 1.5617005825042725,
          "Y": 0.3695625364780426,
          "count": 69,
          "label": "FALLOIR"
         },
         {
          "X": -0.038906216621398926,
          "Y": -1.3321967124938965,
          "count": 75,
          "label": "AVOIR "
         },
         {
          "X": -2.168604612350464,
          "Y": -0.8256732225418091,
          "count": 75,
          "label": "AVOIR "
         },
         {
          "X": 0.19849514961242676,
          "Y": 2.5399622917175293,
          "count": 75,
          "label": "AVOIR "
         },
         {
          "X": 0.311575323343277,
          "Y": -2.505739450454712,
          "count": 75,
          "label": "AVOIR "
         },
         {
          "X": -0.7744936347007751,
          "Y": 0.43829581141471863,
          "count": 75,
          "label": "AVOIR "
         },
         {
          "X": -0.038906216621398926,
          "Y": -1.3321967124938965,
          "count": 75,
          "label": "AVOIR "
         },
         {
          "X": -0.010860791429877281,
          "Y": 0.7860143780708313,
          "count": 75,
          "label": "AVOIR "
         },
         {
          "X": 0.8493266105651855,
          "Y": 0.3709956705570221,
          "count": 75,
          "label": "AVOIR "
         },
         {
          "X": 0.12445073574781418,
          "Y": 0.05000607669353485,
          "count": 75,
          "label": "AVOIR "
         },
         {
          "X": -0.7520882487297058,
          "Y": -0.2695270776748657,
          "count": 75,
          "label": "AVOIR "
         },
         {
          "X": 0.08518155664205551,
          "Y": -0.5668357610702515,
          "count": 75,
          "label": "AVOIR "
         },
         {
          "X": -0.6066305637359619,
          "Y": 0.047458481043577194,
          "count": 75,
          "label": "AVOIR "
         },
         {
          "X": 0.2876945436000824,
          "Y": 1.8856663703918457,
          "count": 75,
          "label": "AVOIR "
         },
         {
          "X": 0.9383410811424255,
          "Y": -0.30791112780570984,
          "count": 75,
          "label": "AVOIR "
         },
         {
          "X": 0.7133759260177612,
          "Y": 1.2155088186264038,
          "count": 75,
          "label": "AVOIR "
         },
         {
          "X": 1.3840988874435425,
          "Y": -0.24738861620426178,
          "count": 75,
          "label": "AVOIR "
         },
         {
          "X": 0.8493266105651855,
          "Y": 0.3709956705570221,
          "count": 75,
          "label": "AVOIR "
         },
         {
          "X": 1.0381417274475098,
          "Y": 2.305878162384033,
          "count": 75,
          "label": "AVOIR "
         },
         {
          "X": 0.8493266105651855,
          "Y": 0.3709956705570221,
          "count": 75,
          "label": "AVOIR "
         },
         {
          "X": 2.5976979732513428,
          "Y": 1.3837021589279175,
          "count": 75,
          "label": "AVOIR "
         },
         {
          "X": 2.8062100410461426,
          "Y": 0.41145914793014526,
          "count": 75,
          "label": "AVOIR "
         },
         {
          "X": -0.010860791429877281,
          "Y": 0.7860143780708313,
          "count": 75,
          "label": "AVOIR "
         },
         {
          "X": 1.7958910465240479,
          "Y": -1.4791693687438965,
          "count": 75,
          "label": "AVOIR "
         },
         {
          "X": 0.5037851333618164,
          "Y": -0.36826446652412415,
          "count": 75,
          "label": "AVOIR "
         },
         {
          "X": 0.7769594192504883,
          "Y": -0.937835156917572,
          "count": 75,
          "label": "AVOIR "
         },
         {
          "X": 2.8399338722229004,
          "Y": 0.9212411046028137,
          "count": 75,
          "label": "AVOIR "
         },
         {
          "X": 3.119617223739624,
          "Y": -0.13792037963867188,
          "count": 75,
          "label": "AVOIR "
         },
         {
          "X": -0.038906216621398926,
          "Y": -1.3321967124938965,
          "count": 75,
          "label": "AVOIR "
         },
         {
          "X": 1.9337143898010254,
          "Y": 0.7559248805046082,
          "count": 75,
          "label": "AVOIR "
         },
         {
          "X": -0.7744936347007751,
          "Y": 0.43829581141471863,
          "count": 75,
          "label": "AVOIR "
         },
         {
          "X": -0.5734463334083557,
          "Y": 1.4404056072235107,
          "count": 75,
          "label": "AVOIR "
         },
         {
          "X": -0.010860791429877281,
          "Y": 0.7860143780708313,
          "count": 75,
          "label": "AVOIR "
         },
         {
          "X": 1.4603018760681152,
          "Y": 1.5007543563842773,
          "count": 75,
          "label": "AVOIR "
         },
         {
          "X": 0.9383410811424255,
          "Y": -0.30791112780570984,
          "count": 75,
          "label": "AVOIR "
         },
         {
          "X": 1.1252766847610474,
          "Y": -1.8188939094543457,
          "count": 75,
          "label": "AVOIR "
         },
         {
          "X": 0.8493266105651855,
          "Y": 0.3709956705570221,
          "count": 75,
          "label": "AVOIR "
         },
         {
          "X": 0.3065185546875,
          "Y": -2.5074639320373535,
          "count": 75,
          "label": "AVOIR "
         },
         {
          "X": 0.030435696244239807,
          "Y": 1.9478543996810913,
          "count": 75,
          "label": "AVOIR "
         },
         {
          "X": 0.12445073574781418,
          "Y": 0.05000607669353485,
          "count": 75,
          "label": "AVOIR "
         },
         {
          "X": 1.5576236248016357,
          "Y": 0.37839797139167786,
          "count": 75,
          "label": "AVOIR "
         },
         {
          "X": 0.9383410811424255,
          "Y": -0.30791112780570984,
          "count": 75,
          "label": "AVOIR "
         },
         {
          "X": -2.2484381198883057,
          "Y": -0.08005529642105103,
          "count": 75,
          "label": "AVOIR "
         },
         {
          "X": 0.7769594192504883,
          "Y": -0.937835156917572,
          "count": 75,
          "label": "AVOIR "
         },
         {
          "X": 1.7958910465240479,
          "Y": -1.4791693687438965,
          "count": 75,
          "label": "AVOIR "
         },
         {
          "X": -0.5734463334083557,
          "Y": 1.4404056072235107,
          "count": 75,
          "label": "AVOIR "
         },
         {
          "X": 1.7958910465240479,
          "Y": -1.4791693687438965,
          "count": 75,
          "label": "AVOIR "
         },
         {
          "X": 1.9337143898010254,
          "Y": 0.7559248805046082,
          "count": 75,
          "label": "AVOIR "
         },
         {
          "X": 0.8493266105651855,
          "Y": 0.3709956705570221,
          "count": 75,
          "label": "AVOIR "
         },
         {
          "X": 0.8493266105651855,
          "Y": 0.3709956705570221,
          "count": 75,
          "label": "AVOIR "
         },
         {
          "X": -0.038906216621398926,
          "Y": -1.3321967124938965,
          "count": 75,
          "label": "AVOIR "
         },
         {
          "X": -0.535822331905365,
          "Y": -0.45780566334724426,
          "count": 75,
          "label": "AVOIR "
         },
         {
          "X": -0.010860791429877281,
          "Y": 0.7860143780708313,
          "count": 75,
          "label": "AVOIR "
         },
         {
          "X": 0.9383410811424255,
          "Y": -0.30791112780570984,
          "count": 75,
          "label": "AVOIR "
         },
         {
          "X": -0.038906216621398926,
          "Y": -1.3321967124938965,
          "count": 75,
          "label": "AVOIR "
         },
         {
          "X": 1.5576236248016357,
          "Y": 0.37839797139167786,
          "count": 75,
          "label": "AVOIR "
         },
         {
          "X": 1.7958910465240479,
          "Y": -1.4791693687438965,
          "count": 75,
          "label": "AVOIR "
         },
         {
          "X": -0.7458605766296387,
          "Y": 2.3939642906188965,
          "count": 75,
          "label": "AVOIR "
         },
         {
          "X": -2.094820976257324,
          "Y": 0.9459067583084106,
          "count": 75,
          "label": "AVOIR "
         },
         {
          "X": -1.0123517513275146,
          "Y": -0.5774029493331909,
          "count": 75,
          "label": "AVOIR "
         },
         {
          "X": 0.12445073574781418,
          "Y": 0.05000607669353485,
          "count": 75,
          "label": "AVOIR "
         },
         {
          "X": 0.12445073574781418,
          "Y": 0.05000607669353485,
          "count": 75,
          "label": "AVOIR "
         },
         {
          "X": -1.986215591430664,
          "Y": -1.3099150657653809,
          "count": 75,
          "label": "AVOIR "
         },
         {
          "X": 1.1252766847610474,
          "Y": -1.8188939094543457,
          "count": 75,
          "label": "AVOIR "
         },
         {
          "X": -1.3968206644058228,
          "Y": -0.7054904103279114,
          "count": 75,
          "label": "AVOIR "
         },
         {
          "X": 0.7769594192504883,
          "Y": -0.937835156917572,
          "count": 75,
          "label": "AVOIR "
         },
         {
          "X": -0.038906216621398926,
          "Y": -1.3321967124938965,
          "count": 75,
          "label": "AVOIR "
         },
         {
          "X": 1.4603018760681152,
          "Y": 1.5007543563842773,
          "count": 75,
          "label": "AVOIR "
         },
         {
          "X": 1.3840988874435425,
          "Y": -0.24738861620426178,
          "count": 75,
          "label": "AVOIR "
         },
         {
          "X": -0.5734463334083557,
          "Y": 1.4404056072235107,
          "count": 75,
          "label": "AVOIR "
         },
         {
          "X": -1.0455948114395142,
          "Y": 0.62473464012146,
          "count": 75,
          "label": "AVOIR "
         },
         {
          "X": 0.8493266105651855,
          "Y": 0.3709956705570221,
          "count": 75,
          "label": "AVOIR "
         },
         {
          "X": 1.9337143898010254,
          "Y": 0.7559248805046082,
          "count": 75,
          "label": "AVOIR "
         },
         {
          "X": -0.7744936347007751,
          "Y": 0.43829581141471863,
          "count": 75,
          "label": "AVOIR "
         },
         {
          "X": 0.054940976202487946,
          "Y": 1.9244228601455688,
          "count": 75,
          "label": "AVOIR "
         },
         {
          "X": 0.8493266105651855,
          "Y": 0.3709956705570221,
          "count": 75,
          "label": "AVOIR "
         },
         {
          "X": 1.1252766847610474,
          "Y": -1.8188939094543457,
          "count": 69,
          "label": "C-EST"
         },
         {
          "X": 0.5004889369010925,
          "Y": -0.3752165734767914,
          "count": 69,
          "label": "C-EST"
         },
         {
          "X": 2.8399338722229004,
          "Y": 0.9212411046028137,
          "count": 69,
          "label": "C-EST"
         },
         {
          "X": 2.189912796020508,
          "Y": -0.3414364457130432,
          "count": 69,
          "label": "C-EST"
         },
         {
          "X": -0.010860791429877281,
          "Y": 0.7860143780708313,
          "count": 69,
          "label": "C-EST"
         },
         {
          "X": 2.189912796020508,
          "Y": -0.3414364457130432,
          "count": 69,
          "label": "C-EST"
         },
         {
          "X": 0.8493266105651855,
          "Y": 0.3709956705570221,
          "count": 69,
          "label": "C-EST"
         },
         {
          "X": -1.3968206644058228,
          "Y": -0.7054904103279114,
          "count": 69,
          "label": "C-EST"
         },
         {
          "X": -0.5734463334083557,
          "Y": 1.4404056072235107,
          "count": 69,
          "label": "C-EST"
         },
         {
          "X": 2.8399338722229004,
          "Y": 0.9212411046028137,
          "count": 69,
          "label": "C-EST"
         },
         {
          "X": 0.006693319883197546,
          "Y": -0.5674325227737427,
          "count": 69,
          "label": "C-EST"
         },
         {
          "X": -0.7520882487297058,
          "Y": -0.2695270776748657,
          "count": 69,
          "label": "C-EST"
         },
         {
          "X": -0.010860791429877281,
          "Y": 0.7860143780708313,
          "count": 69,
          "label": "C-EST"
         },
         {
          "X": 2.8062100410461426,
          "Y": 0.41145914793014526,
          "count": 69,
          "label": "C-EST"
         },
         {
          "X": 0.8493266105651855,
          "Y": 0.3709956705570221,
          "count": 69,
          "label": "C-EST"
         },
         {
          "X": 0.9383410811424255,
          "Y": -0.30791112780570984,
          "count": 69,
          "label": "C-EST"
         },
         {
          "X": 0.8493266105651855,
          "Y": 0.3709956705570221,
          "count": 69,
          "label": "C-EST"
         },
         {
          "X": 1.490423321723938,
          "Y": -0.8618544936180115,
          "count": 69,
          "label": "C-EST"
         },
         {
          "X": -0.5727768540382385,
          "Y": 0.19141483306884766,
          "count": 69,
          "label": "C-EST"
         },
         {
          "X": -0.2342323362827301,
          "Y": -2.38041090965271,
          "count": 69,
          "label": "C-EST"
         },
         {
          "X": 3.123568058013916,
          "Y": -0.21168310940265656,
          "count": 69,
          "label": "C-EST"
         },
         {
          "X": -0.2342323362827301,
          "Y": -2.38041090965271,
          "count": 69,
          "label": "C-EST"
         },
         {
          "X": 0.12445073574781418,
          "Y": 0.05000607669353485,
          "count": 69,
          "label": "C-EST"
         },
         {
          "X": -0.8977599740028381,
          "Y": -2.1725804805755615,
          "count": 69,
          "label": "C-EST"
         },
         {
          "X": -0.010860791429877281,
          "Y": 0.7860143780708313,
          "count": 69,
          "label": "C-EST"
         },
         {
          "X": 0.8493266105651855,
          "Y": 0.3709956705570221,
          "count": 69,
          "label": "C-EST"
         },
         {
          "X": 1.1252766847610474,
          "Y": -1.8188939094543457,
          "count": 69,
          "label": "C-EST"
         },
         {
          "X": 1.9337143898010254,
          "Y": 0.7559248805046082,
          "count": 69,
          "label": "C-EST"
         },
         {
          "X": -1.3455700874328613,
          "Y": 1.0156828165054321,
          "count": 69,
          "label": "C-EST"
         },
         {
          "X": -0.010860791429877281,
          "Y": 0.7860143780708313,
          "count": 69,
          "label": "C-EST"
         },
         {
          "X": -0.038906216621398926,
          "Y": -1.3321967124938965,
          "count": 69,
          "label": "C-EST"
         },
         {
          "X": 0.8493266105651855,
          "Y": 0.3709956705570221,
          "count": 69,
          "label": "C-EST"
         },
         {
          "X": -0.20227792859077454,
          "Y": 2.6058075428009033,
          "count": 69,
          "label": "C-EST"
         },
         {
          "X": -0.038906216621398926,
          "Y": -1.3321967124938965,
          "count": 69,
          "label": "C-EST"
         },
         {
          "X": 0.7809913158416748,
          "Y": -2.468172311782837,
          "count": 69,
          "label": "C-EST"
         },
         {
          "X": 2.189912796020508,
          "Y": -0.3414364457130432,
          "count": 69,
          "label": "C-EST"
         },
         {
          "X": 1.9539906978607178,
          "Y": 2.177903652191162,
          "count": 69,
          "label": "C-EST"
         },
         {
          "X": 0.12445073574781418,
          "Y": 0.05000607669353485,
          "count": 69,
          "label": "C-EST"
         },
         {
          "X": 0.8493266105651855,
          "Y": 0.3709956705570221,
          "count": 69,
          "label": "C-EST"
         },
         {
          "X": 1.5444684028625488,
          "Y": -2.3124451637268066,
          "count": 69,
          "label": "C-EST"
         },
         {
          "X": -0.5734463334083557,
          "Y": 1.4404056072235107,
          "count": 69,
          "label": "C-EST"
         },
         {
          "X": -0.5263254046440125,
          "Y": -0.5030304193496704,
          "count": 69,
          "label": "C-EST"
         },
         {
          "X": 0.8493266105651855,
          "Y": 0.3709956705570221,
          "count": 69,
          "label": "C-EST"
         },
         {
          "X": -0.010860791429877281,
          "Y": 0.7860143780708313,
          "count": 69,
          "label": "C-EST"
         },
         {
          "X": 0.006693319883197546,
          "Y": -0.5674325227737427,
          "count": 69,
          "label": "C-EST"
         },
         {
          "X": -0.010860791429877281,
          "Y": 0.7860143780708313,
          "count": 69,
          "label": "C-EST"
         },
         {
          "X": 2.923506736755371,
          "Y": -0.958000123500824,
          "count": 69,
          "label": "C-EST"
         },
         {
          "X": 0.12445073574781418,
          "Y": 0.05000607669353485,
          "count": 69,
          "label": "C-EST"
         },
         {
          "X": -2.2484381198883057,
          "Y": -0.08005529642105103,
          "count": 69,
          "label": "C-EST"
         },
         {
          "X": 1.4603018760681152,
          "Y": 1.5007543563842773,
          "count": 69,
          "label": "C-EST"
         },
         {
          "X": 0.5037851333618164,
          "Y": -0.36826446652412415,
          "count": 69,
          "label": "C-EST"
         },
         {
          "X": -0.2342323362827301,
          "Y": -2.38041090965271,
          "count": 69,
          "label": "C-EST"
         },
         {
          "X": 0.7769594192504883,
          "Y": -0.937835156917572,
          "count": 69,
          "label": "C-EST"
         },
         {
          "X": 0.7133759260177612,
          "Y": 1.2155088186264038,
          "count": 69,
          "label": "C-EST"
         },
         {
          "X": -0.038906216621398926,
          "Y": -1.3321967124938965,
          "count": 69,
          "label": "C-EST"
         },
         {
          "X": 2.189912796020508,
          "Y": -0.3414364457130432,
          "count": 69,
          "label": "C-EST"
         },
         {
          "X": 1.3840988874435425,
          "Y": -0.24738861620426178,
          "count": 69,
          "label": "C-EST"
         },
         {
          "X": 1.9337143898010254,
          "Y": 0.7559248805046082,
          "count": 69,
          "label": "C-EST"
         },
         {
          "X": 1.0381417274475098,
          "Y": 2.305878162384033,
          "count": 69,
          "label": "C-EST"
         },
         {
          "X": 0.8493266105651855,
          "Y": 0.3709956705570221,
          "count": 69,
          "label": "C-EST"
         },
         {
          "X": -0.038906216621398926,
          "Y": -1.3321967124938965,
          "count": 69,
          "label": "C-EST"
         },
         {
          "X": 0.5059118270874023,
          "Y": -0.36350134015083313,
          "count": 69,
          "label": "C-EST"
         },
         {
          "X": -0.5734463334083557,
          "Y": 1.4404056072235107,
          "count": 69,
          "label": "C-EST"
         },
         {
          "X": 0.7561317086219788,
          "Y": -1.770358681678772,
          "count": 69,
          "label": "C-EST"
         },
         {
          "X": -0.7890880703926086,
          "Y": -1.0077091455459595,
          "count": 69,
          "label": "C-EST"
         },
         {
          "X": 0.12445073574781418,
          "Y": 0.05000607669353485,
          "count": 69,
          "label": "C-EST"
         },
         {
          "X": 2.8399338722229004,
          "Y": 0.9212411046028137,
          "count": 69,
          "label": "C-EST"
         },
         {
          "X": -0.010860791429877281,
          "Y": 0.7860143780708313,
          "count": 69,
          "label": "C-EST"
         },
         {
          "X": -0.6066305637359619,
          "Y": 0.047458481043577194,
          "count": 69,
          "label": "C-EST"
         },
         {
          "X": 1.9539906978607178,
          "Y": 2.177903652191162,
          "count": 72,
          "label": "SOURD"
         },
         {
          "X": -0.7520882487297058,
          "Y": -0.2695270776748657,
          "count": 72,
          "label": "SOURD"
         },
         {
          "X": 1.5617005825042725,
          "Y": 0.3695625364780426,
          "count": 72,
          "label": "SOURD"
         },
         {
          "X": -0.8977599740028381,
          "Y": -2.1725804805755615,
          "count": 72,
          "label": "SOURD"
         },
         {
          "X": 0.12445073574781418,
          "Y": 0.05000607669353485,
          "count": 72,
          "label": "SOURD"
         },
         {
          "X": -0.7827644348144531,
          "Y": -1.1214321851730347,
          "count": 72,
          "label": "SOURD"
         },
         {
          "X": -0.010860791429877281,
          "Y": 0.7860143780708313,
          "count": 72,
          "label": "SOURD"
         },
         {
          "X": -0.5727768540382385,
          "Y": 0.19141483306884766,
          "count": 72,
          "label": "SOURD"
         },
         {
          "X": 0.7133759260177612,
          "Y": 1.2155088186264038,
          "count": 72,
          "label": "SOURD"
         },
         {
          "X": 3.1168785095214844,
          "Y": -0.411366730928421,
          "count": 72,
          "label": "SOURD"
         },
         {
          "X": 1.5444684028625488,
          "Y": -2.3124451637268066,
          "count": 72,
          "label": "SOURD"
         },
         {
          "X": -2.094820976257324,
          "Y": 0.9459067583084106,
          "count": 72,
          "label": "SOURD"
         },
         {
          "X": 0.08518155664205551,
          "Y": -0.5668357610702515,
          "count": 72,
          "label": "SOURD"
         },
         {
          "X": 0.9383410811424255,
          "Y": -0.30791112780570984,
          "count": 72,
          "label": "SOURD"
         },
         {
          "X": -0.7744936347007751,
          "Y": 0.43829581141471863,
          "count": 72,
          "label": "SOURD"
         },
         {
          "X": -1.4802589416503906,
          "Y": -0.13927695155143738,
          "count": 72,
          "label": "SOURD"
         },
         {
          "X": 0.12445073574781418,
          "Y": 0.05000607669353485,
          "count": 72,
          "label": "SOURD"
         },
         {
          "X": -0.038906216621398926,
          "Y": -1.3321967124938965,
          "count": 72,
          "label": "SOURD"
         },
         {
          "X": 2.189912796020508,
          "Y": -0.3414364457130432,
          "count": 72,
          "label": "SOURD"
         },
         {
          "X": 2.2986629009246826,
          "Y": -2.04585337638855,
          "count": 72,
          "label": "SOURD"
         },
         {
          "X": 0.3275226056575775,
          "Y": 1.327501893043518,
          "count": 72,
          "label": "SOURD"
         },
         {
          "X": 0.7133759260177612,
          "Y": 1.2155088186264038,
          "count": 72,
          "label": "SOURD"
         },
         {
          "X": -1.4802589416503906,
          "Y": -0.13927695155143738,
          "count": 72,
          "label": "SOURD"
         },
         {
          "X": 0.12445073574781418,
          "Y": 0.05000607669353485,
          "count": 72,
          "label": "SOURD"
         },
         {
          "X": 0.12445073574781418,
          "Y": 0.05000607669353485,
          "count": 72,
          "label": "SOURD"
         },
         {
          "X": 1.7958910465240479,
          "Y": -1.4791693687438965,
          "count": 72,
          "label": "SOURD"
         },
         {
          "X": 1.7958910465240479,
          "Y": -1.4791693687438965,
          "count": 72,
          "label": "SOURD"
         },
         {
          "X": 0.9383410811424255,
          "Y": -0.30791112780570984,
          "count": 72,
          "label": "SOURD"
         },
         {
          "X": -0.7890880703926086,
          "Y": -1.0077091455459595,
          "count": 72,
          "label": "SOURD"
         },
         {
          "X": -1.0455948114395142,
          "Y": 0.62473464012146,
          "count": 72,
          "label": "SOURD"
         },
         {
          "X": 1.4874746799468994,
          "Y": -1.1944838762283325,
          "count": 72,
          "label": "SOURD"
         },
         {
          "X": 0.030435696244239807,
          "Y": 1.9478543996810913,
          "count": 72,
          "label": "SOURD"
         },
         {
          "X": 0.7809913158416748,
          "Y": -2.468172311782837,
          "count": 72,
          "label": "SOURD"
         },
         {
          "X": 1.9337143898010254,
          "Y": 0.7559248805046082,
          "count": 72,
          "label": "SOURD"
         },
         {
          "X": -1.4802589416503906,
          "Y": -0.13927695155143738,
          "count": 72,
          "label": "SOURD"
         },
         {
          "X": 0.7133759260177612,
          "Y": 1.2155088186264038,
          "count": 72,
          "label": "SOURD"
         },
         {
          "X": 2.7740659713745117,
          "Y": 0.4257631003856659,
          "count": 72,
          "label": "SOURD"
         },
         {
          "X": -0.2342323362827301,
          "Y": -2.38041090965271,
          "count": 72,
          "label": "SOURD"
         },
         {
          "X": 1.4603018760681152,
          "Y": 1.5007543563842773,
          "count": 72,
          "label": "SOURD"
         },
         {
          "X": 0.2876945436000824,
          "Y": 1.8856663703918457,
          "count": 72,
          "label": "SOURD"
         },
         {
          "X": -0.20227792859077454,
          "Y": 2.6058075428009033,
          "count": 72,
          "label": "SOURD"
         },
         {
          "X": 0.7133759260177612,
          "Y": 1.2155088186264038,
          "count": 72,
          "label": "SOURD"
         },
         {
          "X": 1.9337143898010254,
          "Y": 0.7559248805046082,
          "count": 72,
          "label": "SOURD"
         },
         {
          "X": 0.7331911325454712,
          "Y": -1.7729463577270508,
          "count": 72,
          "label": "SOURD"
         },
         {
          "X": -0.038906216621398926,
          "Y": -1.3321967124938965,
          "count": 72,
          "label": "SOURD"
         },
         {
          "X": -1.3455700874328613,
          "Y": 1.0156828165054321,
          "count": 72,
          "label": "SOURD"
         },
         {
          "X": 2.6804513931274414,
          "Y": -1.1999847888946533,
          "count": 72,
          "label": "SOURD"
         },
         {
          "X": -1.433718204498291,
          "Y": -1.7712657451629639,
          "count": 72,
          "label": "SOURD"
         },
         {
          "X": -0.038906216621398926,
          "Y": -1.3321967124938965,
          "count": 72,
          "label": "SOURD"
         },
         {
          "X": 0.8493266105651855,
          "Y": 0.3709956705570221,
          "count": 72,
          "label": "SOURD"
         },
         {
          "X": 1.3840988874435425,
          "Y": -0.24738861620426178,
          "count": 72,
          "label": "SOURD"
         },
         {
          "X": -2.168177843093872,
          "Y": -0.8271084427833557,
          "count": 72,
          "label": "SOURD"
         },
         {
          "X": -0.7744936347007751,
          "Y": 0.43829581141471863,
          "count": 72,
          "label": "SOURD"
         },
         {
          "X": -0.5734463334083557,
          "Y": 1.4404056072235107,
          "count": 72,
          "label": "SOURD"
         },
         {
          "X": 0.12445073574781418,
          "Y": 0.05000607669353485,
          "count": 72,
          "label": "SOURD"
         },
         {
          "X": -0.038906216621398926,
          "Y": -1.3321967124938965,
          "count": 72,
          "label": "SOURD"
         },
         {
          "X": 1.5576236248016357,
          "Y": 0.37839797139167786,
          "count": 72,
          "label": "SOURD"
         },
         {
          "X": 0.7769594192504883,
          "Y": -0.937835156917572,
          "count": 72,
          "label": "SOURD"
         },
         {
          "X": -0.010860791429877281,
          "Y": 0.7860143780708313,
          "count": 72,
          "label": "SOURD"
         },
         {
          "X": 2.5816004276275635,
          "Y": -1.5323636531829834,
          "count": 72,
          "label": "SOURD"
         },
         {
          "X": 0.9383410811424255,
          "Y": -0.30791112780570984,
          "count": 72,
          "label": "SOURD"
         },
         {
          "X": 0.7569299340248108,
          "Y": -1.7701759338378906,
          "count": 72,
          "label": "SOURD"
         },
         {
          "X": -0.038906216621398926,
          "Y": -1.3321967124938965,
          "count": 72,
          "label": "SOURD"
         },
         {
          "X": 0.5022168159484863,
          "Y": -0.369074285030365,
          "count": 72,
          "label": "SOURD"
         },
         {
          "X": -0.010860791429877281,
          "Y": 0.7860143780708313,
          "count": 72,
          "label": "SOURD"
         },
         {
          "X": 0.12445073574781418,
          "Y": 0.05000607669353485,
          "count": 72,
          "label": "SOURD"
         },
         {
          "X": -0.7744936347007751,
          "Y": 0.43829581141471863,
          "count": 72,
          "label": "SOURD"
         },
         {
          "X": 0.12445073574781418,
          "Y": 0.05000607669353485,
          "count": 72,
          "label": "SOURD"
         },
         {
          "X": 1.3840988874435425,
          "Y": -0.24738861620426178,
          "count": 72,
          "label": "SOURD"
         },
         {
          "X": 2.923506736755371,
          "Y": -0.958000123500824,
          "count": 72,
          "label": "SOURD"
         },
         {
          "X": 0.8493266105651855,
          "Y": 0.3709956705570221,
          "count": 72,
          "label": "SOURD"
         },
         {
          "X": 1.9539906978607178,
          "Y": 2.177903652191162,
          "count": 72,
          "label": "SOURD"
         },
         {
          "X": 0.8493266105651855,
          "Y": 0.3709956705570221,
          "count": 47,
          "label": "ENTENDANT"
         },
         {
          "X": 1.5444684028625488,
          "Y": -2.3124451637268066,
          "count": 47,
          "label": "ENTENDANT"
         },
         {
          "X": 2.5976979732513428,
          "Y": 1.3837021589279175,
          "count": 47,
          "label": "ENTENDANT"
         },
         {
          "X": -0.010860791429877281,
          "Y": 0.7860143780708313,
          "count": 47,
          "label": "ENTENDANT"
         },
         {
          "X": 0.19849514961242676,
          "Y": 2.5399622917175293,
          "count": 47,
          "label": "ENTENDANT"
         },
         {
          "X": -1.4223387241363525,
          "Y": -1.1469751596450806,
          "count": 47,
          "label": "ENTENDANT"
         },
         {
          "X": 0.7769594192504883,
          "Y": -0.937835156917572,
          "count": 47,
          "label": "ENTENDANT"
         },
         {
          "X": 1.0381417274475098,
          "Y": 2.305878162384033,
          "count": 47,
          "label": "ENTENDANT"
         },
         {
          "X": 0.5022168159484863,
          "Y": -0.369074285030365,
          "count": 47,
          "label": "ENTENDANT"
         },
         {
          "X": -0.2342323362827301,
          "Y": -2.38041090965271,
          "count": 47,
          "label": "ENTENDANT"
         },
         {
          "X": -0.7520882487297058,
          "Y": -0.2695270776748657,
          "count": 47,
          "label": "ENTENDANT"
         },
         {
          "X": -0.038906216621398926,
          "Y": -1.3321967124938965,
          "count": 47,
          "label": "ENTENDANT"
         },
         {
          "X": 1.1252766847610474,
          "Y": -1.8188939094543457,
          "count": 47,
          "label": "ENTENDANT"
         },
         {
          "X": 1.0381417274475098,
          "Y": 2.305878162384033,
          "count": 47,
          "label": "ENTENDANT"
         },
         {
          "X": 1.7958910465240479,
          "Y": -1.4791693687438965,
          "count": 47,
          "label": "ENTENDANT"
         },
         {
          "X": 1.5509209632873535,
          "Y": 0.3715212941169739,
          "count": 47,
          "label": "ENTENDANT"
         },
         {
          "X": 0.7769594192504883,
          "Y": -0.937835156917572,
          "count": 47,
          "label": "ENTENDANT"
         },
         {
          "X": -0.010860791429877281,
          "Y": 0.7860143780708313,
          "count": 47,
          "label": "ENTENDANT"
         },
         {
          "X": 2.3063695430755615,
          "Y": 1.698819637298584,
          "count": 47,
          "label": "ENTENDANT"
         },
         {
          "X": -0.7520882487297058,
          "Y": -0.2695270776748657,
          "count": 47,
          "label": "ENTENDANT"
         },
         {
          "X": -1.2051360607147217,
          "Y": 1.1815179586410522,
          "count": 47,
          "label": "ENTENDANT"
         },
         {
          "X": -1.664787769317627,
          "Y": 1.7272974252700806,
          "count": 47,
          "label": "ENTENDANT"
         },
         {
          "X": 0.7809913158416748,
          "Y": -2.468172311782837,
          "count": 47,
          "label": "ENTENDANT"
         },
         {
          "X": -0.5316834449768066,
          "Y": -0.3826110363006592,
          "count": 47,
          "label": "ENTENDANT"
         },
         {
          "X": 2.8399338722229004,
          "Y": 0.9212411046028137,
          "count": 47,
          "label": "ENTENDANT"
         },
         {
          "X": 1.7958910465240479,
          "Y": -1.4791693687438965,
          "count": 47,
          "label": "ENTENDANT"
         },
         {
          "X": 0.7769594192504883,
          "Y": -0.937835156917572,
          "count": 47,
          "label": "ENTENDANT"
         },
         {
          "X": -1.4802589416503906,
          "Y": -0.13927695155143738,
          "count": 47,
          "label": "ENTENDANT"
         },
         {
          "X": 2.6804513931274414,
          "Y": -1.1999847888946533,
          "count": 47,
          "label": "ENTENDANT"
         },
         {
          "X": 1.9337143898010254,
          "Y": 0.7559248805046082,
          "count": 47,
          "label": "ENTENDANT"
         },
         {
          "X": -1.433718204498291,
          "Y": -1.7712657451629639,
          "count": 47,
          "label": "ENTENDANT"
         },
         {
          "X": 2.356484889984131,
          "Y": 1.6304043531417847,
          "count": 47,
          "label": "ENTENDANT"
         },
         {
          "X": 2.189912796020508,
          "Y": -0.3414364457130432,
          "count": 47,
          "label": "ENTENDANT"
         },
         {
          "X": 3.1133673191070557,
          "Y": 0.10794708132743835,
          "count": 47,
          "label": "ENTENDANT"
         },
         {
          "X": -0.5734463334083557,
          "Y": 1.4404056072235107,
          "count": 47,
          "label": "ENTENDANT"
         },
         {
          "X": 1.7958910465240479,
          "Y": -1.4791693687438965,
          "count": 47,
          "label": "ENTENDANT"
         },
         {
          "X": 0.7769594192504883,
          "Y": -0.937835156917572,
          "count": 47,
          "label": "ENTENDANT"
         },
         {
          "X": 1.7958910465240479,
          "Y": -1.4791693687438965,
          "count": 47,
          "label": "ENTENDANT"
         },
         {
          "X": 1.9337143898010254,
          "Y": 0.7559248805046082,
          "count": 47,
          "label": "ENTENDANT"
         },
         {
          "X": 0.12445073574781418,
          "Y": 0.05000607669353485,
          "count": 47,
          "label": "ENTENDANT"
         },
         {
          "X": 0.08518155664205551,
          "Y": -0.5668357610702515,
          "count": 47,
          "label": "ENTENDANT"
         },
         {
          "X": 1.5444684028625488,
          "Y": -2.3124451637268066,
          "count": 47,
          "label": "ENTENDANT"
         },
         {
          "X": 0.12445073574781418,
          "Y": 0.05000607669353485,
          "count": 47,
          "label": "ENTENDANT"
         },
         {
          "X": 0.7133759260177612,
          "Y": 1.2155088186264038,
          "count": 47,
          "label": "ENTENDANT"
         },
         {
          "X": 0.8493266105651855,
          "Y": 0.3709956705570221,
          "count": 47,
          "label": "ENTENDANT"
         },
         {
          "X": -0.5734463334083557,
          "Y": 1.4404056072235107,
          "count": 47,
          "label": "ENTENDANT"
         },
         {
          "X": 0.08518155664205551,
          "Y": -0.5668357610702515,
          "count": 47,
          "label": "ENTENDANT"
         }
        ]
       },
       "encoding": {
        "color": {
         "field": "label",
         "type": "nominal"
        },
        "x": {
         "field": "X",
         "type": "quantitative"
        },
        "y": {
         "field": "Y",
         "type": "quantitative"
        }
       },
       "mark": {
        "size": 60,
        "type": "circle"
       },
       "selection": {
        "selector006": {
         "bind": "scales",
         "encodings": [
          "x",
          "y"
         ],
         "mark": {
          "fill": "#333",
          "fillOpacity": 0.125,
          "stroke": "white"
         },
         "on": "[mousedown, window:mouseup] > window:mousemove!",
         "resolve": "global",
         "translate": "[mousedown, window:mouseup] > window:mousemove!",
         "type": "interval",
         "zoom": "wheel!"
        }
       }
      },
      "image/png": "[encoded data removed]",
      "text/plain": [
       "<VegaLite 2 object>\n",
       "\n",
       "If you see this message, it means the renderer has not been properly enabled\n",
       "for the frontend that you are using. For more information, see\n",
       "https://altair-viz.github.io/user_guide/troubleshooting.html\n"
      ]
     },
     "metadata": {},
     "output_type": "display_data"
    }
   ],
   "source": [
    "# standalone graph\n",
    "\n",
    "preds_reduced = TSNE(n_components=2, perplexity = 80).fit_transform(preds)\n",
    "\n",
    "\n",
    "plot_df = pd.DataFrame({'X':preds_reduced[:,0],'Y':preds_reduced[:,1], 'label': label})\n",
    "\n",
    "plot_df = plot_df[plot_df[\"label\"] != 'LS']\n",
    "plot_df[\"count\"] = plot_df.apply(lambda row: len(plot_df[plot_df[\"label\"] == row[\"label\"]]), axis=1)\n",
    "plot_df = plot_df[plot_df[\"count\"] > 45]\n",
    "\n",
    "chart = alt.Chart(plot_df).mark_circle(size=60).encode(\n",
    "    x='X',\n",
    "    y='Y',\n",
    "    color='label').interactive()\n",
    "    \n",
    "display(chart)"
   ]
  },
  {
   "cell_type": "code",
   "execution_count": null,
   "metadata": {},
   "outputs": [],
   "source": []
  }
 ],
 "metadata": {
  "kernelspec": {
   "display_name": "Python 3",
   "language": "python",
   "name": "python3"
  },
  "language_info": {
   "codemirror_mode": {
    "name": "ipython",
    "version": 3
   },
   "file_extension": ".py",
   "mimetype": "text/x-python",
   "name": "python",
   "nbconvert_exporter": "python",
   "pygments_lexer": "ipython3",
   "version": "3.6.8"
  }
 },
 "nbformat": 4,
 "nbformat_minor": 2
}
