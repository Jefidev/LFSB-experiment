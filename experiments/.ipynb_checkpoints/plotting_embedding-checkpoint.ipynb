{
 "cells": [
  {
   "cell_type": "code",
   "execution_count": 3,
   "metadata": {},
   "outputs": [],
   "source": [
    "import numpy as np\n",
    "from sklearn.manifold import TSNE\n",
    "import pandas as pd\n",
    "import altair as alt\n",
    "from IPython.display import display"
   ]
  },
  {
   "cell_type": "code",
   "execution_count": 12,
   "metadata": {},
   "outputs": [
    {
     "name": "stdout",
     "output_type": "stream",
     "text": [
      "[[-1.9481381e-09 -1.0245890e-07 -6.1156220e-07 ... -6.6239068e-09\n",
      "   2.7129732e-07 -1.4953127e-07]\n",
      " [-1.9481381e-09 -1.0245890e-07 -6.1156220e-07 ... -6.6239068e-09\n",
      "   2.7129732e-07 -1.4953127e-07]\n",
      " [-1.9481381e-09 -1.0245890e-07 -6.1156220e-07 ... -6.6239068e-09\n",
      "   2.7129732e-07 -1.4953127e-07]\n",
      " ...\n",
      " [-7.8935569e-10  1.0100398e-05 -7.5061206e-07 ...  1.1882863e-06\n",
      "  -2.1044534e-06 -5.8159308e-08]\n",
      " [-7.8935569e-10  1.0100398e-05 -7.5061206e-07 ...  1.1882863e-06\n",
      "  -2.1044534e-06 -5.8159308e-08]\n",
      " [-1.9626802e-09 -3.1023887e-07 -6.1164741e-07 ... -6.7426242e-09\n",
      "   2.7662628e-07 -1.4958819e-07]]\n",
      "['1' '1' '1' '1' '1' '1' '1' '1' '1' '1' '1' '1' '1' '1' '1' '1' '1' '1'\n",
      " '1' '1' '1' '1' '1' '1' '1' '1' '1' '1' '1' '1' '1' '1' '1' '1' '1' '1'\n",
      " '1' '1' '1' '1' '1' '1' '1' '1' '1' '1' '1' '1' '1' '1' '1' '1' '1' '1'\n",
      " '1' '5' '5' '5' '5' '5' '5' '5' '2' '2' '2' '2' '2' '2' '2' '2' '2' '2'\n",
      " '2' '2' '2' '2' '2' '2' '2' '2' '2' '2' '2' '2' '2' '2' '2' '2' '3' '3'\n",
      " '3' '3' '3' '3' '3' '3' '3' '3' '3' '3' '3' '3' '3' '3' '4' '4' '4' '4'\n",
      " '4' '4' '4' '4' '4' '4' '4' '4' '4' '4' '4' '4' '4' '4' '4' '4']\n"
     ]
    }
   ],
   "source": [
    "# loading data\n",
    "preds = np.load(\"../results/preds.np\")\n",
    "label = np.load(\"../results/label.np\")\n",
    "\n",
    "print(preds)\n",
    "print(label)"
   ]
  },
  {
   "cell_type": "code",
   "execution_count": 13,
   "metadata": {},
   "outputs": [],
   "source": [
    "# reducting dimensions\n",
    "\n",
    "def reduce_dim(perplexity):\n",
    "    preds_reduced = TSNE(n_components=2, perplexity = perplexity).fit_transform(preds)\n",
    "    return preds_reduced\n",
    "\n",
    "\n",
    "def create_plot(preds_reduced, label):\n",
    "    plot_df = pd.DataFrame({'X':preds_reduced[:,0],'Y':preds_reduced[:,1], 'label': label})\n",
    "\n",
    "    #plot_df[\"count\"] = plot_df.apply(lambda row: len(plot_df[plot_df[\"label\"] == row[\"label\"]]), axis=1)\n",
    "    #plot_df = plot_df[plot_df[\"count\"] > 45]\n",
    "\n",
    "    chart = alt.Chart(plot_df).mark_circle(size=60).encode(\n",
    "        x='X',\n",
    "        y='Y',\n",
    "        color='label').interactive()\n",
    "    \n",
    "    display(chart)"
   ]
  },
  {
   "cell_type": "code",
   "execution_count": 14,
   "metadata": {},
   "outputs": [
    {
     "name": "stdout",
     "output_type": "stream",
     "text": [
      "Perplexity 5\n"
     ]
    },
    {
     "data": {
      "application/vnd.vegalite.v2+json": {
       "$schema": "https://vega.github.io/schema/vega-lite/v2.6.0.json",
       "config": {
        "view": {
         "height": 300,
         "width": 400
        }
       },
       "data": {
        "name": "data-f87a3da9f162ef7895ac1bf36ee0d124"
       },
       "datasets": {
        "data-f87a3da9f162ef7895ac1bf36ee0d124": [
         {
          "X": 49.37141036987305,
          "Y": -61.792564392089844,
          "label": "1"
         },
         {
          "X": -26.859987258911133,
          "Y": -98.9643325805664,
          "label": "1"
         },
         {
          "X": 70.8513412475586,
          "Y": 2.9816958904266357,
          "label": "1"
         },
         {
          "X": 105.89730072021484,
          "Y": 104.0365219116211,
          "label": "1"
         },
         {
          "X": 46.20177459716797,
          "Y": -98.88124084472656,
          "label": "1"
         },
         {
          "X": 3.31856632232666,
          "Y": 11.362104415893555,
          "label": "1"
         },
         {
          "X": -53.53010940551758,
          "Y": -53.38278579711914,
          "label": "1"
         },
         {
          "X": -4.6978349685668945,
          "Y": -76.88681030273438,
          "label": "1"
         },
         {
          "X": 34.28301239013672,
          "Y": -84.48527526855469,
          "label": "1"
         },
         {
          "X": 97.02434539794922,
          "Y": 152.55361938476562,
          "label": "1"
         },
         {
          "X": 93.9241943359375,
          "Y": -58.949947357177734,
          "label": "1"
         },
         {
          "X": -10.879618644714355,
          "Y": -40.0584602355957,
          "label": "1"
         },
         {
          "X": 85.90409851074219,
          "Y": 126.26851654052734,
          "label": "1"
         },
         {
          "X": 27.2902889251709,
          "Y": -2.6534175872802734,
          "label": "1"
         },
         {
          "X": -9.887741088867188,
          "Y": -3.516852378845215,
          "label": "1"
         },
         {
          "X": 2.553567886352539,
          "Y": -22.448171615600586,
          "label": "1"
         },
         {
          "X": 15.036140441894531,
          "Y": -30.044715881347656,
          "label": "1"
         },
         {
          "X": 7.321703910827637,
          "Y": -52.765560150146484,
          "label": "1"
         },
         {
          "X": -21.035057067871094,
          "Y": -47.14358901977539,
          "label": "1"
         },
         {
          "X": 71.09857940673828,
          "Y": 90.08171081542969,
          "label": "1"
         },
         {
          "X": 17.706727981567383,
          "Y": -53.672061920166016,
          "label": "1"
         },
         {
          "X": -11.024663925170898,
          "Y": -51.03559494018555,
          "label": "1"
         },
         {
          "X": 16.75496482849121,
          "Y": -64.87347412109375,
          "label": "1"
         },
         {
          "X": 0.3572859764099121,
          "Y": -36.90787124633789,
          "label": "1"
         },
         {
          "X": -107.48192596435547,
          "Y": 62.59203338623047,
          "label": "1"
         },
         {
          "X": 93.13473510742188,
          "Y": 118.3107681274414,
          "label": "1"
         },
         {
          "X": -20.941848754882812,
          "Y": -59.124610900878906,
          "label": "1"
         },
         {
          "X": 79.80110931396484,
          "Y": 103.5709457397461,
          "label": "1"
         },
         {
          "X": -10.863783836364746,
          "Y": -61.11900329589844,
          "label": "1"
         },
         {
          "X": -364.4870910644531,
          "Y": 616.6812744140625,
          "label": "1"
         },
         {
          "X": -21.071271896362305,
          "Y": 110.94300079345703,
          "label": "1"
         },
         {
          "X": -6.396056652069092,
          "Y": 43.676719665527344,
          "label": "1"
         },
         {
          "X": 10.268715858459473,
          "Y": -43.135955810546875,
          "label": "1"
         },
         {
          "X": -2.539309024810791,
          "Y": -67.01742553710938,
          "label": "1"
         },
         {
          "X": 6.988985538482666,
          "Y": -73.17129516601562,
          "label": "1"
         },
         {
          "X": -1.4065074920654297,
          "Y": -46.91901397705078,
          "label": "1"
         },
         {
          "X": -1.9543675184249878,
          "Y": -56.81621551513672,
          "label": "1"
         },
         {
          "X": -14.671835899353027,
          "Y": -70.55632781982422,
          "label": "1"
         },
         {
          "X": 4.860951900482178,
          "Y": -104.0682373046875,
          "label": "1"
         },
         {
          "X": 6.748420715332031,
          "Y": -62.589927673339844,
          "label": "1"
         },
         {
          "X": -12.11111068725586,
          "Y": -108.48758697509766,
          "label": "1"
         },
         {
          "X": 24.85892677307129,
          "Y": -41.394344329833984,
          "label": "1"
         },
         {
          "X": -15.461746215820312,
          "Y": 115.98150634765625,
          "label": "1"
         },
         {
          "X": 52.813499450683594,
          "Y": -43.4354362487793,
          "label": "1"
         },
         {
          "X": -48.48360061645508,
          "Y": -70.84379577636719,
          "label": "1"
         },
         {
          "X": -30.704423904418945,
          "Y": -70.97906494140625,
          "label": "1"
         },
         {
          "X": 45.300113677978516,
          "Y": -16.88129997253418,
          "label": "1"
         },
         {
          "X": 60.21187973022461,
          "Y": -123.9592056274414,
          "label": "1"
         },
         {
          "X": -95.23405456542969,
          "Y": -59.36903762817383,
          "label": "1"
         },
         {
          "X": -39.521183013916016,
          "Y": -86.37024688720703,
          "label": "1"
         },
         {
          "X": -56.13211441040039,
          "Y": -34.476318359375,
          "label": "1"
         },
         {
          "X": -62.823543548583984,
          "Y": -14.3999605178833,
          "label": "1"
         },
         {
          "X": 67.99845123291016,
          "Y": -99.36054992675781,
          "label": "1"
         },
         {
          "X": -60.31757736206055,
          "Y": -88.85144805908203,
          "label": "1"
         },
         {
          "X": -86.4030990600586,
          "Y": -88.8248062133789,
          "label": "1"
         },
         {
          "X": -8.524101257324219,
          "Y": -91.16790008544922,
          "label": "5"
         },
         {
          "X": -21.279340744018555,
          "Y": -147.31826782226562,
          "label": "5"
         },
         {
          "X": 48.75235366821289,
          "Y": 47.74060821533203,
          "label": "5"
         },
         {
          "X": -72.60753631591797,
          "Y": 130.93528747558594,
          "label": "5"
         },
         {
          "X": -28.936708450317383,
          "Y": 145.71485900878906,
          "label": "5"
         },
         {
          "X": -36.026859283447266,
          "Y": -56.42829132080078,
          "label": "5"
         },
         {
          "X": -74.57109069824219,
          "Y": -45.047645568847656,
          "label": "5"
         },
         {
          "X": -41.17451095581055,
          "Y": -21.83722496032715,
          "label": "2"
         },
         {
          "X": -69.72112274169922,
          "Y": -68.4009780883789,
          "label": "2"
         },
         {
          "X": -46.443965911865234,
          "Y": -106.33597564697266,
          "label": "2"
         },
         {
          "X": 20.90727424621582,
          "Y": -96.61500549316406,
          "label": "2"
         },
         {
          "X": -64.42399597167969,
          "Y": 134.78355407714844,
          "label": "2"
         },
         {
          "X": -70.83199310302734,
          "Y": -112.9343032836914,
          "label": "2"
         },
         {
          "X": 96.08130645751953,
          "Y": 104.70305633544922,
          "label": "2"
         },
         {
          "X": 71.21215057373047,
          "Y": -48.938636779785156,
          "label": "2"
         },
         {
          "X": -34.39085006713867,
          "Y": 137.1948699951172,
          "label": "2"
         },
         {
          "X": -29.332786560058594,
          "Y": -120.63395690917969,
          "label": "2"
         },
         {
          "X": 38.59018325805664,
          "Y": -34.115150451660156,
          "label": "2"
         },
         {
          "X": -18.529783248901367,
          "Y": 18.215389251708984,
          "label": "2"
         },
         {
          "X": 27.97719383239746,
          "Y": 89.0506591796875,
          "label": "2"
         },
         {
          "X": 6.721884250640869,
          "Y": -87.30905151367188,
          "label": "2"
         },
         {
          "X": 20.090438842773438,
          "Y": -78.90232849121094,
          "label": "2"
         },
         {
          "X": 87.18463897705078,
          "Y": 101.25154113769531,
          "label": "2"
         },
         {
          "X": 88.07854461669922,
          "Y": -27.714282989501953,
          "label": "2"
         },
         {
          "X": 9.254312515258789,
          "Y": -8.390765190124512,
          "label": "2"
         },
         {
          "X": -6.473787784576416,
          "Y": -127.42235565185547,
          "label": "2"
         },
         {
          "X": -38.910919189453125,
          "Y": 0.303255170583725,
          "label": "2"
         },
         {
          "X": -87.2586898803711,
          "Y": -22.682222366333008,
          "label": "2"
         },
         {
          "X": 51.16745376586914,
          "Y": -79.50194549560547,
          "label": "2"
         },
         {
          "X": -21.347408294677734,
          "Y": -83.10726165771484,
          "label": "2"
         },
         {
          "X": -36.63882064819336,
          "Y": 114.99727630615234,
          "label": "2"
         },
         {
          "X": 70.13392639160156,
          "Y": -72.09724426269531,
          "label": "2"
         },
         {
          "X": -24.67076873779297,
          "Y": -31.536474227905273,
          "label": "2"
         },
         {
          "X": 47.698795318603516,
          "Y": 6.298946857452393,
          "label": "3"
         },
         {
          "X": 63.963375091552734,
          "Y": -22.117233276367188,
          "label": "3"
         },
         {
          "X": 31.546722412109375,
          "Y": -66.99533081054688,
          "label": "3"
         },
         {
          "X": 82.64335632324219,
          "Y": 113.29376983642578,
          "label": "3"
         },
         {
          "X": 95.35667419433594,
          "Y": 144.11004638671875,
          "label": "3"
         },
         {
          "X": -61.218414306640625,
          "Y": 10.037875175476074,
          "label": "3"
         },
         {
          "X": 22.504505157470703,
          "Y": 96.03878021240234,
          "label": "3"
         },
         {
          "X": -27.395559310913086,
          "Y": 127.3443832397461,
          "label": "3"
         },
         {
          "X": -81.27098846435547,
          "Y": 112.199951171875,
          "label": "3"
         },
         {
          "X": 34.51201248168945,
          "Y": -52.30182647705078,
          "label": "3"
         },
         {
          "X": 31.92915153503418,
          "Y": -111.54934692382812,
          "label": "3"
         },
         {
          "X": 25.495466232299805,
          "Y": 16.457983016967773,
          "label": "3"
         },
         {
          "X": -24.749109268188477,
          "Y": -12.64804744720459,
          "label": "3"
         },
         {
          "X": -11.51302719116211,
          "Y": -23.62934112548828,
          "label": "3"
         },
         {
          "X": 45.85109329223633,
          "Y": 30.025753021240234,
          "label": "3"
         },
         {
          "X": 48.10388946533203,
          "Y": 38.865352630615234,
          "label": "3"
         },
         {
          "X": -4.793299674987793,
          "Y": 52.32783889770508,
          "label": "4"
         },
         {
          "X": 70.60755157470703,
          "Y": 96.01958465576172,
          "label": "4"
         },
         {
          "X": 36.56315612792969,
          "Y": -135.47845458984375,
          "label": "4"
         },
         {
          "X": -85.74455261230469,
          "Y": 116.46257019042969,
          "label": "4"
         },
         {
          "X": -55.09511947631836,
          "Y": 137.16485595703125,
          "label": "4"
         },
         {
          "X": 13.970025062561035,
          "Y": -121.04110717773438,
          "label": "4"
         },
         {
          "X": -99.33856201171875,
          "Y": 58.523170471191406,
          "label": "4"
         },
         {
          "X": -98.62814331054688,
          "Y": 64.78907012939453,
          "label": "4"
         },
         {
          "X": -45.22514343261719,
          "Y": 138.2606201171875,
          "label": "4"
         },
         {
          "X": 26.424232482910156,
          "Y": -20.59581184387207,
          "label": "4"
         },
         {
          "X": -37.66862869262695,
          "Y": -40.62849044799805,
          "label": "4"
         },
         {
          "X": 201.5150146484375,
          "Y": -121.82941436767578,
          "label": "4"
         },
         {
          "X": -33.517608642578125,
          "Y": 107.15554809570312,
          "label": "4"
         },
         {
          "X": -41.81547927856445,
          "Y": 27.08431625366211,
          "label": "4"
         },
         {
          "X": 90.90081787109375,
          "Y": -89.39069366455078,
          "label": "4"
         },
         {
          "X": -50.15941619873047,
          "Y": -133.2676544189453,
          "label": "4"
         },
         {
          "X": 11.55884075164795,
          "Y": -146.62600708007812,
          "label": "4"
         },
         {
          "X": 47.69623565673828,
          "Y": 146.43576049804688,
          "label": "4"
         },
         {
          "X": 16.489398956298828,
          "Y": 40.62074279785156,
          "label": "4"
         },
         {
          "X": -22.223506927490234,
          "Y": 118.94203186035156,
          "label": "4"
         }
        ]
       },
       "encoding": {
        "color": {
         "field": "label",
         "type": "nominal"
        },
        "x": {
         "field": "X",
         "type": "quantitative"
        },
        "y": {
         "field": "Y",
         "type": "quantitative"
        }
       },
       "mark": {
        "size": 60,
        "type": "circle"
       },
       "selection": {
        "selector018": {
         "bind": "scales",
         "encodings": [
          "x",
          "y"
         ],
         "mark": {
          "fill": "#333",
          "fillOpacity": 0.125,
          "stroke": "white"
         },
         "on": "[mousedown, window:mouseup] > window:mousemove!",
         "resolve": "global",
         "translate": "[mousedown, window:mouseup] > window:mousemove!",
         "type": "interval",
         "zoom": "wheel!"
        }
       }
      },
      "image/png": "[encoded data removed]",
      "text/plain": [
       "<VegaLite 2 object>\n",
       "\n",
       "If you see this message, it means the renderer has not been properly enabled\n",
       "for the frontend that you are using. For more information, see\n",
       "https://altair-viz.github.io/user_guide/troubleshooting.html\n"
      ]
     },
     "metadata": {},
     "output_type": "display_data"
    },
    {
     "name": "stdout",
     "output_type": "stream",
     "text": [
      "Perplexity 15\n"
     ]
    },
    {
     "data": {
      "application/vnd.vegalite.v2+json": {
       "$schema": "https://vega.github.io/schema/vega-lite/v2.6.0.json",
       "config": {
        "view": {
         "height": 300,
         "width": 400
        }
       },
       "data": {
        "name": "data-0e4ca1d111c2d8c7d40023538955b802"
       },
       "datasets": {
        "data-0e4ca1d111c2d8c7d40023538955b802": [
         {
          "X": -2.1654715538024902,
          "Y": -0.16941745579242706,
          "label": "1"
         },
         {
          "X": -2.50856614112854,
          "Y": 0.2898755371570587,
          "label": "1"
         },
         {
          "X": -3.8271329402923584,
          "Y": 0.6085780262947083,
          "label": "1"
         },
         {
          "X": 2.808309316635132,
          "Y": 1.2581535577774048,
          "label": "1"
         },
         {
          "X": -3.1959850788116455,
          "Y": -1.0337213277816772,
          "label": "1"
         },
         {
          "X": -2.259462356567383,
          "Y": 1.9265786409378052,
          "label": "1"
         },
         {
          "X": -0.42128902673721313,
          "Y": 0.1086152121424675,
          "label": "1"
         },
         {
          "X": -1.619724154472351,
          "Y": 0.18841369450092316,
          "label": "1"
         },
         {
          "X": -2.4372644424438477,
          "Y": 0.043211620301008224,
          "label": "1"
         },
         {
          "X": 2.6717607975006104,
          "Y": -0.21881023049354553,
          "label": "1"
         },
         {
          "X": -2.0688037872314453,
          "Y": -0.1700107753276825,
          "label": "1"
         },
         {
          "X": -1.6043713092803955,
          "Y": 0.17849910259246826,
          "label": "1"
         },
         {
          "X": 2.7202625274658203,
          "Y": 0.34258654713630676,
          "label": "1"
         },
         {
          "X": -0.2909863293170929,
          "Y": -0.687293291091919,
          "label": "1"
         },
         {
          "X": -0.40844956040382385,
          "Y": 0.7525336742401123,
          "label": "1"
         },
         {
          "X": -1.796756625175476,
          "Y": 1.9908864498138428,
          "label": "1"
         },
         {
          "X": -0.5306403636932373,
          "Y": 0.9975382685661316,
          "label": "1"
         },
         {
          "X": -1.638600468635559,
          "Y": 0.3670039474964142,
          "label": "1"
         },
         {
          "X": -1.6385982036590576,
          "Y": 0.3670043349266052,
          "label": "1"
         },
         {
          "X": 2.467914342880249,
          "Y": 1.0756117105484009,
          "label": "1"
         },
         {
          "X": -1.6525912284851074,
          "Y": 0.2338835597038269,
          "label": "1"
         },
         {
          "X": -1.652591347694397,
          "Y": 0.23388123512268066,
          "label": "1"
         },
         {
          "X": -1.713990569114685,
          "Y": 0.04564216360449791,
          "label": "1"
         },
         {
          "X": -1.8393827676773071,
          "Y": -0.05369536578655243,
          "label": "1"
         },
         {
          "X": 3.744002342224121,
          "Y": -1.1155173778533936,
          "label": "1"
         },
         {
          "X": 2.7829833030700684,
          "Y": 0.7944943308830261,
          "label": "1"
         },
         {
          "X": -2.1174447536468506,
          "Y": 0.6492078900337219,
          "label": "1"
         },
         {
          "X": 2.6348044872283936,
          "Y": 0.959783136844635,
          "label": "1"
         },
         {
          "X": -1.8393839597702026,
          "Y": -0.053697265684604645,
          "label": "1"
         },
         {
          "X": 2.3899009227752686,
          "Y": -0.8325449824333191,
          "label": "1"
         },
         {
          "X": 1.8774160146713257,
          "Y": -1.9946500062942505,
          "label": "1"
         },
         {
          "X": -1.8049856424331665,
          "Y": -2.6755971908569336,
          "label": "1"
         },
         {
          "X": -2.540980339050293,
          "Y": 0.5430320501327515,
          "label": "1"
         },
         {
          "X": -2.2133281230926514,
          "Y": 0.608070969581604,
          "label": "1"
         },
         {
          "X": -1.8393843173980713,
          "Y": -0.053694967180490494,
          "label": "1"
         },
         {
          "X": -2.0441524982452393,
          "Y": -0.15487487614154816,
          "label": "1"
         },
         {
          "X": -2.276808977127075,
          "Y": -0.08441222459077835,
          "label": "1"
         },
         {
          "X": -1.8515369892120361,
          "Y": 0.5871273279190063,
          "label": "1"
         },
         {
          "X": -2.527927875518799,
          "Y": 0.3408765494823456,
          "label": "1"
         },
         {
          "X": -2.201906204223633,
          "Y": 0.6124649047851562,
          "label": "1"
         },
         {
          "X": -2.213529348373413,
          "Y": 0.6081437468528748,
          "label": "1"
         },
         {
          "X": -1.8515342473983765,
          "Y": 0.5871245861053467,
          "label": "1"
         },
         {
          "X": 1.858735203742981,
          "Y": -2.009368419647217,
          "label": "1"
         },
         {
          "X": -2.2024986743927,
          "Y": 0.610353946685791,
          "label": "1"
         },
         {
          "X": -1.8515386581420898,
          "Y": 0.587128221988678,
          "label": "1"
         },
         {
          "X": -1.848139762878418,
          "Y": 0.5852210521697998,
          "label": "1"
         },
         {
          "X": -1.8515394926071167,
          "Y": 0.5871280431747437,
          "label": "1"
         },
         {
          "X": -1.8168786764144897,
          "Y": -0.041944071650505066,
          "label": "1"
         },
         {
          "X": -2.2111997604370117,
          "Y": 0.610776424407959,
          "label": "1"
         },
         {
          "X": -1.8483939170837402,
          "Y": 0.5852435827255249,
          "label": "1"
         },
         {
          "X": -2.211198568344116,
          "Y": 0.6107745170593262,
          "label": "1"
         },
         {
          "X": -1.8168760538101196,
          "Y": -0.04194306954741478,
          "label": "1"
         },
         {
          "X": -1.848392367362976,
          "Y": 0.5852424502372742,
          "label": "1"
         },
         {
          "X": -2.2135348320007324,
          "Y": 0.608142077922821,
          "label": "1"
         },
         {
          "X": -2.3671791553497314,
          "Y": -0.06236541271209717,
          "label": "1"
         },
         {
          "X": -2.366748332977295,
          "Y": -0.06286944448947906,
          "label": "5"
         },
         {
          "X": -2.307684898376465,
          "Y": -0.09200713783502579,
          "label": "5"
         },
         {
          "X": 0.7771182060241699,
          "Y": 1.7822580337524414,
          "label": "5"
         },
         {
          "X": -0.07916323840618134,
          "Y": -3.0326647758483887,
          "label": "5"
         },
         {
          "X": 0.9767048358917236,
          "Y": -2.3705520629882812,
          "label": "5"
         },
         {
          "X": -2.068803548812866,
          "Y": -0.17001080513000488,
          "label": "5"
         },
         {
          "X": -2.0662848949432373,
          "Y": -0.1701115220785141,
          "label": "5"
         },
         {
          "X": -2.445363759994507,
          "Y": 0.03166725113987923,
          "label": "2"
         },
         {
          "X": -2.3333451747894287,
          "Y": -0.0871252715587616,
          "label": "2"
         },
         {
          "X": -2.4982080459594727,
          "Y": 0.1953313648700714,
          "label": "2"
         },
         {
          "X": -2.4982082843780518,
          "Y": 0.19533155858516693,
          "label": "2"
         },
         {
          "X": 0.060881420969963074,
          "Y": -2.997291326522827,
          "label": "2"
         },
         {
          "X": -2.5160865783691406,
          "Y": 0.27927273511886597,
          "label": "2"
         },
         {
          "X": 2.7501766681671143,
          "Y": 1.0832915306091309,
          "label": "2"
         },
         {
          "X": -2.527927875518799,
          "Y": 0.34087711572647095,
          "label": "2"
         },
         {
          "X": 1.0122963190078735,
          "Y": -2.382132053375244,
          "label": "2"
         },
         {
          "X": -3.6590845584869385,
          "Y": -0.6667012572288513,
          "label": "2"
         },
         {
          "X": -1.0841015577316284,
          "Y": 1.8612014055252075,
          "label": "2"
         },
         {
          "X": -1.6282269954681396,
          "Y": 0.1201690062880516,
          "label": "2"
         },
         {
          "X": 0.9574359655380249,
          "Y": 3.483187675476074,
          "label": "2"
         },
         {
          "X": -3.772662878036499,
          "Y": 1.0188965797424316,
          "label": "2"
         },
         {
          "X": -1.2828419208526611,
          "Y": -1.2239741086959839,
          "label": "2"
         },
         {
          "X": 2.7156312465667725,
          "Y": 0.9454277753829956,
          "label": "2"
         },
         {
          "X": -0.059874843806028366,
          "Y": 0.5319015383720398,
          "label": "2"
         },
         {
          "X": -0.6926552057266235,
          "Y": -0.8693063259124756,
          "label": "2"
         },
         {
          "X": -2.428680658340454,
          "Y": 1.9820715188980103,
          "label": "2"
         },
         {
          "X": -3.343027353286743,
          "Y": -0.9128229022026062,
          "label": "2"
         },
         {
          "X": -3.7766454219818115,
          "Y": 0.30727463960647583,
          "label": "2"
         },
         {
          "X": -2.170480728149414,
          "Y": -1.483339548110962,
          "label": "2"
         },
         {
          "X": -1.8548166751861572,
          "Y": -1.4546457529067993,
          "label": "2"
         },
         {
          "X": 1.7948799133300781,
          "Y": -1.9882066249847412,
          "label": "2"
         },
         {
          "X": -3.1612579822540283,
          "Y": -1.507027268409729,
          "label": "2"
         },
         {
          "X": -3.7214395999908447,
          "Y": -0.33126941323280334,
          "label": "2"
         },
         {
          "X": -1.5661511421203613,
          "Y": -1.3799986839294434,
          "label": "3"
         },
         {
          "X": -3.446033477783203,
          "Y": 1.1636626720428467,
          "label": "3"
         },
         {
          "X": -3.0981454849243164,
          "Y": 1.6262481212615967,
          "label": "3"
         },
         {
          "X": 2.7028584480285645,
          "Y": 0.9437293410301208,
          "label": "3"
         },
         {
          "X": 2.612199306488037,
          "Y": -0.26773786544799805,
          "label": "3"
         },
         {
          "X": 0.09084810316562653,
          "Y": -0.15210703015327454,
          "label": "3"
         },
         {
          "X": 1.0296577215194702,
          "Y": 3.465165138244629,
          "label": "3"
         },
         {
          "X": 1.6064763069152832,
          "Y": -2.092597246170044,
          "label": "3"
         },
         {
          "X": -1.0922620296478271,
          "Y": 4.239508152008057,
          "label": "3"
         },
         {
          "X": -0.8395204544067383,
          "Y": 1.480147361755371,
          "label": "3"
         },
         {
          "X": -2.6899306774139404,
          "Y": -1.3910332918167114,
          "label": "3"
         },
         {
          "X": -2.46281361579895,
          "Y": -1.477002739906311,
          "label": "3"
         },
         {
          "X": -3.2962160110473633,
          "Y": 1.553931474685669,
          "label": "3"
         },
         {
          "X": -2.8021388053894043,
          "Y": 1.9276838302612305,
          "label": "3"
         },
         {
          "X": 0.5723474025726318,
          "Y": 1.6235320568084717,
          "label": "3"
         },
         {
          "X": 0.7602245807647705,
          "Y": 1.7129613161087036,
          "label": "3"
         },
         {
          "X": -1.7992358207702637,
          "Y": -2.806643486022949,
          "label": "4"
         },
         {
          "X": 2.388607978820801,
          "Y": 1.0922733545303345,
          "label": "4"
         },
         {
          "X": -3.936708450317383,
          "Y": -0.07454439997673035,
          "label": "4"
         },
         {
          "X": -1.1096208095550537,
          "Y": 4.239819049835205,
          "label": "4"
         },
         {
          "X": 0.37129369378089905,
          "Y": -2.8770017623901367,
          "label": "4"
         },
         {
          "X": -0.6532022356987,
          "Y": 1.291498064994812,
          "label": "4"
         },
         {
          "X": 3.797534227371216,
          "Y": -1.2342597246170044,
          "label": "4"
         },
         {
          "X": 3.6129038333892822,
          "Y": -1.2186245918273926,
          "label": "4"
         },
         {
          "X": 0.6303545832633972,
          "Y": -2.665006637573242,
          "label": "4"
         },
         {
          "X": -1.72390878200531,
          "Y": 1.9248111248016357,
          "label": "4"
         },
         {
          "X": -0.577461838722229,
          "Y": -0.43637198209762573,
          "label": "4"
         },
         {
          "X": 2.4599242210388184,
          "Y": -0.606320321559906,
          "label": "4"
         },
         {
          "X": 1.911874532699585,
          "Y": -1.9088553190231323,
          "label": "4"
         },
         {
          "X": -0.8738797307014465,
          "Y": -0.8792043328285217,
          "label": "4"
         },
         {
          "X": -1.2165465354919434,
          "Y": 1.7790937423706055,
          "label": "4"
         },
         {
          "X": -0.4148581624031067,
          "Y": 0.1472722440958023,
          "label": "4"
         },
         {
          "X": -1.0734736919403076,
          "Y": -1.3642771244049072,
          "label": "4"
         },
         {
          "X": 0.8870543837547302,
          "Y": 3.436307191848755,
          "label": "4"
         },
         {
          "X": 0.9333556890487671,
          "Y": 3.479248285293579,
          "label": "4"
         },
         {
          "X": 1.8240411281585693,
          "Y": -2.018388032913208,
          "label": "4"
         }
        ]
       },
       "encoding": {
        "color": {
         "field": "label",
         "type": "nominal"
        },
        "x": {
         "field": "X",
         "type": "quantitative"
        },
        "y": {
         "field": "Y",
         "type": "quantitative"
        }
       },
       "mark": {
        "size": 60,
        "type": "circle"
       },
       "selection": {
        "selector019": {
         "bind": "scales",
         "encodings": [
          "x",
          "y"
         ],
         "mark": {
          "fill": "#333",
          "fillOpacity": 0.125,
          "stroke": "white"
         },
         "on": "[mousedown, window:mouseup] > window:mousemove!",
         "resolve": "global",
         "translate": "[mousedown, window:mouseup] > window:mousemove!",
         "type": "interval",
         "zoom": "wheel!"
        }
       }
      },
      "image/png": "[encoded data removed]",
      "text/plain": [
       "<VegaLite 2 object>\n",
       "\n",
       "If you see this message, it means the renderer has not been properly enabled\n",
       "for the frontend that you are using. For more information, see\n",
       "https://altair-viz.github.io/user_guide/troubleshooting.html\n"
      ]
     },
     "metadata": {},
     "output_type": "display_data"
    },
    {
     "name": "stdout",
     "output_type": "stream",
     "text": [
      "Perplexity 30\n"
     ]
    },
    {
     "data": {
      "application/vnd.vegalite.v2+json": {
       "$schema": "https://vega.github.io/schema/vega-lite/v2.6.0.json",
       "config": {
        "view": {
         "height": 300,
         "width": 400
        }
       },
       "data": {
        "name": "data-60aa7ae25095125ac56f77d1e2c3f6b5"
       },
       "datasets": {
        "data-60aa7ae25095125ac56f77d1e2c3f6b5": [
         {
          "X": -1.8140827417373657,
          "Y": 0.40087467432022095,
          "label": "1"
         },
         {
          "X": -2.095649480819702,
          "Y": 0.08011925965547562,
          "label": "1"
         },
         {
          "X": -2.2809717655181885,
          "Y": 0.7309656143188477,
          "label": "1"
         },
         {
          "X": 3.5951924324035645,
          "Y": 0.8921710252761841,
          "label": "1"
         },
         {
          "X": -2.441617012023926,
          "Y": 0.6271289587020874,
          "label": "1"
         },
         {
          "X": -2.5126280784606934,
          "Y": 0.32019883394241333,
          "label": "1"
         },
         {
          "X": -2.509742021560669,
          "Y": 0.552126944065094,
          "label": "1"
         },
         {
          "X": -2.530353546142578,
          "Y": 0.45572057366371155,
          "label": "1"
         },
         {
          "X": -2.353389263153076,
          "Y": 0.690814733505249,
          "label": "1"
         },
         {
          "X": 1.669472336769104,
          "Y": 0.4526241421699524,
          "label": "1"
         },
         {
          "X": -2.4832592010498047,
          "Y": 0.27959632873535156,
          "label": "1"
         },
         {
          "X": -2.0956826210021973,
          "Y": 0.08011184632778168,
          "label": "1"
         },
         {
          "X": 2.212944746017456,
          "Y": 1.3426874876022339,
          "label": "1"
         },
         {
          "X": -1.8658738136291504,
          "Y": 0.5747153759002686,
          "label": "1"
         },
         {
          "X": -2.12933611869812,
          "Y": 0.7595688104629517,
          "label": "1"
         },
         {
          "X": -2.3768017292022705,
          "Y": 0.11664660274982452,
          "label": "1"
         },
         {
          "X": -2.100482702255249,
          "Y": 0.7527456283569336,
          "label": "1"
         },
         {
          "X": -2.250748634338379,
          "Y": 0.0769873708486557,
          "label": "1"
         },
         {
          "X": -1.9587332010269165,
          "Y": 0.6723412871360779,
          "label": "1"
         },
         {
          "X": 3.61276912689209,
          "Y": 2.0090866088867188,
          "label": "1"
         },
         {
          "X": -1.9244883060455322,
          "Y": 0.17635178565979004,
          "label": "1"
         },
         {
          "X": -1.866064190864563,
          "Y": 0.26402974128723145,
          "label": "1"
         },
         {
          "X": -1.871174693107605,
          "Y": 0.5872458815574646,
          "label": "1"
         },
         {
          "X": -1.873704195022583,
          "Y": 0.2512604594230652,
          "label": "1"
         },
         {
          "X": 0.7623710632324219,
          "Y": 3.119364023208618,
          "label": "1"
         },
         {
          "X": 2.7568135261535645,
          "Y": 1.445942997932434,
          "label": "1"
         },
         {
          "X": -2.3962292671203613,
          "Y": 0.1286960244178772,
          "label": "1"
         },
         {
          "X": 3.185483455657959,
          "Y": 1.7273943424224854,
          "label": "1"
         },
         {
          "X": 5.304531574249268,
          "Y": -2.1176137924194336,
          "label": "1"
         },
         {
          "X": 0.8874537944793701,
          "Y": 0.7616932392120361,
          "label": "1"
         },
         {
          "X": -3.1741747856140137,
          "Y": -2.993035078048706,
          "label": "1"
         },
         {
          "X": 3.7210640907287598,
          "Y": -4.947854042053223,
          "label": "1"
         },
         {
          "X": 5.260699272155762,
          "Y": -2.1474196910858154,
          "label": "1"
         },
         {
          "X": 5.198097229003906,
          "Y": -2.375619649887085,
          "label": "1"
         },
         {
          "X": 5.225265979766846,
          "Y": -2.6026742458343506,
          "label": "1"
         },
         {
          "X": 5.669702529907227,
          "Y": -1.977066159248352,
          "label": "1"
         },
         {
          "X": 5.409219741821289,
          "Y": -2.7818610668182373,
          "label": "1"
         },
         {
          "X": 5.669702053070068,
          "Y": -1.977066159248352,
          "label": "1"
         },
         {
          "X": 6.024093151092529,
          "Y": -2.227856159210205,
          "label": "1"
         },
         {
          "X": 5.766336441040039,
          "Y": -2.8733718395233154,
          "label": "1"
         },
         {
          "X": 6.04887056350708,
          "Y": -2.3112473487854004,
          "label": "1"
         },
         {
          "X": 5.999127388000488,
          "Y": -2.6591577529907227,
          "label": "1"
         },
         {
          "X": -3.1504716873168945,
          "Y": -3.023712396621704,
          "label": "1"
         },
         {
          "X": 6.005276679992676,
          "Y": -2.653733730316162,
          "label": "1"
         },
         {
          "X": 6.024188041687012,
          "Y": -2.635925054550171,
          "label": "1"
         },
         {
          "X": 6.012123107910156,
          "Y": -2.647094249725342,
          "label": "1"
         },
         {
          "X": 6.071428298950195,
          "Y": -2.2917768955230713,
          "label": "1"
         },
         {
          "X": 5.200002193450928,
          "Y": -2.598573684692383,
          "label": "1"
         },
         {
          "X": 5.877274990081787,
          "Y": -2.0475058555603027,
          "label": "1"
         },
         {
          "X": 5.197238922119141,
          "Y": -2.3784236907958984,
          "label": "1"
         },
         {
          "X": 5.860235691070557,
          "Y": -2.0225961208343506,
          "label": "1"
         },
         {
          "X": 5.4539384841918945,
          "Y": -2.049806594848633,
          "label": "1"
         },
         {
          "X": 5.490357875823975,
          "Y": -2.0375823974609375,
          "label": "1"
         },
         {
          "X": 5.570621967315674,
          "Y": -2.8672235012054443,
          "label": "1"
         },
         {
          "X": 5.756351470947266,
          "Y": -2.8740193843841553,
          "label": "1"
         },
         {
          "X": 5.457839488983154,
          "Y": -2.8183484077453613,
          "label": "5"
         },
         {
          "X": 5.384603977203369,
          "Y": -2.7583937644958496,
          "label": "5"
         },
         {
          "X": 2.519362449645996,
          "Y": -3.680555820465088,
          "label": "5"
         },
         {
          "X": -2.450479030609131,
          "Y": -5.898227214813232,
          "label": "5"
         },
         {
          "X": -1.9434224367141724,
          "Y": -3.9837021827697754,
          "label": "5"
         },
         {
          "X": 0.7797122597694397,
          "Y": -6.955576419830322,
          "label": "5"
         },
         {
          "X": 0.7776415348052979,
          "Y": -6.953141212463379,
          "label": "5"
         },
         {
          "X": 0.9688337445259094,
          "Y": -7.048211097717285,
          "label": "2"
         },
         {
          "X": 0.9484522342681885,
          "Y": -7.040767192840576,
          "label": "2"
         },
         {
          "X": 1.365798830986023,
          "Y": -6.297108173370361,
          "label": "2"
         },
         {
          "X": 1.1214438676834106,
          "Y": -7.078107833862305,
          "label": "2"
         },
         {
          "X": -2.41147780418396,
          "Y": -5.59425163269043,
          "label": "2"
         },
         {
          "X": 1.3084439039230347,
          "Y": -7.009152889251709,
          "label": "2"
         },
         {
          "X": 3.349526882171631,
          "Y": 1.340749740600586,
          "label": "2"
         },
         {
          "X": 0.650736927986145,
          "Y": -6.516481399536133,
          "label": "2"
         },
         {
          "X": -2.217475175857544,
          "Y": -4.05928373336792,
          "label": "2"
         },
         {
          "X": 1.3972498178482056,
          "Y": -6.959329128265381,
          "label": "2"
         },
         {
          "X": 1.3643711805343628,
          "Y": -6.289416313171387,
          "label": "2"
         },
         {
          "X": 1.5333586931228638,
          "Y": -6.644973278045654,
          "label": "2"
         },
         {
          "X": 2.644926071166992,
          "Y": -1.325414776802063,
          "label": "2"
         },
         {
          "X": 1.493722677230835,
          "Y": -6.811460494995117,
          "label": "2"
         },
         {
          "X": 1.5333583354949951,
          "Y": -6.644975662231445,
          "label": "2"
         },
         {
          "X": 3.1312859058380127,
          "Y": 1.6601712703704834,
          "label": "2"
         },
         {
          "X": 1.5336291790008545,
          "Y": -6.649955749511719,
          "label": "2"
         },
         {
          "X": 0.9088573455810547,
          "Y": -6.2454938888549805,
          "label": "2"
         },
         {
          "X": 0.9081002473831177,
          "Y": -6.2458086013793945,
          "label": "2"
         },
         {
          "X": 0.6504514217376709,
          "Y": -6.509731292724609,
          "label": "2"
         },
         {
          "X": 0.9645705819129944,
          "Y": -6.223831653594971,
          "label": "2"
         },
         {
          "X": 1.2663699388504028,
          "Y": -7.035288333892822,
          "label": "2"
         },
         {
          "X": 0.6832050681114197,
          "Y": -6.827121734619141,
          "label": "2"
         },
         {
          "X": -2.877218723297119,
          "Y": -3.0364603996276855,
          "label": "2"
         },
         {
          "X": 0.6468352675437927,
          "Y": -6.719741344451904,
          "label": "2"
         },
         {
          "X": 1.3442273139953613,
          "Y": -6.279406547546387,
          "label": "2"
         },
         {
          "X": 0.6505084037780762,
          "Y": -6.509588718414307,
          "label": "3"
         },
         {
          "X": 1.3117252588272095,
          "Y": -6.267628192901611,
          "label": "3"
         },
         {
          "X": 0.9030336141586304,
          "Y": -6.247941017150879,
          "label": "3"
         },
         {
          "X": 3.082545518875122,
          "Y": 1.4790745973587036,
          "label": "3"
         },
         {
          "X": 1.5346145629882812,
          "Y": 0.6460548639297485,
          "label": "3"
         },
         {
          "X": 0.5169159770011902,
          "Y": -2.6613736152648926,
          "label": "3"
         },
         {
          "X": 2.3388125896453857,
          "Y": -1.1644582748413086,
          "label": "3"
         },
         {
          "X": -2.7709343433380127,
          "Y": -3.3986008167266846,
          "label": "3"
         },
         {
          "X": -2.87912917137146,
          "Y": -6.971827507019043,
          "label": "3"
         },
         {
          "X": 0.5455564260482788,
          "Y": -2.633202314376831,
          "label": "3"
         },
         {
          "X": 0.5167750120162964,
          "Y": -2.6614270210266113,
          "label": "3"
         },
         {
          "X": 0.5167748332023621,
          "Y": -2.6614270210266113,
          "label": "3"
         },
         {
          "X": 0.5167748928070068,
          "Y": -2.6614270210266113,
          "label": "3"
         },
         {
          "X": 0.5167750716209412,
          "Y": -2.6614267826080322,
          "label": "3"
         },
         {
          "X": 1.641735553741455,
          "Y": -3.4359138011932373,
          "label": "3"
         },
         {
          "X": 2.248600959777832,
          "Y": -3.589059591293335,
          "label": "3"
         },
         {
          "X": 3.7424004077911377,
          "Y": -4.968689441680908,
          "label": "4"
         },
         {
          "X": 3.5895919799804688,
          "Y": 1.9781211614608765,
          "label": "4"
         },
         {
          "X": 0.5465520620346069,
          "Y": -2.633178234100342,
          "label": "4"
         },
         {
          "X": -2.8762247562408447,
          "Y": -6.967447280883789,
          "label": "4"
         },
         {
          "X": -2.3728935718536377,
          "Y": -5.151759147644043,
          "label": "4"
         },
         {
          "X": 0.5465672612190247,
          "Y": -2.6332154273986816,
          "label": "4"
         },
         {
          "X": 0.667326033115387,
          "Y": 3.1523935794830322,
          "label": "4"
         },
         {
          "X": 0.6627497673034668,
          "Y": 3.14975905418396,
          "label": "4"
         },
         {
          "X": -2.2637205123901367,
          "Y": -4.666956424713135,
          "label": "4"
         },
         {
          "X": 0.545556366443634,
          "Y": -2.633202075958252,
          "label": "4"
         },
         {
          "X": 0.5167747735977173,
          "Y": -2.6614270210266113,
          "label": "4"
         },
         {
          "X": 1.1376935243606567,
          "Y": 0.8083274364471436,
          "label": "4"
         },
         {
          "X": -3.000166416168213,
          "Y": -2.9002697467803955,
          "label": "4"
         },
         {
          "X": 0.5465703010559082,
          "Y": -2.6331920623779297,
          "label": "4"
         },
         {
          "X": 0.5167748332023621,
          "Y": -2.6614270210266113,
          "label": "4"
         },
         {
          "X": 0.5465697646141052,
          "Y": -2.633192300796509,
          "label": "4"
         },
         {
          "X": 0.5465700626373291,
          "Y": -2.633192300796509,
          "label": "4"
         },
         {
          "X": 2.8637609481811523,
          "Y": -1.4746936559677124,
          "label": "4"
         },
         {
          "X": 2.8622419834136963,
          "Y": -1.4695020914077759,
          "label": "4"
         },
         {
          "X": -3.1131927967071533,
          "Y": -3.064272165298462,
          "label": "4"
         }
        ]
       },
       "encoding": {
        "color": {
         "field": "label",
         "type": "nominal"
        },
        "x": {
         "field": "X",
         "type": "quantitative"
        },
        "y": {
         "field": "Y",
         "type": "quantitative"
        }
       },
       "mark": {
        "size": 60,
        "type": "circle"
       },
       "selection": {
        "selector020": {
         "bind": "scales",
         "encodings": [
          "x",
          "y"
         ],
         "mark": {
          "fill": "#333",
          "fillOpacity": 0.125,
          "stroke": "white"
         },
         "on": "[mousedown, window:mouseup] > window:mousemove!",
         "resolve": "global",
         "translate": "[mousedown, window:mouseup] > window:mousemove!",
         "type": "interval",
         "zoom": "wheel!"
        }
       }
      },
      "image/png": "[encoded data removed]",
      "text/plain": [
       "<VegaLite 2 object>\n",
       "\n",
       "If you see this message, it means the renderer has not been properly enabled\n",
       "for the frontend that you are using. For more information, see\n",
       "https://altair-viz.github.io/user_guide/troubleshooting.html\n"
      ]
     },
     "metadata": {},
     "output_type": "display_data"
    },
    {
     "name": "stdout",
     "output_type": "stream",
     "text": [
      "Perplexity 50\n"
     ]
    },
    {
     "data": {
      "application/vnd.vegalite.v2+json": {
       "$schema": "https://vega.github.io/schema/vega-lite/v2.6.0.json",
       "config": {
        "view": {
         "height": 300,
         "width": 400
        }
       },
       "data": {
        "name": "data-01933b79c5ec9f2175bec0b80c57f716"
       },
       "datasets": {
        "data-01933b79c5ec9f2175bec0b80c57f716": [
         {
          "X": 1.099785566329956,
          "Y": 4.302637100219727,
          "label": "1"
         },
         {
          "X": 1.3839836120605469,
          "Y": 4.240986347198486,
          "label": "1"
         },
         {
          "X": 1.3839854001998901,
          "Y": 4.2409892082214355,
          "label": "1"
         },
         {
          "X": -2.6922607421875,
          "Y": 4.892134189605713,
          "label": "1"
         },
         {
          "X": 1.3119686841964722,
          "Y": 4.459587097167969,
          "label": "1"
         },
         {
          "X": 1.0997885465621948,
          "Y": 4.302635669708252,
          "label": "1"
         },
         {
          "X": 1.0997880697250366,
          "Y": 4.302635669708252,
          "label": "1"
         },
         {
          "X": 1.4102568626403809,
          "Y": 4.360500812530518,
          "label": "1"
         },
         {
          "X": 1.0997884273529053,
          "Y": 4.302635192871094,
          "label": "1"
         },
         {
          "X": -3.2787668704986572,
          "Y": 6.795852184295654,
          "label": "1"
         },
         {
          "X": 1.380691409111023,
          "Y": 4.236789703369141,
          "label": "1"
         },
         {
          "X": 1.3840230703353882,
          "Y": 4.241035461425781,
          "label": "1"
         },
         {
          "X": -2.604588508605957,
          "Y": 6.155471324920654,
          "label": "1"
         },
         {
          "X": 1.311970829963684,
          "Y": 4.4595866203308105,
          "label": "1"
         },
         {
          "X": 1.311967372894287,
          "Y": 4.459588050842285,
          "label": "1"
         },
         {
          "X": 1.0997878313064575,
          "Y": 4.302635192871094,
          "label": "1"
         },
         {
          "X": 1.38528311252594,
          "Y": 4.244102478027344,
          "label": "1"
         },
         {
          "X": 1.1000279188156128,
          "Y": 4.301101207733154,
          "label": "1"
         },
         {
          "X": 1.3144104480743408,
          "Y": 4.4601969718933105,
          "label": "1"
         },
         {
          "X": -1.6840622425079346,
          "Y": 5.317954063415527,
          "label": "1"
         },
         {
          "X": 1.2079732418060303,
          "Y": 4.169877529144287,
          "label": "1"
         },
         {
          "X": 1.244303822517395,
          "Y": 4.1677727699279785,
          "label": "1"
         },
         {
          "X": 1.3119667768478394,
          "Y": 4.459588050842285,
          "label": "1"
         },
         {
          "X": 1.0997884273529053,
          "Y": 4.302636623382568,
          "label": "1"
         },
         {
          "X": -1.8359110355377197,
          "Y": 3.720288038253784,
          "label": "1"
         },
         {
          "X": -2.5619895458221436,
          "Y": 5.6159210205078125,
          "label": "1"
         },
         {
          "X": 1.3168903589248657,
          "Y": 4.458035945892334,
          "label": "1"
         },
         {
          "X": -2.1458709239959717,
          "Y": 5.403714179992676,
          "label": "1"
         },
         {
          "X": 3.0757572650909424,
          "Y": 6.158138275146484,
          "label": "1"
         },
         {
          "X": -2.534397602081299,
          "Y": 7.217987537384033,
          "label": "1"
         },
         {
          "X": -1.469161033630371,
          "Y": 7.929725170135498,
          "label": "1"
         },
         {
          "X": -0.1873137503862381,
          "Y": 3.2469801902770996,
          "label": "1"
         },
         {
          "X": 2.655635356903076,
          "Y": 6.3513383865356445,
          "label": "1"
         },
         {
          "X": 2.9494080543518066,
          "Y": 6.633052825927734,
          "label": "1"
         },
         {
          "X": 2.95849609375,
          "Y": 6.631690979003906,
          "label": "1"
         },
         {
          "X": 3.1655325889587402,
          "Y": 6.296693325042725,
          "label": "1"
         },
         {
          "X": 2.6574981212615967,
          "Y": 6.443792819976807,
          "label": "1"
         },
         {
          "X": 2.984515428543091,
          "Y": 6.633230209350586,
          "label": "1"
         },
         {
          "X": 2.9577765464782715,
          "Y": 6.635506629943848,
          "label": "1"
         },
         {
          "X": 3.1775195598602295,
          "Y": 6.410654544830322,
          "label": "1"
         },
         {
          "X": 2.990913152694702,
          "Y": 6.124568462371826,
          "label": "1"
         },
         {
          "X": 3.096158266067505,
          "Y": 6.573540210723877,
          "label": "1"
         },
         {
          "X": -1.4434212446212769,
          "Y": 7.925293445587158,
          "label": "1"
         },
         {
          "X": 2.8073458671569824,
          "Y": 6.128444671630859,
          "label": "1"
         },
         {
          "X": 2.652517318725586,
          "Y": 6.378885746002197,
          "label": "1"
         },
         {
          "X": 2.796499013900757,
          "Y": 6.134504318237305,
          "label": "1"
         },
         {
          "X": 3.1836395263671875,
          "Y": 6.3747735023498535,
          "label": "1"
         },
         {
          "X": 3.180894374847412,
          "Y": 6.354129314422607,
          "label": "1"
         },
         {
          "X": 2.92397403717041,
          "Y": 6.1140007972717285,
          "label": "1"
         },
         {
          "X": 2.801286458969116,
          "Y": 6.134702205657959,
          "label": "1"
         },
         {
          "X": 2.9531404972076416,
          "Y": 6.632591247558594,
          "label": "1"
         },
         {
          "X": 2.652556896209717,
          "Y": 6.395806312561035,
          "label": "1"
         },
         {
          "X": 2.652517318725586,
          "Y": 6.378875255584717,
          "label": "1"
         },
         {
          "X": 2.6561379432678223,
          "Y": 6.406060218811035,
          "label": "1"
         },
         {
          "X": 2.9531452655792236,
          "Y": 6.632591247558594,
          "label": "1"
         },
         {
          "X": 2.660287857055664,
          "Y": 6.266913890838623,
          "label": "5"
         },
         {
          "X": 3.065471887588501,
          "Y": 6.157430171966553,
          "label": "5"
         },
         {
          "X": -0.643608033657074,
          "Y": 4.553349018096924,
          "label": "5"
         },
         {
          "X": 3.377309799194336,
          "Y": 2.7433791160583496,
          "label": "5"
         },
         {
          "X": 4.060113430023193,
          "Y": 4.4232258796691895,
          "label": "5"
         },
         {
          "X": 0.627045214176178,
          "Y": 8.106597900390625,
          "label": "5"
         },
         {
          "X": 1.0298749208450317,
          "Y": 8.424695014953613,
          "label": "5"
         },
         {
          "X": 0.6270394325256348,
          "Y": 8.106613159179688,
          "label": "2"
         },
         {
          "X": 0.6256132125854492,
          "Y": 8.110419273376465,
          "label": "2"
         },
         {
          "X": 0.9431809782981873,
          "Y": 7.933248519897461,
          "label": "2"
         },
         {
          "X": 1.155988335609436,
          "Y": 8.266109466552734,
          "label": "2"
         },
         {
          "X": 3.4837770462036133,
          "Y": 2.9666221141815186,
          "label": "2"
         },
         {
          "X": 0.6256119012832642,
          "Y": 8.110422134399414,
          "label": "2"
         },
         {
          "X": -2.432307481765747,
          "Y": 5.166007995605469,
          "label": "2"
         },
         {
          "X": 0.7802324295043945,
          "Y": 8.42546272277832,
          "label": "2"
         },
         {
          "X": 3.871074676513672,
          "Y": 4.253765106201172,
          "label": "2"
         },
         {
          "X": 0.9440505504608154,
          "Y": 7.933304309844971,
          "label": "2"
         },
         {
          "X": 0.6256499886512756,
          "Y": 8.110305786132812,
          "label": "2"
         },
         {
          "X": 1.0099726915359497,
          "Y": 7.9538702964782715,
          "label": "2"
         },
         {
          "X": 0.5866473317146301,
          "Y": 1.7098188400268555,
          "label": "2"
         },
         {
          "X": 1.158850073814392,
          "Y": 8.197800636291504,
          "label": "2"
         },
         {
          "X": 1.1559839248657227,
          "Y": 8.266127586364746,
          "label": "2"
         },
         {
          "X": -2.2611467838287354,
          "Y": 5.308825969696045,
          "label": "2"
         },
         {
          "X": 0.6271449327468872,
          "Y": 8.106362342834473,
          "label": "2"
         },
         {
          "X": 1.0551341772079468,
          "Y": 8.409186363220215,
          "label": "2"
         },
         {
          "X": 0.9435625672340393,
          "Y": 7.933356761932373,
          "label": "2"
         },
         {
          "X": 0.8688865900039673,
          "Y": 8.45487117767334,
          "label": "2"
         },
         {
          "X": 0.9434632658958435,
          "Y": 7.933329105377197,
          "label": "2"
         },
         {
          "X": 1.1592764854431152,
          "Y": 8.246625900268555,
          "label": "2"
         },
         {
          "X": 0.7349475026130676,
          "Y": 8.39730167388916,
          "label": "2"
         },
         {
          "X": 3.394392490386963,
          "Y": 4.532546043395996,
          "label": "2"
         },
         {
          "X": 1.159274697303772,
          "Y": 8.246634483337402,
          "label": "2"
         },
         {
          "X": 0.7164289951324463,
          "Y": 8.383435249328613,
          "label": "2"
         },
         {
          "X": 0.7164289951324463,
          "Y": 8.383434295654297,
          "label": "3"
         },
         {
          "X": 0.9444158673286438,
          "Y": 7.933374404907227,
          "label": "3"
         },
         {
          "X": 1.1672877073287964,
          "Y": 8.210887908935547,
          "label": "3"
         },
         {
          "X": -2.3771495819091797,
          "Y": 5.451352596282959,
          "label": "3"
         },
         {
          "X": -3.0538876056671143,
          "Y": 6.799749851226807,
          "label": "3"
         },
         {
          "X": 0.10876385122537613,
          "Y": 6.079405784606934,
          "label": "3"
         },
         {
          "X": 0.8786296248435974,
          "Y": 1.6905995607376099,
          "label": "3"
         },
         {
          "X": -1.3552558422088623,
          "Y": 7.778736591339111,
          "label": "3"
         },
         {
          "X": 2.8459930419921875,
          "Y": 1.8778382539749146,
          "label": "3"
         },
         {
          "X": 0.10878749191761017,
          "Y": 6.078114032745361,
          "label": "3"
         },
         {
          "X": 0.10878805816173553,
          "Y": 6.0781145095825195,
          "label": "3"
         },
         {
          "X": 0.1087881475687027,
          "Y": 6.0781145095825195,
          "label": "3"
         },
         {
          "X": 0.10879874974489212,
          "Y": 6.0781121253967285,
          "label": "3"
         },
         {
          "X": 0.1087881475687027,
          "Y": 6.0781145095825195,
          "label": "3"
         },
         {
          "X": 1.203961730003357,
          "Y": 6.11517858505249,
          "label": "3"
         },
         {
          "X": -0.5895085334777832,
          "Y": 4.760231971740723,
          "label": "3"
         },
         {
          "X": -0.23419302701950073,
          "Y": 3.1316723823547363,
          "label": "4"
         },
         {
          "X": -1.7301820516586304,
          "Y": 5.2946038246154785,
          "label": "4"
         },
         {
          "X": 0.1087883859872818,
          "Y": 6.0781168937683105,
          "label": "4"
         },
         {
          "X": 2.849621295928955,
          "Y": 1.8814914226531982,
          "label": "4"
         },
         {
          "X": 3.663675546646118,
          "Y": 3.3317039012908936,
          "label": "4"
         },
         {
          "X": 0.11049506068229675,
          "Y": 6.076314449310303,
          "label": "4"
         },
         {
          "X": -1.7865813970565796,
          "Y": 3.6082115173339844,
          "label": "4"
         },
         {
          "X": -1.790324091911316,
          "Y": 3.6149680614471436,
          "label": "4"
         },
         {
          "X": 3.786228656768799,
          "Y": 3.7690296173095703,
          "label": "4"
         },
         {
          "X": 0.10879848152399063,
          "Y": 6.0781121253967285,
          "label": "4"
         },
         {
          "X": 0.10879874229431152,
          "Y": 6.078113079071045,
          "label": "4"
         },
         {
          "X": -2.63315749168396,
          "Y": 7.015042781829834,
          "label": "4"
         },
         {
          "X": -1.6975929737091064,
          "Y": 7.736392974853516,
          "label": "4"
         },
         {
          "X": 0.108798548579216,
          "Y": 6.0781121253967285,
          "label": "4"
         },
         {
          "X": 0.1087544709444046,
          "Y": 6.079427242279053,
          "label": "4"
         },
         {
          "X": 0.10879861563444138,
          "Y": 6.078113079071045,
          "label": "4"
         },
         {
          "X": 0.10878822952508926,
          "Y": 6.078114032745361,
          "label": "4"
         },
         {
          "X": 0.319004625082016,
          "Y": 1.7498812675476074,
          "label": "4"
         },
         {
          "X": 0.31594526767730713,
          "Y": 1.764682412147522,
          "label": "4"
         },
         {
          "X": -1.4349040985107422,
          "Y": 7.90717887878418,
          "label": "4"
         }
        ]
       },
       "encoding": {
        "color": {
         "field": "label",
         "type": "nominal"
        },
        "x": {
         "field": "X",
         "type": "quantitative"
        },
        "y": {
         "field": "Y",
         "type": "quantitative"
        }
       },
       "mark": {
        "size": 60,
        "type": "circle"
       },
       "selection": {
        "selector021": {
         "bind": "scales",
         "encodings": [
          "x",
          "y"
         ],
         "mark": {
          "fill": "#333",
          "fillOpacity": 0.125,
          "stroke": "white"
         },
         "on": "[mousedown, window:mouseup] > window:mousemove!",
         "resolve": "global",
         "translate": "[mousedown, window:mouseup] > window:mousemove!",
         "type": "interval",
         "zoom": "wheel!"
        }
       }
      },
      "image/png": "[encoded data removed]",
      "text/plain": [
       "<VegaLite 2 object>\n",
       "\n",
       "If you see this message, it means the renderer has not been properly enabled\n",
       "for the frontend that you are using. For more information, see\n",
       "https://altair-viz.github.io/user_guide/troubleshooting.html\n"
      ]
     },
     "metadata": {},
     "output_type": "display_data"
    },
    {
     "name": "stdout",
     "output_type": "stream",
     "text": [
      "Perplexity 80\n"
     ]
    },
    {
     "data": {
      "application/vnd.vegalite.v2+json": {
       "$schema": "https://vega.github.io/schema/vega-lite/v2.6.0.json",
       "config": {
        "view": {
         "height": 300,
         "width": 400
        }
       },
       "data": {
        "name": "data-05f24b603fe32732ef195dca85cedd7b"
       },
       "datasets": {
        "data-05f24b603fe32732ef195dca85cedd7b": [
         {
          "X": 2.9738078117370605,
          "Y": -1.4460612535476685,
          "label": "1"
         },
         {
          "X": 2.9738075733184814,
          "Y": -1.446061134338379,
          "label": "1"
         },
         {
          "X": 2.9738078117370605,
          "Y": -1.4460612535476685,
          "label": "1"
         },
         {
          "X": 5.055389881134033,
          "Y": -0.24331364035606384,
          "label": "1"
         },
         {
          "X": 2.973806858062744,
          "Y": -1.4460614919662476,
          "label": "1"
         },
         {
          "X": 2.973806619644165,
          "Y": -1.4460618495941162,
          "label": "1"
         },
         {
          "X": 2.973806381225586,
          "Y": -1.4460612535476685,
          "label": "1"
         },
         {
          "X": 2.973806619644165,
          "Y": -1.4460608959197998,
          "label": "1"
         },
         {
          "X": 2.973806381225586,
          "Y": -1.4460612535476685,
          "label": "1"
         },
         {
          "X": 5.237387180328369,
          "Y": -1.8958228826522827,
          "label": "1"
         },
         {
          "X": 2.973806619644165,
          "Y": -1.4460617303848267,
          "label": "1"
         },
         {
          "X": 2.9738073348999023,
          "Y": -1.4460617303848267,
          "label": "1"
         },
         {
          "X": 5.157779216766357,
          "Y": -1.3701993227005005,
          "label": "1"
         },
         {
          "X": 2.9738070964813232,
          "Y": -1.446061372756958,
          "label": "1"
         },
         {
          "X": 2.973806858062744,
          "Y": -1.4460620880126953,
          "label": "1"
         },
         {
          "X": 2.973806858062744,
          "Y": -1.4460614919662476,
          "label": "1"
         },
         {
          "X": 2.9737205505371094,
          "Y": -1.4460864067077637,
          "label": "1"
         },
         {
          "X": 2.9737205505371094,
          "Y": -1.4460855722427368,
          "label": "1"
         },
         {
          "X": 2.9737205505371094,
          "Y": -1.4460855722427368,
          "label": "1"
         },
         {
          "X": 4.690808296203613,
          "Y": -0.6973870396614075,
          "label": "1"
         },
         {
          "X": 2.973806381225586,
          "Y": -1.446061372756958,
          "label": "1"
         },
         {
          "X": 2.973806381225586,
          "Y": -1.4460612535476685,
          "label": "1"
         },
         {
          "X": 2.973806381225586,
          "Y": -1.4460612535476685,
          "label": "1"
         },
         {
          "X": 2.973806619644165,
          "Y": -1.4460617303848267,
          "label": "1"
         },
         {
          "X": 4.680355072021484,
          "Y": -1.6359236240386963,
          "label": "1"
         },
         {
          "X": 5.143408298492432,
          "Y": -0.8706867098808289,
          "label": "1"
         },
         {
          "X": 2.9737954139709473,
          "Y": -1.446063756942749,
          "label": "1"
         },
         {
          "X": 4.924805641174316,
          "Y": -0.7916597127914429,
          "label": "1"
         },
         {
          "X": 2.48187518119812,
          "Y": -0.7158024907112122,
          "label": "1"
         },
         {
          "X": 4.564390182495117,
          "Y": -2.521550416946411,
          "label": "1"
         },
         {
          "X": 3.7122421264648438,
          "Y": -2.7159483432769775,
          "label": "1"
         },
         {
          "X": 1.9047987461090088,
          "Y": 0.27850237488746643,
          "label": "1"
         },
         {
          "X": 2.4818756580352783,
          "Y": -0.715801477432251,
          "label": "1"
         },
         {
          "X": 2.4818429946899414,
          "Y": -0.7152990102767944,
          "label": "1"
         },
         {
          "X": 2.481844425201416,
          "Y": -0.7152993083000183,
          "label": "1"
         },
         {
          "X": 2.4818429946899414,
          "Y": -0.7152990102767944,
          "label": "1"
         },
         {
          "X": 2.4818429946899414,
          "Y": -0.7152990698814392,
          "label": "1"
         },
         {
          "X": 2.481842279434204,
          "Y": -0.7152987122535706,
          "label": "1"
         },
         {
          "X": 2.4818437099456787,
          "Y": -0.7152984738349915,
          "label": "1"
         },
         {
          "X": 2.4818432331085205,
          "Y": -0.7152986526489258,
          "label": "1"
         },
         {
          "X": 2.4818427562713623,
          "Y": -0.7152990102767944,
          "label": "1"
         },
         {
          "X": 2.481875419616699,
          "Y": -0.7158021926879883,
          "label": "1"
         },
         {
          "X": 3.6974103450775146,
          "Y": -2.7062950134277344,
          "label": "1"
         },
         {
          "X": 2.481843948364258,
          "Y": -0.7152985334396362,
          "label": "1"
         },
         {
          "X": 2.481842279434204,
          "Y": -0.7152987122535706,
          "label": "1"
         },
         {
          "X": 2.4818427562713623,
          "Y": -0.715299129486084,
          "label": "1"
         },
         {
          "X": 2.481875419616699,
          "Y": -0.7158020734786987,
          "label": "1"
         },
         {
          "X": 2.4818429946899414,
          "Y": -0.7152991890907288,
          "label": "1"
         },
         {
          "X": 2.481842517852783,
          "Y": -0.715299129486084,
          "label": "1"
         },
         {
          "X": 2.481874942779541,
          "Y": -0.7158021926879883,
          "label": "1"
         },
         {
          "X": 2.4818429946899414,
          "Y": -0.715299129486084,
          "label": "1"
         },
         {
          "X": 2.4818432331085205,
          "Y": -0.715299129486084,
          "label": "1"
         },
         {
          "X": 2.4818756580352783,
          "Y": -0.7158015966415405,
          "label": "1"
         },
         {
          "X": 2.4818429946899414,
          "Y": -0.7152988314628601,
          "label": "1"
         },
         {
          "X": 2.481842041015625,
          "Y": -0.7152988910675049,
          "label": "1"
         },
         {
          "X": 2.4818437099456787,
          "Y": -0.7152988314628601,
          "label": "5"
         },
         {
          "X": 2.4818427562713623,
          "Y": -0.7153021693229675,
          "label": "5"
         },
         {
          "X": 2.791134834289551,
          "Y": 0.7751786708831787,
          "label": "5"
         },
         {
          "X": 1.4757884740829468,
          "Y": -2.200598955154419,
          "label": "5"
         },
         {
          "X": 2.673672676086426,
          "Y": -2.7843499183654785,
          "label": "5"
         },
         {
          "X": 3.3519394397735596,
          "Y": -0.35896211862564087,
          "label": "5"
         },
         {
          "X": 3.3519394397735596,
          "Y": -0.3589607775211334,
          "label": "5"
         },
         {
          "X": 3.352952480316162,
          "Y": -0.3598000109195709,
          "label": "2"
         },
         {
          "X": 3.3519392013549805,
          "Y": -0.35896235704421997,
          "label": "2"
         },
         {
          "X": 3.351940155029297,
          "Y": -0.3589625060558319,
          "label": "2"
         },
         {
          "X": 3.3523452281951904,
          "Y": -0.3594011962413788,
          "label": "2"
         },
         {
          "X": 1.6536060571670532,
          "Y": -2.3319995403289795,
          "label": "2"
         },
         {
          "X": 3.352951765060425,
          "Y": -0.35979947447776794,
          "label": "2"
         },
         {
          "X": 5.017921447753906,
          "Y": -0.5415675044059753,
          "label": "2"
         },
         {
          "X": 3.3523459434509277,
          "Y": -0.35939422249794006,
          "label": "2"
         },
         {
          "X": 2.6763651371002197,
          "Y": -2.6739962100982666,
          "label": "2"
         },
         {
          "X": 3.3519396781921387,
          "Y": -0.3589540421962738,
          "label": "2"
         },
         {
          "X": 3.3519394397735596,
          "Y": -0.3589613437652588,
          "label": "2"
         },
         {
          "X": 3.3519387245178223,
          "Y": -0.35896146297454834,
          "label": "2"
         },
         {
          "X": 4.273281574249268,
          "Y": 0.9885677695274353,
          "label": "2"
         },
         {
          "X": 3.3523454666137695,
          "Y": -0.35940131545066833,
          "label": "2"
         },
         {
          "X": 3.3519396781921387,
          "Y": -0.35896211862564087,
          "label": "2"
         },
         {
          "X": 4.998334884643555,
          "Y": -0.8058850765228271,
          "label": "2"
         },
         {
          "X": 3.3519394397735596,
          "Y": -0.3589620888233185,
          "label": "2"
         },
         {
          "X": 3.3519392013549805,
          "Y": -0.3589616119861603,
          "label": "2"
         },
         {
          "X": 3.3523459434509277,
          "Y": -0.3594017028808594,
          "label": "2"
         },
         {
          "X": 3.3523449897766113,
          "Y": -0.35940128564834595,
          "label": "2"
         },
         {
          "X": 3.3523447513580322,
          "Y": -0.3594013452529907,
          "label": "2"
         },
         {
          "X": 3.3523447513580322,
          "Y": -0.35940077900886536,
          "label": "2"
         },
         {
          "X": 3.3523452281951904,
          "Y": -0.35940131545066833,
          "label": "2"
         },
         {
          "X": 3.6092653274536133,
          "Y": -2.793226480484009,
          "label": "2"
         },
         {
          "X": 3.352951765060425,
          "Y": -0.3597995638847351,
          "label": "2"
         },
         {
          "X": 3.3523452281951904,
          "Y": -0.35940149426460266,
          "label": "2"
         },
         {
          "X": 3.3519394397735596,
          "Y": -0.35896220803260803,
          "label": "3"
         },
         {
          "X": 3.3523452281951904,
          "Y": -0.3594015836715698,
          "label": "3"
         },
         {
          "X": 3.3523457050323486,
          "Y": -0.35940155386924744,
          "label": "3"
         },
         {
          "X": 5.016956806182861,
          "Y": -0.6844738125801086,
          "label": "3"
         },
         {
          "X": 5.16933012008667,
          "Y": -1.9184192419052124,
          "label": "3"
         },
         {
          "X": 3.6118953227996826,
          "Y": -1.1057912111282349,
          "label": "3"
         },
         {
          "X": 4.278938293457031,
          "Y": 0.9941469430923462,
          "label": "3"
         },
         {
          "X": 3.4589600563049316,
          "Y": -2.682377815246582,
          "label": "3"
         },
         {
          "X": 1.0525845289230347,
          "Y": -1.83672297000885,
          "label": "3"
         },
         {
          "X": 3.6122992038726807,
          "Y": -1.106394648551941,
          "label": "3"
         },
         {
          "X": 3.6118905544281006,
          "Y": -1.1058146953582764,
          "label": "3"
         },
         {
          "X": 3.6122989654541016,
          "Y": -1.1063944101333618,
          "label": "3"
         },
         {
          "X": 3.616079330444336,
          "Y": -1.1066011190414429,
          "label": "3"
         },
         {
          "X": 3.614365339279175,
          "Y": -1.1063730716705322,
          "label": "3"
         },
         {
          "X": 3.084573268890381,
          "Y": -0.8573616147041321,
          "label": "3"
         },
         {
          "X": 3.0027530193328857,
          "Y": 0.6377872228622437,
          "label": "3"
         },
         {
          "X": 1.8723995685577393,
          "Y": 0.44255632162094116,
          "label": "4"
         },
         {
          "X": 4.7239990234375,
          "Y": -0.6568357348442078,
          "label": "4"
         },
         {
          "X": 3.6134283542633057,
          "Y": -1.1086703538894653,
          "label": "4"
         },
         {
          "X": 1.0563024282455444,
          "Y": -1.842974066734314,
          "label": "4"
         },
         {
          "X": 1.9281443357467651,
          "Y": -2.5150201320648193,
          "label": "4"
         },
         {
          "X": 3.6118879318237305,
          "Y": -1.1058108806610107,
          "label": "4"
         },
         {
          "X": 4.52255916595459,
          "Y": -1.9204901456832886,
          "label": "4"
         },
         {
          "X": 4.518622875213623,
          "Y": -1.9188193082809448,
          "label": "4"
         },
         {
          "X": 2.182403564453125,
          "Y": -2.5368492603302,
          "label": "4"
         },
         {
          "X": 3.6118907928466797,
          "Y": -1.1058149337768555,
          "label": "4"
         },
         {
          "X": 3.6122987270355225,
          "Y": -1.106394648551941,
          "label": "4"
         },
         {
          "X": 4.74998664855957,
          "Y": -2.3386592864990234,
          "label": "4"
         },
         {
          "X": 3.808922290802002,
          "Y": -2.766864776611328,
          "label": "4"
         },
         {
          "X": 3.6135218143463135,
          "Y": -1.106705665588379,
          "label": "4"
         },
         {
          "X": 3.6133759021759033,
          "Y": -1.1073960065841675,
          "label": "4"
         },
         {
          "X": 3.6118907928466797,
          "Y": -1.1058149337768555,
          "label": "4"
         },
         {
          "X": 3.6122984886169434,
          "Y": -1.1063945293426514,
          "label": "4"
         },
         {
          "X": 4.277307987213135,
          "Y": 0.9356755614280701,
          "label": "4"
         },
         {
          "X": 4.279435634613037,
          "Y": 0.9363391995429993,
          "label": "4"
         },
         {
          "X": 3.6817095279693604,
          "Y": -2.6989471912384033,
          "label": "4"
         }
        ]
       },
       "encoding": {
        "color": {
         "field": "label",
         "type": "nominal"
        },
        "x": {
         "field": "X",
         "type": "quantitative"
        },
        "y": {
         "field": "Y",
         "type": "quantitative"
        }
       },
       "mark": {
        "size": 60,
        "type": "circle"
       },
       "selection": {
        "selector022": {
         "bind": "scales",
         "encodings": [
          "x",
          "y"
         ],
         "mark": {
          "fill": "#333",
          "fillOpacity": 0.125,
          "stroke": "white"
         },
         "on": "[mousedown, window:mouseup] > window:mousemove!",
         "resolve": "global",
         "translate": "[mousedown, window:mouseup] > window:mousemove!",
         "type": "interval",
         "zoom": "wheel!"
        }
       }
      },
      "image/png": "[encoded data removed]",
      "text/plain": [
       "<VegaLite 2 object>\n",
       "\n",
       "If you see this message, it means the renderer has not been properly enabled\n",
       "for the frontend that you are using. For more information, see\n",
       "https://altair-viz.github.io/user_guide/troubleshooting.html\n"
      ]
     },
     "metadata": {},
     "output_type": "display_data"
    },
    {
     "name": "stdout",
     "output_type": "stream",
     "text": [
      "Perplexity 100\n"
     ]
    },
    {
     "data": {
      "application/vnd.vegalite.v2+json": {
       "$schema": "https://vega.github.io/schema/vega-lite/v2.6.0.json",
       "config": {
        "view": {
         "height": 300,
         "width": 400
        }
       },
       "data": {
        "name": "data-a6c83f1f4527931b1582dbb7e6ab18d1"
       },
       "datasets": {
        "data-a6c83f1f4527931b1582dbb7e6ab18d1": [
         {
          "X": 25.165739059448242,
          "Y": -2.712414503097534,
          "label": "1"
         },
         {
          "X": 25.16575050354004,
          "Y": -2.7124130725860596,
          "label": "1"
         },
         {
          "X": 25.165735244750977,
          "Y": -2.7124149799346924,
          "label": "1"
         },
         {
          "X": 25.25279998779297,
          "Y": -3.907289505004883,
          "label": "1"
         },
         {
          "X": 25.165739059448242,
          "Y": -2.7124075889587402,
          "label": "1"
         },
         {
          "X": 25.165733337402344,
          "Y": -2.7124102115631104,
          "label": "1"
         },
         {
          "X": 25.165735244750977,
          "Y": -2.712411642074585,
          "label": "1"
         },
         {
          "X": 25.16572380065918,
          "Y": -2.712407350540161,
          "label": "1"
         },
         {
          "X": 25.165735244750977,
          "Y": -2.712411642074585,
          "label": "1"
         },
         {
          "X": 24.402132034301758,
          "Y": -3.865115165710449,
          "label": "1"
         },
         {
          "X": 25.16573715209961,
          "Y": -2.7124087810516357,
          "label": "1"
         },
         {
          "X": 25.165740966796875,
          "Y": -2.712409257888794,
          "label": "1"
         },
         {
          "X": 24.278318405151367,
          "Y": -3.604278564453125,
          "label": "1"
         },
         {
          "X": 25.165735244750977,
          "Y": -2.712411642074585,
          "label": "1"
         },
         {
          "X": 25.165740966796875,
          "Y": -2.712409257888794,
          "label": "1"
         },
         {
          "X": 25.165739059448242,
          "Y": -2.712409019470215,
          "label": "1"
         },
         {
          "X": 25.16574478149414,
          "Y": -2.7123630046844482,
          "label": "1"
         },
         {
          "X": 25.165746688842773,
          "Y": -2.7123637199401855,
          "label": "1"
         },
         {
          "X": 25.165746688842773,
          "Y": -2.7123637199401855,
          "label": "1"
         },
         {
          "X": 25.071365356445312,
          "Y": -2.9939279556274414,
          "label": "1"
         },
         {
          "X": 25.165740966796875,
          "Y": -2.712409257888794,
          "label": "1"
         },
         {
          "X": 25.165733337402344,
          "Y": -2.7124102115631104,
          "label": "1"
         },
         {
          "X": 25.165740966796875,
          "Y": -2.712409257888794,
          "label": "1"
         },
         {
          "X": 25.165740966796875,
          "Y": -2.712409257888794,
          "label": "1"
         },
         {
          "X": 24.835405349731445,
          "Y": -3.2489726543426514,
          "label": "1"
         },
         {
          "X": 24.725982666015625,
          "Y": -3.7829067707061768,
          "label": "1"
         },
         {
          "X": 25.16576385498047,
          "Y": -2.7123613357543945,
          "label": "1"
         },
         {
          "X": 24.91439437866211,
          "Y": -3.235832691192627,
          "label": "1"
         },
         {
          "X": 25.165830612182617,
          "Y": -2.7123799324035645,
          "label": "1"
         },
         {
          "X": 23.9245548248291,
          "Y": -3.160057306289673,
          "label": "1"
         },
         {
          "X": 24.383148193359375,
          "Y": -2.63226056098938,
          "label": "1"
         },
         {
          "X": 25.629491806030273,
          "Y": -2.884793996810913,
          "label": "1"
         },
         {
          "X": 25.16581153869629,
          "Y": -2.71238374710083,
          "label": "1"
         },
         {
          "X": 25.165807723999023,
          "Y": -2.712385416030884,
          "label": "1"
         },
         {
          "X": 25.16581153869629,
          "Y": -2.71238374710083,
          "label": "1"
         },
         {
          "X": 25.165815353393555,
          "Y": -2.712383508682251,
          "label": "1"
         },
         {
          "X": 25.165809631347656,
          "Y": -2.712385654449463,
          "label": "1"
         },
         {
          "X": 25.165830612182617,
          "Y": -2.7123799324035645,
          "label": "1"
         },
         {
          "X": 25.16583251953125,
          "Y": -2.712380886077881,
          "label": "1"
         },
         {
          "X": 25.16581153869629,
          "Y": -2.71238374710083,
          "label": "1"
         },
         {
          "X": 25.165815353393555,
          "Y": -2.71238374710083,
          "label": "1"
         },
         {
          "X": 25.16582489013672,
          "Y": -2.712379217147827,
          "label": "1"
         },
         {
          "X": 24.435312271118164,
          "Y": -2.62796950340271,
          "label": "1"
         },
         {
          "X": 25.165813446044922,
          "Y": -2.7123849391937256,
          "label": "1"
         },
         {
          "X": 25.16581153869629,
          "Y": -2.712383270263672,
          "label": "1"
         },
         {
          "X": 25.16581153869629,
          "Y": -2.71238374710083,
          "label": "1"
         },
         {
          "X": 25.165815353393555,
          "Y": -2.712383508682251,
          "label": "1"
         },
         {
          "X": 25.165815353393555,
          "Y": -2.71238374710083,
          "label": "1"
         },
         {
          "X": 25.16583251953125,
          "Y": -2.712380886077881,
          "label": "1"
         },
         {
          "X": 25.16582489013672,
          "Y": -2.712379217147827,
          "label": "1"
         },
         {
          "X": 25.165815353393555,
          "Y": -2.71238374710083,
          "label": "1"
         },
         {
          "X": 25.165815353393555,
          "Y": -2.712379217147827,
          "label": "1"
         },
         {
          "X": 25.165809631347656,
          "Y": -2.712385654449463,
          "label": "1"
         },
         {
          "X": 25.16582489013672,
          "Y": -2.712379217147827,
          "label": "1"
         },
         {
          "X": 25.165809631347656,
          "Y": -2.7123842239379883,
          "label": "1"
         },
         {
          "X": 25.16581153869629,
          "Y": -2.71238374710083,
          "label": "5"
         },
         {
          "X": 25.165821075439453,
          "Y": -2.712369680404663,
          "label": "5"
         },
         {
          "X": 25.70551300048828,
          "Y": -2.9454398155212402,
          "label": "5"
         },
         {
          "X": 24.70342254638672,
          "Y": -1.4692970514297485,
          "label": "5"
         },
         {
          "X": 25.517414093017578,
          "Y": -1.6628798246383667,
          "label": "5"
         },
         {
          "X": 25.165752410888672,
          "Y": -2.71225905418396,
          "label": "5"
         },
         {
          "X": 25.16577911376953,
          "Y": -2.7122530937194824,
          "label": "5"
         },
         {
          "X": 25.165775299072266,
          "Y": -2.7122604846954346,
          "label": "2"
         },
         {
          "X": 25.165760040283203,
          "Y": -2.712259531021118,
          "label": "2"
         },
         {
          "X": 25.165773391723633,
          "Y": -2.7122604846954346,
          "label": "2"
         },
         {
          "X": 25.16575813293457,
          "Y": -2.712259292602539,
          "label": "2"
         },
         {
          "X": 24.763092041015625,
          "Y": -1.5012657642364502,
          "label": "2"
         },
         {
          "X": 25.165752410888672,
          "Y": -2.7122604846954346,
          "label": "2"
         },
         {
          "X": 25.143394470214844,
          "Y": -3.5462453365325928,
          "label": "2"
         },
         {
          "X": 25.165742874145508,
          "Y": -2.712289333343506,
          "label": "2"
         },
         {
          "X": 25.20623207092285,
          "Y": -1.799451470375061,
          "label": "2"
         },
         {
          "X": 25.16574478149414,
          "Y": -2.712289333343506,
          "label": "2"
         },
         {
          "X": 25.165767669677734,
          "Y": -2.7122609615325928,
          "label": "2"
         },
         {
          "X": 25.16576385498047,
          "Y": -2.7122585773468018,
          "label": "2"
         },
         {
          "X": 23.91676139831543,
          "Y": -2.0517561435699463,
          "label": "2"
         },
         {
          "X": 25.165752410888672,
          "Y": -2.7122604846954346,
          "label": "2"
         },
         {
          "X": 25.16577911376953,
          "Y": -2.7122530937194824,
          "label": "2"
         },
         {
          "X": 24.9060001373291,
          "Y": -3.416149616241455,
          "label": "2"
         },
         {
          "X": 25.165775299072266,
          "Y": -2.7122604846954346,
          "label": "2"
         },
         {
          "X": 25.165761947631836,
          "Y": -2.712259292602539,
          "label": "2"
         },
         {
          "X": 25.165760040283203,
          "Y": -2.712259531021118,
          "label": "2"
         },
         {
          "X": 25.165775299072266,
          "Y": -2.7122604846954346,
          "label": "2"
         },
         {
          "X": 25.165752410888672,
          "Y": -2.7122604846954346,
          "label": "2"
         },
         {
          "X": 25.165775299072266,
          "Y": -2.7122604846954346,
          "label": "2"
         },
         {
          "X": 25.165773391723633,
          "Y": -2.7122604846954346,
          "label": "2"
         },
         {
          "X": 24.137569427490234,
          "Y": -2.615847110748291,
          "label": "2"
         },
         {
          "X": 25.165760040283203,
          "Y": -2.712259531021118,
          "label": "2"
         },
         {
          "X": 25.165773391723633,
          "Y": -2.7122604846954346,
          "label": "2"
         },
         {
          "X": 25.165752410888672,
          "Y": -2.71225905418396,
          "label": "3"
         },
         {
          "X": 25.165771484375,
          "Y": -2.7122597694396973,
          "label": "3"
         },
         {
          "X": 25.165773391723633,
          "Y": -2.712259531021118,
          "label": "3"
         },
         {
          "X": 24.962343215942383,
          "Y": -3.5065014362335205,
          "label": "3"
         },
         {
          "X": 24.24415397644043,
          "Y": -3.725526809692383,
          "label": "3"
         },
         {
          "X": 25.165687561035156,
          "Y": -2.712317943572998,
          "label": "3"
         },
         {
          "X": 23.99495506286621,
          "Y": -1.9070587158203125,
          "label": "3"
         },
         {
          "X": 24.563892364501953,
          "Y": -2.6173553466796875,
          "label": "3"
         },
         {
          "X": 24.438072204589844,
          "Y": -1.4707679748535156,
          "label": "3"
         },
         {
          "X": 25.165603637695312,
          "Y": -2.7123072147369385,
          "label": "3"
         },
         {
          "X": 25.165607452392578,
          "Y": -2.7123093605041504,
          "label": "3"
         },
         {
          "X": 25.165605545043945,
          "Y": -2.7123067378997803,
          "label": "3"
         },
         {
          "X": 25.165605545043945,
          "Y": -2.712306261062622,
          "label": "3"
         },
         {
          "X": 25.165605545043945,
          "Y": -2.712306261062622,
          "label": "3"
         },
         {
          "X": 25.170289993286133,
          "Y": -2.7318403720855713,
          "label": "3"
         },
         {
          "X": 25.18873405456543,
          "Y": -2.877157211303711,
          "label": "3"
         },
         {
          "X": 26.09961700439453,
          "Y": -2.229008197784424,
          "label": "4"
         },
         {
          "X": 25.122854232788086,
          "Y": -3.0496418476104736,
          "label": "4"
         },
         {
          "X": 25.165590286254883,
          "Y": -2.7123100757598877,
          "label": "4"
         },
         {
          "X": 24.41596221923828,
          "Y": -1.46502685546875,
          "label": "4"
         },
         {
          "X": 24.828357696533203,
          "Y": -1.534428358078003,
          "label": "4"
         },
         {
          "X": 25.165639877319336,
          "Y": -2.7123024463653564,
          "label": "4"
         },
         {
          "X": 24.520038604736328,
          "Y": -2.9945874214172363,
          "label": "4"
         },
         {
          "X": 24.53876304626465,
          "Y": -2.9830167293548584,
          "label": "4"
         },
         {
          "X": 25.06169319152832,
          "Y": -1.6008591651916504,
          "label": "4"
         },
         {
          "X": 25.165607452392578,
          "Y": -2.7123067378997803,
          "label": "4"
         },
         {
          "X": 25.165607452392578,
          "Y": -2.7123093605041504,
          "label": "4"
         },
         {
          "X": 23.995275497436523,
          "Y": -3.3474905490875244,
          "label": "4"
         },
         {
          "X": 24.069974899291992,
          "Y": -2.7227869033813477,
          "label": "4"
         },
         {
          "X": 25.165605545043945,
          "Y": -2.7123067378997803,
          "label": "4"
         },
         {
          "X": 25.165605545043945,
          "Y": -2.712306261062622,
          "label": "4"
         },
         {
          "X": 25.165607452392578,
          "Y": -2.7123067378997803,
          "label": "4"
         },
         {
          "X": 25.165607452392578,
          "Y": -2.7123067378997803,
          "label": "4"
         },
         {
          "X": 23.859424591064453,
          "Y": -2.181630849838257,
          "label": "4"
         },
         {
          "X": 23.88204574584961,
          "Y": -2.1888575553894043,
          "label": "4"
         },
         {
          "X": 24.474172592163086,
          "Y": -2.6259641647338867,
          "label": "4"
         }
        ]
       },
       "encoding": {
        "color": {
         "field": "label",
         "type": "nominal"
        },
        "x": {
         "field": "X",
         "type": "quantitative"
        },
        "y": {
         "field": "Y",
         "type": "quantitative"
        }
       },
       "mark": {
        "size": 60,
        "type": "circle"
       },
       "selection": {
        "selector023": {
         "bind": "scales",
         "encodings": [
          "x",
          "y"
         ],
         "mark": {
          "fill": "#333",
          "fillOpacity": 0.125,
          "stroke": "white"
         },
         "on": "[mousedown, window:mouseup] > window:mousemove!",
         "resolve": "global",
         "translate": "[mousedown, window:mouseup] > window:mousemove!",
         "type": "interval",
         "zoom": "wheel!"
        }
       }
      },
      "image/png": "[encoded data removed]",
      "text/plain": [
       "<VegaLite 2 object>\n",
       "\n",
       "If you see this message, it means the renderer has not been properly enabled\n",
       "for the frontend that you are using. For more information, see\n",
       "https://altair-viz.github.io/user_guide/troubleshooting.html\n"
      ]
     },
     "metadata": {},
     "output_type": "display_data"
    }
   ],
   "source": [
    "perplexity = [5, 15, 30, 35, 40, 45, 50]\n",
    "\n",
    "for p in perplexity:\n",
    "    print(\"Perplexity {}\".format(p))\n",
    "    r = reduce_dim(p)\n",
    "    create_plot(r, label)"
   ]
  },
  {
   "cell_type": "code",
   "execution_count": 5,
   "metadata": {},
   "outputs": [
    {
     "data": {
      "application/vnd.vegalite.v2+json": {
       "$schema": "https://vega.github.io/schema/vega-lite/v2.6.0.json",
       "config": {
        "view": {
         "height": 300,
         "width": 400
        }
       },
       "data": {
        "name": "data-599324ea1f6dbcbcf748ccbd7db43a13"
       },
       "datasets": {
        "data-599324ea1f6dbcbcf748ccbd7db43a13": [
         {
          "X": 0.3825382888317108,
          "Y": 0.02663634717464447,
          "count": 55,
          "label": "1"
         },
         {
          "X": 0.382377564907074,
          "Y": 0.02660462073981762,
          "count": 55,
          "label": "1"
         },
         {
          "X": 0.38253846764564514,
          "Y": 0.026636363938450813,
          "count": 55,
          "label": "1"
         },
         {
          "X": 0.38253846764564514,
          "Y": 0.026636358350515366,
          "count": 55,
          "label": "1"
         },
         {
          "X": 0.382538378238678,
          "Y": 0.02663639560341835,
          "count": 55,
          "label": "1"
         },
         {
          "X": 0.38237738609313965,
          "Y": 0.026604613289237022,
          "count": 55,
          "label": "1"
         },
         {
          "X": 0.38253846764564514,
          "Y": 0.026636363938450813,
          "count": 55,
          "label": "1"
         },
         {
          "X": 0.38237738609313965,
          "Y": 0.026604605838656425,
          "count": 55,
          "label": "1"
         },
         {
          "X": 0.3823775351047516,
          "Y": 0.026604538783431053,
          "count": 55,
          "label": "1"
         },
         {
          "X": 0.3823774456977844,
          "Y": 0.026604579761624336,
          "count": 55,
          "label": "1"
         },
         {
          "X": 0.38237741589546204,
          "Y": 0.026604605838656425,
          "count": 55,
          "label": "1"
         },
         {
          "X": 0.38237738609313965,
          "Y": 0.02660457231104374,
          "count": 55,
          "label": "1"
         },
         {
          "X": 0.38237741589546204,
          "Y": 0.026604609563946724,
          "count": 55,
          "label": "1"
         },
         {
          "X": 0.38253846764564514,
          "Y": 0.026636363938450813,
          "count": 55,
          "label": "1"
         },
         {
          "X": 0.3823776841163635,
          "Y": 0.02660461701452732,
          "count": 55,
          "label": "1"
         },
         {
          "X": 0.382377564907074,
          "Y": 0.026604613289237022,
          "count": 55,
          "label": "1"
         },
         {
          "X": 0.3823775053024292,
          "Y": 0.02660461701452732,
          "count": 55,
          "label": "1"
         },
         {
          "X": 0.38237762451171875,
          "Y": 0.026604585349559784,
          "count": 55,
          "label": "1"
         },
         {
          "X": 0.38237741589546204,
          "Y": 0.02660459093749523,
          "count": 55,
          "label": "1"
         },
         {
          "X": 0.3823775053024292,
          "Y": 0.026604600250720978,
          "count": 55,
          "label": "1"
         },
         {
          "X": 0.382377564907074,
          "Y": 0.02660459466278553,
          "count": 55,
          "label": "1"
         },
         {
          "X": 0.3823775053024292,
          "Y": 0.026604648679494858,
          "count": 55,
          "label": "1"
         },
         {
          "X": 0.382538378238678,
          "Y": 0.026636334136128426,
          "count": 55,
          "label": "1"
         },
         {
          "X": 0.38237741589546204,
          "Y": 0.026604609563946724,
          "count": 55,
          "label": "1"
         },
         {
          "X": 0.38237762451171875,
          "Y": 0.026604605838656425,
          "count": 55,
          "label": "1"
         },
         {
          "X": 0.382538378238678,
          "Y": 0.02663630247116089,
          "count": 55,
          "label": "1"
         },
         {
          "X": 0.3823775053024292,
          "Y": 0.026604648679494858,
          "count": 55,
          "label": "1"
         },
         {
          "X": 0.3823774755001068,
          "Y": 0.02660461701452732,
          "count": 55,
          "label": "1"
         },
         {
          "X": 0.382377564907074,
          "Y": 0.02660462073981762,
          "count": 55,
          "label": "1"
         },
         {
          "X": 0.38237738609313965,
          "Y": 0.026604602113366127,
          "count": 55,
          "label": "1"
         },
         {
          "X": 0.382377564907074,
          "Y": 0.02660459466278553,
          "count": 55,
          "label": "1"
         },
         {
          "X": 0.38253846764564514,
          "Y": 0.026636380702257156,
          "count": 55,
          "label": "1"
         },
         {
          "X": 0.3823773264884949,
          "Y": 0.02660461701452732,
          "count": 55,
          "label": "1"
         },
         {
          "X": 0.3823774755001068,
          "Y": 0.026604661718010902,
          "count": 55,
          "label": "1"
         },
         {
          "X": 0.38237759470939636,
          "Y": 0.026604637503623962,
          "count": 55,
          "label": "1"
         },
         {
          "X": 0.38237741589546204,
          "Y": 0.026604609563946724,
          "count": 55,
          "label": "1"
         },
         {
          "X": 0.3825382590293884,
          "Y": 0.026636401191353798,
          "count": 55,
          "label": "1"
         },
         {
          "X": 0.38237738609313965,
          "Y": 0.02660457231104374,
          "count": 55,
          "label": "1"
         },
         {
          "X": 0.38237738609313965,
          "Y": 0.026604603976011276,
          "count": 55,
          "label": "1"
         },
         {
          "X": 0.38237762451171875,
          "Y": 0.026604587212204933,
          "count": 55,
          "label": "1"
         },
         {
          "X": 0.3823775351047516,
          "Y": 0.026604538783431053,
          "count": 55,
          "label": "1"
         },
         {
          "X": 0.38237762451171875,
          "Y": 0.02660459838807583,
          "count": 55,
          "label": "1"
         },
         {
          "X": 0.382377564907074,
          "Y": 0.02660462073981762,
          "count": 55,
          "label": "1"
         },
         {
          "X": 0.38237762451171875,
          "Y": 0.026604562997817993,
          "count": 55,
          "label": "1"
         },
         {
          "X": 0.3823774755001068,
          "Y": 0.026604607701301575,
          "count": 55,
          "label": "1"
         },
         {
          "X": 0.38237759470939636,
          "Y": 0.026604607701301575,
          "count": 55,
          "label": "1"
         },
         {
          "X": 0.38253846764564514,
          "Y": 0.026636358350515366,
          "count": 55,
          "label": "1"
         },
         {
          "X": 0.3823774755001068,
          "Y": 0.026604635640978813,
          "count": 55,
          "label": "1"
         },
         {
          "X": 0.3825383484363556,
          "Y": 0.026636401191353798,
          "count": 55,
          "label": "1"
         },
         {
          "X": 0.38253840804100037,
          "Y": 0.02663635089993477,
          "count": 55,
          "label": "1"
         },
         {
          "X": 0.382377564907074,
          "Y": 0.02660461515188217,
          "count": 55,
          "label": "1"
         },
         {
          "X": 0.38253846764564514,
          "Y": 0.026636363938450813,
          "count": 55,
          "label": "1"
         },
         {
          "X": 0.3825382590293884,
          "Y": 0.026636401191353798,
          "count": 55,
          "label": "1"
         },
         {
          "X": 0.3823775053024292,
          "Y": 0.02660461701452732,
          "count": 55,
          "label": "1"
         },
         {
          "X": 0.38253840804100037,
          "Y": 0.026636403053998947,
          "count": 55,
          "label": "1"
         },
         {
          "X": 0.054940976202487946,
          "Y": 1.9244228601455688,
          "count": 124,
          "label": "AUSSI"
         },
         {
          "X": -1.3968206644058228,
          "Y": -0.7054904103279114,
          "count": 124,
          "label": "AUSSI"
         },
         {
          "X": 0.030435696244239807,
          "Y": 1.9478543996810913,
          "count": 124,
          "label": "AUSSI"
         },
         {
          "X": -0.010860791429877281,
          "Y": 0.7860143780708313,
          "count": 124,
          "label": "AUSSI"
         },
         {
          "X": -0.7744936347007751,
          "Y": 0.43829581141471863,
          "count": 124,
          "label": "AUSSI"
         },
         {
          "X": 0.12445073574781418,
          "Y": 0.05000607669353485,
          "count": 124,
          "label": "AUSSI"
         },
         {
          "X": -0.5263254046440125,
          "Y": -0.5030304193496704,
          "count": 124,
          "label": "AUSSI"
         },
         {
          "X": 0.38237738609313965,
          "Y": 0.026604602113366127,
          "count": 124,
          "label": "AUSSI"
         },
         {
          "X": -0.2342323362827301,
          "Y": -2.38041090965271,
          "count": 124,
          "label": "AUSSI"
         },
         {
          "X": 0.7569299340248108,
          "Y": -1.7701759338378906,
          "count": 124,
          "label": "AUSSI"
         },
         {
          "X": 0.7769594192504883,
          "Y": -0.937835156917572,
          "count": 124,
          "label": "AUSSI"
         },
         {
          "X": -1.433718204498291,
          "Y": -1.7712657451629639,
          "count": 124,
          "label": "AUSSI"
         },
         {
          "X": 0.12445073574781418,
          "Y": 0.05000607669353485,
          "count": 124,
          "label": "AUSSI"
         },
         {
          "X": 0.5215978622436523,
          "Y": -1.8576406240463257,
          "count": 124,
          "label": "AUSSI"
         },
         {
          "X": 0.8493266105651855,
          "Y": 0.3709956705570221,
          "count": 124,
          "label": "AUSSI"
         },
         {
          "X": 2.843754768371582,
          "Y": 0.3875747323036194,
          "count": 124,
          "label": "AUSSI"
         },
         {
          "X": 2.5976979732513428,
          "Y": 1.3837021589279175,
          "count": 124,
          "label": "AUSSI"
         },
         {
          "X": 0.7569299340248108,
          "Y": -1.7701759338378906,
          "count": 124,
          "label": "AUSSI"
         },
         {
          "X": 0.08518155664205551,
          "Y": -0.5668357610702515,
          "count": 124,
          "label": "AUSSI"
         },
         {
          "X": 0.12445073574781418,
          "Y": 0.05000607669353485,
          "count": 124,
          "label": "AUSSI"
         },
         {
          "X": 0.9383410811424255,
          "Y": -0.30791112780570984,
          "count": 124,
          "label": "AUSSI"
         },
         {
          "X": -2.2484381198883057,
          "Y": -0.08005529642105103,
          "count": 124,
          "label": "AUSSI"
         },
         {
          "X": 2.5976979732513428,
          "Y": 1.3837021589279175,
          "count": 124,
          "label": "AUSSI"
         },
         {
          "X": 0.12445073574781418,
          "Y": 0.05000607669353485,
          "count": 124,
          "label": "AUSSI"
         },
         {
          "X": 0.4047434628009796,
          "Y": 2.6628003120422363,
          "count": 124,
          "label": "AUSSI"
         },
         {
          "X": 0.7769594192504883,
          "Y": -0.937835156917572,
          "count": 124,
          "label": "AUSSI"
         },
         {
          "X": 1.5444684028625488,
          "Y": -2.3124451637268066,
          "count": 124,
          "label": "AUSSI"
         },
         {
          "X": 0.9383410811424255,
          "Y": -0.30791112780570984,
          "count": 124,
          "label": "AUSSI"
         },
         {
          "X": -1.433718204498291,
          "Y": -1.7712657451629639,
          "count": 124,
          "label": "AUSSI"
         },
         {
          "X": -1.669831395149231,
          "Y": 0.19383834302425385,
          "count": 124,
          "label": "AUSSI"
         },
         {
          "X": -0.5734463334083557,
          "Y": 1.4404056072235107,
          "count": 124,
          "label": "AUSSI"
         },
         {
          "X": 0.08518155664205551,
          "Y": -0.5668357610702515,
          "count": 124,
          "label": "AUSSI"
         },
         {
          "X": 0.12445073574781418,
          "Y": 0.05000607669353485,
          "count": 124,
          "label": "AUSSI"
         },
         {
          "X": 2.316990375518799,
          "Y": 1.6865448951721191,
          "count": 124,
          "label": "AUSSI"
         },
         {
          "X": 1.3840988874435425,
          "Y": -0.24738861620426178,
          "count": 124,
          "label": "AUSSI"
         },
         {
          "X": -0.010860791429877281,
          "Y": 0.7860143780708313,
          "count": 124,
          "label": "AUSSI"
         },
         {
          "X": 0.7769594192504883,
          "Y": -0.937835156917572,
          "count": 124,
          "label": "AUSSI"
         },
         {
          "X": 0.8493266105651855,
          "Y": 0.3709956705570221,
          "count": 124,
          "label": "AUSSI"
         },
         {
          "X": -0.010860791429877281,
          "Y": 0.7860143780708313,
          "count": 124,
          "label": "AUSSI"
         },
         {
          "X": 0.7133759260177612,
          "Y": 1.2155088186264038,
          "count": 124,
          "label": "AUSSI"
         },
         {
          "X": 1.9337143898010254,
          "Y": 0.7559248805046082,
          "count": 124,
          "label": "AUSSI"
         },
         {
          "X": -0.20227792859077454,
          "Y": 2.6058075428009033,
          "count": 124,
          "label": "AUSSI"
         },
         {
          "X": 0.8493266105651855,
          "Y": 0.3709956705570221,
          "count": 124,
          "label": "AUSSI"
         },
         {
          "X": 0.7133759260177612,
          "Y": 1.2155088186264038,
          "count": 124,
          "label": "AUSSI"
         },
         {
          "X": -1.669831395149231,
          "Y": 0.19383834302425385,
          "count": 124,
          "label": "AUSSI"
         },
         {
          "X": -0.010860791429877281,
          "Y": 0.7860143780708313,
          "count": 124,
          "label": "AUSSI"
         },
         {
          "X": 1.5576236248016357,
          "Y": 0.37839797139167786,
          "count": 124,
          "label": "AUSSI"
         },
         {
          "X": 1.0381417274475098,
          "Y": 2.305878162384033,
          "count": 124,
          "label": "AUSSI"
         },
         {
          "X": 2.189912796020508,
          "Y": -0.3414364457130432,
          "count": 124,
          "label": "AUSSI"
         },
         {
          "X": -2.094820976257324,
          "Y": 0.9459067583084106,
          "count": 124,
          "label": "AUSSI"
         },
         {
          "X": -1.664787769317627,
          "Y": 1.7272974252700806,
          "count": 124,
          "label": "AUSSI"
         },
         {
          "X": 0.5059654712677002,
          "Y": -0.36345821619033813,
          "count": 124,
          "label": "AUSSI"
         },
         {
          "X": 0.7769594192504883,
          "Y": -0.937835156917572,
          "count": 124,
          "label": "AUSSI"
         },
         {
          "X": 0.8493266105651855,
          "Y": 0.3709956705570221,
          "count": 124,
          "label": "AUSSI"
         },
         {
          "X": -1.1061962842941284,
          "Y": 2.2150063514709473,
          "count": 124,
          "label": "AUSSI"
         },
         {
          "X": -1.4802589416503906,
          "Y": -0.13927695155143738,
          "count": 124,
          "label": "AUSSI"
         },
         {
          "X": -0.5734463334083557,
          "Y": 1.4404056072235107,
          "count": 124,
          "label": "AUSSI"
         },
         {
          "X": -0.038906216621398926,
          "Y": -1.3321967124938965,
          "count": 124,
          "label": "AUSSI"
         },
         {
          "X": -0.038906216621398926,
          "Y": -1.3321967124938965,
          "count": 124,
          "label": "AUSSI"
         },
         {
          "X": -0.2342323362827301,
          "Y": -2.38041090965271,
          "count": 124,
          "label": "AUSSI"
         },
         {
          "X": -0.010860791429877281,
          "Y": 0.7860143780708313,
          "count": 124,
          "label": "AUSSI"
         },
         {
          "X": -0.5734463334083557,
          "Y": 1.4404056072235107,
          "count": 124,
          "label": "AUSSI"
         },
         {
          "X": -1.433718204498291,
          "Y": -1.7712657451629639,
          "count": 124,
          "label": "AUSSI"
         },
         {
          "X": -0.038906216621398926,
          "Y": -1.3321967124938965,
          "count": 124,
          "label": "AUSSI"
         },
         {
          "X": 0.12445073574781418,
          "Y": 0.05000607669353485,
          "count": 124,
          "label": "AUSSI"
         },
         {
          "X": 0.7133759260177612,
          "Y": 1.2155088186264038,
          "count": 124,
          "label": "AUSSI"
         },
         {
          "X": 2.189912796020508,
          "Y": -0.3414364457130432,
          "count": 124,
          "label": "AUSSI"
         },
         {
          "X": 0.7133759260177612,
          "Y": 1.2155088186264038,
          "count": 124,
          "label": "AUSSI"
         },
         {
          "X": 0.006693319883197546,
          "Y": -0.5674325227737427,
          "count": 124,
          "label": "AUSSI"
         },
         {
          "X": 1.9539906978607178,
          "Y": 2.177903652191162,
          "count": 124,
          "label": "AUSSI"
         },
         {
          "X": -0.7744936347007751,
          "Y": 0.43829581141471863,
          "count": 124,
          "label": "AUSSI"
         },
         {
          "X": 0.12445073574781418,
          "Y": 0.05000607669353485,
          "count": 124,
          "label": "AUSSI"
         },
         {
          "X": 0.08518155664205551,
          "Y": -0.5668357610702515,
          "count": 124,
          "label": "AUSSI"
         },
         {
          "X": -2.094820976257324,
          "Y": 0.9459067583084106,
          "count": 124,
          "label": "AUSSI"
         },
         {
          "X": 0.8493266105651855,
          "Y": 0.3709956705570221,
          "count": 124,
          "label": "AUSSI"
         },
         {
          "X": 1.490423321723938,
          "Y": -0.8618544936180115,
          "count": 124,
          "label": "AUSSI"
         },
         {
          "X": 1.4603018760681152,
          "Y": 1.5007543563842773,
          "count": 124,
          "label": "AUSSI"
         },
         {
          "X": 0.9383410811424255,
          "Y": -0.30791112780570984,
          "count": 124,
          "label": "AUSSI"
         },
         {
          "X": 0.054940976202487946,
          "Y": 1.9244228601455688,
          "count": 124,
          "label": "AUSSI"
         },
         {
          "X": -0.010860791429877281,
          "Y": 0.7860143780708313,
          "count": 124,
          "label": "AUSSI"
         },
         {
          "X": -0.010860791429877281,
          "Y": 0.7860143780708313,
          "count": 124,
          "label": "AUSSI"
         },
         {
          "X": 1.5617005825042725,
          "Y": 0.3695625364780426,
          "count": 124,
          "label": "AUSSI"
         },
         {
          "X": -1.669831395149231,
          "Y": 0.19383834302425385,
          "count": 124,
          "label": "AUSSI"
         },
         {
          "X": -0.5263254046440125,
          "Y": -0.5030304193496704,
          "count": 124,
          "label": "AUSSI"
         },
         {
          "X": 0.4047434628009796,
          "Y": 2.6628003120422363,
          "count": 124,
          "label": "AUSSI"
         },
         {
          "X": -0.038906216621398926,
          "Y": -1.3321967124938965,
          "count": 124,
          "label": "AUSSI"
         },
         {
          "X": 1.9337143898010254,
          "Y": 0.7559248805046082,
          "count": 124,
          "label": "AUSSI"
         },
         {
          "X": 0.7769594192504883,
          "Y": -0.937835156917572,
          "count": 124,
          "label": "AUSSI"
         },
         {
          "X": -0.20227792859077454,
          "Y": 2.6058075428009033,
          "count": 124,
          "label": "AUSSI"
         },
         {
          "X": -1.986215591430664,
          "Y": -1.3099150657653809,
          "count": 124,
          "label": "AUSSI"
         },
         {
          "X": 2.299724578857422,
          "Y": -2.0451042652130127,
          "count": 124,
          "label": "AUSSI"
         },
         {
          "X": 0.8493266105651855,
          "Y": 0.3709956705570221,
          "count": 124,
          "label": "AUSSI"
         },
         {
          "X": 1.9539906978607178,
          "Y": 2.177903652191162,
          "count": 124,
          "label": "AUSSI"
         },
         {
          "X": -0.010860791429877281,
          "Y": 0.7860143780708313,
          "count": 124,
          "label": "AUSSI"
         },
         {
          "X": -0.038906216621398926,
          "Y": -1.3321967124938965,
          "count": 124,
          "label": "AUSSI"
         },
         {
          "X": 0.12445073574781418,
          "Y": 0.05000607669353485,
          "count": 124,
          "label": "AUSSI"
         },
         {
          "X": 0.8493266105651855,
          "Y": 0.3709956705570221,
          "count": 124,
          "label": "AUSSI"
         },
         {
          "X": 0.08518155664205551,
          "Y": -0.5668357610702515,
          "count": 124,
          "label": "AUSSI"
         },
         {
          "X": 1.9337143898010254,
          "Y": 0.7559248805046082,
          "count": 124,
          "label": "AUSSI"
         },
         {
          "X": -0.7520882487297058,
          "Y": -0.2695270776748657,
          "count": 124,
          "label": "AUSSI"
         },
         {
          "X": 1.4603018760681152,
          "Y": 1.5007543563842773,
          "count": 124,
          "label": "AUSSI"
         },
         {
          "X": 1.4603018760681152,
          "Y": 1.5007543563842773,
          "count": 124,
          "label": "AUSSI"
         },
         {
          "X": 0.7569299340248108,
          "Y": -1.7701759338378906,
          "count": 124,
          "label": "AUSSI"
         },
         {
          "X": 0.08518155664205551,
          "Y": -0.5668357610702515,
          "count": 124,
          "label": "AUSSI"
         },
         {
          "X": 1.7958910465240479,
          "Y": -1.4791693687438965,
          "count": 124,
          "label": "AUSSI"
         },
         {
          "X": 1.490423321723938,
          "Y": -0.8618544936180115,
          "count": 124,
          "label": "AUSSI"
         },
         {
          "X": 1.7958910465240479,
          "Y": -1.4791693687438965,
          "count": 124,
          "label": "AUSSI"
         },
         {
          "X": -2.094820976257324,
          "Y": 0.9459067583084106,
          "count": 124,
          "label": "AUSSI"
         },
         {
          "X": 2.299724578857422,
          "Y": -2.0451042652130127,
          "count": 124,
          "label": "AUSSI"
         },
         {
          "X": 2.189912796020508,
          "Y": -0.3414364457130432,
          "count": 124,
          "label": "AUSSI"
         },
         {
          "X": 0.311575323343277,
          "Y": -2.505739450454712,
          "count": 124,
          "label": "AUSSI"
         },
         {
          "X": -0.038906216621398926,
          "Y": -1.3321967124938965,
          "count": 124,
          "label": "AUSSI"
         },
         {
          "X": 0.7133759260177612,
          "Y": 1.2155088186264038,
          "count": 124,
          "label": "AUSSI"
         },
         {
          "X": 0.12445073574781418,
          "Y": 0.05000607669353485,
          "count": 124,
          "label": "AUSSI"
         },
         {
          "X": -2.2484381198883057,
          "Y": -0.08005529642105103,
          "count": 124,
          "label": "AUSSI"
         },
         {
          "X": -2.330791473388672,
          "Y": 0.45270487666130066,
          "count": 124,
          "label": "AUSSI"
         },
         {
          "X": -0.5734463334083557,
          "Y": 1.4404056072235107,
          "count": 124,
          "label": "AUSSI"
         },
         {
          "X": 0.8493266105651855,
          "Y": 0.3709956705570221,
          "count": 124,
          "label": "AUSSI"
         },
         {
          "X": 1.3840988874435425,
          "Y": -0.24738861620426178,
          "count": 124,
          "label": "AUSSI"
         },
         {
          "X": 0.7133759260177612,
          "Y": 1.2155088186264038,
          "count": 124,
          "label": "AUSSI"
         },
         {
          "X": 1.490423321723938,
          "Y": -0.8618544936180115,
          "count": 124,
          "label": "AUSSI"
         },
         {
          "X": 0.2876945436000824,
          "Y": 1.8856663703918457,
          "count": 124,
          "label": "AUSSI"
         },
         {
          "X": 1.3840988874435425,
          "Y": -0.24738861620426178,
          "count": 124,
          "label": "AUSSI"
         },
         {
          "X": 0.006693319883197546,
          "Y": -0.5674325227737427,
          "count": 124,
          "label": "AUSSI"
         },
         {
          "X": -2.2484381198883057,
          "Y": -0.08005529642105103,
          "count": 118,
          "label": "OUI"
         },
         {
          "X": 2.923506736755371,
          "Y": -0.958000123500824,
          "count": 118,
          "label": "OUI"
         },
         {
          "X": -0.7744936347007751,
          "Y": 0.43829581141471863,
          "count": 118,
          "label": "OUI"
         },
         {
          "X": 0.7133759260177612,
          "Y": 1.2155088186264038,
          "count": 118,
          "label": "OUI"
         },
         {
          "X": 0.2876945436000824,
          "Y": 1.8856663703918457,
          "count": 118,
          "label": "OUI"
         },
         {
          "X": 0.12445073574781418,
          "Y": 0.05000607669353485,
          "count": 118,
          "label": "OUI"
         },
         {
          "X": 1.490423321723938,
          "Y": -0.8618544936180115,
          "count": 118,
          "label": "OUI"
         },
         {
          "X": -2.094820976257324,
          "Y": 0.9459067583084106,
          "count": 118,
          "label": "OUI"
         },
         {
          "X": -0.5727768540382385,
          "Y": 0.19141483306884766,
          "count": 118,
          "label": "OUI"
         },
         {
          "X": -1.986215591430664,
          "Y": -1.3099150657653809,
          "count": 118,
          "label": "OUI"
         },
         {
          "X": 0.5004889369010925,
          "Y": -0.3752165734767914,
          "count": 118,
          "label": "OUI"
         },
         {
          "X": -1.0455948114395142,
          "Y": 0.62473464012146,
          "count": 118,
          "label": "OUI"
         },
         {
          "X": -0.7458605766296387,
          "Y": 2.3939642906188965,
          "count": 118,
          "label": "OUI"
         },
         {
          "X": 1.9539906978607178,
          "Y": 2.177903652191162,
          "count": 118,
          "label": "OUI"
         },
         {
          "X": -2.094820976257324,
          "Y": 0.9459067583084106,
          "count": 118,
          "label": "OUI"
         },
         {
          "X": 1.4603018760681152,
          "Y": 1.5007543563842773,
          "count": 118,
          "label": "OUI"
         },
         {
          "X": -1.0455948114395142,
          "Y": 0.62473464012146,
          "count": 118,
          "label": "OUI"
         },
         {
          "X": 0.8493266105651855,
          "Y": 0.3709956705570221,
          "count": 118,
          "label": "OUI"
         },
         {
          "X": 1.7958910465240479,
          "Y": -1.4791693687438965,
          "count": 118,
          "label": "OUI"
         },
         {
          "X": -2.2484381198883057,
          "Y": -0.08005529642105103,
          "count": 118,
          "label": "OUI"
         },
         {
          "X": -0.010860791429877281,
          "Y": 0.7860143780708313,
          "count": 118,
          "label": "OUI"
         },
         {
          "X": 1.4874746799468994,
          "Y": -1.1944838762283325,
          "count": 118,
          "label": "OUI"
         },
         {
          "X": 0.054940976202487946,
          "Y": 1.9244228601455688,
          "count": 118,
          "label": "OUI"
         },
         {
          "X": 1.490423321723938,
          "Y": -0.8618544936180115,
          "count": 118,
          "label": "OUI"
         },
         {
          "X": 0.030435696244239807,
          "Y": 1.9478543996810913,
          "count": 118,
          "label": "OUI"
         },
         {
          "X": 2.189912796020508,
          "Y": -0.3414364457130432,
          "count": 118,
          "label": "OUI"
         },
         {
          "X": 1.4603018760681152,
          "Y": 1.5007543563842773,
          "count": 118,
          "label": "OUI"
         },
         {
          "X": -0.5734463334083557,
          "Y": 1.4404056072235107,
          "count": 118,
          "label": "OUI"
         },
         {
          "X": -1.3457872867584229,
          "Y": 0.9522409439086914,
          "count": 118,
          "label": "OUI"
         },
         {
          "X": 0.8493266105651855,
          "Y": 0.3709956705570221,
          "count": 118,
          "label": "OUI"
         },
         {
          "X": -1.4802589416503906,
          "Y": -0.13927695155143738,
          "count": 118,
          "label": "OUI"
         },
         {
          "X": 0.9383410811424255,
          "Y": -0.30791112780570984,
          "count": 118,
          "label": "OUI"
         },
         {
          "X": 0.7133759260177612,
          "Y": 1.2155088186264038,
          "count": 118,
          "label": "OUI"
         },
         {
          "X": 2.333472967147827,
          "Y": 1.6907259225845337,
          "count": 118,
          "label": "OUI"
         },
         {
          "X": -2.2484381198883057,
          "Y": -0.08005529642105103,
          "count": 118,
          "label": "OUI"
         },
         {
          "X": 2.5976979732513428,
          "Y": 1.3837021589279175,
          "count": 118,
          "label": "OUI"
         },
         {
          "X": 0.8493266105651855,
          "Y": 0.3709956705570221,
          "count": 118,
          "label": "OUI"
         },
         {
          "X": -0.038906216621398926,
          "Y": -1.3321967124938965,
          "count": 118,
          "label": "OUI"
         },
         {
          "X": 0.12445073574781418,
          "Y": 0.05000607669353485,
          "count": 118,
          "label": "OUI"
         },
         {
          "X": 0.12445073574781418,
          "Y": 0.05000607669353485,
          "count": 118,
          "label": "OUI"
         },
         {
          "X": 1.3840988874435425,
          "Y": -0.24738861620426178,
          "count": 118,
          "label": "OUI"
         },
         {
          "X": 0.12445073574781418,
          "Y": 0.05000607669353485,
          "count": 118,
          "label": "OUI"
         },
         {
          "X": -0.038906216621398926,
          "Y": -1.3321967124938965,
          "count": 118,
          "label": "OUI"
         },
         {
          "X": -0.010860791429877281,
          "Y": 0.7860143780708313,
          "count": 118,
          "label": "OUI"
         },
         {
          "X": -0.2342323362827301,
          "Y": -2.38041090965271,
          "count": 118,
          "label": "OUI"
         },
         {
          "X": 0.12445073574781418,
          "Y": 0.05000607669353485,
          "count": 118,
          "label": "OUI"
         },
         {
          "X": 0.4047434628009796,
          "Y": 2.6628003120422363,
          "count": 118,
          "label": "OUI"
         },
         {
          "X": 2.5976979732513428,
          "Y": 1.3837021589279175,
          "count": 118,
          "label": "OUI"
         },
         {
          "X": -0.8977599740028381,
          "Y": -2.1725804805755615,
          "count": 118,
          "label": "OUI"
         },
         {
          "X": 0.7769594192504883,
          "Y": -0.937835156917572,
          "count": 118,
          "label": "OUI"
         },
         {
          "X": -0.2342323362827301,
          "Y": -2.38041090965271,
          "count": 118,
          "label": "OUI"
         },
         {
          "X": -0.7744936347007751,
          "Y": 0.43829581141471863,
          "count": 118,
          "label": "OUI"
         },
         {
          "X": 0.7133759260177612,
          "Y": 1.2155088186264038,
          "count": 118,
          "label": "OUI"
         },
         {
          "X": 2.8399338722229004,
          "Y": 0.9212411046028137,
          "count": 118,
          "label": "OUI"
         },
         {
          "X": -0.7744936347007751,
          "Y": 0.43829581141471863,
          "count": 118,
          "label": "OUI"
         },
         {
          "X": -0.20227792859077454,
          "Y": 2.6058075428009033,
          "count": 118,
          "label": "OUI"
         },
         {
          "X": 0.3275226056575775,
          "Y": 1.327501893043518,
          "count": 118,
          "label": "OUI"
         },
         {
          "X": 2.8399338722229004,
          "Y": 0.9212411046028137,
          "count": 118,
          "label": "OUI"
         },
         {
          "X": 0.7133759260177612,
          "Y": 1.2155088186264038,
          "count": 118,
          "label": "OUI"
         },
         {
          "X": -0.010860791429877281,
          "Y": 0.7860143780708313,
          "count": 118,
          "label": "OUI"
         },
         {
          "X": -0.7890880703926086,
          "Y": -1.0077091455459595,
          "count": 118,
          "label": "OUI"
         },
         {
          "X": -0.010860791429877281,
          "Y": 0.7860143780708313,
          "count": 118,
          "label": "OUI"
         },
         {
          "X": -1.664787769317627,
          "Y": 1.7272974252700806,
          "count": 118,
          "label": "OUI"
         },
         {
          "X": 0.9383410811424255,
          "Y": -0.30791112780570984,
          "count": 118,
          "label": "OUI"
         },
         {
          "X": 0.7769594192504883,
          "Y": -0.937835156917572,
          "count": 118,
          "label": "OUI"
         },
         {
          "X": 1.227840542793274,
          "Y": 1.0427117347717285,
          "count": 118,
          "label": "OUI"
         },
         {
          "X": 0.12445073574781418,
          "Y": 0.05000607669353485,
          "count": 118,
          "label": "OUI"
         },
         {
          "X": -1.0455948114395142,
          "Y": 0.62473464012146,
          "count": 118,
          "label": "OUI"
         },
         {
          "X": 1.7958910465240479,
          "Y": -1.4791693687438965,
          "count": 118,
          "label": "OUI"
         },
         {
          "X": 0.8493266105651855,
          "Y": 0.3709956705570221,
          "count": 118,
          "label": "OUI"
         },
         {
          "X": 0.12445073574781418,
          "Y": 0.05000607669353485,
          "count": 118,
          "label": "OUI"
         },
         {
          "X": 0.12445073574781418,
          "Y": 0.05000607669353485,
          "count": 118,
          "label": "OUI"
         },
         {
          "X": 1.9337143898010254,
          "Y": 0.7559248805046082,
          "count": 118,
          "label": "OUI"
         },
         {
          "X": 0.7133759260177612,
          "Y": 1.2155088186264038,
          "count": 118,
          "label": "OUI"
         },
         {
          "X": 0.9383410811424255,
          "Y": -0.30791112780570984,
          "count": 118,
          "label": "OUI"
         },
         {
          "X": 0.12445073574781418,
          "Y": 0.05000607669353485,
          "count": 118,
          "label": "OUI"
         },
         {
          "X": 1.4603018760681152,
          "Y": 1.5007543563842773,
          "count": 118,
          "label": "OUI"
         },
         {
          "X": 1.5576236248016357,
          "Y": 0.37839797139167786,
          "count": 118,
          "label": "OUI"
         },
         {
          "X": 0.8493266105651855,
          "Y": 0.3709956705570221,
          "count": 118,
          "label": "OUI"
         },
         {
          "X": -0.010860791429877281,
          "Y": 0.7860143780708313,
          "count": 118,
          "label": "OUI"
         },
         {
          "X": -0.038906216621398926,
          "Y": -1.3321967124938965,
          "count": 118,
          "label": "OUI"
         },
         {
          "X": 1.565230369567871,
          "Y": 0.3735778033733368,
          "count": 118,
          "label": "OUI"
         },
         {
          "X": 1.9539906978607178,
          "Y": 2.177903652191162,
          "count": 118,
          "label": "OUI"
         },
         {
          "X": 2.356484889984131,
          "Y": 1.6304043531417847,
          "count": 118,
          "label": "OUI"
         },
         {
          "X": -0.038906216621398926,
          "Y": -1.3321967124938965,
          "count": 118,
          "label": "OUI"
         },
         {
          "X": 0.12445073574781418,
          "Y": 0.05000607669353485,
          "count": 118,
          "label": "OUI"
         },
         {
          "X": 2.2986629009246826,
          "Y": -2.04585337638855,
          "count": 118,
          "label": "OUI"
         },
         {
          "X": 0.12445073574781418,
          "Y": 0.05000607669353485,
          "count": 118,
          "label": "OUI"
         },
         {
          "X": -0.6066305637359619,
          "Y": 0.047458481043577194,
          "count": 118,
          "label": "OUI"
         },
         {
          "X": -0.038906216621398926,
          "Y": -1.3321967124938965,
          "count": 118,
          "label": "OUI"
         },
         {
          "X": 0.08518155664205551,
          "Y": -0.5668357610702515,
          "count": 118,
          "label": "OUI"
         },
         {
          "X": 1.7958910465240479,
          "Y": -1.4791693687438965,
          "count": 118,
          "label": "OUI"
         },
         {
          "X": 0.8493266105651855,
          "Y": 0.3709956705570221,
          "count": 118,
          "label": "OUI"
         },
         {
          "X": -0.010860791429877281,
          "Y": 0.7860143780708313,
          "count": 118,
          "label": "OUI"
         },
         {
          "X": -0.2342323362827301,
          "Y": -2.38041090965271,
          "count": 118,
          "label": "OUI"
         },
         {
          "X": 1.9337143898010254,
          "Y": 0.7559248805046082,
          "count": 118,
          "label": "OUI"
         },
         {
          "X": -1.3968206644058228,
          "Y": -0.7054904103279114,
          "count": 118,
          "label": "OUI"
         },
         {
          "X": 1.9539906978607178,
          "Y": 2.177903652191162,
          "count": 118,
          "label": "OUI"
         },
         {
          "X": -2.2484381198883057,
          "Y": -0.08005529642105103,
          "count": 118,
          "label": "OUI"
         },
         {
          "X": -0.5734463334083557,
          "Y": 1.4404056072235107,
          "count": 118,
          "label": "OUI"
         },
         {
          "X": -0.5734463334083557,
          "Y": 1.4404056072235107,
          "count": 118,
          "label": "OUI"
         },
         {
          "X": -0.010860791429877281,
          "Y": 0.7860143780708313,
          "count": 118,
          "label": "OUI"
         },
         {
          "X": -0.010860791429877281,
          "Y": 0.7860143780708313,
          "count": 118,
          "label": "OUI"
         },
         {
          "X": 0.7133759260177612,
          "Y": 1.2155088186264038,
          "count": 118,
          "label": "OUI"
         },
         {
          "X": 0.7133759260177612,
          "Y": 1.2155088186264038,
          "count": 118,
          "label": "OUI"
         },
         {
          "X": 2.3268849849700928,
          "Y": 1.6612770557403564,
          "count": 118,
          "label": "OUI"
         },
         {
          "X": -0.535822331905365,
          "Y": -0.45780566334724426,
          "count": 118,
          "label": "OUI"
         },
         {
          "X": 2.189912796020508,
          "Y": -0.3414364457130432,
          "count": 118,
          "label": "OUI"
         },
         {
          "X": 0.006693319883197546,
          "Y": -0.5674325227737427,
          "count": 118,
          "label": "OUI"
         },
         {
          "X": -0.038906216621398926,
          "Y": -1.3321967124938965,
          "count": 118,
          "label": "OUI"
         },
         {
          "X": 1.5444684028625488,
          "Y": -2.3124451637268066,
          "count": 118,
          "label": "OUI"
         },
         {
          "X": -2.094820976257324,
          "Y": 0.9459067583084106,
          "count": 118,
          "label": "OUI"
         },
         {
          "X": -0.5734463334083557,
          "Y": 1.4404056072235107,
          "count": 118,
          "label": "OUI"
         },
         {
          "X": 2.189912796020508,
          "Y": -0.3414364457130432,
          "count": 118,
          "label": "OUI"
         },
         {
          "X": 0.5004889369010925,
          "Y": -0.3752165734767914,
          "count": 118,
          "label": "OUI"
         },
         {
          "X": 2.8399338722229004,
          "Y": 0.9212411046028137,
          "count": 118,
          "label": "OUI"
         },
         {
          "X": 0.7769594192504883,
          "Y": -0.937835156917572,
          "count": 118,
          "label": "OUI"
         },
         {
          "X": 1.9337143898010254,
          "Y": 0.7559248805046082,
          "count": 118,
          "label": "OUI"
         },
         {
          "X": 0.9383410811424255,
          "Y": -0.30791112780570984,
          "count": 49,
          "label": "DIRE"
         },
         {
          "X": 0.8493266105651855,
          "Y": 0.3709956705570221,
          "count": 49,
          "label": "DIRE"
         },
         {
          "X": -2.094820976257324,
          "Y": 0.9459067583084106,
          "count": 49,
          "label": "DIRE"
         },
         {
          "X": -0.010860791429877281,
          "Y": 0.7860143780708313,
          "count": 49,
          "label": "DIRE"
         },
         {
          "X": 0.8493266105651855,
          "Y": 0.3709956705570221,
          "count": 49,
          "label": "DIRE"
         },
         {
          "X": 2.189912796020508,
          "Y": -0.3414364457130432,
          "count": 49,
          "label": "DIRE"
         },
         {
          "X": 0.8493266105651855,
          "Y": 0.3709956705570221,
          "count": 49,
          "label": "DIRE"
         },
         {
          "X": 0.9383410811424255,
          "Y": -0.30791112780570984,
          "count": 49,
          "label": "DIRE"
         },
         {
          "X": 1.9337143898010254,
          "Y": 0.7559248805046082,
          "count": 49,
          "label": "DIRE"
         },
         {
          "X": 1.3840988874435425,
          "Y": -0.24738861620426178,
          "count": 49,
          "label": "DIRE"
         },
         {
          "X": -0.7890880703926086,
          "Y": -1.0077091455459595,
          "count": 49,
          "label": "DIRE"
         },
         {
          "X": -1.2051360607147217,
          "Y": 1.1815179586410522,
          "count": 49,
          "label": "DIRE"
         },
         {
          "X": 1.9539906978607178,
          "Y": 2.177903652191162,
          "count": 49,
          "label": "DIRE"
         },
         {
          "X": 0.8493266105651855,
          "Y": 0.3709956705570221,
          "count": 49,
          "label": "DIRE"
         },
         {
          "X": -0.038906216621398926,
          "Y": -1.3321967124938965,
          "count": 49,
          "label": "DIRE"
         },
         {
          "X": -0.010860791429877281,
          "Y": 0.7860143780708313,
          "count": 49,
          "label": "DIRE"
         },
         {
          "X": 1.7958910465240479,
          "Y": -1.4791693687438965,
          "count": 49,
          "label": "DIRE"
         },
         {
          "X": 0.8493266105651855,
          "Y": 0.3709956705570221,
          "count": 49,
          "label": "DIRE"
         },
         {
          "X": 2.8399338722229004,
          "Y": 0.9212411046028137,
          "count": 49,
          "label": "DIRE"
         },
         {
          "X": 1.5444684028625488,
          "Y": -2.3124451637268066,
          "count": 49,
          "label": "DIRE"
         },
         {
          "X": 0.8493266105651855,
          "Y": 0.3709956705570221,
          "count": 49,
          "label": "DIRE"
         },
         {
          "X": -0.7744936347007751,
          "Y": 0.43829581141471863,
          "count": 49,
          "label": "DIRE"
         },
         {
          "X": 0.8493266105651855,
          "Y": 0.3709956705570221,
          "count": 49,
          "label": "DIRE"
         },
         {
          "X": 0.8493266105651855,
          "Y": 0.3709956705570221,
          "count": 49,
          "label": "DIRE"
         },
         {
          "X": -0.7890880703926086,
          "Y": -1.0077091455459595,
          "count": 49,
          "label": "DIRE"
         },
         {
          "X": 0.12445073574781418,
          "Y": 0.05000607669353485,
          "count": 49,
          "label": "DIRE"
         },
         {
          "X": 0.8493266105651855,
          "Y": 0.3709956705570221,
          "count": 49,
          "label": "DIRE"
         },
         {
          "X": 0.7809913158416748,
          "Y": -2.468172311782837,
          "count": 49,
          "label": "DIRE"
         },
         {
          "X": -1.3968206644058228,
          "Y": -0.7054904103279114,
          "count": 49,
          "label": "DIRE"
         },
         {
          "X": 0.12445073574781418,
          "Y": 0.05000607669353485,
          "count": 49,
          "label": "DIRE"
         },
         {
          "X": -0.20227792859077454,
          "Y": 2.6058075428009033,
          "count": 49,
          "label": "DIRE"
         },
         {
          "X": 0.8493266105651855,
          "Y": 0.3709956705570221,
          "count": 49,
          "label": "DIRE"
         },
         {
          "X": -1.986215591430664,
          "Y": -1.3099150657653809,
          "count": 49,
          "label": "DIRE"
         },
         {
          "X": -1.669831395149231,
          "Y": 0.19383834302425385,
          "count": 49,
          "label": "DIRE"
         },
         {
          "X": 1.9539906978607178,
          "Y": 2.177903652191162,
          "count": 49,
          "label": "DIRE"
         },
         {
          "X": 0.12445073574781418,
          "Y": 0.05000607669353485,
          "count": 49,
          "label": "DIRE"
         },
         {
          "X": 0.2876945436000824,
          "Y": 1.8856663703918457,
          "count": 49,
          "label": "DIRE"
         },
         {
          "X": 0.7133759260177612,
          "Y": 1.2155088186264038,
          "count": 49,
          "label": "DIRE"
         },
         {
          "X": 1.9337143898010254,
          "Y": 0.7559248805046082,
          "count": 49,
          "label": "DIRE"
         },
         {
          "X": 1.5576236248016357,
          "Y": 0.37839797139167786,
          "count": 49,
          "label": "DIRE"
         },
         {
          "X": -0.7744936347007751,
          "Y": 0.43829581141471863,
          "count": 49,
          "label": "DIRE"
         },
         {
          "X": -1.3455700874328613,
          "Y": 1.0156828165054321,
          "count": 49,
          "label": "DIRE"
         },
         {
          "X": 0.9383410811424255,
          "Y": -0.30791112780570984,
          "count": 49,
          "label": "DIRE"
         },
         {
          "X": 0.9383410811424255,
          "Y": -0.30791112780570984,
          "count": 49,
          "label": "DIRE"
         },
         {
          "X": -0.7744936347007751,
          "Y": 0.43829581141471863,
          "count": 49,
          "label": "DIRE"
         },
         {
          "X": 0.7133759260177612,
          "Y": 1.2155088186264038,
          "count": 49,
          "label": "DIRE"
         },
         {
          "X": 1.4603018760681152,
          "Y": 1.5007543563842773,
          "count": 49,
          "label": "DIRE"
         },
         {
          "X": -0.8002203106880188,
          "Y": -1.5430399179458618,
          "count": 49,
          "label": "DIRE"
         },
         {
          "X": 0.7769594192504883,
          "Y": -0.937835156917572,
          "count": 49,
          "label": "DIRE"
         },
         {
          "X": -0.5734463334083557,
          "Y": 1.4404056072235107,
          "count": 56,
          "label": "RIEN "
         },
         {
          "X": -0.038906216621398926,
          "Y": -1.3321967124938965,
          "count": 56,
          "label": "RIEN "
         },
         {
          "X": 1.5444684028625488,
          "Y": -2.3124451637268066,
          "count": 56,
          "label": "RIEN "
         },
         {
          "X": 0.8493266105651855,
          "Y": 0.3709956705570221,
          "count": 56,
          "label": "RIEN "
         },
         {
          "X": 0.7569299340248108,
          "Y": -1.7701759338378906,
          "count": 56,
          "label": "RIEN "
         },
         {
          "X": -0.5316834449768066,
          "Y": -0.3826110363006592,
          "count": 56,
          "label": "RIEN "
         },
         {
          "X": 2.189912796020508,
          "Y": -0.3414364457130432,
          "count": 56,
          "label": "RIEN "
         },
         {
          "X": -0.7827644348144531,
          "Y": -1.1214321851730347,
          "count": 56,
          "label": "RIEN "
         },
         {
          "X": 0.3275226056575775,
          "Y": 1.327501893043518,
          "count": 56,
          "label": "RIEN "
         },
         {
          "X": -0.2342323362827301,
          "Y": -2.38041090965271,
          "count": 56,
          "label": "RIEN "
         },
         {
          "X": -0.5727768540382385,
          "Y": 0.19141483306884766,
          "count": 56,
          "label": "RIEN "
         },
         {
          "X": 0.12445073574781418,
          "Y": 0.05000607669353485,
          "count": 56,
          "label": "RIEN "
         },
         {
          "X": 0.12445073574781418,
          "Y": 0.05000607669353485,
          "count": 56,
          "label": "RIEN "
         },
         {
          "X": -1.986215591430664,
          "Y": -1.3099150657653809,
          "count": 56,
          "label": "RIEN "
         },
         {
          "X": -1.4802589416503906,
          "Y": -0.13927695155143738,
          "count": 56,
          "label": "RIEN "
         },
         {
          "X": 1.9337143898010254,
          "Y": 0.7559248805046082,
          "count": 56,
          "label": "RIEN "
         },
         {
          "X": 0.5037851333618164,
          "Y": -0.36826446652412415,
          "count": 56,
          "label": "RIEN "
         },
         {
          "X": 0.7769594192504883,
          "Y": -0.937835156917572,
          "count": 56,
          "label": "RIEN "
         },
         {
          "X": 0.7809913158416748,
          "Y": -2.468172311782837,
          "count": 56,
          "label": "RIEN "
         },
         {
          "X": 0.7133759260177612,
          "Y": 1.2155088186264038,
          "count": 56,
          "label": "RIEN "
         },
         {
          "X": 0.5059654712677002,
          "Y": -0.36345821619033813,
          "count": 56,
          "label": "RIEN "
         },
         {
          "X": 1.7958910465240479,
          "Y": -1.4791693687438965,
          "count": 56,
          "label": "RIEN "
         },
         {
          "X": 0.2876945436000824,
          "Y": 1.8856663703918457,
          "count": 56,
          "label": "RIEN "
         },
         {
          "X": 0.5215978622436523,
          "Y": -1.8576406240463257,
          "count": 56,
          "label": "RIEN "
         },
         {
          "X": 1.9337143898010254,
          "Y": 0.7559248805046082,
          "count": 56,
          "label": "RIEN "
         },
         {
          "X": -0.7744936347007751,
          "Y": 0.43829581141471863,
          "count": 56,
          "label": "RIEN "
         },
         {
          "X": -0.010860791429877281,
          "Y": 0.7860143780708313,
          "count": 56,
          "label": "RIEN "
         },
         {
          "X": 0.006693319883197546,
          "Y": -0.5674325227737427,
          "count": 56,
          "label": "RIEN "
         },
         {
          "X": 0.5004889369010925,
          "Y": -0.3752165734767914,
          "count": 56,
          "label": "RIEN "
         },
         {
          "X": -1.3455700874328613,
          "Y": 1.0156828165054321,
          "count": 56,
          "label": "RIEN "
         },
         {
          "X": 0.12445073574781418,
          "Y": 0.05000607669353485,
          "count": 56,
          "label": "RIEN "
         },
         {
          "X": -1.669831395149231,
          "Y": 0.19383834302425385,
          "count": 56,
          "label": "RIEN "
         },
         {
          "X": 0.7133759260177612,
          "Y": 1.2155088186264038,
          "count": 56,
          "label": "RIEN "
         },
         {
          "X": 0.08518155664205551,
          "Y": -0.5668357610702515,
          "count": 56,
          "label": "RIEN "
         },
         {
          "X": 1.9539906978607178,
          "Y": 2.177903652191162,
          "count": 56,
          "label": "RIEN "
         },
         {
          "X": 0.12445073574781418,
          "Y": 0.05000607669353485,
          "count": 56,
          "label": "RIEN "
         },
         {
          "X": -0.5288838148117065,
          "Y": -0.4518406093120575,
          "count": 56,
          "label": "RIEN "
         },
         {
          "X": 0.7809913158416748,
          "Y": -2.468172311782837,
          "count": 56,
          "label": "RIEN "
         },
         {
          "X": 1.4603018760681152,
          "Y": 1.5007543563842773,
          "count": 56,
          "label": "RIEN "
         },
         {
          "X": -0.7890880703926086,
          "Y": -1.0077091455459595,
          "count": 56,
          "label": "RIEN "
         },
         {
          "X": -1.0455948114395142,
          "Y": 0.62473464012146,
          "count": 56,
          "label": "RIEN "
         },
         {
          "X": 2.356484889984131,
          "Y": 1.6304043531417847,
          "count": 56,
          "label": "RIEN "
         },
         {
          "X": -0.2342323362827301,
          "Y": -2.38041090965271,
          "count": 56,
          "label": "RIEN "
         },
         {
          "X": -1.986215591430664,
          "Y": -1.3099150657653809,
          "count": 56,
          "label": "RIEN "
         },
         {
          "X": -0.010860791429877281,
          "Y": 0.7860143780708313,
          "count": 56,
          "label": "RIEN "
         },
         {
          "X": 1.490423321723938,
          "Y": -0.8618544936180115,
          "count": 56,
          "label": "RIEN "
         },
         {
          "X": 0.8493266105651855,
          "Y": 0.3709956705570221,
          "count": 56,
          "label": "RIEN "
         },
         {
          "X": 1.4603018760681152,
          "Y": 1.5007543563842773,
          "count": 56,
          "label": "RIEN "
         },
         {
          "X": 1.7958910465240479,
          "Y": -1.4791693687438965,
          "count": 56,
          "label": "RIEN "
         },
         {
          "X": -0.7520882487297058,
          "Y": -0.2695270776748657,
          "count": 56,
          "label": "RIEN "
         },
         {
          "X": -1.4802589416503906,
          "Y": -0.13927695155143738,
          "count": 56,
          "label": "RIEN "
         },
         {
          "X": 0.030435696244239807,
          "Y": 1.9478543996810913,
          "count": 56,
          "label": "RIEN "
         },
         {
          "X": -0.010860791429877281,
          "Y": 0.7860143780708313,
          "count": 56,
          "label": "RIEN "
         },
         {
          "X": 0.9383410811424255,
          "Y": -0.30791112780570984,
          "count": 56,
          "label": "RIEN "
         },
         {
          "X": -0.5316834449768066,
          "Y": -0.3826110363006592,
          "count": 56,
          "label": "RIEN "
         },
         {
          "X": 0.2876945436000824,
          "Y": 1.8856663703918457,
          "count": 56,
          "label": "RIEN "
         },
         {
          "X": 1.5576236248016357,
          "Y": 0.37839797139167786,
          "count": 96,
          "label": "QUOI"
         },
         {
          "X": -0.2342323362827301,
          "Y": -2.38041090965271,
          "count": 96,
          "label": "QUOI"
         },
         {
          "X": -0.7458605766296387,
          "Y": 2.3939642906188965,
          "count": 96,
          "label": "QUOI"
         },
         {
          "X": 0.9383410811424255,
          "Y": -0.30791112780570984,
          "count": 96,
          "label": "QUOI"
         },
         {
          "X": 0.5004889369010925,
          "Y": -0.3752165734767914,
          "count": 96,
          "label": "QUOI"
         },
         {
          "X": -1.433718204498291,
          "Y": -1.7712657451629639,
          "count": 96,
          "label": "QUOI"
         },
         {
          "X": 0.6420198082923889,
          "Y": -1.793840765953064,
          "count": 96,
          "label": "QUOI"
         },
         {
          "X": -1.0455948114395142,
          "Y": 0.62473464012146,
          "count": 96,
          "label": "QUOI"
         },
         {
          "X": 1.7958910465240479,
          "Y": -1.4791693687438965,
          "count": 96,
          "label": "QUOI"
         },
         {
          "X": -1.433718204498291,
          "Y": -1.7712657451629639,
          "count": 96,
          "label": "QUOI"
         },
         {
          "X": 2.2986629009246826,
          "Y": -2.04585337638855,
          "count": 96,
          "label": "QUOI"
         },
         {
          "X": -0.7520882487297058,
          "Y": -0.2695270776748657,
          "count": 96,
          "label": "QUOI"
         },
         {
          "X": -0.010860791429877281,
          "Y": 0.7860143780708313,
          "count": 96,
          "label": "QUOI"
         },
         {
          "X": 0.5022168159484863,
          "Y": -0.369074285030365,
          "count": 96,
          "label": "QUOI"
         },
         {
          "X": -0.7890880703926086,
          "Y": -1.0077091455459595,
          "count": 96,
          "label": "QUOI"
         },
         {
          "X": 0.5037851333618164,
          "Y": -0.36826446652412415,
          "count": 96,
          "label": "QUOI"
         },
         {
          "X": 0.7769594192504883,
          "Y": -0.937835156917572,
          "count": 96,
          "label": "QUOI"
         },
         {
          "X": 0.8493266105651855,
          "Y": 0.3709956705570221,
          "count": 96,
          "label": "QUOI"
         },
         {
          "X": 0.2876945436000824,
          "Y": 1.8856663703918457,
          "count": 96,
          "label": "QUOI"
         },
         {
          "X": -1.4802589416503906,
          "Y": -0.13927695155143738,
          "count": 96,
          "label": "QUOI"
         },
         {
          "X": 0.8493266105651855,
          "Y": 0.3709956705570221,
          "count": 96,
          "label": "QUOI"
         },
         {
          "X": 1.5444684028625488,
          "Y": -2.3124451637268066,
          "count": 96,
          "label": "QUOI"
         },
         {
          "X": 1.3840988874435425,
          "Y": -0.24738861620426178,
          "count": 96,
          "label": "QUOI"
         },
         {
          "X": 1.0381417274475098,
          "Y": 2.305878162384033,
          "count": 96,
          "label": "QUOI"
         },
         {
          "X": -1.372414469718933,
          "Y": 1.3572791814804077,
          "count": 96,
          "label": "QUOI"
         },
         {
          "X": 0.9383410811424255,
          "Y": -0.30791112780570984,
          "count": 96,
          "label": "QUOI"
         },
         {
          "X": -1.433718204498291,
          "Y": -1.7712657451629639,
          "count": 96,
          "label": "QUOI"
         },
         {
          "X": -0.5734463334083557,
          "Y": 1.4404056072235107,
          "count": 96,
          "label": "QUOI"
         },
         {
          "X": -0.7890880703926086,
          "Y": -1.0077091455459595,
          "count": 96,
          "label": "QUOI"
         },
         {
          "X": 1.9337143898010254,
          "Y": 0.7559248805046082,
          "count": 96,
          "label": "QUOI"
         },
         {
          "X": 2.8399338722229004,
          "Y": 0.9212411046028137,
          "count": 96,
          "label": "QUOI"
         },
         {
          "X": -1.3455700874328613,
          "Y": 1.0156828165054321,
          "count": 96,
          "label": "QUOI"
         },
         {
          "X": 0.7769594192504883,
          "Y": -0.937835156917572,
          "count": 96,
          "label": "QUOI"
         },
         {
          "X": 1.0381417274475098,
          "Y": 2.305878162384033,
          "count": 96,
          "label": "QUOI"
         },
         {
          "X": -0.038906216621398926,
          "Y": -1.3321967124938965,
          "count": 96,
          "label": "QUOI"
         },
         {
          "X": -0.7890880703926086,
          "Y": -1.0077091455459595,
          "count": 96,
          "label": "QUOI"
         },
         {
          "X": 3.1168785095214844,
          "Y": -0.411366730928421,
          "count": 96,
          "label": "QUOI"
         },
         {
          "X": -1.669831395149231,
          "Y": 0.19383834302425385,
          "count": 96,
          "label": "QUOI"
         },
         {
          "X": 1.0381417274475098,
          "Y": 2.305878162384033,
          "count": 96,
          "label": "QUOI"
         },
         {
          "X": -0.5263254046440125,
          "Y": -0.5030304193496704,
          "count": 96,
          "label": "QUOI"
         },
         {
          "X": 0.8493266105651855,
          "Y": 0.3709956705570221,
          "count": 96,
          "label": "QUOI"
         },
         {
          "X": -0.038906216621398926,
          "Y": -1.3321967124938965,
          "count": 96,
          "label": "QUOI"
         },
         {
          "X": 2.189912796020508,
          "Y": -0.3414364457130432,
          "count": 96,
          "label": "QUOI"
         },
         {
          "X": -1.3968206644058228,
          "Y": -0.7054904103279114,
          "count": 96,
          "label": "QUOI"
         },
         {
          "X": 1.4603018760681152,
          "Y": 1.5007543563842773,
          "count": 96,
          "label": "QUOI"
         },
         {
          "X": -1.3968206644058228,
          "Y": -0.7054904103279114,
          "count": 96,
          "label": "QUOI"
         },
         {
          "X": 1.0381417274475098,
          "Y": 2.305878162384033,
          "count": 96,
          "label": "QUOI"
         },
         {
          "X": 1.5576236248016357,
          "Y": 0.37839797139167786,
          "count": 96,
          "label": "QUOI"
         },
         {
          "X": 2.189912796020508,
          "Y": -0.3414364457130432,
          "count": 96,
          "label": "QUOI"
         },
         {
          "X": 1.7958910465240479,
          "Y": -1.4791693687438965,
          "count": 96,
          "label": "QUOI"
         },
         {
          "X": -0.7890880703926086,
          "Y": -1.0077091455459595,
          "count": 96,
          "label": "QUOI"
         },
         {
          "X": -0.010860791429877281,
          "Y": 0.7860143780708313,
          "count": 96,
          "label": "QUOI"
         },
         {
          "X": 0.12445073574781418,
          "Y": 0.05000607669353485,
          "count": 96,
          "label": "QUOI"
         },
         {
          "X": 1.9337143898010254,
          "Y": 0.7559248805046082,
          "count": 96,
          "label": "QUOI"
         },
         {
          "X": -0.7890880703926086,
          "Y": -1.0077091455459595,
          "count": 96,
          "label": "QUOI"
         },
         {
          "X": 0.8493266105651855,
          "Y": 0.3709956705570221,
          "count": 96,
          "label": "QUOI"
         },
         {
          "X": 2.8399338722229004,
          "Y": 0.9212411046028137,
          "count": 96,
          "label": "QUOI"
         },
         {
          "X": 0.8493266105651855,
          "Y": 0.3709956705570221,
          "count": 96,
          "label": "QUOI"
         },
         {
          "X": 0.7769594192504883,
          "Y": -0.937835156917572,
          "count": 96,
          "label": "QUOI"
         },
         {
          "X": 0.8493266105651855,
          "Y": 0.3709956705570221,
          "count": 96,
          "label": "QUOI"
         },
         {
          "X": -1.664787769317627,
          "Y": 1.7272974252700806,
          "count": 96,
          "label": "QUOI"
         },
         {
          "X": -0.5734463334083557,
          "Y": 1.4404056072235107,
          "count": 96,
          "label": "QUOI"
         },
         {
          "X": -1.664787769317627,
          "Y": 1.7272974252700806,
          "count": 96,
          "label": "QUOI"
         },
         {
          "X": 2.189912796020508,
          "Y": -0.3414364457130432,
          "count": 96,
          "label": "QUOI"
         },
         {
          "X": -0.535822331905365,
          "Y": -0.45780566334724426,
          "count": 96,
          "label": "QUOI"
         },
         {
          "X": 1.7958910465240479,
          "Y": -1.4791693687438965,
          "count": 96,
          "label": "QUOI"
         },
         {
          "X": -1.474680781364441,
          "Y": 0.5168231129646301,
          "count": 96,
          "label": "QUOI"
         },
         {
          "X": 1.9337143898010254,
          "Y": 0.7559248805046082,
          "count": 96,
          "label": "QUOI"
         },
         {
          "X": -0.7890880703926086,
          "Y": -1.0077091455459595,
          "count": 96,
          "label": "QUOI"
         },
         {
          "X": 0.7769594192504883,
          "Y": -0.937835156917572,
          "count": 96,
          "label": "QUOI"
         },
         {
          "X": 0.5022168159484863,
          "Y": -0.369074285030365,
          "count": 96,
          "label": "QUOI"
         },
         {
          "X": 0.8493266105651855,
          "Y": 0.3709956705570221,
          "count": 96,
          "label": "QUOI"
         },
         {
          "X": 3.1163887977600098,
          "Y": -0.36505642533302307,
          "count": 96,
          "label": "QUOI"
         },
         {
          "X": 2.189912796020508,
          "Y": -0.3414364457130432,
          "count": 96,
          "label": "QUOI"
         },
         {
          "X": -2.2484381198883057,
          "Y": -0.08005529642105103,
          "count": 96,
          "label": "QUOI"
         },
         {
          "X": 2.189912796020508,
          "Y": -0.3414364457130432,
          "count": 96,
          "label": "QUOI"
         },
         {
          "X": -0.5316834449768066,
          "Y": -0.3826110363006592,
          "count": 96,
          "label": "QUOI"
         },
         {
          "X": -0.010860791429877281,
          "Y": 0.7860143780708313,
          "count": 96,
          "label": "QUOI"
         },
         {
          "X": 0.7133759260177612,
          "Y": 1.2155088186264038,
          "count": 96,
          "label": "QUOI"
         },
         {
          "X": 1.7958910465240479,
          "Y": -1.4791693687438965,
          "count": 96,
          "label": "QUOI"
         },
         {
          "X": 1.490423321723938,
          "Y": -0.8618544936180115,
          "count": 96,
          "label": "QUOI"
         },
         {
          "X": -1.669831395149231,
          "Y": 0.19383834302425385,
          "count": 96,
          "label": "QUOI"
         },
         {
          "X": 1.3840988874435425,
          "Y": -0.24738861620426178,
          "count": 96,
          "label": "QUOI"
         },
         {
          "X": -0.6066305637359619,
          "Y": 0.047458481043577194,
          "count": 96,
          "label": "QUOI"
         },
         {
          "X": 0.3065185546875,
          "Y": -2.5074639320373535,
          "count": 96,
          "label": "QUOI"
         },
         {
          "X": 0.7133759260177612,
          "Y": 1.2155088186264038,
          "count": 96,
          "label": "QUOI"
         },
         {
          "X": 0.5004889369010925,
          "Y": -0.3752165734767914,
          "count": 96,
          "label": "QUOI"
         },
         {
          "X": 2.5816004276275635,
          "Y": -1.5323636531829834,
          "count": 96,
          "label": "QUOI"
         },
         {
          "X": 0.08518155664205551,
          "Y": -0.5668357610702515,
          "count": 96,
          "label": "QUOI"
         },
         {
          "X": 0.8493266105651855,
          "Y": 0.3709956705570221,
          "count": 96,
          "label": "QUOI"
         },
         {
          "X": -0.010860791429877281,
          "Y": 0.7860143780708313,
          "count": 96,
          "label": "QUOI"
         },
         {
          "X": 0.5021163821220398,
          "Y": -0.36915501952171326,
          "count": 96,
          "label": "QUOI"
         },
         {
          "X": -0.5316834449768066,
          "Y": -0.3826110363006592,
          "count": 96,
          "label": "QUOI"
         },
         {
          "X": -1.474680781364441,
          "Y": 0.5168231129646301,
          "count": 96,
          "label": "QUOI"
         },
         {
          "X": 0.08518155664205551,
          "Y": -0.5668357610702515,
          "count": 96,
          "label": "QUOI"
         },
         {
          "X": 1.0381417274475098,
          "Y": 2.305878162384033,
          "count": 96,
          "label": "QUOI"
         },
         {
          "X": 0.8493266105651855,
          "Y": 0.3709956705570221,
          "count": 77,
          "label": "MAIS"
         },
         {
          "X": -2.2484381198883057,
          "Y": -0.08005529642105103,
          "count": 77,
          "label": "MAIS"
         },
         {
          "X": -0.5734463334083557,
          "Y": 1.4404056072235107,
          "count": 77,
          "label": "MAIS"
         },
         {
          "X": 2.189912796020508,
          "Y": -0.3414364457130432,
          "count": 77,
          "label": "MAIS"
         },
         {
          "X": 1.490423321723938,
          "Y": -0.8618544936180115,
          "count": 77,
          "label": "MAIS"
         },
         {
          "X": 2.796124219894409,
          "Y": 0.428219199180603,
          "count": 77,
          "label": "MAIS"
         },
         {
          "X": -0.010860791429877281,
          "Y": 0.7860143780708313,
          "count": 77,
          "label": "MAIS"
         },
         {
          "X": 0.5215978622436523,
          "Y": -1.8576406240463257,
          "count": 77,
          "label": "MAIS"
         },
         {
          "X": 0.12445073574781418,
          "Y": 0.05000607669353485,
          "count": 77,
          "label": "MAIS"
         },
         {
          "X": -0.010860791429877281,
          "Y": 0.7860143780708313,
          "count": 77,
          "label": "MAIS"
         },
         {
          "X": 2.5976979732513428,
          "Y": 1.3837021589279175,
          "count": 77,
          "label": "MAIS"
         },
         {
          "X": -0.7744936347007751,
          "Y": 0.43829581141471863,
          "count": 77,
          "label": "MAIS"
         },
         {
          "X": -2.2484381198883057,
          "Y": -0.08005529642105103,
          "count": 77,
          "label": "MAIS"
         },
         {
          "X": -0.010860791429877281,
          "Y": 0.7860143780708313,
          "count": 77,
          "label": "MAIS"
         },
         {
          "X": -0.2342323362827301,
          "Y": -2.38041090965271,
          "count": 77,
          "label": "MAIS"
         },
         {
          "X": 0.7569299340248108,
          "Y": -1.7701759338378906,
          "count": 77,
          "label": "MAIS"
         },
         {
          "X": 2.8399338722229004,
          "Y": 0.9212411046028137,
          "count": 77,
          "label": "MAIS"
         },
         {
          "X": -0.010860791429877281,
          "Y": 0.7860143780708313,
          "count": 77,
          "label": "MAIS"
         },
         {
          "X": 2.2986629009246826,
          "Y": -2.04585337638855,
          "count": 77,
          "label": "MAIS"
         },
         {
          "X": 1.0381417274475098,
          "Y": 2.305878162384033,
          "count": 77,
          "label": "MAIS"
         },
         {
          "X": 0.12445073574781418,
          "Y": 0.05000607669353485,
          "count": 77,
          "label": "MAIS"
         },
         {
          "X": -1.4802589416503906,
          "Y": -0.13927695155143738,
          "count": 77,
          "label": "MAIS"
         },
         {
          "X": 0.08518155664205551,
          "Y": -0.5668357610702515,
          "count": 77,
          "label": "MAIS"
         },
         {
          "X": 0.7769594192504883,
          "Y": -0.937835156917572,
          "count": 77,
          "label": "MAIS"
         },
         {
          "X": 2.189912796020508,
          "Y": -0.3414364457130432,
          "count": 77,
          "label": "MAIS"
         },
         {
          "X": -1.433718204498291,
          "Y": -1.7712657451629639,
          "count": 77,
          "label": "MAIS"
         },
         {
          "X": 0.5059654712677002,
          "Y": -0.36345821619033813,
          "count": 77,
          "label": "MAIS"
         },
         {
          "X": 1.0381417274475098,
          "Y": 2.305878162384033,
          "count": 77,
          "label": "MAIS"
         },
         {
          "X": 2.8399338722229004,
          "Y": 0.9212411046028137,
          "count": 77,
          "label": "MAIS"
         },
         {
          "X": -0.5734463334083557,
          "Y": 1.4404056072235107,
          "count": 77,
          "label": "MAIS"
         },
         {
          "X": 2.8399338722229004,
          "Y": 0.9212411046028137,
          "count": 77,
          "label": "MAIS"
         },
         {
          "X": 0.030435696244239807,
          "Y": 1.9478543996810913,
          "count": 77,
          "label": "MAIS"
         },
         {
          "X": 2.189912796020508,
          "Y": -0.3414364457130432,
          "count": 77,
          "label": "MAIS"
         },
         {
          "X": 0.8493266105651855,
          "Y": 0.3709956705570221,
          "count": 77,
          "label": "MAIS"
         },
         {
          "X": -1.4802589416503906,
          "Y": -0.13927695155143738,
          "count": 77,
          "label": "MAIS"
         },
         {
          "X": -0.20227792859077454,
          "Y": 2.6058075428009033,
          "count": 77,
          "label": "MAIS"
         },
         {
          "X": 0.12445073574781418,
          "Y": 0.05000607669353485,
          "count": 77,
          "label": "MAIS"
         },
         {
          "X": 1.0381417274475098,
          "Y": 2.305878162384033,
          "count": 77,
          "label": "MAIS"
         },
         {
          "X": 1.1252766847610474,
          "Y": -1.8188939094543457,
          "count": 77,
          "label": "MAIS"
         },
         {
          "X": -0.038906216621398926,
          "Y": -1.3321967124938965,
          "count": 77,
          "label": "MAIS"
         },
         {
          "X": 0.12445073574781418,
          "Y": 0.05000607669353485,
          "count": 77,
          "label": "MAIS"
         },
         {
          "X": -0.5734463334083557,
          "Y": 1.4404056072235107,
          "count": 77,
          "label": "MAIS"
         },
         {
          "X": 0.8493266105651855,
          "Y": 0.3709956705570221,
          "count": 77,
          "label": "MAIS"
         },
         {
          "X": 0.7133759260177612,
          "Y": 1.2155088186264038,
          "count": 77,
          "label": "MAIS"
         },
         {
          "X": -0.8977599740028381,
          "Y": -2.1725804805755615,
          "count": 77,
          "label": "MAIS"
         },
         {
          "X": -0.7744936347007751,
          "Y": 0.43829581141471863,
          "count": 77,
          "label": "MAIS"
         },
         {
          "X": 0.8493266105651855,
          "Y": 0.3709956705570221,
          "count": 77,
          "label": "MAIS"
         },
         {
          "X": 0.5037851333618164,
          "Y": -0.36826446652412415,
          "count": 77,
          "label": "MAIS"
         },
         {
          "X": -0.038906216621398926,
          "Y": -1.3321967124938965,
          "count": 77,
          "label": "MAIS"
         },
         {
          "X": 0.7133759260177612,
          "Y": 1.2155088186264038,
          "count": 77,
          "label": "MAIS"
         },
         {
          "X": 1.7958910465240479,
          "Y": -1.4791693687438965,
          "count": 77,
          "label": "MAIS"
         },
         {
          "X": -1.3968206644058228,
          "Y": -0.7054904103279114,
          "count": 77,
          "label": "MAIS"
         },
         {
          "X": -0.5734463334083557,
          "Y": 1.4404056072235107,
          "count": 77,
          "label": "MAIS"
         },
         {
          "X": 3.1184773445129395,
          "Y": 0.05429292470216751,
          "count": 77,
          "label": "MAIS"
         },
         {
          "X": 0.12445073574781418,
          "Y": 0.05000607669353485,
          "count": 77,
          "label": "MAIS"
         },
         {
          "X": -1.664787769317627,
          "Y": 1.7272974252700806,
          "count": 77,
          "label": "MAIS"
         },
         {
          "X": 1.4603018760681152,
          "Y": 1.5007543563842773,
          "count": 77,
          "label": "MAIS"
         },
         {
          "X": 0.3275226056575775,
          "Y": 1.327501893043518,
          "count": 77,
          "label": "MAIS"
         },
         {
          "X": 0.7769594192504883,
          "Y": -0.937835156917572,
          "count": 77,
          "label": "MAIS"
         },
         {
          "X": 0.7769594192504883,
          "Y": -0.937835156917572,
          "count": 77,
          "label": "MAIS"
         },
         {
          "X": -1.1061962842941284,
          "Y": 2.2150063514709473,
          "count": 77,
          "label": "MAIS"
         },
         {
          "X": 0.8493266105651855,
          "Y": 0.3709956705570221,
          "count": 77,
          "label": "MAIS"
         },
         {
          "X": 3.056864023208618,
          "Y": 0.18146811425685883,
          "count": 77,
          "label": "MAIS"
         },
         {
          "X": 0.12445073574781418,
          "Y": 0.05000607669353485,
          "count": 77,
          "label": "MAIS"
         },
         {
          "X": 0.08518155664205551,
          "Y": -0.5668357610702515,
          "count": 77,
          "label": "MAIS"
         },
         {
          "X": 0.7809913158416748,
          "Y": -2.468172311782837,
          "count": 77,
          "label": "MAIS"
         },
         {
          "X": 2.8399338722229004,
          "Y": 0.9212411046028137,
          "count": 77,
          "label": "MAIS"
         },
         {
          "X": -0.038906216621398926,
          "Y": -1.3321967124938965,
          "count": 77,
          "label": "MAIS"
         },
         {
          "X": -0.8977599740028381,
          "Y": -2.1725804805755615,
          "count": 77,
          "label": "MAIS"
         },
         {
          "X": 0.5021163821220398,
          "Y": -0.36915501952171326,
          "count": 77,
          "label": "MAIS"
         },
         {
          "X": 0.006693319883197546,
          "Y": -0.5674325227737427,
          "count": 77,
          "label": "MAIS"
         },
         {
          "X": -0.010860791429877281,
          "Y": 0.7860143780708313,
          "count": 77,
          "label": "MAIS"
         },
         {
          "X": -1.0455948114395142,
          "Y": 0.62473464012146,
          "count": 77,
          "label": "MAIS"
         },
         {
          "X": -0.038906216621398926,
          "Y": -1.3321967124938965,
          "count": 77,
          "label": "MAIS"
         },
         {
          "X": 0.9383410811424255,
          "Y": -0.30791112780570984,
          "count": 77,
          "label": "MAIS"
         },
         {
          "X": 0.9383410811424255,
          "Y": -0.30791112780570984,
          "count": 77,
          "label": "MAIS"
         },
         {
          "X": -0.5734463334083557,
          "Y": 1.4404056072235107,
          "count": 77,
          "label": "MAIS"
         },
         {
          "X": -1.4223387241363525,
          "Y": -1.1469751596450806,
          "count": 52,
          "label": "PLUS.P"
         },
         {
          "X": 0.08518155664205551,
          "Y": -0.5668357610702515,
          "count": 52,
          "label": "PLUS.P"
         },
         {
          "X": 0.5021993517875671,
          "Y": -0.3690900206565857,
          "count": 52,
          "label": "PLUS.P"
         },
         {
          "X": -1.3968206644058228,
          "Y": -0.7054904103279114,
          "count": 52,
          "label": "PLUS.P"
         },
         {
          "X": 1.5576236248016357,
          "Y": 0.37839797139167786,
          "count": 52,
          "label": "PLUS.P"
         },
         {
          "X": 2.189912796020508,
          "Y": -0.3414364457130432,
          "count": 52,
          "label": "PLUS.P"
         },
         {
          "X": -0.010860791429877281,
          "Y": 0.7860143780708313,
          "count": 52,
          "label": "PLUS.P"
         },
         {
          "X": 0.7769594192504883,
          "Y": -0.937835156917572,
          "count": 52,
          "label": "PLUS.P"
         },
         {
          "X": 1.9337143898010254,
          "Y": 0.7559248805046082,
          "count": 52,
          "label": "PLUS.P"
         },
         {
          "X": 2.189912796020508,
          "Y": -0.3414364457130432,
          "count": 52,
          "label": "PLUS.P"
         },
         {
          "X": 0.12445073574781418,
          "Y": 0.05000607669353485,
          "count": 52,
          "label": "PLUS.P"
         },
         {
          "X": -0.010860791429877281,
          "Y": 0.7860143780708313,
          "count": 52,
          "label": "PLUS.P"
         },
         {
          "X": 0.4047434628009796,
          "Y": 2.6628003120422363,
          "count": 52,
          "label": "PLUS.P"
         },
         {
          "X": -0.010860791429877281,
          "Y": 0.7860143780708313,
          "count": 52,
          "label": "PLUS.P"
         },
         {
          "X": 1.7958910465240479,
          "Y": -1.4791693687438965,
          "count": 52,
          "label": "PLUS.P"
         },
         {
          "X": 1.5444684028625488,
          "Y": -2.3124451637268066,
          "count": 52,
          "label": "PLUS.P"
         },
         {
          "X": 0.12445073574781418,
          "Y": 0.05000607669353485,
          "count": 52,
          "label": "PLUS.P"
         },
         {
          "X": 0.8493266105651855,
          "Y": 0.3709956705570221,
          "count": 52,
          "label": "PLUS.P"
         },
         {
          "X": 0.7133759260177612,
          "Y": 1.2155088186264038,
          "count": 52,
          "label": "PLUS.P"
         },
         {
          "X": 1.1252766847610474,
          "Y": -1.8188939094543457,
          "count": 52,
          "label": "PLUS.P"
         },
         {
          "X": 1.9337143898010254,
          "Y": 0.7559248805046082,
          "count": 52,
          "label": "PLUS.P"
         },
         {
          "X": 0.7769594192504883,
          "Y": -0.937835156917572,
          "count": 52,
          "label": "PLUS.P"
         },
         {
          "X": -1.3455700874328613,
          "Y": 1.0156828165054321,
          "count": 52,
          "label": "PLUS.P"
         },
         {
          "X": 0.12445073574781418,
          "Y": 0.05000607669353485,
          "count": 52,
          "label": "PLUS.P"
         },
         {
          "X": 1.9337143898010254,
          "Y": 0.7559248805046082,
          "count": 52,
          "label": "PLUS.P"
         },
         {
          "X": -0.8932654857635498,
          "Y": 2.2788407802581787,
          "count": 52,
          "label": "PLUS.P"
         },
         {
          "X": -2.094820976257324,
          "Y": 0.9459067583084106,
          "count": 52,
          "label": "PLUS.P"
         },
         {
          "X": 0.054940976202487946,
          "Y": 1.9244228601455688,
          "count": 52,
          "label": "PLUS.P"
         },
         {
          "X": 2.8062100410461426,
          "Y": 0.41145914793014526,
          "count": 52,
          "label": "PLUS.P"
         },
         {
          "X": 1.7958910465240479,
          "Y": -1.4791693687438965,
          "count": 52,
          "label": "PLUS.P"
         },
         {
          "X": 1.565230369567871,
          "Y": 0.3735778033733368,
          "count": 52,
          "label": "PLUS.P"
         },
         {
          "X": 1.9337143898010254,
          "Y": 0.7559248805046082,
          "count": 52,
          "label": "PLUS.P"
         },
         {
          "X": 0.8493266105651855,
          "Y": 0.3709956705570221,
          "count": 52,
          "label": "PLUS.P"
         },
         {
          "X": 0.9383410811424255,
          "Y": -0.30791112780570984,
          "count": 52,
          "label": "PLUS.P"
         },
         {
          "X": 1.7958910465240479,
          "Y": -1.4791693687438965,
          "count": 52,
          "label": "PLUS.P"
         },
         {
          "X": 1.4603018760681152,
          "Y": 1.5007543563842773,
          "count": 52,
          "label": "PLUS.P"
         },
         {
          "X": -1.433718204498291,
          "Y": -1.7712657451629639,
          "count": 52,
          "label": "PLUS.P"
         },
         {
          "X": 0.12445073574781418,
          "Y": 0.05000607669353485,
          "count": 52,
          "label": "PLUS.P"
         },
         {
          "X": 1.3840988874435425,
          "Y": -0.24738861620426178,
          "count": 52,
          "label": "PLUS.P"
         },
         {
          "X": 1.5444684028625488,
          "Y": -2.3124451637268066,
          "count": 52,
          "label": "PLUS.P"
         },
         {
          "X": -1.3455700874328613,
          "Y": 1.0156828165054321,
          "count": 52,
          "label": "PLUS.P"
         },
         {
          "X": 0.7133759260177612,
          "Y": 1.2155088186264038,
          "count": 52,
          "label": "PLUS.P"
         },
         {
          "X": 0.4047434628009796,
          "Y": 2.6628003120422363,
          "count": 52,
          "label": "PLUS.P"
         },
         {
          "X": 0.8493266105651855,
          "Y": 0.3709956705570221,
          "count": 52,
          "label": "PLUS.P"
         },
         {
          "X": 0.7769594192504883,
          "Y": -0.937835156917572,
          "count": 52,
          "label": "PLUS.P"
         },
         {
          "X": 1.9337143898010254,
          "Y": 0.7559248805046082,
          "count": 52,
          "label": "PLUS.P"
         },
         {
          "X": 2.356484889984131,
          "Y": 1.6304043531417847,
          "count": 52,
          "label": "PLUS.P"
         },
         {
          "X": -0.038906216621398926,
          "Y": -1.3321967124938965,
          "count": 52,
          "label": "PLUS.P"
         },
         {
          "X": -1.664787769317627,
          "Y": 1.7272974252700806,
          "count": 52,
          "label": "PLUS.P"
         },
         {
          "X": -0.010860791429877281,
          "Y": 0.7860143780708313,
          "count": 52,
          "label": "PLUS.P"
         },
         {
          "X": 0.7809913158416748,
          "Y": -2.468172311782837,
          "count": 52,
          "label": "PLUS.P"
         },
         {
          "X": 1.227840542793274,
          "Y": 1.0427117347717285,
          "count": 52,
          "label": "PLUS.P"
         },
         {
          "X": -0.20227792859077454,
          "Y": 2.6058075428009033,
          "count": 116,
          "label": "GSIGN"
         },
         {
          "X": 0.12445073574781418,
          "Y": 0.05000607669353485,
          "count": 116,
          "label": "GSIGN"
         },
         {
          "X": -1.664787769317627,
          "Y": 1.7272974252700806,
          "count": 116,
          "label": "GSIGN"
         },
         {
          "X": -0.2342323362827301,
          "Y": -2.38041090965271,
          "count": 116,
          "label": "GSIGN"
         },
         {
          "X": -1.4223387241363525,
          "Y": -1.1469751596450806,
          "count": 116,
          "label": "GSIGN"
         },
         {
          "X": 0.12445073574781418,
          "Y": 0.05000607669353485,
          "count": 116,
          "label": "GSIGN"
         },
         {
          "X": 0.9383410811424255,
          "Y": -0.30791112780570984,
          "count": 116,
          "label": "GSIGN"
         },
         {
          "X": 0.7769594192504883,
          "Y": -0.937835156917572,
          "count": 116,
          "label": "GSIGN"
         },
         {
          "X": -1.433718204498291,
          "Y": -1.7712657451629639,
          "count": 116,
          "label": "GSIGN"
         },
         {
          "X": 1.9539906978607178,
          "Y": 2.177903652191162,
          "count": 116,
          "label": "GSIGN"
         },
         {
          "X": -0.7744936347007751,
          "Y": 0.43829581141471863,
          "count": 116,
          "label": "GSIGN"
         },
         {
          "X": -0.038906216621398926,
          "Y": -1.3321967124938965,
          "count": 116,
          "label": "GSIGN"
         },
         {
          "X": 0.5059654712677002,
          "Y": -0.36345821619033813,
          "count": 116,
          "label": "GSIGN"
         },
         {
          "X": -2.330791473388672,
          "Y": 0.45270487666130066,
          "count": 116,
          "label": "GSIGN"
         },
         {
          "X": 0.8493266105651855,
          "Y": 0.3709956705570221,
          "count": 116,
          "label": "GSIGN"
         },
         {
          "X": 0.12445073574781418,
          "Y": 0.05000607669353485,
          "count": 116,
          "label": "GSIGN"
         },
         {
          "X": -0.6066305637359619,
          "Y": 0.047458481043577194,
          "count": 116,
          "label": "GSIGN"
         },
         {
          "X": 0.12445073574781418,
          "Y": 0.05000607669353485,
          "count": 116,
          "label": "GSIGN"
         },
         {
          "X": 1.5576236248016357,
          "Y": 0.37839797139167786,
          "count": 116,
          "label": "GSIGN"
         },
         {
          "X": 2.189912796020508,
          "Y": -0.3414364457130432,
          "count": 116,
          "label": "GSIGN"
         },
         {
          "X": 0.311575323343277,
          "Y": -2.505739450454712,
          "count": 116,
          "label": "GSIGN"
         },
         {
          "X": 2.923506736755371,
          "Y": -0.958000123500824,
          "count": 116,
          "label": "GSIGN"
         },
         {
          "X": 2.6689469814300537,
          "Y": -1.2330992221832275,
          "count": 116,
          "label": "GSIGN"
         },
         {
          "X": -2.168177843093872,
          "Y": -0.8271084427833557,
          "count": 116,
          "label": "GSIGN"
         },
         {
          "X": -2.1734933853149414,
          "Y": -0.8107757568359375,
          "count": 116,
          "label": "GSIGN"
         },
         {
          "X": -0.5734463334083557,
          "Y": 1.4404056072235107,
          "count": 116,
          "label": "GSIGN"
         },
         {
          "X": 0.3275226056575775,
          "Y": 1.327501893043518,
          "count": 116,
          "label": "GSIGN"
         },
         {
          "X": 0.06318021565675735,
          "Y": 1.9193215370178223,
          "count": 116,
          "label": "GSIGN"
         },
         {
          "X": 2.923506736755371,
          "Y": -0.958000123500824,
          "count": 116,
          "label": "GSIGN"
         },
         {
          "X": 0.3275226056575775,
          "Y": 1.327501893043518,
          "count": 116,
          "label": "GSIGN"
         },
         {
          "X": -0.5263254046440125,
          "Y": -0.5030304193496704,
          "count": 116,
          "label": "GSIGN"
         },
         {
          "X": 0.12445073574781418,
          "Y": 0.05000607669353485,
          "count": 116,
          "label": "GSIGN"
         },
         {
          "X": 1.0381417274475098,
          "Y": 2.305878162384033,
          "count": 116,
          "label": "GSIGN"
         },
         {
          "X": -1.4223387241363525,
          "Y": -1.1469751596450806,
          "count": 116,
          "label": "GSIGN"
         },
         {
          "X": 0.8493266105651855,
          "Y": 0.3709956705570221,
          "count": 116,
          "label": "GSIGN"
         },
         {
          "X": -0.038906216621398926,
          "Y": -1.3321967124938965,
          "count": 116,
          "label": "GSIGN"
         },
         {
          "X": 0.8493266105651855,
          "Y": 0.3709956705570221,
          "count": 116,
          "label": "GSIGN"
         },
         {
          "X": 0.7133759260177612,
          "Y": 1.2155088186264038,
          "count": 116,
          "label": "GSIGN"
         },
         {
          "X": -1.433718204498291,
          "Y": -1.7712657451629639,
          "count": 116,
          "label": "GSIGN"
         },
         {
          "X": 0.5059654712677002,
          "Y": -0.36345821619033813,
          "count": 116,
          "label": "GSIGN"
         },
         {
          "X": 1.227840542793274,
          "Y": 1.0427117347717285,
          "count": 116,
          "label": "GSIGN"
         },
         {
          "X": 2.796124219894409,
          "Y": 0.428219199180603,
          "count": 116,
          "label": "GSIGN"
         },
         {
          "X": -0.038906216621398926,
          "Y": -1.3321967124938965,
          "count": 116,
          "label": "GSIGN"
         },
         {
          "X": -0.7520882487297058,
          "Y": -0.2695270776748657,
          "count": 116,
          "label": "GSIGN"
         },
         {
          "X": -0.5263254046440125,
          "Y": -0.5030304193496704,
          "count": 116,
          "label": "GSIGN"
         },
         {
          "X": -0.7458605766296387,
          "Y": 2.3939642906188965,
          "count": 116,
          "label": "GSIGN"
         },
         {
          "X": -1.34554123878479,
          "Y": 0.9518899321556091,
          "count": 116,
          "label": "GSIGN"
         },
         {
          "X": 1.4603018760681152,
          "Y": 1.5007543563842773,
          "count": 116,
          "label": "GSIGN"
         },
         {
          "X": 0.12445073574781418,
          "Y": 0.05000607669353485,
          "count": 116,
          "label": "GSIGN"
         },
         {
          "X": 2.2986629009246826,
          "Y": -2.04585337638855,
          "count": 116,
          "label": "GSIGN"
         },
         {
          "X": 3.119617223739624,
          "Y": -0.13792037963867188,
          "count": 116,
          "label": "GSIGN"
         },
         {
          "X": 0.7769594192504883,
          "Y": -0.937835156917572,
          "count": 116,
          "label": "GSIGN"
         },
         {
          "X": 0.2876945436000824,
          "Y": 1.8856663703918457,
          "count": 116,
          "label": "GSIGN"
         },
         {
          "X": 3.119617223739624,
          "Y": -0.13792037963867188,
          "count": 116,
          "label": "GSIGN"
         },
         {
          "X": 0.8493266105651855,
          "Y": 0.3709956705570221,
          "count": 116,
          "label": "GSIGN"
         },
         {
          "X": 0.08518155664205551,
          "Y": -0.5668357610702515,
          "count": 116,
          "label": "GSIGN"
         },
         {
          "X": 1.5444684028625488,
          "Y": -2.3124451637268066,
          "count": 116,
          "label": "GSIGN"
         },
         {
          "X": -0.7744936347007751,
          "Y": 0.43829581141471863,
          "count": 116,
          "label": "GSIGN"
         },
         {
          "X": -1.3457872867584229,
          "Y": 0.9522409439086914,
          "count": 116,
          "label": "GSIGN"
         },
         {
          "X": 0.8493266105651855,
          "Y": 0.3709956705570221,
          "count": 116,
          "label": "GSIGN"
         },
         {
          "X": 1.490423321723938,
          "Y": -0.8618544936180115,
          "count": 116,
          "label": "GSIGN"
         },
         {
          "X": 0.9383410811424255,
          "Y": -0.30791112780570984,
          "count": 116,
          "label": "GSIGN"
         },
         {
          "X": -0.038906216621398926,
          "Y": -1.3321967124938965,
          "count": 116,
          "label": "GSIGN"
         },
         {
          "X": 1.7958910465240479,
          "Y": -1.4791693687438965,
          "count": 116,
          "label": "GSIGN"
         },
         {
          "X": 0.7133759260177612,
          "Y": 1.2155088186264038,
          "count": 116,
          "label": "GSIGN"
         },
         {
          "X": 0.5004889369010925,
          "Y": -0.3752165734767914,
          "count": 116,
          "label": "GSIGN"
         },
         {
          "X": 0.5043330192565918,
          "Y": -0.36959728598594666,
          "count": 116,
          "label": "GSIGN"
         },
         {
          "X": 1.0381417274475098,
          "Y": 2.305878162384033,
          "count": 116,
          "label": "GSIGN"
         },
         {
          "X": -0.7520882487297058,
          "Y": -0.2695270776748657,
          "count": 116,
          "label": "GSIGN"
         },
         {
          "X": -1.433718204498291,
          "Y": -1.7712657451629639,
          "count": 116,
          "label": "GSIGN"
         },
         {
          "X": 0.7769594192504883,
          "Y": -0.937835156917572,
          "count": 116,
          "label": "GSIGN"
         },
         {
          "X": -1.3968206644058228,
          "Y": -0.7054904103279114,
          "count": 116,
          "label": "GSIGN"
         },
         {
          "X": 0.9383410811424255,
          "Y": -0.30791112780570984,
          "count": 116,
          "label": "GSIGN"
         },
         {
          "X": -1.3000863790512085,
          "Y": 1.9862135648727417,
          "count": 116,
          "label": "GSIGN"
         },
         {
          "X": 0.7809913158416748,
          "Y": -2.468172311782837,
          "count": 116,
          "label": "GSIGN"
         },
         {
          "X": 0.9383410811424255,
          "Y": -0.30791112780570984,
          "count": 116,
          "label": "GSIGN"
         },
         {
          "X": 0.12445073574781418,
          "Y": 0.05000607669353485,
          "count": 116,
          "label": "GSIGN"
         },
         {
          "X": -0.038906216621398926,
          "Y": -1.3321967124938965,
          "count": 116,
          "label": "GSIGN"
         },
         {
          "X": -0.535822331905365,
          "Y": -0.45780566334724426,
          "count": 116,
          "label": "GSIGN"
         },
         {
          "X": 1.0381417274475098,
          "Y": 2.305878162384033,
          "count": 116,
          "label": "GSIGN"
         },
         {
          "X": 0.12445073574781418,
          "Y": 0.05000607669353485,
          "count": 116,
          "label": "GSIGN"
         },
         {
          "X": -1.433718204498291,
          "Y": -1.7712657451629639,
          "count": 116,
          "label": "GSIGN"
         },
         {
          "X": -0.010860791429877281,
          "Y": 0.7860143780708313,
          "count": 116,
          "label": "GSIGN"
         },
         {
          "X": 0.19849514961242676,
          "Y": 2.5399622917175293,
          "count": 116,
          "label": "GSIGN"
         },
         {
          "X": -0.2342323362827301,
          "Y": -2.38041090965271,
          "count": 116,
          "label": "GSIGN"
         },
         {
          "X": 0.9383410811424255,
          "Y": -0.30791112780570984,
          "count": 116,
          "label": "GSIGN"
         },
         {
          "X": 0.7133759260177612,
          "Y": 1.2155088186264038,
          "count": 116,
          "label": "GSIGN"
         },
         {
          "X": -0.8002203106880188,
          "Y": -1.5430399179458618,
          "count": 116,
          "label": "GSIGN"
         },
         {
          "X": 0.12445073574781418,
          "Y": 0.05000607669353485,
          "count": 116,
          "label": "GSIGN"
         },
         {
          "X": 0.12445073574781418,
          "Y": 0.05000607669353485,
          "count": 116,
          "label": "GSIGN"
         },
         {
          "X": 1.227840542793274,
          "Y": 1.0427117347717285,
          "count": 116,
          "label": "GSIGN"
         },
         {
          "X": 2.923506736755371,
          "Y": -0.958000123500824,
          "count": 116,
          "label": "GSIGN"
         },
         {
          "X": -0.038906216621398926,
          "Y": -1.3321967124938965,
          "count": 116,
          "label": "GSIGN"
         },
         {
          "X": 0.6420198082923889,
          "Y": -1.793840765953064,
          "count": 116,
          "label": "GSIGN"
         },
         {
          "X": 0.7769594192504883,
          "Y": -0.937835156917572,
          "count": 116,
          "label": "GSIGN"
         },
         {
          "X": -0.010860791429877281,
          "Y": 0.7860143780708313,
          "count": 116,
          "label": "GSIGN"
         },
         {
          "X": 0.8493266105651855,
          "Y": 0.3709956705570221,
          "count": 116,
          "label": "GSIGN"
         },
         {
          "X": -0.010860791429877281,
          "Y": 0.7860143780708313,
          "count": 116,
          "label": "GSIGN"
         },
         {
          "X": 0.9383410811424255,
          "Y": -0.30791112780570984,
          "count": 116,
          "label": "GSIGN"
         },
         {
          "X": 0.12445073574781418,
          "Y": 0.05000607669353485,
          "count": 116,
          "label": "GSIGN"
         },
         {
          "X": 1.7958910465240479,
          "Y": -1.4791693687438965,
          "count": 116,
          "label": "GSIGN"
         },
         {
          "X": -1.0455948114395142,
          "Y": 0.62473464012146,
          "count": 116,
          "label": "GSIGN"
         },
         {
          "X": 0.12445073574781418,
          "Y": 0.05000607669353485,
          "count": 116,
          "label": "GSIGN"
         },
         {
          "X": -2.094820976257324,
          "Y": 0.9459067583084106,
          "count": 116,
          "label": "GSIGN"
         },
         {
          "X": -0.010860791429877281,
          "Y": 0.7860143780708313,
          "count": 116,
          "label": "GSIGN"
         },
         {
          "X": -0.8977599740028381,
          "Y": -2.1725804805755615,
          "count": 116,
          "label": "GSIGN"
         },
         {
          "X": -0.038906216621398926,
          "Y": -1.3321967124938965,
          "count": 116,
          "label": "GSIGN"
         },
         {
          "X": 2.189912796020508,
          "Y": -0.3414364457130432,
          "count": 116,
          "label": "GSIGN"
         },
         {
          "X": -0.038906216621398926,
          "Y": -1.3321967124938965,
          "count": 116,
          "label": "GSIGN"
         },
         {
          "X": 0.12445073574781418,
          "Y": 0.05000607669353485,
          "count": 116,
          "label": "GSIGN"
         },
         {
          "X": 1.9337143898010254,
          "Y": 0.7559248805046082,
          "count": 116,
          "label": "GSIGN"
         },
         {
          "X": -1.3455700874328613,
          "Y": 1.0156828165054321,
          "count": 116,
          "label": "GSIGN"
         },
         {
          "X": -1.433718204498291,
          "Y": -1.7712657451629639,
          "count": 116,
          "label": "GSIGN"
         },
         {
          "X": 0.8493266105651855,
          "Y": 0.3709956705570221,
          "count": 116,
          "label": "GSIGN"
         },
         {
          "X": -1.3374443054199219,
          "Y": 0.9789514541625977,
          "count": 116,
          "label": "GSIGN"
         },
         {
          "X": -1.3968206644058228,
          "Y": -0.7054904103279114,
          "count": 116,
          "label": "GSIGN"
         },
         {
          "X": 0.7769594192504883,
          "Y": -0.937835156917572,
          "count": 69,
          "label": "FALLOIR"
         },
         {
          "X": 0.7133759260177612,
          "Y": 1.2155088186264038,
          "count": 69,
          "label": "FALLOIR"
         },
         {
          "X": 0.006693319883197546,
          "Y": -0.5674325227737427,
          "count": 69,
          "label": "FALLOIR"
         },
         {
          "X": 2.189912796020508,
          "Y": -0.3414364457130432,
          "count": 69,
          "label": "FALLOIR"
         },
         {
          "X": 0.9383410811424255,
          "Y": -0.30791112780570984,
          "count": 69,
          "label": "FALLOIR"
         },
         {
          "X": 2.5816004276275635,
          "Y": -1.5323636531829834,
          "count": 69,
          "label": "FALLOIR"
         },
         {
          "X": 1.9539906978607178,
          "Y": 2.177903652191162,
          "count": 69,
          "label": "FALLOIR"
         },
         {
          "X": 2.189912796020508,
          "Y": -0.3414364457130432,
          "count": 69,
          "label": "FALLOIR"
         },
         {
          "X": 0.12445073574781418,
          "Y": 0.05000607669353485,
          "count": 69,
          "label": "FALLOIR"
         },
         {
          "X": 0.7769594192504883,
          "Y": -0.937835156917572,
          "count": 69,
          "label": "FALLOIR"
         },
         {
          "X": 1.5617005825042725,
          "Y": 0.3695625364780426,
          "count": 69,
          "label": "FALLOIR"
         },
         {
          "X": -1.4802589416503906,
          "Y": -0.13927695155143738,
          "count": 69,
          "label": "FALLOIR"
         },
         {
          "X": 0.5004889369010925,
          "Y": -0.3752165734767914,
          "count": 69,
          "label": "FALLOIR"
         },
         {
          "X": 0.7133759260177612,
          "Y": 1.2155088186264038,
          "count": 69,
          "label": "FALLOIR"
         },
         {
          "X": -2.1325340270996094,
          "Y": -0.914607584476471,
          "count": 69,
          "label": "FALLOIR"
         },
         {
          "X": -0.5316834449768066,
          "Y": -0.3826110363006592,
          "count": 69,
          "label": "FALLOIR"
         },
         {
          "X": -0.010860791429877281,
          "Y": 0.7860143780708313,
          "count": 69,
          "label": "FALLOIR"
         },
         {
          "X": 2.356484889984131,
          "Y": 1.6304043531417847,
          "count": 69,
          "label": "FALLOIR"
         },
         {
          "X": 0.5021993517875671,
          "Y": -0.3690900206565857,
          "count": 69,
          "label": "FALLOIR"
         },
         {
          "X": 0.5021163821220398,
          "Y": -0.36915501952171326,
          "count": 69,
          "label": "FALLOIR"
         },
         {
          "X": 0.054940976202487946,
          "Y": 1.9244228601455688,
          "count": 69,
          "label": "FALLOIR"
         },
         {
          "X": 1.7958910465240479,
          "Y": -1.4791693687438965,
          "count": 69,
          "label": "FALLOIR"
         },
         {
          "X": -0.010860791429877281,
          "Y": 0.7860143780708313,
          "count": 69,
          "label": "FALLOIR"
         },
         {
          "X": -2.1472415924072266,
          "Y": -0.8699626922607422,
          "count": 69,
          "label": "FALLOIR"
         },
         {
          "X": 2.8062100410461426,
          "Y": 0.41145914793014526,
          "count": 69,
          "label": "FALLOIR"
         },
         {
          "X": 2.189912796020508,
          "Y": -0.3414364457130432,
          "count": 69,
          "label": "FALLOIR"
         },
         {
          "X": -0.2342323362827301,
          "Y": -2.38041090965271,
          "count": 69,
          "label": "FALLOIR"
         },
         {
          "X": 1.0381417274475098,
          "Y": 2.305878162384033,
          "count": 69,
          "label": "FALLOIR"
         },
         {
          "X": 2.189912796020508,
          "Y": -0.3414364457130432,
          "count": 69,
          "label": "FALLOIR"
         },
         {
          "X": 1.7958910465240479,
          "Y": -1.4791693687438965,
          "count": 69,
          "label": "FALLOIR"
         },
         {
          "X": 0.9383410811424255,
          "Y": -0.30791112780570984,
          "count": 69,
          "label": "FALLOIR"
         },
         {
          "X": 1.0381417274475098,
          "Y": 2.305878162384033,
          "count": 69,
          "label": "FALLOIR"
         },
         {
          "X": -0.5316834449768066,
          "Y": -0.3826110363006592,
          "count": 69,
          "label": "FALLOIR"
         },
         {
          "X": 0.12445073574781418,
          "Y": 0.05000607669353485,
          "count": 69,
          "label": "FALLOIR"
         },
         {
          "X": -0.5316834449768066,
          "Y": -0.3826110363006592,
          "count": 69,
          "label": "FALLOIR"
         },
         {
          "X": 1.227840542793274,
          "Y": 1.0427117347717285,
          "count": 69,
          "label": "FALLOIR"
         },
         {
          "X": -1.4802589416503906,
          "Y": -0.13927695155143738,
          "count": 69,
          "label": "FALLOIR"
         },
         {
          "X": -0.010860791429877281,
          "Y": 0.7860143780708313,
          "count": 69,
          "label": "FALLOIR"
         },
         {
          "X": 2.356484889984131,
          "Y": 1.6304043531417847,
          "count": 69,
          "label": "FALLOIR"
         },
         {
          "X": -0.573866069316864,
          "Y": 0.29519519209861755,
          "count": 69,
          "label": "FALLOIR"
         },
         {
          "X": -0.7744936347007751,
          "Y": 0.43829581141471863,
          "count": 69,
          "label": "FALLOIR"
         },
         {
          "X": 0.12445073574781418,
          "Y": 0.05000607669353485,
          "count": 69,
          "label": "FALLOIR"
         },
         {
          "X": -0.2342323362827301,
          "Y": -2.38041090965271,
          "count": 69,
          "label": "FALLOIR"
         },
         {
          "X": 2.189912796020508,
          "Y": -0.3414364457130432,
          "count": 69,
          "label": "FALLOIR"
         },
         {
          "X": -1.0455948114395142,
          "Y": 0.62473464012146,
          "count": 69,
          "label": "FALLOIR"
         },
         {
          "X": 1.562938928604126,
          "Y": -0.99180668592453,
          "count": 69,
          "label": "FALLOIR"
         },
         {
          "X": 1.9539906978607178,
          "Y": 2.177903652191162,
          "count": 69,
          "label": "FALLOIR"
         },
         {
          "X": 1.3840988874435425,
          "Y": -0.24738861620426178,
          "count": 69,
          "label": "FALLOIR"
         },
         {
          "X": 1.0381417274475098,
          "Y": 2.305878162384033,
          "count": 69,
          "label": "FALLOIR"
         },
         {
          "X": -0.7458605766296387,
          "Y": 2.3939642906188965,
          "count": 69,
          "label": "FALLOIR"
         },
         {
          "X": 1.228036642074585,
          "Y": 1.042841911315918,
          "count": 69,
          "label": "FALLOIR"
         },
         {
          "X": 1.490423321723938,
          "Y": -0.8618544936180115,
          "count": 69,
          "label": "FALLOIR"
         },
         {
          "X": 2.189912796020508,
          "Y": -0.3414364457130432,
          "count": 69,
          "label": "FALLOIR"
         },
         {
          "X": 0.8493266105651855,
          "Y": 0.3709956705570221,
          "count": 69,
          "label": "FALLOIR"
         },
         {
          "X": 0.311575323343277,
          "Y": -2.505739450454712,
          "count": 69,
          "label": "FALLOIR"
         },
         {
          "X": -2.094820976257324,
          "Y": 0.9459067583084106,
          "count": 69,
          "label": "FALLOIR"
         },
         {
          "X": 0.12445073574781418,
          "Y": 0.05000607669353485,
          "count": 69,
          "label": "FALLOIR"
         },
         {
          "X": 0.8493266105651855,
          "Y": 0.3709956705570221,
          "count": 69,
          "label": "FALLOIR"
         },
         {
          "X": 0.12445073574781418,
          "Y": 0.05000607669353485,
          "count": 69,
          "label": "FALLOIR"
         },
         {
          "X": 0.10488466173410416,
          "Y": -0.5608643889427185,
          "count": 69,
          "label": "FALLOIR"
         },
         {
          "X": -0.5734463334083557,
          "Y": 1.4404056072235107,
          "count": 69,
          "label": "FALLOIR"
         },
         {
          "X": -0.010860791429877281,
          "Y": 0.7860143780708313,
          "count": 69,
          "label": "FALLOIR"
         },
         {
          "X": 1.7958910465240479,
          "Y": -1.4791693687438965,
          "count": 69,
          "label": "FALLOIR"
         },
         {
          "X": 2.8399338722229004,
          "Y": 0.9212411046028137,
          "count": 69,
          "label": "FALLOIR"
         },
         {
          "X": 1.490423321723938,
          "Y": -0.8618544936180115,
          "count": 69,
          "label": "FALLOIR"
         },
         {
          "X": -0.7520882487297058,
          "Y": -0.2695270776748657,
          "count": 69,
          "label": "FALLOIR"
         },
         {
          "X": 0.8493266105651855,
          "Y": 0.3709956705570221,
          "count": 69,
          "label": "FALLOIR"
         },
         {
          "X": 0.3275226056575775,
          "Y": 1.327501893043518,
          "count": 69,
          "label": "FALLOIR"
         },
         {
          "X": 1.5617005825042725,
          "Y": 0.3695625364780426,
          "count": 69,
          "label": "FALLOIR"
         },
         {
          "X": -0.038906216621398926,
          "Y": -1.3321967124938965,
          "count": 75,
          "label": "AVOIR "
         },
         {
          "X": -2.168604612350464,
          "Y": -0.8256732225418091,
          "count": 75,
          "label": "AVOIR "
         },
         {
          "X": 0.19849514961242676,
          "Y": 2.5399622917175293,
          "count": 75,
          "label": "AVOIR "
         },
         {
          "X": 0.311575323343277,
          "Y": -2.505739450454712,
          "count": 75,
          "label": "AVOIR "
         },
         {
          "X": -0.7744936347007751,
          "Y": 0.43829581141471863,
          "count": 75,
          "label": "AVOIR "
         },
         {
          "X": -0.038906216621398926,
          "Y": -1.3321967124938965,
          "count": 75,
          "label": "AVOIR "
         },
         {
          "X": -0.010860791429877281,
          "Y": 0.7860143780708313,
          "count": 75,
          "label": "AVOIR "
         },
         {
          "X": 0.8493266105651855,
          "Y": 0.3709956705570221,
          "count": 75,
          "label": "AVOIR "
         },
         {
          "X": 0.12445073574781418,
          "Y": 0.05000607669353485,
          "count": 75,
          "label": "AVOIR "
         },
         {
          "X": -0.7520882487297058,
          "Y": -0.2695270776748657,
          "count": 75,
          "label": "AVOIR "
         },
         {
          "X": 0.08518155664205551,
          "Y": -0.5668357610702515,
          "count": 75,
          "label": "AVOIR "
         },
         {
          "X": -0.6066305637359619,
          "Y": 0.047458481043577194,
          "count": 75,
          "label": "AVOIR "
         },
         {
          "X": 0.2876945436000824,
          "Y": 1.8856663703918457,
          "count": 75,
          "label": "AVOIR "
         },
         {
          "X": 0.9383410811424255,
          "Y": -0.30791112780570984,
          "count": 75,
          "label": "AVOIR "
         },
         {
          "X": 0.7133759260177612,
          "Y": 1.2155088186264038,
          "count": 75,
          "label": "AVOIR "
         },
         {
          "X": 1.3840988874435425,
          "Y": -0.24738861620426178,
          "count": 75,
          "label": "AVOIR "
         },
         {
          "X": 0.8493266105651855,
          "Y": 0.3709956705570221,
          "count": 75,
          "label": "AVOIR "
         },
         {
          "X": 1.0381417274475098,
          "Y": 2.305878162384033,
          "count": 75,
          "label": "AVOIR "
         },
         {
          "X": 0.8493266105651855,
          "Y": 0.3709956705570221,
          "count": 75,
          "label": "AVOIR "
         },
         {
          "X": 2.5976979732513428,
          "Y": 1.3837021589279175,
          "count": 75,
          "label": "AVOIR "
         },
         {
          "X": 2.8062100410461426,
          "Y": 0.41145914793014526,
          "count": 75,
          "label": "AVOIR "
         },
         {
          "X": -0.010860791429877281,
          "Y": 0.7860143780708313,
          "count": 75,
          "label": "AVOIR "
         },
         {
          "X": 1.7958910465240479,
          "Y": -1.4791693687438965,
          "count": 75,
          "label": "AVOIR "
         },
         {
          "X": 0.5037851333618164,
          "Y": -0.36826446652412415,
          "count": 75,
          "label": "AVOIR "
         },
         {
          "X": 0.7769594192504883,
          "Y": -0.937835156917572,
          "count": 75,
          "label": "AVOIR "
         },
         {
          "X": 2.8399338722229004,
          "Y": 0.9212411046028137,
          "count": 75,
          "label": "AVOIR "
         },
         {
          "X": 3.119617223739624,
          "Y": -0.13792037963867188,
          "count": 75,
          "label": "AVOIR "
         },
         {
          "X": -0.038906216621398926,
          "Y": -1.3321967124938965,
          "count": 75,
          "label": "AVOIR "
         },
         {
          "X": 1.9337143898010254,
          "Y": 0.7559248805046082,
          "count": 75,
          "label": "AVOIR "
         },
         {
          "X": -0.7744936347007751,
          "Y": 0.43829581141471863,
          "count": 75,
          "label": "AVOIR "
         },
         {
          "X": -0.5734463334083557,
          "Y": 1.4404056072235107,
          "count": 75,
          "label": "AVOIR "
         },
         {
          "X": -0.010860791429877281,
          "Y": 0.7860143780708313,
          "count": 75,
          "label": "AVOIR "
         },
         {
          "X": 1.4603018760681152,
          "Y": 1.5007543563842773,
          "count": 75,
          "label": "AVOIR "
         },
         {
          "X": 0.9383410811424255,
          "Y": -0.30791112780570984,
          "count": 75,
          "label": "AVOIR "
         },
         {
          "X": 1.1252766847610474,
          "Y": -1.8188939094543457,
          "count": 75,
          "label": "AVOIR "
         },
         {
          "X": 0.8493266105651855,
          "Y": 0.3709956705570221,
          "count": 75,
          "label": "AVOIR "
         },
         {
          "X": 0.3065185546875,
          "Y": -2.5074639320373535,
          "count": 75,
          "label": "AVOIR "
         },
         {
          "X": 0.030435696244239807,
          "Y": 1.9478543996810913,
          "count": 75,
          "label": "AVOIR "
         },
         {
          "X": 0.12445073574781418,
          "Y": 0.05000607669353485,
          "count": 75,
          "label": "AVOIR "
         },
         {
          "X": 1.5576236248016357,
          "Y": 0.37839797139167786,
          "count": 75,
          "label": "AVOIR "
         },
         {
          "X": 0.9383410811424255,
          "Y": -0.30791112780570984,
          "count": 75,
          "label": "AVOIR "
         },
         {
          "X": -2.2484381198883057,
          "Y": -0.08005529642105103,
          "count": 75,
          "label": "AVOIR "
         },
         {
          "X": 0.7769594192504883,
          "Y": -0.937835156917572,
          "count": 75,
          "label": "AVOIR "
         },
         {
          "X": 1.7958910465240479,
          "Y": -1.4791693687438965,
          "count": 75,
          "label": "AVOIR "
         },
         {
          "X": -0.5734463334083557,
          "Y": 1.4404056072235107,
          "count": 75,
          "label": "AVOIR "
         },
         {
          "X": 1.7958910465240479,
          "Y": -1.4791693687438965,
          "count": 75,
          "label": "AVOIR "
         },
         {
          "X": 1.9337143898010254,
          "Y": 0.7559248805046082,
          "count": 75,
          "label": "AVOIR "
         },
         {
          "X": 0.8493266105651855,
          "Y": 0.3709956705570221,
          "count": 75,
          "label": "AVOIR "
         },
         {
          "X": 0.8493266105651855,
          "Y": 0.3709956705570221,
          "count": 75,
          "label": "AVOIR "
         },
         {
          "X": -0.038906216621398926,
          "Y": -1.3321967124938965,
          "count": 75,
          "label": "AVOIR "
         },
         {
          "X": -0.535822331905365,
          "Y": -0.45780566334724426,
          "count": 75,
          "label": "AVOIR "
         },
         {
          "X": -0.010860791429877281,
          "Y": 0.7860143780708313,
          "count": 75,
          "label": "AVOIR "
         },
         {
          "X": 0.9383410811424255,
          "Y": -0.30791112780570984,
          "count": 75,
          "label": "AVOIR "
         },
         {
          "X": -0.038906216621398926,
          "Y": -1.3321967124938965,
          "count": 75,
          "label": "AVOIR "
         },
         {
          "X": 1.5576236248016357,
          "Y": 0.37839797139167786,
          "count": 75,
          "label": "AVOIR "
         },
         {
          "X": 1.7958910465240479,
          "Y": -1.4791693687438965,
          "count": 75,
          "label": "AVOIR "
         },
         {
          "X": -0.7458605766296387,
          "Y": 2.3939642906188965,
          "count": 75,
          "label": "AVOIR "
         },
         {
          "X": -2.094820976257324,
          "Y": 0.9459067583084106,
          "count": 75,
          "label": "AVOIR "
         },
         {
          "X": -1.0123517513275146,
          "Y": -0.5774029493331909,
          "count": 75,
          "label": "AVOIR "
         },
         {
          "X": 0.12445073574781418,
          "Y": 0.05000607669353485,
          "count": 75,
          "label": "AVOIR "
         },
         {
          "X": 0.12445073574781418,
          "Y": 0.05000607669353485,
          "count": 75,
          "label": "AVOIR "
         },
         {
          "X": -1.986215591430664,
          "Y": -1.3099150657653809,
          "count": 75,
          "label": "AVOIR "
         },
         {
          "X": 1.1252766847610474,
          "Y": -1.8188939094543457,
          "count": 75,
          "label": "AVOIR "
         },
         {
          "X": -1.3968206644058228,
          "Y": -0.7054904103279114,
          "count": 75,
          "label": "AVOIR "
         },
         {
          "X": 0.7769594192504883,
          "Y": -0.937835156917572,
          "count": 75,
          "label": "AVOIR "
         },
         {
          "X": -0.038906216621398926,
          "Y": -1.3321967124938965,
          "count": 75,
          "label": "AVOIR "
         },
         {
          "X": 1.4603018760681152,
          "Y": 1.5007543563842773,
          "count": 75,
          "label": "AVOIR "
         },
         {
          "X": 1.3840988874435425,
          "Y": -0.24738861620426178,
          "count": 75,
          "label": "AVOIR "
         },
         {
          "X": -0.5734463334083557,
          "Y": 1.4404056072235107,
          "count": 75,
          "label": "AVOIR "
         },
         {
          "X": -1.0455948114395142,
          "Y": 0.62473464012146,
          "count": 75,
          "label": "AVOIR "
         },
         {
          "X": 0.8493266105651855,
          "Y": 0.3709956705570221,
          "count": 75,
          "label": "AVOIR "
         },
         {
          "X": 1.9337143898010254,
          "Y": 0.7559248805046082,
          "count": 75,
          "label": "AVOIR "
         },
         {
          "X": -0.7744936347007751,
          "Y": 0.43829581141471863,
          "count": 75,
          "label": "AVOIR "
         },
         {
          "X": 0.054940976202487946,
          "Y": 1.9244228601455688,
          "count": 75,
          "label": "AVOIR "
         },
         {
          "X": 0.8493266105651855,
          "Y": 0.3709956705570221,
          "count": 75,
          "label": "AVOIR "
         },
         {
          "X": 1.1252766847610474,
          "Y": -1.8188939094543457,
          "count": 69,
          "label": "C-EST"
         },
         {
          "X": 0.5004889369010925,
          "Y": -0.3752165734767914,
          "count": 69,
          "label": "C-EST"
         },
         {
          "X": 2.8399338722229004,
          "Y": 0.9212411046028137,
          "count": 69,
          "label": "C-EST"
         },
         {
          "X": 2.189912796020508,
          "Y": -0.3414364457130432,
          "count": 69,
          "label": "C-EST"
         },
         {
          "X": -0.010860791429877281,
          "Y": 0.7860143780708313,
          "count": 69,
          "label": "C-EST"
         },
         {
          "X": 2.189912796020508,
          "Y": -0.3414364457130432,
          "count": 69,
          "label": "C-EST"
         },
         {
          "X": 0.8493266105651855,
          "Y": 0.3709956705570221,
          "count": 69,
          "label": "C-EST"
         },
         {
          "X": -1.3968206644058228,
          "Y": -0.7054904103279114,
          "count": 69,
          "label": "C-EST"
         },
         {
          "X": -0.5734463334083557,
          "Y": 1.4404056072235107,
          "count": 69,
          "label": "C-EST"
         },
         {
          "X": 2.8399338722229004,
          "Y": 0.9212411046028137,
          "count": 69,
          "label": "C-EST"
         },
         {
          "X": 0.006693319883197546,
          "Y": -0.5674325227737427,
          "count": 69,
          "label": "C-EST"
         },
         {
          "X": -0.7520882487297058,
          "Y": -0.2695270776748657,
          "count": 69,
          "label": "C-EST"
         },
         {
          "X": -0.010860791429877281,
          "Y": 0.7860143780708313,
          "count": 69,
          "label": "C-EST"
         },
         {
          "X": 2.8062100410461426,
          "Y": 0.41145914793014526,
          "count": 69,
          "label": "C-EST"
         },
         {
          "X": 0.8493266105651855,
          "Y": 0.3709956705570221,
          "count": 69,
          "label": "C-EST"
         },
         {
          "X": 0.9383410811424255,
          "Y": -0.30791112780570984,
          "count": 69,
          "label": "C-EST"
         },
         {
          "X": 0.8493266105651855,
          "Y": 0.3709956705570221,
          "count": 69,
          "label": "C-EST"
         },
         {
          "X": 1.490423321723938,
          "Y": -0.8618544936180115,
          "count": 69,
          "label": "C-EST"
         },
         {
          "X": -0.5727768540382385,
          "Y": 0.19141483306884766,
          "count": 69,
          "label": "C-EST"
         },
         {
          "X": -0.2342323362827301,
          "Y": -2.38041090965271,
          "count": 69,
          "label": "C-EST"
         },
         {
          "X": 3.123568058013916,
          "Y": -0.21168310940265656,
          "count": 69,
          "label": "C-EST"
         },
         {
          "X": -0.2342323362827301,
          "Y": -2.38041090965271,
          "count": 69,
          "label": "C-EST"
         },
         {
          "X": 0.12445073574781418,
          "Y": 0.05000607669353485,
          "count": 69,
          "label": "C-EST"
         },
         {
          "X": -0.8977599740028381,
          "Y": -2.1725804805755615,
          "count": 69,
          "label": "C-EST"
         },
         {
          "X": -0.010860791429877281,
          "Y": 0.7860143780708313,
          "count": 69,
          "label": "C-EST"
         },
         {
          "X": 0.8493266105651855,
          "Y": 0.3709956705570221,
          "count": 69,
          "label": "C-EST"
         },
         {
          "X": 1.1252766847610474,
          "Y": -1.8188939094543457,
          "count": 69,
          "label": "C-EST"
         },
         {
          "X": 1.9337143898010254,
          "Y": 0.7559248805046082,
          "count": 69,
          "label": "C-EST"
         },
         {
          "X": -1.3455700874328613,
          "Y": 1.0156828165054321,
          "count": 69,
          "label": "C-EST"
         },
         {
          "X": -0.010860791429877281,
          "Y": 0.7860143780708313,
          "count": 69,
          "label": "C-EST"
         },
         {
          "X": -0.038906216621398926,
          "Y": -1.3321967124938965,
          "count": 69,
          "label": "C-EST"
         },
         {
          "X": 0.8493266105651855,
          "Y": 0.3709956705570221,
          "count": 69,
          "label": "C-EST"
         },
         {
          "X": -0.20227792859077454,
          "Y": 2.6058075428009033,
          "count": 69,
          "label": "C-EST"
         },
         {
          "X": -0.038906216621398926,
          "Y": -1.3321967124938965,
          "count": 69,
          "label": "C-EST"
         },
         {
          "X": 0.7809913158416748,
          "Y": -2.468172311782837,
          "count": 69,
          "label": "C-EST"
         },
         {
          "X": 2.189912796020508,
          "Y": -0.3414364457130432,
          "count": 69,
          "label": "C-EST"
         },
         {
          "X": 1.9539906978607178,
          "Y": 2.177903652191162,
          "count": 69,
          "label": "C-EST"
         },
         {
          "X": 0.12445073574781418,
          "Y": 0.05000607669353485,
          "count": 69,
          "label": "C-EST"
         },
         {
          "X": 0.8493266105651855,
          "Y": 0.3709956705570221,
          "count": 69,
          "label": "C-EST"
         },
         {
          "X": 1.5444684028625488,
          "Y": -2.3124451637268066,
          "count": 69,
          "label": "C-EST"
         },
         {
          "X": -0.5734463334083557,
          "Y": 1.4404056072235107,
          "count": 69,
          "label": "C-EST"
         },
         {
          "X": -0.5263254046440125,
          "Y": -0.5030304193496704,
          "count": 69,
          "label": "C-EST"
         },
         {
          "X": 0.8493266105651855,
          "Y": 0.3709956705570221,
          "count": 69,
          "label": "C-EST"
         },
         {
          "X": -0.010860791429877281,
          "Y": 0.7860143780708313,
          "count": 69,
          "label": "C-EST"
         },
         {
          "X": 0.006693319883197546,
          "Y": -0.5674325227737427,
          "count": 69,
          "label": "C-EST"
         },
         {
          "X": -0.010860791429877281,
          "Y": 0.7860143780708313,
          "count": 69,
          "label": "C-EST"
         },
         {
          "X": 2.923506736755371,
          "Y": -0.958000123500824,
          "count": 69,
          "label": "C-EST"
         },
         {
          "X": 0.12445073574781418,
          "Y": 0.05000607669353485,
          "count": 69,
          "label": "C-EST"
         },
         {
          "X": -2.2484381198883057,
          "Y": -0.08005529642105103,
          "count": 69,
          "label": "C-EST"
         },
         {
          "X": 1.4603018760681152,
          "Y": 1.5007543563842773,
          "count": 69,
          "label": "C-EST"
         },
         {
          "X": 0.5037851333618164,
          "Y": -0.36826446652412415,
          "count": 69,
          "label": "C-EST"
         },
         {
          "X": -0.2342323362827301,
          "Y": -2.38041090965271,
          "count": 69,
          "label": "C-EST"
         },
         {
          "X": 0.7769594192504883,
          "Y": -0.937835156917572,
          "count": 69,
          "label": "C-EST"
         },
         {
          "X": 0.7133759260177612,
          "Y": 1.2155088186264038,
          "count": 69,
          "label": "C-EST"
         },
         {
          "X": -0.038906216621398926,
          "Y": -1.3321967124938965,
          "count": 69,
          "label": "C-EST"
         },
         {
          "X": 2.189912796020508,
          "Y": -0.3414364457130432,
          "count": 69,
          "label": "C-EST"
         },
         {
          "X": 1.3840988874435425,
          "Y": -0.24738861620426178,
          "count": 69,
          "label": "C-EST"
         },
         {
          "X": 1.9337143898010254,
          "Y": 0.7559248805046082,
          "count": 69,
          "label": "C-EST"
         },
         {
          "X": 1.0381417274475098,
          "Y": 2.305878162384033,
          "count": 69,
          "label": "C-EST"
         },
         {
          "X": 0.8493266105651855,
          "Y": 0.3709956705570221,
          "count": 69,
          "label": "C-EST"
         },
         {
          "X": -0.038906216621398926,
          "Y": -1.3321967124938965,
          "count": 69,
          "label": "C-EST"
         },
         {
          "X": 0.5059118270874023,
          "Y": -0.36350134015083313,
          "count": 69,
          "label": "C-EST"
         },
         {
          "X": -0.5734463334083557,
          "Y": 1.4404056072235107,
          "count": 69,
          "label": "C-EST"
         },
         {
          "X": 0.7561317086219788,
          "Y": -1.770358681678772,
          "count": 69,
          "label": "C-EST"
         },
         {
          "X": -0.7890880703926086,
          "Y": -1.0077091455459595,
          "count": 69,
          "label": "C-EST"
         },
         {
          "X": 0.12445073574781418,
          "Y": 0.05000607669353485,
          "count": 69,
          "label": "C-EST"
         },
         {
          "X": 2.8399338722229004,
          "Y": 0.9212411046028137,
          "count": 69,
          "label": "C-EST"
         },
         {
          "X": -0.010860791429877281,
          "Y": 0.7860143780708313,
          "count": 69,
          "label": "C-EST"
         },
         {
          "X": -0.6066305637359619,
          "Y": 0.047458481043577194,
          "count": 69,
          "label": "C-EST"
         },
         {
          "X": 1.9539906978607178,
          "Y": 2.177903652191162,
          "count": 72,
          "label": "SOURD"
         },
         {
          "X": -0.7520882487297058,
          "Y": -0.2695270776748657,
          "count": 72,
          "label": "SOURD"
         },
         {
          "X": 1.5617005825042725,
          "Y": 0.3695625364780426,
          "count": 72,
          "label": "SOURD"
         },
         {
          "X": -0.8977599740028381,
          "Y": -2.1725804805755615,
          "count": 72,
          "label": "SOURD"
         },
         {
          "X": 0.12445073574781418,
          "Y": 0.05000607669353485,
          "count": 72,
          "label": "SOURD"
         },
         {
          "X": -0.7827644348144531,
          "Y": -1.1214321851730347,
          "count": 72,
          "label": "SOURD"
         },
         {
          "X": -0.010860791429877281,
          "Y": 0.7860143780708313,
          "count": 72,
          "label": "SOURD"
         },
         {
          "X": -0.5727768540382385,
          "Y": 0.19141483306884766,
          "count": 72,
          "label": "SOURD"
         },
         {
          "X": 0.7133759260177612,
          "Y": 1.2155088186264038,
          "count": 72,
          "label": "SOURD"
         },
         {
          "X": 3.1168785095214844,
          "Y": -0.411366730928421,
          "count": 72,
          "label": "SOURD"
         },
         {
          "X": 1.5444684028625488,
          "Y": -2.3124451637268066,
          "count": 72,
          "label": "SOURD"
         },
         {
          "X": -2.094820976257324,
          "Y": 0.9459067583084106,
          "count": 72,
          "label": "SOURD"
         },
         {
          "X": 0.08518155664205551,
          "Y": -0.5668357610702515,
          "count": 72,
          "label": "SOURD"
         },
         {
          "X": 0.9383410811424255,
          "Y": -0.30791112780570984,
          "count": 72,
          "label": "SOURD"
         },
         {
          "X": -0.7744936347007751,
          "Y": 0.43829581141471863,
          "count": 72,
          "label": "SOURD"
         },
         {
          "X": -1.4802589416503906,
          "Y": -0.13927695155143738,
          "count": 72,
          "label": "SOURD"
         },
         {
          "X": 0.12445073574781418,
          "Y": 0.05000607669353485,
          "count": 72,
          "label": "SOURD"
         },
         {
          "X": -0.038906216621398926,
          "Y": -1.3321967124938965,
          "count": 72,
          "label": "SOURD"
         },
         {
          "X": 2.189912796020508,
          "Y": -0.3414364457130432,
          "count": 72,
          "label": "SOURD"
         },
         {
          "X": 2.2986629009246826,
          "Y": -2.04585337638855,
          "count": 72,
          "label": "SOURD"
         },
         {
          "X": 0.3275226056575775,
          "Y": 1.327501893043518,
          "count": 72,
          "label": "SOURD"
         },
         {
          "X": 0.7133759260177612,
          "Y": 1.2155088186264038,
          "count": 72,
          "label": "SOURD"
         },
         {
          "X": -1.4802589416503906,
          "Y": -0.13927695155143738,
          "count": 72,
          "label": "SOURD"
         },
         {
          "X": 0.12445073574781418,
          "Y": 0.05000607669353485,
          "count": 72,
          "label": "SOURD"
         },
         {
          "X": 0.12445073574781418,
          "Y": 0.05000607669353485,
          "count": 72,
          "label": "SOURD"
         },
         {
          "X": 1.7958910465240479,
          "Y": -1.4791693687438965,
          "count": 72,
          "label": "SOURD"
         },
         {
          "X": 1.7958910465240479,
          "Y": -1.4791693687438965,
          "count": 72,
          "label": "SOURD"
         },
         {
          "X": 0.9383410811424255,
          "Y": -0.30791112780570984,
          "count": 72,
          "label": "SOURD"
         },
         {
          "X": -0.7890880703926086,
          "Y": -1.0077091455459595,
          "count": 72,
          "label": "SOURD"
         },
         {
          "X": -1.0455948114395142,
          "Y": 0.62473464012146,
          "count": 72,
          "label": "SOURD"
         },
         {
          "X": 1.4874746799468994,
          "Y": -1.1944838762283325,
          "count": 72,
          "label": "SOURD"
         },
         {
          "X": 0.030435696244239807,
          "Y": 1.9478543996810913,
          "count": 72,
          "label": "SOURD"
         },
         {
          "X": 0.7809913158416748,
          "Y": -2.468172311782837,
          "count": 72,
          "label": "SOURD"
         },
         {
          "X": 1.9337143898010254,
          "Y": 0.7559248805046082,
          "count": 72,
          "label": "SOURD"
         },
         {
          "X": -1.4802589416503906,
          "Y": -0.13927695155143738,
          "count": 72,
          "label": "SOURD"
         },
         {
          "X": 0.7133759260177612,
          "Y": 1.2155088186264038,
          "count": 72,
          "label": "SOURD"
         },
         {
          "X": 2.7740659713745117,
          "Y": 0.4257631003856659,
          "count": 72,
          "label": "SOURD"
         },
         {
          "X": -0.2342323362827301,
          "Y": -2.38041090965271,
          "count": 72,
          "label": "SOURD"
         },
         {
          "X": 1.4603018760681152,
          "Y": 1.5007543563842773,
          "count": 72,
          "label": "SOURD"
         },
         {
          "X": 0.2876945436000824,
          "Y": 1.8856663703918457,
          "count": 72,
          "label": "SOURD"
         },
         {
          "X": -0.20227792859077454,
          "Y": 2.6058075428009033,
          "count": 72,
          "label": "SOURD"
         },
         {
          "X": 0.7133759260177612,
          "Y": 1.2155088186264038,
          "count": 72,
          "label": "SOURD"
         },
         {
          "X": 1.9337143898010254,
          "Y": 0.7559248805046082,
          "count": 72,
          "label": "SOURD"
         },
         {
          "X": 0.7331911325454712,
          "Y": -1.7729463577270508,
          "count": 72,
          "label": "SOURD"
         },
         {
          "X": -0.038906216621398926,
          "Y": -1.3321967124938965,
          "count": 72,
          "label": "SOURD"
         },
         {
          "X": -1.3455700874328613,
          "Y": 1.0156828165054321,
          "count": 72,
          "label": "SOURD"
         },
         {
          "X": 2.6804513931274414,
          "Y": -1.1999847888946533,
          "count": 72,
          "label": "SOURD"
         },
         {
          "X": -1.433718204498291,
          "Y": -1.7712657451629639,
          "count": 72,
          "label": "SOURD"
         },
         {
          "X": -0.038906216621398926,
          "Y": -1.3321967124938965,
          "count": 72,
          "label": "SOURD"
         },
         {
          "X": 0.8493266105651855,
          "Y": 0.3709956705570221,
          "count": 72,
          "label": "SOURD"
         },
         {
          "X": 1.3840988874435425,
          "Y": -0.24738861620426178,
          "count": 72,
          "label": "SOURD"
         },
         {
          "X": -2.168177843093872,
          "Y": -0.8271084427833557,
          "count": 72,
          "label": "SOURD"
         },
         {
          "X": -0.7744936347007751,
          "Y": 0.43829581141471863,
          "count": 72,
          "label": "SOURD"
         },
         {
          "X": -0.5734463334083557,
          "Y": 1.4404056072235107,
          "count": 72,
          "label": "SOURD"
         },
         {
          "X": 0.12445073574781418,
          "Y": 0.05000607669353485,
          "count": 72,
          "label": "SOURD"
         },
         {
          "X": -0.038906216621398926,
          "Y": -1.3321967124938965,
          "count": 72,
          "label": "SOURD"
         },
         {
          "X": 1.5576236248016357,
          "Y": 0.37839797139167786,
          "count": 72,
          "label": "SOURD"
         },
         {
          "X": 0.7769594192504883,
          "Y": -0.937835156917572,
          "count": 72,
          "label": "SOURD"
         },
         {
          "X": -0.010860791429877281,
          "Y": 0.7860143780708313,
          "count": 72,
          "label": "SOURD"
         },
         {
          "X": 2.5816004276275635,
          "Y": -1.5323636531829834,
          "count": 72,
          "label": "SOURD"
         },
         {
          "X": 0.9383410811424255,
          "Y": -0.30791112780570984,
          "count": 72,
          "label": "SOURD"
         },
         {
          "X": 0.7569299340248108,
          "Y": -1.7701759338378906,
          "count": 72,
          "label": "SOURD"
         },
         {
          "X": -0.038906216621398926,
          "Y": -1.3321967124938965,
          "count": 72,
          "label": "SOURD"
         },
         {
          "X": 0.5022168159484863,
          "Y": -0.369074285030365,
          "count": 72,
          "label": "SOURD"
         },
         {
          "X": -0.010860791429877281,
          "Y": 0.7860143780708313,
          "count": 72,
          "label": "SOURD"
         },
         {
          "X": 0.12445073574781418,
          "Y": 0.05000607669353485,
          "count": 72,
          "label": "SOURD"
         },
         {
          "X": -0.7744936347007751,
          "Y": 0.43829581141471863,
          "count": 72,
          "label": "SOURD"
         },
         {
          "X": 0.12445073574781418,
          "Y": 0.05000607669353485,
          "count": 72,
          "label": "SOURD"
         },
         {
          "X": 1.3840988874435425,
          "Y": -0.24738861620426178,
          "count": 72,
          "label": "SOURD"
         },
         {
          "X": 2.923506736755371,
          "Y": -0.958000123500824,
          "count": 72,
          "label": "SOURD"
         },
         {
          "X": 0.8493266105651855,
          "Y": 0.3709956705570221,
          "count": 72,
          "label": "SOURD"
         },
         {
          "X": 1.9539906978607178,
          "Y": 2.177903652191162,
          "count": 72,
          "label": "SOURD"
         },
         {
          "X": 0.8493266105651855,
          "Y": 0.3709956705570221,
          "count": 47,
          "label": "ENTENDANT"
         },
         {
          "X": 1.5444684028625488,
          "Y": -2.3124451637268066,
          "count": 47,
          "label": "ENTENDANT"
         },
         {
          "X": 2.5976979732513428,
          "Y": 1.3837021589279175,
          "count": 47,
          "label": "ENTENDANT"
         },
         {
          "X": -0.010860791429877281,
          "Y": 0.7860143780708313,
          "count": 47,
          "label": "ENTENDANT"
         },
         {
          "X": 0.19849514961242676,
          "Y": 2.5399622917175293,
          "count": 47,
          "label": "ENTENDANT"
         },
         {
          "X": -1.4223387241363525,
          "Y": -1.1469751596450806,
          "count": 47,
          "label": "ENTENDANT"
         },
         {
          "X": 0.7769594192504883,
          "Y": -0.937835156917572,
          "count": 47,
          "label": "ENTENDANT"
         },
         {
          "X": 1.0381417274475098,
          "Y": 2.305878162384033,
          "count": 47,
          "label": "ENTENDANT"
         },
         {
          "X": 0.5022168159484863,
          "Y": -0.369074285030365,
          "count": 47,
          "label": "ENTENDANT"
         },
         {
          "X": -0.2342323362827301,
          "Y": -2.38041090965271,
          "count": 47,
          "label": "ENTENDANT"
         },
         {
          "X": -0.7520882487297058,
          "Y": -0.2695270776748657,
          "count": 47,
          "label": "ENTENDANT"
         },
         {
          "X": -0.038906216621398926,
          "Y": -1.3321967124938965,
          "count": 47,
          "label": "ENTENDANT"
         },
         {
          "X": 1.1252766847610474,
          "Y": -1.8188939094543457,
          "count": 47,
          "label": "ENTENDANT"
         },
         {
          "X": 1.0381417274475098,
          "Y": 2.305878162384033,
          "count": 47,
          "label": "ENTENDANT"
         },
         {
          "X": 1.7958910465240479,
          "Y": -1.4791693687438965,
          "count": 47,
          "label": "ENTENDANT"
         },
         {
          "X": 1.5509209632873535,
          "Y": 0.3715212941169739,
          "count": 47,
          "label": "ENTENDANT"
         },
         {
          "X": 0.7769594192504883,
          "Y": -0.937835156917572,
          "count": 47,
          "label": "ENTENDANT"
         },
         {
          "X": -0.010860791429877281,
          "Y": 0.7860143780708313,
          "count": 47,
          "label": "ENTENDANT"
         },
         {
          "X": 2.3063695430755615,
          "Y": 1.698819637298584,
          "count": 47,
          "label": "ENTENDANT"
         },
         {
          "X": -0.7520882487297058,
          "Y": -0.2695270776748657,
          "count": 47,
          "label": "ENTENDANT"
         },
         {
          "X": -1.2051360607147217,
          "Y": 1.1815179586410522,
          "count": 47,
          "label": "ENTENDANT"
         },
         {
          "X": -1.664787769317627,
          "Y": 1.7272974252700806,
          "count": 47,
          "label": "ENTENDANT"
         },
         {
          "X": 0.7809913158416748,
          "Y": -2.468172311782837,
          "count": 47,
          "label": "ENTENDANT"
         },
         {
          "X": -0.5316834449768066,
          "Y": -0.3826110363006592,
          "count": 47,
          "label": "ENTENDANT"
         },
         {
          "X": 2.8399338722229004,
          "Y": 0.9212411046028137,
          "count": 47,
          "label": "ENTENDANT"
         },
         {
          "X": 1.7958910465240479,
          "Y": -1.4791693687438965,
          "count": 47,
          "label": "ENTENDANT"
         },
         {
          "X": 0.7769594192504883,
          "Y": -0.937835156917572,
          "count": 47,
          "label": "ENTENDANT"
         },
         {
          "X": -1.4802589416503906,
          "Y": -0.13927695155143738,
          "count": 47,
          "label": "ENTENDANT"
         },
         {
          "X": 2.6804513931274414,
          "Y": -1.1999847888946533,
          "count": 47,
          "label": "ENTENDANT"
         },
         {
          "X": 1.9337143898010254,
          "Y": 0.7559248805046082,
          "count": 47,
          "label": "ENTENDANT"
         },
         {
          "X": -1.433718204498291,
          "Y": -1.7712657451629639,
          "count": 47,
          "label": "ENTENDANT"
         },
         {
          "X": 2.356484889984131,
          "Y": 1.6304043531417847,
          "count": 47,
          "label": "ENTENDANT"
         },
         {
          "X": 2.189912796020508,
          "Y": -0.3414364457130432,
          "count": 47,
          "label": "ENTENDANT"
         },
         {
          "X": 3.1133673191070557,
          "Y": 0.10794708132743835,
          "count": 47,
          "label": "ENTENDANT"
         },
         {
          "X": -0.5734463334083557,
          "Y": 1.4404056072235107,
          "count": 47,
          "label": "ENTENDANT"
         },
         {
          "X": 1.7958910465240479,
          "Y": -1.4791693687438965,
          "count": 47,
          "label": "ENTENDANT"
         },
         {
          "X": 0.7769594192504883,
          "Y": -0.937835156917572,
          "count": 47,
          "label": "ENTENDANT"
         },
         {
          "X": 1.7958910465240479,
          "Y": -1.4791693687438965,
          "count": 47,
          "label": "ENTENDANT"
         },
         {
          "X": 1.9337143898010254,
          "Y": 0.7559248805046082,
          "count": 47,
          "label": "ENTENDANT"
         },
         {
          "X": 0.12445073574781418,
          "Y": 0.05000607669353485,
          "count": 47,
          "label": "ENTENDANT"
         },
         {
          "X": 0.08518155664205551,
          "Y": -0.5668357610702515,
          "count": 47,
          "label": "ENTENDANT"
         },
         {
          "X": 1.5444684028625488,
          "Y": -2.3124451637268066,
          "count": 47,
          "label": "ENTENDANT"
         },
         {
          "X": 0.12445073574781418,
          "Y": 0.05000607669353485,
          "count": 47,
          "label": "ENTENDANT"
         },
         {
          "X": 0.7133759260177612,
          "Y": 1.2155088186264038,
          "count": 47,
          "label": "ENTENDANT"
         },
         {
          "X": 0.8493266105651855,
          "Y": 0.3709956705570221,
          "count": 47,
          "label": "ENTENDANT"
         },
         {
          "X": -0.5734463334083557,
          "Y": 1.4404056072235107,
          "count": 47,
          "label": "ENTENDANT"
         },
         {
          "X": 0.08518155664205551,
          "Y": -0.5668357610702515,
          "count": 47,
          "label": "ENTENDANT"
         }
        ]
       },
       "encoding": {
        "color": {
         "field": "label",
         "type": "nominal"
        },
        "x": {
         "field": "X",
         "type": "quantitative"
        },
        "y": {
         "field": "Y",
         "type": "quantitative"
        }
       },
       "mark": {
        "size": 60,
        "type": "circle"
       },
       "selection": {
        "selector006": {
         "bind": "scales",
         "encodings": [
          "x",
          "y"
         ],
         "mark": {
          "fill": "#333",
          "fillOpacity": 0.125,
          "stroke": "white"
         },
         "on": "[mousedown, window:mouseup] > window:mousemove!",
         "resolve": "global",
         "translate": "[mousedown, window:mouseup] > window:mousemove!",
         "type": "interval",
         "zoom": "wheel!"
        }
       }
      },
      "image/png": "[encoded data removed]",
      "text/plain": [
       "<VegaLite 2 object>\n",
       "\n",
       "If you see this message, it means the renderer has not been properly enabled\n",
       "for the frontend that you are using. For more information, see\n",
       "https://altair-viz.github.io/user_guide/troubleshooting.html\n"
      ]
     },
     "metadata": {},
     "output_type": "display_data"
    }
   ],
   "source": [
    "# standalone graph\n",
    "\n",
    "preds_reduced = TSNE(n_components=2, perplexity = 80).fit_transform(preds)\n",
    "\n",
    "\n",
    "plot_df = pd.DataFrame({'X':preds_reduced[:,0],'Y':preds_reduced[:,1], 'label': label})\n",
    "\n",
    "plot_df = plot_df[plot_df[\"label\"] != 'LS']\n",
    "plot_df[\"count\"] = plot_df.apply(lambda row: len(plot_df[plot_df[\"label\"] == row[\"label\"]]), axis=1)\n",
    "plot_df = plot_df[plot_df[\"count\"] > 45]\n",
    "\n",
    "chart = alt.Chart(plot_df).mark_circle(size=60).encode(\n",
    "    x='X',\n",
    "    y='Y',\n",
    "    color='label').interactive()\n",
    "    \n",
    "display(chart)"
   ]
  },
  {
   "cell_type": "code",
   "execution_count": null,
   "metadata": {},
   "outputs": [],
   "source": []
  }
 ],
 "metadata": {
  "kernelspec": {
   "display_name": "Python 3",
   "language": "python",
   "name": "python3"
  },
  "language_info": {
   "codemirror_mode": {
    "name": "ipython",
    "version": 3
   },
   "file_extension": ".py",
   "mimetype": "text/x-python",
   "name": "python",
   "nbconvert_exporter": "python",
   "pygments_lexer": "ipython3",
   "version": "3.6.8"
  }
 },
 "nbformat": 4,
 "nbformat_minor": 2
}
