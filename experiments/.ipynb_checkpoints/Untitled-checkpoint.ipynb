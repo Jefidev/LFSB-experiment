{
 "cells": [
  {
   "cell_type": "code",
   "execution_count": 2,
   "metadata": {},
   "outputs": [],
   "source": [
    "import csv\n",
    "import pandas as pd\n",
    "from keras.applications.vgg19 import VGG19"
   ]
  },
  {
   "cell_type": "code",
   "execution_count": 9,
   "metadata": {},
   "outputs": [],
   "source": [
    "data = pd.read_csv(\"../ressources/label.csv\")\n",
    "\n",
    "# Filtering descriptive sign + undefined signs\n",
    "data = data[~data[\"label\"].isin([\"DS\", \"INDECIPHERABLE\", \"LS\", \"PALM-UP\", \"LBUOY\"])]\n",
    "data = data[~data[\"label\"].str.contains(\"LBUOY\")]\n",
    "# Get label having more than 300 occurances\n",
    "data[\"count\"] = data.apply(\n",
    "    lambda row: len(data[data[\"label\"] == row[\"label\"]]), axis=1\n",
    ")\n",
    "data = data[data[\"count\"] > 300]"
   ]
  },
  {
   "cell_type": "code",
   "execution_count": 14,
   "metadata": {},
   "outputs": [],
   "source": [
    "l = data[\"label\"].tolist()"
   ]
  },
  {
   "cell_type": "code",
   "execution_count": 15,
   "metadata": {},
   "outputs": [
    {
     "data": {
      "text/plain": [
       "{'AUSSI',\n",
       " 'AVOIR ',\n",
       " 'C-EST',\n",
       " 'FALLOIR',\n",
       " 'GSIGN',\n",
       " 'MAIS',\n",
       " 'OUI',\n",
       " 'QUOI',\n",
       " 'SOURD'}"
      ]
     },
     "execution_count": 15,
     "metadata": {},
     "output_type": "execute_result"
    }
   ],
   "source": [
    "set(l)"
   ]
  }
 ],
 "metadata": {
  "kernelspec": {
   "display_name": "Python 3",
   "language": "python",
   "name": "python3"
  },
  "language_info": {
   "codemirror_mode": {
    "name": "ipython",
    "version": 3
   },
   "file_extension": ".py",
   "mimetype": "text/x-python",
   "name": "python",
   "nbconvert_exporter": "python",
   "pygments_lexer": "ipython3",
   "version": "3.6.8"
  }
 },
 "nbformat": 4,
 "nbformat_minor": 2
}
