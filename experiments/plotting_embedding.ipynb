{
 "cells": [
  {
   "cell_type": "code",
   "execution_count": 1,
   "metadata": {},
   "outputs": [],
   "source": [
    "import numpy as np\n",
    "from sklearn.manifold import TSNE\n",
    "import pandas as pd\n",
    "import altair as alt\n",
    "from IPython.display import display"
   ]
  },
  {
   "cell_type": "code",
   "execution_count": 2,
   "metadata": {},
   "outputs": [
    {
     "name": "stdout",
     "output_type": "stream",
     "text": [
      "[[-6.11185325e-10  1.98890291e-08 -2.37362455e-18 ...  8.44796108e-12\n",
      "   1.36664009e-13  1.43867169e-07]\n",
      " [ 1.26525457e-10  1.94743990e-08 -2.56366846e-18 ...  8.28894592e-12\n",
      "   1.02102354e-13  1.36709559e-07]\n",
      " [-8.18929369e-10  2.00230090e-08 -2.25321435e-18 ...  5.60566524e-12\n",
      "   1.44687973e-13  1.36979111e-07]\n",
      " ...\n",
      " [-7.63598074e-10  2.07745927e-08 -2.29507713e-18 ...  8.05512948e-12\n",
      "   1.48320158e-13  1.51830818e-07]\n",
      " [ 1.86211047e-10  1.99601686e-08 -2.61699018e-18 ...  8.07780579e-12\n",
      "   1.02450492e-13  1.15412035e-07]\n",
      " [-6.31614760e-10  2.05317718e-08 -2.28370836e-18 ...  6.57212826e-12\n",
      "   1.41012310e-13  1.53431301e-07]]\n",
      "['1' '1' '1' '1' '2' '2' '2' '2' '2' '2' '2' '2' '3' '3' '3' '3' '3' '3'\n",
      " '4' '4' '4' '4' '4' '4' '4' '4' '5' '5' '5' '5' '5' '5' '5']\n"
     ]
    }
   ],
   "source": [
    "# loading data\n",
    "preds = np.load(\"./30_examples/results/preds.np\")\n",
    "label = np.load(\"./30_examples/results/label.np\")\n",
    "\n",
    "print(preds)\n",
    "print(label)"
   ]
  },
  {
   "cell_type": "code",
   "execution_count": 3,
   "metadata": {},
   "outputs": [],
   "source": [
    "# reducting dimensions\n",
    "\n",
    "def reduce_dim(perplexity):\n",
    "    preds_reduced = TSNE(n_components=2, perplexity = perplexity).fit_transform(preds)\n",
    "    return preds_reduced\n",
    "\n",
    "\n",
    "def create_plot(preds_reduced, label):\n",
    "    plot_df = pd.DataFrame({'X':preds_reduced[:,0],'Y':preds_reduced[:,1], 'label': label})\n",
    "\n",
    "    #plot_df[\"count\"] = plot_df.apply(lambda row: len(plot_df[plot_df[\"label\"] == row[\"label\"]]), axis=1)\n",
    "    #plot_df = plot_df[plot_df[\"count\"] > 45]\n",
    "\n",
    "    chart = alt.Chart(plot_df).mark_circle(size=60).encode(\n",
    "        x='X',\n",
    "        y='Y',\n",
    "        color='label').interactive()\n",
    "    \n",
    "    display(chart)"
   ]
  },
  {
   "cell_type": "code",
   "execution_count": 4,
   "metadata": {},
   "outputs": [
    {
     "name": "stdout",
     "output_type": "stream",
     "text": [
      "Perplexity 5\n"
     ]
    },
    {
     "data": {
      "application/vnd.vegalite.v2+json": {
       "$schema": "https://vega.github.io/schema/vega-lite/v2.6.0.json",
       "config": {
        "view": {
         "height": 300,
         "width": 400
        }
       },
       "data": {
        "name": "data-d23ac92ef559fb124dca520dd3923ea4"
       },
       "datasets": {
        "data-d23ac92ef559fb124dca520dd3923ea4": [
         {
          "X": -124.56715393066406,
          "Y": -100.9177474975586,
          "label": "1"
         },
         {
          "X": 178.07565307617188,
          "Y": -209.05435180664062,
          "label": "1"
         },
         {
          "X": -204.50527954101562,
          "Y": -82.88700103759766,
          "label": "1"
         },
         {
          "X": 146.35000610351562,
          "Y": -19.44841957092285,
          "label": "1"
         },
         {
          "X": 27.280080795288086,
          "Y": 57.81919860839844,
          "label": "2"
         },
         {
          "X": -326.9374694824219,
          "Y": -87.13382720947266,
          "label": "2"
         },
         {
          "X": -293.62884521484375,
          "Y": -118.46607971191406,
          "label": "2"
         },
         {
          "X": 238.4087677001953,
          "Y": 128.2926788330078,
          "label": "2"
         },
         {
          "X": -220.13397216796875,
          "Y": -62.22343063354492,
          "label": "2"
         },
         {
          "X": 54.07437515258789,
          "Y": 84.18907928466797,
          "label": "2"
         },
         {
          "X": 164.96807861328125,
          "Y": 151.74105834960938,
          "label": "2"
         },
         {
          "X": 120.32723236083984,
          "Y": 8.542243003845215,
          "label": "2"
         },
         {
          "X": -29.263147354125977,
          "Y": 113.26142883300781,
          "label": "3"
         },
         {
          "X": 122.07609558105469,
          "Y": 154.7906951904297,
          "label": "3"
         },
         {
          "X": -38.75016784667969,
          "Y": -36.902557373046875,
          "label": "3"
         },
         {
          "X": 33.601112365722656,
          "Y": 23.76375389099121,
          "label": "3"
         },
         {
          "X": 111.24784851074219,
          "Y": 114.9405288696289,
          "label": "3"
         },
         {
          "X": -359.9444580078125,
          "Y": -37.470951080322266,
          "label": "3"
         },
         {
          "X": 93.41497802734375,
          "Y": 63.90354919433594,
          "label": "4"
         },
         {
          "X": 62.9420051574707,
          "Y": 50.705726623535156,
          "label": "4"
         },
         {
          "X": -318.4984436035156,
          "Y": -27.531156539916992,
          "label": "4"
         },
         {
          "X": 11.559528350830078,
          "Y": 109.77349090576172,
          "label": "4"
         },
         {
          "X": 97.5735092163086,
          "Y": 186.80633544921875,
          "label": "4"
         },
         {
          "X": -22.89502716064453,
          "Y": -57.26969528198242,
          "label": "4"
         },
         {
          "X": 156.56689453125,
          "Y": -228.89279174804688,
          "label": "4"
         },
         {
          "X": 269.7071228027344,
          "Y": 107.8232421875,
          "label": "4"
         },
         {
          "X": 71.98306274414062,
          "Y": 18.504140853881836,
          "label": "5"
         },
         {
          "X": -294.4032897949219,
          "Y": -12.212932586669922,
          "label": "5"
         },
         {
          "X": -283.6253662109375,
          "Y": -93.63375854492188,
          "label": "5"
         },
         {
          "X": -87.24678802490234,
          "Y": -104.94912719726562,
          "label": "5"
         },
         {
          "X": 203.1165008544922,
          "Y": 143.66275024414062,
          "label": "5"
         },
         {
          "X": 142.2958221435547,
          "Y": -203.2646942138672,
          "label": "5"
         },
         {
          "X": -62.34871292114258,
          "Y": -78.10840606689453,
          "label": "5"
         }
        ]
       },
       "encoding": {
        "color": {
         "field": "label",
         "type": "nominal"
        },
        "x": {
         "field": "X",
         "type": "quantitative"
        },
        "y": {
         "field": "Y",
         "type": "quantitative"
        }
       },
       "mark": {
        "size": 60,
        "type": "circle"
       },
       "selection": {
        "selector001": {
         "bind": "scales",
         "encodings": [
          "x",
          "y"
         ],
         "mark": {
          "fill": "#333",
          "fillOpacity": 0.125,
          "stroke": "white"
         },
         "on": "[mousedown, window:mouseup] > window:mousemove!",
         "resolve": "global",
         "translate": "[mousedown, window:mouseup] > window:mousemove!",
         "type": "interval",
         "zoom": "wheel!"
        }
       }
      },
      "image/png": "[encoded data removed]",
      "text/plain": [
       "<VegaLite 2 object>\n",
       "\n",
       "If you see this message, it means the renderer has not been properly enabled\n",
       "for the frontend that you are using. For more information, see\n",
       "https://altair-viz.github.io/user_guide/troubleshooting.html\n"
      ]
     },
     "metadata": {},
     "output_type": "display_data"
    },
    {
     "name": "stdout",
     "output_type": "stream",
     "text": [
      "Perplexity 15\n"
     ]
    },
    {
     "data": {
      "application/vnd.vegalite.v2+json": {
       "$schema": "https://vega.github.io/schema/vega-lite/v2.6.0.json",
       "config": {
        "view": {
         "height": 300,
         "width": 400
        }
       },
       "data": {
        "name": "data-975341754f2d76f487ffa3cdc378ea2e"
       },
       "datasets": {
        "data-975341754f2d76f487ffa3cdc378ea2e": [
         {
          "X": -87.07646179199219,
          "Y": -12.044794082641602,
          "label": "1"
         },
         {
          "X": 12.351892471313477,
          "Y": -213.28067016601562,
          "label": "1"
         },
         {
          "X": -116.80591583251953,
          "Y": 43.954288482666016,
          "label": "1"
         },
         {
          "X": -42.44321823120117,
          "Y": 94.69335174560547,
          "label": "1"
         },
         {
          "X": 93.4375,
          "Y": 26.38077735900879,
          "label": "2"
         },
         {
          "X": -231.95413208007812,
          "Y": 9.311806678771973,
          "label": "2"
         },
         {
          "X": -185.12278747558594,
          "Y": -16.743656158447266,
          "label": "2"
         },
         {
          "X": -66.39370727539062,
          "Y": -86.4197769165039,
          "label": "2"
         },
         {
          "X": -134.14259338378906,
          "Y": 75.52113342285156,
          "label": "2"
         },
         {
          "X": 123.892578125,
          "Y": -5.705761432647705,
          "label": "2"
         },
         {
          "X": -16.945781707763672,
          "Y": -27.45735740661621,
          "label": "2"
         },
         {
          "X": 27.596942901611328,
          "Y": 31.779918670654297,
          "label": "2"
         },
         {
          "X": -17.75082015991211,
          "Y": 27.389347076416016,
          "label": "3"
         },
         {
          "X": 135.67129516601562,
          "Y": 47.823516845703125,
          "label": "3"
         },
         {
          "X": 88.41019439697266,
          "Y": -36.720272064208984,
          "label": "3"
         },
         {
          "X": 62.26421356201172,
          "Y": 0.8388522863388062,
          "label": "3"
         },
         {
          "X": 60.29094314575195,
          "Y": 51.740299224853516,
          "label": "3"
         },
         {
          "X": -280.3124694824219,
          "Y": 52.135528564453125,
          "label": "3"
         },
         {
          "X": 95.0210189819336,
          "Y": 76.4108657836914,
          "label": "4"
         },
         {
          "X": 41.277713775634766,
          "Y": -43.70377731323242,
          "label": "4"
         },
         {
          "X": -231.6426239013672,
          "Y": 71.65715789794922,
          "label": "4"
         },
         {
          "X": 8.619132041931152,
          "Y": 69.60455322265625,
          "label": "4"
         },
         {
          "X": 106.24857330322266,
          "Y": 134.1615753173828,
          "label": "4"
         },
         {
          "X": 46.26472854614258,
          "Y": 95.73758697509766,
          "label": "4"
         },
         {
          "X": 30.841758728027344,
          "Y": -180.1404571533203,
          "label": "4"
         },
         {
          "X": -22.668312072753906,
          "Y": 159.68016052246094,
          "label": "4"
         },
         {
          "X": 20.515220642089844,
          "Y": -6.487646579742432,
          "label": "5"
         },
         {
          "X": -206.52264404296875,
          "Y": 100.29975891113281,
          "label": "5"
         },
         {
          "X": -182.5692138671875,
          "Y": 19.174245834350586,
          "label": "5"
         },
         {
          "X": 126.98979949951172,
          "Y": -95.41703796386719,
          "label": "5"
         },
         {
          "X": -12.786701202392578,
          "Y": -81.85235595703125,
          "label": "5"
         },
         {
          "X": 56.802242279052734,
          "Y": -208.0689697265625,
          "label": "5"
         },
         {
          "X": 74.88371276855469,
          "Y": -95.69959259033203,
          "label": "5"
         }
        ]
       },
       "encoding": {
        "color": {
         "field": "label",
         "type": "nominal"
        },
        "x": {
         "field": "X",
         "type": "quantitative"
        },
        "y": {
         "field": "Y",
         "type": "quantitative"
        }
       },
       "mark": {
        "size": 60,
        "type": "circle"
       },
       "selection": {
        "selector002": {
         "bind": "scales",
         "encodings": [
          "x",
          "y"
         ],
         "mark": {
          "fill": "#333",
          "fillOpacity": 0.125,
          "stroke": "white"
         },
         "on": "[mousedown, window:mouseup] > window:mousemove!",
         "resolve": "global",
         "translate": "[mousedown, window:mouseup] > window:mousemove!",
         "type": "interval",
         "zoom": "wheel!"
        }
       }
      },
      "image/png": "[encoded data removed]",
      "text/plain": [
       "<VegaLite 2 object>\n",
       "\n",
       "If you see this message, it means the renderer has not been properly enabled\n",
       "for the frontend that you are using. For more information, see\n",
       "https://altair-viz.github.io/user_guide/troubleshooting.html\n"
      ]
     },
     "metadata": {},
     "output_type": "display_data"
    },
    {
     "name": "stdout",
     "output_type": "stream",
     "text": [
      "Perplexity 30\n"
     ]
    },
    {
     "data": {
      "application/vnd.vegalite.v2+json": {
       "$schema": "https://vega.github.io/schema/vega-lite/v2.6.0.json",
       "config": {
        "view": {
         "height": 300,
         "width": 400
        }
       },
       "data": {
        "name": "data-9230a13dd9a0eb34dd0eb5dd52fe9bd4"
       },
       "datasets": {
        "data-9230a13dd9a0eb34dd0eb5dd52fe9bd4": [
         {
          "X": -39.45089340209961,
          "Y": -7.5656914710998535,
          "label": "1"
         },
         {
          "X": -2.445979118347168,
          "Y": -63.640689849853516,
          "label": "1"
         },
         {
          "X": 16.746755599975586,
          "Y": 17.360509872436523,
          "label": "1"
         },
         {
          "X": 62.835296630859375,
          "Y": -21.748849868774414,
          "label": "1"
         },
         {
          "X": 4.881702423095703,
          "Y": 64.18302154541016,
          "label": "2"
         },
         {
          "X": -47.16996383666992,
          "Y": 51.64244842529297,
          "label": "2"
         },
         {
          "X": 43.33829879760742,
          "Y": 15.899370193481445,
          "label": "2"
         },
         {
          "X": -15.216374397277832,
          "Y": 48.64862060546875,
          "label": "2"
         },
         {
          "X": -21.816072463989258,
          "Y": 6.954082489013672,
          "label": "2"
         },
         {
          "X": 1.2753757238388062,
          "Y": 2.270737648010254,
          "label": "2"
         },
         {
          "X": -27.6181583404541,
          "Y": 29.126012802124023,
          "label": "2"
         },
         {
          "X": 15.85358715057373,
          "Y": -41.189666748046875,
          "label": "2"
         },
         {
          "X": 45.04684829711914,
          "Y": -6.505258560180664,
          "label": "3"
         },
         {
          "X": -28.867822647094727,
          "Y": -52.6397705078125,
          "label": "3"
         },
         {
          "X": -13.074045181274414,
          "Y": -13.054142951965332,
          "label": "3"
         },
         {
          "X": -27.9093017578125,
          "Y": -28.318811416625977,
          "label": "3"
         },
         {
          "X": 44.8382682800293,
          "Y": -42.0685920715332,
          "label": "3"
         },
         {
          "X": -39.81406021118164,
          "Y": 84.03374481201172,
          "label": "3"
         },
         {
          "X": 30.208595275878906,
          "Y": -23.531667709350586,
          "label": "4"
         },
         {
          "X": 31.40517234802246,
          "Y": 58.20050811767578,
          "label": "4"
         },
         {
          "X": -71.84980010986328,
          "Y": 34.78257751464844,
          "label": "4"
         },
         {
          "X": 8.057354927062988,
          "Y": -18.786983489990234,
          "label": "4"
         },
         {
          "X": 7.852409839630127,
          "Y": 39.6373291015625,
          "label": "4"
         },
         {
          "X": 54.905113220214844,
          "Y": 39.54957962036133,
          "label": "4"
         },
         {
          "X": -47.30896759033203,
          "Y": 15.168278694152832,
          "label": "4"
         },
         {
          "X": -6.519961833953857,
          "Y": -36.76774215698242,
          "label": "4"
         },
         {
          "X": -5.684113025665283,
          "Y": 22.699504852294922,
          "label": "5"
         },
         {
          "X": -73.61287689208984,
          "Y": 1.8201069831848145,
          "label": "5"
         },
         {
          "X": 67.67305755615234,
          "Y": 11.23620319366455,
          "label": "5"
         },
         {
          "X": -52.495033264160156,
          "Y": -29.95850372314453,
          "label": "5"
         },
         {
          "X": 29.923049926757812,
          "Y": 34.21305847167969,
          "label": "5"
         },
         {
          "X": 26.72747230529785,
          "Y": -64.69010925292969,
          "label": "5"
         },
         {
          "X": 23.169584274291992,
          "Y": -2.127363443374634,
          "label": "5"
         }
        ]
       },
       "encoding": {
        "color": {
         "field": "label",
         "type": "nominal"
        },
        "x": {
         "field": "X",
         "type": "quantitative"
        },
        "y": {
         "field": "Y",
         "type": "quantitative"
        }
       },
       "mark": {
        "size": 60,
        "type": "circle"
       },
       "selection": {
        "selector003": {
         "bind": "scales",
         "encodings": [
          "x",
          "y"
         ],
         "mark": {
          "fill": "#333",
          "fillOpacity": 0.125,
          "stroke": "white"
         },
         "on": "[mousedown, window:mouseup] > window:mousemove!",
         "resolve": "global",
         "translate": "[mousedown, window:mouseup] > window:mousemove!",
         "type": "interval",
         "zoom": "wheel!"
        }
       }
      },
      "image/png": "[encoded data removed]",
      "text/plain": [
       "<VegaLite 2 object>\n",
       "\n",
       "If you see this message, it means the renderer has not been properly enabled\n",
       "for the frontend that you are using. For more information, see\n",
       "https://altair-viz.github.io/user_guide/troubleshooting.html\n"
      ]
     },
     "metadata": {},
     "output_type": "display_data"
    },
    {
     "name": "stdout",
     "output_type": "stream",
     "text": [
      "Perplexity 35\n"
     ]
    },
    {
     "data": {
      "application/vnd.vegalite.v2+json": {
       "$schema": "https://vega.github.io/schema/vega-lite/v2.6.0.json",
       "config": {
        "view": {
         "height": 300,
         "width": 400
        }
       },
       "data": {
        "name": "data-f46a42f6eb3c5cef95db1e25f9dedb61"
       },
       "datasets": {
        "data-f46a42f6eb3c5cef95db1e25f9dedb61": [
         {
          "X": 1.4081922769546509,
          "Y": 11.532486915588379,
          "label": "1"
         },
         {
          "X": -84.64724731445312,
          "Y": 11.798663139343262,
          "label": "1"
         },
         {
          "X": -29.474266052246094,
          "Y": -32.628173828125,
          "label": "1"
         },
         {
          "X": 71.20985412597656,
          "Y": 53.203216552734375,
          "label": "1"
         },
         {
          "X": -38.02241134643555,
          "Y": 43.878910064697266,
          "label": "2"
         },
         {
          "X": -54.63936233520508,
          "Y": 18.378339767456055,
          "label": "2"
         },
         {
          "X": 76.68815612792969,
          "Y": -17.663742065429688,
          "label": "2"
         },
         {
          "X": -35.046016693115234,
          "Y": -73.56468200683594,
          "label": "2"
         },
         {
          "X": 85.53765106201172,
          "Y": 17.958166122436523,
          "label": "2"
         },
         {
          "X": -13.42653751373291,
          "Y": -10.010586738586426,
          "label": "2"
         },
         {
          "X": -26.100582122802734,
          "Y": 15.603116035461426,
          "label": "2"
         },
         {
          "X": 29.859582901000977,
          "Y": -42.76312255859375,
          "label": "2"
         },
         {
          "X": 42.59737777709961,
          "Y": 43.42534255981445,
          "label": "3"
         },
         {
          "X": 17.07650375366211,
          "Y": -13.004339218139648,
          "label": "3"
         },
         {
          "X": -70.27337646484375,
          "Y": 48.20137405395508,
          "label": "3"
         },
         {
          "X": 48.42240524291992,
          "Y": 118.39200592041016,
          "label": "3"
         },
         {
          "X": 59.814273834228516,
          "Y": -50.978965759277344,
          "label": "3"
         },
         {
          "X": 17.453107833862305,
          "Y": -72.5460205078125,
          "label": "3"
         },
         {
          "X": -44.20051193237305,
          "Y": -8.420098304748535,
          "label": "4"
         },
         {
          "X": 13.476302146911621,
          "Y": 61.009586334228516,
          "label": "4"
         },
         {
          "X": 17.455041885375977,
          "Y": 33.27061462402344,
          "label": "4"
         },
         {
          "X": 30.288829803466797,
          "Y": 9.43381404876709,
          "label": "4"
         },
         {
          "X": -16.78921127319336,
          "Y": 67.53483581542969,
          "label": "4"
         },
         {
          "X": 2.220533847808838,
          "Y": -33.861751556396484,
          "label": "4"
         },
         {
          "X": -56.15438461303711,
          "Y": -46.862972259521484,
          "label": "4"
         },
         {
          "X": -73.38994598388672,
          "Y": -20.14143180847168,
          "label": "4"
         },
         {
          "X": -9.533929824829102,
          "Y": 38.86240005493164,
          "label": "5"
         },
         {
          "X": 46.27476119995117,
          "Y": -16.52014923095703,
          "label": "5"
         },
         {
          "X": -10.855813980102539,
          "Y": -56.81396484375,
          "label": "5"
         },
         {
          "X": -46.329498291015625,
          "Y": 77.6095962524414,
          "label": "5"
         },
         {
          "X": 3.3362228870391846,
          "Y": 92.54108428955078,
          "label": "5"
         },
         {
          "X": 56.0944709777832,
          "Y": 15.33577823638916,
          "label": "5"
         },
         {
          "X": 40.6593017578125,
          "Y": 77.09420776367188,
          "label": "5"
         }
        ]
       },
       "encoding": {
        "color": {
         "field": "label",
         "type": "nominal"
        },
        "x": {
         "field": "X",
         "type": "quantitative"
        },
        "y": {
         "field": "Y",
         "type": "quantitative"
        }
       },
       "mark": {
        "size": 60,
        "type": "circle"
       },
       "selection": {
        "selector004": {
         "bind": "scales",
         "encodings": [
          "x",
          "y"
         ],
         "mark": {
          "fill": "#333",
          "fillOpacity": 0.125,
          "stroke": "white"
         },
         "on": "[mousedown, window:mouseup] > window:mousemove!",
         "resolve": "global",
         "translate": "[mousedown, window:mouseup] > window:mousemove!",
         "type": "interval",
         "zoom": "wheel!"
        }
       }
      },
      "image/png": "[encoded data removed]",
      "text/plain": [
       "<VegaLite 2 object>\n",
       "\n",
       "If you see this message, it means the renderer has not been properly enabled\n",
       "for the frontend that you are using. For more information, see\n",
       "https://altair-viz.github.io/user_guide/troubleshooting.html\n"
      ]
     },
     "metadata": {},
     "output_type": "display_data"
    },
    {
     "name": "stdout",
     "output_type": "stream",
     "text": [
      "Perplexity 40\n"
     ]
    },
    {
     "data": {
      "application/vnd.vegalite.v2+json": {
       "$schema": "https://vega.github.io/schema/vega-lite/v2.6.0.json",
       "config": {
        "view": {
         "height": 300,
         "width": 400
        }
       },
       "data": {
        "name": "data-a1c559ad4b2e9944eda43547fe5d9ba1"
       },
       "datasets": {
        "data-a1c559ad4b2e9944eda43547fe5d9ba1": [
         {
          "X": 84.19127655029297,
          "Y": -116.10314178466797,
          "label": "1"
         },
         {
          "X": -95.70571899414062,
          "Y": -1.73511803150177,
          "label": "1"
         },
         {
          "X": 138.0916748046875,
          "Y": 7.326999664306641,
          "label": "1"
         },
         {
          "X": 85.39995574951172,
          "Y": -10.099268913269043,
          "label": "1"
         },
         {
          "X": -99.32611846923828,
          "Y": 49.922569274902344,
          "label": "2"
         },
         {
          "X": 128.094482421875,
          "Y": -56.63623809814453,
          "label": "2"
         },
         {
          "X": 36.05081558227539,
          "Y": 75.422119140625,
          "label": "2"
         },
         {
          "X": 70.65681457519531,
          "Y": -63.004093170166016,
          "label": "2"
         },
         {
          "X": -38.320457458496094,
          "Y": -80.54800415039062,
          "label": "2"
         },
         {
          "X": 21.872739791870117,
          "Y": -86.3055419921875,
          "label": "2"
         },
         {
          "X": 27.302915573120117,
          "Y": -140.8878631591797,
          "label": "2"
         },
         {
          "X": -51.15150451660156,
          "Y": 27.76746368408203,
          "label": "2"
         },
         {
          "X": 82.49304962158203,
          "Y": 98.76024627685547,
          "label": "3"
         },
         {
          "X": 65.08126831054688,
          "Y": 151.55638122558594,
          "label": "3"
         },
         {
          "X": 133.63473510742188,
          "Y": 70.15575408935547,
          "label": "3"
         },
         {
          "X": -14.19795036315918,
          "Y": 94.00904083251953,
          "label": "3"
         },
         {
          "X": -85.53327941894531,
          "Y": -54.934574127197266,
          "label": "3"
         },
         {
          "X": -152.30906677246094,
          "Y": 43.93048095703125,
          "label": "3"
         },
         {
          "X": -5.490809917449951,
          "Y": -46.107601165771484,
          "label": "4"
         },
         {
          "X": -146.641845703125,
          "Y": -18.805517196655273,
          "label": "4"
         },
         {
          "X": -6.943260669708252,
          "Y": 47.50243377685547,
          "label": "4"
         },
         {
          "X": -59.59598159790039,
          "Y": 80.55657958984375,
          "label": "4"
         },
         {
          "X": -135.21331787109375,
          "Y": -78.94750213623047,
          "label": "4"
         },
         {
          "X": -6.065042018890381,
          "Y": 1.4745323657989502,
          "label": "4"
         },
         {
          "X": 13.272303581237793,
          "Y": 134.13865661621094,
          "label": "4"
         },
         {
          "X": 37.42625045776367,
          "Y": -26.024944305419922,
          "label": "4"
         },
         {
          "X": 38.2539176940918,
          "Y": 23.15194320678711,
          "label": "5"
         },
         {
          "X": -108.8506088256836,
          "Y": 110.00919342041016,
          "label": "5"
         },
         {
          "X": -29.37937355041504,
          "Y": -134.3074493408203,
          "label": "5"
         },
         {
          "X": -85.5870361328125,
          "Y": -116.53562927246094,
          "label": "5"
         },
         {
          "X": 83.35990142822266,
          "Y": 42.51062774658203,
          "label": "5"
         },
         {
          "X": -49.34740447998047,
          "Y": 143.16836547851562,
          "label": "5"
         },
         {
          "X": -48.61724853515625,
          "Y": -22.36979866027832,
          "label": "5"
         }
        ]
       },
       "encoding": {
        "color": {
         "field": "label",
         "type": "nominal"
        },
        "x": {
         "field": "X",
         "type": "quantitative"
        },
        "y": {
         "field": "Y",
         "type": "quantitative"
        }
       },
       "mark": {
        "size": 60,
        "type": "circle"
       },
       "selection": {
        "selector005": {
         "bind": "scales",
         "encodings": [
          "x",
          "y"
         ],
         "mark": {
          "fill": "#333",
          "fillOpacity": 0.125,
          "stroke": "white"
         },
         "on": "[mousedown, window:mouseup] > window:mousemove!",
         "resolve": "global",
         "translate": "[mousedown, window:mouseup] > window:mousemove!",
         "type": "interval",
         "zoom": "wheel!"
        }
       }
      },
      "image/png": "[encoded data removed]",
      "text/plain": [
       "<VegaLite 2 object>\n",
       "\n",
       "If you see this message, it means the renderer has not been properly enabled\n",
       "for the frontend that you are using. For more information, see\n",
       "https://altair-viz.github.io/user_guide/troubleshooting.html\n"
      ]
     },
     "metadata": {},
     "output_type": "display_data"
    },
    {
     "name": "stdout",
     "output_type": "stream",
     "text": [
      "Perplexity 45\n"
     ]
    },
    {
     "data": {
      "application/vnd.vegalite.v2+json": {
       "$schema": "https://vega.github.io/schema/vega-lite/v2.6.0.json",
       "config": {
        "view": {
         "height": 300,
         "width": 400
        }
       },
       "data": {
        "name": "data-12798caebaf751088ce861df22483db7"
       },
       "datasets": {
        "data-12798caebaf751088ce861df22483db7": [
         {
          "X": 183.19789123535156,
          "Y": 47.50973129272461,
          "label": "1"
         },
         {
          "X": -295.8056335449219,
          "Y": 154.7626190185547,
          "label": "1"
         },
         {
          "X": -214.848876953125,
          "Y": 68.9625244140625,
          "label": "1"
         },
         {
          "X": 308.3138732910156,
          "Y": -0.23240207135677338,
          "label": "1"
         },
         {
          "X": 43.49205780029297,
          "Y": -206.87123107910156,
          "label": "2"
         },
         {
          "X": 71.74147033691406,
          "Y": 76.23863983154297,
          "label": "2"
         },
         {
          "X": 276.37408447265625,
          "Y": 138.71839904785156,
          "label": "2"
         },
         {
          "X": -93.19602966308594,
          "Y": 325.1396484375,
          "label": "2"
         },
         {
          "X": -323.0675048828125,
          "Y": 12.048249244689941,
          "label": "2"
         },
         {
          "X": -84.15725708007812,
          "Y": -65.78944396972656,
          "label": "2"
         },
         {
          "X": -137.92857360839844,
          "Y": 144.5050048828125,
          "label": "2"
         },
         {
          "X": -59.4166259765625,
          "Y": -174.24456787109375,
          "label": "2"
         },
         {
          "X": -233.01092529296875,
          "Y": -238.26580810546875,
          "label": "3"
         },
         {
          "X": -163.97372436523438,
          "Y": -143.73744201660156,
          "label": "3"
         },
         {
          "X": -292.41754150390625,
          "Y": -114.28305053710938,
          "label": "3"
         },
         {
          "X": -199.73220825195312,
          "Y": 244.4160614013672,
          "label": "3"
         },
         {
          "X": 51.58644104003906,
          "Y": 186.89205932617188,
          "label": "3"
         },
         {
          "X": -108.57511901855469,
          "Y": 35.9531135559082,
          "label": "3"
         },
         {
          "X": 261.1885070800781,
          "Y": -164.66616821289062,
          "label": "4"
         },
         {
          "X": 96.80011749267578,
          "Y": -26.325639724731445,
          "label": "4"
         },
         {
          "X": -107.70507049560547,
          "Y": -280.0110778808594,
          "label": "4"
         },
         {
          "X": -195.22286987304688,
          "Y": -38.079769134521484,
          "label": "4"
         },
         {
          "X": 19.727149963378906,
          "Y": -96.95088195800781,
          "label": "4"
         },
         {
          "X": 204.62115478515625,
          "Y": -59.62451171875,
          "label": "4"
         },
         {
          "X": -30.23287010192871,
          "Y": 107.58622741699219,
          "label": "4"
         },
         {
          "X": 157.681884765625,
          "Y": -261.0367736816406,
          "label": "4"
         },
         {
          "X": 174.80599975585938,
          "Y": 267.96075439453125,
          "label": "5"
         },
         {
          "X": -6.246758460998535,
          "Y": 5.000725746154785,
          "label": "5"
         },
         {
          "X": 17.152156829833984,
          "Y": -320.1943359375,
          "label": "5"
         },
         {
          "X": -54.87673568725586,
          "Y": 215.0894317626953,
          "label": "5"
         },
         {
          "X": 127.98692321777344,
          "Y": -137.297119140625,
          "label": "5"
         },
         {
          "X": 44.776153564453125,
          "Y": 307.24151611328125,
          "label": "5"
         },
         {
          "X": 155.0149383544922,
          "Y": 152.86463928222656,
          "label": "5"
         }
        ]
       },
       "encoding": {
        "color": {
         "field": "label",
         "type": "nominal"
        },
        "x": {
         "field": "X",
         "type": "quantitative"
        },
        "y": {
         "field": "Y",
         "type": "quantitative"
        }
       },
       "mark": {
        "size": 60,
        "type": "circle"
       },
       "selection": {
        "selector006": {
         "bind": "scales",
         "encodings": [
          "x",
          "y"
         ],
         "mark": {
          "fill": "#333",
          "fillOpacity": 0.125,
          "stroke": "white"
         },
         "on": "[mousedown, window:mouseup] > window:mousemove!",
         "resolve": "global",
         "translate": "[mousedown, window:mouseup] > window:mousemove!",
         "type": "interval",
         "zoom": "wheel!"
        }
       }
      },
      "image/png": "[encoded data removed]",
      "text/plain": [
       "<VegaLite 2 object>\n",
       "\n",
       "If you see this message, it means the renderer has not been properly enabled\n",
       "for the frontend that you are using. For more information, see\n",
       "https://altair-viz.github.io/user_guide/troubleshooting.html\n"
      ]
     },
     "metadata": {},
     "output_type": "display_data"
    },
    {
     "name": "stdout",
     "output_type": "stream",
     "text": [
      "Perplexity 50\n"
     ]
    },
    {
     "data": {
      "application/vnd.vegalite.v2+json": {
       "$schema": "https://vega.github.io/schema/vega-lite/v2.6.0.json",
       "config": {
        "view": {
         "height": 300,
         "width": 400
        }
       },
       "data": {
        "name": "data-0b532049657662186aa701bbcda8879f"
       },
       "datasets": {
        "data-0b532049657662186aa701bbcda8879f": [
         {
          "X": 49.25975799560547,
          "Y": -25.14360237121582,
          "label": "1"
         },
         {
          "X": -79.31060791015625,
          "Y": 12.744874000549316,
          "label": "1"
         },
         {
          "X": -41.998023986816406,
          "Y": -0.1931580901145935,
          "label": "1"
         },
         {
          "X": 63.208553314208984,
          "Y": 26.89427947998047,
          "label": "1"
         },
         {
          "X": 10.207754135131836,
          "Y": 14.337586402893066,
          "label": "2"
         },
         {
          "X": 57.642967224121094,
          "Y": -59.126129150390625,
          "label": "2"
         },
         {
          "X": -43.55583190917969,
          "Y": 83.09619903564453,
          "label": "2"
         },
         {
          "X": 99.2066879272461,
          "Y": 15.818536758422852,
          "label": "2"
         },
         {
          "X": -6.471352577209473,
          "Y": 72.57080841064453,
          "label": "2"
         },
         {
          "X": -69.97574615478516,
          "Y": 55.35609436035156,
          "label": "2"
         },
         {
          "X": -10.660750389099121,
          "Y": 104.83960723876953,
          "label": "2"
         },
         {
          "X": -3.3464152812957764,
          "Y": -34.30813217163086,
          "label": "2"
         },
         {
          "X": 52.740013122558594,
          "Y": 55.751583099365234,
          "label": "3"
         },
         {
          "X": -11.112848281860352,
          "Y": -5.347287654876709,
          "label": "3"
         },
         {
          "X": -49.995330810546875,
          "Y": 28.85203742980957,
          "label": "3"
         },
         {
          "X": 71.42102813720703,
          "Y": -3.0581538677215576,
          "label": "3"
         },
         {
          "X": -68.55843353271484,
          "Y": -22.881864547729492,
          "label": "3"
         },
         {
          "X": -13.6069917678833,
          "Y": -65.29630279541016,
          "label": "3"
         },
         {
          "X": 26.420738220214844,
          "Y": 97.28995513916016,
          "label": "4"
         },
         {
          "X": 1.6215851306915283,
          "Y": 42.754024505615234,
          "label": "4"
         },
         {
          "X": -30.048566818237305,
          "Y": 52.1813850402832,
          "label": "4"
         },
         {
          "X": 24.86481475830078,
          "Y": -44.345550537109375,
          "label": "4"
         },
         {
          "X": 18.928773880004883,
          "Y": -13.501583099365234,
          "label": "4"
         },
         {
          "X": -49.344112396240234,
          "Y": -57.610660552978516,
          "label": "4"
         },
         {
          "X": -32.86000442504883,
          "Y": -29.232742309570312,
          "label": "4"
         },
         {
          "X": 87.33354949951172,
          "Y": 53.30342102050781,
          "label": "4"
         },
         {
          "X": 40.38139724731445,
          "Y": 5.789195537567139,
          "label": "5"
         },
         {
          "X": 20.70351791381836,
          "Y": -76.90482330322266,
          "label": "5"
         },
         {
          "X": 23.613597869873047,
          "Y": 64.69147491455078,
          "label": "5"
         },
         {
          "X": 31.039947509765625,
          "Y": 33.96204376220703,
          "label": "5"
         },
         {
          "X": 86.77678680419922,
          "Y": -32.590904235839844,
          "label": "5"
         },
         {
          "X": -19.32477569580078,
          "Y": 22.58420753479004,
          "label": "5"
         },
         {
          "X": 61.82628631591797,
          "Y": 86.7349624633789,
          "label": "5"
         }
        ]
       },
       "encoding": {
        "color": {
         "field": "label",
         "type": "nominal"
        },
        "x": {
         "field": "X",
         "type": "quantitative"
        },
        "y": {
         "field": "Y",
         "type": "quantitative"
        }
       },
       "mark": {
        "size": 60,
        "type": "circle"
       },
       "selection": {
        "selector007": {
         "bind": "scales",
         "encodings": [
          "x",
          "y"
         ],
         "mark": {
          "fill": "#333",
          "fillOpacity": 0.125,
          "stroke": "white"
         },
         "on": "[mousedown, window:mouseup] > window:mousemove!",
         "resolve": "global",
         "translate": "[mousedown, window:mouseup] > window:mousemove!",
         "type": "interval",
         "zoom": "wheel!"
        }
       }
      },
      "image/png": "[encoded data removed]",
      "text/plain": [
       "<VegaLite 2 object>\n",
       "\n",
       "If you see this message, it means the renderer has not been properly enabled\n",
       "for the frontend that you are using. For more information, see\n",
       "https://altair-viz.github.io/user_guide/troubleshooting.html\n"
      ]
     },
     "metadata": {},
     "output_type": "display_data"
    },
    {
     "name": "stdout",
     "output_type": "stream",
     "text": [
      "Perplexity 60\n"
     ]
    },
    {
     "data": {
      "application/vnd.vegalite.v2+json": {
       "$schema": "https://vega.github.io/schema/vega-lite/v2.6.0.json",
       "config": {
        "view": {
         "height": 300,
         "width": 400
        }
       },
       "data": {
        "name": "data-bb7b5450148a22f60afb68f0a49f9afb"
       },
       "datasets": {
        "data-bb7b5450148a22f60afb68f0a49f9afb": [
         {
          "X": -80.29315948486328,
          "Y": -107.8167724609375,
          "label": "1"
         },
         {
          "X": 60.91704177856445,
          "Y": 6.867181301116943,
          "label": "1"
         },
         {
          "X": 9.335965156555176,
          "Y": -30.09593963623047,
          "label": "1"
         },
         {
          "X": -119.7665023803711,
          "Y": 10.794875144958496,
          "label": "1"
         },
         {
          "X": 116.64008331298828,
          "Y": -91.38973236083984,
          "label": "2"
         },
         {
          "X": -69.43973541259766,
          "Y": 26.018428802490234,
          "label": "2"
         },
         {
          "X": -92.836669921875,
          "Y": 74.64864349365234,
          "label": "2"
         },
         {
          "X": -1.1778773069381714,
          "Y": 49.30301284790039,
          "label": "2"
         },
         {
          "X": 15.089853286743164,
          "Y": 90.77378845214844,
          "label": "2"
         },
         {
          "X": 90.06707000732422,
          "Y": -52.24943161010742,
          "label": "2"
         },
         {
          "X": 49.72652816772461,
          "Y": -34.61491394042969,
          "label": "2"
         },
         {
          "X": -27.76240348815918,
          "Y": -127.56190490722656,
          "label": "2"
         },
         {
          "X": 19.10651397705078,
          "Y": -117.04357147216797,
          "label": "3"
         },
         {
          "X": 72.21781921386719,
          "Y": 96.209716796875,
          "label": "3"
         },
         {
          "X": 45.211639404296875,
          "Y": 52.57830810546875,
          "label": "3"
         },
         {
          "X": -26.071744918823242,
          "Y": 12.717002868652344,
          "label": "3"
         },
         {
          "X": 50.735626220703125,
          "Y": -79.7673110961914,
          "label": "3"
         },
         {
          "X": -32.163516998291016,
          "Y": -29.747041702270508,
          "label": "3"
         },
         {
          "X": -177.99754333496094,
          "Y": -102.40705108642578,
          "label": "4"
         },
         {
          "X": -48.636444091796875,
          "Y": -71.04761505126953,
          "label": "4"
         },
         {
          "X": 141.03640747070312,
          "Y": 24.317354202270508,
          "label": "4"
         },
         {
          "X": -75.64643096923828,
          "Y": -21.541484832763672,
          "label": "4"
         },
         {
          "X": 122.0522689819336,
          "Y": 78.50049591064453,
          "label": "4"
         },
         {
          "X": -109.98418426513672,
          "Y": -56.16468048095703,
          "label": "4"
         },
         {
          "X": -41.96749496459961,
          "Y": 66.5146713256836,
          "label": "4"
         },
         {
          "X": 102.99848937988281,
          "Y": -8.806910514831543,
          "label": "4"
         },
         {
          "X": 89.8091812133789,
          "Y": 41.51582717895508,
          "label": "5"
         },
         {
          "X": 147.09268188476562,
          "Y": -36.24155044555664,
          "label": "5"
         },
         {
          "X": 19.173486709594727,
          "Y": 11.065256118774414,
          "label": "5"
         },
         {
          "X": 70.36181640625,
          "Y": -128.80728149414062,
          "label": "5"
         },
         {
          "X": 34.266056060791016,
          "Y": 135.94851684570312,
          "label": "5"
         },
         {
          "X": -32.934295654296875,
          "Y": 116.65728759765625,
          "label": "5"
         },
         {
          "X": -0.8357247710227966,
          "Y": -72.7922592163086,
          "label": "5"
         }
        ]
       },
       "encoding": {
        "color": {
         "field": "label",
         "type": "nominal"
        },
        "x": {
         "field": "X",
         "type": "quantitative"
        },
        "y": {
         "field": "Y",
         "type": "quantitative"
        }
       },
       "mark": {
        "size": 60,
        "type": "circle"
       },
       "selection": {
        "selector008": {
         "bind": "scales",
         "encodings": [
          "x",
          "y"
         ],
         "mark": {
          "fill": "#333",
          "fillOpacity": 0.125,
          "stroke": "white"
         },
         "on": "[mousedown, window:mouseup] > window:mousemove!",
         "resolve": "global",
         "translate": "[mousedown, window:mouseup] > window:mousemove!",
         "type": "interval",
         "zoom": "wheel!"
        }
       }
      },
      "image/png": "[encoded data removed]",
      "text/plain": [
       "<VegaLite 2 object>\n",
       "\n",
       "If you see this message, it means the renderer has not been properly enabled\n",
       "for the frontend that you are using. For more information, see\n",
       "https://altair-viz.github.io/user_guide/troubleshooting.html\n"
      ]
     },
     "metadata": {},
     "output_type": "display_data"
    }
   ],
   "source": [
    "perplexity = [5, 15, 30, 35, 40, 45, 50, 60]\n",
    "\n",
    "for p in perplexity:\n",
    "    print(\"Perplexity {}\".format(p))\n",
    "    r = reduce_dim(p)\n",
    "    create_plot(r, label)"
   ]
  },
  {
   "cell_type": "code",
   "execution_count": 5,
   "metadata": {},
   "outputs": [
    {
     "data": {
      "application/vnd.vegalite.v2+json": {
       "$schema": "https://vega.github.io/schema/vega-lite/v2.6.0.json",
       "config": {
        "view": {
         "height": 300,
         "width": 400
        }
       },
       "data": {
        "name": "data-599324ea1f6dbcbcf748ccbd7db43a13"
       },
       "datasets": {
        "data-599324ea1f6dbcbcf748ccbd7db43a13": [
         {
          "X": 0.3825382888317108,
          "Y": 0.02663634717464447,
          "count": 55,
          "label": "1"
         },
         {
          "X": 0.382377564907074,
          "Y": 0.02660462073981762,
          "count": 55,
          "label": "1"
         },
         {
          "X": 0.38253846764564514,
          "Y": 0.026636363938450813,
          "count": 55,
          "label": "1"
         },
         {
          "X": 0.38253846764564514,
          "Y": 0.026636358350515366,
          "count": 55,
          "label": "1"
         },
         {
          "X": 0.382538378238678,
          "Y": 0.02663639560341835,
          "count": 55,
          "label": "1"
         },
         {
          "X": 0.38237738609313965,
          "Y": 0.026604613289237022,
          "count": 55,
          "label": "1"
         },
         {
          "X": 0.38253846764564514,
          "Y": 0.026636363938450813,
          "count": 55,
          "label": "1"
         },
         {
          "X": 0.38237738609313965,
          "Y": 0.026604605838656425,
          "count": 55,
          "label": "1"
         },
         {
          "X": 0.3823775351047516,
          "Y": 0.026604538783431053,
          "count": 55,
          "label": "1"
         },
         {
          "X": 0.3823774456977844,
          "Y": 0.026604579761624336,
          "count": 55,
          "label": "1"
         },
         {
          "X": 0.38237741589546204,
          "Y": 0.026604605838656425,
          "count": 55,
          "label": "1"
         },
         {
          "X": 0.38237738609313965,
          "Y": 0.02660457231104374,
          "count": 55,
          "label": "1"
         },
         {
          "X": 0.38237741589546204,
          "Y": 0.026604609563946724,
          "count": 55,
          "label": "1"
         },
         {
          "X": 0.38253846764564514,
          "Y": 0.026636363938450813,
          "count": 55,
          "label": "1"
         },
         {
          "X": 0.3823776841163635,
          "Y": 0.02660461701452732,
          "count": 55,
          "label": "1"
         },
         {
          "X": 0.382377564907074,
          "Y": 0.026604613289237022,
          "count": 55,
          "label": "1"
         },
         {
          "X": 0.3823775053024292,
          "Y": 0.02660461701452732,
          "count": 55,
          "label": "1"
         },
         {
          "X": 0.38237762451171875,
          "Y": 0.026604585349559784,
          "count": 55,
          "label": "1"
         },
         {
          "X": 0.38237741589546204,
          "Y": 0.02660459093749523,
          "count": 55,
          "label": "1"
         },
         {
          "X": 0.3823775053024292,
          "Y": 0.026604600250720978,
          "count": 55,
          "label": "1"
         },
         {
          "X": 0.382377564907074,
          "Y": 0.02660459466278553,
          "count": 55,
          "label": "1"
         },
         {
          "X": 0.3823775053024292,
          "Y": 0.026604648679494858,
          "count": 55,
          "label": "1"
         },
         {
          "X": 0.382538378238678,
          "Y": 0.026636334136128426,
          "count": 55,
          "label": "1"
         },
         {
          "X": 0.38237741589546204,
          "Y": 0.026604609563946724,
          "count": 55,
          "label": "1"
         },
         {
          "X": 0.38237762451171875,
          "Y": 0.026604605838656425,
          "count": 55,
          "label": "1"
         },
         {
          "X": 0.382538378238678,
          "Y": 0.02663630247116089,
          "count": 55,
          "label": "1"
         },
         {
          "X": 0.3823775053024292,
          "Y": 0.026604648679494858,
          "count": 55,
          "label": "1"
         },
         {
          "X": 0.3823774755001068,
          "Y": 0.02660461701452732,
          "count": 55,
          "label": "1"
         },
         {
          "X": 0.382377564907074,
          "Y": 0.02660462073981762,
          "count": 55,
          "label": "1"
         },
         {
          "X": 0.38237738609313965,
          "Y": 0.026604602113366127,
          "count": 55,
          "label": "1"
         },
         {
          "X": 0.382377564907074,
          "Y": 0.02660459466278553,
          "count": 55,
          "label": "1"
         },
         {
          "X": 0.38253846764564514,
          "Y": 0.026636380702257156,
          "count": 55,
          "label": "1"
         },
         {
          "X": 0.3823773264884949,
          "Y": 0.02660461701452732,
          "count": 55,
          "label": "1"
         },
         {
          "X": 0.3823774755001068,
          "Y": 0.026604661718010902,
          "count": 55,
          "label": "1"
         },
         {
          "X": 0.38237759470939636,
          "Y": 0.026604637503623962,
          "count": 55,
          "label": "1"
         },
         {
          "X": 0.38237741589546204,
          "Y": 0.026604609563946724,
          "count": 55,
          "label": "1"
         },
         {
          "X": 0.3825382590293884,
          "Y": 0.026636401191353798,
          "count": 55,
          "label": "1"
         },
         {
          "X": 0.38237738609313965,
          "Y": 0.02660457231104374,
          "count": 55,
          "label": "1"
         },
         {
          "X": 0.38237738609313965,
          "Y": 0.026604603976011276,
          "count": 55,
          "label": "1"
         },
         {
          "X": 0.38237762451171875,
          "Y": 0.026604587212204933,
          "count": 55,
          "label": "1"
         },
         {
          "X": 0.3823775351047516,
          "Y": 0.026604538783431053,
          "count": 55,
          "label": "1"
         },
         {
          "X": 0.38237762451171875,
          "Y": 0.02660459838807583,
          "count": 55,
          "label": "1"
         },
         {
          "X": 0.382377564907074,
          "Y": 0.02660462073981762,
          "count": 55,
          "label": "1"
         },
         {
          "X": 0.38237762451171875,
          "Y": 0.026604562997817993,
          "count": 55,
          "label": "1"
         },
         {
          "X": 0.3823774755001068,
          "Y": 0.026604607701301575,
          "count": 55,
          "label": "1"
         },
         {
          "X": 0.38237759470939636,
          "Y": 0.026604607701301575,
          "count": 55,
          "label": "1"
         },
         {
          "X": 0.38253846764564514,
          "Y": 0.026636358350515366,
          "count": 55,
          "label": "1"
         },
         {
          "X": 0.3823774755001068,
          "Y": 0.026604635640978813,
          "count": 55,
          "label": "1"
         },
         {
          "X": 0.3825383484363556,
          "Y": 0.026636401191353798,
          "count": 55,
          "label": "1"
         },
         {
          "X": 0.38253840804100037,
          "Y": 0.02663635089993477,
          "count": 55,
          "label": "1"
         },
         {
          "X": 0.382377564907074,
          "Y": 0.02660461515188217,
          "count": 55,
          "label": "1"
         },
         {
          "X": 0.38253846764564514,
          "Y": 0.026636363938450813,
          "count": 55,
          "label": "1"
         },
         {
          "X": 0.3825382590293884,
          "Y": 0.026636401191353798,
          "count": 55,
          "label": "1"
         },
         {
          "X": 0.3823775053024292,
          "Y": 0.02660461701452732,
          "count": 55,
          "label": "1"
         },
         {
          "X": 0.38253840804100037,
          "Y": 0.026636403053998947,
          "count": 55,
          "label": "1"
         },
         {
          "X": 0.054940976202487946,
          "Y": 1.9244228601455688,
          "count": 124,
          "label": "AUSSI"
         },
         {
          "X": -1.3968206644058228,
          "Y": -0.7054904103279114,
          "count": 124,
          "label": "AUSSI"
         },
         {
          "X": 0.030435696244239807,
          "Y": 1.9478543996810913,
          "count": 124,
          "label": "AUSSI"
         },
         {
          "X": -0.010860791429877281,
          "Y": 0.7860143780708313,
          "count": 124,
          "label": "AUSSI"
         },
         {
          "X": -0.7744936347007751,
          "Y": 0.43829581141471863,
          "count": 124,
          "label": "AUSSI"
         },
         {
          "X": 0.12445073574781418,
          "Y": 0.05000607669353485,
          "count": 124,
          "label": "AUSSI"
         },
         {
          "X": -0.5263254046440125,
          "Y": -0.5030304193496704,
          "count": 124,
          "label": "AUSSI"
         },
         {
          "X": 0.38237738609313965,
          "Y": 0.026604602113366127,
          "count": 124,
          "label": "AUSSI"
         },
         {
          "X": -0.2342323362827301,
          "Y": -2.38041090965271,
          "count": 124,
          "label": "AUSSI"
         },
         {
          "X": 0.7569299340248108,
          "Y": -1.7701759338378906,
          "count": 124,
          "label": "AUSSI"
         },
         {
          "X": 0.7769594192504883,
          "Y": -0.937835156917572,
          "count": 124,
          "label": "AUSSI"
         },
         {
          "X": -1.433718204498291,
          "Y": -1.7712657451629639,
          "count": 124,
          "label": "AUSSI"
         },
         {
          "X": 0.12445073574781418,
          "Y": 0.05000607669353485,
          "count": 124,
          "label": "AUSSI"
         },
         {
          "X": 0.5215978622436523,
          "Y": -1.8576406240463257,
          "count": 124,
          "label": "AUSSI"
         },
         {
          "X": 0.8493266105651855,
          "Y": 0.3709956705570221,
          "count": 124,
          "label": "AUSSI"
         },
         {
          "X": 2.843754768371582,
          "Y": 0.3875747323036194,
          "count": 124,
          "label": "AUSSI"
         },
         {
          "X": 2.5976979732513428,
          "Y": 1.3837021589279175,
          "count": 124,
          "label": "AUSSI"
         },
         {
          "X": 0.7569299340248108,
          "Y": -1.7701759338378906,
          "count": 124,
          "label": "AUSSI"
         },
         {
          "X": 0.08518155664205551,
          "Y": -0.5668357610702515,
          "count": 124,
          "label": "AUSSI"
         },
         {
          "X": 0.12445073574781418,
          "Y": 0.05000607669353485,
          "count": 124,
          "label": "AUSSI"
         },
         {
          "X": 0.9383410811424255,
          "Y": -0.30791112780570984,
          "count": 124,
          "label": "AUSSI"
         },
         {
          "X": -2.2484381198883057,
          "Y": -0.08005529642105103,
          "count": 124,
          "label": "AUSSI"
         },
         {
          "X": 2.5976979732513428,
          "Y": 1.3837021589279175,
          "count": 124,
          "label": "AUSSI"
         },
         {
          "X": 0.12445073574781418,
          "Y": 0.05000607669353485,
          "count": 124,
          "label": "AUSSI"
         },
         {
          "X": 0.4047434628009796,
          "Y": 2.6628003120422363,
          "count": 124,
          "label": "AUSSI"
         },
         {
          "X": 0.7769594192504883,
          "Y": -0.937835156917572,
          "count": 124,
          "label": "AUSSI"
         },
         {
          "X": 1.5444684028625488,
          "Y": -2.3124451637268066,
          "count": 124,
          "label": "AUSSI"
         },
         {
          "X": 0.9383410811424255,
          "Y": -0.30791112780570984,
          "count": 124,
          "label": "AUSSI"
         },
         {
          "X": -1.433718204498291,
          "Y": -1.7712657451629639,
          "count": 124,
          "label": "AUSSI"
         },
         {
          "X": -1.669831395149231,
          "Y": 0.19383834302425385,
          "count": 124,
          "label": "AUSSI"
         },
         {
          "X": -0.5734463334083557,
          "Y": 1.4404056072235107,
          "count": 124,
          "label": "AUSSI"
         },
         {
          "X": 0.08518155664205551,
          "Y": -0.5668357610702515,
          "count": 124,
          "label": "AUSSI"
         },
         {
          "X": 0.12445073574781418,
          "Y": 0.05000607669353485,
          "count": 124,
          "label": "AUSSI"
         },
         {
          "X": 2.316990375518799,
          "Y": 1.6865448951721191,
          "count": 124,
          "label": "AUSSI"
         },
         {
          "X": 1.3840988874435425,
          "Y": -0.24738861620426178,
          "count": 124,
          "label": "AUSSI"
         },
         {
          "X": -0.010860791429877281,
          "Y": 0.7860143780708313,
          "count": 124,
          "label": "AUSSI"
         },
         {
          "X": 0.7769594192504883,
          "Y": -0.937835156917572,
          "count": 124,
          "label": "AUSSI"
         },
         {
          "X": 0.8493266105651855,
          "Y": 0.3709956705570221,
          "count": 124,
          "label": "AUSSI"
         },
         {
          "X": -0.010860791429877281,
          "Y": 0.7860143780708313,
          "count": 124,
          "label": "AUSSI"
         },
         {
          "X": 0.7133759260177612,
          "Y": 1.2155088186264038,
          "count": 124,
          "label": "AUSSI"
         },
         {
          "X": 1.9337143898010254,
          "Y": 0.7559248805046082,
          "count": 124,
          "label": "AUSSI"
         },
         {
          "X": -0.20227792859077454,
          "Y": 2.6058075428009033,
          "count": 124,
          "label": "AUSSI"
         },
         {
          "X": 0.8493266105651855,
          "Y": 0.3709956705570221,
          "count": 124,
          "label": "AUSSI"
         },
         {
          "X": 0.7133759260177612,
          "Y": 1.2155088186264038,
          "count": 124,
          "label": "AUSSI"
         },
         {
          "X": -1.669831395149231,
          "Y": 0.19383834302425385,
          "count": 124,
          "label": "AUSSI"
         },
         {
          "X": -0.010860791429877281,
          "Y": 0.7860143780708313,
          "count": 124,
          "label": "AUSSI"
         },
         {
          "X": 1.5576236248016357,
          "Y": 0.37839797139167786,
          "count": 124,
          "label": "AUSSI"
         },
         {
          "X": 1.0381417274475098,
          "Y": 2.305878162384033,
          "count": 124,
          "label": "AUSSI"
         },
         {
          "X": 2.189912796020508,
          "Y": -0.3414364457130432,
          "count": 124,
          "label": "AUSSI"
         },
         {
          "X": -2.094820976257324,
          "Y": 0.9459067583084106,
          "count": 124,
          "label": "AUSSI"
         },
         {
          "X": -1.664787769317627,
          "Y": 1.7272974252700806,
          "count": 124,
          "label": "AUSSI"
         },
         {
          "X": 0.5059654712677002,
          "Y": -0.36345821619033813,
          "count": 124,
          "label": "AUSSI"
         },
         {
          "X": 0.7769594192504883,
          "Y": -0.937835156917572,
          "count": 124,
          "label": "AUSSI"
         },
         {
          "X": 0.8493266105651855,
          "Y": 0.3709956705570221,
          "count": 124,
          "label": "AUSSI"
         },
         {
          "X": -1.1061962842941284,
          "Y": 2.2150063514709473,
          "count": 124,
          "label": "AUSSI"
         },
         {
          "X": -1.4802589416503906,
          "Y": -0.13927695155143738,
          "count": 124,
          "label": "AUSSI"
         },
         {
          "X": -0.5734463334083557,
          "Y": 1.4404056072235107,
          "count": 124,
          "label": "AUSSI"
         },
         {
          "X": -0.038906216621398926,
          "Y": -1.3321967124938965,
          "count": 124,
          "label": "AUSSI"
         },
         {
          "X": -0.038906216621398926,
          "Y": -1.3321967124938965,
          "count": 124,
          "label": "AUSSI"
         },
         {
          "X": -0.2342323362827301,
          "Y": -2.38041090965271,
          "count": 124,
          "label": "AUSSI"
         },
         {
          "X": -0.010860791429877281,
          "Y": 0.7860143780708313,
          "count": 124,
          "label": "AUSSI"
         },
         {
          "X": -0.5734463334083557,
          "Y": 1.4404056072235107,
          "count": 124,
          "label": "AUSSI"
         },
         {
          "X": -1.433718204498291,
          "Y": -1.7712657451629639,
          "count": 124,
          "label": "AUSSI"
         },
         {
          "X": -0.038906216621398926,
          "Y": -1.3321967124938965,
          "count": 124,
          "label": "AUSSI"
         },
         {
          "X": 0.12445073574781418,
          "Y": 0.05000607669353485,
          "count": 124,
          "label": "AUSSI"
         },
         {
          "X": 0.7133759260177612,
          "Y": 1.2155088186264038,
          "count": 124,
          "label": "AUSSI"
         },
         {
          "X": 2.189912796020508,
          "Y": -0.3414364457130432,
          "count": 124,
          "label": "AUSSI"
         },
         {
          "X": 0.7133759260177612,
          "Y": 1.2155088186264038,
          "count": 124,
          "label": "AUSSI"
         },
         {
          "X": 0.006693319883197546,
          "Y": -0.5674325227737427,
          "count": 124,
          "label": "AUSSI"
         },
         {
          "X": 1.9539906978607178,
          "Y": 2.177903652191162,
          "count": 124,
          "label": "AUSSI"
         },
         {
          "X": -0.7744936347007751,
          "Y": 0.43829581141471863,
          "count": 124,
          "label": "AUSSI"
         },
         {
          "X": 0.12445073574781418,
          "Y": 0.05000607669353485,
          "count": 124,
          "label": "AUSSI"
         },
         {
          "X": 0.08518155664205551,
          "Y": -0.5668357610702515,
          "count": 124,
          "label": "AUSSI"
         },
         {
          "X": -2.094820976257324,
          "Y": 0.9459067583084106,
          "count": 124,
          "label": "AUSSI"
         },
         {
          "X": 0.8493266105651855,
          "Y": 0.3709956705570221,
          "count": 124,
          "label": "AUSSI"
         },
         {
          "X": 1.490423321723938,
          "Y": -0.8618544936180115,
          "count": 124,
          "label": "AUSSI"
         },
         {
          "X": 1.4603018760681152,
          "Y": 1.5007543563842773,
          "count": 124,
          "label": "AUSSI"
         },
         {
          "X": 0.9383410811424255,
          "Y": -0.30791112780570984,
          "count": 124,
          "label": "AUSSI"
         },
         {
          "X": 0.054940976202487946,
          "Y": 1.9244228601455688,
          "count": 124,
          "label": "AUSSI"
         },
         {
          "X": -0.010860791429877281,
          "Y": 0.7860143780708313,
          "count": 124,
          "label": "AUSSI"
         },
         {
          "X": -0.010860791429877281,
          "Y": 0.7860143780708313,
          "count": 124,
          "label": "AUSSI"
         },
         {
          "X": 1.5617005825042725,
          "Y": 0.3695625364780426,
          "count": 124,
          "label": "AUSSI"
         },
         {
          "X": -1.669831395149231,
          "Y": 0.19383834302425385,
          "count": 124,
          "label": "AUSSI"
         },
         {
          "X": -0.5263254046440125,
          "Y": -0.5030304193496704,
          "count": 124,
          "label": "AUSSI"
         },
         {
          "X": 0.4047434628009796,
          "Y": 2.6628003120422363,
          "count": 124,
          "label": "AUSSI"
         },
         {
          "X": -0.038906216621398926,
          "Y": -1.3321967124938965,
          "count": 124,
          "label": "AUSSI"
         },
         {
          "X": 1.9337143898010254,
          "Y": 0.7559248805046082,
          "count": 124,
          "label": "AUSSI"
         },
         {
          "X": 0.7769594192504883,
          "Y": -0.937835156917572,
          "count": 124,
          "label": "AUSSI"
         },
         {
          "X": -0.20227792859077454,
          "Y": 2.6058075428009033,
          "count": 124,
          "label": "AUSSI"
         },
         {
          "X": -1.986215591430664,
          "Y": -1.3099150657653809,
          "count": 124,
          "label": "AUSSI"
         },
         {
          "X": 2.299724578857422,
          "Y": -2.0451042652130127,
          "count": 124,
          "label": "AUSSI"
         },
         {
          "X": 0.8493266105651855,
          "Y": 0.3709956705570221,
          "count": 124,
          "label": "AUSSI"
         },
         {
          "X": 1.9539906978607178,
          "Y": 2.177903652191162,
          "count": 124,
          "label": "AUSSI"
         },
         {
          "X": -0.010860791429877281,
          "Y": 0.7860143780708313,
          "count": 124,
          "label": "AUSSI"
         },
         {
          "X": -0.038906216621398926,
          "Y": -1.3321967124938965,
          "count": 124,
          "label": "AUSSI"
         },
         {
          "X": 0.12445073574781418,
          "Y": 0.05000607669353485,
          "count": 124,
          "label": "AUSSI"
         },
         {
          "X": 0.8493266105651855,
          "Y": 0.3709956705570221,
          "count": 124,
          "label": "AUSSI"
         },
         {
          "X": 0.08518155664205551,
          "Y": -0.5668357610702515,
          "count": 124,
          "label": "AUSSI"
         },
         {
          "X": 1.9337143898010254,
          "Y": 0.7559248805046082,
          "count": 124,
          "label": "AUSSI"
         },
         {
          "X": -0.7520882487297058,
          "Y": -0.2695270776748657,
          "count": 124,
          "label": "AUSSI"
         },
         {
          "X": 1.4603018760681152,
          "Y": 1.5007543563842773,
          "count": 124,
          "label": "AUSSI"
         },
         {
          "X": 1.4603018760681152,
          "Y": 1.5007543563842773,
          "count": 124,
          "label": "AUSSI"
         },
         {
          "X": 0.7569299340248108,
          "Y": -1.7701759338378906,
          "count": 124,
          "label": "AUSSI"
         },
         {
          "X": 0.08518155664205551,
          "Y": -0.5668357610702515,
          "count": 124,
          "label": "AUSSI"
         },
         {
          "X": 1.7958910465240479,
          "Y": -1.4791693687438965,
          "count": 124,
          "label": "AUSSI"
         },
         {
          "X": 1.490423321723938,
          "Y": -0.8618544936180115,
          "count": 124,
          "label": "AUSSI"
         },
         {
          "X": 1.7958910465240479,
          "Y": -1.4791693687438965,
          "count": 124,
          "label": "AUSSI"
         },
         {
          "X": -2.094820976257324,
          "Y": 0.9459067583084106,
          "count": 124,
          "label": "AUSSI"
         },
         {
          "X": 2.299724578857422,
          "Y": -2.0451042652130127,
          "count": 124,
          "label": "AUSSI"
         },
         {
          "X": 2.189912796020508,
          "Y": -0.3414364457130432,
          "count": 124,
          "label": "AUSSI"
         },
         {
          "X": 0.311575323343277,
          "Y": -2.505739450454712,
          "count": 124,
          "label": "AUSSI"
         },
         {
          "X": -0.038906216621398926,
          "Y": -1.3321967124938965,
          "count": 124,
          "label": "AUSSI"
         },
         {
          "X": 0.7133759260177612,
          "Y": 1.2155088186264038,
          "count": 124,
          "label": "AUSSI"
         },
         {
          "X": 0.12445073574781418,
          "Y": 0.05000607669353485,
          "count": 124,
          "label": "AUSSI"
         },
         {
          "X": -2.2484381198883057,
          "Y": -0.08005529642105103,
          "count": 124,
          "label": "AUSSI"
         },
         {
          "X": -2.330791473388672,
          "Y": 0.45270487666130066,
          "count": 124,
          "label": "AUSSI"
         },
         {
          "X": -0.5734463334083557,
          "Y": 1.4404056072235107,
          "count": 124,
          "label": "AUSSI"
         },
         {
          "X": 0.8493266105651855,
          "Y": 0.3709956705570221,
          "count": 124,
          "label": "AUSSI"
         },
         {
          "X": 1.3840988874435425,
          "Y": -0.24738861620426178,
          "count": 124,
          "label": "AUSSI"
         },
         {
          "X": 0.7133759260177612,
          "Y": 1.2155088186264038,
          "count": 124,
          "label": "AUSSI"
         },
         {
          "X": 1.490423321723938,
          "Y": -0.8618544936180115,
          "count": 124,
          "label": "AUSSI"
         },
         {
          "X": 0.2876945436000824,
          "Y": 1.8856663703918457,
          "count": 124,
          "label": "AUSSI"
         },
         {
          "X": 1.3840988874435425,
          "Y": -0.24738861620426178,
          "count": 124,
          "label": "AUSSI"
         },
         {
          "X": 0.006693319883197546,
          "Y": -0.5674325227737427,
          "count": 124,
          "label": "AUSSI"
         },
         {
          "X": -2.2484381198883057,
          "Y": -0.08005529642105103,
          "count": 118,
          "label": "OUI"
         },
         {
          "X": 2.923506736755371,
          "Y": -0.958000123500824,
          "count": 118,
          "label": "OUI"
         },
         {
          "X": -0.7744936347007751,
          "Y": 0.43829581141471863,
          "count": 118,
          "label": "OUI"
         },
         {
          "X": 0.7133759260177612,
          "Y": 1.2155088186264038,
          "count": 118,
          "label": "OUI"
         },
         {
          "X": 0.2876945436000824,
          "Y": 1.8856663703918457,
          "count": 118,
          "label": "OUI"
         },
         {
          "X": 0.12445073574781418,
          "Y": 0.05000607669353485,
          "count": 118,
          "label": "OUI"
         },
         {
          "X": 1.490423321723938,
          "Y": -0.8618544936180115,
          "count": 118,
          "label": "OUI"
         },
         {
          "X": -2.094820976257324,
          "Y": 0.9459067583084106,
          "count": 118,
          "label": "OUI"
         },
         {
          "X": -0.5727768540382385,
          "Y": 0.19141483306884766,
          "count": 118,
          "label": "OUI"
         },
         {
          "X": -1.986215591430664,
          "Y": -1.3099150657653809,
          "count": 118,
          "label": "OUI"
         },
         {
          "X": 0.5004889369010925,
          "Y": -0.3752165734767914,
          "count": 118,
          "label": "OUI"
         },
         {
          "X": -1.0455948114395142,
          "Y": 0.62473464012146,
          "count": 118,
          "label": "OUI"
         },
         {
          "X": -0.7458605766296387,
          "Y": 2.3939642906188965,
          "count": 118,
          "label": "OUI"
         },
         {
          "X": 1.9539906978607178,
          "Y": 2.177903652191162,
          "count": 118,
          "label": "OUI"
         },
         {
          "X": -2.094820976257324,
          "Y": 0.9459067583084106,
          "count": 118,
          "label": "OUI"
         },
         {
          "X": 1.4603018760681152,
          "Y": 1.5007543563842773,
          "count": 118,
          "label": "OUI"
         },
         {
          "X": -1.0455948114395142,
          "Y": 0.62473464012146,
          "count": 118,
          "label": "OUI"
         },
         {
          "X": 0.8493266105651855,
          "Y": 0.3709956705570221,
          "count": 118,
          "label": "OUI"
         },
         {
          "X": 1.7958910465240479,
          "Y": -1.4791693687438965,
          "count": 118,
          "label": "OUI"
         },
         {
          "X": -2.2484381198883057,
          "Y": -0.08005529642105103,
          "count": 118,
          "label": "OUI"
         },
         {
          "X": -0.010860791429877281,
          "Y": 0.7860143780708313,
          "count": 118,
          "label": "OUI"
         },
         {
          "X": 1.4874746799468994,
          "Y": -1.1944838762283325,
          "count": 118,
          "label": "OUI"
         },
         {
          "X": 0.054940976202487946,
          "Y": 1.9244228601455688,
          "count": 118,
          "label": "OUI"
         },
         {
          "X": 1.490423321723938,
          "Y": -0.8618544936180115,
          "count": 118,
          "label": "OUI"
         },
         {
          "X": 0.030435696244239807,
          "Y": 1.9478543996810913,
          "count": 118,
          "label": "OUI"
         },
         {
          "X": 2.189912796020508,
          "Y": -0.3414364457130432,
          "count": 118,
          "label": "OUI"
         },
         {
          "X": 1.4603018760681152,
          "Y": 1.5007543563842773,
          "count": 118,
          "label": "OUI"
         },
         {
          "X": -0.5734463334083557,
          "Y": 1.4404056072235107,
          "count": 118,
          "label": "OUI"
         },
         {
          "X": -1.3457872867584229,
          "Y": 0.9522409439086914,
          "count": 118,
          "label": "OUI"
         },
         {
          "X": 0.8493266105651855,
          "Y": 0.3709956705570221,
          "count": 118,
          "label": "OUI"
         },
         {
          "X": -1.4802589416503906,
          "Y": -0.13927695155143738,
          "count": 118,
          "label": "OUI"
         },
         {
          "X": 0.9383410811424255,
          "Y": -0.30791112780570984,
          "count": 118,
          "label": "OUI"
         },
         {
          "X": 0.7133759260177612,
          "Y": 1.2155088186264038,
          "count": 118,
          "label": "OUI"
         },
         {
          "X": 2.333472967147827,
          "Y": 1.6907259225845337,
          "count": 118,
          "label": "OUI"
         },
         {
          "X": -2.2484381198883057,
          "Y": -0.08005529642105103,
          "count": 118,
          "label": "OUI"
         },
         {
          "X": 2.5976979732513428,
          "Y": 1.3837021589279175,
          "count": 118,
          "label": "OUI"
         },
         {
          "X": 0.8493266105651855,
          "Y": 0.3709956705570221,
          "count": 118,
          "label": "OUI"
         },
         {
          "X": -0.038906216621398926,
          "Y": -1.3321967124938965,
          "count": 118,
          "label": "OUI"
         },
         {
          "X": 0.12445073574781418,
          "Y": 0.05000607669353485,
          "count": 118,
          "label": "OUI"
         },
         {
          "X": 0.12445073574781418,
          "Y": 0.05000607669353485,
          "count": 118,
          "label": "OUI"
         },
         {
          "X": 1.3840988874435425,
          "Y": -0.24738861620426178,
          "count": 118,
          "label": "OUI"
         },
         {
          "X": 0.12445073574781418,
          "Y": 0.05000607669353485,
          "count": 118,
          "label": "OUI"
         },
         {
          "X": -0.038906216621398926,
          "Y": -1.3321967124938965,
          "count": 118,
          "label": "OUI"
         },
         {
          "X": -0.010860791429877281,
          "Y": 0.7860143780708313,
          "count": 118,
          "label": "OUI"
         },
         {
          "X": -0.2342323362827301,
          "Y": -2.38041090965271,
          "count": 118,
          "label": "OUI"
         },
         {
          "X": 0.12445073574781418,
          "Y": 0.05000607669353485,
          "count": 118,
          "label": "OUI"
         },
         {
          "X": 0.4047434628009796,
          "Y": 2.6628003120422363,
          "count": 118,
          "label": "OUI"
         },
         {
          "X": 2.5976979732513428,
          "Y": 1.3837021589279175,
          "count": 118,
          "label": "OUI"
         },
         {
          "X": -0.8977599740028381,
          "Y": -2.1725804805755615,
          "count": 118,
          "label": "OUI"
         },
         {
          "X": 0.7769594192504883,
          "Y": -0.937835156917572,
          "count": 118,
          "label": "OUI"
         },
         {
          "X": -0.2342323362827301,
          "Y": -2.38041090965271,
          "count": 118,
          "label": "OUI"
         },
         {
          "X": -0.7744936347007751,
          "Y": 0.43829581141471863,
          "count": 118,
          "label": "OUI"
         },
         {
          "X": 0.7133759260177612,
          "Y": 1.2155088186264038,
          "count": 118,
          "label": "OUI"
         },
         {
          "X": 2.8399338722229004,
          "Y": 0.9212411046028137,
          "count": 118,
          "label": "OUI"
         },
         {
          "X": -0.7744936347007751,
          "Y": 0.43829581141471863,
          "count": 118,
          "label": "OUI"
         },
         {
          "X": -0.20227792859077454,
          "Y": 2.6058075428009033,
          "count": 118,
          "label": "OUI"
         },
         {
          "X": 0.3275226056575775,
          "Y": 1.327501893043518,
          "count": 118,
          "label": "OUI"
         },
         {
          "X": 2.8399338722229004,
          "Y": 0.9212411046028137,
          "count": 118,
          "label": "OUI"
         },
         {
          "X": 0.7133759260177612,
          "Y": 1.2155088186264038,
          "count": 118,
          "label": "OUI"
         },
         {
          "X": -0.010860791429877281,
          "Y": 0.7860143780708313,
          "count": 118,
          "label": "OUI"
         },
         {
          "X": -0.7890880703926086,
          "Y": -1.0077091455459595,
          "count": 118,
          "label": "OUI"
         },
         {
          "X": -0.010860791429877281,
          "Y": 0.7860143780708313,
          "count": 118,
          "label": "OUI"
         },
         {
          "X": -1.664787769317627,
          "Y": 1.7272974252700806,
          "count": 118,
          "label": "OUI"
         },
         {
          "X": 0.9383410811424255,
          "Y": -0.30791112780570984,
          "count": 118,
          "label": "OUI"
         },
         {
          "X": 0.7769594192504883,
          "Y": -0.937835156917572,
          "count": 118,
          "label": "OUI"
         },
         {
          "X": 1.227840542793274,
          "Y": 1.0427117347717285,
          "count": 118,
          "label": "OUI"
         },
         {
          "X": 0.12445073574781418,
          "Y": 0.05000607669353485,
          "count": 118,
          "label": "OUI"
         },
         {
          "X": -1.0455948114395142,
          "Y": 0.62473464012146,
          "count": 118,
          "label": "OUI"
         },
         {
          "X": 1.7958910465240479,
          "Y": -1.4791693687438965,
          "count": 118,
          "label": "OUI"
         },
         {
          "X": 0.8493266105651855,
          "Y": 0.3709956705570221,
          "count": 118,
          "label": "OUI"
         },
         {
          "X": 0.12445073574781418,
          "Y": 0.05000607669353485,
          "count": 118,
          "label": "OUI"
         },
         {
          "X": 0.12445073574781418,
          "Y": 0.05000607669353485,
          "count": 118,
          "label": "OUI"
         },
         {
          "X": 1.9337143898010254,
          "Y": 0.7559248805046082,
          "count": 118,
          "label": "OUI"
         },
         {
          "X": 0.7133759260177612,
          "Y": 1.2155088186264038,
          "count": 118,
          "label": "OUI"
         },
         {
          "X": 0.9383410811424255,
          "Y": -0.30791112780570984,
          "count": 118,
          "label": "OUI"
         },
         {
          "X": 0.12445073574781418,
          "Y": 0.05000607669353485,
          "count": 118,
          "label": "OUI"
         },
         {
          "X": 1.4603018760681152,
          "Y": 1.5007543563842773,
          "count": 118,
          "label": "OUI"
         },
         {
          "X": 1.5576236248016357,
          "Y": 0.37839797139167786,
          "count": 118,
          "label": "OUI"
         },
         {
          "X": 0.8493266105651855,
          "Y": 0.3709956705570221,
          "count": 118,
          "label": "OUI"
         },
         {
          "X": -0.010860791429877281,
          "Y": 0.7860143780708313,
          "count": 118,
          "label": "OUI"
         },
         {
          "X": -0.038906216621398926,
          "Y": -1.3321967124938965,
          "count": 118,
          "label": "OUI"
         },
         {
          "X": 1.565230369567871,
          "Y": 0.3735778033733368,
          "count": 118,
          "label": "OUI"
         },
         {
          "X": 1.9539906978607178,
          "Y": 2.177903652191162,
          "count": 118,
          "label": "OUI"
         },
         {
          "X": 2.356484889984131,
          "Y": 1.6304043531417847,
          "count": 118,
          "label": "OUI"
         },
         {
          "X": -0.038906216621398926,
          "Y": -1.3321967124938965,
          "count": 118,
          "label": "OUI"
         },
         {
          "X": 0.12445073574781418,
          "Y": 0.05000607669353485,
          "count": 118,
          "label": "OUI"
         },
         {
          "X": 2.2986629009246826,
          "Y": -2.04585337638855,
          "count": 118,
          "label": "OUI"
         },
         {
          "X": 0.12445073574781418,
          "Y": 0.05000607669353485,
          "count": 118,
          "label": "OUI"
         },
         {
          "X": -0.6066305637359619,
          "Y": 0.047458481043577194,
          "count": 118,
          "label": "OUI"
         },
         {
          "X": -0.038906216621398926,
          "Y": -1.3321967124938965,
          "count": 118,
          "label": "OUI"
         },
         {
          "X": 0.08518155664205551,
          "Y": -0.5668357610702515,
          "count": 118,
          "label": "OUI"
         },
         {
          "X": 1.7958910465240479,
          "Y": -1.4791693687438965,
          "count": 118,
          "label": "OUI"
         },
         {
          "X": 0.8493266105651855,
          "Y": 0.3709956705570221,
          "count": 118,
          "label": "OUI"
         },
         {
          "X": -0.010860791429877281,
          "Y": 0.7860143780708313,
          "count": 118,
          "label": "OUI"
         },
         {
          "X": -0.2342323362827301,
          "Y": -2.38041090965271,
          "count": 118,
          "label": "OUI"
         },
         {
          "X": 1.9337143898010254,
          "Y": 0.7559248805046082,
          "count": 118,
          "label": "OUI"
         },
         {
          "X": -1.3968206644058228,
          "Y": -0.7054904103279114,
          "count": 118,
          "label": "OUI"
         },
         {
          "X": 1.9539906978607178,
          "Y": 2.177903652191162,
          "count": 118,
          "label": "OUI"
         },
         {
          "X": -2.2484381198883057,
          "Y": -0.08005529642105103,
          "count": 118,
          "label": "OUI"
         },
         {
          "X": -0.5734463334083557,
          "Y": 1.4404056072235107,
          "count": 118,
          "label": "OUI"
         },
         {
          "X": -0.5734463334083557,
          "Y": 1.4404056072235107,
          "count": 118,
          "label": "OUI"
         },
         {
          "X": -0.010860791429877281,
          "Y": 0.7860143780708313,
          "count": 118,
          "label": "OUI"
         },
         {
          "X": -0.010860791429877281,
          "Y": 0.7860143780708313,
          "count": 118,
          "label": "OUI"
         },
         {
          "X": 0.7133759260177612,
          "Y": 1.2155088186264038,
          "count": 118,
          "label": "OUI"
         },
         {
          "X": 0.7133759260177612,
          "Y": 1.2155088186264038,
          "count": 118,
          "label": "OUI"
         },
         {
          "X": 2.3268849849700928,
          "Y": 1.6612770557403564,
          "count": 118,
          "label": "OUI"
         },
         {
          "X": -0.535822331905365,
          "Y": -0.45780566334724426,
          "count": 118,
          "label": "OUI"
         },
         {
          "X": 2.189912796020508,
          "Y": -0.3414364457130432,
          "count": 118,
          "label": "OUI"
         },
         {
          "X": 0.006693319883197546,
          "Y": -0.5674325227737427,
          "count": 118,
          "label": "OUI"
         },
         {
          "X": -0.038906216621398926,
          "Y": -1.3321967124938965,
          "count": 118,
          "label": "OUI"
         },
         {
          "X": 1.5444684028625488,
          "Y": -2.3124451637268066,
          "count": 118,
          "label": "OUI"
         },
         {
          "X": -2.094820976257324,
          "Y": 0.9459067583084106,
          "count": 118,
          "label": "OUI"
         },
         {
          "X": -0.5734463334083557,
          "Y": 1.4404056072235107,
          "count": 118,
          "label": "OUI"
         },
         {
          "X": 2.189912796020508,
          "Y": -0.3414364457130432,
          "count": 118,
          "label": "OUI"
         },
         {
          "X": 0.5004889369010925,
          "Y": -0.3752165734767914,
          "count": 118,
          "label": "OUI"
         },
         {
          "X": 2.8399338722229004,
          "Y": 0.9212411046028137,
          "count": 118,
          "label": "OUI"
         },
         {
          "X": 0.7769594192504883,
          "Y": -0.937835156917572,
          "count": 118,
          "label": "OUI"
         },
         {
          "X": 1.9337143898010254,
          "Y": 0.7559248805046082,
          "count": 118,
          "label": "OUI"
         },
         {
          "X": 0.9383410811424255,
          "Y": -0.30791112780570984,
          "count": 49,
          "label": "DIRE"
         },
         {
          "X": 0.8493266105651855,
          "Y": 0.3709956705570221,
          "count": 49,
          "label": "DIRE"
         },
         {
          "X": -2.094820976257324,
          "Y": 0.9459067583084106,
          "count": 49,
          "label": "DIRE"
         },
         {
          "X": -0.010860791429877281,
          "Y": 0.7860143780708313,
          "count": 49,
          "label": "DIRE"
         },
         {
          "X": 0.8493266105651855,
          "Y": 0.3709956705570221,
          "count": 49,
          "label": "DIRE"
         },
         {
          "X": 2.189912796020508,
          "Y": -0.3414364457130432,
          "count": 49,
          "label": "DIRE"
         },
         {
          "X": 0.8493266105651855,
          "Y": 0.3709956705570221,
          "count": 49,
          "label": "DIRE"
         },
         {
          "X": 0.9383410811424255,
          "Y": -0.30791112780570984,
          "count": 49,
          "label": "DIRE"
         },
         {
          "X": 1.9337143898010254,
          "Y": 0.7559248805046082,
          "count": 49,
          "label": "DIRE"
         },
         {
          "X": 1.3840988874435425,
          "Y": -0.24738861620426178,
          "count": 49,
          "label": "DIRE"
         },
         {
          "X": -0.7890880703926086,
          "Y": -1.0077091455459595,
          "count": 49,
          "label": "DIRE"
         },
         {
          "X": -1.2051360607147217,
          "Y": 1.1815179586410522,
          "count": 49,
          "label": "DIRE"
         },
         {
          "X": 1.9539906978607178,
          "Y": 2.177903652191162,
          "count": 49,
          "label": "DIRE"
         },
         {
          "X": 0.8493266105651855,
          "Y": 0.3709956705570221,
          "count": 49,
          "label": "DIRE"
         },
         {
          "X": -0.038906216621398926,
          "Y": -1.3321967124938965,
          "count": 49,
          "label": "DIRE"
         },
         {
          "X": -0.010860791429877281,
          "Y": 0.7860143780708313,
          "count": 49,
          "label": "DIRE"
         },
         {
          "X": 1.7958910465240479,
          "Y": -1.4791693687438965,
          "count": 49,
          "label": "DIRE"
         },
         {
          "X": 0.8493266105651855,
          "Y": 0.3709956705570221,
          "count": 49,
          "label": "DIRE"
         },
         {
          "X": 2.8399338722229004,
          "Y": 0.9212411046028137,
          "count": 49,
          "label": "DIRE"
         },
         {
          "X": 1.5444684028625488,
          "Y": -2.3124451637268066,
          "count": 49,
          "label": "DIRE"
         },
         {
          "X": 0.8493266105651855,
          "Y": 0.3709956705570221,
          "count": 49,
          "label": "DIRE"
         },
         {
          "X": -0.7744936347007751,
          "Y": 0.43829581141471863,
          "count": 49,
          "label": "DIRE"
         },
         {
          "X": 0.8493266105651855,
          "Y": 0.3709956705570221,
          "count": 49,
          "label": "DIRE"
         },
         {
          "X": 0.8493266105651855,
          "Y": 0.3709956705570221,
          "count": 49,
          "label": "DIRE"
         },
         {
          "X": -0.7890880703926086,
          "Y": -1.0077091455459595,
          "count": 49,
          "label": "DIRE"
         },
         {
          "X": 0.12445073574781418,
          "Y": 0.05000607669353485,
          "count": 49,
          "label": "DIRE"
         },
         {
          "X": 0.8493266105651855,
          "Y": 0.3709956705570221,
          "count": 49,
          "label": "DIRE"
         },
         {
          "X": 0.7809913158416748,
          "Y": -2.468172311782837,
          "count": 49,
          "label": "DIRE"
         },
         {
          "X": -1.3968206644058228,
          "Y": -0.7054904103279114,
          "count": 49,
          "label": "DIRE"
         },
         {
          "X": 0.12445073574781418,
          "Y": 0.05000607669353485,
          "count": 49,
          "label": "DIRE"
         },
         {
          "X": -0.20227792859077454,
          "Y": 2.6058075428009033,
          "count": 49,
          "label": "DIRE"
         },
         {
          "X": 0.8493266105651855,
          "Y": 0.3709956705570221,
          "count": 49,
          "label": "DIRE"
         },
         {
          "X": -1.986215591430664,
          "Y": -1.3099150657653809,
          "count": 49,
          "label": "DIRE"
         },
         {
          "X": -1.669831395149231,
          "Y": 0.19383834302425385,
          "count": 49,
          "label": "DIRE"
         },
         {
          "X": 1.9539906978607178,
          "Y": 2.177903652191162,
          "count": 49,
          "label": "DIRE"
         },
         {
          "X": 0.12445073574781418,
          "Y": 0.05000607669353485,
          "count": 49,
          "label": "DIRE"
         },
         {
          "X": 0.2876945436000824,
          "Y": 1.8856663703918457,
          "count": 49,
          "label": "DIRE"
         },
         {
          "X": 0.7133759260177612,
          "Y": 1.2155088186264038,
          "count": 49,
          "label": "DIRE"
         },
         {
          "X": 1.9337143898010254,
          "Y": 0.7559248805046082,
          "count": 49,
          "label": "DIRE"
         },
         {
          "X": 1.5576236248016357,
          "Y": 0.37839797139167786,
          "count": 49,
          "label": "DIRE"
         },
         {
          "X": -0.7744936347007751,
          "Y": 0.43829581141471863,
          "count": 49,
          "label": "DIRE"
         },
         {
          "X": -1.3455700874328613,
          "Y": 1.0156828165054321,
          "count": 49,
          "label": "DIRE"
         },
         {
          "X": 0.9383410811424255,
          "Y": -0.30791112780570984,
          "count": 49,
          "label": "DIRE"
         },
         {
          "X": 0.9383410811424255,
          "Y": -0.30791112780570984,
          "count": 49,
          "label": "DIRE"
         },
         {
          "X": -0.7744936347007751,
          "Y": 0.43829581141471863,
          "count": 49,
          "label": "DIRE"
         },
         {
          "X": 0.7133759260177612,
          "Y": 1.2155088186264038,
          "count": 49,
          "label": "DIRE"
         },
         {
          "X": 1.4603018760681152,
          "Y": 1.5007543563842773,
          "count": 49,
          "label": "DIRE"
         },
         {
          "X": -0.8002203106880188,
          "Y": -1.5430399179458618,
          "count": 49,
          "label": "DIRE"
         },
         {
          "X": 0.7769594192504883,
          "Y": -0.937835156917572,
          "count": 49,
          "label": "DIRE"
         },
         {
          "X": -0.5734463334083557,
          "Y": 1.4404056072235107,
          "count": 56,
          "label": "RIEN "
         },
         {
          "X": -0.038906216621398926,
          "Y": -1.3321967124938965,
          "count": 56,
          "label": "RIEN "
         },
         {
          "X": 1.5444684028625488,
          "Y": -2.3124451637268066,
          "count": 56,
          "label": "RIEN "
         },
         {
          "X": 0.8493266105651855,
          "Y": 0.3709956705570221,
          "count": 56,
          "label": "RIEN "
         },
         {
          "X": 0.7569299340248108,
          "Y": -1.7701759338378906,
          "count": 56,
          "label": "RIEN "
         },
         {
          "X": -0.5316834449768066,
          "Y": -0.3826110363006592,
          "count": 56,
          "label": "RIEN "
         },
         {
          "X": 2.189912796020508,
          "Y": -0.3414364457130432,
          "count": 56,
          "label": "RIEN "
         },
         {
          "X": -0.7827644348144531,
          "Y": -1.1214321851730347,
          "count": 56,
          "label": "RIEN "
         },
         {
          "X": 0.3275226056575775,
          "Y": 1.327501893043518,
          "count": 56,
          "label": "RIEN "
         },
         {
          "X": -0.2342323362827301,
          "Y": -2.38041090965271,
          "count": 56,
          "label": "RIEN "
         },
         {
          "X": -0.5727768540382385,
          "Y": 0.19141483306884766,
          "count": 56,
          "label": "RIEN "
         },
         {
          "X": 0.12445073574781418,
          "Y": 0.05000607669353485,
          "count": 56,
          "label": "RIEN "
         },
         {
          "X": 0.12445073574781418,
          "Y": 0.05000607669353485,
          "count": 56,
          "label": "RIEN "
         },
         {
          "X": -1.986215591430664,
          "Y": -1.3099150657653809,
          "count": 56,
          "label": "RIEN "
         },
         {
          "X": -1.4802589416503906,
          "Y": -0.13927695155143738,
          "count": 56,
          "label": "RIEN "
         },
         {
          "X": 1.9337143898010254,
          "Y": 0.7559248805046082,
          "count": 56,
          "label": "RIEN "
         },
         {
          "X": 0.5037851333618164,
          "Y": -0.36826446652412415,
          "count": 56,
          "label": "RIEN "
         },
         {
          "X": 0.7769594192504883,
          "Y": -0.937835156917572,
          "count": 56,
          "label": "RIEN "
         },
         {
          "X": 0.7809913158416748,
          "Y": -2.468172311782837,
          "count": 56,
          "label": "RIEN "
         },
         {
          "X": 0.7133759260177612,
          "Y": 1.2155088186264038,
          "count": 56,
          "label": "RIEN "
         },
         {
          "X": 0.5059654712677002,
          "Y": -0.36345821619033813,
          "count": 56,
          "label": "RIEN "
         },
         {
          "X": 1.7958910465240479,
          "Y": -1.4791693687438965,
          "count": 56,
          "label": "RIEN "
         },
         {
          "X": 0.2876945436000824,
          "Y": 1.8856663703918457,
          "count": 56,
          "label": "RIEN "
         },
         {
          "X": 0.5215978622436523,
          "Y": -1.8576406240463257,
          "count": 56,
          "label": "RIEN "
         },
         {
          "X": 1.9337143898010254,
          "Y": 0.7559248805046082,
          "count": 56,
          "label": "RIEN "
         },
         {
          "X": -0.7744936347007751,
          "Y": 0.43829581141471863,
          "count": 56,
          "label": "RIEN "
         },
         {
          "X": -0.010860791429877281,
          "Y": 0.7860143780708313,
          "count": 56,
          "label": "RIEN "
         },
         {
          "X": 0.006693319883197546,
          "Y": -0.5674325227737427,
          "count": 56,
          "label": "RIEN "
         },
         {
          "X": 0.5004889369010925,
          "Y": -0.3752165734767914,
          "count": 56,
          "label": "RIEN "
         },
         {
          "X": -1.3455700874328613,
          "Y": 1.0156828165054321,
          "count": 56,
          "label": "RIEN "
         },
         {
          "X": 0.12445073574781418,
          "Y": 0.05000607669353485,
          "count": 56,
          "label": "RIEN "
         },
         {
          "X": -1.669831395149231,
          "Y": 0.19383834302425385,
          "count": 56,
          "label": "RIEN "
         },
         {
          "X": 0.7133759260177612,
          "Y": 1.2155088186264038,
          "count": 56,
          "label": "RIEN "
         },
         {
          "X": 0.08518155664205551,
          "Y": -0.5668357610702515,
          "count": 56,
          "label": "RIEN "
         },
         {
          "X": 1.9539906978607178,
          "Y": 2.177903652191162,
          "count": 56,
          "label": "RIEN "
         },
         {
          "X": 0.12445073574781418,
          "Y": 0.05000607669353485,
          "count": 56,
          "label": "RIEN "
         },
         {
          "X": -0.5288838148117065,
          "Y": -0.4518406093120575,
          "count": 56,
          "label": "RIEN "
         },
         {
          "X": 0.7809913158416748,
          "Y": -2.468172311782837,
          "count": 56,
          "label": "RIEN "
         },
         {
          "X": 1.4603018760681152,
          "Y": 1.5007543563842773,
          "count": 56,
          "label": "RIEN "
         },
         {
          "X": -0.7890880703926086,
          "Y": -1.0077091455459595,
          "count": 56,
          "label": "RIEN "
         },
         {
          "X": -1.0455948114395142,
          "Y": 0.62473464012146,
          "count": 56,
          "label": "RIEN "
         },
         {
          "X": 2.356484889984131,
          "Y": 1.6304043531417847,
          "count": 56,
          "label": "RIEN "
         },
         {
          "X": -0.2342323362827301,
          "Y": -2.38041090965271,
          "count": 56,
          "label": "RIEN "
         },
         {
          "X": -1.986215591430664,
          "Y": -1.3099150657653809,
          "count": 56,
          "label": "RIEN "
         },
         {
          "X": -0.010860791429877281,
          "Y": 0.7860143780708313,
          "count": 56,
          "label": "RIEN "
         },
         {
          "X": 1.490423321723938,
          "Y": -0.8618544936180115,
          "count": 56,
          "label": "RIEN "
         },
         {
          "X": 0.8493266105651855,
          "Y": 0.3709956705570221,
          "count": 56,
          "label": "RIEN "
         },
         {
          "X": 1.4603018760681152,
          "Y": 1.5007543563842773,
          "count": 56,
          "label": "RIEN "
         },
         {
          "X": 1.7958910465240479,
          "Y": -1.4791693687438965,
          "count": 56,
          "label": "RIEN "
         },
         {
          "X": -0.7520882487297058,
          "Y": -0.2695270776748657,
          "count": 56,
          "label": "RIEN "
         },
         {
          "X": -1.4802589416503906,
          "Y": -0.13927695155143738,
          "count": 56,
          "label": "RIEN "
         },
         {
          "X": 0.030435696244239807,
          "Y": 1.9478543996810913,
          "count": 56,
          "label": "RIEN "
         },
         {
          "X": -0.010860791429877281,
          "Y": 0.7860143780708313,
          "count": 56,
          "label": "RIEN "
         },
         {
          "X": 0.9383410811424255,
          "Y": -0.30791112780570984,
          "count": 56,
          "label": "RIEN "
         },
         {
          "X": -0.5316834449768066,
          "Y": -0.3826110363006592,
          "count": 56,
          "label": "RIEN "
         },
         {
          "X": 0.2876945436000824,
          "Y": 1.8856663703918457,
          "count": 56,
          "label": "RIEN "
         },
         {
          "X": 1.5576236248016357,
          "Y": 0.37839797139167786,
          "count": 96,
          "label": "QUOI"
         },
         {
          "X": -0.2342323362827301,
          "Y": -2.38041090965271,
          "count": 96,
          "label": "QUOI"
         },
         {
          "X": -0.7458605766296387,
          "Y": 2.3939642906188965,
          "count": 96,
          "label": "QUOI"
         },
         {
          "X": 0.9383410811424255,
          "Y": -0.30791112780570984,
          "count": 96,
          "label": "QUOI"
         },
         {
          "X": 0.5004889369010925,
          "Y": -0.3752165734767914,
          "count": 96,
          "label": "QUOI"
         },
         {
          "X": -1.433718204498291,
          "Y": -1.7712657451629639,
          "count": 96,
          "label": "QUOI"
         },
         {
          "X": 0.6420198082923889,
          "Y": -1.793840765953064,
          "count": 96,
          "label": "QUOI"
         },
         {
          "X": -1.0455948114395142,
          "Y": 0.62473464012146,
          "count": 96,
          "label": "QUOI"
         },
         {
          "X": 1.7958910465240479,
          "Y": -1.4791693687438965,
          "count": 96,
          "label": "QUOI"
         },
         {
          "X": -1.433718204498291,
          "Y": -1.7712657451629639,
          "count": 96,
          "label": "QUOI"
         },
         {
          "X": 2.2986629009246826,
          "Y": -2.04585337638855,
          "count": 96,
          "label": "QUOI"
         },
         {
          "X": -0.7520882487297058,
          "Y": -0.2695270776748657,
          "count": 96,
          "label": "QUOI"
         },
         {
          "X": -0.010860791429877281,
          "Y": 0.7860143780708313,
          "count": 96,
          "label": "QUOI"
         },
         {
          "X": 0.5022168159484863,
          "Y": -0.369074285030365,
          "count": 96,
          "label": "QUOI"
         },
         {
          "X": -0.7890880703926086,
          "Y": -1.0077091455459595,
          "count": 96,
          "label": "QUOI"
         },
         {
          "X": 0.5037851333618164,
          "Y": -0.36826446652412415,
          "count": 96,
          "label": "QUOI"
         },
         {
          "X": 0.7769594192504883,
          "Y": -0.937835156917572,
          "count": 96,
          "label": "QUOI"
         },
         {
          "X": 0.8493266105651855,
          "Y": 0.3709956705570221,
          "count": 96,
          "label": "QUOI"
         },
         {
          "X": 0.2876945436000824,
          "Y": 1.8856663703918457,
          "count": 96,
          "label": "QUOI"
         },
         {
          "X": -1.4802589416503906,
          "Y": -0.13927695155143738,
          "count": 96,
          "label": "QUOI"
         },
         {
          "X": 0.8493266105651855,
          "Y": 0.3709956705570221,
          "count": 96,
          "label": "QUOI"
         },
         {
          "X": 1.5444684028625488,
          "Y": -2.3124451637268066,
          "count": 96,
          "label": "QUOI"
         },
         {
          "X": 1.3840988874435425,
          "Y": -0.24738861620426178,
          "count": 96,
          "label": "QUOI"
         },
         {
          "X": 1.0381417274475098,
          "Y": 2.305878162384033,
          "count": 96,
          "label": "QUOI"
         },
         {
          "X": -1.372414469718933,
          "Y": 1.3572791814804077,
          "count": 96,
          "label": "QUOI"
         },
         {
          "X": 0.9383410811424255,
          "Y": -0.30791112780570984,
          "count": 96,
          "label": "QUOI"
         },
         {
          "X": -1.433718204498291,
          "Y": -1.7712657451629639,
          "count": 96,
          "label": "QUOI"
         },
         {
          "X": -0.5734463334083557,
          "Y": 1.4404056072235107,
          "count": 96,
          "label": "QUOI"
         },
         {
          "X": -0.7890880703926086,
          "Y": -1.0077091455459595,
          "count": 96,
          "label": "QUOI"
         },
         {
          "X": 1.9337143898010254,
          "Y": 0.7559248805046082,
          "count": 96,
          "label": "QUOI"
         },
         {
          "X": 2.8399338722229004,
          "Y": 0.9212411046028137,
          "count": 96,
          "label": "QUOI"
         },
         {
          "X": -1.3455700874328613,
          "Y": 1.0156828165054321,
          "count": 96,
          "label": "QUOI"
         },
         {
          "X": 0.7769594192504883,
          "Y": -0.937835156917572,
          "count": 96,
          "label": "QUOI"
         },
         {
          "X": 1.0381417274475098,
          "Y": 2.305878162384033,
          "count": 96,
          "label": "QUOI"
         },
         {
          "X": -0.038906216621398926,
          "Y": -1.3321967124938965,
          "count": 96,
          "label": "QUOI"
         },
         {
          "X": -0.7890880703926086,
          "Y": -1.0077091455459595,
          "count": 96,
          "label": "QUOI"
         },
         {
          "X": 3.1168785095214844,
          "Y": -0.411366730928421,
          "count": 96,
          "label": "QUOI"
         },
         {
          "X": -1.669831395149231,
          "Y": 0.19383834302425385,
          "count": 96,
          "label": "QUOI"
         },
         {
          "X": 1.0381417274475098,
          "Y": 2.305878162384033,
          "count": 96,
          "label": "QUOI"
         },
         {
          "X": -0.5263254046440125,
          "Y": -0.5030304193496704,
          "count": 96,
          "label": "QUOI"
         },
         {
          "X": 0.8493266105651855,
          "Y": 0.3709956705570221,
          "count": 96,
          "label": "QUOI"
         },
         {
          "X": -0.038906216621398926,
          "Y": -1.3321967124938965,
          "count": 96,
          "label": "QUOI"
         },
         {
          "X": 2.189912796020508,
          "Y": -0.3414364457130432,
          "count": 96,
          "label": "QUOI"
         },
         {
          "X": -1.3968206644058228,
          "Y": -0.7054904103279114,
          "count": 96,
          "label": "QUOI"
         },
         {
          "X": 1.4603018760681152,
          "Y": 1.5007543563842773,
          "count": 96,
          "label": "QUOI"
         },
         {
          "X": -1.3968206644058228,
          "Y": -0.7054904103279114,
          "count": 96,
          "label": "QUOI"
         },
         {
          "X": 1.0381417274475098,
          "Y": 2.305878162384033,
          "count": 96,
          "label": "QUOI"
         },
         {
          "X": 1.5576236248016357,
          "Y": 0.37839797139167786,
          "count": 96,
          "label": "QUOI"
         },
         {
          "X": 2.189912796020508,
          "Y": -0.3414364457130432,
          "count": 96,
          "label": "QUOI"
         },
         {
          "X": 1.7958910465240479,
          "Y": -1.4791693687438965,
          "count": 96,
          "label": "QUOI"
         },
         {
          "X": -0.7890880703926086,
          "Y": -1.0077091455459595,
          "count": 96,
          "label": "QUOI"
         },
         {
          "X": -0.010860791429877281,
          "Y": 0.7860143780708313,
          "count": 96,
          "label": "QUOI"
         },
         {
          "X": 0.12445073574781418,
          "Y": 0.05000607669353485,
          "count": 96,
          "label": "QUOI"
         },
         {
          "X": 1.9337143898010254,
          "Y": 0.7559248805046082,
          "count": 96,
          "label": "QUOI"
         },
         {
          "X": -0.7890880703926086,
          "Y": -1.0077091455459595,
          "count": 96,
          "label": "QUOI"
         },
         {
          "X": 0.8493266105651855,
          "Y": 0.3709956705570221,
          "count": 96,
          "label": "QUOI"
         },
         {
          "X": 2.8399338722229004,
          "Y": 0.9212411046028137,
          "count": 96,
          "label": "QUOI"
         },
         {
          "X": 0.8493266105651855,
          "Y": 0.3709956705570221,
          "count": 96,
          "label": "QUOI"
         },
         {
          "X": 0.7769594192504883,
          "Y": -0.937835156917572,
          "count": 96,
          "label": "QUOI"
         },
         {
          "X": 0.8493266105651855,
          "Y": 0.3709956705570221,
          "count": 96,
          "label": "QUOI"
         },
         {
          "X": -1.664787769317627,
          "Y": 1.7272974252700806,
          "count": 96,
          "label": "QUOI"
         },
         {
          "X": -0.5734463334083557,
          "Y": 1.4404056072235107,
          "count": 96,
          "label": "QUOI"
         },
         {
          "X": -1.664787769317627,
          "Y": 1.7272974252700806,
          "count": 96,
          "label": "QUOI"
         },
         {
          "X": 2.189912796020508,
          "Y": -0.3414364457130432,
          "count": 96,
          "label": "QUOI"
         },
         {
          "X": -0.535822331905365,
          "Y": -0.45780566334724426,
          "count": 96,
          "label": "QUOI"
         },
         {
          "X": 1.7958910465240479,
          "Y": -1.4791693687438965,
          "count": 96,
          "label": "QUOI"
         },
         {
          "X": -1.474680781364441,
          "Y": 0.5168231129646301,
          "count": 96,
          "label": "QUOI"
         },
         {
          "X": 1.9337143898010254,
          "Y": 0.7559248805046082,
          "count": 96,
          "label": "QUOI"
         },
         {
          "X": -0.7890880703926086,
          "Y": -1.0077091455459595,
          "count": 96,
          "label": "QUOI"
         },
         {
          "X": 0.7769594192504883,
          "Y": -0.937835156917572,
          "count": 96,
          "label": "QUOI"
         },
         {
          "X": 0.5022168159484863,
          "Y": -0.369074285030365,
          "count": 96,
          "label": "QUOI"
         },
         {
          "X": 0.8493266105651855,
          "Y": 0.3709956705570221,
          "count": 96,
          "label": "QUOI"
         },
         {
          "X": 3.1163887977600098,
          "Y": -0.36505642533302307,
          "count": 96,
          "label": "QUOI"
         },
         {
          "X": 2.189912796020508,
          "Y": -0.3414364457130432,
          "count": 96,
          "label": "QUOI"
         },
         {
          "X": -2.2484381198883057,
          "Y": -0.08005529642105103,
          "count": 96,
          "label": "QUOI"
         },
         {
          "X": 2.189912796020508,
          "Y": -0.3414364457130432,
          "count": 96,
          "label": "QUOI"
         },
         {
          "X": -0.5316834449768066,
          "Y": -0.3826110363006592,
          "count": 96,
          "label": "QUOI"
         },
         {
          "X": -0.010860791429877281,
          "Y": 0.7860143780708313,
          "count": 96,
          "label": "QUOI"
         },
         {
          "X": 0.7133759260177612,
          "Y": 1.2155088186264038,
          "count": 96,
          "label": "QUOI"
         },
         {
          "X": 1.7958910465240479,
          "Y": -1.4791693687438965,
          "count": 96,
          "label": "QUOI"
         },
         {
          "X": 1.490423321723938,
          "Y": -0.8618544936180115,
          "count": 96,
          "label": "QUOI"
         },
         {
          "X": -1.669831395149231,
          "Y": 0.19383834302425385,
          "count": 96,
          "label": "QUOI"
         },
         {
          "X": 1.3840988874435425,
          "Y": -0.24738861620426178,
          "count": 96,
          "label": "QUOI"
         },
         {
          "X": -0.6066305637359619,
          "Y": 0.047458481043577194,
          "count": 96,
          "label": "QUOI"
         },
         {
          "X": 0.3065185546875,
          "Y": -2.5074639320373535,
          "count": 96,
          "label": "QUOI"
         },
         {
          "X": 0.7133759260177612,
          "Y": 1.2155088186264038,
          "count": 96,
          "label": "QUOI"
         },
         {
          "X": 0.5004889369010925,
          "Y": -0.3752165734767914,
          "count": 96,
          "label": "QUOI"
         },
         {
          "X": 2.5816004276275635,
          "Y": -1.5323636531829834,
          "count": 96,
          "label": "QUOI"
         },
         {
          "X": 0.08518155664205551,
          "Y": -0.5668357610702515,
          "count": 96,
          "label": "QUOI"
         },
         {
          "X": 0.8493266105651855,
          "Y": 0.3709956705570221,
          "count": 96,
          "label": "QUOI"
         },
         {
          "X": -0.010860791429877281,
          "Y": 0.7860143780708313,
          "count": 96,
          "label": "QUOI"
         },
         {
          "X": 0.5021163821220398,
          "Y": -0.36915501952171326,
          "count": 96,
          "label": "QUOI"
         },
         {
          "X": -0.5316834449768066,
          "Y": -0.3826110363006592,
          "count": 96,
          "label": "QUOI"
         },
         {
          "X": -1.474680781364441,
          "Y": 0.5168231129646301,
          "count": 96,
          "label": "QUOI"
         },
         {
          "X": 0.08518155664205551,
          "Y": -0.5668357610702515,
          "count": 96,
          "label": "QUOI"
         },
         {
          "X": 1.0381417274475098,
          "Y": 2.305878162384033,
          "count": 96,
          "label": "QUOI"
         },
         {
          "X": 0.8493266105651855,
          "Y": 0.3709956705570221,
          "count": 77,
          "label": "MAIS"
         },
         {
          "X": -2.2484381198883057,
          "Y": -0.08005529642105103,
          "count": 77,
          "label": "MAIS"
         },
         {
          "X": -0.5734463334083557,
          "Y": 1.4404056072235107,
          "count": 77,
          "label": "MAIS"
         },
         {
          "X": 2.189912796020508,
          "Y": -0.3414364457130432,
          "count": 77,
          "label": "MAIS"
         },
         {
          "X": 1.490423321723938,
          "Y": -0.8618544936180115,
          "count": 77,
          "label": "MAIS"
         },
         {
          "X": 2.796124219894409,
          "Y": 0.428219199180603,
          "count": 77,
          "label": "MAIS"
         },
         {
          "X": -0.010860791429877281,
          "Y": 0.7860143780708313,
          "count": 77,
          "label": "MAIS"
         },
         {
          "X": 0.5215978622436523,
          "Y": -1.8576406240463257,
          "count": 77,
          "label": "MAIS"
         },
         {
          "X": 0.12445073574781418,
          "Y": 0.05000607669353485,
          "count": 77,
          "label": "MAIS"
         },
         {
          "X": -0.010860791429877281,
          "Y": 0.7860143780708313,
          "count": 77,
          "label": "MAIS"
         },
         {
          "X": 2.5976979732513428,
          "Y": 1.3837021589279175,
          "count": 77,
          "label": "MAIS"
         },
         {
          "X": -0.7744936347007751,
          "Y": 0.43829581141471863,
          "count": 77,
          "label": "MAIS"
         },
         {
          "X": -2.2484381198883057,
          "Y": -0.08005529642105103,
          "count": 77,
          "label": "MAIS"
         },
         {
          "X": -0.010860791429877281,
          "Y": 0.7860143780708313,
          "count": 77,
          "label": "MAIS"
         },
         {
          "X": -0.2342323362827301,
          "Y": -2.38041090965271,
          "count": 77,
          "label": "MAIS"
         },
         {
          "X": 0.7569299340248108,
          "Y": -1.7701759338378906,
          "count": 77,
          "label": "MAIS"
         },
         {
          "X": 2.8399338722229004,
          "Y": 0.9212411046028137,
          "count": 77,
          "label": "MAIS"
         },
         {
          "X": -0.010860791429877281,
          "Y": 0.7860143780708313,
          "count": 77,
          "label": "MAIS"
         },
         {
          "X": 2.2986629009246826,
          "Y": -2.04585337638855,
          "count": 77,
          "label": "MAIS"
         },
         {
          "X": 1.0381417274475098,
          "Y": 2.305878162384033,
          "count": 77,
          "label": "MAIS"
         },
         {
          "X": 0.12445073574781418,
          "Y": 0.05000607669353485,
          "count": 77,
          "label": "MAIS"
         },
         {
          "X": -1.4802589416503906,
          "Y": -0.13927695155143738,
          "count": 77,
          "label": "MAIS"
         },
         {
          "X": 0.08518155664205551,
          "Y": -0.5668357610702515,
          "count": 77,
          "label": "MAIS"
         },
         {
          "X": 0.7769594192504883,
          "Y": -0.937835156917572,
          "count": 77,
          "label": "MAIS"
         },
         {
          "X": 2.189912796020508,
          "Y": -0.3414364457130432,
          "count": 77,
          "label": "MAIS"
         },
         {
          "X": -1.433718204498291,
          "Y": -1.7712657451629639,
          "count": 77,
          "label": "MAIS"
         },
         {
          "X": 0.5059654712677002,
          "Y": -0.36345821619033813,
          "count": 77,
          "label": "MAIS"
         },
         {
          "X": 1.0381417274475098,
          "Y": 2.305878162384033,
          "count": 77,
          "label": "MAIS"
         },
         {
          "X": 2.8399338722229004,
          "Y": 0.9212411046028137,
          "count": 77,
          "label": "MAIS"
         },
         {
          "X": -0.5734463334083557,
          "Y": 1.4404056072235107,
          "count": 77,
          "label": "MAIS"
         },
         {
          "X": 2.8399338722229004,
          "Y": 0.9212411046028137,
          "count": 77,
          "label": "MAIS"
         },
         {
          "X": 0.030435696244239807,
          "Y": 1.9478543996810913,
          "count": 77,
          "label": "MAIS"
         },
         {
          "X": 2.189912796020508,
          "Y": -0.3414364457130432,
          "count": 77,
          "label": "MAIS"
         },
         {
          "X": 0.8493266105651855,
          "Y": 0.3709956705570221,
          "count": 77,
          "label": "MAIS"
         },
         {
          "X": -1.4802589416503906,
          "Y": -0.13927695155143738,
          "count": 77,
          "label": "MAIS"
         },
         {
          "X": -0.20227792859077454,
          "Y": 2.6058075428009033,
          "count": 77,
          "label": "MAIS"
         },
         {
          "X": 0.12445073574781418,
          "Y": 0.05000607669353485,
          "count": 77,
          "label": "MAIS"
         },
         {
          "X": 1.0381417274475098,
          "Y": 2.305878162384033,
          "count": 77,
          "label": "MAIS"
         },
         {
          "X": 1.1252766847610474,
          "Y": -1.8188939094543457,
          "count": 77,
          "label": "MAIS"
         },
         {
          "X": -0.038906216621398926,
          "Y": -1.3321967124938965,
          "count": 77,
          "label": "MAIS"
         },
         {
          "X": 0.12445073574781418,
          "Y": 0.05000607669353485,
          "count": 77,
          "label": "MAIS"
         },
         {
          "X": -0.5734463334083557,
          "Y": 1.4404056072235107,
          "count": 77,
          "label": "MAIS"
         },
         {
          "X": 0.8493266105651855,
          "Y": 0.3709956705570221,
          "count": 77,
          "label": "MAIS"
         },
         {
          "X": 0.7133759260177612,
          "Y": 1.2155088186264038,
          "count": 77,
          "label": "MAIS"
         },
         {
          "X": -0.8977599740028381,
          "Y": -2.1725804805755615,
          "count": 77,
          "label": "MAIS"
         },
         {
          "X": -0.7744936347007751,
          "Y": 0.43829581141471863,
          "count": 77,
          "label": "MAIS"
         },
         {
          "X": 0.8493266105651855,
          "Y": 0.3709956705570221,
          "count": 77,
          "label": "MAIS"
         },
         {
          "X": 0.5037851333618164,
          "Y": -0.36826446652412415,
          "count": 77,
          "label": "MAIS"
         },
         {
          "X": -0.038906216621398926,
          "Y": -1.3321967124938965,
          "count": 77,
          "label": "MAIS"
         },
         {
          "X": 0.7133759260177612,
          "Y": 1.2155088186264038,
          "count": 77,
          "label": "MAIS"
         },
         {
          "X": 1.7958910465240479,
          "Y": -1.4791693687438965,
          "count": 77,
          "label": "MAIS"
         },
         {
          "X": -1.3968206644058228,
          "Y": -0.7054904103279114,
          "count": 77,
          "label": "MAIS"
         },
         {
          "X": -0.5734463334083557,
          "Y": 1.4404056072235107,
          "count": 77,
          "label": "MAIS"
         },
         {
          "X": 3.1184773445129395,
          "Y": 0.05429292470216751,
          "count": 77,
          "label": "MAIS"
         },
         {
          "X": 0.12445073574781418,
          "Y": 0.05000607669353485,
          "count": 77,
          "label": "MAIS"
         },
         {
          "X": -1.664787769317627,
          "Y": 1.7272974252700806,
          "count": 77,
          "label": "MAIS"
         },
         {
          "X": 1.4603018760681152,
          "Y": 1.5007543563842773,
          "count": 77,
          "label": "MAIS"
         },
         {
          "X": 0.3275226056575775,
          "Y": 1.327501893043518,
          "count": 77,
          "label": "MAIS"
         },
         {
          "X": 0.7769594192504883,
          "Y": -0.937835156917572,
          "count": 77,
          "label": "MAIS"
         },
         {
          "X": 0.7769594192504883,
          "Y": -0.937835156917572,
          "count": 77,
          "label": "MAIS"
         },
         {
          "X": -1.1061962842941284,
          "Y": 2.2150063514709473,
          "count": 77,
          "label": "MAIS"
         },
         {
          "X": 0.8493266105651855,
          "Y": 0.3709956705570221,
          "count": 77,
          "label": "MAIS"
         },
         {
          "X": 3.056864023208618,
          "Y": 0.18146811425685883,
          "count": 77,
          "label": "MAIS"
         },
         {
          "X": 0.12445073574781418,
          "Y": 0.05000607669353485,
          "count": 77,
          "label": "MAIS"
         },
         {
          "X": 0.08518155664205551,
          "Y": -0.5668357610702515,
          "count": 77,
          "label": "MAIS"
         },
         {
          "X": 0.7809913158416748,
          "Y": -2.468172311782837,
          "count": 77,
          "label": "MAIS"
         },
         {
          "X": 2.8399338722229004,
          "Y": 0.9212411046028137,
          "count": 77,
          "label": "MAIS"
         },
         {
          "X": -0.038906216621398926,
          "Y": -1.3321967124938965,
          "count": 77,
          "label": "MAIS"
         },
         {
          "X": -0.8977599740028381,
          "Y": -2.1725804805755615,
          "count": 77,
          "label": "MAIS"
         },
         {
          "X": 0.5021163821220398,
          "Y": -0.36915501952171326,
          "count": 77,
          "label": "MAIS"
         },
         {
          "X": 0.006693319883197546,
          "Y": -0.5674325227737427,
          "count": 77,
          "label": "MAIS"
         },
         {
          "X": -0.010860791429877281,
          "Y": 0.7860143780708313,
          "count": 77,
          "label": "MAIS"
         },
         {
          "X": -1.0455948114395142,
          "Y": 0.62473464012146,
          "count": 77,
          "label": "MAIS"
         },
         {
          "X": -0.038906216621398926,
          "Y": -1.3321967124938965,
          "count": 77,
          "label": "MAIS"
         },
         {
          "X": 0.9383410811424255,
          "Y": -0.30791112780570984,
          "count": 77,
          "label": "MAIS"
         },
         {
          "X": 0.9383410811424255,
          "Y": -0.30791112780570984,
          "count": 77,
          "label": "MAIS"
         },
         {
          "X": -0.5734463334083557,
          "Y": 1.4404056072235107,
          "count": 77,
          "label": "MAIS"
         },
         {
          "X": -1.4223387241363525,
          "Y": -1.1469751596450806,
          "count": 52,
          "label": "PLUS.P"
         },
         {
          "X": 0.08518155664205551,
          "Y": -0.5668357610702515,
          "count": 52,
          "label": "PLUS.P"
         },
         {
          "X": 0.5021993517875671,
          "Y": -0.3690900206565857,
          "count": 52,
          "label": "PLUS.P"
         },
         {
          "X": -1.3968206644058228,
          "Y": -0.7054904103279114,
          "count": 52,
          "label": "PLUS.P"
         },
         {
          "X": 1.5576236248016357,
          "Y": 0.37839797139167786,
          "count": 52,
          "label": "PLUS.P"
         },
         {
          "X": 2.189912796020508,
          "Y": -0.3414364457130432,
          "count": 52,
          "label": "PLUS.P"
         },
         {
          "X": -0.010860791429877281,
          "Y": 0.7860143780708313,
          "count": 52,
          "label": "PLUS.P"
         },
         {
          "X": 0.7769594192504883,
          "Y": -0.937835156917572,
          "count": 52,
          "label": "PLUS.P"
         },
         {
          "X": 1.9337143898010254,
          "Y": 0.7559248805046082,
          "count": 52,
          "label": "PLUS.P"
         },
         {
          "X": 2.189912796020508,
          "Y": -0.3414364457130432,
          "count": 52,
          "label": "PLUS.P"
         },
         {
          "X": 0.12445073574781418,
          "Y": 0.05000607669353485,
          "count": 52,
          "label": "PLUS.P"
         },
         {
          "X": -0.010860791429877281,
          "Y": 0.7860143780708313,
          "count": 52,
          "label": "PLUS.P"
         },
         {
          "X": 0.4047434628009796,
          "Y": 2.6628003120422363,
          "count": 52,
          "label": "PLUS.P"
         },
         {
          "X": -0.010860791429877281,
          "Y": 0.7860143780708313,
          "count": 52,
          "label": "PLUS.P"
         },
         {
          "X": 1.7958910465240479,
          "Y": -1.4791693687438965,
          "count": 52,
          "label": "PLUS.P"
         },
         {
          "X": 1.5444684028625488,
          "Y": -2.3124451637268066,
          "count": 52,
          "label": "PLUS.P"
         },
         {
          "X": 0.12445073574781418,
          "Y": 0.05000607669353485,
          "count": 52,
          "label": "PLUS.P"
         },
         {
          "X": 0.8493266105651855,
          "Y": 0.3709956705570221,
          "count": 52,
          "label": "PLUS.P"
         },
         {
          "X": 0.7133759260177612,
          "Y": 1.2155088186264038,
          "count": 52,
          "label": "PLUS.P"
         },
         {
          "X": 1.1252766847610474,
          "Y": -1.8188939094543457,
          "count": 52,
          "label": "PLUS.P"
         },
         {
          "X": 1.9337143898010254,
          "Y": 0.7559248805046082,
          "count": 52,
          "label": "PLUS.P"
         },
         {
          "X": 0.7769594192504883,
          "Y": -0.937835156917572,
          "count": 52,
          "label": "PLUS.P"
         },
         {
          "X": -1.3455700874328613,
          "Y": 1.0156828165054321,
          "count": 52,
          "label": "PLUS.P"
         },
         {
          "X": 0.12445073574781418,
          "Y": 0.05000607669353485,
          "count": 52,
          "label": "PLUS.P"
         },
         {
          "X": 1.9337143898010254,
          "Y": 0.7559248805046082,
          "count": 52,
          "label": "PLUS.P"
         },
         {
          "X": -0.8932654857635498,
          "Y": 2.2788407802581787,
          "count": 52,
          "label": "PLUS.P"
         },
         {
          "X": -2.094820976257324,
          "Y": 0.9459067583084106,
          "count": 52,
          "label": "PLUS.P"
         },
         {
          "X": 0.054940976202487946,
          "Y": 1.9244228601455688,
          "count": 52,
          "label": "PLUS.P"
         },
         {
          "X": 2.8062100410461426,
          "Y": 0.41145914793014526,
          "count": 52,
          "label": "PLUS.P"
         },
         {
          "X": 1.7958910465240479,
          "Y": -1.4791693687438965,
          "count": 52,
          "label": "PLUS.P"
         },
         {
          "X": 1.565230369567871,
          "Y": 0.3735778033733368,
          "count": 52,
          "label": "PLUS.P"
         },
         {
          "X": 1.9337143898010254,
          "Y": 0.7559248805046082,
          "count": 52,
          "label": "PLUS.P"
         },
         {
          "X": 0.8493266105651855,
          "Y": 0.3709956705570221,
          "count": 52,
          "label": "PLUS.P"
         },
         {
          "X": 0.9383410811424255,
          "Y": -0.30791112780570984,
          "count": 52,
          "label": "PLUS.P"
         },
         {
          "X": 1.7958910465240479,
          "Y": -1.4791693687438965,
          "count": 52,
          "label": "PLUS.P"
         },
         {
          "X": 1.4603018760681152,
          "Y": 1.5007543563842773,
          "count": 52,
          "label": "PLUS.P"
         },
         {
          "X": -1.433718204498291,
          "Y": -1.7712657451629639,
          "count": 52,
          "label": "PLUS.P"
         },
         {
          "X": 0.12445073574781418,
          "Y": 0.05000607669353485,
          "count": 52,
          "label": "PLUS.P"
         },
         {
          "X": 1.3840988874435425,
          "Y": -0.24738861620426178,
          "count": 52,
          "label": "PLUS.P"
         },
         {
          "X": 1.5444684028625488,
          "Y": -2.3124451637268066,
          "count": 52,
          "label": "PLUS.P"
         },
         {
          "X": -1.3455700874328613,
          "Y": 1.0156828165054321,
          "count": 52,
          "label": "PLUS.P"
         },
         {
          "X": 0.7133759260177612,
          "Y": 1.2155088186264038,
          "count": 52,
          "label": "PLUS.P"
         },
         {
          "X": 0.4047434628009796,
          "Y": 2.6628003120422363,
          "count": 52,
          "label": "PLUS.P"
         },
         {
          "X": 0.8493266105651855,
          "Y": 0.3709956705570221,
          "count": 52,
          "label": "PLUS.P"
         },
         {
          "X": 0.7769594192504883,
          "Y": -0.937835156917572,
          "count": 52,
          "label": "PLUS.P"
         },
         {
          "X": 1.9337143898010254,
          "Y": 0.7559248805046082,
          "count": 52,
          "label": "PLUS.P"
         },
         {
          "X": 2.356484889984131,
          "Y": 1.6304043531417847,
          "count": 52,
          "label": "PLUS.P"
         },
         {
          "X": -0.038906216621398926,
          "Y": -1.3321967124938965,
          "count": 52,
          "label": "PLUS.P"
         },
         {
          "X": -1.664787769317627,
          "Y": 1.7272974252700806,
          "count": 52,
          "label": "PLUS.P"
         },
         {
          "X": -0.010860791429877281,
          "Y": 0.7860143780708313,
          "count": 52,
          "label": "PLUS.P"
         },
         {
          "X": 0.7809913158416748,
          "Y": -2.468172311782837,
          "count": 52,
          "label": "PLUS.P"
         },
         {
          "X": 1.227840542793274,
          "Y": 1.0427117347717285,
          "count": 52,
          "label": "PLUS.P"
         },
         {
          "X": -0.20227792859077454,
          "Y": 2.6058075428009033,
          "count": 116,
          "label": "GSIGN"
         },
         {
          "X": 0.12445073574781418,
          "Y": 0.05000607669353485,
          "count": 116,
          "label": "GSIGN"
         },
         {
          "X": -1.664787769317627,
          "Y": 1.7272974252700806,
          "count": 116,
          "label": "GSIGN"
         },
         {
          "X": -0.2342323362827301,
          "Y": -2.38041090965271,
          "count": 116,
          "label": "GSIGN"
         },
         {
          "X": -1.4223387241363525,
          "Y": -1.1469751596450806,
          "count": 116,
          "label": "GSIGN"
         },
         {
          "X": 0.12445073574781418,
          "Y": 0.05000607669353485,
          "count": 116,
          "label": "GSIGN"
         },
         {
          "X": 0.9383410811424255,
          "Y": -0.30791112780570984,
          "count": 116,
          "label": "GSIGN"
         },
         {
          "X": 0.7769594192504883,
          "Y": -0.937835156917572,
          "count": 116,
          "label": "GSIGN"
         },
         {
          "X": -1.433718204498291,
          "Y": -1.7712657451629639,
          "count": 116,
          "label": "GSIGN"
         },
         {
          "X": 1.9539906978607178,
          "Y": 2.177903652191162,
          "count": 116,
          "label": "GSIGN"
         },
         {
          "X": -0.7744936347007751,
          "Y": 0.43829581141471863,
          "count": 116,
          "label": "GSIGN"
         },
         {
          "X": -0.038906216621398926,
          "Y": -1.3321967124938965,
          "count": 116,
          "label": "GSIGN"
         },
         {
          "X": 0.5059654712677002,
          "Y": -0.36345821619033813,
          "count": 116,
          "label": "GSIGN"
         },
         {
          "X": -2.330791473388672,
          "Y": 0.45270487666130066,
          "count": 116,
          "label": "GSIGN"
         },
         {
          "X": 0.8493266105651855,
          "Y": 0.3709956705570221,
          "count": 116,
          "label": "GSIGN"
         },
         {
          "X": 0.12445073574781418,
          "Y": 0.05000607669353485,
          "count": 116,
          "label": "GSIGN"
         },
         {
          "X": -0.6066305637359619,
          "Y": 0.047458481043577194,
          "count": 116,
          "label": "GSIGN"
         },
         {
          "X": 0.12445073574781418,
          "Y": 0.05000607669353485,
          "count": 116,
          "label": "GSIGN"
         },
         {
          "X": 1.5576236248016357,
          "Y": 0.37839797139167786,
          "count": 116,
          "label": "GSIGN"
         },
         {
          "X": 2.189912796020508,
          "Y": -0.3414364457130432,
          "count": 116,
          "label": "GSIGN"
         },
         {
          "X": 0.311575323343277,
          "Y": -2.505739450454712,
          "count": 116,
          "label": "GSIGN"
         },
         {
          "X": 2.923506736755371,
          "Y": -0.958000123500824,
          "count": 116,
          "label": "GSIGN"
         },
         {
          "X": 2.6689469814300537,
          "Y": -1.2330992221832275,
          "count": 116,
          "label": "GSIGN"
         },
         {
          "X": -2.168177843093872,
          "Y": -0.8271084427833557,
          "count": 116,
          "label": "GSIGN"
         },
         {
          "X": -2.1734933853149414,
          "Y": -0.8107757568359375,
          "count": 116,
          "label": "GSIGN"
         },
         {
          "X": -0.5734463334083557,
          "Y": 1.4404056072235107,
          "count": 116,
          "label": "GSIGN"
         },
         {
          "X": 0.3275226056575775,
          "Y": 1.327501893043518,
          "count": 116,
          "label": "GSIGN"
         },
         {
          "X": 0.06318021565675735,
          "Y": 1.9193215370178223,
          "count": 116,
          "label": "GSIGN"
         },
         {
          "X": 2.923506736755371,
          "Y": -0.958000123500824,
          "count": 116,
          "label": "GSIGN"
         },
         {
          "X": 0.3275226056575775,
          "Y": 1.327501893043518,
          "count": 116,
          "label": "GSIGN"
         },
         {
          "X": -0.5263254046440125,
          "Y": -0.5030304193496704,
          "count": 116,
          "label": "GSIGN"
         },
         {
          "X": 0.12445073574781418,
          "Y": 0.05000607669353485,
          "count": 116,
          "label": "GSIGN"
         },
         {
          "X": 1.0381417274475098,
          "Y": 2.305878162384033,
          "count": 116,
          "label": "GSIGN"
         },
         {
          "X": -1.4223387241363525,
          "Y": -1.1469751596450806,
          "count": 116,
          "label": "GSIGN"
         },
         {
          "X": 0.8493266105651855,
          "Y": 0.3709956705570221,
          "count": 116,
          "label": "GSIGN"
         },
         {
          "X": -0.038906216621398926,
          "Y": -1.3321967124938965,
          "count": 116,
          "label": "GSIGN"
         },
         {
          "X": 0.8493266105651855,
          "Y": 0.3709956705570221,
          "count": 116,
          "label": "GSIGN"
         },
         {
          "X": 0.7133759260177612,
          "Y": 1.2155088186264038,
          "count": 116,
          "label": "GSIGN"
         },
         {
          "X": -1.433718204498291,
          "Y": -1.7712657451629639,
          "count": 116,
          "label": "GSIGN"
         },
         {
          "X": 0.5059654712677002,
          "Y": -0.36345821619033813,
          "count": 116,
          "label": "GSIGN"
         },
         {
          "X": 1.227840542793274,
          "Y": 1.0427117347717285,
          "count": 116,
          "label": "GSIGN"
         },
         {
          "X": 2.796124219894409,
          "Y": 0.428219199180603,
          "count": 116,
          "label": "GSIGN"
         },
         {
          "X": -0.038906216621398926,
          "Y": -1.3321967124938965,
          "count": 116,
          "label": "GSIGN"
         },
         {
          "X": -0.7520882487297058,
          "Y": -0.2695270776748657,
          "count": 116,
          "label": "GSIGN"
         },
         {
          "X": -0.5263254046440125,
          "Y": -0.5030304193496704,
          "count": 116,
          "label": "GSIGN"
         },
         {
          "X": -0.7458605766296387,
          "Y": 2.3939642906188965,
          "count": 116,
          "label": "GSIGN"
         },
         {
          "X": -1.34554123878479,
          "Y": 0.9518899321556091,
          "count": 116,
          "label": "GSIGN"
         },
         {
          "X": 1.4603018760681152,
          "Y": 1.5007543563842773,
          "count": 116,
          "label": "GSIGN"
         },
         {
          "X": 0.12445073574781418,
          "Y": 0.05000607669353485,
          "count": 116,
          "label": "GSIGN"
         },
         {
          "X": 2.2986629009246826,
          "Y": -2.04585337638855,
          "count": 116,
          "label": "GSIGN"
         },
         {
          "X": 3.119617223739624,
          "Y": -0.13792037963867188,
          "count": 116,
          "label": "GSIGN"
         },
         {
          "X": 0.7769594192504883,
          "Y": -0.937835156917572,
          "count": 116,
          "label": "GSIGN"
         },
         {
          "X": 0.2876945436000824,
          "Y": 1.8856663703918457,
          "count": 116,
          "label": "GSIGN"
         },
         {
          "X": 3.119617223739624,
          "Y": -0.13792037963867188,
          "count": 116,
          "label": "GSIGN"
         },
         {
          "X": 0.8493266105651855,
          "Y": 0.3709956705570221,
          "count": 116,
          "label": "GSIGN"
         },
         {
          "X": 0.08518155664205551,
          "Y": -0.5668357610702515,
          "count": 116,
          "label": "GSIGN"
         },
         {
          "X": 1.5444684028625488,
          "Y": -2.3124451637268066,
          "count": 116,
          "label": "GSIGN"
         },
         {
          "X": -0.7744936347007751,
          "Y": 0.43829581141471863,
          "count": 116,
          "label": "GSIGN"
         },
         {
          "X": -1.3457872867584229,
          "Y": 0.9522409439086914,
          "count": 116,
          "label": "GSIGN"
         },
         {
          "X": 0.8493266105651855,
          "Y": 0.3709956705570221,
          "count": 116,
          "label": "GSIGN"
         },
         {
          "X": 1.490423321723938,
          "Y": -0.8618544936180115,
          "count": 116,
          "label": "GSIGN"
         },
         {
          "X": 0.9383410811424255,
          "Y": -0.30791112780570984,
          "count": 116,
          "label": "GSIGN"
         },
         {
          "X": -0.038906216621398926,
          "Y": -1.3321967124938965,
          "count": 116,
          "label": "GSIGN"
         },
         {
          "X": 1.7958910465240479,
          "Y": -1.4791693687438965,
          "count": 116,
          "label": "GSIGN"
         },
         {
          "X": 0.7133759260177612,
          "Y": 1.2155088186264038,
          "count": 116,
          "label": "GSIGN"
         },
         {
          "X": 0.5004889369010925,
          "Y": -0.3752165734767914,
          "count": 116,
          "label": "GSIGN"
         },
         {
          "X": 0.5043330192565918,
          "Y": -0.36959728598594666,
          "count": 116,
          "label": "GSIGN"
         },
         {
          "X": 1.0381417274475098,
          "Y": 2.305878162384033,
          "count": 116,
          "label": "GSIGN"
         },
         {
          "X": -0.7520882487297058,
          "Y": -0.2695270776748657,
          "count": 116,
          "label": "GSIGN"
         },
         {
          "X": -1.433718204498291,
          "Y": -1.7712657451629639,
          "count": 116,
          "label": "GSIGN"
         },
         {
          "X": 0.7769594192504883,
          "Y": -0.937835156917572,
          "count": 116,
          "label": "GSIGN"
         },
         {
          "X": -1.3968206644058228,
          "Y": -0.7054904103279114,
          "count": 116,
          "label": "GSIGN"
         },
         {
          "X": 0.9383410811424255,
          "Y": -0.30791112780570984,
          "count": 116,
          "label": "GSIGN"
         },
         {
          "X": -1.3000863790512085,
          "Y": 1.9862135648727417,
          "count": 116,
          "label": "GSIGN"
         },
         {
          "X": 0.7809913158416748,
          "Y": -2.468172311782837,
          "count": 116,
          "label": "GSIGN"
         },
         {
          "X": 0.9383410811424255,
          "Y": -0.30791112780570984,
          "count": 116,
          "label": "GSIGN"
         },
         {
          "X": 0.12445073574781418,
          "Y": 0.05000607669353485,
          "count": 116,
          "label": "GSIGN"
         },
         {
          "X": -0.038906216621398926,
          "Y": -1.3321967124938965,
          "count": 116,
          "label": "GSIGN"
         },
         {
          "X": -0.535822331905365,
          "Y": -0.45780566334724426,
          "count": 116,
          "label": "GSIGN"
         },
         {
          "X": 1.0381417274475098,
          "Y": 2.305878162384033,
          "count": 116,
          "label": "GSIGN"
         },
         {
          "X": 0.12445073574781418,
          "Y": 0.05000607669353485,
          "count": 116,
          "label": "GSIGN"
         },
         {
          "X": -1.433718204498291,
          "Y": -1.7712657451629639,
          "count": 116,
          "label": "GSIGN"
         },
         {
          "X": -0.010860791429877281,
          "Y": 0.7860143780708313,
          "count": 116,
          "label": "GSIGN"
         },
         {
          "X": 0.19849514961242676,
          "Y": 2.5399622917175293,
          "count": 116,
          "label": "GSIGN"
         },
         {
          "X": -0.2342323362827301,
          "Y": -2.38041090965271,
          "count": 116,
          "label": "GSIGN"
         },
         {
          "X": 0.9383410811424255,
          "Y": -0.30791112780570984,
          "count": 116,
          "label": "GSIGN"
         },
         {
          "X": 0.7133759260177612,
          "Y": 1.2155088186264038,
          "count": 116,
          "label": "GSIGN"
         },
         {
          "X": -0.8002203106880188,
          "Y": -1.5430399179458618,
          "count": 116,
          "label": "GSIGN"
         },
         {
          "X": 0.12445073574781418,
          "Y": 0.05000607669353485,
          "count": 116,
          "label": "GSIGN"
         },
         {
          "X": 0.12445073574781418,
          "Y": 0.05000607669353485,
          "count": 116,
          "label": "GSIGN"
         },
         {
          "X": 1.227840542793274,
          "Y": 1.0427117347717285,
          "count": 116,
          "label": "GSIGN"
         },
         {
          "X": 2.923506736755371,
          "Y": -0.958000123500824,
          "count": 116,
          "label": "GSIGN"
         },
         {
          "X": -0.038906216621398926,
          "Y": -1.3321967124938965,
          "count": 116,
          "label": "GSIGN"
         },
         {
          "X": 0.6420198082923889,
          "Y": -1.793840765953064,
          "count": 116,
          "label": "GSIGN"
         },
         {
          "X": 0.7769594192504883,
          "Y": -0.937835156917572,
          "count": 116,
          "label": "GSIGN"
         },
         {
          "X": -0.010860791429877281,
          "Y": 0.7860143780708313,
          "count": 116,
          "label": "GSIGN"
         },
         {
          "X": 0.8493266105651855,
          "Y": 0.3709956705570221,
          "count": 116,
          "label": "GSIGN"
         },
         {
          "X": -0.010860791429877281,
          "Y": 0.7860143780708313,
          "count": 116,
          "label": "GSIGN"
         },
         {
          "X": 0.9383410811424255,
          "Y": -0.30791112780570984,
          "count": 116,
          "label": "GSIGN"
         },
         {
          "X": 0.12445073574781418,
          "Y": 0.05000607669353485,
          "count": 116,
          "label": "GSIGN"
         },
         {
          "X": 1.7958910465240479,
          "Y": -1.4791693687438965,
          "count": 116,
          "label": "GSIGN"
         },
         {
          "X": -1.0455948114395142,
          "Y": 0.62473464012146,
          "count": 116,
          "label": "GSIGN"
         },
         {
          "X": 0.12445073574781418,
          "Y": 0.05000607669353485,
          "count": 116,
          "label": "GSIGN"
         },
         {
          "X": -2.094820976257324,
          "Y": 0.9459067583084106,
          "count": 116,
          "label": "GSIGN"
         },
         {
          "X": -0.010860791429877281,
          "Y": 0.7860143780708313,
          "count": 116,
          "label": "GSIGN"
         },
         {
          "X": -0.8977599740028381,
          "Y": -2.1725804805755615,
          "count": 116,
          "label": "GSIGN"
         },
         {
          "X": -0.038906216621398926,
          "Y": -1.3321967124938965,
          "count": 116,
          "label": "GSIGN"
         },
         {
          "X": 2.189912796020508,
          "Y": -0.3414364457130432,
          "count": 116,
          "label": "GSIGN"
         },
         {
          "X": -0.038906216621398926,
          "Y": -1.3321967124938965,
          "count": 116,
          "label": "GSIGN"
         },
         {
          "X": 0.12445073574781418,
          "Y": 0.05000607669353485,
          "count": 116,
          "label": "GSIGN"
         },
         {
          "X": 1.9337143898010254,
          "Y": 0.7559248805046082,
          "count": 116,
          "label": "GSIGN"
         },
         {
          "X": -1.3455700874328613,
          "Y": 1.0156828165054321,
          "count": 116,
          "label": "GSIGN"
         },
         {
          "X": -1.433718204498291,
          "Y": -1.7712657451629639,
          "count": 116,
          "label": "GSIGN"
         },
         {
          "X": 0.8493266105651855,
          "Y": 0.3709956705570221,
          "count": 116,
          "label": "GSIGN"
         },
         {
          "X": -1.3374443054199219,
          "Y": 0.9789514541625977,
          "count": 116,
          "label": "GSIGN"
         },
         {
          "X": -1.3968206644058228,
          "Y": -0.7054904103279114,
          "count": 116,
          "label": "GSIGN"
         },
         {
          "X": 0.7769594192504883,
          "Y": -0.937835156917572,
          "count": 69,
          "label": "FALLOIR"
         },
         {
          "X": 0.7133759260177612,
          "Y": 1.2155088186264038,
          "count": 69,
          "label": "FALLOIR"
         },
         {
          "X": 0.006693319883197546,
          "Y": -0.5674325227737427,
          "count": 69,
          "label": "FALLOIR"
         },
         {
          "X": 2.189912796020508,
          "Y": -0.3414364457130432,
          "count": 69,
          "label": "FALLOIR"
         },
         {
          "X": 0.9383410811424255,
          "Y": -0.30791112780570984,
          "count": 69,
          "label": "FALLOIR"
         },
         {
          "X": 2.5816004276275635,
          "Y": -1.5323636531829834,
          "count": 69,
          "label": "FALLOIR"
         },
         {
          "X": 1.9539906978607178,
          "Y": 2.177903652191162,
          "count": 69,
          "label": "FALLOIR"
         },
         {
          "X": 2.189912796020508,
          "Y": -0.3414364457130432,
          "count": 69,
          "label": "FALLOIR"
         },
         {
          "X": 0.12445073574781418,
          "Y": 0.05000607669353485,
          "count": 69,
          "label": "FALLOIR"
         },
         {
          "X": 0.7769594192504883,
          "Y": -0.937835156917572,
          "count": 69,
          "label": "FALLOIR"
         },
         {
          "X": 1.5617005825042725,
          "Y": 0.3695625364780426,
          "count": 69,
          "label": "FALLOIR"
         },
         {
          "X": -1.4802589416503906,
          "Y": -0.13927695155143738,
          "count": 69,
          "label": "FALLOIR"
         },
         {
          "X": 0.5004889369010925,
          "Y": -0.3752165734767914,
          "count": 69,
          "label": "FALLOIR"
         },
         {
          "X": 0.7133759260177612,
          "Y": 1.2155088186264038,
          "count": 69,
          "label": "FALLOIR"
         },
         {
          "X": -2.1325340270996094,
          "Y": -0.914607584476471,
          "count": 69,
          "label": "FALLOIR"
         },
         {
          "X": -0.5316834449768066,
          "Y": -0.3826110363006592,
          "count": 69,
          "label": "FALLOIR"
         },
         {
          "X": -0.010860791429877281,
          "Y": 0.7860143780708313,
          "count": 69,
          "label": "FALLOIR"
         },
         {
          "X": 2.356484889984131,
          "Y": 1.6304043531417847,
          "count": 69,
          "label": "FALLOIR"
         },
         {
          "X": 0.5021993517875671,
          "Y": -0.3690900206565857,
          "count": 69,
          "label": "FALLOIR"
         },
         {
          "X": 0.5021163821220398,
          "Y": -0.36915501952171326,
          "count": 69,
          "label": "FALLOIR"
         },
         {
          "X": 0.054940976202487946,
          "Y": 1.9244228601455688,
          "count": 69,
          "label": "FALLOIR"
         },
         {
          "X": 1.7958910465240479,
          "Y": -1.4791693687438965,
          "count": 69,
          "label": "FALLOIR"
         },
         {
          "X": -0.010860791429877281,
          "Y": 0.7860143780708313,
          "count": 69,
          "label": "FALLOIR"
         },
         {
          "X": -2.1472415924072266,
          "Y": -0.8699626922607422,
          "count": 69,
          "label": "FALLOIR"
         },
         {
          "X": 2.8062100410461426,
          "Y": 0.41145914793014526,
          "count": 69,
          "label": "FALLOIR"
         },
         {
          "X": 2.189912796020508,
          "Y": -0.3414364457130432,
          "count": 69,
          "label": "FALLOIR"
         },
         {
          "X": -0.2342323362827301,
          "Y": -2.38041090965271,
          "count": 69,
          "label": "FALLOIR"
         },
         {
          "X": 1.0381417274475098,
          "Y": 2.305878162384033,
          "count": 69,
          "label": "FALLOIR"
         },
         {
          "X": 2.189912796020508,
          "Y": -0.3414364457130432,
          "count": 69,
          "label": "FALLOIR"
         },
         {
          "X": 1.7958910465240479,
          "Y": -1.4791693687438965,
          "count": 69,
          "label": "FALLOIR"
         },
         {
          "X": 0.9383410811424255,
          "Y": -0.30791112780570984,
          "count": 69,
          "label": "FALLOIR"
         },
         {
          "X": 1.0381417274475098,
          "Y": 2.305878162384033,
          "count": 69,
          "label": "FALLOIR"
         },
         {
          "X": -0.5316834449768066,
          "Y": -0.3826110363006592,
          "count": 69,
          "label": "FALLOIR"
         },
         {
          "X": 0.12445073574781418,
          "Y": 0.05000607669353485,
          "count": 69,
          "label": "FALLOIR"
         },
         {
          "X": -0.5316834449768066,
          "Y": -0.3826110363006592,
          "count": 69,
          "label": "FALLOIR"
         },
         {
          "X": 1.227840542793274,
          "Y": 1.0427117347717285,
          "count": 69,
          "label": "FALLOIR"
         },
         {
          "X": -1.4802589416503906,
          "Y": -0.13927695155143738,
          "count": 69,
          "label": "FALLOIR"
         },
         {
          "X": -0.010860791429877281,
          "Y": 0.7860143780708313,
          "count": 69,
          "label": "FALLOIR"
         },
         {
          "X": 2.356484889984131,
          "Y": 1.6304043531417847,
          "count": 69,
          "label": "FALLOIR"
         },
         {
          "X": -0.573866069316864,
          "Y": 0.29519519209861755,
          "count": 69,
          "label": "FALLOIR"
         },
         {
          "X": -0.7744936347007751,
          "Y": 0.43829581141471863,
          "count": 69,
          "label": "FALLOIR"
         },
         {
          "X": 0.12445073574781418,
          "Y": 0.05000607669353485,
          "count": 69,
          "label": "FALLOIR"
         },
         {
          "X": -0.2342323362827301,
          "Y": -2.38041090965271,
          "count": 69,
          "label": "FALLOIR"
         },
         {
          "X": 2.189912796020508,
          "Y": -0.3414364457130432,
          "count": 69,
          "label": "FALLOIR"
         },
         {
          "X": -1.0455948114395142,
          "Y": 0.62473464012146,
          "count": 69,
          "label": "FALLOIR"
         },
         {
          "X": 1.562938928604126,
          "Y": -0.99180668592453,
          "count": 69,
          "label": "FALLOIR"
         },
         {
          "X": 1.9539906978607178,
          "Y": 2.177903652191162,
          "count": 69,
          "label": "FALLOIR"
         },
         {
          "X": 1.3840988874435425,
          "Y": -0.24738861620426178,
          "count": 69,
          "label": "FALLOIR"
         },
         {
          "X": 1.0381417274475098,
          "Y": 2.305878162384033,
          "count": 69,
          "label": "FALLOIR"
         },
         {
          "X": -0.7458605766296387,
          "Y": 2.3939642906188965,
          "count": 69,
          "label": "FALLOIR"
         },
         {
          "X": 1.228036642074585,
          "Y": 1.042841911315918,
          "count": 69,
          "label": "FALLOIR"
         },
         {
          "X": 1.490423321723938,
          "Y": -0.8618544936180115,
          "count": 69,
          "label": "FALLOIR"
         },
         {
          "X": 2.189912796020508,
          "Y": -0.3414364457130432,
          "count": 69,
          "label": "FALLOIR"
         },
         {
          "X": 0.8493266105651855,
          "Y": 0.3709956705570221,
          "count": 69,
          "label": "FALLOIR"
         },
         {
          "X": 0.311575323343277,
          "Y": -2.505739450454712,
          "count": 69,
          "label": "FALLOIR"
         },
         {
          "X": -2.094820976257324,
          "Y": 0.9459067583084106,
          "count": 69,
          "label": "FALLOIR"
         },
         {
          "X": 0.12445073574781418,
          "Y": 0.05000607669353485,
          "count": 69,
          "label": "FALLOIR"
         },
         {
          "X": 0.8493266105651855,
          "Y": 0.3709956705570221,
          "count": 69,
          "label": "FALLOIR"
         },
         {
          "X": 0.12445073574781418,
          "Y": 0.05000607669353485,
          "count": 69,
          "label": "FALLOIR"
         },
         {
          "X": 0.10488466173410416,
          "Y": -0.5608643889427185,
          "count": 69,
          "label": "FALLOIR"
         },
         {
          "X": -0.5734463334083557,
          "Y": 1.4404056072235107,
          "count": 69,
          "label": "FALLOIR"
         },
         {
          "X": -0.010860791429877281,
          "Y": 0.7860143780708313,
          "count": 69,
          "label": "FALLOIR"
         },
         {
          "X": 1.7958910465240479,
          "Y": -1.4791693687438965,
          "count": 69,
          "label": "FALLOIR"
         },
         {
          "X": 2.8399338722229004,
          "Y": 0.9212411046028137,
          "count": 69,
          "label": "FALLOIR"
         },
         {
          "X": 1.490423321723938,
          "Y": -0.8618544936180115,
          "count": 69,
          "label": "FALLOIR"
         },
         {
          "X": -0.7520882487297058,
          "Y": -0.2695270776748657,
          "count": 69,
          "label": "FALLOIR"
         },
         {
          "X": 0.8493266105651855,
          "Y": 0.3709956705570221,
          "count": 69,
          "label": "FALLOIR"
         },
         {
          "X": 0.3275226056575775,
          "Y": 1.327501893043518,
          "count": 69,
          "label": "FALLOIR"
         },
         {
          "X": 1.5617005825042725,
          "Y": 0.3695625364780426,
          "count": 69,
          "label": "FALLOIR"
         },
         {
          "X": -0.038906216621398926,
          "Y": -1.3321967124938965,
          "count": 75,
          "label": "AVOIR "
         },
         {
          "X": -2.168604612350464,
          "Y": -0.8256732225418091,
          "count": 75,
          "label": "AVOIR "
         },
         {
          "X": 0.19849514961242676,
          "Y": 2.5399622917175293,
          "count": 75,
          "label": "AVOIR "
         },
         {
          "X": 0.311575323343277,
          "Y": -2.505739450454712,
          "count": 75,
          "label": "AVOIR "
         },
         {
          "X": -0.7744936347007751,
          "Y": 0.43829581141471863,
          "count": 75,
          "label": "AVOIR "
         },
         {
          "X": -0.038906216621398926,
          "Y": -1.3321967124938965,
          "count": 75,
          "label": "AVOIR "
         },
         {
          "X": -0.010860791429877281,
          "Y": 0.7860143780708313,
          "count": 75,
          "label": "AVOIR "
         },
         {
          "X": 0.8493266105651855,
          "Y": 0.3709956705570221,
          "count": 75,
          "label": "AVOIR "
         },
         {
          "X": 0.12445073574781418,
          "Y": 0.05000607669353485,
          "count": 75,
          "label": "AVOIR "
         },
         {
          "X": -0.7520882487297058,
          "Y": -0.2695270776748657,
          "count": 75,
          "label": "AVOIR "
         },
         {
          "X": 0.08518155664205551,
          "Y": -0.5668357610702515,
          "count": 75,
          "label": "AVOIR "
         },
         {
          "X": -0.6066305637359619,
          "Y": 0.047458481043577194,
          "count": 75,
          "label": "AVOIR "
         },
         {
          "X": 0.2876945436000824,
          "Y": 1.8856663703918457,
          "count": 75,
          "label": "AVOIR "
         },
         {
          "X": 0.9383410811424255,
          "Y": -0.30791112780570984,
          "count": 75,
          "label": "AVOIR "
         },
         {
          "X": 0.7133759260177612,
          "Y": 1.2155088186264038,
          "count": 75,
          "label": "AVOIR "
         },
         {
          "X": 1.3840988874435425,
          "Y": -0.24738861620426178,
          "count": 75,
          "label": "AVOIR "
         },
         {
          "X": 0.8493266105651855,
          "Y": 0.3709956705570221,
          "count": 75,
          "label": "AVOIR "
         },
         {
          "X": 1.0381417274475098,
          "Y": 2.305878162384033,
          "count": 75,
          "label": "AVOIR "
         },
         {
          "X": 0.8493266105651855,
          "Y": 0.3709956705570221,
          "count": 75,
          "label": "AVOIR "
         },
         {
          "X": 2.5976979732513428,
          "Y": 1.3837021589279175,
          "count": 75,
          "label": "AVOIR "
         },
         {
          "X": 2.8062100410461426,
          "Y": 0.41145914793014526,
          "count": 75,
          "label": "AVOIR "
         },
         {
          "X": -0.010860791429877281,
          "Y": 0.7860143780708313,
          "count": 75,
          "label": "AVOIR "
         },
         {
          "X": 1.7958910465240479,
          "Y": -1.4791693687438965,
          "count": 75,
          "label": "AVOIR "
         },
         {
          "X": 0.5037851333618164,
          "Y": -0.36826446652412415,
          "count": 75,
          "label": "AVOIR "
         },
         {
          "X": 0.7769594192504883,
          "Y": -0.937835156917572,
          "count": 75,
          "label": "AVOIR "
         },
         {
          "X": 2.8399338722229004,
          "Y": 0.9212411046028137,
          "count": 75,
          "label": "AVOIR "
         },
         {
          "X": 3.119617223739624,
          "Y": -0.13792037963867188,
          "count": 75,
          "label": "AVOIR "
         },
         {
          "X": -0.038906216621398926,
          "Y": -1.3321967124938965,
          "count": 75,
          "label": "AVOIR "
         },
         {
          "X": 1.9337143898010254,
          "Y": 0.7559248805046082,
          "count": 75,
          "label": "AVOIR "
         },
         {
          "X": -0.7744936347007751,
          "Y": 0.43829581141471863,
          "count": 75,
          "label": "AVOIR "
         },
         {
          "X": -0.5734463334083557,
          "Y": 1.4404056072235107,
          "count": 75,
          "label": "AVOIR "
         },
         {
          "X": -0.010860791429877281,
          "Y": 0.7860143780708313,
          "count": 75,
          "label": "AVOIR "
         },
         {
          "X": 1.4603018760681152,
          "Y": 1.5007543563842773,
          "count": 75,
          "label": "AVOIR "
         },
         {
          "X": 0.9383410811424255,
          "Y": -0.30791112780570984,
          "count": 75,
          "label": "AVOIR "
         },
         {
          "X": 1.1252766847610474,
          "Y": -1.8188939094543457,
          "count": 75,
          "label": "AVOIR "
         },
         {
          "X": 0.8493266105651855,
          "Y": 0.3709956705570221,
          "count": 75,
          "label": "AVOIR "
         },
         {
          "X": 0.3065185546875,
          "Y": -2.5074639320373535,
          "count": 75,
          "label": "AVOIR "
         },
         {
          "X": 0.030435696244239807,
          "Y": 1.9478543996810913,
          "count": 75,
          "label": "AVOIR "
         },
         {
          "X": 0.12445073574781418,
          "Y": 0.05000607669353485,
          "count": 75,
          "label": "AVOIR "
         },
         {
          "X": 1.5576236248016357,
          "Y": 0.37839797139167786,
          "count": 75,
          "label": "AVOIR "
         },
         {
          "X": 0.9383410811424255,
          "Y": -0.30791112780570984,
          "count": 75,
          "label": "AVOIR "
         },
         {
          "X": -2.2484381198883057,
          "Y": -0.08005529642105103,
          "count": 75,
          "label": "AVOIR "
         },
         {
          "X": 0.7769594192504883,
          "Y": -0.937835156917572,
          "count": 75,
          "label": "AVOIR "
         },
         {
          "X": 1.7958910465240479,
          "Y": -1.4791693687438965,
          "count": 75,
          "label": "AVOIR "
         },
         {
          "X": -0.5734463334083557,
          "Y": 1.4404056072235107,
          "count": 75,
          "label": "AVOIR "
         },
         {
          "X": 1.7958910465240479,
          "Y": -1.4791693687438965,
          "count": 75,
          "label": "AVOIR "
         },
         {
          "X": 1.9337143898010254,
          "Y": 0.7559248805046082,
          "count": 75,
          "label": "AVOIR "
         },
         {
          "X": 0.8493266105651855,
          "Y": 0.3709956705570221,
          "count": 75,
          "label": "AVOIR "
         },
         {
          "X": 0.8493266105651855,
          "Y": 0.3709956705570221,
          "count": 75,
          "label": "AVOIR "
         },
         {
          "X": -0.038906216621398926,
          "Y": -1.3321967124938965,
          "count": 75,
          "label": "AVOIR "
         },
         {
          "X": -0.535822331905365,
          "Y": -0.45780566334724426,
          "count": 75,
          "label": "AVOIR "
         },
         {
          "X": -0.010860791429877281,
          "Y": 0.7860143780708313,
          "count": 75,
          "label": "AVOIR "
         },
         {
          "X": 0.9383410811424255,
          "Y": -0.30791112780570984,
          "count": 75,
          "label": "AVOIR "
         },
         {
          "X": -0.038906216621398926,
          "Y": -1.3321967124938965,
          "count": 75,
          "label": "AVOIR "
         },
         {
          "X": 1.5576236248016357,
          "Y": 0.37839797139167786,
          "count": 75,
          "label": "AVOIR "
         },
         {
          "X": 1.7958910465240479,
          "Y": -1.4791693687438965,
          "count": 75,
          "label": "AVOIR "
         },
         {
          "X": -0.7458605766296387,
          "Y": 2.3939642906188965,
          "count": 75,
          "label": "AVOIR "
         },
         {
          "X": -2.094820976257324,
          "Y": 0.9459067583084106,
          "count": 75,
          "label": "AVOIR "
         },
         {
          "X": -1.0123517513275146,
          "Y": -0.5774029493331909,
          "count": 75,
          "label": "AVOIR "
         },
         {
          "X": 0.12445073574781418,
          "Y": 0.05000607669353485,
          "count": 75,
          "label": "AVOIR "
         },
         {
          "X": 0.12445073574781418,
          "Y": 0.05000607669353485,
          "count": 75,
          "label": "AVOIR "
         },
         {
          "X": -1.986215591430664,
          "Y": -1.3099150657653809,
          "count": 75,
          "label": "AVOIR "
         },
         {
          "X": 1.1252766847610474,
          "Y": -1.8188939094543457,
          "count": 75,
          "label": "AVOIR "
         },
         {
          "X": -1.3968206644058228,
          "Y": -0.7054904103279114,
          "count": 75,
          "label": "AVOIR "
         },
         {
          "X": 0.7769594192504883,
          "Y": -0.937835156917572,
          "count": 75,
          "label": "AVOIR "
         },
         {
          "X": -0.038906216621398926,
          "Y": -1.3321967124938965,
          "count": 75,
          "label": "AVOIR "
         },
         {
          "X": 1.4603018760681152,
          "Y": 1.5007543563842773,
          "count": 75,
          "label": "AVOIR "
         },
         {
          "X": 1.3840988874435425,
          "Y": -0.24738861620426178,
          "count": 75,
          "label": "AVOIR "
         },
         {
          "X": -0.5734463334083557,
          "Y": 1.4404056072235107,
          "count": 75,
          "label": "AVOIR "
         },
         {
          "X": -1.0455948114395142,
          "Y": 0.62473464012146,
          "count": 75,
          "label": "AVOIR "
         },
         {
          "X": 0.8493266105651855,
          "Y": 0.3709956705570221,
          "count": 75,
          "label": "AVOIR "
         },
         {
          "X": 1.9337143898010254,
          "Y": 0.7559248805046082,
          "count": 75,
          "label": "AVOIR "
         },
         {
          "X": -0.7744936347007751,
          "Y": 0.43829581141471863,
          "count": 75,
          "label": "AVOIR "
         },
         {
          "X": 0.054940976202487946,
          "Y": 1.9244228601455688,
          "count": 75,
          "label": "AVOIR "
         },
         {
          "X": 0.8493266105651855,
          "Y": 0.3709956705570221,
          "count": 75,
          "label": "AVOIR "
         },
         {
          "X": 1.1252766847610474,
          "Y": -1.8188939094543457,
          "count": 69,
          "label": "C-EST"
         },
         {
          "X": 0.5004889369010925,
          "Y": -0.3752165734767914,
          "count": 69,
          "label": "C-EST"
         },
         {
          "X": 2.8399338722229004,
          "Y": 0.9212411046028137,
          "count": 69,
          "label": "C-EST"
         },
         {
          "X": 2.189912796020508,
          "Y": -0.3414364457130432,
          "count": 69,
          "label": "C-EST"
         },
         {
          "X": -0.010860791429877281,
          "Y": 0.7860143780708313,
          "count": 69,
          "label": "C-EST"
         },
         {
          "X": 2.189912796020508,
          "Y": -0.3414364457130432,
          "count": 69,
          "label": "C-EST"
         },
         {
          "X": 0.8493266105651855,
          "Y": 0.3709956705570221,
          "count": 69,
          "label": "C-EST"
         },
         {
          "X": -1.3968206644058228,
          "Y": -0.7054904103279114,
          "count": 69,
          "label": "C-EST"
         },
         {
          "X": -0.5734463334083557,
          "Y": 1.4404056072235107,
          "count": 69,
          "label": "C-EST"
         },
         {
          "X": 2.8399338722229004,
          "Y": 0.9212411046028137,
          "count": 69,
          "label": "C-EST"
         },
         {
          "X": 0.006693319883197546,
          "Y": -0.5674325227737427,
          "count": 69,
          "label": "C-EST"
         },
         {
          "X": -0.7520882487297058,
          "Y": -0.2695270776748657,
          "count": 69,
          "label": "C-EST"
         },
         {
          "X": -0.010860791429877281,
          "Y": 0.7860143780708313,
          "count": 69,
          "label": "C-EST"
         },
         {
          "X": 2.8062100410461426,
          "Y": 0.41145914793014526,
          "count": 69,
          "label": "C-EST"
         },
         {
          "X": 0.8493266105651855,
          "Y": 0.3709956705570221,
          "count": 69,
          "label": "C-EST"
         },
         {
          "X": 0.9383410811424255,
          "Y": -0.30791112780570984,
          "count": 69,
          "label": "C-EST"
         },
         {
          "X": 0.8493266105651855,
          "Y": 0.3709956705570221,
          "count": 69,
          "label": "C-EST"
         },
         {
          "X": 1.490423321723938,
          "Y": -0.8618544936180115,
          "count": 69,
          "label": "C-EST"
         },
         {
          "X": -0.5727768540382385,
          "Y": 0.19141483306884766,
          "count": 69,
          "label": "C-EST"
         },
         {
          "X": -0.2342323362827301,
          "Y": -2.38041090965271,
          "count": 69,
          "label": "C-EST"
         },
         {
          "X": 3.123568058013916,
          "Y": -0.21168310940265656,
          "count": 69,
          "label": "C-EST"
         },
         {
          "X": -0.2342323362827301,
          "Y": -2.38041090965271,
          "count": 69,
          "label": "C-EST"
         },
         {
          "X": 0.12445073574781418,
          "Y": 0.05000607669353485,
          "count": 69,
          "label": "C-EST"
         },
         {
          "X": -0.8977599740028381,
          "Y": -2.1725804805755615,
          "count": 69,
          "label": "C-EST"
         },
         {
          "X": -0.010860791429877281,
          "Y": 0.7860143780708313,
          "count": 69,
          "label": "C-EST"
         },
         {
          "X": 0.8493266105651855,
          "Y": 0.3709956705570221,
          "count": 69,
          "label": "C-EST"
         },
         {
          "X": 1.1252766847610474,
          "Y": -1.8188939094543457,
          "count": 69,
          "label": "C-EST"
         },
         {
          "X": 1.9337143898010254,
          "Y": 0.7559248805046082,
          "count": 69,
          "label": "C-EST"
         },
         {
          "X": -1.3455700874328613,
          "Y": 1.0156828165054321,
          "count": 69,
          "label": "C-EST"
         },
         {
          "X": -0.010860791429877281,
          "Y": 0.7860143780708313,
          "count": 69,
          "label": "C-EST"
         },
         {
          "X": -0.038906216621398926,
          "Y": -1.3321967124938965,
          "count": 69,
          "label": "C-EST"
         },
         {
          "X": 0.8493266105651855,
          "Y": 0.3709956705570221,
          "count": 69,
          "label": "C-EST"
         },
         {
          "X": -0.20227792859077454,
          "Y": 2.6058075428009033,
          "count": 69,
          "label": "C-EST"
         },
         {
          "X": -0.038906216621398926,
          "Y": -1.3321967124938965,
          "count": 69,
          "label": "C-EST"
         },
         {
          "X": 0.7809913158416748,
          "Y": -2.468172311782837,
          "count": 69,
          "label": "C-EST"
         },
         {
          "X": 2.189912796020508,
          "Y": -0.3414364457130432,
          "count": 69,
          "label": "C-EST"
         },
         {
          "X": 1.9539906978607178,
          "Y": 2.177903652191162,
          "count": 69,
          "label": "C-EST"
         },
         {
          "X": 0.12445073574781418,
          "Y": 0.05000607669353485,
          "count": 69,
          "label": "C-EST"
         },
         {
          "X": 0.8493266105651855,
          "Y": 0.3709956705570221,
          "count": 69,
          "label": "C-EST"
         },
         {
          "X": 1.5444684028625488,
          "Y": -2.3124451637268066,
          "count": 69,
          "label": "C-EST"
         },
         {
          "X": -0.5734463334083557,
          "Y": 1.4404056072235107,
          "count": 69,
          "label": "C-EST"
         },
         {
          "X": -0.5263254046440125,
          "Y": -0.5030304193496704,
          "count": 69,
          "label": "C-EST"
         },
         {
          "X": 0.8493266105651855,
          "Y": 0.3709956705570221,
          "count": 69,
          "label": "C-EST"
         },
         {
          "X": -0.010860791429877281,
          "Y": 0.7860143780708313,
          "count": 69,
          "label": "C-EST"
         },
         {
          "X": 0.006693319883197546,
          "Y": -0.5674325227737427,
          "count": 69,
          "label": "C-EST"
         },
         {
          "X": -0.010860791429877281,
          "Y": 0.7860143780708313,
          "count": 69,
          "label": "C-EST"
         },
         {
          "X": 2.923506736755371,
          "Y": -0.958000123500824,
          "count": 69,
          "label": "C-EST"
         },
         {
          "X": 0.12445073574781418,
          "Y": 0.05000607669353485,
          "count": 69,
          "label": "C-EST"
         },
         {
          "X": -2.2484381198883057,
          "Y": -0.08005529642105103,
          "count": 69,
          "label": "C-EST"
         },
         {
          "X": 1.4603018760681152,
          "Y": 1.5007543563842773,
          "count": 69,
          "label": "C-EST"
         },
         {
          "X": 0.5037851333618164,
          "Y": -0.36826446652412415,
          "count": 69,
          "label": "C-EST"
         },
         {
          "X": -0.2342323362827301,
          "Y": -2.38041090965271,
          "count": 69,
          "label": "C-EST"
         },
         {
          "X": 0.7769594192504883,
          "Y": -0.937835156917572,
          "count": 69,
          "label": "C-EST"
         },
         {
          "X": 0.7133759260177612,
          "Y": 1.2155088186264038,
          "count": 69,
          "label": "C-EST"
         },
         {
          "X": -0.038906216621398926,
          "Y": -1.3321967124938965,
          "count": 69,
          "label": "C-EST"
         },
         {
          "X": 2.189912796020508,
          "Y": -0.3414364457130432,
          "count": 69,
          "label": "C-EST"
         },
         {
          "X": 1.3840988874435425,
          "Y": -0.24738861620426178,
          "count": 69,
          "label": "C-EST"
         },
         {
          "X": 1.9337143898010254,
          "Y": 0.7559248805046082,
          "count": 69,
          "label": "C-EST"
         },
         {
          "X": 1.0381417274475098,
          "Y": 2.305878162384033,
          "count": 69,
          "label": "C-EST"
         },
         {
          "X": 0.8493266105651855,
          "Y": 0.3709956705570221,
          "count": 69,
          "label": "C-EST"
         },
         {
          "X": -0.038906216621398926,
          "Y": -1.3321967124938965,
          "count": 69,
          "label": "C-EST"
         },
         {
          "X": 0.5059118270874023,
          "Y": -0.36350134015083313,
          "count": 69,
          "label": "C-EST"
         },
         {
          "X": -0.5734463334083557,
          "Y": 1.4404056072235107,
          "count": 69,
          "label": "C-EST"
         },
         {
          "X": 0.7561317086219788,
          "Y": -1.770358681678772,
          "count": 69,
          "label": "C-EST"
         },
         {
          "X": -0.7890880703926086,
          "Y": -1.0077091455459595,
          "count": 69,
          "label": "C-EST"
         },
         {
          "X": 0.12445073574781418,
          "Y": 0.05000607669353485,
          "count": 69,
          "label": "C-EST"
         },
         {
          "X": 2.8399338722229004,
          "Y": 0.9212411046028137,
          "count": 69,
          "label": "C-EST"
         },
         {
          "X": -0.010860791429877281,
          "Y": 0.7860143780708313,
          "count": 69,
          "label": "C-EST"
         },
         {
          "X": -0.6066305637359619,
          "Y": 0.047458481043577194,
          "count": 69,
          "label": "C-EST"
         },
         {
          "X": 1.9539906978607178,
          "Y": 2.177903652191162,
          "count": 72,
          "label": "SOURD"
         },
         {
          "X": -0.7520882487297058,
          "Y": -0.2695270776748657,
          "count": 72,
          "label": "SOURD"
         },
         {
          "X": 1.5617005825042725,
          "Y": 0.3695625364780426,
          "count": 72,
          "label": "SOURD"
         },
         {
          "X": -0.8977599740028381,
          "Y": -2.1725804805755615,
          "count": 72,
          "label": "SOURD"
         },
         {
          "X": 0.12445073574781418,
          "Y": 0.05000607669353485,
          "count": 72,
          "label": "SOURD"
         },
         {
          "X": -0.7827644348144531,
          "Y": -1.1214321851730347,
          "count": 72,
          "label": "SOURD"
         },
         {
          "X": -0.010860791429877281,
          "Y": 0.7860143780708313,
          "count": 72,
          "label": "SOURD"
         },
         {
          "X": -0.5727768540382385,
          "Y": 0.19141483306884766,
          "count": 72,
          "label": "SOURD"
         },
         {
          "X": 0.7133759260177612,
          "Y": 1.2155088186264038,
          "count": 72,
          "label": "SOURD"
         },
         {
          "X": 3.1168785095214844,
          "Y": -0.411366730928421,
          "count": 72,
          "label": "SOURD"
         },
         {
          "X": 1.5444684028625488,
          "Y": -2.3124451637268066,
          "count": 72,
          "label": "SOURD"
         },
         {
          "X": -2.094820976257324,
          "Y": 0.9459067583084106,
          "count": 72,
          "label": "SOURD"
         },
         {
          "X": 0.08518155664205551,
          "Y": -0.5668357610702515,
          "count": 72,
          "label": "SOURD"
         },
         {
          "X": 0.9383410811424255,
          "Y": -0.30791112780570984,
          "count": 72,
          "label": "SOURD"
         },
         {
          "X": -0.7744936347007751,
          "Y": 0.43829581141471863,
          "count": 72,
          "label": "SOURD"
         },
         {
          "X": -1.4802589416503906,
          "Y": -0.13927695155143738,
          "count": 72,
          "label": "SOURD"
         },
         {
          "X": 0.12445073574781418,
          "Y": 0.05000607669353485,
          "count": 72,
          "label": "SOURD"
         },
         {
          "X": -0.038906216621398926,
          "Y": -1.3321967124938965,
          "count": 72,
          "label": "SOURD"
         },
         {
          "X": 2.189912796020508,
          "Y": -0.3414364457130432,
          "count": 72,
          "label": "SOURD"
         },
         {
          "X": 2.2986629009246826,
          "Y": -2.04585337638855,
          "count": 72,
          "label": "SOURD"
         },
         {
          "X": 0.3275226056575775,
          "Y": 1.327501893043518,
          "count": 72,
          "label": "SOURD"
         },
         {
          "X": 0.7133759260177612,
          "Y": 1.2155088186264038,
          "count": 72,
          "label": "SOURD"
         },
         {
          "X": -1.4802589416503906,
          "Y": -0.13927695155143738,
          "count": 72,
          "label": "SOURD"
         },
         {
          "X": 0.12445073574781418,
          "Y": 0.05000607669353485,
          "count": 72,
          "label": "SOURD"
         },
         {
          "X": 0.12445073574781418,
          "Y": 0.05000607669353485,
          "count": 72,
          "label": "SOURD"
         },
         {
          "X": 1.7958910465240479,
          "Y": -1.4791693687438965,
          "count": 72,
          "label": "SOURD"
         },
         {
          "X": 1.7958910465240479,
          "Y": -1.4791693687438965,
          "count": 72,
          "label": "SOURD"
         },
         {
          "X": 0.9383410811424255,
          "Y": -0.30791112780570984,
          "count": 72,
          "label": "SOURD"
         },
         {
          "X": -0.7890880703926086,
          "Y": -1.0077091455459595,
          "count": 72,
          "label": "SOURD"
         },
         {
          "X": -1.0455948114395142,
          "Y": 0.62473464012146,
          "count": 72,
          "label": "SOURD"
         },
         {
          "X": 1.4874746799468994,
          "Y": -1.1944838762283325,
          "count": 72,
          "label": "SOURD"
         },
         {
          "X": 0.030435696244239807,
          "Y": 1.9478543996810913,
          "count": 72,
          "label": "SOURD"
         },
         {
          "X": 0.7809913158416748,
          "Y": -2.468172311782837,
          "count": 72,
          "label": "SOURD"
         },
         {
          "X": 1.9337143898010254,
          "Y": 0.7559248805046082,
          "count": 72,
          "label": "SOURD"
         },
         {
          "X": -1.4802589416503906,
          "Y": -0.13927695155143738,
          "count": 72,
          "label": "SOURD"
         },
         {
          "X": 0.7133759260177612,
          "Y": 1.2155088186264038,
          "count": 72,
          "label": "SOURD"
         },
         {
          "X": 2.7740659713745117,
          "Y": 0.4257631003856659,
          "count": 72,
          "label": "SOURD"
         },
         {
          "X": -0.2342323362827301,
          "Y": -2.38041090965271,
          "count": 72,
          "label": "SOURD"
         },
         {
          "X": 1.4603018760681152,
          "Y": 1.5007543563842773,
          "count": 72,
          "label": "SOURD"
         },
         {
          "X": 0.2876945436000824,
          "Y": 1.8856663703918457,
          "count": 72,
          "label": "SOURD"
         },
         {
          "X": -0.20227792859077454,
          "Y": 2.6058075428009033,
          "count": 72,
          "label": "SOURD"
         },
         {
          "X": 0.7133759260177612,
          "Y": 1.2155088186264038,
          "count": 72,
          "label": "SOURD"
         },
         {
          "X": 1.9337143898010254,
          "Y": 0.7559248805046082,
          "count": 72,
          "label": "SOURD"
         },
         {
          "X": 0.7331911325454712,
          "Y": -1.7729463577270508,
          "count": 72,
          "label": "SOURD"
         },
         {
          "X": -0.038906216621398926,
          "Y": -1.3321967124938965,
          "count": 72,
          "label": "SOURD"
         },
         {
          "X": -1.3455700874328613,
          "Y": 1.0156828165054321,
          "count": 72,
          "label": "SOURD"
         },
         {
          "X": 2.6804513931274414,
          "Y": -1.1999847888946533,
          "count": 72,
          "label": "SOURD"
         },
         {
          "X": -1.433718204498291,
          "Y": -1.7712657451629639,
          "count": 72,
          "label": "SOURD"
         },
         {
          "X": -0.038906216621398926,
          "Y": -1.3321967124938965,
          "count": 72,
          "label": "SOURD"
         },
         {
          "X": 0.8493266105651855,
          "Y": 0.3709956705570221,
          "count": 72,
          "label": "SOURD"
         },
         {
          "X": 1.3840988874435425,
          "Y": -0.24738861620426178,
          "count": 72,
          "label": "SOURD"
         },
         {
          "X": -2.168177843093872,
          "Y": -0.8271084427833557,
          "count": 72,
          "label": "SOURD"
         },
         {
          "X": -0.7744936347007751,
          "Y": 0.43829581141471863,
          "count": 72,
          "label": "SOURD"
         },
         {
          "X": -0.5734463334083557,
          "Y": 1.4404056072235107,
          "count": 72,
          "label": "SOURD"
         },
         {
          "X": 0.12445073574781418,
          "Y": 0.05000607669353485,
          "count": 72,
          "label": "SOURD"
         },
         {
          "X": -0.038906216621398926,
          "Y": -1.3321967124938965,
          "count": 72,
          "label": "SOURD"
         },
         {
          "X": 1.5576236248016357,
          "Y": 0.37839797139167786,
          "count": 72,
          "label": "SOURD"
         },
         {
          "X": 0.7769594192504883,
          "Y": -0.937835156917572,
          "count": 72,
          "label": "SOURD"
         },
         {
          "X": -0.010860791429877281,
          "Y": 0.7860143780708313,
          "count": 72,
          "label": "SOURD"
         },
         {
          "X": 2.5816004276275635,
          "Y": -1.5323636531829834,
          "count": 72,
          "label": "SOURD"
         },
         {
          "X": 0.9383410811424255,
          "Y": -0.30791112780570984,
          "count": 72,
          "label": "SOURD"
         },
         {
          "X": 0.7569299340248108,
          "Y": -1.7701759338378906,
          "count": 72,
          "label": "SOURD"
         },
         {
          "X": -0.038906216621398926,
          "Y": -1.3321967124938965,
          "count": 72,
          "label": "SOURD"
         },
         {
          "X": 0.5022168159484863,
          "Y": -0.369074285030365,
          "count": 72,
          "label": "SOURD"
         },
         {
          "X": -0.010860791429877281,
          "Y": 0.7860143780708313,
          "count": 72,
          "label": "SOURD"
         },
         {
          "X": 0.12445073574781418,
          "Y": 0.05000607669353485,
          "count": 72,
          "label": "SOURD"
         },
         {
          "X": -0.7744936347007751,
          "Y": 0.43829581141471863,
          "count": 72,
          "label": "SOURD"
         },
         {
          "X": 0.12445073574781418,
          "Y": 0.05000607669353485,
          "count": 72,
          "label": "SOURD"
         },
         {
          "X": 1.3840988874435425,
          "Y": -0.24738861620426178,
          "count": 72,
          "label": "SOURD"
         },
         {
          "X": 2.923506736755371,
          "Y": -0.958000123500824,
          "count": 72,
          "label": "SOURD"
         },
         {
          "X": 0.8493266105651855,
          "Y": 0.3709956705570221,
          "count": 72,
          "label": "SOURD"
         },
         {
          "X": 1.9539906978607178,
          "Y": 2.177903652191162,
          "count": 72,
          "label": "SOURD"
         },
         {
          "X": 0.8493266105651855,
          "Y": 0.3709956705570221,
          "count": 47,
          "label": "ENTENDANT"
         },
         {
          "X": 1.5444684028625488,
          "Y": -2.3124451637268066,
          "count": 47,
          "label": "ENTENDANT"
         },
         {
          "X": 2.5976979732513428,
          "Y": 1.3837021589279175,
          "count": 47,
          "label": "ENTENDANT"
         },
         {
          "X": -0.010860791429877281,
          "Y": 0.7860143780708313,
          "count": 47,
          "label": "ENTENDANT"
         },
         {
          "X": 0.19849514961242676,
          "Y": 2.5399622917175293,
          "count": 47,
          "label": "ENTENDANT"
         },
         {
          "X": -1.4223387241363525,
          "Y": -1.1469751596450806,
          "count": 47,
          "label": "ENTENDANT"
         },
         {
          "X": 0.7769594192504883,
          "Y": -0.937835156917572,
          "count": 47,
          "label": "ENTENDANT"
         },
         {
          "X": 1.0381417274475098,
          "Y": 2.305878162384033,
          "count": 47,
          "label": "ENTENDANT"
         },
         {
          "X": 0.5022168159484863,
          "Y": -0.369074285030365,
          "count": 47,
          "label": "ENTENDANT"
         },
         {
          "X": -0.2342323362827301,
          "Y": -2.38041090965271,
          "count": 47,
          "label": "ENTENDANT"
         },
         {
          "X": -0.7520882487297058,
          "Y": -0.2695270776748657,
          "count": 47,
          "label": "ENTENDANT"
         },
         {
          "X": -0.038906216621398926,
          "Y": -1.3321967124938965,
          "count": 47,
          "label": "ENTENDANT"
         },
         {
          "X": 1.1252766847610474,
          "Y": -1.8188939094543457,
          "count": 47,
          "label": "ENTENDANT"
         },
         {
          "X": 1.0381417274475098,
          "Y": 2.305878162384033,
          "count": 47,
          "label": "ENTENDANT"
         },
         {
          "X": 1.7958910465240479,
          "Y": -1.4791693687438965,
          "count": 47,
          "label": "ENTENDANT"
         },
         {
          "X": 1.5509209632873535,
          "Y": 0.3715212941169739,
          "count": 47,
          "label": "ENTENDANT"
         },
         {
          "X": 0.7769594192504883,
          "Y": -0.937835156917572,
          "count": 47,
          "label": "ENTENDANT"
         },
         {
          "X": -0.010860791429877281,
          "Y": 0.7860143780708313,
          "count": 47,
          "label": "ENTENDANT"
         },
         {
          "X": 2.3063695430755615,
          "Y": 1.698819637298584,
          "count": 47,
          "label": "ENTENDANT"
         },
         {
          "X": -0.7520882487297058,
          "Y": -0.2695270776748657,
          "count": 47,
          "label": "ENTENDANT"
         },
         {
          "X": -1.2051360607147217,
          "Y": 1.1815179586410522,
          "count": 47,
          "label": "ENTENDANT"
         },
         {
          "X": -1.664787769317627,
          "Y": 1.7272974252700806,
          "count": 47,
          "label": "ENTENDANT"
         },
         {
          "X": 0.7809913158416748,
          "Y": -2.468172311782837,
          "count": 47,
          "label": "ENTENDANT"
         },
         {
          "X": -0.5316834449768066,
          "Y": -0.3826110363006592,
          "count": 47,
          "label": "ENTENDANT"
         },
         {
          "X": 2.8399338722229004,
          "Y": 0.9212411046028137,
          "count": 47,
          "label": "ENTENDANT"
         },
         {
          "X": 1.7958910465240479,
          "Y": -1.4791693687438965,
          "count": 47,
          "label": "ENTENDANT"
         },
         {
          "X": 0.7769594192504883,
          "Y": -0.937835156917572,
          "count": 47,
          "label": "ENTENDANT"
         },
         {
          "X": -1.4802589416503906,
          "Y": -0.13927695155143738,
          "count": 47,
          "label": "ENTENDANT"
         },
         {
          "X": 2.6804513931274414,
          "Y": -1.1999847888946533,
          "count": 47,
          "label": "ENTENDANT"
         },
         {
          "X": 1.9337143898010254,
          "Y": 0.7559248805046082,
          "count": 47,
          "label": "ENTENDANT"
         },
         {
          "X": -1.433718204498291,
          "Y": -1.7712657451629639,
          "count": 47,
          "label": "ENTENDANT"
         },
         {
          "X": 2.356484889984131,
          "Y": 1.6304043531417847,
          "count": 47,
          "label": "ENTENDANT"
         },
         {
          "X": 2.189912796020508,
          "Y": -0.3414364457130432,
          "count": 47,
          "label": "ENTENDANT"
         },
         {
          "X": 3.1133673191070557,
          "Y": 0.10794708132743835,
          "count": 47,
          "label": "ENTENDANT"
         },
         {
          "X": -0.5734463334083557,
          "Y": 1.4404056072235107,
          "count": 47,
          "label": "ENTENDANT"
         },
         {
          "X": 1.7958910465240479,
          "Y": -1.4791693687438965,
          "count": 47,
          "label": "ENTENDANT"
         },
         {
          "X": 0.7769594192504883,
          "Y": -0.937835156917572,
          "count": 47,
          "label": "ENTENDANT"
         },
         {
          "X": 1.7958910465240479,
          "Y": -1.4791693687438965,
          "count": 47,
          "label": "ENTENDANT"
         },
         {
          "X": 1.9337143898010254,
          "Y": 0.7559248805046082,
          "count": 47,
          "label": "ENTENDANT"
         },
         {
          "X": 0.12445073574781418,
          "Y": 0.05000607669353485,
          "count": 47,
          "label": "ENTENDANT"
         },
         {
          "X": 0.08518155664205551,
          "Y": -0.5668357610702515,
          "count": 47,
          "label": "ENTENDANT"
         },
         {
          "X": 1.5444684028625488,
          "Y": -2.3124451637268066,
          "count": 47,
          "label": "ENTENDANT"
         },
         {
          "X": 0.12445073574781418,
          "Y": 0.05000607669353485,
          "count": 47,
          "label": "ENTENDANT"
         },
         {
          "X": 0.7133759260177612,
          "Y": 1.2155088186264038,
          "count": 47,
          "label": "ENTENDANT"
         },
         {
          "X": 0.8493266105651855,
          "Y": 0.3709956705570221,
          "count": 47,
          "label": "ENTENDANT"
         },
         {
          "X": -0.5734463334083557,
          "Y": 1.4404056072235107,
          "count": 47,
          "label": "ENTENDANT"
         },
         {
          "X": 0.08518155664205551,
          "Y": -0.5668357610702515,
          "count": 47,
          "label": "ENTENDANT"
         }
        ]
       },
       "encoding": {
        "color": {
         "field": "label",
         "type": "nominal"
        },
        "x": {
         "field": "X",
         "type": "quantitative"
        },
        "y": {
         "field": "Y",
         "type": "quantitative"
        }
       },
       "mark": {
        "size": 60,
        "type": "circle"
       },
       "selection": {
        "selector006": {
         "bind": "scales",
         "encodings": [
          "x",
          "y"
         ],
         "mark": {
          "fill": "#333",
          "fillOpacity": 0.125,
          "stroke": "white"
         },
         "on": "[mousedown, window:mouseup] > window:mousemove!",
         "resolve": "global",
         "translate": "[mousedown, window:mouseup] > window:mousemove!",
         "type": "interval",
         "zoom": "wheel!"
        }
       }
      },
      "image/png": "[encoded data removed]",
      "text/plain": [
       "<VegaLite 2 object>\n",
       "\n",
       "If you see this message, it means the renderer has not been properly enabled\n",
       "for the frontend that you are using. For more information, see\n",
       "https://altair-viz.github.io/user_guide/troubleshooting.html\n"
      ]
     },
     "metadata": {},
     "output_type": "display_data"
    }
   ],
   "source": [
    "# standalone graph\n",
    "\n",
    "preds_reduced = TSNE(n_components=2, perplexity = 80).fit_transform(preds)\n",
    "\n",
    "\n",
    "plot_df = pd.DataFrame({'X':preds_reduced[:,0],'Y':preds_reduced[:,1], 'label': label})\n",
    "\n",
    "plot_df = plot_df[plot_df[\"label\"] != 'LS']\n",
    "plot_df[\"count\"] = plot_df.apply(lambda row: len(plot_df[plot_df[\"label\"] == row[\"label\"]]), axis=1)\n",
    "plot_df = plot_df[plot_df[\"count\"] > 45]\n",
    "\n",
    "chart = alt.Chart(plot_df).mark_circle(size=60).encode(\n",
    "    x='X',\n",
    "    y='Y',\n",
    "    color='label').interactive()\n",
    "    \n",
    "display(chart)"
   ]
  },
  {
   "cell_type": "code",
   "execution_count": null,
   "metadata": {},
   "outputs": [],
   "source": []
  }
 ],
 "metadata": {
  "kernelspec": {
   "display_name": "Python 3",
   "language": "python",
   "name": "python3"
  },
  "language_info": {
   "codemirror_mode": {
    "name": "ipython",
    "version": 3
   },
   "file_extension": ".py",
   "mimetype": "text/x-python",
   "name": "python",
   "nbconvert_exporter": "python",
   "pygments_lexer": "ipython3",
   "version": "3.6.8"
  }
 },
 "nbformat": 4,
 "nbformat_minor": 2
}
