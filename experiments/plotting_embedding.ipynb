{
 "cells": [
  {
   "cell_type": "code",
   "execution_count": 3,
   "metadata": {},
   "outputs": [],
   "source": [
    "import numpy as np\n",
    "from sklearn.manifold import TSNE\n",
    "import pandas as pd\n",
    "import altair as alt\n",
    "from IPython.display import display"
   ]
  },
  {
   "cell_type": "code",
   "execution_count": 12,
   "metadata": {},
   "outputs": [
    {
     "name": "stdout",
     "output_type": "stream",
     "text": [
      "[[-1.9481381e-09 -1.0245890e-07 -6.1156220e-07 ... -6.6239068e-09\n",
      "   2.7129732e-07 -1.4953127e-07]\n",
      " [-1.9481381e-09 -1.0245890e-07 -6.1156220e-07 ... -6.6239068e-09\n",
      "   2.7129732e-07 -1.4953127e-07]\n",
      " [-1.9481381e-09 -1.0245890e-07 -6.1156220e-07 ... -6.6239068e-09\n",
      "   2.7129732e-07 -1.4953127e-07]\n",
      " ...\n",
      " [-7.8935569e-10  1.0100398e-05 -7.5061206e-07 ...  1.1882863e-06\n",
      "  -2.1044534e-06 -5.8159308e-08]\n",
      " [-7.8935569e-10  1.0100398e-05 -7.5061206e-07 ...  1.1882863e-06\n",
      "  -2.1044534e-06 -5.8159308e-08]\n",
      " [-1.9626802e-09 -3.1023887e-07 -6.1164741e-07 ... -6.7426242e-09\n",
      "   2.7662628e-07 -1.4958819e-07]]\n",
      "['1' '1' '1' '1' '1' '1' '1' '1' '1' '1' '1' '1' '1' '1' '1' '1' '1' '1'\n",
      " '1' '1' '1' '1' '1' '1' '1' '1' '1' '1' '1' '1' '1' '1' '1' '1' '1' '1'\n",
      " '1' '1' '1' '1' '1' '1' '1' '1' '1' '1' '1' '1' '1' '1' '1' '1' '1' '1'\n",
      " '1' '5' '5' '5' '5' '5' '5' '5' '2' '2' '2' '2' '2' '2' '2' '2' '2' '2'\n",
      " '2' '2' '2' '2' '2' '2' '2' '2' '2' '2' '2' '2' '2' '2' '2' '2' '3' '3'\n",
      " '3' '3' '3' '3' '3' '3' '3' '3' '3' '3' '3' '3' '3' '3' '4' '4' '4' '4'\n",
      " '4' '4' '4' '4' '4' '4' '4' '4' '4' '4' '4' '4' '4' '4' '4' '4']\n"
     ]
    }
   ],
   "source": [
    "# loading data\n",
    "preds = np.load(\"../results/preds.np\")\n",
    "label = np.load(\"../results/label.np\")\n",
    "\n",
    "print(preds)\n",
    "print(label)"
   ]
  },
  {
   "cell_type": "code",
   "execution_count": 13,
   "metadata": {},
   "outputs": [],
   "source": [
    "# reducting dimensions\n",
    "\n",
    "def reduce_dim(perplexity):\n",
    "    preds_reduced = TSNE(n_components=2, perplexity = perplexity).fit_transform(preds)\n",
    "    return preds_reduced\n",
    "\n",
    "\n",
    "def create_plot(preds_reduced, label):\n",
    "    plot_df = pd.DataFrame({'X':preds_reduced[:,0],'Y':preds_reduced[:,1], 'label': label})\n",
    "\n",
    "    #plot_df[\"count\"] = plot_df.apply(lambda row: len(plot_df[plot_df[\"label\"] == row[\"label\"]]), axis=1)\n",
    "    #plot_df = plot_df[plot_df[\"count\"] > 45]\n",
    "\n",
    "    chart = alt.Chart(plot_df).mark_circle(size=60).encode(\n",
    "        x='X',\n",
    "        y='Y',\n",
    "        color='label').interactive()\n",
    "    \n",
    "    display(chart)"
   ]
  },
  {
   "cell_type": "code",
   "execution_count": 15,
   "metadata": {},
   "outputs": [
    {
     "name": "stdout",
     "output_type": "stream",
     "text": [
      "Perplexity 5\n"
     ]
    },
    {
     "data": {
      "application/vnd.vegalite.v2+json": {
       "$schema": "https://vega.github.io/schema/vega-lite/v2.6.0.json",
       "config": {
        "view": {
         "height": 300,
         "width": 400
        }
       },
       "data": {
        "name": "data-d0c1c043260ad879a3db40b487f70ada"
       },
       "datasets": {
        "data-d0c1c043260ad879a3db40b487f70ada": [
         {
          "X": -6.22924280166626,
          "Y": -2.688063144683838,
          "label": "1"
         },
         {
          "X": -3.550590991973877,
          "Y": 1.856455683708191,
          "label": "1"
         },
         {
          "X": 0.45700278878211975,
          "Y": -2.175185203552246,
          "label": "1"
         },
         {
          "X": 12.980952262878418,
          "Y": 1.1536262035369873,
          "label": "1"
         },
         {
          "X": -1.198809266090393,
          "Y": -0.37852942943573,
          "label": "1"
         },
         {
          "X": -0.5937506556510925,
          "Y": 1.095434546470642,
          "label": "1"
         },
         {
          "X": -9.300284385681152,
          "Y": 0.6347411274909973,
          "label": "1"
         },
         {
          "X": -3.640127182006836,
          "Y": -1.6207588911056519,
          "label": "1"
         },
         {
          "X": -6.79812479019165,
          "Y": -1.764077067375183,
          "label": "1"
         },
         {
          "X": 13.248085021972656,
          "Y": 4.236039161682129,
          "label": "1"
         },
         {
          "X": -3.978639602661133,
          "Y": 0.8452597856521606,
          "label": "1"
         },
         {
          "X": -4.126998424530029,
          "Y": -0.5780136585235596,
          "label": "1"
         },
         {
          "X": 12.333218574523926,
          "Y": 3.008293390274048,
          "label": "1"
         },
         {
          "X": 0.022685112431645393,
          "Y": -0.0798940658569336,
          "label": "1"
         },
         {
          "X": -1.5963629484176636,
          "Y": -1.459417700767517,
          "label": "1"
         },
         {
          "X": -3.1146185398101807,
          "Y": 0.8893395066261292,
          "label": "1"
         },
         {
          "X": -6.463438987731934,
          "Y": 0.36382681131362915,
          "label": "1"
         },
         {
          "X": -3.8567769527435303,
          "Y": -0.983336865901947,
          "label": "1"
         },
         {
          "X": -3.5862162113189697,
          "Y": -0.37600284814834595,
          "label": "1"
         },
         {
          "X": 11.090688705444336,
          "Y": 0.9575167894363403,
          "label": "1"
         },
         {
          "X": -3.6502909660339355,
          "Y": -0.6741641759872437,
          "label": "1"
         },
         {
          "X": -3.4584174156188965,
          "Y": -1.436682939529419,
          "label": "1"
         },
         {
          "X": -3.36755633354187,
          "Y": -0.8378152251243591,
          "label": "1"
         },
         {
          "X": -4.111137390136719,
          "Y": -0.5749927759170532,
          "label": "1"
         },
         {
          "X": 15.031620979309082,
          "Y": 7.3183794021606445,
          "label": "1"
         },
         {
          "X": 12.357237815856934,
          "Y": 2.309368848800659,
          "label": "1"
         },
         {
          "X": -3.347130060195923,
          "Y": -1.266523003578186,
          "label": "1"
         },
         {
          "X": 11.86649227142334,
          "Y": 1.5638567209243774,
          "label": "1"
         },
         {
          "X": -3.3377981185913086,
          "Y": -1.0330971479415894,
          "label": "1"
         },
         {
          "X": 12.16657829284668,
          "Y": 4.884113788604736,
          "label": "1"
         },
         {
          "X": 10.76632022857666,
          "Y": 8.168835639953613,
          "label": "1"
         },
         {
          "X": 2.443173885345459,
          "Y": 2.0245602130889893,
          "label": "1"
         },
         {
          "X": -3.8651814460754395,
          "Y": -1.6397498846054077,
          "label": "1"
         },
         {
          "X": -4.261119365692139,
          "Y": -1.5164082050323486,
          "label": "1"
         },
         {
          "X": -4.0003275871276855,
          "Y": -1.6474378108978271,
          "label": "1"
         },
         {
          "X": -4.361738681793213,
          "Y": -0.7654488682746887,
          "label": "1"
         },
         {
          "X": -4.47743558883667,
          "Y": -1.0342384576797485,
          "label": "1"
         },
         {
          "X": -4.3926310539245605,
          "Y": -1.4360772371292114,
          "label": "1"
         },
         {
          "X": -1.9843038320541382,
          "Y": -6.58269739151001,
          "label": "1"
         },
         {
          "X": -4.485980033874512,
          "Y": -1.1561115980148315,
          "label": "1"
         },
         {
          "X": -3.89439058303833,
          "Y": -6.886716365814209,
          "label": "1"
         },
         {
          "X": -7.546305179595947,
          "Y": -5.74819803237915,
          "label": "1"
         },
         {
          "X": 10.727339744567871,
          "Y": 8.133567810058594,
          "label": "1"
         },
         {
          "X": -4.753665447235107,
          "Y": -3.8632864952087402,
          "label": "1"
         },
         {
          "X": -5.487079620361328,
          "Y": -2.0674872398376465,
          "label": "1"
         },
         {
          "X": -7.093902587890625,
          "Y": 1.589233160018921,
          "label": "1"
         },
         {
          "X": -5.8027801513671875,
          "Y": 1.2351740598678589,
          "label": "1"
         },
         {
          "X": -3.4532809257507324,
          "Y": -2.970336437225342,
          "label": "1"
         },
         {
          "X": -4.5586347579956055,
          "Y": -5.308787822723389,
          "label": "1"
         },
         {
          "X": -4.970645904541016,
          "Y": -2.6951889991760254,
          "label": "1"
         },
         {
          "X": -3.781496524810791,
          "Y": -4.153110504150391,
          "label": "1"
         },
         {
          "X": -9.07712173461914,
          "Y": -2.6233935356140137,
          "label": "1"
         },
         {
          "X": -5.320235729217529,
          "Y": 0.13784827291965485,
          "label": "1"
         },
         {
          "X": -2.581914186477661,
          "Y": 0.17495037615299225,
          "label": "1"
         },
         {
          "X": -4.203094482421875,
          "Y": -2.933091402053833,
          "label": "1"
         },
         {
          "X": -2.730494260787964,
          "Y": -2.6552793979644775,
          "label": "5"
         },
         {
          "X": -7.820576190948486,
          "Y": 0.23244984447956085,
          "label": "5"
         },
         {
          "X": 3.988133668899536,
          "Y": -0.4510420262813568,
          "label": "5"
         },
         {
          "X": 6.7854461669921875,
          "Y": 8.701497077941895,
          "label": "5"
         },
         {
          "X": 8.934124946594238,
          "Y": 7.339492321014404,
          "label": "5"
         },
         {
          "X": -1.8454842567443848,
          "Y": -3.2609148025512695,
          "label": "5"
         },
         {
          "X": -4.769167423248291,
          "Y": 1.7658519744873047,
          "label": "5"
         },
         {
          "X": -7.071051120758057,
          "Y": -4.050264835357666,
          "label": "2"
         },
         {
          "X": -5.739426136016846,
          "Y": -0.5297852158546448,
          "label": "2"
         },
         {
          "X": -2.312000274658203,
          "Y": -2.032953977584839,
          "label": "2"
         },
         {
          "X": -4.359541893005371,
          "Y": 3.026212692260742,
          "label": "2"
         },
         {
          "X": 7.094870090484619,
          "Y": 8.482306480407715,
          "label": "2"
         },
         {
          "X": -1.616621494293213,
          "Y": -4.6497697830200195,
          "label": "2"
         },
         {
          "X": 12.536746978759766,
          "Y": 1.4154900312423706,
          "label": "2"
         },
         {
          "X": -8.083205223083496,
          "Y": -1.2755377292633057,
          "label": "2"
         },
         {
          "X": 8.947393417358398,
          "Y": 7.670428276062012,
          "label": "2"
         },
         {
          "X": -2.750818967819214,
          "Y": -3.8936960697174072,
          "label": "2"
         },
         {
          "X": -2.807295799255371,
          "Y": 2.8192198276519775,
          "label": "2"
         },
         {
          "X": 0.34162837266921997,
          "Y": 2.7400870323181152,
          "label": "2"
         },
         {
          "X": 7.028548240661621,
          "Y": 3.4067060947418213,
          "label": "2"
         },
         {
          "X": -1.7359589338302612,
          "Y": 0.46874871850013733,
          "label": "2"
         },
         {
          "X": -1.8465572595596313,
          "Y": 4.133193492889404,
          "label": "2"
         },
         {
          "X": 12.063475608825684,
          "Y": 1.5771998167037964,
          "label": "2"
         },
         {
          "X": -8.51583194732666,
          "Y": 2.2336790561676025,
          "label": "2"
         },
         {
          "X": -7.20078706741333,
          "Y": 3.4629530906677246,
          "label": "2"
         },
         {
          "X": -4.759087085723877,
          "Y": 0.6441320776939392,
          "label": "2"
         },
         {
          "X": -2.152923583984375,
          "Y": -0.8052918314933777,
          "label": "2"
         },
         {
          "X": -7.5483245849609375,
          "Y": -2.798079490661621,
          "label": "2"
         },
         {
          "X": -5.611067771911621,
          "Y": 4.36887264251709,
          "label": "2"
         },
         {
          "X": -0.33308145403862,
          "Y": -5.559425354003906,
          "label": "2"
         },
         {
          "X": 10.631049156188965,
          "Y": 7.309319496154785,
          "label": "2"
         },
         {
          "X": -8.857659339904785,
          "Y": -4.298771381378174,
          "label": "2"
         },
         {
          "X": -9.769148826599121,
          "Y": -1.067265510559082,
          "label": "2"
         },
         {
          "X": -0.3371308445930481,
          "Y": -1.264521837234497,
          "label": "3"
         },
         {
          "X": 2.0266411304473877,
          "Y": -2.275813102722168,
          "label": "3"
         },
         {
          "X": 0.9919549822807312,
          "Y": 1.005973219871521,
          "label": "3"
         },
         {
          "X": 12.208168983459473,
          "Y": 1.8241488933563232,
          "label": "3"
         },
         {
          "X": 12.897909164428711,
          "Y": 4.277472496032715,
          "label": "3"
         },
         {
          "X": 1.4010727405548096,
          "Y": -0.5890885591506958,
          "label": "3"
         },
         {
          "X": 7.225131988525391,
          "Y": 3.9343981742858887,
          "label": "3"
         },
         {
          "X": 10.049909591674805,
          "Y": 7.964751243591309,
          "label": "3"
         },
         {
          "X": 6.284539222717285,
          "Y": 10.161718368530273,
          "label": "3"
         },
         {
          "X": -1.0236209630966187,
          "Y": -2.3554208278656006,
          "label": "3"
         },
         {
          "X": -1.1447738409042358,
          "Y": 2.44862699508667,
          "label": "3"
         },
         {
          "X": -0.42555609345436096,
          "Y": -3.4979891777038574,
          "label": "3"
         },
         {
          "X": -2.083649158477783,
          "Y": 1.5132777690887451,
          "label": "3"
         },
         {
          "X": 1.054702877998352,
          "Y": -3.9393293857574463,
          "label": "3"
         },
         {
          "X": 3.2843985557556152,
          "Y": -0.6168444156646729,
          "label": "3"
         },
         {
          "X": 3.703202247619629,
          "Y": -0.5367650389671326,
          "label": "3"
         },
         {
          "X": 2.637108325958252,
          "Y": 2.1383678913116455,
          "label": "4"
         },
         {
          "X": 11.253898620605469,
          "Y": 1.1000522375106812,
          "label": "4"
         },
         {
          "X": -6.876120090484619,
          "Y": -0.6788329482078552,
          "label": "4"
         },
         {
          "X": 6.277851581573486,
          "Y": 10.150930404663086,
          "label": "4"
         },
         {
          "X": 7.660511016845703,
          "Y": 8.25625991821289,
          "label": "4"
         },
         {
          "X": -5.793381214141846,
          "Y": -6.626974105834961,
          "label": "4"
         },
         {
          "X": 14.948840141296387,
          "Y": 7.512826442718506,
          "label": "4"
         },
         {
          "X": 15.057066917419434,
          "Y": 7.293696403503418,
          "label": "4"
         },
         {
          "X": 8.187734603881836,
          "Y": 8.004570007324219,
          "label": "4"
         },
         {
          "X": -5.900373935699463,
          "Y": -4.899616241455078,
          "label": "4"
         },
         {
          "X": -5.806107997894287,
          "Y": -1.3227496147155762,
          "label": "4"
         },
         {
          "X": 12.32532024383545,
          "Y": 4.588630676269531,
          "label": "4"
         },
         {
          "X": 10.824902534484863,
          "Y": 7.347205638885498,
          "label": "4"
         },
         {
          "X": -5.835731506347656,
          "Y": 2.5847582817077637,
          "label": "4"
         },
         {
          "X": -5.734127521514893,
          "Y": -3.5791800022125244,
          "label": "4"
         },
         {
          "X": -3.715707302093506,
          "Y": 4.5354437828063965,
          "label": "4"
         },
         {
          "X": -3.0158567428588867,
          "Y": -5.2988600730896,
          "label": "4"
         },
         {
          "X": 6.9001569747924805,
          "Y": 2.9302942752838135,
          "label": "4"
         },
         {
          "X": 6.880216121673584,
          "Y": 2.9188108444213867,
          "label": "4"
         },
         {
          "X": 10.657648086547852,
          "Y": 8.147262573242188,
          "label": "4"
         }
        ]
       },
       "encoding": {
        "color": {
         "field": "label",
         "type": "nominal"
        },
        "x": {
         "field": "X",
         "type": "quantitative"
        },
        "y": {
         "field": "Y",
         "type": "quantitative"
        }
       },
       "mark": {
        "size": 60,
        "type": "circle"
       },
       "selection": {
        "selector024": {
         "bind": "scales",
         "encodings": [
          "x",
          "y"
         ],
         "mark": {
          "fill": "#333",
          "fillOpacity": 0.125,
          "stroke": "white"
         },
         "on": "[mousedown, window:mouseup] > window:mousemove!",
         "resolve": "global",
         "translate": "[mousedown, window:mouseup] > window:mousemove!",
         "type": "interval",
         "zoom": "wheel!"
        }
       }
      },
      "image/png": "[encoded data removed]",
      "text/plain": [
       "<VegaLite 2 object>\n",
       "\n",
       "If you see this message, it means the renderer has not been properly enabled\n",
       "for the frontend that you are using. For more information, see\n",
       "https://altair-viz.github.io/user_guide/troubleshooting.html\n"
      ]
     },
     "metadata": {},
     "output_type": "display_data"
    },
    {
     "name": "stdout",
     "output_type": "stream",
     "text": [
      "Perplexity 15\n"
     ]
    },
    {
     "data": {
      "application/vnd.vegalite.v2+json": {
       "$schema": "https://vega.github.io/schema/vega-lite/v2.6.0.json",
       "config": {
        "view": {
         "height": 300,
         "width": 400
        }
       },
       "data": {
        "name": "data-bb5aa9c5d6888fbd5a7667284d331e42"
       },
       "datasets": {
        "data-bb5aa9c5d6888fbd5a7667284d331e42": [
         {
          "X": 3.7098491191864014,
          "Y": -0.0713435709476471,
          "label": "1"
         },
         {
          "X": 3.760498285293579,
          "Y": -0.3752191960811615,
          "label": "1"
         },
         {
          "X": 4.797829627990723,
          "Y": -1.5317254066467285,
          "label": "1"
         },
         {
          "X": 4.020663261413574,
          "Y": 4.533397197723389,
          "label": "1"
         },
         {
          "X": 4.91227912902832,
          "Y": -0.9463804364204407,
          "label": "1"
         },
         {
          "X": 4.711759090423584,
          "Y": -1.1443548202514648,
          "label": "1"
         },
         {
          "X": 4.959547519683838,
          "Y": 0.4611761271953583,
          "label": "1"
         },
         {
          "X": 3.4867501258850098,
          "Y": 0.2762008011341095,
          "label": "1"
         },
         {
          "X": 3.6300346851348877,
          "Y": -0.5121482610702515,
          "label": "1"
         },
         {
          "X": 2.375755548477173,
          "Y": 4.4409050941467285,
          "label": "1"
         },
         {
          "X": 3.3572938442230225,
          "Y": -0.5873948335647583,
          "label": "1"
         },
         {
          "X": 3.450699806213379,
          "Y": 0.2954913079738617,
          "label": "1"
         },
         {
          "X": 3.0262739658355713,
          "Y": 4.428380489349365,
          "label": "1"
         },
         {
          "X": 2.672316312789917,
          "Y": 1.4271163940429688,
          "label": "1"
         },
         {
          "X": 2.2905242443084717,
          "Y": 1.3973784446716309,
          "label": "1"
         },
         {
          "X": 2.0262391567230225,
          "Y": -1.3365721702575684,
          "label": "1"
         },
         {
          "X": 4.561715126037598,
          "Y": 1.4357110261917114,
          "label": "1"
         },
         {
          "X": 3.562116861343384,
          "Y": 0.21127307415008545,
          "label": "1"
         },
         {
          "X": 3.5612730979919434,
          "Y": 0.2153957337141037,
          "label": "1"
         },
         {
          "X": 3.908893585205078,
          "Y": 4.226441860198975,
          "label": "1"
         },
         {
          "X": 3.6414783000946045,
          "Y": 0.15565447509288788,
          "label": "1"
         },
         {
          "X": 3.641477346420288,
          "Y": 0.15565501153469086,
          "label": "1"
         },
         {
          "X": 3.600062847137451,
          "Y": 0.1488751918077469,
          "label": "1"
         },
         {
          "X": 3.1161603927612305,
          "Y": 0.16058948636054993,
          "label": "1"
         },
         {
          "X": 2.628821849822998,
          "Y": 5.782792091369629,
          "label": "1"
         },
         {
          "X": 3.5295228958129883,
          "Y": 4.470264911651611,
          "label": "1"
         },
         {
          "X": 3.1035351753234863,
          "Y": 0.15714405477046967,
          "label": "1"
         },
         {
          "X": 3.730975866317749,
          "Y": 4.364256381988525,
          "label": "1"
         },
         {
          "X": 3.094541549682617,
          "Y": 0.1505686342716217,
          "label": "1"
         },
         {
          "X": 1.7446868419647217,
          "Y": 4.174784183502197,
          "label": "1"
         },
         {
          "X": 0.6737631559371948,
          "Y": 3.5636467933654785,
          "label": "1"
         },
         {
          "X": 6.249566078186035,
          "Y": 0.5474932193756104,
          "label": "1"
         },
         {
          "X": 2.9396438598632812,
          "Y": -0.6294553279876709,
          "label": "1"
         },
         {
          "X": 3.1239914894104004,
          "Y": 0.15750248730182648,
          "label": "1"
         },
         {
          "X": 3.0664477348327637,
          "Y": -0.48775243759155273,
          "label": "1"
         },
         {
          "X": 3.3186235427856445,
          "Y": -0.5813727974891663,
          "label": "1"
         },
         {
          "X": 3.403193235397339,
          "Y": -0.5926214456558228,
          "label": "1"
         },
         {
          "X": 2.9318394660949707,
          "Y": -0.1890445053577423,
          "label": "1"
         },
         {
          "X": 3.5928916931152344,
          "Y": -0.5885434150695801,
          "label": "1"
         },
         {
          "X": 3.0653164386749268,
          "Y": -0.48373764753341675,
          "label": "1"
         },
         {
          "X": 3.0653157234191895,
          "Y": -0.48373711109161377,
          "label": "1"
         },
         {
          "X": 2.9301767349243164,
          "Y": -0.18734559416770935,
          "label": "1"
         },
         {
          "X": 0.6772728562355042,
          "Y": 3.5363056659698486,
          "label": "1"
         },
         {
          "X": 2.9318392276763916,
          "Y": -0.18905417621135712,
          "label": "1"
         },
         {
          "X": 2.931837320327759,
          "Y": -0.18892686069011688,
          "label": "1"
         },
         {
          "X": 3.1239893436431885,
          "Y": 0.15750141441822052,
          "label": "1"
         },
         {
          "X": 2.9542455673217773,
          "Y": -0.05695934593677521,
          "label": "1"
         },
         {
          "X": 3.065312147140503,
          "Y": -0.4837343990802765,
          "label": "1"
         },
         {
          "X": 3.1239938735961914,
          "Y": 0.15750449895858765,
          "label": "1"
         },
         {
          "X": 2.933856725692749,
          "Y": -0.19447748363018036,
          "label": "1"
         },
         {
          "X": 2.93183970451355,
          "Y": -0.189057394862175,
          "label": "1"
         },
         {
          "X": 3.1035373210906982,
          "Y": 0.15714572370052338,
          "label": "1"
         },
         {
          "X": 3.1035335063934326,
          "Y": 0.15714292228221893,
          "label": "1"
         },
         {
          "X": 3.0653140544891357,
          "Y": -0.4837356507778168,
          "label": "1"
         },
         {
          "X": 3.754267454147339,
          "Y": -0.22768902778625488,
          "label": "1"
         },
         {
          "X": 3.75999116897583,
          "Y": -0.23425200581550598,
          "label": "5"
         },
         {
          "X": 3.7567803859710693,
          "Y": -0.11942735314369202,
          "label": "5"
         },
         {
          "X": 5.225855827331543,
          "Y": 2.6931421756744385,
          "label": "5"
         },
         {
          "X": -0.4872998297214508,
          "Y": 1.5426348447799683,
          "label": "5"
         },
         {
          "X": 0.4725700318813324,
          "Y": 2.5666496753692627,
          "label": "5"
         },
         {
          "X": 3.3572957515716553,
          "Y": -0.5873948931694031,
          "label": "5"
         },
         {
          "X": 3.3572936058044434,
          "Y": -0.5873952507972717,
          "label": "5"
         },
         {
          "X": 3.7236883640289307,
          "Y": -0.37206459045410156,
          "label": "2"
         },
         {
          "X": 3.76466965675354,
          "Y": -0.11721678823232651,
          "label": "2"
         },
         {
          "X": 3.777315616607666,
          "Y": -0.2630312740802765,
          "label": "2"
         },
         {
          "X": 3.7773149013519287,
          "Y": -0.2630309760570526,
          "label": "2"
         },
         {
          "X": -0.3255125880241394,
          "Y": 1.6967525482177734,
          "label": "2"
         },
         {
          "X": 3.733405351638794,
          "Y": -0.44106364250183105,
          "label": "2"
         },
         {
          "X": 3.847853183746338,
          "Y": 4.4789509773254395,
          "label": "2"
         },
         {
          "X": 3.593295097351074,
          "Y": -0.5853630304336548,
          "label": "2"
         },
         {
          "X": 0.4253074824810028,
          "Y": 2.625694751739502,
          "label": "2"
         },
         {
          "X": 5.054956912994385,
          "Y": -0.4257113039493561,
          "label": "2"
         },
         {
          "X": 2.9463117122650146,
          "Y": 1.9927891492843628,
          "label": "2"
         },
         {
          "X": 3.6251766681671143,
          "Y": 0.2549615502357483,
          "label": "2"
         },
         {
          "X": -0.7963691353797913,
          "Y": -0.6015815734863281,
          "label": "2"
         },
         {
          "X": 4.239223957061768,
          "Y": -1.9242280721664429,
          "label": "2"
         },
         {
          "X": 4.15637731552124,
          "Y": 1.3266538381576538,
          "label": "2"
         },
         {
          "X": 3.7119979858398438,
          "Y": 4.442629337310791,
          "label": "2"
         },
         {
          "X": 3.460005044937134,
          "Y": 1.5163078308105469,
          "label": "2"
         },
         {
          "X": 1.6845366954803467,
          "Y": 0.3411634564399719,
          "label": "2"
         },
         {
          "X": 5.177463531494141,
          "Y": 1.1255364418029785,
          "label": "2"
         },
         {
          "X": 5.080967903137207,
          "Y": -0.14176900684833527,
          "label": "2"
         },
         {
          "X": 1.6057687997817993,
          "Y": -0.016460223123431206,
          "label": "2"
         },
         {
          "X": 1.776755452156067,
          "Y": -1.0650399923324585,
          "label": "2"
         },
         {
          "X": 3.1996350288391113,
          "Y": -1.8617557287216187,
          "label": "2"
         },
         {
          "X": 0.7028267979621887,
          "Y": 3.4974706172943115,
          "label": "2"
         },
         {
          "X": 3.5008177757263184,
          "Y": -2.066408395767212,
          "label": "2"
         },
         {
          "X": 2.8421719074249268,
          "Y": -1.8819454908370972,
          "label": "2"
         },
         {
          "X": 2.220069408416748,
          "Y": -1.5133163928985596,
          "label": "3"
         },
         {
          "X": 5.150745868682861,
          "Y": 0.1591777801513672,
          "label": "3"
         },
         {
          "X": 1.696581482887268,
          "Y": -0.7125937938690186,
          "label": "3"
         },
         {
          "X": 3.694344997406006,
          "Y": 4.425279140472412,
          "label": "3"
         },
         {
          "X": 2.294341564178467,
          "Y": 4.380861759185791,
          "label": "3"
         },
         {
          "X": 4.031697750091553,
          "Y": 1.4614810943603516,
          "label": "3"
         },
         {
          "X": -0.8014420866966248,
          "Y": -0.4248106777667999,
          "label": "3"
         },
         {
          "X": 0.6265851259231567,
          "Y": 3.2888541221618652,
          "label": "3"
         },
         {
          "X": -1.1584534645080566,
          "Y": 1.4784477949142456,
          "label": "3"
         },
         {
          "X": 4.579867839813232,
          "Y": 0.973084568977356,
          "label": "3"
         },
         {
          "X": 5.401123046875,
          "Y": -0.7312997579574585,
          "label": "3"
         },
         {
          "X": 4.292413711547852,
          "Y": -1.5538474321365356,
          "label": "3"
         },
         {
          "X": 3.8082566261291504,
          "Y": -1.807989478111267,
          "label": "3"
         },
         {
          "X": 1.6344919204711914,
          "Y": -0.3777344524860382,
          "label": "3"
         },
         {
          "X": 5.0002570152282715,
          "Y": 2.4784696102142334,
          "label": "3"
         },
         {
          "X": 5.110470294952393,
          "Y": 2.6547911167144775,
          "label": "3"
         },
         {
          "X": 6.381667613983154,
          "Y": 0.5784780383110046,
          "label": "4"
         },
         {
          "X": 3.8546974658966064,
          "Y": 4.094460487365723,
          "label": "4"
         },
         {
          "X": 2.4937386512756348,
          "Y": -1.936253309249878,
          "label": "4"
         },
         {
          "X": -1.1508979797363281,
          "Y": 1.4861332178115845,
          "label": "4"
         },
         {
          "X": -0.0999610498547554,
          "Y": 2.0177853107452393,
          "label": "4"
         },
         {
          "X": 4.812673091888428,
          "Y": 0.721531331539154,
          "label": "4"
         },
         {
          "X": 2.530475616455078,
          "Y": 5.841080665588379,
          "label": "4"
         },
         {
          "X": 2.5340075492858887,
          "Y": 5.847451686859131,
          "label": "4"
         },
         {
          "X": 0.15464237332344055,
          "Y": 2.247612237930298,
          "label": "4"
         },
         {
          "X": 3.4403293132781982,
          "Y": 1.5163053274154663,
          "label": "4"
         },
         {
          "X": 1.7910763025283813,
          "Y": 0.5901762247085571,
          "label": "4"
         },
         {
          "X": 1.9632092714309692,
          "Y": 4.244974613189697,
          "label": "4"
         },
         {
          "X": 0.7576032876968384,
          "Y": 3.6266770362854004,
          "label": "4"
         },
         {
          "X": 1.9854646921157837,
          "Y": 0.892618715763092,
          "label": "4"
         },
         {
          "X": 2.142923593521118,
          "Y": 1.0838202238082886,
          "label": "4"
         },
         {
          "X": 2.8621585369110107,
          "Y": 1.4496290683746338,
          "label": "4"
         },
         {
          "X": 3.7652108669281006,
          "Y": 2.0108189582824707,
          "label": "4"
         },
         {
          "X": 0.22863519191741943,
          "Y": -0.8759304881095886,
          "label": "4"
         },
         {
          "X": -1.6876574754714966,
          "Y": -0.6255435347557068,
          "label": "4"
         },
         {
          "X": 0.6845722198486328,
          "Y": 3.522273302078247,
          "label": "4"
         }
        ]
       },
       "encoding": {
        "color": {
         "field": "label",
         "type": "nominal"
        },
        "x": {
         "field": "X",
         "type": "quantitative"
        },
        "y": {
         "field": "Y",
         "type": "quantitative"
        }
       },
       "mark": {
        "size": 60,
        "type": "circle"
       },
       "selection": {
        "selector025": {
         "bind": "scales",
         "encodings": [
          "x",
          "y"
         ],
         "mark": {
          "fill": "#333",
          "fillOpacity": 0.125,
          "stroke": "white"
         },
         "on": "[mousedown, window:mouseup] > window:mousemove!",
         "resolve": "global",
         "translate": "[mousedown, window:mouseup] > window:mousemove!",
         "type": "interval",
         "zoom": "wheel!"
        }
       }
      },
      "image/png": "[encoded data removed]",
      "text/plain": [
       "<VegaLite 2 object>\n",
       "\n",
       "If you see this message, it means the renderer has not been properly enabled\n",
       "for the frontend that you are using. For more information, see\n",
       "https://altair-viz.github.io/user_guide/troubleshooting.html\n"
      ]
     },
     "metadata": {},
     "output_type": "display_data"
    },
    {
     "name": "stdout",
     "output_type": "stream",
     "text": [
      "Perplexity 30\n"
     ]
    },
    {
     "data": {
      "application/vnd.vegalite.v2+json": {
       "$schema": "https://vega.github.io/schema/vega-lite/v2.6.0.json",
       "config": {
        "view": {
         "height": 300,
         "width": 400
        }
       },
       "data": {
        "name": "data-79b716bf8bc05519734444474b66a036"
       },
       "datasets": {
        "data-79b716bf8bc05519734444474b66a036": [
         {
          "X": 0.5116345286369324,
          "Y": 2.1896169185638428,
          "label": "1"
         },
         {
          "X": -0.028880057856440544,
          "Y": 2.299682140350342,
          "label": "1"
         },
         {
          "X": 0.6639230847358704,
          "Y": 2.4323551654815674,
          "label": "1"
         },
         {
          "X": 3.545506715774536,
          "Y": -0.5237942337989807,
          "label": "1"
         },
         {
          "X": 0.2272758185863495,
          "Y": 2.843264102935791,
          "label": "1"
         },
         {
          "X": 0.0545613132417202,
          "Y": 2.7520828247070312,
          "label": "1"
         },
         {
          "X": 0.6640743017196655,
          "Y": 2.6220078468322754,
          "label": "1"
         },
         {
          "X": 0.3983277976512909,
          "Y": 2.8361501693725586,
          "label": "1"
         },
         {
          "X": -0.06329025328159332,
          "Y": 2.5481271743774414,
          "label": "1"
         },
         {
          "X": 1.733751654624939,
          "Y": -2.5566420555114746,
          "label": "1"
         },
         {
          "X": 0.24943193793296814,
          "Y": 2.8365750312805176,
          "label": "1"
         },
         {
          "X": -0.02891957387328148,
          "Y": 2.2997617721557617,
          "label": "1"
         },
         {
          "X": 2.7222342491149902,
          "Y": -1.767008900642395,
          "label": "1"
         },
         {
          "X": 0.24759656190872192,
          "Y": 2.1180906295776367,
          "label": "1"
         },
         {
          "X": 0.5574505925178528,
          "Y": 2.745915412902832,
          "label": "1"
         },
         {
          "X": 0.024085521697998047,
          "Y": 2.7150230407714844,
          "label": "1"
         },
         {
          "X": -0.01499724481254816,
          "Y": 2.2757885456085205,
          "label": "1"
         },
         {
          "X": 0.5154795050621033,
          "Y": 2.772844076156616,
          "label": "1"
         },
         {
          "X": 0.6033094525337219,
          "Y": 2.2996740341186523,
          "label": "1"
         },
         {
          "X": 2.1836369037628174,
          "Y": -0.32075631618499756,
          "label": "1"
         },
         {
          "X": 0.64902263879776,
          "Y": 2.477848529815674,
          "label": "1"
         },
         {
          "X": 0.5115873217582703,
          "Y": 2.189584970474243,
          "label": "1"
         },
         {
          "X": 0.26513218879699707,
          "Y": 2.119198799133301,
          "label": "1"
         },
         {
          "X": 0.27743229269981384,
          "Y": 2.1182861328125,
          "label": "1"
         },
         {
          "X": -1.8599573373794556,
          "Y": 5.115070343017578,
          "label": "1"
         },
         {
          "X": 2.9255359172821045,
          "Y": -1.2437106370925903,
          "label": "1"
         },
         {
          "X": -0.06928082555532455,
          "Y": 2.551976442337036,
          "label": "1"
         },
         {
          "X": 2.6436386108398438,
          "Y": -0.7292439341545105,
          "label": "1"
         },
         {
          "X": -0.4373302757740021,
          "Y": -5.13794469833374,
          "label": "1"
         },
         {
          "X": 2.329918384552002,
          "Y": -2.9477415084838867,
          "label": "1"
         },
         {
          "X": -3.323312997817993,
          "Y": -3.536719799041748,
          "label": "1"
         },
         {
          "X": -3.53469181060791,
          "Y": -1.1418514251708984,
          "label": "1"
         },
         {
          "X": -0.51988685131073,
          "Y": -5.1585917472839355,
          "label": "1"
         },
         {
          "X": -0.49651867151260376,
          "Y": -5.168665885925293,
          "label": "1"
         },
         {
          "X": -0.2585381269454956,
          "Y": -5.158523082733154,
          "label": "1"
         },
         {
          "X": 0.03600972890853882,
          "Y": -5.366308689117432,
          "label": "1"
         },
         {
          "X": 0.09395639598369598,
          "Y": -5.780200481414795,
          "label": "1"
         },
         {
          "X": 0.0360926054418087,
          "Y": -5.3661909103393555,
          "label": "1"
         },
         {
          "X": 0.07917283475399017,
          "Y": -5.783537864685059,
          "label": "1"
         },
         {
          "X": -0.7621486186981201,
          "Y": -5.925692558288574,
          "label": "1"
         },
         {
          "X": -0.6373529434204102,
          "Y": -5.983819484710693,
          "label": "1"
         },
         {
          "X": -0.46399354934692383,
          "Y": -6.012572288513184,
          "label": "1"
         },
         {
          "X": -3.3482158184051514,
          "Y": -3.5591323375701904,
          "label": "1"
         },
         {
          "X": -0.309267520904541,
          "Y": -6.089169025421143,
          "label": "1"
         },
         {
          "X": -0.36459046602249146,
          "Y": -6.096887588500977,
          "label": "1"
         },
         {
          "X": -0.10995879769325256,
          "Y": -6.019150257110596,
          "label": "1"
         },
         {
          "X": 0.09046023339033127,
          "Y": -5.781115531921387,
          "label": "1"
         },
         {
          "X": -0.7691096067428589,
          "Y": -5.387261867523193,
          "label": "1"
         },
         {
          "X": 0.08530387282371521,
          "Y": -5.48272705078125,
          "label": "1"
         },
         {
          "X": -0.18619008362293243,
          "Y": -5.234104633331299,
          "label": "1"
         },
         {
          "X": -0.773487389087677,
          "Y": -5.407946586608887,
          "label": "1"
         },
         {
          "X": -0.7831224203109741,
          "Y": -5.4218034744262695,
          "label": "1"
         },
         {
          "X": -0.21087108552455902,
          "Y": -5.260825157165527,
          "label": "1"
         },
         {
          "X": -0.8431987166404724,
          "Y": -5.777709484100342,
          "label": "1"
         },
         {
          "X": -0.7826260924339294,
          "Y": -5.883630275726318,
          "label": "1"
         },
         {
          "X": -0.8350608944892883,
          "Y": -5.639316558837891,
          "label": "5"
         },
         {
          "X": -0.07504147291183472,
          "Y": -5.94601583480835,
          "label": "5"
         },
         {
          "X": -2.1993567943573,
          "Y": 0.7417383193969727,
          "label": "5"
         },
         {
          "X": -6.1626691818237305,
          "Y": -3.141972780227661,
          "label": "5"
         },
         {
          "X": -4.570634841918945,
          "Y": -4.548367500305176,
          "label": "5"
         },
         {
          "X": -6.145768642425537,
          "Y": 0.6677703261375427,
          "label": "5"
         },
         {
          "X": -6.137149810791016,
          "Y": 0.614528477191925,
          "label": "5"
         },
         {
          "X": -6.145893096923828,
          "Y": 0.665166974067688,
          "label": "2"
         },
         {
          "X": -5.777811527252197,
          "Y": 0.19089262187480927,
          "label": "2"
         },
         {
          "X": -5.244123458862305,
          "Y": 0.5278787016868591,
          "label": "2"
         },
         {
          "X": -6.039863586425781,
          "Y": 0.3377847969532013,
          "label": "2"
         },
         {
          "X": -5.890436172485352,
          "Y": -3.2987687587738037,
          "label": "2"
         },
         {
          "X": -5.423440456390381,
          "Y": 1.0241360664367676,
          "label": "2"
         },
         {
          "X": 3.1108484268188477,
          "Y": -0.6557702422142029,
          "label": "2"
         },
         {
          "X": -5.240520000457764,
          "Y": 0.5815866589546204,
          "label": "2"
         },
         {
          "X": -4.544406414031982,
          "Y": -4.190958499908447,
          "label": "2"
         },
         {
          "X": -6.0741286277771,
          "Y": 0.9589215517044067,
          "label": "2"
         },
         {
          "X": -5.351132392883301,
          "Y": 0.3277133107185364,
          "label": "2"
         },
         {
          "X": -5.868520736694336,
          "Y": 1.0896365642547607,
          "label": "2"
         },
         {
          "X": -3.491960048675537,
          "Y": 3.158426284790039,
          "label": "2"
         },
         {
          "X": -5.884216785430908,
          "Y": 1.061834454536438,
          "label": "2"
         },
         {
          "X": -5.658271312713623,
          "Y": 1.116992712020874,
          "label": "2"
         },
         {
          "X": 2.7726571559906006,
          "Y": -0.7488365173339844,
          "label": "2"
         },
         {
          "X": -5.768411159515381,
          "Y": 1.1109254360198975,
          "label": "2"
         },
         {
          "X": -5.264225959777832,
          "Y": 0.8056327700614929,
          "label": "2"
         },
         {
          "X": -5.554317474365234,
          "Y": 0.21131639182567596,
          "label": "2"
         },
         {
          "X": -6.1201863288879395,
          "Y": 0.836458146572113,
          "label": "2"
         },
         {
          "X": -5.621589660644531,
          "Y": 0.1939828246831894,
          "label": "2"
         },
         {
          "X": -5.260740756988525,
          "Y": 0.7760199904441833,
          "label": "2"
         },
         {
          "X": -5.550764083862305,
          "Y": 0.20679914951324463,
          "label": "2"
         },
         {
          "X": -3.407773494720459,
          "Y": -3.9159934520721436,
          "label": "2"
         },
         {
          "X": -5.9995317459106445,
          "Y": 0.30193907022476196,
          "label": "2"
         },
         {
          "X": -5.425583362579346,
          "Y": 1.0295454263687134,
          "label": "2"
         },
         {
          "X": -5.267355918884277,
          "Y": 0.48544517159461975,
          "label": "3"
         },
         {
          "X": -5.4367475509643555,
          "Y": 1.0223281383514404,
          "label": "3"
         },
         {
          "X": -5.974849224090576,
          "Y": 0.27240145206451416,
          "label": "3"
         },
         {
          "X": 2.889803886413574,
          "Y": -0.9114383459091187,
          "label": "3"
         },
         {
          "X": 2.0266613960266113,
          "Y": -2.5355613231658936,
          "label": "3"
         },
         {
          "X": -1.2346802949905396,
          "Y": -1.208884358406067,
          "label": "3"
         },
         {
          "X": -3.740983009338379,
          "Y": 3.343635320663452,
          "label": "3"
         },
         {
          "X": -3.783851385116577,
          "Y": -3.802173376083374,
          "label": "3"
         },
         {
          "X": -7.349145412445068,
          "Y": -2.7992637157440186,
          "label": "3"
         },
         {
          "X": -1.1057742834091187,
          "Y": -1.1592544317245483,
          "label": "3"
         },
         {
          "X": -1.234846591949463,
          "Y": -1.2090986967086792,
          "label": "3"
         },
         {
          "X": -1.234846591949463,
          "Y": -1.2090986967086792,
          "label": "3"
         },
         {
          "X": -1.2348467111587524,
          "Y": -1.2090983390808105,
          "label": "3"
         },
         {
          "X": -1.2348467111587524,
          "Y": -1.2090983390808105,
          "label": "3"
         },
         {
          "X": -1.7117120027542114,
          "Y": 0.003258254611864686,
          "label": "3"
         },
         {
          "X": -2.0218682289123535,
          "Y": 0.5304555296897888,
          "label": "3"
         },
         {
          "X": -3.550797462463379,
          "Y": -1.1470162868499756,
          "label": "4"
         },
         {
          "X": 2.238934278488159,
          "Y": -0.3624647259712219,
          "label": "4"
         },
         {
          "X": -1.1057014465332031,
          "Y": -1.1592786312103271,
          "label": "4"
         },
         {
          "X": -7.3459930419921875,
          "Y": -2.8022375106811523,
          "label": "4"
         },
         {
          "X": -5.516173362731934,
          "Y": -3.5875496864318848,
          "label": "4"
         },
         {
          "X": -1.1057649850845337,
          "Y": -1.1593135595321655,
          "label": "4"
         },
         {
          "X": -1.8851792812347412,
          "Y": 5.12384033203125,
          "label": "4"
         },
         {
          "X": -1.8820910453796387,
          "Y": 5.125494480133057,
          "label": "4"
         },
         {
          "X": -5.107880115509033,
          "Y": -3.8813271522521973,
          "label": "4"
         },
         {
          "X": -1.105773687362671,
          "Y": -1.159254789352417,
          "label": "4"
         },
         {
          "X": -1.2348467111587524,
          "Y": -1.2090983390808105,
          "label": "4"
         },
         {
          "X": 2.3260490894317627,
          "Y": -2.7212154865264893,
          "label": "4"
         },
         {
          "X": -3.24554705619812,
          "Y": -3.7999982833862305,
          "label": "4"
         },
         {
          "X": -1.1057740449905396,
          "Y": -1.159255027770996,
          "label": "4"
         },
         {
          "X": -1.2348467111587524,
          "Y": -1.2090983390808105,
          "label": "4"
         },
         {
          "X": -1.1057740449905396,
          "Y": -1.159254789352417,
          "label": "4"
         },
         {
          "X": -1.105773687362671,
          "Y": -1.1592549085617065,
          "label": "4"
         },
         {
          "X": -3.2174439430236816,
          "Y": 2.941378355026245,
          "label": "4"
         },
         {
          "X": -3.233126401901245,
          "Y": 2.940091371536255,
          "label": "4"
         },
         {
          "X": -3.418834686279297,
          "Y": -3.5797035694122314,
          "label": "4"
         }
        ]
       },
       "encoding": {
        "color": {
         "field": "label",
         "type": "nominal"
        },
        "x": {
         "field": "X",
         "type": "quantitative"
        },
        "y": {
         "field": "Y",
         "type": "quantitative"
        }
       },
       "mark": {
        "size": 60,
        "type": "circle"
       },
       "selection": {
        "selector026": {
         "bind": "scales",
         "encodings": [
          "x",
          "y"
         ],
         "mark": {
          "fill": "#333",
          "fillOpacity": 0.125,
          "stroke": "white"
         },
         "on": "[mousedown, window:mouseup] > window:mousemove!",
         "resolve": "global",
         "translate": "[mousedown, window:mouseup] > window:mousemove!",
         "type": "interval",
         "zoom": "wheel!"
        }
       }
      },
      "image/png": "[encoded data removed]",
      "text/plain": [
       "<VegaLite 2 object>\n",
       "\n",
       "If you see this message, it means the renderer has not been properly enabled\n",
       "for the frontend that you are using. For more information, see\n",
       "https://altair-viz.github.io/user_guide/troubleshooting.html\n"
      ]
     },
     "metadata": {},
     "output_type": "display_data"
    },
    {
     "name": "stdout",
     "output_type": "stream",
     "text": [
      "Perplexity 35\n"
     ]
    },
    {
     "data": {
      "application/vnd.vegalite.v2+json": {
       "$schema": "https://vega.github.io/schema/vega-lite/v2.6.0.json",
       "config": {
        "view": {
         "height": 300,
         "width": 400
        }
       },
       "data": {
        "name": "data-d2528b1a4df6a2baec7688ec1ea2a1f0"
       },
       "datasets": {
        "data-d2528b1a4df6a2baec7688ec1ea2a1f0": [
         {
          "X": 4.036657810211182,
          "Y": 4.044128894805908,
          "label": "1"
         },
         {
          "X": 3.931688070297241,
          "Y": 3.7158689498901367,
          "label": "1"
         },
         {
          "X": 4.219915390014648,
          "Y": 3.4539058208465576,
          "label": "1"
         },
         {
          "X": -2.6514968872070312,
          "Y": 3.267817497253418,
          "label": "1"
         },
         {
          "X": 4.49065637588501,
          "Y": 3.5217478275299072,
          "label": "1"
         },
         {
          "X": 4.4134602546691895,
          "Y": 4.098032474517822,
          "label": "1"
         },
         {
          "X": 4.0733208656311035,
          "Y": 3.5189239978790283,
          "label": "1"
         },
         {
          "X": 3.931668996810913,
          "Y": 3.7156612873077393,
          "label": "1"
         },
         {
          "X": 4.615963935852051,
          "Y": 3.8472647666931152,
          "label": "1"
         },
         {
          "X": -1.1102657318115234,
          "Y": 5.299579620361328,
          "label": "1"
         },
         {
          "X": 4.038197040557861,
          "Y": 4.022619247436523,
          "label": "1"
         },
         {
          "X": 4.441123008728027,
          "Y": 4.08938455581665,
          "label": "1"
         },
         {
          "X": -1.3739420175552368,
          "Y": 4.047086238861084,
          "label": "1"
         },
         {
          "X": 4.081851482391357,
          "Y": 4.072671890258789,
          "label": "1"
         },
         {
          "X": 3.9265756607055664,
          "Y": 3.683464288711548,
          "label": "1"
         },
         {
          "X": 4.3491997718811035,
          "Y": 4.12319278717041,
          "label": "1"
         },
         {
          "X": 4.530398368835449,
          "Y": 3.9821786880493164,
          "label": "1"
         },
         {
          "X": 4.373347759246826,
          "Y": 3.4623000621795654,
          "label": "1"
         },
         {
          "X": 4.385401725769043,
          "Y": 3.459336757659912,
          "label": "1"
         },
         {
          "X": -1.3772013187408447,
          "Y": 2.584421396255493,
          "label": "1"
         },
         {
          "X": 4.579137325286865,
          "Y": 3.640597105026245,
          "label": "1"
         },
         {
          "X": 4.040876388549805,
          "Y": 4.026590347290039,
          "label": "1"
         },
         {
          "X": 4.07351541519165,
          "Y": 3.533357858657837,
          "label": "1"
         },
         {
          "X": 4.62100076675415,
          "Y": 3.8089778423309326,
          "label": "1"
         },
         {
          "X": 1.4474152326583862,
          "Y": 5.8461713790893555,
          "label": "1"
         },
         {
          "X": -1.8307431936264038,
          "Y": 3.671039342880249,
          "label": "1"
         },
         {
          "X": 4.584589004516602,
          "Y": 3.6402084827423096,
          "label": "1"
         },
         {
          "X": -1.7083674669265747,
          "Y": 3.1040022373199463,
          "label": "1"
         },
         {
          "X": -1.53047513961792,
          "Y": -0.9510121941566467,
          "label": "1"
         },
         {
          "X": -0.31281977891921997,
          "Y": 4.592870235443115,
          "label": "1"
         },
         {
          "X": 1.051517367362976,
          "Y": 3.5164918899536133,
          "label": "1"
         },
         {
          "X": 1.2580387592315674,
          "Y": -1.4172327518463135,
          "label": "1"
         },
         {
          "X": -0.9320756793022156,
          "Y": -0.33483096957206726,
          "label": "1"
         },
         {
          "X": -0.8410773277282715,
          "Y": -0.651347815990448,
          "label": "1"
         },
         {
          "X": -1.5268793106079102,
          "Y": -0.2629517614841461,
          "label": "1"
         },
         {
          "X": -1.5070483684539795,
          "Y": -0.24814754724502563,
          "label": "1"
         },
         {
          "X": -1.49195396900177,
          "Y": -0.9778521656990051,
          "label": "1"
         },
         {
          "X": -1.522512674331665,
          "Y": -0.2617924213409424,
          "label": "1"
         },
         {
          "X": -1.6920058727264404,
          "Y": -0.592232346534729,
          "label": "1"
         },
         {
          "X": -1.6919972896575928,
          "Y": -0.5920166969299316,
          "label": "1"
         },
         {
          "X": -1.1341902017593384,
          "Y": -0.19709675014019012,
          "label": "1"
         },
         {
          "X": -1.0916860103607178,
          "Y": -1.017800211906433,
          "label": "1"
         },
         {
          "X": 1.0572394132614136,
          "Y": 3.48616623878479,
          "label": "1"
         },
         {
          "X": -1.519364356994629,
          "Y": -0.2474016696214676,
          "label": "1"
         },
         {
          "X": -1.6717106103897095,
          "Y": -0.7359824180603027,
          "label": "1"
         },
         {
          "X": -1.1311044692993164,
          "Y": -0.1897422820329666,
          "label": "1"
         },
         {
          "X": -1.688591480255127,
          "Y": -0.5920829176902771,
          "label": "1"
         },
         {
          "X": -1.3956754207611084,
          "Y": -1.0255186557769775,
          "label": "1"
         },
         {
          "X": -1.057852029800415,
          "Y": -0.9998353123664856,
          "label": "1"
         },
         {
          "X": -0.8426893353462219,
          "Y": -0.6250404119491577,
          "label": "1"
         },
         {
          "X": -1.061813473701477,
          "Y": -0.9897284507751465,
          "label": "1"
         },
         {
          "X": -1.0824521780014038,
          "Y": -0.21164661645889282,
          "label": "1"
         },
         {
          "X": -1.484341025352478,
          "Y": -0.9828476905822754,
          "label": "1"
         },
         {
          "X": -1.007187008857727,
          "Y": -0.2667182385921478,
          "label": "1"
         },
         {
          "X": -0.8368108868598938,
          "Y": -0.6628275513648987,
          "label": "1"
         },
         {
          "X": -1.0390771627426147,
          "Y": -0.9808440804481506,
          "label": "5"
         },
         {
          "X": -0.8428780436515808,
          "Y": -0.6352556943893433,
          "label": "5"
         },
         {
          "X": 4.0178542137146,
          "Y": 1.2463576793670654,
          "label": "5"
         },
         {
          "X": 2.90320086479187,
          "Y": -3.2518789768218994,
          "label": "5"
         },
         {
          "X": 2.7237131595611572,
          "Y": -1.2914587259292603,
          "label": "5"
         },
         {
          "X": 5.288325309753418,
          "Y": -0.47630536556243896,
          "label": "5"
         },
         {
          "X": 5.688928127288818,
          "Y": -1.1838375329971313,
          "label": "5"
         },
         {
          "X": 5.201548099517822,
          "Y": -0.5635043978691101,
          "label": "2"
         },
         {
          "X": 5.459293842315674,
          "Y": -0.32032355666160583,
          "label": "2"
         },
         {
          "X": 5.198193073272705,
          "Y": -0.9153130054473877,
          "label": "2"
         },
         {
          "X": 5.901510238647461,
          "Y": -0.4074140787124634,
          "label": "2"
         },
         {
          "X": 2.7866010665893555,
          "Y": -2.9892396926879883,
          "label": "2"
         },
         {
          "X": 5.658480167388916,
          "Y": -1.1703600883483887,
          "label": "2"
         },
         {
          "X": -2.1969594955444336,
          "Y": 3.2275168895721436,
          "label": "2"
         },
         {
          "X": 5.907850742340088,
          "Y": -1.0549062490463257,
          "label": "2"
         },
         {
          "X": 2.683330774307251,
          "Y": -1.457340955734253,
          "label": "2"
         },
         {
          "X": 5.766428470611572,
          "Y": -0.297823965549469,
          "label": "2"
         },
         {
          "X": 6.019782543182373,
          "Y": -0.5962941646575928,
          "label": "2"
         },
         {
          "X": 5.198134899139404,
          "Y": -0.8907185196876526,
          "label": "2"
         },
         {
          "X": 0.697049617767334,
          "Y": -3.9952774047851562,
          "label": "2"
         },
         {
          "X": 5.970712661743164,
          "Y": -0.9097928404808044,
          "label": "2"
         },
         {
          "X": 5.481012344360352,
          "Y": -1.1652233600616455,
          "label": "2"
         },
         {
          "X": -1.8231427669525146,
          "Y": 3.206247329711914,
          "label": "2"
         },
         {
          "X": 5.677865028381348,
          "Y": -0.29454201459884644,
          "label": "2"
         },
         {
          "X": 6.008016109466553,
          "Y": -0.5745035409927368,
          "label": "2"
         },
         {
          "X": 5.900941848754883,
          "Y": -1.0559736490249634,
          "label": "2"
         },
         {
          "X": 5.988332271575928,
          "Y": -0.8728450536727905,
          "label": "2"
         },
         {
          "X": 5.481127738952637,
          "Y": -1.1652642488479614,
          "label": "2"
         },
         {
          "X": 5.177784442901611,
          "Y": -0.6547393798828125,
          "label": "2"
         },
         {
          "X": 6.020379543304443,
          "Y": -0.5967453718185425,
          "label": "2"
         },
         {
          "X": 0.7303224205970764,
          "Y": 3.6674203872680664,
          "label": "2"
         },
         {
          "X": 5.686500072479248,
          "Y": -0.3019159734249115,
          "label": "2"
         },
         {
          "X": 5.337174892425537,
          "Y": -1.0977540016174316,
          "label": "2"
         },
         {
          "X": 5.282684803009033,
          "Y": -0.46515214443206787,
          "label": "3"
         },
         {
          "X": 5.19876766204834,
          "Y": -0.916534960269928,
          "label": "3"
         },
         {
          "X": 5.449540615081787,
          "Y": -0.346621036529541,
          "label": "3"
         },
         {
          "X": -1.9026408195495605,
          "Y": 3.3321568965911865,
          "label": "3"
         },
         {
          "X": -0.9956195950508118,
          "Y": 5.030232906341553,
          "label": "3"
         },
         {
          "X": 2.0537173748016357,
          "Y": 0.9617086052894592,
          "label": "3"
         },
         {
          "X": 1.0520391464233398,
          "Y": -4.003806114196777,
          "label": "3"
         },
         {
          "X": 1.024841070175171,
          "Y": 3.2441976070404053,
          "label": "3"
         },
         {
          "X": 3.859750270843506,
          "Y": -4.469430923461914,
          "label": "3"
         },
         {
          "X": 2.0502781867980957,
          "Y": 0.9590467214584351,
          "label": "3"
         },
         {
          "X": 2.0502774715423584,
          "Y": 0.9590469002723694,
          "label": "3"
         },
         {
          "X": 2.0556981563568115,
          "Y": 0.9626682996749878,
          "label": "3"
         },
         {
          "X": 2.0502777099609375,
          "Y": 0.9590467214584351,
          "label": "3"
         },
         {
          "X": 2.0556981563568115,
          "Y": 0.9626682996749878,
          "label": "3"
         },
         {
          "X": 3.3462536334991455,
          "Y": 1.1073319911956787,
          "label": "3"
         },
         {
          "X": 3.7815163135528564,
          "Y": 1.2020293474197388,
          "label": "3"
         },
         {
          "X": 1.2809966802597046,
          "Y": -1.5141725540161133,
          "label": "4"
         },
         {
          "X": -1.421189785003662,
          "Y": 2.614405393600464,
          "label": "4"
         },
         {
          "X": 2.0502564907073975,
          "Y": 0.95918869972229,
          "label": "4"
         },
         {
          "X": 3.7388041019439697,
          "Y": -4.101194381713867,
          "label": "4"
         },
         {
          "X": 2.7403676509857178,
          "Y": -2.540583372116089,
          "label": "4"
         },
         {
          "X": 2.050305128097534,
          "Y": 0.9589411616325378,
          "label": "4"
         },
         {
          "X": 1.50144624710083,
          "Y": 5.840322971343994,
          "label": "4"
         },
         {
          "X": 1.502292275428772,
          "Y": 5.840231895446777,
          "label": "4"
         },
         {
          "X": 2.7092909812927246,
          "Y": -2.0286779403686523,
          "label": "4"
         },
         {
          "X": 2.0502777099609375,
          "Y": 0.9590467214584351,
          "label": "4"
         },
         {
          "X": 2.0502777099609375,
          "Y": 0.9590467214584351,
          "label": "4"
         },
         {
          "X": -0.537302553653717,
          "Y": 4.604555130004883,
          "label": "4"
         },
         {
          "X": 0.7113333940505981,
          "Y": 3.7511231899261475,
          "label": "4"
         },
         {
          "X": 2.0502781867980957,
          "Y": 0.9590467214584351,
          "label": "4"
         },
         {
          "X": 2.0502777099609375,
          "Y": 0.9590467214584351,
          "label": "4"
         },
         {
          "X": 2.0502774715423584,
          "Y": 0.9590467214584351,
          "label": "4"
         },
         {
          "X": 2.0502774715423584,
          "Y": 0.9590470790863037,
          "label": "4"
         },
         {
          "X": 0.3514140844345093,
          "Y": -3.9479246139526367,
          "label": "4"
         },
         {
          "X": 0.3582117557525635,
          "Y": -3.947678565979004,
          "label": "4"
         },
         {
          "X": 1.0638576745986938,
          "Y": 3.4515459537506104,
          "label": "4"
         }
        ]
       },
       "encoding": {
        "color": {
         "field": "label",
         "type": "nominal"
        },
        "x": {
         "field": "X",
         "type": "quantitative"
        },
        "y": {
         "field": "Y",
         "type": "quantitative"
        }
       },
       "mark": {
        "size": 60,
        "type": "circle"
       },
       "selection": {
        "selector027": {
         "bind": "scales",
         "encodings": [
          "x",
          "y"
         ],
         "mark": {
          "fill": "#333",
          "fillOpacity": 0.125,
          "stroke": "white"
         },
         "on": "[mousedown, window:mouseup] > window:mousemove!",
         "resolve": "global",
         "translate": "[mousedown, window:mouseup] > window:mousemove!",
         "type": "interval",
         "zoom": "wheel!"
        }
       }
      },
      "image/png": "[encoded data removed]",
      "text/plain": [
       "<VegaLite 2 object>\n",
       "\n",
       "If you see this message, it means the renderer has not been properly enabled\n",
       "for the frontend that you are using. For more information, see\n",
       "https://altair-viz.github.io/user_guide/troubleshooting.html\n"
      ]
     },
     "metadata": {},
     "output_type": "display_data"
    },
    {
     "name": "stdout",
     "output_type": "stream",
     "text": [
      "Perplexity 40\n"
     ]
    },
    {
     "data": {
      "application/vnd.vegalite.v2+json": {
       "$schema": "https://vega.github.io/schema/vega-lite/v2.6.0.json",
       "config": {
        "view": {
         "height": 300,
         "width": 400
        }
       },
       "data": {
        "name": "data-a4b56a16cd0e4f8b382132b901280f42"
       },
       "datasets": {
        "data-a4b56a16cd0e4f8b382132b901280f42": [
         {
          "X": -4.450710296630859,
          "Y": -0.3658509850502014,
          "label": "1"
         },
         {
          "X": -4.807571887969971,
          "Y": -0.3188744783401489,
          "label": "1"
         },
         {
          "X": -4.8787336349487305,
          "Y": -0.372843474149704,
          "label": "1"
         },
         {
          "X": 0.8141290545463562,
          "Y": -3.9740896224975586,
          "label": "1"
         },
         {
          "X": -4.407033443450928,
          "Y": -0.7040524482727051,
          "label": "1"
         },
         {
          "X": -4.64561653137207,
          "Y": -0.8482206463813782,
          "label": "1"
         },
         {
          "X": -4.933563709259033,
          "Y": -0.5996778607368469,
          "label": "1"
         },
         {
          "X": -4.936379909515381,
          "Y": -0.6057403683662415,
          "label": "1"
         },
         {
          "X": -4.402136325836182,
          "Y": -0.6963924765586853,
          "label": "1"
         },
         {
          "X": 2.378523826599121,
          "Y": -2.2541298866271973,
          "label": "1"
         },
         {
          "X": -4.387224197387695,
          "Y": -0.6792808771133423,
          "label": "1"
         },
         {
          "X": -4.4575018882751465,
          "Y": -0.34583377838134766,
          "label": "1"
         },
         {
          "X": 1.3788539171218872,
          "Y": -2.608181953430176,
          "label": "1"
         },
         {
          "X": -4.5421624183654785,
          "Y": -0.8246065974235535,
          "label": "1"
         },
         {
          "X": -4.645575046539307,
          "Y": -0.8482198119163513,
          "label": "1"
         },
         {
          "X": -4.932275295257568,
          "Y": -0.6098527312278748,
          "label": "1"
         },
         {
          "X": -4.67690372467041,
          "Y": -0.2818188965320587,
          "label": "1"
         },
         {
          "X": -4.4621052742004395,
          "Y": -0.34168070554733276,
          "label": "1"
         },
         {
          "X": -4.800869464874268,
          "Y": -0.8001113533973694,
          "label": "1"
         },
         {
          "X": -0.011117391288280487,
          "Y": -3.03229022026062,
          "label": "1"
         },
         {
          "X": -4.407017707824707,
          "Y": -0.7040243744850159,
          "label": "1"
         },
         {
          "X": -4.878821849822998,
          "Y": -0.37294256687164307,
          "label": "1"
         },
         {
          "X": -4.450771808624268,
          "Y": -0.36578911542892456,
          "label": "1"
         },
         {
          "X": -4.782099723815918,
          "Y": -0.8121075630187988,
          "label": "1"
         },
         {
          "X": -7.017838954925537,
          "Y": -2.0217831134796143,
          "label": "1"
         },
         {
          "X": 1.0588502883911133,
          "Y": -3.111553192138672,
          "label": "1"
         },
         {
          "X": -4.690484046936035,
          "Y": -0.2782796621322632,
          "label": "1"
         },
         {
          "X": 0.525422990322113,
          "Y": -3.1536495685577393,
          "label": "1"
         },
         {
          "X": -1.7143192291259766,
          "Y": 1.8658441305160522,
          "label": "1"
         },
         {
          "X": 1.930327296257019,
          "Y": -1.403617262840271,
          "label": "1"
         },
         {
          "X": 1.6688603162765503,
          "Y": 0.23150213062763214,
          "label": "1"
         },
         {
          "X": -4.306369781494141,
          "Y": 1.7064768075942993,
          "label": "1"
         },
         {
          "X": -1.4808293581008911,
          "Y": 2.078706741333008,
          "label": "1"
         },
         {
          "X": -2.131181240081787,
          "Y": 2.4663314819335938,
          "label": "1"
         },
         {
          "X": -2.1945269107818604,
          "Y": 2.1784005165100098,
          "label": "1"
         },
         {
          "X": -2.168487548828125,
          "Y": 1.990970253944397,
          "label": "1"
         },
         {
          "X": -1.8331903219223022,
          "Y": 2.5830984115600586,
          "label": "1"
         },
         {
          "X": -1.534618854522705,
          "Y": 2.465878486633301,
          "label": "1"
         },
         {
          "X": -1.8659899234771729,
          "Y": 2.5856521129608154,
          "label": "1"
         },
         {
          "X": -1.516635775566101,
          "Y": 2.4615960121154785,
          "label": "1"
         },
         {
          "X": -2.1376686096191406,
          "Y": 1.9910104274749756,
          "label": "1"
         },
         {
          "X": -1.7814745903015137,
          "Y": 1.861159324645996,
          "label": "1"
         },
         {
          "X": 1.6367324590682983,
          "Y": 0.24361327290534973,
          "label": "1"
         },
         {
          "X": -2.136726140975952,
          "Y": 1.9912586212158203,
          "label": "1"
         },
         {
          "X": -2.0209171772003174,
          "Y": 2.5495476722717285,
          "label": "1"
         },
         {
          "X": -1.8748259544372559,
          "Y": 2.5870842933654785,
          "label": "1"
         },
         {
          "X": -1.4765876531600952,
          "Y": 2.095137596130371,
          "label": "1"
         },
         {
          "X": -1.4796291589736938,
          "Y": 2.085693359375,
          "label": "1"
         },
         {
          "X": -2.210341215133667,
          "Y": 2.3651297092437744,
          "label": "1"
         },
         {
          "X": -1.7546789646148682,
          "Y": 1.8619372844696045,
          "label": "1"
         },
         {
          "X": -1.5401753187179565,
          "Y": 2.485499143600464,
          "label": "1"
         },
         {
          "X": -2.2040817737579346,
          "Y": 2.3585453033447266,
          "label": "1"
         },
         {
          "X": -1.527571439743042,
          "Y": 2.4614531993865967,
          "label": "1"
         },
         {
          "X": -2.1536920070648193,
          "Y": 2.422006845474243,
          "label": "1"
         },
         {
          "X": -1.7686944007873535,
          "Y": 1.8544424772262573,
          "label": "1"
         },
         {
          "X": -1.480699062347412,
          "Y": 2.081637382507324,
          "label": "5"
         },
         {
          "X": -2.1089844703674316,
          "Y": 1.9707015752792358,
          "label": "5"
         },
         {
          "X": -2.788724660873413,
          "Y": 0.02030704729259014,
          "label": "5"
         },
         {
          "X": -5.749735355377197,
          "Y": -3.3684146404266357,
          "label": "5"
         },
         {
          "X": 0.4847395718097687,
          "Y": 0.8650701642036438,
          "label": "5"
         },
         {
          "X": -3.0968637466430664,
          "Y": -3.966456890106201,
          "label": "5"
         },
         {
          "X": -2.7652153968811035,
          "Y": -3.4117560386657715,
          "label": "5"
         },
         {
          "X": -2.4117588996887207,
          "Y": -3.6084749698638916,
          "label": "2"
         },
         {
          "X": -2.3667824268341064,
          "Y": -3.9174158573150635,
          "label": "2"
         },
         {
          "X": -3.1271674633026123,
          "Y": -3.90962553024292,
          "label": "2"
         },
         {
          "X": -3.104379892349243,
          "Y": -3.6044182777404785,
          "label": "2"
         },
         {
          "X": -5.6607208251953125,
          "Y": -3.335658311843872,
          "label": "2"
         },
         {
          "X": -2.6046931743621826,
          "Y": -4.155407428741455,
          "label": "2"
         },
         {
          "X": 0.7040340304374695,
          "Y": -3.55275821685791,
          "label": "2"
         },
         {
          "X": -3.0404672622680664,
          "Y": -3.5345098972320557,
          "label": "2"
         },
         {
          "X": 0.5048432350158691,
          "Y": 0.5923598408699036,
          "label": "2"
         },
         {
          "X": -2.357252359390259,
          "Y": -3.8833980560302734,
          "label": "2"
         },
         {
          "X": -2.985353946685791,
          "Y": -4.056643009185791,
          "label": "2"
         },
         {
          "X": -2.696329116821289,
          "Y": -4.169877529144287,
          "label": "2"
         },
         {
          "X": -6.874269962310791,
          "Y": 1.5487538576126099,
          "label": "2"
         },
         {
          "X": -3.0885958671569824,
          "Y": -3.9590089321136475,
          "label": "2"
         },
         {
          "X": -2.427797317504883,
          "Y": -3.5882418155670166,
          "label": "2"
         },
         {
          "X": 0.6012663841247559,
          "Y": -3.2483174800872803,
          "label": "2"
         },
         {
          "X": -2.931507110595703,
          "Y": -3.467193365097046,
          "label": "2"
         },
         {
          "X": -2.936084270477295,
          "Y": -4.120535850524902,
          "label": "2"
         },
         {
          "X": -2.721543073654175,
          "Y": -3.406712770462036,
          "label": "2"
         },
         {
          "X": -3.1243350505828857,
          "Y": -3.709796667098999,
          "label": "2"
         },
         {
          "X": -2.426373243331909,
          "Y": -3.5895369052886963,
          "label": "2"
         },
         {
          "X": -2.3611807823181152,
          "Y": -3.939516544342041,
          "label": "2"
         },
         {
          "X": -3.015108108520508,
          "Y": -3.52543306350708,
          "label": "2"
         },
         {
          "X": 1.5962536334991455,
          "Y": -0.02654220163822174,
          "label": "2"
         },
         {
          "X": -2.6670799255371094,
          "Y": -3.403493881225586,
          "label": "2"
         },
         {
          "X": -2.5116994380950928,
          "Y": -3.51218581199646,
          "label": "2"
         },
         {
          "X": -2.385037899017334,
          "Y": -3.9814536571502686,
          "label": "3"
         },
         {
          "X": -2.7328908443450928,
          "Y": -4.167167663574219,
          "label": "3"
         },
         {
          "X": -2.689678192138672,
          "Y": -4.166463375091553,
          "label": "3"
         },
         {
          "X": 0.7707637548446655,
          "Y": -3.250844717025757,
          "label": "3"
         },
         {
          "X": 2.1761202812194824,
          "Y": -2.11181902885437,
          "label": "3"
         },
         {
          "X": -1.399510145187378,
          "Y": -1.009114146232605,
          "label": "3"
         },
         {
          "X": -7.0576605796813965,
          "Y": 1.3231346607208252,
          "label": "3"
         },
         {
          "X": 1.2133145332336426,
          "Y": 0.2982791066169739,
          "label": "3"
         },
         {
          "X": -5.1867876052856445,
          "Y": 3.5278029441833496,
          "label": "3"
         },
         {
          "X": -1.3996243476867676,
          "Y": -1.0093070268630981,
          "label": "3"
         },
         {
          "X": -1.3996238708496094,
          "Y": -1.009307861328125,
          "label": "3"
         },
         {
          "X": -1.3994548320770264,
          "Y": -1.009084939956665,
          "label": "3"
         },
         {
          "X": -1.3996233940124512,
          "Y": -1.0093077421188354,
          "label": "3"
         },
         {
          "X": -1.3996236324310303,
          "Y": -1.009307861328125,
          "label": "3"
         },
         {
          "X": -2.707685708999634,
          "Y": -0.6562477350234985,
          "label": "3"
         },
         {
          "X": -2.7385191917419434,
          "Y": -0.25672265887260437,
          "label": "3"
         },
         {
          "X": -4.391930103302002,
          "Y": 1.7758240699768066,
          "label": "4"
         },
         {
          "X": 0.021627306938171387,
          "Y": -3.0623385906219482,
          "label": "4"
         },
         {
          "X": -1.3996187448501587,
          "Y": -1.0093129873275757,
          "label": "4"
         },
         {
          "X": -5.191197872161865,
          "Y": 3.527336835861206,
          "label": "4"
         },
         {
          "X": -5.510462284088135,
          "Y": -3.276902437210083,
          "label": "4"
         },
         {
          "X": -1.3994473218917847,
          "Y": -1.0090831518173218,
          "label": "4"
         },
         {
          "X": -7.029548645019531,
          "Y": -2.006638526916504,
          "label": "4"
         },
         {
          "X": -7.033544063568115,
          "Y": -2.013237953186035,
          "label": "4"
         },
         {
          "X": 0.1381666660308838,
          "Y": 0.45666924118995667,
          "label": "4"
         },
         {
          "X": -1.3996233940124512,
          "Y": -1.0093077421188354,
          "label": "4"
         },
         {
          "X": -1.399455189704895,
          "Y": -1.0090851783752441,
          "label": "4"
         },
         {
          "X": 1.9212924242019653,
          "Y": -1.627048134803772,
          "label": "4"
         },
         {
          "X": 1.7379951477050781,
          "Y": -0.1306946724653244,
          "label": "4"
         },
         {
          "X": -1.3996235132217407,
          "Y": -1.009307861328125,
          "label": "4"
         },
         {
          "X": -1.3996238708496094,
          "Y": -1.0093082189559937,
          "label": "4"
         },
         {
          "X": -1.3996238708496094,
          "Y": -1.009308099746704,
          "label": "4"
         },
         {
          "X": -1.3996232748031616,
          "Y": -1.009307861328125,
          "label": "4"
         },
         {
          "X": -6.678497791290283,
          "Y": 1.741579532623291,
          "label": "4"
         },
         {
          "X": -6.676150798797607,
          "Y": 1.7413250207901,
          "label": "4"
         },
         {
          "X": 1.589398980140686,
          "Y": 0.2546968460083008,
          "label": "4"
         }
        ]
       },
       "encoding": {
        "color": {
         "field": "label",
         "type": "nominal"
        },
        "x": {
         "field": "X",
         "type": "quantitative"
        },
        "y": {
         "field": "Y",
         "type": "quantitative"
        }
       },
       "mark": {
        "size": 60,
        "type": "circle"
       },
       "selection": {
        "selector028": {
         "bind": "scales",
         "encodings": [
          "x",
          "y"
         ],
         "mark": {
          "fill": "#333",
          "fillOpacity": 0.125,
          "stroke": "white"
         },
         "on": "[mousedown, window:mouseup] > window:mousemove!",
         "resolve": "global",
         "translate": "[mousedown, window:mouseup] > window:mousemove!",
         "type": "interval",
         "zoom": "wheel!"
        }
       }
      },
      "image/png": "[encoded data removed]",
      "text/plain": [
       "<VegaLite 2 object>\n",
       "\n",
       "If you see this message, it means the renderer has not been properly enabled\n",
       "for the frontend that you are using. For more information, see\n",
       "https://altair-viz.github.io/user_guide/troubleshooting.html\n"
      ]
     },
     "metadata": {},
     "output_type": "display_data"
    },
    {
     "name": "stdout",
     "output_type": "stream",
     "text": [
      "Perplexity 45\n"
     ]
    },
    {
     "data": {
      "application/vnd.vegalite.v2+json": {
       "$schema": "https://vega.github.io/schema/vega-lite/v2.6.0.json",
       "config": {
        "view": {
         "height": 300,
         "width": 400
        }
       },
       "data": {
        "name": "data-930a59c4c9281f13b14e5d5006e4f273"
       },
       "datasets": {
        "data-930a59c4c9281f13b14e5d5006e4f273": [
         {
          "X": -0.2318635880947113,
          "Y": -2.819319009780884,
          "label": "1"
         },
         {
          "X": -0.39501532912254333,
          "Y": -3.2480788230895996,
          "label": "1"
         },
         {
          "X": -0.6434689164161682,
          "Y": -3.0570106506347656,
          "label": "1"
         },
         {
          "X": 2.4135947227478027,
          "Y": 2.556443452835083,
          "label": "1"
         },
         {
          "X": -0.23896408081054688,
          "Y": -2.8150856494903564,
          "label": "1"
         },
         {
          "X": -0.1677127331495285,
          "Y": -3.059990167617798,
          "label": "1"
         },
         {
          "X": -0.2317882478237152,
          "Y": -2.8225908279418945,
          "label": "1"
         },
         {
          "X": -0.15889477729797363,
          "Y": -3.0725343227386475,
          "label": "1"
         },
         {
          "X": -0.6350288391113281,
          "Y": -3.0746376514434814,
          "label": "1"
         },
         {
          "X": -4.203522682189941,
          "Y": 2.119830846786499,
          "label": "1"
         },
         {
          "X": -0.5827398896217346,
          "Y": -2.8631837368011475,
          "label": "1"
         },
         {
          "X": -0.44429418444633484,
          "Y": -3.2458596229553223,
          "label": "1"
         },
         {
          "X": -3.7010338306427,
          "Y": 1.501574993133545,
          "label": "1"
         },
         {
          "X": -0.5943905711174011,
          "Y": -2.8740954399108887,
          "label": "1"
         },
         {
          "X": -0.6437205672264099,
          "Y": -2.980337381362915,
          "label": "1"
         },
         {
          "X": -0.28537413477897644,
          "Y": -3.2226858139038086,
          "label": "1"
         },
         {
          "X": -0.22633861005306244,
          "Y": -2.8242781162261963,
          "label": "1"
         },
         {
          "X": -0.6058316230773926,
          "Y": -2.8852570056915283,
          "label": "1"
         },
         {
          "X": -0.22258730232715607,
          "Y": -3.1665751934051514,
          "label": "1"
         },
         {
          "X": 1.5479761362075806,
          "Y": 1.785339593887329,
          "label": "1"
         },
         {
          "X": -0.5085157752037048,
          "Y": -3.2305872440338135,
          "label": "1"
         },
         {
          "X": -0.5772449970245361,
          "Y": -2.860013484954834,
          "label": "1"
         },
         {
          "X": -0.14369644224643707,
          "Y": -2.9323127269744873,
          "label": "1"
         },
         {
          "X": -0.1708223521709442,
          "Y": -3.093442440032959,
          "label": "1"
         },
         {
          "X": 0.9046383500099182,
          "Y": 3.828439950942993,
          "label": "1"
         },
         {
          "X": 1.8345615863800049,
          "Y": 2.5492281913757324,
          "label": "1"
         },
         {
          "X": -0.5938115119934082,
          "Y": -2.8691999912261963,
          "label": "1"
         },
         {
          "X": 1.7249740362167358,
          "Y": 2.1930272579193115,
          "label": "1"
         },
         {
          "X": -0.8066579103469849,
          "Y": 1.7753074169158936,
          "label": "1"
         },
         {
          "X": -4.299675941467285,
          "Y": 1.0425691604614258,
          "label": "1"
         },
         {
          "X": -4.1540021896362305,
          "Y": -0.4524613320827484,
          "label": "1"
         },
         {
          "X": -2.3348519802093506,
          "Y": 0.17702051997184753,
          "label": "1"
         },
         {
          "X": -1.1453132629394531,
          "Y": 2.2564899921417236,
          "label": "1"
         },
         {
          "X": -1.2410690784454346,
          "Y": 1.643334984779358,
          "label": "1"
         },
         {
          "X": -0.853238046169281,
          "Y": 2.1733431816101074,
          "label": "1"
         },
         {
          "X": -0.7647520899772644,
          "Y": 2.0045363903045654,
          "label": "1"
         },
         {
          "X": -1.3400074243545532,
          "Y": 1.7088236808776855,
          "label": "1"
         },
         {
          "X": -1.1412893533706665,
          "Y": 2.2581918239593506,
          "label": "1"
         },
         {
          "X": -1.14299738407135,
          "Y": 2.257976531982422,
          "label": "1"
         },
         {
          "X": -1.339788794517517,
          "Y": 1.711953043937683,
          "label": "1"
         },
         {
          "X": -0.9366330504417419,
          "Y": 1.6545411348342896,
          "label": "1"
         },
         {
          "X": -0.9381104707717896,
          "Y": 1.6537808179855347,
          "label": "1"
         },
         {
          "X": -4.128230571746826,
          "Y": -0.47756388783454895,
          "label": "1"
         },
         {
          "X": -1.3450109958648682,
          "Y": 1.7208621501922607,
          "label": "1"
         },
         {
          "X": -0.8751522898674011,
          "Y": 2.198887825012207,
          "label": "1"
         },
         {
          "X": -0.7826834917068481,
          "Y": 1.817602276802063,
          "label": "1"
         },
         {
          "X": -0.7998371720314026,
          "Y": 1.78130304813385,
          "label": "1"
         },
         {
          "X": -1.3944517374038696,
          "Y": 2.083014488220215,
          "label": "1"
         },
         {
          "X": -0.8897404670715332,
          "Y": 1.684441328048706,
          "label": "1"
         },
         {
          "X": -1.3995857238769531,
          "Y": 1.8339813947677612,
          "label": "1"
         },
         {
          "X": -1.1803793907165527,
          "Y": 1.625284194946289,
          "label": "1"
         },
         {
          "X": -0.7953044772148132,
          "Y": 2.0840201377868652,
          "label": "1"
         },
         {
          "X": -1.1415560245513916,
          "Y": 2.2581520080566406,
          "label": "1"
         },
         {
          "X": -1.4169259071350098,
          "Y": 2.0272557735443115,
          "label": "1"
         },
         {
          "X": -0.7585845589637756,
          "Y": 1.964747667312622,
          "label": "1"
         },
         {
          "X": -1.4127827882766724,
          "Y": 2.042010545730591,
          "label": "5"
         },
         {
          "X": -1.3931907415390015,
          "Y": 2.0767874717712402,
          "label": "5"
         },
         {
          "X": 0.5340531468391418,
          "Y": 0.5065371990203857,
          "label": "5"
         },
         {
          "X": -3.353268623352051,
          "Y": -3.0673065185546875,
          "label": "5"
         },
         {
          "X": -3.2034895420074463,
          "Y": -1.3824173212051392,
          "label": "5"
         },
         {
          "X": 1.948699712753296,
          "Y": -1.2206283807754517,
          "label": "5"
         },
         {
          "X": 1.6950324773788452,
          "Y": -0.6643357872962952,
          "label": "5"
         },
         {
          "X": 2.1798970699310303,
          "Y": -0.666399359703064,
          "label": "2"
         },
         {
          "X": 1.9111095666885376,
          "Y": -0.5399824380874634,
          "label": "2"
         },
         {
          "X": 2.218078136444092,
          "Y": -1.097709059715271,
          "label": "2"
         },
         {
          "X": 2.0795886516571045,
          "Y": -0.5954378843307495,
          "label": "2"
         },
         {
          "X": -3.3591816425323486,
          "Y": -2.796156406402588,
          "label": "2"
         },
         {
          "X": 1.7899034023284912,
          "Y": -1.1627353429794312,
          "label": "2"
         },
         {
          "X": 2.0553267002105713,
          "Y": 2.411595582962036,
          "label": "2"
         },
         {
          "X": 1.6362299919128418,
          "Y": -0.9826847910881042,
          "label": "2"
         },
         {
          "X": -3.3660712242126465,
          "Y": -1.4295700788497925,
          "label": "2"
         },
         {
          "X": 1.9489771127700806,
          "Y": -1.2185478210449219,
          "label": "2"
         },
         {
          "X": 2.2034335136413574,
          "Y": -0.6934773921966553,
          "label": "2"
         },
         {
          "X": 2.2308425903320312,
          "Y": -1.0833388566970825,
          "label": "2"
         },
         {
          "X": 4.18979549407959,
          "Y": 1.1312934160232544,
          "label": "2"
         },
         {
          "X": 1.6537436246871948,
          "Y": -0.7544902563095093,
          "label": "2"
         },
         {
          "X": 1.678123116493225,
          "Y": -0.6821250915527344,
          "label": "2"
         },
         {
          "X": 1.7858818769454956,
          "Y": 2.3541698455810547,
          "label": "2"
         },
         {
          "X": 1.9439958333969116,
          "Y": -1.230118751525879,
          "label": "2"
         },
         {
          "X": 1.9348357915878296,
          "Y": -0.5344326496124268,
          "label": "2"
         },
         {
          "X": 1.906753659248352,
          "Y": -0.5409569144248962,
          "label": "2"
         },
         {
          "X": 1.7993230819702148,
          "Y": -0.5805451273918152,
          "label": "2"
         },
         {
          "X": 1.653241515159607,
          "Y": -1.0546238422393799,
          "label": "2"
         },
         {
          "X": 2.209094762802124,
          "Y": -0.7029534578323364,
          "label": "2"
         },
         {
          "X": 2.269260883331299,
          "Y": -0.8549172878265381,
          "label": "2"
         },
         {
          "X": -4.146054744720459,
          "Y": -0.3362281918525696,
          "label": "2"
         },
         {
          "X": 1.636938214302063,
          "Y": -0.9838970899581909,
          "label": "2"
         },
         {
          "X": 1.9538556337356567,
          "Y": -1.2208834886550903,
          "label": "2"
         },
         {
          "X": 2.2626051902770996,
          "Y": -0.9713810086250305,
          "label": "3"
         },
         {
          "X": 2.213035821914673,
          "Y": -1.1089013814926147,
          "label": "3"
         },
         {
          "X": 1.6508338451385498,
          "Y": -1.012258529663086,
          "label": "3"
         },
         {
          "X": 1.8915705680847168,
          "Y": 2.305792808532715,
          "label": "3"
         },
         {
          "X": -4.185161113739014,
          "Y": 1.8439974784851074,
          "label": "3"
         },
         {
          "X": -0.9670066833496094,
          "Y": -0.6790173649787903,
          "label": "3"
         },
         {
          "X": 4.159852981567383,
          "Y": 1.1247798204421997,
          "label": "3"
         },
         {
          "X": -3.871842384338379,
          "Y": -0.7536691427230835,
          "label": "3"
         },
         {
          "X": -3.3389029502868652,
          "Y": -4.115361213684082,
          "label": "3"
         },
         {
          "X": -0.9676561951637268,
          "Y": -0.6802870631217957,
          "label": "3"
         },
         {
          "X": -0.9670528173446655,
          "Y": -0.6790229678153992,
          "label": "3"
         },
         {
          "X": -0.9660067558288574,
          "Y": -0.6793342232704163,
          "label": "3"
         },
         {
          "X": -0.9677082896232605,
          "Y": -0.6806468963623047,
          "label": "3"
         },
         {
          "X": -0.9676563739776611,
          "Y": -0.6802873015403748,
          "label": "3"
         },
         {
          "X": 0.0811738520860672,
          "Y": -0.473378986120224,
          "label": "3"
         },
         {
          "X": 0.4280088245868683,
          "Y": 0.30857953429222107,
          "label": "3"
         },
         {
          "X": -2.439976692199707,
          "Y": 0.15579695999622345,
          "label": "4"
         },
         {
          "X": 1.5822789669036865,
          "Y": 1.823150873184204,
          "label": "4"
         },
         {
          "X": -0.9663798213005066,
          "Y": -0.6798170208930969,
          "label": "4"
         },
         {
          "X": -3.348184823989868,
          "Y": -4.118349075317383,
          "label": "4"
         },
         {
          "X": -3.3655693531036377,
          "Y": -2.414614677429199,
          "label": "4"
         },
         {
          "X": -0.9664387106895447,
          "Y": -0.6802512407302856,
          "label": "4"
         },
         {
          "X": 0.8159468173980713,
          "Y": 3.9205164909362793,
          "label": "4"
         },
         {
          "X": 0.803808867931366,
          "Y": 3.927159547805786,
          "label": "4"
         },
         {
          "X": -3.31105899810791,
          "Y": -2.006788969039917,
          "label": "4"
         },
         {
          "X": -0.9677082300186157,
          "Y": -0.6806468367576599,
          "label": "4"
         },
         {
          "X": -0.9677082300186157,
          "Y": -0.6806468367576599,
          "label": "4"
         },
         {
          "X": -4.208714485168457,
          "Y": 1.2241133451461792,
          "label": "4"
         },
         {
          "X": -4.241848468780518,
          "Y": -0.19558963179588318,
          "label": "4"
         },
         {
          "X": -0.9670525789260864,
          "Y": -0.6790233254432678,
          "label": "4"
         },
         {
          "X": -0.9666125774383545,
          "Y": -0.6787053346633911,
          "label": "4"
         },
         {
          "X": -0.9673853516578674,
          "Y": -0.6799066662788391,
          "label": "4"
         },
         {
          "X": -0.9663898348808289,
          "Y": -0.6798141002655029,
          "label": "4"
         },
         {
          "X": 4.196919918060303,
          "Y": 1.2254879474639893,
          "label": "4"
         },
         {
          "X": 4.139482021331787,
          "Y": 1.019467830657959,
          "label": "4"
         },
         {
          "X": -4.103431224822998,
          "Y": -0.5095634460449219,
          "label": "4"
         }
        ]
       },
       "encoding": {
        "color": {
         "field": "label",
         "type": "nominal"
        },
        "x": {
         "field": "X",
         "type": "quantitative"
        },
        "y": {
         "field": "Y",
         "type": "quantitative"
        }
       },
       "mark": {
        "size": 60,
        "type": "circle"
       },
       "selection": {
        "selector029": {
         "bind": "scales",
         "encodings": [
          "x",
          "y"
         ],
         "mark": {
          "fill": "#333",
          "fillOpacity": 0.125,
          "stroke": "white"
         },
         "on": "[mousedown, window:mouseup] > window:mousemove!",
         "resolve": "global",
         "translate": "[mousedown, window:mouseup] > window:mousemove!",
         "type": "interval",
         "zoom": "wheel!"
        }
       }
      },
      "image/png": "[encoded data removed]",
      "text/plain": [
       "<VegaLite 2 object>\n",
       "\n",
       "If you see this message, it means the renderer has not been properly enabled\n",
       "for the frontend that you are using. For more information, see\n",
       "https://altair-viz.github.io/user_guide/troubleshooting.html\n"
      ]
     },
     "metadata": {},
     "output_type": "display_data"
    },
    {
     "name": "stdout",
     "output_type": "stream",
     "text": [
      "Perplexity 50\n"
     ]
    },
    {
     "data": {
      "application/vnd.vegalite.v2+json": {
       "$schema": "https://vega.github.io/schema/vega-lite/v2.6.0.json",
       "config": {
        "view": {
         "height": 300,
         "width": 400
        }
       },
       "data": {
        "name": "data-0429b63eab145094bd1b588b02edff93"
       },
       "datasets": {
        "data-0429b63eab145094bd1b588b02edff93": [
         {
          "X": -4.3982157707214355,
          "Y": -0.8468304872512817,
          "label": "1"
         },
         {
          "X": -4.173647880554199,
          "Y": -0.986592710018158,
          "label": "1"
         },
         {
          "X": -4.526788234710693,
          "Y": -0.9768780469894409,
          "label": "1"
         },
         {
          "X": -1.4593265056610107,
          "Y": -0.23458212614059448,
          "label": "1"
         },
         {
          "X": -4.405013084411621,
          "Y": -1.1765174865722656,
          "label": "1"
         },
         {
          "X": -4.173647403717041,
          "Y": -0.9866102933883667,
          "label": "1"
         },
         {
          "X": -4.173648357391357,
          "Y": -0.9866131544113159,
          "label": "1"
         },
         {
          "X": -4.405008792877197,
          "Y": -1.1765186786651611,
          "label": "1"
         },
         {
          "X": -4.173647403717041,
          "Y": -0.9866136908531189,
          "label": "1"
         },
         {
          "X": 0.03486446291208267,
          "Y": -1.9171626567840576,
          "label": "1"
         },
         {
          "X": -4.277814865112305,
          "Y": -0.8497009873390198,
          "label": "1"
         },
         {
          "X": -4.4474873542785645,
          "Y": -0.8691962957382202,
          "label": "1"
         },
         {
          "X": -0.808225691318512,
          "Y": -1.5197471380233765,
          "label": "1"
         },
         {
          "X": -4.173647403717041,
          "Y": -0.9866116046905518,
          "label": "1"
         },
         {
          "X": -4.405004978179932,
          "Y": -1.1765199899673462,
          "label": "1"
         },
         {
          "X": -4.4004364013671875,
          "Y": -1.1783555746078491,
          "label": "1"
         },
         {
          "X": -4.528379917144775,
          "Y": -0.9820950031280518,
          "label": "1"
         },
         {
          "X": -4.528378963470459,
          "Y": -0.9820908308029175,
          "label": "1"
         },
         {
          "X": -4.528373718261719,
          "Y": -0.9820687174797058,
          "label": "1"
         },
         {
          "X": -1.9990994930267334,
          "Y": -1.1294701099395752,
          "label": "1"
         },
         {
          "X": -4.4050517082214355,
          "Y": -1.1765081882476807,
          "label": "1"
         },
         {
          "X": -4.173647403717041,
          "Y": -0.9866123199462891,
          "label": "1"
         },
         {
          "X": -4.173648357391357,
          "Y": -0.9866129159927368,
          "label": "1"
         },
         {
          "X": -4.52689790725708,
          "Y": -0.9773178696632385,
          "label": "1"
         },
         {
          "X": -0.6269471645355225,
          "Y": -5.137134552001953,
          "label": "1"
         },
         {
          "X": -1.0836467742919922,
          "Y": -1.0366740226745605,
          "label": "1"
         },
         {
          "X": -4.407483100891113,
          "Y": -1.1767696142196655,
          "label": "1"
         },
         {
          "X": -1.5322365760803223,
          "Y": -1.030113935470581,
          "label": "1"
         },
         {
          "X": -3.5291309356689453,
          "Y": -5.080508232116699,
          "label": "1"
         },
         {
          "X": -0.4284466803073883,
          "Y": -2.64664888381958,
          "label": "1"
         },
         {
          "X": -1.1173797845840454,
          "Y": -3.859142541885376,
          "label": "1"
         },
         {
          "X": -4.477297782897949,
          "Y": -6.714745998382568,
          "label": "1"
         },
         {
          "X": -3.053232192993164,
          "Y": -4.856934070587158,
          "label": "1"
         },
         {
          "X": -3.010856866836548,
          "Y": -5.129643440246582,
          "label": "1"
         },
         {
          "X": -3.0519700050354004,
          "Y": -4.8568525314331055,
          "label": "1"
         },
         {
          "X": -3.459078788757324,
          "Y": -4.833409309387207,
          "label": "1"
         },
         {
          "X": -3.4552791118621826,
          "Y": -4.829566478729248,
          "label": "1"
         },
         {
          "X": -3.464510440826416,
          "Y": -4.8445963859558105,
          "label": "1"
         },
         {
          "X": -3.382488965988159,
          "Y": -5.26540470123291,
          "label": "1"
         },
         {
          "X": -3.5244555473327637,
          "Y": -5.101233005523682,
          "label": "1"
         },
         {
          "X": -3.214134931564331,
          "Y": -5.288935661315918,
          "label": "1"
         },
         {
          "X": -3.01604962348938,
          "Y": -5.139128684997559,
          "label": "1"
         },
         {
          "X": -1.1393256187438965,
          "Y": -3.8644514083862305,
          "label": "1"
         },
         {
          "X": -3.2281336784362793,
          "Y": -5.288563251495361,
          "label": "1"
         },
         {
          "X": -3.4600257873535156,
          "Y": -4.8331804275512695,
          "label": "1"
         },
         {
          "X": -3.056814670562744,
          "Y": -4.85256814956665,
          "label": "1"
         },
         {
          "X": -3.0532326698303223,
          "Y": -4.856932163238525,
          "label": "1"
         },
         {
          "X": -3.3535423278808594,
          "Y": -4.776683330535889,
          "label": "1"
         },
         {
          "X": -3.4383044242858887,
          "Y": -4.8171000480651855,
          "label": "1"
         },
         {
          "X": -3.0532398223876953,
          "Y": -4.856925010681152,
          "label": "1"
         },
         {
          "X": -3.09704327583313,
          "Y": -5.237072944641113,
          "label": "1"
         },
         {
          "X": -3.5290029048919678,
          "Y": -5.081138610839844,
          "label": "1"
         },
         {
          "X": -3.055279016494751,
          "Y": -4.854292392730713,
          "label": "1"
         },
         {
          "X": -3.267788887023926,
          "Y": -5.293281555175781,
          "label": "1"
         },
         {
          "X": -3.387878894805908,
          "Y": -5.26283597946167,
          "label": "1"
         },
         {
          "X": -3.5289618968963623,
          "Y": -5.081561088562012,
          "label": "5"
         },
         {
          "X": -3.0196919441223145,
          "Y": -5.147730827331543,
          "label": "5"
         },
         {
          "X": -6.404412746429443,
          "Y": -1.32174551486969,
          "label": "5"
         },
         {
          "X": -6.951666355133057,
          "Y": -5.884195327758789,
          "label": "5"
         },
         {
          "X": -5.459353446960449,
          "Y": -5.8213019371032715,
          "label": "5"
         },
         {
          "X": -5.3821868896484375,
          "Y": -3.3662362098693848,
          "label": "5"
         },
         {
          "X": -5.876536846160889,
          "Y": -3.4928407669067383,
          "label": "5"
         },
         {
          "X": -5.383649826049805,
          "Y": -3.4057857990264893,
          "label": "2"
         },
         {
          "X": -5.528732776641846,
          "Y": -3.136082410812378,
          "label": "2"
         },
         {
          "X": -5.4294352531433105,
          "Y": -3.5287322998046875,
          "label": "2"
         },
         {
          "X": -5.779212474822998,
          "Y": -3.139286994934082,
          "label": "2"
         },
         {
          "X": -6.769645690917969,
          "Y": -5.940140247344971,
          "label": "2"
         },
         {
          "X": -5.382826328277588,
          "Y": -3.3969240188598633,
          "label": "2"
         },
         {
          "X": -1.4513561725616455,
          "Y": -0.6577614545822144,
          "label": "2"
         },
         {
          "X": -5.87819242477417,
          "Y": -3.4907987117767334,
          "label": "2"
         },
         {
          "X": -5.497705936431885,
          "Y": -5.736202716827393,
          "label": "2"
         },
         {
          "X": -5.514721393585205,
          "Y": -3.1433019638061523,
          "label": "2"
         },
         {
          "X": -5.584447383880615,
          "Y": -3.6321871280670166,
          "label": "2"
         },
         {
          "X": -5.815377712249756,
          "Y": -3.1625421047210693,
          "label": "2"
         },
         {
          "X": -8.119696617126465,
          "Y": -4.4606428146362305,
          "label": "2"
         },
         {
          "X": -5.383126735687256,
          "Y": -3.361008405685425,
          "label": "2"
         },
         {
          "X": -5.383637428283691,
          "Y": -3.405679225921631,
          "label": "2"
         },
         {
          "X": -1.4402883052825928,
          "Y": -0.9657625555992126,
          "label": "2"
         },
         {
          "X": -5.647030353546143,
          "Y": -3.635942220687866,
          "label": "2"
         },
         {
          "X": -5.8420023918151855,
          "Y": -3.1869170665740967,
          "label": "2"
         },
         {
          "X": -5.647014141082764,
          "Y": -3.6359426975250244,
          "label": "2"
         },
         {
          "X": -5.856367588043213,
          "Y": -3.5263359546661377,
          "label": "2"
         },
         {
          "X": -5.7919769287109375,
          "Y": -3.1465892791748047,
          "label": "2"
         },
         {
          "X": -5.844873428344727,
          "Y": -3.190052032470703,
          "label": "2"
         },
         {
          "X": -5.528288841247559,
          "Y": -3.135878801345825,
          "label": "2"
         },
         {
          "X": -0.9526364803314209,
          "Y": -3.5725040435791016,
          "label": "2"
         },
         {
          "X": -5.876553535461426,
          "Y": -3.4928085803985596,
          "label": "2"
         },
         {
          "X": -5.864717960357666,
          "Y": -3.2109224796295166,
          "label": "2"
         },
         {
          "X": -5.59145975112915,
          "Y": -3.6336135864257812,
          "label": "3"
         },
         {
          "X": -5.528731822967529,
          "Y": -3.136082172393799,
          "label": "3"
         },
         {
          "X": -5.601433753967285,
          "Y": -3.6353092193603516,
          "label": "3"
         },
         {
          "X": -1.3623368740081787,
          "Y": -0.9044907093048096,
          "label": "3"
         },
         {
          "X": -0.1513475626707077,
          "Y": -2.0012354850769043,
          "label": "3"
         },
         {
          "X": -3.1275951862335205,
          "Y": -2.7774274349212646,
          "label": "3"
         },
         {
          "X": -8.022226333618164,
          "Y": -4.756462574005127,
          "label": "3"
         },
         {
          "X": -5.056549072265625,
          "Y": -5.518407821655273,
          "label": "3"
         },
         {
          "X": -8.210984230041504,
          "Y": -2.2351691722869873,
          "label": "3"
         },
         {
          "X": -3.1284332275390625,
          "Y": -2.7786271572113037,
          "label": "3"
         },
         {
          "X": -3.1284329891204834,
          "Y": -2.778627395629883,
          "label": "3"
         },
         {
          "X": -3.1279265880584717,
          "Y": -2.7784876823425293,
          "label": "3"
         },
         {
          "X": -3.128772497177124,
          "Y": -2.778506278991699,
          "label": "3"
         },
         {
          "X": -3.1284327507019043,
          "Y": -2.7786271572113037,
          "label": "3"
         },
         {
          "X": -4.257505416870117,
          "Y": -2.8947811126708984,
          "label": "3"
         },
         {
          "X": -6.207065105438232,
          "Y": -1.4355865716934204,
          "label": "3"
         },
         {
          "X": -4.560333728790283,
          "Y": -6.860857009887695,
          "label": "4"
         },
         {
          "X": -1.9610614776611328,
          "Y": -1.0936896800994873,
          "label": "4"
         },
         {
          "X": -3.127767562866211,
          "Y": -2.777005195617676,
          "label": "4"
         },
         {
          "X": -8.211945533752441,
          "Y": -2.235414743423462,
          "label": "4"
         },
         {
          "X": -6.4255781173706055,
          "Y": -5.960718154907227,
          "label": "4"
         },
         {
          "X": -3.1295320987701416,
          "Y": -2.779468536376953,
          "label": "4"
         },
         {
          "X": -0.6464359164237976,
          "Y": -5.157657623291016,
          "label": "4"
         },
         {
          "X": -0.650187611579895,
          "Y": -5.152853488922119,
          "label": "4"
         },
         {
          "X": -5.998873233795166,
          "Y": -5.857612609863281,
          "label": "4"
         },
         {
          "X": -3.1277689933776855,
          "Y": -2.777008533477783,
          "label": "4"
         },
         {
          "X": -3.127943277359009,
          "Y": -2.7753427028656006,
          "label": "4"
         },
         {
          "X": -0.4178101122379303,
          "Y": -2.41381573677063,
          "label": "4"
         },
         {
          "X": -0.8876891136169434,
          "Y": -3.5626015663146973,
          "label": "4"
         },
         {
          "X": -3.1310555934906006,
          "Y": -2.7791740894317627,
          "label": "4"
         },
         {
          "X": -3.127943277359009,
          "Y": -2.7753422260284424,
          "label": "4"
         },
         {
          "X": -3.1278188228607178,
          "Y": -2.7782514095306396,
          "label": "4"
         },
         {
          "X": -3.1286909580230713,
          "Y": -2.778759241104126,
          "label": "4"
         },
         {
          "X": -8.158589363098145,
          "Y": -4.205012321472168,
          "label": "4"
         },
         {
          "X": -8.159210205078125,
          "Y": -4.204601287841797,
          "label": "4"
         },
         {
          "X": -1.1734548807144165,
          "Y": -3.8912999629974365,
          "label": "4"
         }
        ]
       },
       "encoding": {
        "color": {
         "field": "label",
         "type": "nominal"
        },
        "x": {
         "field": "X",
         "type": "quantitative"
        },
        "y": {
         "field": "Y",
         "type": "quantitative"
        }
       },
       "mark": {
        "size": 60,
        "type": "circle"
       },
       "selection": {
        "selector030": {
         "bind": "scales",
         "encodings": [
          "x",
          "y"
         ],
         "mark": {
          "fill": "#333",
          "fillOpacity": 0.125,
          "stroke": "white"
         },
         "on": "[mousedown, window:mouseup] > window:mousemove!",
         "resolve": "global",
         "translate": "[mousedown, window:mouseup] > window:mousemove!",
         "type": "interval",
         "zoom": "wheel!"
        }
       }
      },
      "image/png": "[encoded data removed]",
      "text/plain": [
       "<VegaLite 2 object>\n",
       "\n",
       "If you see this message, it means the renderer has not been properly enabled\n",
       "for the frontend that you are using. For more information, see\n",
       "https://altair-viz.github.io/user_guide/troubleshooting.html\n"
      ]
     },
     "metadata": {},
     "output_type": "display_data"
    }
   ],
   "source": [
    "perplexity = [5, 15, 30, 35, 40, 45, 50]\n",
    "\n",
    "for p in perplexity:\n",
    "    print(\"Perplexity {}\".format(p))\n",
    "    r = reduce_dim(p)\n",
    "    create_plot(r, label)"
   ]
  },
  {
   "cell_type": "code",
   "execution_count": 5,
   "metadata": {},
   "outputs": [
    {
     "data": {
      "application/vnd.vegalite.v2+json": {
       "$schema": "https://vega.github.io/schema/vega-lite/v2.6.0.json",
       "config": {
        "view": {
         "height": 300,
         "width": 400
        }
       },
       "data": {
        "name": "data-599324ea1f6dbcbcf748ccbd7db43a13"
       },
       "datasets": {
        "data-599324ea1f6dbcbcf748ccbd7db43a13": [
         {
          "X": 0.3825382888317108,
          "Y": 0.02663634717464447,
          "count": 55,
          "label": "1"
         },
         {
          "X": 0.382377564907074,
          "Y": 0.02660462073981762,
          "count": 55,
          "label": "1"
         },
         {
          "X": 0.38253846764564514,
          "Y": 0.026636363938450813,
          "count": 55,
          "label": "1"
         },
         {
          "X": 0.38253846764564514,
          "Y": 0.026636358350515366,
          "count": 55,
          "label": "1"
         },
         {
          "X": 0.382538378238678,
          "Y": 0.02663639560341835,
          "count": 55,
          "label": "1"
         },
         {
          "X": 0.38237738609313965,
          "Y": 0.026604613289237022,
          "count": 55,
          "label": "1"
         },
         {
          "X": 0.38253846764564514,
          "Y": 0.026636363938450813,
          "count": 55,
          "label": "1"
         },
         {
          "X": 0.38237738609313965,
          "Y": 0.026604605838656425,
          "count": 55,
          "label": "1"
         },
         {
          "X": 0.3823775351047516,
          "Y": 0.026604538783431053,
          "count": 55,
          "label": "1"
         },
         {
          "X": 0.3823774456977844,
          "Y": 0.026604579761624336,
          "count": 55,
          "label": "1"
         },
         {
          "X": 0.38237741589546204,
          "Y": 0.026604605838656425,
          "count": 55,
          "label": "1"
         },
         {
          "X": 0.38237738609313965,
          "Y": 0.02660457231104374,
          "count": 55,
          "label": "1"
         },
         {
          "X": 0.38237741589546204,
          "Y": 0.026604609563946724,
          "count": 55,
          "label": "1"
         },
         {
          "X": 0.38253846764564514,
          "Y": 0.026636363938450813,
          "count": 55,
          "label": "1"
         },
         {
          "X": 0.3823776841163635,
          "Y": 0.02660461701452732,
          "count": 55,
          "label": "1"
         },
         {
          "X": 0.382377564907074,
          "Y": 0.026604613289237022,
          "count": 55,
          "label": "1"
         },
         {
          "X": 0.3823775053024292,
          "Y": 0.02660461701452732,
          "count": 55,
          "label": "1"
         },
         {
          "X": 0.38237762451171875,
          "Y": 0.026604585349559784,
          "count": 55,
          "label": "1"
         },
         {
          "X": 0.38237741589546204,
          "Y": 0.02660459093749523,
          "count": 55,
          "label": "1"
         },
         {
          "X": 0.3823775053024292,
          "Y": 0.026604600250720978,
          "count": 55,
          "label": "1"
         },
         {
          "X": 0.382377564907074,
          "Y": 0.02660459466278553,
          "count": 55,
          "label": "1"
         },
         {
          "X": 0.3823775053024292,
          "Y": 0.026604648679494858,
          "count": 55,
          "label": "1"
         },
         {
          "X": 0.382538378238678,
          "Y": 0.026636334136128426,
          "count": 55,
          "label": "1"
         },
         {
          "X": 0.38237741589546204,
          "Y": 0.026604609563946724,
          "count": 55,
          "label": "1"
         },
         {
          "X": 0.38237762451171875,
          "Y": 0.026604605838656425,
          "count": 55,
          "label": "1"
         },
         {
          "X": 0.382538378238678,
          "Y": 0.02663630247116089,
          "count": 55,
          "label": "1"
         },
         {
          "X": 0.3823775053024292,
          "Y": 0.026604648679494858,
          "count": 55,
          "label": "1"
         },
         {
          "X": 0.3823774755001068,
          "Y": 0.02660461701452732,
          "count": 55,
          "label": "1"
         },
         {
          "X": 0.382377564907074,
          "Y": 0.02660462073981762,
          "count": 55,
          "label": "1"
         },
         {
          "X": 0.38237738609313965,
          "Y": 0.026604602113366127,
          "count": 55,
          "label": "1"
         },
         {
          "X": 0.382377564907074,
          "Y": 0.02660459466278553,
          "count": 55,
          "label": "1"
         },
         {
          "X": 0.38253846764564514,
          "Y": 0.026636380702257156,
          "count": 55,
          "label": "1"
         },
         {
          "X": 0.3823773264884949,
          "Y": 0.02660461701452732,
          "count": 55,
          "label": "1"
         },
         {
          "X": 0.3823774755001068,
          "Y": 0.026604661718010902,
          "count": 55,
          "label": "1"
         },
         {
          "X": 0.38237759470939636,
          "Y": 0.026604637503623962,
          "count": 55,
          "label": "1"
         },
         {
          "X": 0.38237741589546204,
          "Y": 0.026604609563946724,
          "count": 55,
          "label": "1"
         },
         {
          "X": 0.3825382590293884,
          "Y": 0.026636401191353798,
          "count": 55,
          "label": "1"
         },
         {
          "X": 0.38237738609313965,
          "Y": 0.02660457231104374,
          "count": 55,
          "label": "1"
         },
         {
          "X": 0.38237738609313965,
          "Y": 0.026604603976011276,
          "count": 55,
          "label": "1"
         },
         {
          "X": 0.38237762451171875,
          "Y": 0.026604587212204933,
          "count": 55,
          "label": "1"
         },
         {
          "X": 0.3823775351047516,
          "Y": 0.026604538783431053,
          "count": 55,
          "label": "1"
         },
         {
          "X": 0.38237762451171875,
          "Y": 0.02660459838807583,
          "count": 55,
          "label": "1"
         },
         {
          "X": 0.382377564907074,
          "Y": 0.02660462073981762,
          "count": 55,
          "label": "1"
         },
         {
          "X": 0.38237762451171875,
          "Y": 0.026604562997817993,
          "count": 55,
          "label": "1"
         },
         {
          "X": 0.3823774755001068,
          "Y": 0.026604607701301575,
          "count": 55,
          "label": "1"
         },
         {
          "X": 0.38237759470939636,
          "Y": 0.026604607701301575,
          "count": 55,
          "label": "1"
         },
         {
          "X": 0.38253846764564514,
          "Y": 0.026636358350515366,
          "count": 55,
          "label": "1"
         },
         {
          "X": 0.3823774755001068,
          "Y": 0.026604635640978813,
          "count": 55,
          "label": "1"
         },
         {
          "X": 0.3825383484363556,
          "Y": 0.026636401191353798,
          "count": 55,
          "label": "1"
         },
         {
          "X": 0.38253840804100037,
          "Y": 0.02663635089993477,
          "count": 55,
          "label": "1"
         },
         {
          "X": 0.382377564907074,
          "Y": 0.02660461515188217,
          "count": 55,
          "label": "1"
         },
         {
          "X": 0.38253846764564514,
          "Y": 0.026636363938450813,
          "count": 55,
          "label": "1"
         },
         {
          "X": 0.3825382590293884,
          "Y": 0.026636401191353798,
          "count": 55,
          "label": "1"
         },
         {
          "X": 0.3823775053024292,
          "Y": 0.02660461701452732,
          "count": 55,
          "label": "1"
         },
         {
          "X": 0.38253840804100037,
          "Y": 0.026636403053998947,
          "count": 55,
          "label": "1"
         },
         {
          "X": 0.054940976202487946,
          "Y": 1.9244228601455688,
          "count": 124,
          "label": "AUSSI"
         },
         {
          "X": -1.3968206644058228,
          "Y": -0.7054904103279114,
          "count": 124,
          "label": "AUSSI"
         },
         {
          "X": 0.030435696244239807,
          "Y": 1.9478543996810913,
          "count": 124,
          "label": "AUSSI"
         },
         {
          "X": -0.010860791429877281,
          "Y": 0.7860143780708313,
          "count": 124,
          "label": "AUSSI"
         },
         {
          "X": -0.7744936347007751,
          "Y": 0.43829581141471863,
          "count": 124,
          "label": "AUSSI"
         },
         {
          "X": 0.12445073574781418,
          "Y": 0.05000607669353485,
          "count": 124,
          "label": "AUSSI"
         },
         {
          "X": -0.5263254046440125,
          "Y": -0.5030304193496704,
          "count": 124,
          "label": "AUSSI"
         },
         {
          "X": 0.38237738609313965,
          "Y": 0.026604602113366127,
          "count": 124,
          "label": "AUSSI"
         },
         {
          "X": -0.2342323362827301,
          "Y": -2.38041090965271,
          "count": 124,
          "label": "AUSSI"
         },
         {
          "X": 0.7569299340248108,
          "Y": -1.7701759338378906,
          "count": 124,
          "label": "AUSSI"
         },
         {
          "X": 0.7769594192504883,
          "Y": -0.937835156917572,
          "count": 124,
          "label": "AUSSI"
         },
         {
          "X": -1.433718204498291,
          "Y": -1.7712657451629639,
          "count": 124,
          "label": "AUSSI"
         },
         {
          "X": 0.12445073574781418,
          "Y": 0.05000607669353485,
          "count": 124,
          "label": "AUSSI"
         },
         {
          "X": 0.5215978622436523,
          "Y": -1.8576406240463257,
          "count": 124,
          "label": "AUSSI"
         },
         {
          "X": 0.8493266105651855,
          "Y": 0.3709956705570221,
          "count": 124,
          "label": "AUSSI"
         },
         {
          "X": 2.843754768371582,
          "Y": 0.3875747323036194,
          "count": 124,
          "label": "AUSSI"
         },
         {
          "X": 2.5976979732513428,
          "Y": 1.3837021589279175,
          "count": 124,
          "label": "AUSSI"
         },
         {
          "X": 0.7569299340248108,
          "Y": -1.7701759338378906,
          "count": 124,
          "label": "AUSSI"
         },
         {
          "X": 0.08518155664205551,
          "Y": -0.5668357610702515,
          "count": 124,
          "label": "AUSSI"
         },
         {
          "X": 0.12445073574781418,
          "Y": 0.05000607669353485,
          "count": 124,
          "label": "AUSSI"
         },
         {
          "X": 0.9383410811424255,
          "Y": -0.30791112780570984,
          "count": 124,
          "label": "AUSSI"
         },
         {
          "X": -2.2484381198883057,
          "Y": -0.08005529642105103,
          "count": 124,
          "label": "AUSSI"
         },
         {
          "X": 2.5976979732513428,
          "Y": 1.3837021589279175,
          "count": 124,
          "label": "AUSSI"
         },
         {
          "X": 0.12445073574781418,
          "Y": 0.05000607669353485,
          "count": 124,
          "label": "AUSSI"
         },
         {
          "X": 0.4047434628009796,
          "Y": 2.6628003120422363,
          "count": 124,
          "label": "AUSSI"
         },
         {
          "X": 0.7769594192504883,
          "Y": -0.937835156917572,
          "count": 124,
          "label": "AUSSI"
         },
         {
          "X": 1.5444684028625488,
          "Y": -2.3124451637268066,
          "count": 124,
          "label": "AUSSI"
         },
         {
          "X": 0.9383410811424255,
          "Y": -0.30791112780570984,
          "count": 124,
          "label": "AUSSI"
         },
         {
          "X": -1.433718204498291,
          "Y": -1.7712657451629639,
          "count": 124,
          "label": "AUSSI"
         },
         {
          "X": -1.669831395149231,
          "Y": 0.19383834302425385,
          "count": 124,
          "label": "AUSSI"
         },
         {
          "X": -0.5734463334083557,
          "Y": 1.4404056072235107,
          "count": 124,
          "label": "AUSSI"
         },
         {
          "X": 0.08518155664205551,
          "Y": -0.5668357610702515,
          "count": 124,
          "label": "AUSSI"
         },
         {
          "X": 0.12445073574781418,
          "Y": 0.05000607669353485,
          "count": 124,
          "label": "AUSSI"
         },
         {
          "X": 2.316990375518799,
          "Y": 1.6865448951721191,
          "count": 124,
          "label": "AUSSI"
         },
         {
          "X": 1.3840988874435425,
          "Y": -0.24738861620426178,
          "count": 124,
          "label": "AUSSI"
         },
         {
          "X": -0.010860791429877281,
          "Y": 0.7860143780708313,
          "count": 124,
          "label": "AUSSI"
         },
         {
          "X": 0.7769594192504883,
          "Y": -0.937835156917572,
          "count": 124,
          "label": "AUSSI"
         },
         {
          "X": 0.8493266105651855,
          "Y": 0.3709956705570221,
          "count": 124,
          "label": "AUSSI"
         },
         {
          "X": -0.010860791429877281,
          "Y": 0.7860143780708313,
          "count": 124,
          "label": "AUSSI"
         },
         {
          "X": 0.7133759260177612,
          "Y": 1.2155088186264038,
          "count": 124,
          "label": "AUSSI"
         },
         {
          "X": 1.9337143898010254,
          "Y": 0.7559248805046082,
          "count": 124,
          "label": "AUSSI"
         },
         {
          "X": -0.20227792859077454,
          "Y": 2.6058075428009033,
          "count": 124,
          "label": "AUSSI"
         },
         {
          "X": 0.8493266105651855,
          "Y": 0.3709956705570221,
          "count": 124,
          "label": "AUSSI"
         },
         {
          "X": 0.7133759260177612,
          "Y": 1.2155088186264038,
          "count": 124,
          "label": "AUSSI"
         },
         {
          "X": -1.669831395149231,
          "Y": 0.19383834302425385,
          "count": 124,
          "label": "AUSSI"
         },
         {
          "X": -0.010860791429877281,
          "Y": 0.7860143780708313,
          "count": 124,
          "label": "AUSSI"
         },
         {
          "X": 1.5576236248016357,
          "Y": 0.37839797139167786,
          "count": 124,
          "label": "AUSSI"
         },
         {
          "X": 1.0381417274475098,
          "Y": 2.305878162384033,
          "count": 124,
          "label": "AUSSI"
         },
         {
          "X": 2.189912796020508,
          "Y": -0.3414364457130432,
          "count": 124,
          "label": "AUSSI"
         },
         {
          "X": -2.094820976257324,
          "Y": 0.9459067583084106,
          "count": 124,
          "label": "AUSSI"
         },
         {
          "X": -1.664787769317627,
          "Y": 1.7272974252700806,
          "count": 124,
          "label": "AUSSI"
         },
         {
          "X": 0.5059654712677002,
          "Y": -0.36345821619033813,
          "count": 124,
          "label": "AUSSI"
         },
         {
          "X": 0.7769594192504883,
          "Y": -0.937835156917572,
          "count": 124,
          "label": "AUSSI"
         },
         {
          "X": 0.8493266105651855,
          "Y": 0.3709956705570221,
          "count": 124,
          "label": "AUSSI"
         },
         {
          "X": -1.1061962842941284,
          "Y": 2.2150063514709473,
          "count": 124,
          "label": "AUSSI"
         },
         {
          "X": -1.4802589416503906,
          "Y": -0.13927695155143738,
          "count": 124,
          "label": "AUSSI"
         },
         {
          "X": -0.5734463334083557,
          "Y": 1.4404056072235107,
          "count": 124,
          "label": "AUSSI"
         },
         {
          "X": -0.038906216621398926,
          "Y": -1.3321967124938965,
          "count": 124,
          "label": "AUSSI"
         },
         {
          "X": -0.038906216621398926,
          "Y": -1.3321967124938965,
          "count": 124,
          "label": "AUSSI"
         },
         {
          "X": -0.2342323362827301,
          "Y": -2.38041090965271,
          "count": 124,
          "label": "AUSSI"
         },
         {
          "X": -0.010860791429877281,
          "Y": 0.7860143780708313,
          "count": 124,
          "label": "AUSSI"
         },
         {
          "X": -0.5734463334083557,
          "Y": 1.4404056072235107,
          "count": 124,
          "label": "AUSSI"
         },
         {
          "X": -1.433718204498291,
          "Y": -1.7712657451629639,
          "count": 124,
          "label": "AUSSI"
         },
         {
          "X": -0.038906216621398926,
          "Y": -1.3321967124938965,
          "count": 124,
          "label": "AUSSI"
         },
         {
          "X": 0.12445073574781418,
          "Y": 0.05000607669353485,
          "count": 124,
          "label": "AUSSI"
         },
         {
          "X": 0.7133759260177612,
          "Y": 1.2155088186264038,
          "count": 124,
          "label": "AUSSI"
         },
         {
          "X": 2.189912796020508,
          "Y": -0.3414364457130432,
          "count": 124,
          "label": "AUSSI"
         },
         {
          "X": 0.7133759260177612,
          "Y": 1.2155088186264038,
          "count": 124,
          "label": "AUSSI"
         },
         {
          "X": 0.006693319883197546,
          "Y": -0.5674325227737427,
          "count": 124,
          "label": "AUSSI"
         },
         {
          "X": 1.9539906978607178,
          "Y": 2.177903652191162,
          "count": 124,
          "label": "AUSSI"
         },
         {
          "X": -0.7744936347007751,
          "Y": 0.43829581141471863,
          "count": 124,
          "label": "AUSSI"
         },
         {
          "X": 0.12445073574781418,
          "Y": 0.05000607669353485,
          "count": 124,
          "label": "AUSSI"
         },
         {
          "X": 0.08518155664205551,
          "Y": -0.5668357610702515,
          "count": 124,
          "label": "AUSSI"
         },
         {
          "X": -2.094820976257324,
          "Y": 0.9459067583084106,
          "count": 124,
          "label": "AUSSI"
         },
         {
          "X": 0.8493266105651855,
          "Y": 0.3709956705570221,
          "count": 124,
          "label": "AUSSI"
         },
         {
          "X": 1.490423321723938,
          "Y": -0.8618544936180115,
          "count": 124,
          "label": "AUSSI"
         },
         {
          "X": 1.4603018760681152,
          "Y": 1.5007543563842773,
          "count": 124,
          "label": "AUSSI"
         },
         {
          "X": 0.9383410811424255,
          "Y": -0.30791112780570984,
          "count": 124,
          "label": "AUSSI"
         },
         {
          "X": 0.054940976202487946,
          "Y": 1.9244228601455688,
          "count": 124,
          "label": "AUSSI"
         },
         {
          "X": -0.010860791429877281,
          "Y": 0.7860143780708313,
          "count": 124,
          "label": "AUSSI"
         },
         {
          "X": -0.010860791429877281,
          "Y": 0.7860143780708313,
          "count": 124,
          "label": "AUSSI"
         },
         {
          "X": 1.5617005825042725,
          "Y": 0.3695625364780426,
          "count": 124,
          "label": "AUSSI"
         },
         {
          "X": -1.669831395149231,
          "Y": 0.19383834302425385,
          "count": 124,
          "label": "AUSSI"
         },
         {
          "X": -0.5263254046440125,
          "Y": -0.5030304193496704,
          "count": 124,
          "label": "AUSSI"
         },
         {
          "X": 0.4047434628009796,
          "Y": 2.6628003120422363,
          "count": 124,
          "label": "AUSSI"
         },
         {
          "X": -0.038906216621398926,
          "Y": -1.3321967124938965,
          "count": 124,
          "label": "AUSSI"
         },
         {
          "X": 1.9337143898010254,
          "Y": 0.7559248805046082,
          "count": 124,
          "label": "AUSSI"
         },
         {
          "X": 0.7769594192504883,
          "Y": -0.937835156917572,
          "count": 124,
          "label": "AUSSI"
         },
         {
          "X": -0.20227792859077454,
          "Y": 2.6058075428009033,
          "count": 124,
          "label": "AUSSI"
         },
         {
          "X": -1.986215591430664,
          "Y": -1.3099150657653809,
          "count": 124,
          "label": "AUSSI"
         },
         {
          "X": 2.299724578857422,
          "Y": -2.0451042652130127,
          "count": 124,
          "label": "AUSSI"
         },
         {
          "X": 0.8493266105651855,
          "Y": 0.3709956705570221,
          "count": 124,
          "label": "AUSSI"
         },
         {
          "X": 1.9539906978607178,
          "Y": 2.177903652191162,
          "count": 124,
          "label": "AUSSI"
         },
         {
          "X": -0.010860791429877281,
          "Y": 0.7860143780708313,
          "count": 124,
          "label": "AUSSI"
         },
         {
          "X": -0.038906216621398926,
          "Y": -1.3321967124938965,
          "count": 124,
          "label": "AUSSI"
         },
         {
          "X": 0.12445073574781418,
          "Y": 0.05000607669353485,
          "count": 124,
          "label": "AUSSI"
         },
         {
          "X": 0.8493266105651855,
          "Y": 0.3709956705570221,
          "count": 124,
          "label": "AUSSI"
         },
         {
          "X": 0.08518155664205551,
          "Y": -0.5668357610702515,
          "count": 124,
          "label": "AUSSI"
         },
         {
          "X": 1.9337143898010254,
          "Y": 0.7559248805046082,
          "count": 124,
          "label": "AUSSI"
         },
         {
          "X": -0.7520882487297058,
          "Y": -0.2695270776748657,
          "count": 124,
          "label": "AUSSI"
         },
         {
          "X": 1.4603018760681152,
          "Y": 1.5007543563842773,
          "count": 124,
          "label": "AUSSI"
         },
         {
          "X": 1.4603018760681152,
          "Y": 1.5007543563842773,
          "count": 124,
          "label": "AUSSI"
         },
         {
          "X": 0.7569299340248108,
          "Y": -1.7701759338378906,
          "count": 124,
          "label": "AUSSI"
         },
         {
          "X": 0.08518155664205551,
          "Y": -0.5668357610702515,
          "count": 124,
          "label": "AUSSI"
         },
         {
          "X": 1.7958910465240479,
          "Y": -1.4791693687438965,
          "count": 124,
          "label": "AUSSI"
         },
         {
          "X": 1.490423321723938,
          "Y": -0.8618544936180115,
          "count": 124,
          "label": "AUSSI"
         },
         {
          "X": 1.7958910465240479,
          "Y": -1.4791693687438965,
          "count": 124,
          "label": "AUSSI"
         },
         {
          "X": -2.094820976257324,
          "Y": 0.9459067583084106,
          "count": 124,
          "label": "AUSSI"
         },
         {
          "X": 2.299724578857422,
          "Y": -2.0451042652130127,
          "count": 124,
          "label": "AUSSI"
         },
         {
          "X": 2.189912796020508,
          "Y": -0.3414364457130432,
          "count": 124,
          "label": "AUSSI"
         },
         {
          "X": 0.311575323343277,
          "Y": -2.505739450454712,
          "count": 124,
          "label": "AUSSI"
         },
         {
          "X": -0.038906216621398926,
          "Y": -1.3321967124938965,
          "count": 124,
          "label": "AUSSI"
         },
         {
          "X": 0.7133759260177612,
          "Y": 1.2155088186264038,
          "count": 124,
          "label": "AUSSI"
         },
         {
          "X": 0.12445073574781418,
          "Y": 0.05000607669353485,
          "count": 124,
          "label": "AUSSI"
         },
         {
          "X": -2.2484381198883057,
          "Y": -0.08005529642105103,
          "count": 124,
          "label": "AUSSI"
         },
         {
          "X": -2.330791473388672,
          "Y": 0.45270487666130066,
          "count": 124,
          "label": "AUSSI"
         },
         {
          "X": -0.5734463334083557,
          "Y": 1.4404056072235107,
          "count": 124,
          "label": "AUSSI"
         },
         {
          "X": 0.8493266105651855,
          "Y": 0.3709956705570221,
          "count": 124,
          "label": "AUSSI"
         },
         {
          "X": 1.3840988874435425,
          "Y": -0.24738861620426178,
          "count": 124,
          "label": "AUSSI"
         },
         {
          "X": 0.7133759260177612,
          "Y": 1.2155088186264038,
          "count": 124,
          "label": "AUSSI"
         },
         {
          "X": 1.490423321723938,
          "Y": -0.8618544936180115,
          "count": 124,
          "label": "AUSSI"
         },
         {
          "X": 0.2876945436000824,
          "Y": 1.8856663703918457,
          "count": 124,
          "label": "AUSSI"
         },
         {
          "X": 1.3840988874435425,
          "Y": -0.24738861620426178,
          "count": 124,
          "label": "AUSSI"
         },
         {
          "X": 0.006693319883197546,
          "Y": -0.5674325227737427,
          "count": 124,
          "label": "AUSSI"
         },
         {
          "X": -2.2484381198883057,
          "Y": -0.08005529642105103,
          "count": 118,
          "label": "OUI"
         },
         {
          "X": 2.923506736755371,
          "Y": -0.958000123500824,
          "count": 118,
          "label": "OUI"
         },
         {
          "X": -0.7744936347007751,
          "Y": 0.43829581141471863,
          "count": 118,
          "label": "OUI"
         },
         {
          "X": 0.7133759260177612,
          "Y": 1.2155088186264038,
          "count": 118,
          "label": "OUI"
         },
         {
          "X": 0.2876945436000824,
          "Y": 1.8856663703918457,
          "count": 118,
          "label": "OUI"
         },
         {
          "X": 0.12445073574781418,
          "Y": 0.05000607669353485,
          "count": 118,
          "label": "OUI"
         },
         {
          "X": 1.490423321723938,
          "Y": -0.8618544936180115,
          "count": 118,
          "label": "OUI"
         },
         {
          "X": -2.094820976257324,
          "Y": 0.9459067583084106,
          "count": 118,
          "label": "OUI"
         },
         {
          "X": -0.5727768540382385,
          "Y": 0.19141483306884766,
          "count": 118,
          "label": "OUI"
         },
         {
          "X": -1.986215591430664,
          "Y": -1.3099150657653809,
          "count": 118,
          "label": "OUI"
         },
         {
          "X": 0.5004889369010925,
          "Y": -0.3752165734767914,
          "count": 118,
          "label": "OUI"
         },
         {
          "X": -1.0455948114395142,
          "Y": 0.62473464012146,
          "count": 118,
          "label": "OUI"
         },
         {
          "X": -0.7458605766296387,
          "Y": 2.3939642906188965,
          "count": 118,
          "label": "OUI"
         },
         {
          "X": 1.9539906978607178,
          "Y": 2.177903652191162,
          "count": 118,
          "label": "OUI"
         },
         {
          "X": -2.094820976257324,
          "Y": 0.9459067583084106,
          "count": 118,
          "label": "OUI"
         },
         {
          "X": 1.4603018760681152,
          "Y": 1.5007543563842773,
          "count": 118,
          "label": "OUI"
         },
         {
          "X": -1.0455948114395142,
          "Y": 0.62473464012146,
          "count": 118,
          "label": "OUI"
         },
         {
          "X": 0.8493266105651855,
          "Y": 0.3709956705570221,
          "count": 118,
          "label": "OUI"
         },
         {
          "X": 1.7958910465240479,
          "Y": -1.4791693687438965,
          "count": 118,
          "label": "OUI"
         },
         {
          "X": -2.2484381198883057,
          "Y": -0.08005529642105103,
          "count": 118,
          "label": "OUI"
         },
         {
          "X": -0.010860791429877281,
          "Y": 0.7860143780708313,
          "count": 118,
          "label": "OUI"
         },
         {
          "X": 1.4874746799468994,
          "Y": -1.1944838762283325,
          "count": 118,
          "label": "OUI"
         },
         {
          "X": 0.054940976202487946,
          "Y": 1.9244228601455688,
          "count": 118,
          "label": "OUI"
         },
         {
          "X": 1.490423321723938,
          "Y": -0.8618544936180115,
          "count": 118,
          "label": "OUI"
         },
         {
          "X": 0.030435696244239807,
          "Y": 1.9478543996810913,
          "count": 118,
          "label": "OUI"
         },
         {
          "X": 2.189912796020508,
          "Y": -0.3414364457130432,
          "count": 118,
          "label": "OUI"
         },
         {
          "X": 1.4603018760681152,
          "Y": 1.5007543563842773,
          "count": 118,
          "label": "OUI"
         },
         {
          "X": -0.5734463334083557,
          "Y": 1.4404056072235107,
          "count": 118,
          "label": "OUI"
         },
         {
          "X": -1.3457872867584229,
          "Y": 0.9522409439086914,
          "count": 118,
          "label": "OUI"
         },
         {
          "X": 0.8493266105651855,
          "Y": 0.3709956705570221,
          "count": 118,
          "label": "OUI"
         },
         {
          "X": -1.4802589416503906,
          "Y": -0.13927695155143738,
          "count": 118,
          "label": "OUI"
         },
         {
          "X": 0.9383410811424255,
          "Y": -0.30791112780570984,
          "count": 118,
          "label": "OUI"
         },
         {
          "X": 0.7133759260177612,
          "Y": 1.2155088186264038,
          "count": 118,
          "label": "OUI"
         },
         {
          "X": 2.333472967147827,
          "Y": 1.6907259225845337,
          "count": 118,
          "label": "OUI"
         },
         {
          "X": -2.2484381198883057,
          "Y": -0.08005529642105103,
          "count": 118,
          "label": "OUI"
         },
         {
          "X": 2.5976979732513428,
          "Y": 1.3837021589279175,
          "count": 118,
          "label": "OUI"
         },
         {
          "X": 0.8493266105651855,
          "Y": 0.3709956705570221,
          "count": 118,
          "label": "OUI"
         },
         {
          "X": -0.038906216621398926,
          "Y": -1.3321967124938965,
          "count": 118,
          "label": "OUI"
         },
         {
          "X": 0.12445073574781418,
          "Y": 0.05000607669353485,
          "count": 118,
          "label": "OUI"
         },
         {
          "X": 0.12445073574781418,
          "Y": 0.05000607669353485,
          "count": 118,
          "label": "OUI"
         },
         {
          "X": 1.3840988874435425,
          "Y": -0.24738861620426178,
          "count": 118,
          "label": "OUI"
         },
         {
          "X": 0.12445073574781418,
          "Y": 0.05000607669353485,
          "count": 118,
          "label": "OUI"
         },
         {
          "X": -0.038906216621398926,
          "Y": -1.3321967124938965,
          "count": 118,
          "label": "OUI"
         },
         {
          "X": -0.010860791429877281,
          "Y": 0.7860143780708313,
          "count": 118,
          "label": "OUI"
         },
         {
          "X": -0.2342323362827301,
          "Y": -2.38041090965271,
          "count": 118,
          "label": "OUI"
         },
         {
          "X": 0.12445073574781418,
          "Y": 0.05000607669353485,
          "count": 118,
          "label": "OUI"
         },
         {
          "X": 0.4047434628009796,
          "Y": 2.6628003120422363,
          "count": 118,
          "label": "OUI"
         },
         {
          "X": 2.5976979732513428,
          "Y": 1.3837021589279175,
          "count": 118,
          "label": "OUI"
         },
         {
          "X": -0.8977599740028381,
          "Y": -2.1725804805755615,
          "count": 118,
          "label": "OUI"
         },
         {
          "X": 0.7769594192504883,
          "Y": -0.937835156917572,
          "count": 118,
          "label": "OUI"
         },
         {
          "X": -0.2342323362827301,
          "Y": -2.38041090965271,
          "count": 118,
          "label": "OUI"
         },
         {
          "X": -0.7744936347007751,
          "Y": 0.43829581141471863,
          "count": 118,
          "label": "OUI"
         },
         {
          "X": 0.7133759260177612,
          "Y": 1.2155088186264038,
          "count": 118,
          "label": "OUI"
         },
         {
          "X": 2.8399338722229004,
          "Y": 0.9212411046028137,
          "count": 118,
          "label": "OUI"
         },
         {
          "X": -0.7744936347007751,
          "Y": 0.43829581141471863,
          "count": 118,
          "label": "OUI"
         },
         {
          "X": -0.20227792859077454,
          "Y": 2.6058075428009033,
          "count": 118,
          "label": "OUI"
         },
         {
          "X": 0.3275226056575775,
          "Y": 1.327501893043518,
          "count": 118,
          "label": "OUI"
         },
         {
          "X": 2.8399338722229004,
          "Y": 0.9212411046028137,
          "count": 118,
          "label": "OUI"
         },
         {
          "X": 0.7133759260177612,
          "Y": 1.2155088186264038,
          "count": 118,
          "label": "OUI"
         },
         {
          "X": -0.010860791429877281,
          "Y": 0.7860143780708313,
          "count": 118,
          "label": "OUI"
         },
         {
          "X": -0.7890880703926086,
          "Y": -1.0077091455459595,
          "count": 118,
          "label": "OUI"
         },
         {
          "X": -0.010860791429877281,
          "Y": 0.7860143780708313,
          "count": 118,
          "label": "OUI"
         },
         {
          "X": -1.664787769317627,
          "Y": 1.7272974252700806,
          "count": 118,
          "label": "OUI"
         },
         {
          "X": 0.9383410811424255,
          "Y": -0.30791112780570984,
          "count": 118,
          "label": "OUI"
         },
         {
          "X": 0.7769594192504883,
          "Y": -0.937835156917572,
          "count": 118,
          "label": "OUI"
         },
         {
          "X": 1.227840542793274,
          "Y": 1.0427117347717285,
          "count": 118,
          "label": "OUI"
         },
         {
          "X": 0.12445073574781418,
          "Y": 0.05000607669353485,
          "count": 118,
          "label": "OUI"
         },
         {
          "X": -1.0455948114395142,
          "Y": 0.62473464012146,
          "count": 118,
          "label": "OUI"
         },
         {
          "X": 1.7958910465240479,
          "Y": -1.4791693687438965,
          "count": 118,
          "label": "OUI"
         },
         {
          "X": 0.8493266105651855,
          "Y": 0.3709956705570221,
          "count": 118,
          "label": "OUI"
         },
         {
          "X": 0.12445073574781418,
          "Y": 0.05000607669353485,
          "count": 118,
          "label": "OUI"
         },
         {
          "X": 0.12445073574781418,
          "Y": 0.05000607669353485,
          "count": 118,
          "label": "OUI"
         },
         {
          "X": 1.9337143898010254,
          "Y": 0.7559248805046082,
          "count": 118,
          "label": "OUI"
         },
         {
          "X": 0.7133759260177612,
          "Y": 1.2155088186264038,
          "count": 118,
          "label": "OUI"
         },
         {
          "X": 0.9383410811424255,
          "Y": -0.30791112780570984,
          "count": 118,
          "label": "OUI"
         },
         {
          "X": 0.12445073574781418,
          "Y": 0.05000607669353485,
          "count": 118,
          "label": "OUI"
         },
         {
          "X": 1.4603018760681152,
          "Y": 1.5007543563842773,
          "count": 118,
          "label": "OUI"
         },
         {
          "X": 1.5576236248016357,
          "Y": 0.37839797139167786,
          "count": 118,
          "label": "OUI"
         },
         {
          "X": 0.8493266105651855,
          "Y": 0.3709956705570221,
          "count": 118,
          "label": "OUI"
         },
         {
          "X": -0.010860791429877281,
          "Y": 0.7860143780708313,
          "count": 118,
          "label": "OUI"
         },
         {
          "X": -0.038906216621398926,
          "Y": -1.3321967124938965,
          "count": 118,
          "label": "OUI"
         },
         {
          "X": 1.565230369567871,
          "Y": 0.3735778033733368,
          "count": 118,
          "label": "OUI"
         },
         {
          "X": 1.9539906978607178,
          "Y": 2.177903652191162,
          "count": 118,
          "label": "OUI"
         },
         {
          "X": 2.356484889984131,
          "Y": 1.6304043531417847,
          "count": 118,
          "label": "OUI"
         },
         {
          "X": -0.038906216621398926,
          "Y": -1.3321967124938965,
          "count": 118,
          "label": "OUI"
         },
         {
          "X": 0.12445073574781418,
          "Y": 0.05000607669353485,
          "count": 118,
          "label": "OUI"
         },
         {
          "X": 2.2986629009246826,
          "Y": -2.04585337638855,
          "count": 118,
          "label": "OUI"
         },
         {
          "X": 0.12445073574781418,
          "Y": 0.05000607669353485,
          "count": 118,
          "label": "OUI"
         },
         {
          "X": -0.6066305637359619,
          "Y": 0.047458481043577194,
          "count": 118,
          "label": "OUI"
         },
         {
          "X": -0.038906216621398926,
          "Y": -1.3321967124938965,
          "count": 118,
          "label": "OUI"
         },
         {
          "X": 0.08518155664205551,
          "Y": -0.5668357610702515,
          "count": 118,
          "label": "OUI"
         },
         {
          "X": 1.7958910465240479,
          "Y": -1.4791693687438965,
          "count": 118,
          "label": "OUI"
         },
         {
          "X": 0.8493266105651855,
          "Y": 0.3709956705570221,
          "count": 118,
          "label": "OUI"
         },
         {
          "X": -0.010860791429877281,
          "Y": 0.7860143780708313,
          "count": 118,
          "label": "OUI"
         },
         {
          "X": -0.2342323362827301,
          "Y": -2.38041090965271,
          "count": 118,
          "label": "OUI"
         },
         {
          "X": 1.9337143898010254,
          "Y": 0.7559248805046082,
          "count": 118,
          "label": "OUI"
         },
         {
          "X": -1.3968206644058228,
          "Y": -0.7054904103279114,
          "count": 118,
          "label": "OUI"
         },
         {
          "X": 1.9539906978607178,
          "Y": 2.177903652191162,
          "count": 118,
          "label": "OUI"
         },
         {
          "X": -2.2484381198883057,
          "Y": -0.08005529642105103,
          "count": 118,
          "label": "OUI"
         },
         {
          "X": -0.5734463334083557,
          "Y": 1.4404056072235107,
          "count": 118,
          "label": "OUI"
         },
         {
          "X": -0.5734463334083557,
          "Y": 1.4404056072235107,
          "count": 118,
          "label": "OUI"
         },
         {
          "X": -0.010860791429877281,
          "Y": 0.7860143780708313,
          "count": 118,
          "label": "OUI"
         },
         {
          "X": -0.010860791429877281,
          "Y": 0.7860143780708313,
          "count": 118,
          "label": "OUI"
         },
         {
          "X": 0.7133759260177612,
          "Y": 1.2155088186264038,
          "count": 118,
          "label": "OUI"
         },
         {
          "X": 0.7133759260177612,
          "Y": 1.2155088186264038,
          "count": 118,
          "label": "OUI"
         },
         {
          "X": 2.3268849849700928,
          "Y": 1.6612770557403564,
          "count": 118,
          "label": "OUI"
         },
         {
          "X": -0.535822331905365,
          "Y": -0.45780566334724426,
          "count": 118,
          "label": "OUI"
         },
         {
          "X": 2.189912796020508,
          "Y": -0.3414364457130432,
          "count": 118,
          "label": "OUI"
         },
         {
          "X": 0.006693319883197546,
          "Y": -0.5674325227737427,
          "count": 118,
          "label": "OUI"
         },
         {
          "X": -0.038906216621398926,
          "Y": -1.3321967124938965,
          "count": 118,
          "label": "OUI"
         },
         {
          "X": 1.5444684028625488,
          "Y": -2.3124451637268066,
          "count": 118,
          "label": "OUI"
         },
         {
          "X": -2.094820976257324,
          "Y": 0.9459067583084106,
          "count": 118,
          "label": "OUI"
         },
         {
          "X": -0.5734463334083557,
          "Y": 1.4404056072235107,
          "count": 118,
          "label": "OUI"
         },
         {
          "X": 2.189912796020508,
          "Y": -0.3414364457130432,
          "count": 118,
          "label": "OUI"
         },
         {
          "X": 0.5004889369010925,
          "Y": -0.3752165734767914,
          "count": 118,
          "label": "OUI"
         },
         {
          "X": 2.8399338722229004,
          "Y": 0.9212411046028137,
          "count": 118,
          "label": "OUI"
         },
         {
          "X": 0.7769594192504883,
          "Y": -0.937835156917572,
          "count": 118,
          "label": "OUI"
         },
         {
          "X": 1.9337143898010254,
          "Y": 0.7559248805046082,
          "count": 118,
          "label": "OUI"
         },
         {
          "X": 0.9383410811424255,
          "Y": -0.30791112780570984,
          "count": 49,
          "label": "DIRE"
         },
         {
          "X": 0.8493266105651855,
          "Y": 0.3709956705570221,
          "count": 49,
          "label": "DIRE"
         },
         {
          "X": -2.094820976257324,
          "Y": 0.9459067583084106,
          "count": 49,
          "label": "DIRE"
         },
         {
          "X": -0.010860791429877281,
          "Y": 0.7860143780708313,
          "count": 49,
          "label": "DIRE"
         },
         {
          "X": 0.8493266105651855,
          "Y": 0.3709956705570221,
          "count": 49,
          "label": "DIRE"
         },
         {
          "X": 2.189912796020508,
          "Y": -0.3414364457130432,
          "count": 49,
          "label": "DIRE"
         },
         {
          "X": 0.8493266105651855,
          "Y": 0.3709956705570221,
          "count": 49,
          "label": "DIRE"
         },
         {
          "X": 0.9383410811424255,
          "Y": -0.30791112780570984,
          "count": 49,
          "label": "DIRE"
         },
         {
          "X": 1.9337143898010254,
          "Y": 0.7559248805046082,
          "count": 49,
          "label": "DIRE"
         },
         {
          "X": 1.3840988874435425,
          "Y": -0.24738861620426178,
          "count": 49,
          "label": "DIRE"
         },
         {
          "X": -0.7890880703926086,
          "Y": -1.0077091455459595,
          "count": 49,
          "label": "DIRE"
         },
         {
          "X": -1.2051360607147217,
          "Y": 1.1815179586410522,
          "count": 49,
          "label": "DIRE"
         },
         {
          "X": 1.9539906978607178,
          "Y": 2.177903652191162,
          "count": 49,
          "label": "DIRE"
         },
         {
          "X": 0.8493266105651855,
          "Y": 0.3709956705570221,
          "count": 49,
          "label": "DIRE"
         },
         {
          "X": -0.038906216621398926,
          "Y": -1.3321967124938965,
          "count": 49,
          "label": "DIRE"
         },
         {
          "X": -0.010860791429877281,
          "Y": 0.7860143780708313,
          "count": 49,
          "label": "DIRE"
         },
         {
          "X": 1.7958910465240479,
          "Y": -1.4791693687438965,
          "count": 49,
          "label": "DIRE"
         },
         {
          "X": 0.8493266105651855,
          "Y": 0.3709956705570221,
          "count": 49,
          "label": "DIRE"
         },
         {
          "X": 2.8399338722229004,
          "Y": 0.9212411046028137,
          "count": 49,
          "label": "DIRE"
         },
         {
          "X": 1.5444684028625488,
          "Y": -2.3124451637268066,
          "count": 49,
          "label": "DIRE"
         },
         {
          "X": 0.8493266105651855,
          "Y": 0.3709956705570221,
          "count": 49,
          "label": "DIRE"
         },
         {
          "X": -0.7744936347007751,
          "Y": 0.43829581141471863,
          "count": 49,
          "label": "DIRE"
         },
         {
          "X": 0.8493266105651855,
          "Y": 0.3709956705570221,
          "count": 49,
          "label": "DIRE"
         },
         {
          "X": 0.8493266105651855,
          "Y": 0.3709956705570221,
          "count": 49,
          "label": "DIRE"
         },
         {
          "X": -0.7890880703926086,
          "Y": -1.0077091455459595,
          "count": 49,
          "label": "DIRE"
         },
         {
          "X": 0.12445073574781418,
          "Y": 0.05000607669353485,
          "count": 49,
          "label": "DIRE"
         },
         {
          "X": 0.8493266105651855,
          "Y": 0.3709956705570221,
          "count": 49,
          "label": "DIRE"
         },
         {
          "X": 0.7809913158416748,
          "Y": -2.468172311782837,
          "count": 49,
          "label": "DIRE"
         },
         {
          "X": -1.3968206644058228,
          "Y": -0.7054904103279114,
          "count": 49,
          "label": "DIRE"
         },
         {
          "X": 0.12445073574781418,
          "Y": 0.05000607669353485,
          "count": 49,
          "label": "DIRE"
         },
         {
          "X": -0.20227792859077454,
          "Y": 2.6058075428009033,
          "count": 49,
          "label": "DIRE"
         },
         {
          "X": 0.8493266105651855,
          "Y": 0.3709956705570221,
          "count": 49,
          "label": "DIRE"
         },
         {
          "X": -1.986215591430664,
          "Y": -1.3099150657653809,
          "count": 49,
          "label": "DIRE"
         },
         {
          "X": -1.669831395149231,
          "Y": 0.19383834302425385,
          "count": 49,
          "label": "DIRE"
         },
         {
          "X": 1.9539906978607178,
          "Y": 2.177903652191162,
          "count": 49,
          "label": "DIRE"
         },
         {
          "X": 0.12445073574781418,
          "Y": 0.05000607669353485,
          "count": 49,
          "label": "DIRE"
         },
         {
          "X": 0.2876945436000824,
          "Y": 1.8856663703918457,
          "count": 49,
          "label": "DIRE"
         },
         {
          "X": 0.7133759260177612,
          "Y": 1.2155088186264038,
          "count": 49,
          "label": "DIRE"
         },
         {
          "X": 1.9337143898010254,
          "Y": 0.7559248805046082,
          "count": 49,
          "label": "DIRE"
         },
         {
          "X": 1.5576236248016357,
          "Y": 0.37839797139167786,
          "count": 49,
          "label": "DIRE"
         },
         {
          "X": -0.7744936347007751,
          "Y": 0.43829581141471863,
          "count": 49,
          "label": "DIRE"
         },
         {
          "X": -1.3455700874328613,
          "Y": 1.0156828165054321,
          "count": 49,
          "label": "DIRE"
         },
         {
          "X": 0.9383410811424255,
          "Y": -0.30791112780570984,
          "count": 49,
          "label": "DIRE"
         },
         {
          "X": 0.9383410811424255,
          "Y": -0.30791112780570984,
          "count": 49,
          "label": "DIRE"
         },
         {
          "X": -0.7744936347007751,
          "Y": 0.43829581141471863,
          "count": 49,
          "label": "DIRE"
         },
         {
          "X": 0.7133759260177612,
          "Y": 1.2155088186264038,
          "count": 49,
          "label": "DIRE"
         },
         {
          "X": 1.4603018760681152,
          "Y": 1.5007543563842773,
          "count": 49,
          "label": "DIRE"
         },
         {
          "X": -0.8002203106880188,
          "Y": -1.5430399179458618,
          "count": 49,
          "label": "DIRE"
         },
         {
          "X": 0.7769594192504883,
          "Y": -0.937835156917572,
          "count": 49,
          "label": "DIRE"
         },
         {
          "X": -0.5734463334083557,
          "Y": 1.4404056072235107,
          "count": 56,
          "label": "RIEN "
         },
         {
          "X": -0.038906216621398926,
          "Y": -1.3321967124938965,
          "count": 56,
          "label": "RIEN "
         },
         {
          "X": 1.5444684028625488,
          "Y": -2.3124451637268066,
          "count": 56,
          "label": "RIEN "
         },
         {
          "X": 0.8493266105651855,
          "Y": 0.3709956705570221,
          "count": 56,
          "label": "RIEN "
         },
         {
          "X": 0.7569299340248108,
          "Y": -1.7701759338378906,
          "count": 56,
          "label": "RIEN "
         },
         {
          "X": -0.5316834449768066,
          "Y": -0.3826110363006592,
          "count": 56,
          "label": "RIEN "
         },
         {
          "X": 2.189912796020508,
          "Y": -0.3414364457130432,
          "count": 56,
          "label": "RIEN "
         },
         {
          "X": -0.7827644348144531,
          "Y": -1.1214321851730347,
          "count": 56,
          "label": "RIEN "
         },
         {
          "X": 0.3275226056575775,
          "Y": 1.327501893043518,
          "count": 56,
          "label": "RIEN "
         },
         {
          "X": -0.2342323362827301,
          "Y": -2.38041090965271,
          "count": 56,
          "label": "RIEN "
         },
         {
          "X": -0.5727768540382385,
          "Y": 0.19141483306884766,
          "count": 56,
          "label": "RIEN "
         },
         {
          "X": 0.12445073574781418,
          "Y": 0.05000607669353485,
          "count": 56,
          "label": "RIEN "
         },
         {
          "X": 0.12445073574781418,
          "Y": 0.05000607669353485,
          "count": 56,
          "label": "RIEN "
         },
         {
          "X": -1.986215591430664,
          "Y": -1.3099150657653809,
          "count": 56,
          "label": "RIEN "
         },
         {
          "X": -1.4802589416503906,
          "Y": -0.13927695155143738,
          "count": 56,
          "label": "RIEN "
         },
         {
          "X": 1.9337143898010254,
          "Y": 0.7559248805046082,
          "count": 56,
          "label": "RIEN "
         },
         {
          "X": 0.5037851333618164,
          "Y": -0.36826446652412415,
          "count": 56,
          "label": "RIEN "
         },
         {
          "X": 0.7769594192504883,
          "Y": -0.937835156917572,
          "count": 56,
          "label": "RIEN "
         },
         {
          "X": 0.7809913158416748,
          "Y": -2.468172311782837,
          "count": 56,
          "label": "RIEN "
         },
         {
          "X": 0.7133759260177612,
          "Y": 1.2155088186264038,
          "count": 56,
          "label": "RIEN "
         },
         {
          "X": 0.5059654712677002,
          "Y": -0.36345821619033813,
          "count": 56,
          "label": "RIEN "
         },
         {
          "X": 1.7958910465240479,
          "Y": -1.4791693687438965,
          "count": 56,
          "label": "RIEN "
         },
         {
          "X": 0.2876945436000824,
          "Y": 1.8856663703918457,
          "count": 56,
          "label": "RIEN "
         },
         {
          "X": 0.5215978622436523,
          "Y": -1.8576406240463257,
          "count": 56,
          "label": "RIEN "
         },
         {
          "X": 1.9337143898010254,
          "Y": 0.7559248805046082,
          "count": 56,
          "label": "RIEN "
         },
         {
          "X": -0.7744936347007751,
          "Y": 0.43829581141471863,
          "count": 56,
          "label": "RIEN "
         },
         {
          "X": -0.010860791429877281,
          "Y": 0.7860143780708313,
          "count": 56,
          "label": "RIEN "
         },
         {
          "X": 0.006693319883197546,
          "Y": -0.5674325227737427,
          "count": 56,
          "label": "RIEN "
         },
         {
          "X": 0.5004889369010925,
          "Y": -0.3752165734767914,
          "count": 56,
          "label": "RIEN "
         },
         {
          "X": -1.3455700874328613,
          "Y": 1.0156828165054321,
          "count": 56,
          "label": "RIEN "
         },
         {
          "X": 0.12445073574781418,
          "Y": 0.05000607669353485,
          "count": 56,
          "label": "RIEN "
         },
         {
          "X": -1.669831395149231,
          "Y": 0.19383834302425385,
          "count": 56,
          "label": "RIEN "
         },
         {
          "X": 0.7133759260177612,
          "Y": 1.2155088186264038,
          "count": 56,
          "label": "RIEN "
         },
         {
          "X": 0.08518155664205551,
          "Y": -0.5668357610702515,
          "count": 56,
          "label": "RIEN "
         },
         {
          "X": 1.9539906978607178,
          "Y": 2.177903652191162,
          "count": 56,
          "label": "RIEN "
         },
         {
          "X": 0.12445073574781418,
          "Y": 0.05000607669353485,
          "count": 56,
          "label": "RIEN "
         },
         {
          "X": -0.5288838148117065,
          "Y": -0.4518406093120575,
          "count": 56,
          "label": "RIEN "
         },
         {
          "X": 0.7809913158416748,
          "Y": -2.468172311782837,
          "count": 56,
          "label": "RIEN "
         },
         {
          "X": 1.4603018760681152,
          "Y": 1.5007543563842773,
          "count": 56,
          "label": "RIEN "
         },
         {
          "X": -0.7890880703926086,
          "Y": -1.0077091455459595,
          "count": 56,
          "label": "RIEN "
         },
         {
          "X": -1.0455948114395142,
          "Y": 0.62473464012146,
          "count": 56,
          "label": "RIEN "
         },
         {
          "X": 2.356484889984131,
          "Y": 1.6304043531417847,
          "count": 56,
          "label": "RIEN "
         },
         {
          "X": -0.2342323362827301,
          "Y": -2.38041090965271,
          "count": 56,
          "label": "RIEN "
         },
         {
          "X": -1.986215591430664,
          "Y": -1.3099150657653809,
          "count": 56,
          "label": "RIEN "
         },
         {
          "X": -0.010860791429877281,
          "Y": 0.7860143780708313,
          "count": 56,
          "label": "RIEN "
         },
         {
          "X": 1.490423321723938,
          "Y": -0.8618544936180115,
          "count": 56,
          "label": "RIEN "
         },
         {
          "X": 0.8493266105651855,
          "Y": 0.3709956705570221,
          "count": 56,
          "label": "RIEN "
         },
         {
          "X": 1.4603018760681152,
          "Y": 1.5007543563842773,
          "count": 56,
          "label": "RIEN "
         },
         {
          "X": 1.7958910465240479,
          "Y": -1.4791693687438965,
          "count": 56,
          "label": "RIEN "
         },
         {
          "X": -0.7520882487297058,
          "Y": -0.2695270776748657,
          "count": 56,
          "label": "RIEN "
         },
         {
          "X": -1.4802589416503906,
          "Y": -0.13927695155143738,
          "count": 56,
          "label": "RIEN "
         },
         {
          "X": 0.030435696244239807,
          "Y": 1.9478543996810913,
          "count": 56,
          "label": "RIEN "
         },
         {
          "X": -0.010860791429877281,
          "Y": 0.7860143780708313,
          "count": 56,
          "label": "RIEN "
         },
         {
          "X": 0.9383410811424255,
          "Y": -0.30791112780570984,
          "count": 56,
          "label": "RIEN "
         },
         {
          "X": -0.5316834449768066,
          "Y": -0.3826110363006592,
          "count": 56,
          "label": "RIEN "
         },
         {
          "X": 0.2876945436000824,
          "Y": 1.8856663703918457,
          "count": 56,
          "label": "RIEN "
         },
         {
          "X": 1.5576236248016357,
          "Y": 0.37839797139167786,
          "count": 96,
          "label": "QUOI"
         },
         {
          "X": -0.2342323362827301,
          "Y": -2.38041090965271,
          "count": 96,
          "label": "QUOI"
         },
         {
          "X": -0.7458605766296387,
          "Y": 2.3939642906188965,
          "count": 96,
          "label": "QUOI"
         },
         {
          "X": 0.9383410811424255,
          "Y": -0.30791112780570984,
          "count": 96,
          "label": "QUOI"
         },
         {
          "X": 0.5004889369010925,
          "Y": -0.3752165734767914,
          "count": 96,
          "label": "QUOI"
         },
         {
          "X": -1.433718204498291,
          "Y": -1.7712657451629639,
          "count": 96,
          "label": "QUOI"
         },
         {
          "X": 0.6420198082923889,
          "Y": -1.793840765953064,
          "count": 96,
          "label": "QUOI"
         },
         {
          "X": -1.0455948114395142,
          "Y": 0.62473464012146,
          "count": 96,
          "label": "QUOI"
         },
         {
          "X": 1.7958910465240479,
          "Y": -1.4791693687438965,
          "count": 96,
          "label": "QUOI"
         },
         {
          "X": -1.433718204498291,
          "Y": -1.7712657451629639,
          "count": 96,
          "label": "QUOI"
         },
         {
          "X": 2.2986629009246826,
          "Y": -2.04585337638855,
          "count": 96,
          "label": "QUOI"
         },
         {
          "X": -0.7520882487297058,
          "Y": -0.2695270776748657,
          "count": 96,
          "label": "QUOI"
         },
         {
          "X": -0.010860791429877281,
          "Y": 0.7860143780708313,
          "count": 96,
          "label": "QUOI"
         },
         {
          "X": 0.5022168159484863,
          "Y": -0.369074285030365,
          "count": 96,
          "label": "QUOI"
         },
         {
          "X": -0.7890880703926086,
          "Y": -1.0077091455459595,
          "count": 96,
          "label": "QUOI"
         },
         {
          "X": 0.5037851333618164,
          "Y": -0.36826446652412415,
          "count": 96,
          "label": "QUOI"
         },
         {
          "X": 0.7769594192504883,
          "Y": -0.937835156917572,
          "count": 96,
          "label": "QUOI"
         },
         {
          "X": 0.8493266105651855,
          "Y": 0.3709956705570221,
          "count": 96,
          "label": "QUOI"
         },
         {
          "X": 0.2876945436000824,
          "Y": 1.8856663703918457,
          "count": 96,
          "label": "QUOI"
         },
         {
          "X": -1.4802589416503906,
          "Y": -0.13927695155143738,
          "count": 96,
          "label": "QUOI"
         },
         {
          "X": 0.8493266105651855,
          "Y": 0.3709956705570221,
          "count": 96,
          "label": "QUOI"
         },
         {
          "X": 1.5444684028625488,
          "Y": -2.3124451637268066,
          "count": 96,
          "label": "QUOI"
         },
         {
          "X": 1.3840988874435425,
          "Y": -0.24738861620426178,
          "count": 96,
          "label": "QUOI"
         },
         {
          "X": 1.0381417274475098,
          "Y": 2.305878162384033,
          "count": 96,
          "label": "QUOI"
         },
         {
          "X": -1.372414469718933,
          "Y": 1.3572791814804077,
          "count": 96,
          "label": "QUOI"
         },
         {
          "X": 0.9383410811424255,
          "Y": -0.30791112780570984,
          "count": 96,
          "label": "QUOI"
         },
         {
          "X": -1.433718204498291,
          "Y": -1.7712657451629639,
          "count": 96,
          "label": "QUOI"
         },
         {
          "X": -0.5734463334083557,
          "Y": 1.4404056072235107,
          "count": 96,
          "label": "QUOI"
         },
         {
          "X": -0.7890880703926086,
          "Y": -1.0077091455459595,
          "count": 96,
          "label": "QUOI"
         },
         {
          "X": 1.9337143898010254,
          "Y": 0.7559248805046082,
          "count": 96,
          "label": "QUOI"
         },
         {
          "X": 2.8399338722229004,
          "Y": 0.9212411046028137,
          "count": 96,
          "label": "QUOI"
         },
         {
          "X": -1.3455700874328613,
          "Y": 1.0156828165054321,
          "count": 96,
          "label": "QUOI"
         },
         {
          "X": 0.7769594192504883,
          "Y": -0.937835156917572,
          "count": 96,
          "label": "QUOI"
         },
         {
          "X": 1.0381417274475098,
          "Y": 2.305878162384033,
          "count": 96,
          "label": "QUOI"
         },
         {
          "X": -0.038906216621398926,
          "Y": -1.3321967124938965,
          "count": 96,
          "label": "QUOI"
         },
         {
          "X": -0.7890880703926086,
          "Y": -1.0077091455459595,
          "count": 96,
          "label": "QUOI"
         },
         {
          "X": 3.1168785095214844,
          "Y": -0.411366730928421,
          "count": 96,
          "label": "QUOI"
         },
         {
          "X": -1.669831395149231,
          "Y": 0.19383834302425385,
          "count": 96,
          "label": "QUOI"
         },
         {
          "X": 1.0381417274475098,
          "Y": 2.305878162384033,
          "count": 96,
          "label": "QUOI"
         },
         {
          "X": -0.5263254046440125,
          "Y": -0.5030304193496704,
          "count": 96,
          "label": "QUOI"
         },
         {
          "X": 0.8493266105651855,
          "Y": 0.3709956705570221,
          "count": 96,
          "label": "QUOI"
         },
         {
          "X": -0.038906216621398926,
          "Y": -1.3321967124938965,
          "count": 96,
          "label": "QUOI"
         },
         {
          "X": 2.189912796020508,
          "Y": -0.3414364457130432,
          "count": 96,
          "label": "QUOI"
         },
         {
          "X": -1.3968206644058228,
          "Y": -0.7054904103279114,
          "count": 96,
          "label": "QUOI"
         },
         {
          "X": 1.4603018760681152,
          "Y": 1.5007543563842773,
          "count": 96,
          "label": "QUOI"
         },
         {
          "X": -1.3968206644058228,
          "Y": -0.7054904103279114,
          "count": 96,
          "label": "QUOI"
         },
         {
          "X": 1.0381417274475098,
          "Y": 2.305878162384033,
          "count": 96,
          "label": "QUOI"
         },
         {
          "X": 1.5576236248016357,
          "Y": 0.37839797139167786,
          "count": 96,
          "label": "QUOI"
         },
         {
          "X": 2.189912796020508,
          "Y": -0.3414364457130432,
          "count": 96,
          "label": "QUOI"
         },
         {
          "X": 1.7958910465240479,
          "Y": -1.4791693687438965,
          "count": 96,
          "label": "QUOI"
         },
         {
          "X": -0.7890880703926086,
          "Y": -1.0077091455459595,
          "count": 96,
          "label": "QUOI"
         },
         {
          "X": -0.010860791429877281,
          "Y": 0.7860143780708313,
          "count": 96,
          "label": "QUOI"
         },
         {
          "X": 0.12445073574781418,
          "Y": 0.05000607669353485,
          "count": 96,
          "label": "QUOI"
         },
         {
          "X": 1.9337143898010254,
          "Y": 0.7559248805046082,
          "count": 96,
          "label": "QUOI"
         },
         {
          "X": -0.7890880703926086,
          "Y": -1.0077091455459595,
          "count": 96,
          "label": "QUOI"
         },
         {
          "X": 0.8493266105651855,
          "Y": 0.3709956705570221,
          "count": 96,
          "label": "QUOI"
         },
         {
          "X": 2.8399338722229004,
          "Y": 0.9212411046028137,
          "count": 96,
          "label": "QUOI"
         },
         {
          "X": 0.8493266105651855,
          "Y": 0.3709956705570221,
          "count": 96,
          "label": "QUOI"
         },
         {
          "X": 0.7769594192504883,
          "Y": -0.937835156917572,
          "count": 96,
          "label": "QUOI"
         },
         {
          "X": 0.8493266105651855,
          "Y": 0.3709956705570221,
          "count": 96,
          "label": "QUOI"
         },
         {
          "X": -1.664787769317627,
          "Y": 1.7272974252700806,
          "count": 96,
          "label": "QUOI"
         },
         {
          "X": -0.5734463334083557,
          "Y": 1.4404056072235107,
          "count": 96,
          "label": "QUOI"
         },
         {
          "X": -1.664787769317627,
          "Y": 1.7272974252700806,
          "count": 96,
          "label": "QUOI"
         },
         {
          "X": 2.189912796020508,
          "Y": -0.3414364457130432,
          "count": 96,
          "label": "QUOI"
         },
         {
          "X": -0.535822331905365,
          "Y": -0.45780566334724426,
          "count": 96,
          "label": "QUOI"
         },
         {
          "X": 1.7958910465240479,
          "Y": -1.4791693687438965,
          "count": 96,
          "label": "QUOI"
         },
         {
          "X": -1.474680781364441,
          "Y": 0.5168231129646301,
          "count": 96,
          "label": "QUOI"
         },
         {
          "X": 1.9337143898010254,
          "Y": 0.7559248805046082,
          "count": 96,
          "label": "QUOI"
         },
         {
          "X": -0.7890880703926086,
          "Y": -1.0077091455459595,
          "count": 96,
          "label": "QUOI"
         },
         {
          "X": 0.7769594192504883,
          "Y": -0.937835156917572,
          "count": 96,
          "label": "QUOI"
         },
         {
          "X": 0.5022168159484863,
          "Y": -0.369074285030365,
          "count": 96,
          "label": "QUOI"
         },
         {
          "X": 0.8493266105651855,
          "Y": 0.3709956705570221,
          "count": 96,
          "label": "QUOI"
         },
         {
          "X": 3.1163887977600098,
          "Y": -0.36505642533302307,
          "count": 96,
          "label": "QUOI"
         },
         {
          "X": 2.189912796020508,
          "Y": -0.3414364457130432,
          "count": 96,
          "label": "QUOI"
         },
         {
          "X": -2.2484381198883057,
          "Y": -0.08005529642105103,
          "count": 96,
          "label": "QUOI"
         },
         {
          "X": 2.189912796020508,
          "Y": -0.3414364457130432,
          "count": 96,
          "label": "QUOI"
         },
         {
          "X": -0.5316834449768066,
          "Y": -0.3826110363006592,
          "count": 96,
          "label": "QUOI"
         },
         {
          "X": -0.010860791429877281,
          "Y": 0.7860143780708313,
          "count": 96,
          "label": "QUOI"
         },
         {
          "X": 0.7133759260177612,
          "Y": 1.2155088186264038,
          "count": 96,
          "label": "QUOI"
         },
         {
          "X": 1.7958910465240479,
          "Y": -1.4791693687438965,
          "count": 96,
          "label": "QUOI"
         },
         {
          "X": 1.490423321723938,
          "Y": -0.8618544936180115,
          "count": 96,
          "label": "QUOI"
         },
         {
          "X": -1.669831395149231,
          "Y": 0.19383834302425385,
          "count": 96,
          "label": "QUOI"
         },
         {
          "X": 1.3840988874435425,
          "Y": -0.24738861620426178,
          "count": 96,
          "label": "QUOI"
         },
         {
          "X": -0.6066305637359619,
          "Y": 0.047458481043577194,
          "count": 96,
          "label": "QUOI"
         },
         {
          "X": 0.3065185546875,
          "Y": -2.5074639320373535,
          "count": 96,
          "label": "QUOI"
         },
         {
          "X": 0.7133759260177612,
          "Y": 1.2155088186264038,
          "count": 96,
          "label": "QUOI"
         },
         {
          "X": 0.5004889369010925,
          "Y": -0.3752165734767914,
          "count": 96,
          "label": "QUOI"
         },
         {
          "X": 2.5816004276275635,
          "Y": -1.5323636531829834,
          "count": 96,
          "label": "QUOI"
         },
         {
          "X": 0.08518155664205551,
          "Y": -0.5668357610702515,
          "count": 96,
          "label": "QUOI"
         },
         {
          "X": 0.8493266105651855,
          "Y": 0.3709956705570221,
          "count": 96,
          "label": "QUOI"
         },
         {
          "X": -0.010860791429877281,
          "Y": 0.7860143780708313,
          "count": 96,
          "label": "QUOI"
         },
         {
          "X": 0.5021163821220398,
          "Y": -0.36915501952171326,
          "count": 96,
          "label": "QUOI"
         },
         {
          "X": -0.5316834449768066,
          "Y": -0.3826110363006592,
          "count": 96,
          "label": "QUOI"
         },
         {
          "X": -1.474680781364441,
          "Y": 0.5168231129646301,
          "count": 96,
          "label": "QUOI"
         },
         {
          "X": 0.08518155664205551,
          "Y": -0.5668357610702515,
          "count": 96,
          "label": "QUOI"
         },
         {
          "X": 1.0381417274475098,
          "Y": 2.305878162384033,
          "count": 96,
          "label": "QUOI"
         },
         {
          "X": 0.8493266105651855,
          "Y": 0.3709956705570221,
          "count": 77,
          "label": "MAIS"
         },
         {
          "X": -2.2484381198883057,
          "Y": -0.08005529642105103,
          "count": 77,
          "label": "MAIS"
         },
         {
          "X": -0.5734463334083557,
          "Y": 1.4404056072235107,
          "count": 77,
          "label": "MAIS"
         },
         {
          "X": 2.189912796020508,
          "Y": -0.3414364457130432,
          "count": 77,
          "label": "MAIS"
         },
         {
          "X": 1.490423321723938,
          "Y": -0.8618544936180115,
          "count": 77,
          "label": "MAIS"
         },
         {
          "X": 2.796124219894409,
          "Y": 0.428219199180603,
          "count": 77,
          "label": "MAIS"
         },
         {
          "X": -0.010860791429877281,
          "Y": 0.7860143780708313,
          "count": 77,
          "label": "MAIS"
         },
         {
          "X": 0.5215978622436523,
          "Y": -1.8576406240463257,
          "count": 77,
          "label": "MAIS"
         },
         {
          "X": 0.12445073574781418,
          "Y": 0.05000607669353485,
          "count": 77,
          "label": "MAIS"
         },
         {
          "X": -0.010860791429877281,
          "Y": 0.7860143780708313,
          "count": 77,
          "label": "MAIS"
         },
         {
          "X": 2.5976979732513428,
          "Y": 1.3837021589279175,
          "count": 77,
          "label": "MAIS"
         },
         {
          "X": -0.7744936347007751,
          "Y": 0.43829581141471863,
          "count": 77,
          "label": "MAIS"
         },
         {
          "X": -2.2484381198883057,
          "Y": -0.08005529642105103,
          "count": 77,
          "label": "MAIS"
         },
         {
          "X": -0.010860791429877281,
          "Y": 0.7860143780708313,
          "count": 77,
          "label": "MAIS"
         },
         {
          "X": -0.2342323362827301,
          "Y": -2.38041090965271,
          "count": 77,
          "label": "MAIS"
         },
         {
          "X": 0.7569299340248108,
          "Y": -1.7701759338378906,
          "count": 77,
          "label": "MAIS"
         },
         {
          "X": 2.8399338722229004,
          "Y": 0.9212411046028137,
          "count": 77,
          "label": "MAIS"
         },
         {
          "X": -0.010860791429877281,
          "Y": 0.7860143780708313,
          "count": 77,
          "label": "MAIS"
         },
         {
          "X": 2.2986629009246826,
          "Y": -2.04585337638855,
          "count": 77,
          "label": "MAIS"
         },
         {
          "X": 1.0381417274475098,
          "Y": 2.305878162384033,
          "count": 77,
          "label": "MAIS"
         },
         {
          "X": 0.12445073574781418,
          "Y": 0.05000607669353485,
          "count": 77,
          "label": "MAIS"
         },
         {
          "X": -1.4802589416503906,
          "Y": -0.13927695155143738,
          "count": 77,
          "label": "MAIS"
         },
         {
          "X": 0.08518155664205551,
          "Y": -0.5668357610702515,
          "count": 77,
          "label": "MAIS"
         },
         {
          "X": 0.7769594192504883,
          "Y": -0.937835156917572,
          "count": 77,
          "label": "MAIS"
         },
         {
          "X": 2.189912796020508,
          "Y": -0.3414364457130432,
          "count": 77,
          "label": "MAIS"
         },
         {
          "X": -1.433718204498291,
          "Y": -1.7712657451629639,
          "count": 77,
          "label": "MAIS"
         },
         {
          "X": 0.5059654712677002,
          "Y": -0.36345821619033813,
          "count": 77,
          "label": "MAIS"
         },
         {
          "X": 1.0381417274475098,
          "Y": 2.305878162384033,
          "count": 77,
          "label": "MAIS"
         },
         {
          "X": 2.8399338722229004,
          "Y": 0.9212411046028137,
          "count": 77,
          "label": "MAIS"
         },
         {
          "X": -0.5734463334083557,
          "Y": 1.4404056072235107,
          "count": 77,
          "label": "MAIS"
         },
         {
          "X": 2.8399338722229004,
          "Y": 0.9212411046028137,
          "count": 77,
          "label": "MAIS"
         },
         {
          "X": 0.030435696244239807,
          "Y": 1.9478543996810913,
          "count": 77,
          "label": "MAIS"
         },
         {
          "X": 2.189912796020508,
          "Y": -0.3414364457130432,
          "count": 77,
          "label": "MAIS"
         },
         {
          "X": 0.8493266105651855,
          "Y": 0.3709956705570221,
          "count": 77,
          "label": "MAIS"
         },
         {
          "X": -1.4802589416503906,
          "Y": -0.13927695155143738,
          "count": 77,
          "label": "MAIS"
         },
         {
          "X": -0.20227792859077454,
          "Y": 2.6058075428009033,
          "count": 77,
          "label": "MAIS"
         },
         {
          "X": 0.12445073574781418,
          "Y": 0.05000607669353485,
          "count": 77,
          "label": "MAIS"
         },
         {
          "X": 1.0381417274475098,
          "Y": 2.305878162384033,
          "count": 77,
          "label": "MAIS"
         },
         {
          "X": 1.1252766847610474,
          "Y": -1.8188939094543457,
          "count": 77,
          "label": "MAIS"
         },
         {
          "X": -0.038906216621398926,
          "Y": -1.3321967124938965,
          "count": 77,
          "label": "MAIS"
         },
         {
          "X": 0.12445073574781418,
          "Y": 0.05000607669353485,
          "count": 77,
          "label": "MAIS"
         },
         {
          "X": -0.5734463334083557,
          "Y": 1.4404056072235107,
          "count": 77,
          "label": "MAIS"
         },
         {
          "X": 0.8493266105651855,
          "Y": 0.3709956705570221,
          "count": 77,
          "label": "MAIS"
         },
         {
          "X": 0.7133759260177612,
          "Y": 1.2155088186264038,
          "count": 77,
          "label": "MAIS"
         },
         {
          "X": -0.8977599740028381,
          "Y": -2.1725804805755615,
          "count": 77,
          "label": "MAIS"
         },
         {
          "X": -0.7744936347007751,
          "Y": 0.43829581141471863,
          "count": 77,
          "label": "MAIS"
         },
         {
          "X": 0.8493266105651855,
          "Y": 0.3709956705570221,
          "count": 77,
          "label": "MAIS"
         },
         {
          "X": 0.5037851333618164,
          "Y": -0.36826446652412415,
          "count": 77,
          "label": "MAIS"
         },
         {
          "X": -0.038906216621398926,
          "Y": -1.3321967124938965,
          "count": 77,
          "label": "MAIS"
         },
         {
          "X": 0.7133759260177612,
          "Y": 1.2155088186264038,
          "count": 77,
          "label": "MAIS"
         },
         {
          "X": 1.7958910465240479,
          "Y": -1.4791693687438965,
          "count": 77,
          "label": "MAIS"
         },
         {
          "X": -1.3968206644058228,
          "Y": -0.7054904103279114,
          "count": 77,
          "label": "MAIS"
         },
         {
          "X": -0.5734463334083557,
          "Y": 1.4404056072235107,
          "count": 77,
          "label": "MAIS"
         },
         {
          "X": 3.1184773445129395,
          "Y": 0.05429292470216751,
          "count": 77,
          "label": "MAIS"
         },
         {
          "X": 0.12445073574781418,
          "Y": 0.05000607669353485,
          "count": 77,
          "label": "MAIS"
         },
         {
          "X": -1.664787769317627,
          "Y": 1.7272974252700806,
          "count": 77,
          "label": "MAIS"
         },
         {
          "X": 1.4603018760681152,
          "Y": 1.5007543563842773,
          "count": 77,
          "label": "MAIS"
         },
         {
          "X": 0.3275226056575775,
          "Y": 1.327501893043518,
          "count": 77,
          "label": "MAIS"
         },
         {
          "X": 0.7769594192504883,
          "Y": -0.937835156917572,
          "count": 77,
          "label": "MAIS"
         },
         {
          "X": 0.7769594192504883,
          "Y": -0.937835156917572,
          "count": 77,
          "label": "MAIS"
         },
         {
          "X": -1.1061962842941284,
          "Y": 2.2150063514709473,
          "count": 77,
          "label": "MAIS"
         },
         {
          "X": 0.8493266105651855,
          "Y": 0.3709956705570221,
          "count": 77,
          "label": "MAIS"
         },
         {
          "X": 3.056864023208618,
          "Y": 0.18146811425685883,
          "count": 77,
          "label": "MAIS"
         },
         {
          "X": 0.12445073574781418,
          "Y": 0.05000607669353485,
          "count": 77,
          "label": "MAIS"
         },
         {
          "X": 0.08518155664205551,
          "Y": -0.5668357610702515,
          "count": 77,
          "label": "MAIS"
         },
         {
          "X": 0.7809913158416748,
          "Y": -2.468172311782837,
          "count": 77,
          "label": "MAIS"
         },
         {
          "X": 2.8399338722229004,
          "Y": 0.9212411046028137,
          "count": 77,
          "label": "MAIS"
         },
         {
          "X": -0.038906216621398926,
          "Y": -1.3321967124938965,
          "count": 77,
          "label": "MAIS"
         },
         {
          "X": -0.8977599740028381,
          "Y": -2.1725804805755615,
          "count": 77,
          "label": "MAIS"
         },
         {
          "X": 0.5021163821220398,
          "Y": -0.36915501952171326,
          "count": 77,
          "label": "MAIS"
         },
         {
          "X": 0.006693319883197546,
          "Y": -0.5674325227737427,
          "count": 77,
          "label": "MAIS"
         },
         {
          "X": -0.010860791429877281,
          "Y": 0.7860143780708313,
          "count": 77,
          "label": "MAIS"
         },
         {
          "X": -1.0455948114395142,
          "Y": 0.62473464012146,
          "count": 77,
          "label": "MAIS"
         },
         {
          "X": -0.038906216621398926,
          "Y": -1.3321967124938965,
          "count": 77,
          "label": "MAIS"
         },
         {
          "X": 0.9383410811424255,
          "Y": -0.30791112780570984,
          "count": 77,
          "label": "MAIS"
         },
         {
          "X": 0.9383410811424255,
          "Y": -0.30791112780570984,
          "count": 77,
          "label": "MAIS"
         },
         {
          "X": -0.5734463334083557,
          "Y": 1.4404056072235107,
          "count": 77,
          "label": "MAIS"
         },
         {
          "X": -1.4223387241363525,
          "Y": -1.1469751596450806,
          "count": 52,
          "label": "PLUS.P"
         },
         {
          "X": 0.08518155664205551,
          "Y": -0.5668357610702515,
          "count": 52,
          "label": "PLUS.P"
         },
         {
          "X": 0.5021993517875671,
          "Y": -0.3690900206565857,
          "count": 52,
          "label": "PLUS.P"
         },
         {
          "X": -1.3968206644058228,
          "Y": -0.7054904103279114,
          "count": 52,
          "label": "PLUS.P"
         },
         {
          "X": 1.5576236248016357,
          "Y": 0.37839797139167786,
          "count": 52,
          "label": "PLUS.P"
         },
         {
          "X": 2.189912796020508,
          "Y": -0.3414364457130432,
          "count": 52,
          "label": "PLUS.P"
         },
         {
          "X": -0.010860791429877281,
          "Y": 0.7860143780708313,
          "count": 52,
          "label": "PLUS.P"
         },
         {
          "X": 0.7769594192504883,
          "Y": -0.937835156917572,
          "count": 52,
          "label": "PLUS.P"
         },
         {
          "X": 1.9337143898010254,
          "Y": 0.7559248805046082,
          "count": 52,
          "label": "PLUS.P"
         },
         {
          "X": 2.189912796020508,
          "Y": -0.3414364457130432,
          "count": 52,
          "label": "PLUS.P"
         },
         {
          "X": 0.12445073574781418,
          "Y": 0.05000607669353485,
          "count": 52,
          "label": "PLUS.P"
         },
         {
          "X": -0.010860791429877281,
          "Y": 0.7860143780708313,
          "count": 52,
          "label": "PLUS.P"
         },
         {
          "X": 0.4047434628009796,
          "Y": 2.6628003120422363,
          "count": 52,
          "label": "PLUS.P"
         },
         {
          "X": -0.010860791429877281,
          "Y": 0.7860143780708313,
          "count": 52,
          "label": "PLUS.P"
         },
         {
          "X": 1.7958910465240479,
          "Y": -1.4791693687438965,
          "count": 52,
          "label": "PLUS.P"
         },
         {
          "X": 1.5444684028625488,
          "Y": -2.3124451637268066,
          "count": 52,
          "label": "PLUS.P"
         },
         {
          "X": 0.12445073574781418,
          "Y": 0.05000607669353485,
          "count": 52,
          "label": "PLUS.P"
         },
         {
          "X": 0.8493266105651855,
          "Y": 0.3709956705570221,
          "count": 52,
          "label": "PLUS.P"
         },
         {
          "X": 0.7133759260177612,
          "Y": 1.2155088186264038,
          "count": 52,
          "label": "PLUS.P"
         },
         {
          "X": 1.1252766847610474,
          "Y": -1.8188939094543457,
          "count": 52,
          "label": "PLUS.P"
         },
         {
          "X": 1.9337143898010254,
          "Y": 0.7559248805046082,
          "count": 52,
          "label": "PLUS.P"
         },
         {
          "X": 0.7769594192504883,
          "Y": -0.937835156917572,
          "count": 52,
          "label": "PLUS.P"
         },
         {
          "X": -1.3455700874328613,
          "Y": 1.0156828165054321,
          "count": 52,
          "label": "PLUS.P"
         },
         {
          "X": 0.12445073574781418,
          "Y": 0.05000607669353485,
          "count": 52,
          "label": "PLUS.P"
         },
         {
          "X": 1.9337143898010254,
          "Y": 0.7559248805046082,
          "count": 52,
          "label": "PLUS.P"
         },
         {
          "X": -0.8932654857635498,
          "Y": 2.2788407802581787,
          "count": 52,
          "label": "PLUS.P"
         },
         {
          "X": -2.094820976257324,
          "Y": 0.9459067583084106,
          "count": 52,
          "label": "PLUS.P"
         },
         {
          "X": 0.054940976202487946,
          "Y": 1.9244228601455688,
          "count": 52,
          "label": "PLUS.P"
         },
         {
          "X": 2.8062100410461426,
          "Y": 0.41145914793014526,
          "count": 52,
          "label": "PLUS.P"
         },
         {
          "X": 1.7958910465240479,
          "Y": -1.4791693687438965,
          "count": 52,
          "label": "PLUS.P"
         },
         {
          "X": 1.565230369567871,
          "Y": 0.3735778033733368,
          "count": 52,
          "label": "PLUS.P"
         },
         {
          "X": 1.9337143898010254,
          "Y": 0.7559248805046082,
          "count": 52,
          "label": "PLUS.P"
         },
         {
          "X": 0.8493266105651855,
          "Y": 0.3709956705570221,
          "count": 52,
          "label": "PLUS.P"
         },
         {
          "X": 0.9383410811424255,
          "Y": -0.30791112780570984,
          "count": 52,
          "label": "PLUS.P"
         },
         {
          "X": 1.7958910465240479,
          "Y": -1.4791693687438965,
          "count": 52,
          "label": "PLUS.P"
         },
         {
          "X": 1.4603018760681152,
          "Y": 1.5007543563842773,
          "count": 52,
          "label": "PLUS.P"
         },
         {
          "X": -1.433718204498291,
          "Y": -1.7712657451629639,
          "count": 52,
          "label": "PLUS.P"
         },
         {
          "X": 0.12445073574781418,
          "Y": 0.05000607669353485,
          "count": 52,
          "label": "PLUS.P"
         },
         {
          "X": 1.3840988874435425,
          "Y": -0.24738861620426178,
          "count": 52,
          "label": "PLUS.P"
         },
         {
          "X": 1.5444684028625488,
          "Y": -2.3124451637268066,
          "count": 52,
          "label": "PLUS.P"
         },
         {
          "X": -1.3455700874328613,
          "Y": 1.0156828165054321,
          "count": 52,
          "label": "PLUS.P"
         },
         {
          "X": 0.7133759260177612,
          "Y": 1.2155088186264038,
          "count": 52,
          "label": "PLUS.P"
         },
         {
          "X": 0.4047434628009796,
          "Y": 2.6628003120422363,
          "count": 52,
          "label": "PLUS.P"
         },
         {
          "X": 0.8493266105651855,
          "Y": 0.3709956705570221,
          "count": 52,
          "label": "PLUS.P"
         },
         {
          "X": 0.7769594192504883,
          "Y": -0.937835156917572,
          "count": 52,
          "label": "PLUS.P"
         },
         {
          "X": 1.9337143898010254,
          "Y": 0.7559248805046082,
          "count": 52,
          "label": "PLUS.P"
         },
         {
          "X": 2.356484889984131,
          "Y": 1.6304043531417847,
          "count": 52,
          "label": "PLUS.P"
         },
         {
          "X": -0.038906216621398926,
          "Y": -1.3321967124938965,
          "count": 52,
          "label": "PLUS.P"
         },
         {
          "X": -1.664787769317627,
          "Y": 1.7272974252700806,
          "count": 52,
          "label": "PLUS.P"
         },
         {
          "X": -0.010860791429877281,
          "Y": 0.7860143780708313,
          "count": 52,
          "label": "PLUS.P"
         },
         {
          "X": 0.7809913158416748,
          "Y": -2.468172311782837,
          "count": 52,
          "label": "PLUS.P"
         },
         {
          "X": 1.227840542793274,
          "Y": 1.0427117347717285,
          "count": 52,
          "label": "PLUS.P"
         },
         {
          "X": -0.20227792859077454,
          "Y": 2.6058075428009033,
          "count": 116,
          "label": "GSIGN"
         },
         {
          "X": 0.12445073574781418,
          "Y": 0.05000607669353485,
          "count": 116,
          "label": "GSIGN"
         },
         {
          "X": -1.664787769317627,
          "Y": 1.7272974252700806,
          "count": 116,
          "label": "GSIGN"
         },
         {
          "X": -0.2342323362827301,
          "Y": -2.38041090965271,
          "count": 116,
          "label": "GSIGN"
         },
         {
          "X": -1.4223387241363525,
          "Y": -1.1469751596450806,
          "count": 116,
          "label": "GSIGN"
         },
         {
          "X": 0.12445073574781418,
          "Y": 0.05000607669353485,
          "count": 116,
          "label": "GSIGN"
         },
         {
          "X": 0.9383410811424255,
          "Y": -0.30791112780570984,
          "count": 116,
          "label": "GSIGN"
         },
         {
          "X": 0.7769594192504883,
          "Y": -0.937835156917572,
          "count": 116,
          "label": "GSIGN"
         },
         {
          "X": -1.433718204498291,
          "Y": -1.7712657451629639,
          "count": 116,
          "label": "GSIGN"
         },
         {
          "X": 1.9539906978607178,
          "Y": 2.177903652191162,
          "count": 116,
          "label": "GSIGN"
         },
         {
          "X": -0.7744936347007751,
          "Y": 0.43829581141471863,
          "count": 116,
          "label": "GSIGN"
         },
         {
          "X": -0.038906216621398926,
          "Y": -1.3321967124938965,
          "count": 116,
          "label": "GSIGN"
         },
         {
          "X": 0.5059654712677002,
          "Y": -0.36345821619033813,
          "count": 116,
          "label": "GSIGN"
         },
         {
          "X": -2.330791473388672,
          "Y": 0.45270487666130066,
          "count": 116,
          "label": "GSIGN"
         },
         {
          "X": 0.8493266105651855,
          "Y": 0.3709956705570221,
          "count": 116,
          "label": "GSIGN"
         },
         {
          "X": 0.12445073574781418,
          "Y": 0.05000607669353485,
          "count": 116,
          "label": "GSIGN"
         },
         {
          "X": -0.6066305637359619,
          "Y": 0.047458481043577194,
          "count": 116,
          "label": "GSIGN"
         },
         {
          "X": 0.12445073574781418,
          "Y": 0.05000607669353485,
          "count": 116,
          "label": "GSIGN"
         },
         {
          "X": 1.5576236248016357,
          "Y": 0.37839797139167786,
          "count": 116,
          "label": "GSIGN"
         },
         {
          "X": 2.189912796020508,
          "Y": -0.3414364457130432,
          "count": 116,
          "label": "GSIGN"
         },
         {
          "X": 0.311575323343277,
          "Y": -2.505739450454712,
          "count": 116,
          "label": "GSIGN"
         },
         {
          "X": 2.923506736755371,
          "Y": -0.958000123500824,
          "count": 116,
          "label": "GSIGN"
         },
         {
          "X": 2.6689469814300537,
          "Y": -1.2330992221832275,
          "count": 116,
          "label": "GSIGN"
         },
         {
          "X": -2.168177843093872,
          "Y": -0.8271084427833557,
          "count": 116,
          "label": "GSIGN"
         },
         {
          "X": -2.1734933853149414,
          "Y": -0.8107757568359375,
          "count": 116,
          "label": "GSIGN"
         },
         {
          "X": -0.5734463334083557,
          "Y": 1.4404056072235107,
          "count": 116,
          "label": "GSIGN"
         },
         {
          "X": 0.3275226056575775,
          "Y": 1.327501893043518,
          "count": 116,
          "label": "GSIGN"
         },
         {
          "X": 0.06318021565675735,
          "Y": 1.9193215370178223,
          "count": 116,
          "label": "GSIGN"
         },
         {
          "X": 2.923506736755371,
          "Y": -0.958000123500824,
          "count": 116,
          "label": "GSIGN"
         },
         {
          "X": 0.3275226056575775,
          "Y": 1.327501893043518,
          "count": 116,
          "label": "GSIGN"
         },
         {
          "X": -0.5263254046440125,
          "Y": -0.5030304193496704,
          "count": 116,
          "label": "GSIGN"
         },
         {
          "X": 0.12445073574781418,
          "Y": 0.05000607669353485,
          "count": 116,
          "label": "GSIGN"
         },
         {
          "X": 1.0381417274475098,
          "Y": 2.305878162384033,
          "count": 116,
          "label": "GSIGN"
         },
         {
          "X": -1.4223387241363525,
          "Y": -1.1469751596450806,
          "count": 116,
          "label": "GSIGN"
         },
         {
          "X": 0.8493266105651855,
          "Y": 0.3709956705570221,
          "count": 116,
          "label": "GSIGN"
         },
         {
          "X": -0.038906216621398926,
          "Y": -1.3321967124938965,
          "count": 116,
          "label": "GSIGN"
         },
         {
          "X": 0.8493266105651855,
          "Y": 0.3709956705570221,
          "count": 116,
          "label": "GSIGN"
         },
         {
          "X": 0.7133759260177612,
          "Y": 1.2155088186264038,
          "count": 116,
          "label": "GSIGN"
         },
         {
          "X": -1.433718204498291,
          "Y": -1.7712657451629639,
          "count": 116,
          "label": "GSIGN"
         },
         {
          "X": 0.5059654712677002,
          "Y": -0.36345821619033813,
          "count": 116,
          "label": "GSIGN"
         },
         {
          "X": 1.227840542793274,
          "Y": 1.0427117347717285,
          "count": 116,
          "label": "GSIGN"
         },
         {
          "X": 2.796124219894409,
          "Y": 0.428219199180603,
          "count": 116,
          "label": "GSIGN"
         },
         {
          "X": -0.038906216621398926,
          "Y": -1.3321967124938965,
          "count": 116,
          "label": "GSIGN"
         },
         {
          "X": -0.7520882487297058,
          "Y": -0.2695270776748657,
          "count": 116,
          "label": "GSIGN"
         },
         {
          "X": -0.5263254046440125,
          "Y": -0.5030304193496704,
          "count": 116,
          "label": "GSIGN"
         },
         {
          "X": -0.7458605766296387,
          "Y": 2.3939642906188965,
          "count": 116,
          "label": "GSIGN"
         },
         {
          "X": -1.34554123878479,
          "Y": 0.9518899321556091,
          "count": 116,
          "label": "GSIGN"
         },
         {
          "X": 1.4603018760681152,
          "Y": 1.5007543563842773,
          "count": 116,
          "label": "GSIGN"
         },
         {
          "X": 0.12445073574781418,
          "Y": 0.05000607669353485,
          "count": 116,
          "label": "GSIGN"
         },
         {
          "X": 2.2986629009246826,
          "Y": -2.04585337638855,
          "count": 116,
          "label": "GSIGN"
         },
         {
          "X": 3.119617223739624,
          "Y": -0.13792037963867188,
          "count": 116,
          "label": "GSIGN"
         },
         {
          "X": 0.7769594192504883,
          "Y": -0.937835156917572,
          "count": 116,
          "label": "GSIGN"
         },
         {
          "X": 0.2876945436000824,
          "Y": 1.8856663703918457,
          "count": 116,
          "label": "GSIGN"
         },
         {
          "X": 3.119617223739624,
          "Y": -0.13792037963867188,
          "count": 116,
          "label": "GSIGN"
         },
         {
          "X": 0.8493266105651855,
          "Y": 0.3709956705570221,
          "count": 116,
          "label": "GSIGN"
         },
         {
          "X": 0.08518155664205551,
          "Y": -0.5668357610702515,
          "count": 116,
          "label": "GSIGN"
         },
         {
          "X": 1.5444684028625488,
          "Y": -2.3124451637268066,
          "count": 116,
          "label": "GSIGN"
         },
         {
          "X": -0.7744936347007751,
          "Y": 0.43829581141471863,
          "count": 116,
          "label": "GSIGN"
         },
         {
          "X": -1.3457872867584229,
          "Y": 0.9522409439086914,
          "count": 116,
          "label": "GSIGN"
         },
         {
          "X": 0.8493266105651855,
          "Y": 0.3709956705570221,
          "count": 116,
          "label": "GSIGN"
         },
         {
          "X": 1.490423321723938,
          "Y": -0.8618544936180115,
          "count": 116,
          "label": "GSIGN"
         },
         {
          "X": 0.9383410811424255,
          "Y": -0.30791112780570984,
          "count": 116,
          "label": "GSIGN"
         },
         {
          "X": -0.038906216621398926,
          "Y": -1.3321967124938965,
          "count": 116,
          "label": "GSIGN"
         },
         {
          "X": 1.7958910465240479,
          "Y": -1.4791693687438965,
          "count": 116,
          "label": "GSIGN"
         },
         {
          "X": 0.7133759260177612,
          "Y": 1.2155088186264038,
          "count": 116,
          "label": "GSIGN"
         },
         {
          "X": 0.5004889369010925,
          "Y": -0.3752165734767914,
          "count": 116,
          "label": "GSIGN"
         },
         {
          "X": 0.5043330192565918,
          "Y": -0.36959728598594666,
          "count": 116,
          "label": "GSIGN"
         },
         {
          "X": 1.0381417274475098,
          "Y": 2.305878162384033,
          "count": 116,
          "label": "GSIGN"
         },
         {
          "X": -0.7520882487297058,
          "Y": -0.2695270776748657,
          "count": 116,
          "label": "GSIGN"
         },
         {
          "X": -1.433718204498291,
          "Y": -1.7712657451629639,
          "count": 116,
          "label": "GSIGN"
         },
         {
          "X": 0.7769594192504883,
          "Y": -0.937835156917572,
          "count": 116,
          "label": "GSIGN"
         },
         {
          "X": -1.3968206644058228,
          "Y": -0.7054904103279114,
          "count": 116,
          "label": "GSIGN"
         },
         {
          "X": 0.9383410811424255,
          "Y": -0.30791112780570984,
          "count": 116,
          "label": "GSIGN"
         },
         {
          "X": -1.3000863790512085,
          "Y": 1.9862135648727417,
          "count": 116,
          "label": "GSIGN"
         },
         {
          "X": 0.7809913158416748,
          "Y": -2.468172311782837,
          "count": 116,
          "label": "GSIGN"
         },
         {
          "X": 0.9383410811424255,
          "Y": -0.30791112780570984,
          "count": 116,
          "label": "GSIGN"
         },
         {
          "X": 0.12445073574781418,
          "Y": 0.05000607669353485,
          "count": 116,
          "label": "GSIGN"
         },
         {
          "X": -0.038906216621398926,
          "Y": -1.3321967124938965,
          "count": 116,
          "label": "GSIGN"
         },
         {
          "X": -0.535822331905365,
          "Y": -0.45780566334724426,
          "count": 116,
          "label": "GSIGN"
         },
         {
          "X": 1.0381417274475098,
          "Y": 2.305878162384033,
          "count": 116,
          "label": "GSIGN"
         },
         {
          "X": 0.12445073574781418,
          "Y": 0.05000607669353485,
          "count": 116,
          "label": "GSIGN"
         },
         {
          "X": -1.433718204498291,
          "Y": -1.7712657451629639,
          "count": 116,
          "label": "GSIGN"
         },
         {
          "X": -0.010860791429877281,
          "Y": 0.7860143780708313,
          "count": 116,
          "label": "GSIGN"
         },
         {
          "X": 0.19849514961242676,
          "Y": 2.5399622917175293,
          "count": 116,
          "label": "GSIGN"
         },
         {
          "X": -0.2342323362827301,
          "Y": -2.38041090965271,
          "count": 116,
          "label": "GSIGN"
         },
         {
          "X": 0.9383410811424255,
          "Y": -0.30791112780570984,
          "count": 116,
          "label": "GSIGN"
         },
         {
          "X": 0.7133759260177612,
          "Y": 1.2155088186264038,
          "count": 116,
          "label": "GSIGN"
         },
         {
          "X": -0.8002203106880188,
          "Y": -1.5430399179458618,
          "count": 116,
          "label": "GSIGN"
         },
         {
          "X": 0.12445073574781418,
          "Y": 0.05000607669353485,
          "count": 116,
          "label": "GSIGN"
         },
         {
          "X": 0.12445073574781418,
          "Y": 0.05000607669353485,
          "count": 116,
          "label": "GSIGN"
         },
         {
          "X": 1.227840542793274,
          "Y": 1.0427117347717285,
          "count": 116,
          "label": "GSIGN"
         },
         {
          "X": 2.923506736755371,
          "Y": -0.958000123500824,
          "count": 116,
          "label": "GSIGN"
         },
         {
          "X": -0.038906216621398926,
          "Y": -1.3321967124938965,
          "count": 116,
          "label": "GSIGN"
         },
         {
          "X": 0.6420198082923889,
          "Y": -1.793840765953064,
          "count": 116,
          "label": "GSIGN"
         },
         {
          "X": 0.7769594192504883,
          "Y": -0.937835156917572,
          "count": 116,
          "label": "GSIGN"
         },
         {
          "X": -0.010860791429877281,
          "Y": 0.7860143780708313,
          "count": 116,
          "label": "GSIGN"
         },
         {
          "X": 0.8493266105651855,
          "Y": 0.3709956705570221,
          "count": 116,
          "label": "GSIGN"
         },
         {
          "X": -0.010860791429877281,
          "Y": 0.7860143780708313,
          "count": 116,
          "label": "GSIGN"
         },
         {
          "X": 0.9383410811424255,
          "Y": -0.30791112780570984,
          "count": 116,
          "label": "GSIGN"
         },
         {
          "X": 0.12445073574781418,
          "Y": 0.05000607669353485,
          "count": 116,
          "label": "GSIGN"
         },
         {
          "X": 1.7958910465240479,
          "Y": -1.4791693687438965,
          "count": 116,
          "label": "GSIGN"
         },
         {
          "X": -1.0455948114395142,
          "Y": 0.62473464012146,
          "count": 116,
          "label": "GSIGN"
         },
         {
          "X": 0.12445073574781418,
          "Y": 0.05000607669353485,
          "count": 116,
          "label": "GSIGN"
         },
         {
          "X": -2.094820976257324,
          "Y": 0.9459067583084106,
          "count": 116,
          "label": "GSIGN"
         },
         {
          "X": -0.010860791429877281,
          "Y": 0.7860143780708313,
          "count": 116,
          "label": "GSIGN"
         },
         {
          "X": -0.8977599740028381,
          "Y": -2.1725804805755615,
          "count": 116,
          "label": "GSIGN"
         },
         {
          "X": -0.038906216621398926,
          "Y": -1.3321967124938965,
          "count": 116,
          "label": "GSIGN"
         },
         {
          "X": 2.189912796020508,
          "Y": -0.3414364457130432,
          "count": 116,
          "label": "GSIGN"
         },
         {
          "X": -0.038906216621398926,
          "Y": -1.3321967124938965,
          "count": 116,
          "label": "GSIGN"
         },
         {
          "X": 0.12445073574781418,
          "Y": 0.05000607669353485,
          "count": 116,
          "label": "GSIGN"
         },
         {
          "X": 1.9337143898010254,
          "Y": 0.7559248805046082,
          "count": 116,
          "label": "GSIGN"
         },
         {
          "X": -1.3455700874328613,
          "Y": 1.0156828165054321,
          "count": 116,
          "label": "GSIGN"
         },
         {
          "X": -1.433718204498291,
          "Y": -1.7712657451629639,
          "count": 116,
          "label": "GSIGN"
         },
         {
          "X": 0.8493266105651855,
          "Y": 0.3709956705570221,
          "count": 116,
          "label": "GSIGN"
         },
         {
          "X": -1.3374443054199219,
          "Y": 0.9789514541625977,
          "count": 116,
          "label": "GSIGN"
         },
         {
          "X": -1.3968206644058228,
          "Y": -0.7054904103279114,
          "count": 116,
          "label": "GSIGN"
         },
         {
          "X": 0.7769594192504883,
          "Y": -0.937835156917572,
          "count": 69,
          "label": "FALLOIR"
         },
         {
          "X": 0.7133759260177612,
          "Y": 1.2155088186264038,
          "count": 69,
          "label": "FALLOIR"
         },
         {
          "X": 0.006693319883197546,
          "Y": -0.5674325227737427,
          "count": 69,
          "label": "FALLOIR"
         },
         {
          "X": 2.189912796020508,
          "Y": -0.3414364457130432,
          "count": 69,
          "label": "FALLOIR"
         },
         {
          "X": 0.9383410811424255,
          "Y": -0.30791112780570984,
          "count": 69,
          "label": "FALLOIR"
         },
         {
          "X": 2.5816004276275635,
          "Y": -1.5323636531829834,
          "count": 69,
          "label": "FALLOIR"
         },
         {
          "X": 1.9539906978607178,
          "Y": 2.177903652191162,
          "count": 69,
          "label": "FALLOIR"
         },
         {
          "X": 2.189912796020508,
          "Y": -0.3414364457130432,
          "count": 69,
          "label": "FALLOIR"
         },
         {
          "X": 0.12445073574781418,
          "Y": 0.05000607669353485,
          "count": 69,
          "label": "FALLOIR"
         },
         {
          "X": 0.7769594192504883,
          "Y": -0.937835156917572,
          "count": 69,
          "label": "FALLOIR"
         },
         {
          "X": 1.5617005825042725,
          "Y": 0.3695625364780426,
          "count": 69,
          "label": "FALLOIR"
         },
         {
          "X": -1.4802589416503906,
          "Y": -0.13927695155143738,
          "count": 69,
          "label": "FALLOIR"
         },
         {
          "X": 0.5004889369010925,
          "Y": -0.3752165734767914,
          "count": 69,
          "label": "FALLOIR"
         },
         {
          "X": 0.7133759260177612,
          "Y": 1.2155088186264038,
          "count": 69,
          "label": "FALLOIR"
         },
         {
          "X": -2.1325340270996094,
          "Y": -0.914607584476471,
          "count": 69,
          "label": "FALLOIR"
         },
         {
          "X": -0.5316834449768066,
          "Y": -0.3826110363006592,
          "count": 69,
          "label": "FALLOIR"
         },
         {
          "X": -0.010860791429877281,
          "Y": 0.7860143780708313,
          "count": 69,
          "label": "FALLOIR"
         },
         {
          "X": 2.356484889984131,
          "Y": 1.6304043531417847,
          "count": 69,
          "label": "FALLOIR"
         },
         {
          "X": 0.5021993517875671,
          "Y": -0.3690900206565857,
          "count": 69,
          "label": "FALLOIR"
         },
         {
          "X": 0.5021163821220398,
          "Y": -0.36915501952171326,
          "count": 69,
          "label": "FALLOIR"
         },
         {
          "X": 0.054940976202487946,
          "Y": 1.9244228601455688,
          "count": 69,
          "label": "FALLOIR"
         },
         {
          "X": 1.7958910465240479,
          "Y": -1.4791693687438965,
          "count": 69,
          "label": "FALLOIR"
         },
         {
          "X": -0.010860791429877281,
          "Y": 0.7860143780708313,
          "count": 69,
          "label": "FALLOIR"
         },
         {
          "X": -2.1472415924072266,
          "Y": -0.8699626922607422,
          "count": 69,
          "label": "FALLOIR"
         },
         {
          "X": 2.8062100410461426,
          "Y": 0.41145914793014526,
          "count": 69,
          "label": "FALLOIR"
         },
         {
          "X": 2.189912796020508,
          "Y": -0.3414364457130432,
          "count": 69,
          "label": "FALLOIR"
         },
         {
          "X": -0.2342323362827301,
          "Y": -2.38041090965271,
          "count": 69,
          "label": "FALLOIR"
         },
         {
          "X": 1.0381417274475098,
          "Y": 2.305878162384033,
          "count": 69,
          "label": "FALLOIR"
         },
         {
          "X": 2.189912796020508,
          "Y": -0.3414364457130432,
          "count": 69,
          "label": "FALLOIR"
         },
         {
          "X": 1.7958910465240479,
          "Y": -1.4791693687438965,
          "count": 69,
          "label": "FALLOIR"
         },
         {
          "X": 0.9383410811424255,
          "Y": -0.30791112780570984,
          "count": 69,
          "label": "FALLOIR"
         },
         {
          "X": 1.0381417274475098,
          "Y": 2.305878162384033,
          "count": 69,
          "label": "FALLOIR"
         },
         {
          "X": -0.5316834449768066,
          "Y": -0.3826110363006592,
          "count": 69,
          "label": "FALLOIR"
         },
         {
          "X": 0.12445073574781418,
          "Y": 0.05000607669353485,
          "count": 69,
          "label": "FALLOIR"
         },
         {
          "X": -0.5316834449768066,
          "Y": -0.3826110363006592,
          "count": 69,
          "label": "FALLOIR"
         },
         {
          "X": 1.227840542793274,
          "Y": 1.0427117347717285,
          "count": 69,
          "label": "FALLOIR"
         },
         {
          "X": -1.4802589416503906,
          "Y": -0.13927695155143738,
          "count": 69,
          "label": "FALLOIR"
         },
         {
          "X": -0.010860791429877281,
          "Y": 0.7860143780708313,
          "count": 69,
          "label": "FALLOIR"
         },
         {
          "X": 2.356484889984131,
          "Y": 1.6304043531417847,
          "count": 69,
          "label": "FALLOIR"
         },
         {
          "X": -0.573866069316864,
          "Y": 0.29519519209861755,
          "count": 69,
          "label": "FALLOIR"
         },
         {
          "X": -0.7744936347007751,
          "Y": 0.43829581141471863,
          "count": 69,
          "label": "FALLOIR"
         },
         {
          "X": 0.12445073574781418,
          "Y": 0.05000607669353485,
          "count": 69,
          "label": "FALLOIR"
         },
         {
          "X": -0.2342323362827301,
          "Y": -2.38041090965271,
          "count": 69,
          "label": "FALLOIR"
         },
         {
          "X": 2.189912796020508,
          "Y": -0.3414364457130432,
          "count": 69,
          "label": "FALLOIR"
         },
         {
          "X": -1.0455948114395142,
          "Y": 0.62473464012146,
          "count": 69,
          "label": "FALLOIR"
         },
         {
          "X": 1.562938928604126,
          "Y": -0.99180668592453,
          "count": 69,
          "label": "FALLOIR"
         },
         {
          "X": 1.9539906978607178,
          "Y": 2.177903652191162,
          "count": 69,
          "label": "FALLOIR"
         },
         {
          "X": 1.3840988874435425,
          "Y": -0.24738861620426178,
          "count": 69,
          "label": "FALLOIR"
         },
         {
          "X": 1.0381417274475098,
          "Y": 2.305878162384033,
          "count": 69,
          "label": "FALLOIR"
         },
         {
          "X": -0.7458605766296387,
          "Y": 2.3939642906188965,
          "count": 69,
          "label": "FALLOIR"
         },
         {
          "X": 1.228036642074585,
          "Y": 1.042841911315918,
          "count": 69,
          "label": "FALLOIR"
         },
         {
          "X": 1.490423321723938,
          "Y": -0.8618544936180115,
          "count": 69,
          "label": "FALLOIR"
         },
         {
          "X": 2.189912796020508,
          "Y": -0.3414364457130432,
          "count": 69,
          "label": "FALLOIR"
         },
         {
          "X": 0.8493266105651855,
          "Y": 0.3709956705570221,
          "count": 69,
          "label": "FALLOIR"
         },
         {
          "X": 0.311575323343277,
          "Y": -2.505739450454712,
          "count": 69,
          "label": "FALLOIR"
         },
         {
          "X": -2.094820976257324,
          "Y": 0.9459067583084106,
          "count": 69,
          "label": "FALLOIR"
         },
         {
          "X": 0.12445073574781418,
          "Y": 0.05000607669353485,
          "count": 69,
          "label": "FALLOIR"
         },
         {
          "X": 0.8493266105651855,
          "Y": 0.3709956705570221,
          "count": 69,
          "label": "FALLOIR"
         },
         {
          "X": 0.12445073574781418,
          "Y": 0.05000607669353485,
          "count": 69,
          "label": "FALLOIR"
         },
         {
          "X": 0.10488466173410416,
          "Y": -0.5608643889427185,
          "count": 69,
          "label": "FALLOIR"
         },
         {
          "X": -0.5734463334083557,
          "Y": 1.4404056072235107,
          "count": 69,
          "label": "FALLOIR"
         },
         {
          "X": -0.010860791429877281,
          "Y": 0.7860143780708313,
          "count": 69,
          "label": "FALLOIR"
         },
         {
          "X": 1.7958910465240479,
          "Y": -1.4791693687438965,
          "count": 69,
          "label": "FALLOIR"
         },
         {
          "X": 2.8399338722229004,
          "Y": 0.9212411046028137,
          "count": 69,
          "label": "FALLOIR"
         },
         {
          "X": 1.490423321723938,
          "Y": -0.8618544936180115,
          "count": 69,
          "label": "FALLOIR"
         },
         {
          "X": -0.7520882487297058,
          "Y": -0.2695270776748657,
          "count": 69,
          "label": "FALLOIR"
         },
         {
          "X": 0.8493266105651855,
          "Y": 0.3709956705570221,
          "count": 69,
          "label": "FALLOIR"
         },
         {
          "X": 0.3275226056575775,
          "Y": 1.327501893043518,
          "count": 69,
          "label": "FALLOIR"
         },
         {
          "X": 1.5617005825042725,
          "Y": 0.3695625364780426,
          "count": 69,
          "label": "FALLOIR"
         },
         {
          "X": -0.038906216621398926,
          "Y": -1.3321967124938965,
          "count": 75,
          "label": "AVOIR "
         },
         {
          "X": -2.168604612350464,
          "Y": -0.8256732225418091,
          "count": 75,
          "label": "AVOIR "
         },
         {
          "X": 0.19849514961242676,
          "Y": 2.5399622917175293,
          "count": 75,
          "label": "AVOIR "
         },
         {
          "X": 0.311575323343277,
          "Y": -2.505739450454712,
          "count": 75,
          "label": "AVOIR "
         },
         {
          "X": -0.7744936347007751,
          "Y": 0.43829581141471863,
          "count": 75,
          "label": "AVOIR "
         },
         {
          "X": -0.038906216621398926,
          "Y": -1.3321967124938965,
          "count": 75,
          "label": "AVOIR "
         },
         {
          "X": -0.010860791429877281,
          "Y": 0.7860143780708313,
          "count": 75,
          "label": "AVOIR "
         },
         {
          "X": 0.8493266105651855,
          "Y": 0.3709956705570221,
          "count": 75,
          "label": "AVOIR "
         },
         {
          "X": 0.12445073574781418,
          "Y": 0.05000607669353485,
          "count": 75,
          "label": "AVOIR "
         },
         {
          "X": -0.7520882487297058,
          "Y": -0.2695270776748657,
          "count": 75,
          "label": "AVOIR "
         },
         {
          "X": 0.08518155664205551,
          "Y": -0.5668357610702515,
          "count": 75,
          "label": "AVOIR "
         },
         {
          "X": -0.6066305637359619,
          "Y": 0.047458481043577194,
          "count": 75,
          "label": "AVOIR "
         },
         {
          "X": 0.2876945436000824,
          "Y": 1.8856663703918457,
          "count": 75,
          "label": "AVOIR "
         },
         {
          "X": 0.9383410811424255,
          "Y": -0.30791112780570984,
          "count": 75,
          "label": "AVOIR "
         },
         {
          "X": 0.7133759260177612,
          "Y": 1.2155088186264038,
          "count": 75,
          "label": "AVOIR "
         },
         {
          "X": 1.3840988874435425,
          "Y": -0.24738861620426178,
          "count": 75,
          "label": "AVOIR "
         },
         {
          "X": 0.8493266105651855,
          "Y": 0.3709956705570221,
          "count": 75,
          "label": "AVOIR "
         },
         {
          "X": 1.0381417274475098,
          "Y": 2.305878162384033,
          "count": 75,
          "label": "AVOIR "
         },
         {
          "X": 0.8493266105651855,
          "Y": 0.3709956705570221,
          "count": 75,
          "label": "AVOIR "
         },
         {
          "X": 2.5976979732513428,
          "Y": 1.3837021589279175,
          "count": 75,
          "label": "AVOIR "
         },
         {
          "X": 2.8062100410461426,
          "Y": 0.41145914793014526,
          "count": 75,
          "label": "AVOIR "
         },
         {
          "X": -0.010860791429877281,
          "Y": 0.7860143780708313,
          "count": 75,
          "label": "AVOIR "
         },
         {
          "X": 1.7958910465240479,
          "Y": -1.4791693687438965,
          "count": 75,
          "label": "AVOIR "
         },
         {
          "X": 0.5037851333618164,
          "Y": -0.36826446652412415,
          "count": 75,
          "label": "AVOIR "
         },
         {
          "X": 0.7769594192504883,
          "Y": -0.937835156917572,
          "count": 75,
          "label": "AVOIR "
         },
         {
          "X": 2.8399338722229004,
          "Y": 0.9212411046028137,
          "count": 75,
          "label": "AVOIR "
         },
         {
          "X": 3.119617223739624,
          "Y": -0.13792037963867188,
          "count": 75,
          "label": "AVOIR "
         },
         {
          "X": -0.038906216621398926,
          "Y": -1.3321967124938965,
          "count": 75,
          "label": "AVOIR "
         },
         {
          "X": 1.9337143898010254,
          "Y": 0.7559248805046082,
          "count": 75,
          "label": "AVOIR "
         },
         {
          "X": -0.7744936347007751,
          "Y": 0.43829581141471863,
          "count": 75,
          "label": "AVOIR "
         },
         {
          "X": -0.5734463334083557,
          "Y": 1.4404056072235107,
          "count": 75,
          "label": "AVOIR "
         },
         {
          "X": -0.010860791429877281,
          "Y": 0.7860143780708313,
          "count": 75,
          "label": "AVOIR "
         },
         {
          "X": 1.4603018760681152,
          "Y": 1.5007543563842773,
          "count": 75,
          "label": "AVOIR "
         },
         {
          "X": 0.9383410811424255,
          "Y": -0.30791112780570984,
          "count": 75,
          "label": "AVOIR "
         },
         {
          "X": 1.1252766847610474,
          "Y": -1.8188939094543457,
          "count": 75,
          "label": "AVOIR "
         },
         {
          "X": 0.8493266105651855,
          "Y": 0.3709956705570221,
          "count": 75,
          "label": "AVOIR "
         },
         {
          "X": 0.3065185546875,
          "Y": -2.5074639320373535,
          "count": 75,
          "label": "AVOIR "
         },
         {
          "X": 0.030435696244239807,
          "Y": 1.9478543996810913,
          "count": 75,
          "label": "AVOIR "
         },
         {
          "X": 0.12445073574781418,
          "Y": 0.05000607669353485,
          "count": 75,
          "label": "AVOIR "
         },
         {
          "X": 1.5576236248016357,
          "Y": 0.37839797139167786,
          "count": 75,
          "label": "AVOIR "
         },
         {
          "X": 0.9383410811424255,
          "Y": -0.30791112780570984,
          "count": 75,
          "label": "AVOIR "
         },
         {
          "X": -2.2484381198883057,
          "Y": -0.08005529642105103,
          "count": 75,
          "label": "AVOIR "
         },
         {
          "X": 0.7769594192504883,
          "Y": -0.937835156917572,
          "count": 75,
          "label": "AVOIR "
         },
         {
          "X": 1.7958910465240479,
          "Y": -1.4791693687438965,
          "count": 75,
          "label": "AVOIR "
         },
         {
          "X": -0.5734463334083557,
          "Y": 1.4404056072235107,
          "count": 75,
          "label": "AVOIR "
         },
         {
          "X": 1.7958910465240479,
          "Y": -1.4791693687438965,
          "count": 75,
          "label": "AVOIR "
         },
         {
          "X": 1.9337143898010254,
          "Y": 0.7559248805046082,
          "count": 75,
          "label": "AVOIR "
         },
         {
          "X": 0.8493266105651855,
          "Y": 0.3709956705570221,
          "count": 75,
          "label": "AVOIR "
         },
         {
          "X": 0.8493266105651855,
          "Y": 0.3709956705570221,
          "count": 75,
          "label": "AVOIR "
         },
         {
          "X": -0.038906216621398926,
          "Y": -1.3321967124938965,
          "count": 75,
          "label": "AVOIR "
         },
         {
          "X": -0.535822331905365,
          "Y": -0.45780566334724426,
          "count": 75,
          "label": "AVOIR "
         },
         {
          "X": -0.010860791429877281,
          "Y": 0.7860143780708313,
          "count": 75,
          "label": "AVOIR "
         },
         {
          "X": 0.9383410811424255,
          "Y": -0.30791112780570984,
          "count": 75,
          "label": "AVOIR "
         },
         {
          "X": -0.038906216621398926,
          "Y": -1.3321967124938965,
          "count": 75,
          "label": "AVOIR "
         },
         {
          "X": 1.5576236248016357,
          "Y": 0.37839797139167786,
          "count": 75,
          "label": "AVOIR "
         },
         {
          "X": 1.7958910465240479,
          "Y": -1.4791693687438965,
          "count": 75,
          "label": "AVOIR "
         },
         {
          "X": -0.7458605766296387,
          "Y": 2.3939642906188965,
          "count": 75,
          "label": "AVOIR "
         },
         {
          "X": -2.094820976257324,
          "Y": 0.9459067583084106,
          "count": 75,
          "label": "AVOIR "
         },
         {
          "X": -1.0123517513275146,
          "Y": -0.5774029493331909,
          "count": 75,
          "label": "AVOIR "
         },
         {
          "X": 0.12445073574781418,
          "Y": 0.05000607669353485,
          "count": 75,
          "label": "AVOIR "
         },
         {
          "X": 0.12445073574781418,
          "Y": 0.05000607669353485,
          "count": 75,
          "label": "AVOIR "
         },
         {
          "X": -1.986215591430664,
          "Y": -1.3099150657653809,
          "count": 75,
          "label": "AVOIR "
         },
         {
          "X": 1.1252766847610474,
          "Y": -1.8188939094543457,
          "count": 75,
          "label": "AVOIR "
         },
         {
          "X": -1.3968206644058228,
          "Y": -0.7054904103279114,
          "count": 75,
          "label": "AVOIR "
         },
         {
          "X": 0.7769594192504883,
          "Y": -0.937835156917572,
          "count": 75,
          "label": "AVOIR "
         },
         {
          "X": -0.038906216621398926,
          "Y": -1.3321967124938965,
          "count": 75,
          "label": "AVOIR "
         },
         {
          "X": 1.4603018760681152,
          "Y": 1.5007543563842773,
          "count": 75,
          "label": "AVOIR "
         },
         {
          "X": 1.3840988874435425,
          "Y": -0.24738861620426178,
          "count": 75,
          "label": "AVOIR "
         },
         {
          "X": -0.5734463334083557,
          "Y": 1.4404056072235107,
          "count": 75,
          "label": "AVOIR "
         },
         {
          "X": -1.0455948114395142,
          "Y": 0.62473464012146,
          "count": 75,
          "label": "AVOIR "
         },
         {
          "X": 0.8493266105651855,
          "Y": 0.3709956705570221,
          "count": 75,
          "label": "AVOIR "
         },
         {
          "X": 1.9337143898010254,
          "Y": 0.7559248805046082,
          "count": 75,
          "label": "AVOIR "
         },
         {
          "X": -0.7744936347007751,
          "Y": 0.43829581141471863,
          "count": 75,
          "label": "AVOIR "
         },
         {
          "X": 0.054940976202487946,
          "Y": 1.9244228601455688,
          "count": 75,
          "label": "AVOIR "
         },
         {
          "X": 0.8493266105651855,
          "Y": 0.3709956705570221,
          "count": 75,
          "label": "AVOIR "
         },
         {
          "X": 1.1252766847610474,
          "Y": -1.8188939094543457,
          "count": 69,
          "label": "C-EST"
         },
         {
          "X": 0.5004889369010925,
          "Y": -0.3752165734767914,
          "count": 69,
          "label": "C-EST"
         },
         {
          "X": 2.8399338722229004,
          "Y": 0.9212411046028137,
          "count": 69,
          "label": "C-EST"
         },
         {
          "X": 2.189912796020508,
          "Y": -0.3414364457130432,
          "count": 69,
          "label": "C-EST"
         },
         {
          "X": -0.010860791429877281,
          "Y": 0.7860143780708313,
          "count": 69,
          "label": "C-EST"
         },
         {
          "X": 2.189912796020508,
          "Y": -0.3414364457130432,
          "count": 69,
          "label": "C-EST"
         },
         {
          "X": 0.8493266105651855,
          "Y": 0.3709956705570221,
          "count": 69,
          "label": "C-EST"
         },
         {
          "X": -1.3968206644058228,
          "Y": -0.7054904103279114,
          "count": 69,
          "label": "C-EST"
         },
         {
          "X": -0.5734463334083557,
          "Y": 1.4404056072235107,
          "count": 69,
          "label": "C-EST"
         },
         {
          "X": 2.8399338722229004,
          "Y": 0.9212411046028137,
          "count": 69,
          "label": "C-EST"
         },
         {
          "X": 0.006693319883197546,
          "Y": -0.5674325227737427,
          "count": 69,
          "label": "C-EST"
         },
         {
          "X": -0.7520882487297058,
          "Y": -0.2695270776748657,
          "count": 69,
          "label": "C-EST"
         },
         {
          "X": -0.010860791429877281,
          "Y": 0.7860143780708313,
          "count": 69,
          "label": "C-EST"
         },
         {
          "X": 2.8062100410461426,
          "Y": 0.41145914793014526,
          "count": 69,
          "label": "C-EST"
         },
         {
          "X": 0.8493266105651855,
          "Y": 0.3709956705570221,
          "count": 69,
          "label": "C-EST"
         },
         {
          "X": 0.9383410811424255,
          "Y": -0.30791112780570984,
          "count": 69,
          "label": "C-EST"
         },
         {
          "X": 0.8493266105651855,
          "Y": 0.3709956705570221,
          "count": 69,
          "label": "C-EST"
         },
         {
          "X": 1.490423321723938,
          "Y": -0.8618544936180115,
          "count": 69,
          "label": "C-EST"
         },
         {
          "X": -0.5727768540382385,
          "Y": 0.19141483306884766,
          "count": 69,
          "label": "C-EST"
         },
         {
          "X": -0.2342323362827301,
          "Y": -2.38041090965271,
          "count": 69,
          "label": "C-EST"
         },
         {
          "X": 3.123568058013916,
          "Y": -0.21168310940265656,
          "count": 69,
          "label": "C-EST"
         },
         {
          "X": -0.2342323362827301,
          "Y": -2.38041090965271,
          "count": 69,
          "label": "C-EST"
         },
         {
          "X": 0.12445073574781418,
          "Y": 0.05000607669353485,
          "count": 69,
          "label": "C-EST"
         },
         {
          "X": -0.8977599740028381,
          "Y": -2.1725804805755615,
          "count": 69,
          "label": "C-EST"
         },
         {
          "X": -0.010860791429877281,
          "Y": 0.7860143780708313,
          "count": 69,
          "label": "C-EST"
         },
         {
          "X": 0.8493266105651855,
          "Y": 0.3709956705570221,
          "count": 69,
          "label": "C-EST"
         },
         {
          "X": 1.1252766847610474,
          "Y": -1.8188939094543457,
          "count": 69,
          "label": "C-EST"
         },
         {
          "X": 1.9337143898010254,
          "Y": 0.7559248805046082,
          "count": 69,
          "label": "C-EST"
         },
         {
          "X": -1.3455700874328613,
          "Y": 1.0156828165054321,
          "count": 69,
          "label": "C-EST"
         },
         {
          "X": -0.010860791429877281,
          "Y": 0.7860143780708313,
          "count": 69,
          "label": "C-EST"
         },
         {
          "X": -0.038906216621398926,
          "Y": -1.3321967124938965,
          "count": 69,
          "label": "C-EST"
         },
         {
          "X": 0.8493266105651855,
          "Y": 0.3709956705570221,
          "count": 69,
          "label": "C-EST"
         },
         {
          "X": -0.20227792859077454,
          "Y": 2.6058075428009033,
          "count": 69,
          "label": "C-EST"
         },
         {
          "X": -0.038906216621398926,
          "Y": -1.3321967124938965,
          "count": 69,
          "label": "C-EST"
         },
         {
          "X": 0.7809913158416748,
          "Y": -2.468172311782837,
          "count": 69,
          "label": "C-EST"
         },
         {
          "X": 2.189912796020508,
          "Y": -0.3414364457130432,
          "count": 69,
          "label": "C-EST"
         },
         {
          "X": 1.9539906978607178,
          "Y": 2.177903652191162,
          "count": 69,
          "label": "C-EST"
         },
         {
          "X": 0.12445073574781418,
          "Y": 0.05000607669353485,
          "count": 69,
          "label": "C-EST"
         },
         {
          "X": 0.8493266105651855,
          "Y": 0.3709956705570221,
          "count": 69,
          "label": "C-EST"
         },
         {
          "X": 1.5444684028625488,
          "Y": -2.3124451637268066,
          "count": 69,
          "label": "C-EST"
         },
         {
          "X": -0.5734463334083557,
          "Y": 1.4404056072235107,
          "count": 69,
          "label": "C-EST"
         },
         {
          "X": -0.5263254046440125,
          "Y": -0.5030304193496704,
          "count": 69,
          "label": "C-EST"
         },
         {
          "X": 0.8493266105651855,
          "Y": 0.3709956705570221,
          "count": 69,
          "label": "C-EST"
         },
         {
          "X": -0.010860791429877281,
          "Y": 0.7860143780708313,
          "count": 69,
          "label": "C-EST"
         },
         {
          "X": 0.006693319883197546,
          "Y": -0.5674325227737427,
          "count": 69,
          "label": "C-EST"
         },
         {
          "X": -0.010860791429877281,
          "Y": 0.7860143780708313,
          "count": 69,
          "label": "C-EST"
         },
         {
          "X": 2.923506736755371,
          "Y": -0.958000123500824,
          "count": 69,
          "label": "C-EST"
         },
         {
          "X": 0.12445073574781418,
          "Y": 0.05000607669353485,
          "count": 69,
          "label": "C-EST"
         },
         {
          "X": -2.2484381198883057,
          "Y": -0.08005529642105103,
          "count": 69,
          "label": "C-EST"
         },
         {
          "X": 1.4603018760681152,
          "Y": 1.5007543563842773,
          "count": 69,
          "label": "C-EST"
         },
         {
          "X": 0.5037851333618164,
          "Y": -0.36826446652412415,
          "count": 69,
          "label": "C-EST"
         },
         {
          "X": -0.2342323362827301,
          "Y": -2.38041090965271,
          "count": 69,
          "label": "C-EST"
         },
         {
          "X": 0.7769594192504883,
          "Y": -0.937835156917572,
          "count": 69,
          "label": "C-EST"
         },
         {
          "X": 0.7133759260177612,
          "Y": 1.2155088186264038,
          "count": 69,
          "label": "C-EST"
         },
         {
          "X": -0.038906216621398926,
          "Y": -1.3321967124938965,
          "count": 69,
          "label": "C-EST"
         },
         {
          "X": 2.189912796020508,
          "Y": -0.3414364457130432,
          "count": 69,
          "label": "C-EST"
         },
         {
          "X": 1.3840988874435425,
          "Y": -0.24738861620426178,
          "count": 69,
          "label": "C-EST"
         },
         {
          "X": 1.9337143898010254,
          "Y": 0.7559248805046082,
          "count": 69,
          "label": "C-EST"
         },
         {
          "X": 1.0381417274475098,
          "Y": 2.305878162384033,
          "count": 69,
          "label": "C-EST"
         },
         {
          "X": 0.8493266105651855,
          "Y": 0.3709956705570221,
          "count": 69,
          "label": "C-EST"
         },
         {
          "X": -0.038906216621398926,
          "Y": -1.3321967124938965,
          "count": 69,
          "label": "C-EST"
         },
         {
          "X": 0.5059118270874023,
          "Y": -0.36350134015083313,
          "count": 69,
          "label": "C-EST"
         },
         {
          "X": -0.5734463334083557,
          "Y": 1.4404056072235107,
          "count": 69,
          "label": "C-EST"
         },
         {
          "X": 0.7561317086219788,
          "Y": -1.770358681678772,
          "count": 69,
          "label": "C-EST"
         },
         {
          "X": -0.7890880703926086,
          "Y": -1.0077091455459595,
          "count": 69,
          "label": "C-EST"
         },
         {
          "X": 0.12445073574781418,
          "Y": 0.05000607669353485,
          "count": 69,
          "label": "C-EST"
         },
         {
          "X": 2.8399338722229004,
          "Y": 0.9212411046028137,
          "count": 69,
          "label": "C-EST"
         },
         {
          "X": -0.010860791429877281,
          "Y": 0.7860143780708313,
          "count": 69,
          "label": "C-EST"
         },
         {
          "X": -0.6066305637359619,
          "Y": 0.047458481043577194,
          "count": 69,
          "label": "C-EST"
         },
         {
          "X": 1.9539906978607178,
          "Y": 2.177903652191162,
          "count": 72,
          "label": "SOURD"
         },
         {
          "X": -0.7520882487297058,
          "Y": -0.2695270776748657,
          "count": 72,
          "label": "SOURD"
         },
         {
          "X": 1.5617005825042725,
          "Y": 0.3695625364780426,
          "count": 72,
          "label": "SOURD"
         },
         {
          "X": -0.8977599740028381,
          "Y": -2.1725804805755615,
          "count": 72,
          "label": "SOURD"
         },
         {
          "X": 0.12445073574781418,
          "Y": 0.05000607669353485,
          "count": 72,
          "label": "SOURD"
         },
         {
          "X": -0.7827644348144531,
          "Y": -1.1214321851730347,
          "count": 72,
          "label": "SOURD"
         },
         {
          "X": -0.010860791429877281,
          "Y": 0.7860143780708313,
          "count": 72,
          "label": "SOURD"
         },
         {
          "X": -0.5727768540382385,
          "Y": 0.19141483306884766,
          "count": 72,
          "label": "SOURD"
         },
         {
          "X": 0.7133759260177612,
          "Y": 1.2155088186264038,
          "count": 72,
          "label": "SOURD"
         },
         {
          "X": 3.1168785095214844,
          "Y": -0.411366730928421,
          "count": 72,
          "label": "SOURD"
         },
         {
          "X": 1.5444684028625488,
          "Y": -2.3124451637268066,
          "count": 72,
          "label": "SOURD"
         },
         {
          "X": -2.094820976257324,
          "Y": 0.9459067583084106,
          "count": 72,
          "label": "SOURD"
         },
         {
          "X": 0.08518155664205551,
          "Y": -0.5668357610702515,
          "count": 72,
          "label": "SOURD"
         },
         {
          "X": 0.9383410811424255,
          "Y": -0.30791112780570984,
          "count": 72,
          "label": "SOURD"
         },
         {
          "X": -0.7744936347007751,
          "Y": 0.43829581141471863,
          "count": 72,
          "label": "SOURD"
         },
         {
          "X": -1.4802589416503906,
          "Y": -0.13927695155143738,
          "count": 72,
          "label": "SOURD"
         },
         {
          "X": 0.12445073574781418,
          "Y": 0.05000607669353485,
          "count": 72,
          "label": "SOURD"
         },
         {
          "X": -0.038906216621398926,
          "Y": -1.3321967124938965,
          "count": 72,
          "label": "SOURD"
         },
         {
          "X": 2.189912796020508,
          "Y": -0.3414364457130432,
          "count": 72,
          "label": "SOURD"
         },
         {
          "X": 2.2986629009246826,
          "Y": -2.04585337638855,
          "count": 72,
          "label": "SOURD"
         },
         {
          "X": 0.3275226056575775,
          "Y": 1.327501893043518,
          "count": 72,
          "label": "SOURD"
         },
         {
          "X": 0.7133759260177612,
          "Y": 1.2155088186264038,
          "count": 72,
          "label": "SOURD"
         },
         {
          "X": -1.4802589416503906,
          "Y": -0.13927695155143738,
          "count": 72,
          "label": "SOURD"
         },
         {
          "X": 0.12445073574781418,
          "Y": 0.05000607669353485,
          "count": 72,
          "label": "SOURD"
         },
         {
          "X": 0.12445073574781418,
          "Y": 0.05000607669353485,
          "count": 72,
          "label": "SOURD"
         },
         {
          "X": 1.7958910465240479,
          "Y": -1.4791693687438965,
          "count": 72,
          "label": "SOURD"
         },
         {
          "X": 1.7958910465240479,
          "Y": -1.4791693687438965,
          "count": 72,
          "label": "SOURD"
         },
         {
          "X": 0.9383410811424255,
          "Y": -0.30791112780570984,
          "count": 72,
          "label": "SOURD"
         },
         {
          "X": -0.7890880703926086,
          "Y": -1.0077091455459595,
          "count": 72,
          "label": "SOURD"
         },
         {
          "X": -1.0455948114395142,
          "Y": 0.62473464012146,
          "count": 72,
          "label": "SOURD"
         },
         {
          "X": 1.4874746799468994,
          "Y": -1.1944838762283325,
          "count": 72,
          "label": "SOURD"
         },
         {
          "X": 0.030435696244239807,
          "Y": 1.9478543996810913,
          "count": 72,
          "label": "SOURD"
         },
         {
          "X": 0.7809913158416748,
          "Y": -2.468172311782837,
          "count": 72,
          "label": "SOURD"
         },
         {
          "X": 1.9337143898010254,
          "Y": 0.7559248805046082,
          "count": 72,
          "label": "SOURD"
         },
         {
          "X": -1.4802589416503906,
          "Y": -0.13927695155143738,
          "count": 72,
          "label": "SOURD"
         },
         {
          "X": 0.7133759260177612,
          "Y": 1.2155088186264038,
          "count": 72,
          "label": "SOURD"
         },
         {
          "X": 2.7740659713745117,
          "Y": 0.4257631003856659,
          "count": 72,
          "label": "SOURD"
         },
         {
          "X": -0.2342323362827301,
          "Y": -2.38041090965271,
          "count": 72,
          "label": "SOURD"
         },
         {
          "X": 1.4603018760681152,
          "Y": 1.5007543563842773,
          "count": 72,
          "label": "SOURD"
         },
         {
          "X": 0.2876945436000824,
          "Y": 1.8856663703918457,
          "count": 72,
          "label": "SOURD"
         },
         {
          "X": -0.20227792859077454,
          "Y": 2.6058075428009033,
          "count": 72,
          "label": "SOURD"
         },
         {
          "X": 0.7133759260177612,
          "Y": 1.2155088186264038,
          "count": 72,
          "label": "SOURD"
         },
         {
          "X": 1.9337143898010254,
          "Y": 0.7559248805046082,
          "count": 72,
          "label": "SOURD"
         },
         {
          "X": 0.7331911325454712,
          "Y": -1.7729463577270508,
          "count": 72,
          "label": "SOURD"
         },
         {
          "X": -0.038906216621398926,
          "Y": -1.3321967124938965,
          "count": 72,
          "label": "SOURD"
         },
         {
          "X": -1.3455700874328613,
          "Y": 1.0156828165054321,
          "count": 72,
          "label": "SOURD"
         },
         {
          "X": 2.6804513931274414,
          "Y": -1.1999847888946533,
          "count": 72,
          "label": "SOURD"
         },
         {
          "X": -1.433718204498291,
          "Y": -1.7712657451629639,
          "count": 72,
          "label": "SOURD"
         },
         {
          "X": -0.038906216621398926,
          "Y": -1.3321967124938965,
          "count": 72,
          "label": "SOURD"
         },
         {
          "X": 0.8493266105651855,
          "Y": 0.3709956705570221,
          "count": 72,
          "label": "SOURD"
         },
         {
          "X": 1.3840988874435425,
          "Y": -0.24738861620426178,
          "count": 72,
          "label": "SOURD"
         },
         {
          "X": -2.168177843093872,
          "Y": -0.8271084427833557,
          "count": 72,
          "label": "SOURD"
         },
         {
          "X": -0.7744936347007751,
          "Y": 0.43829581141471863,
          "count": 72,
          "label": "SOURD"
         },
         {
          "X": -0.5734463334083557,
          "Y": 1.4404056072235107,
          "count": 72,
          "label": "SOURD"
         },
         {
          "X": 0.12445073574781418,
          "Y": 0.05000607669353485,
          "count": 72,
          "label": "SOURD"
         },
         {
          "X": -0.038906216621398926,
          "Y": -1.3321967124938965,
          "count": 72,
          "label": "SOURD"
         },
         {
          "X": 1.5576236248016357,
          "Y": 0.37839797139167786,
          "count": 72,
          "label": "SOURD"
         },
         {
          "X": 0.7769594192504883,
          "Y": -0.937835156917572,
          "count": 72,
          "label": "SOURD"
         },
         {
          "X": -0.010860791429877281,
          "Y": 0.7860143780708313,
          "count": 72,
          "label": "SOURD"
         },
         {
          "X": 2.5816004276275635,
          "Y": -1.5323636531829834,
          "count": 72,
          "label": "SOURD"
         },
         {
          "X": 0.9383410811424255,
          "Y": -0.30791112780570984,
          "count": 72,
          "label": "SOURD"
         },
         {
          "X": 0.7569299340248108,
          "Y": -1.7701759338378906,
          "count": 72,
          "label": "SOURD"
         },
         {
          "X": -0.038906216621398926,
          "Y": -1.3321967124938965,
          "count": 72,
          "label": "SOURD"
         },
         {
          "X": 0.5022168159484863,
          "Y": -0.369074285030365,
          "count": 72,
          "label": "SOURD"
         },
         {
          "X": -0.010860791429877281,
          "Y": 0.7860143780708313,
          "count": 72,
          "label": "SOURD"
         },
         {
          "X": 0.12445073574781418,
          "Y": 0.05000607669353485,
          "count": 72,
          "label": "SOURD"
         },
         {
          "X": -0.7744936347007751,
          "Y": 0.43829581141471863,
          "count": 72,
          "label": "SOURD"
         },
         {
          "X": 0.12445073574781418,
          "Y": 0.05000607669353485,
          "count": 72,
          "label": "SOURD"
         },
         {
          "X": 1.3840988874435425,
          "Y": -0.24738861620426178,
          "count": 72,
          "label": "SOURD"
         },
         {
          "X": 2.923506736755371,
          "Y": -0.958000123500824,
          "count": 72,
          "label": "SOURD"
         },
         {
          "X": 0.8493266105651855,
          "Y": 0.3709956705570221,
          "count": 72,
          "label": "SOURD"
         },
         {
          "X": 1.9539906978607178,
          "Y": 2.177903652191162,
          "count": 72,
          "label": "SOURD"
         },
         {
          "X": 0.8493266105651855,
          "Y": 0.3709956705570221,
          "count": 47,
          "label": "ENTENDANT"
         },
         {
          "X": 1.5444684028625488,
          "Y": -2.3124451637268066,
          "count": 47,
          "label": "ENTENDANT"
         },
         {
          "X": 2.5976979732513428,
          "Y": 1.3837021589279175,
          "count": 47,
          "label": "ENTENDANT"
         },
         {
          "X": -0.010860791429877281,
          "Y": 0.7860143780708313,
          "count": 47,
          "label": "ENTENDANT"
         },
         {
          "X": 0.19849514961242676,
          "Y": 2.5399622917175293,
          "count": 47,
          "label": "ENTENDANT"
         },
         {
          "X": -1.4223387241363525,
          "Y": -1.1469751596450806,
          "count": 47,
          "label": "ENTENDANT"
         },
         {
          "X": 0.7769594192504883,
          "Y": -0.937835156917572,
          "count": 47,
          "label": "ENTENDANT"
         },
         {
          "X": 1.0381417274475098,
          "Y": 2.305878162384033,
          "count": 47,
          "label": "ENTENDANT"
         },
         {
          "X": 0.5022168159484863,
          "Y": -0.369074285030365,
          "count": 47,
          "label": "ENTENDANT"
         },
         {
          "X": -0.2342323362827301,
          "Y": -2.38041090965271,
          "count": 47,
          "label": "ENTENDANT"
         },
         {
          "X": -0.7520882487297058,
          "Y": -0.2695270776748657,
          "count": 47,
          "label": "ENTENDANT"
         },
         {
          "X": -0.038906216621398926,
          "Y": -1.3321967124938965,
          "count": 47,
          "label": "ENTENDANT"
         },
         {
          "X": 1.1252766847610474,
          "Y": -1.8188939094543457,
          "count": 47,
          "label": "ENTENDANT"
         },
         {
          "X": 1.0381417274475098,
          "Y": 2.305878162384033,
          "count": 47,
          "label": "ENTENDANT"
         },
         {
          "X": 1.7958910465240479,
          "Y": -1.4791693687438965,
          "count": 47,
          "label": "ENTENDANT"
         },
         {
          "X": 1.5509209632873535,
          "Y": 0.3715212941169739,
          "count": 47,
          "label": "ENTENDANT"
         },
         {
          "X": 0.7769594192504883,
          "Y": -0.937835156917572,
          "count": 47,
          "label": "ENTENDANT"
         },
         {
          "X": -0.010860791429877281,
          "Y": 0.7860143780708313,
          "count": 47,
          "label": "ENTENDANT"
         },
         {
          "X": 2.3063695430755615,
          "Y": 1.698819637298584,
          "count": 47,
          "label": "ENTENDANT"
         },
         {
          "X": -0.7520882487297058,
          "Y": -0.2695270776748657,
          "count": 47,
          "label": "ENTENDANT"
         },
         {
          "X": -1.2051360607147217,
          "Y": 1.1815179586410522,
          "count": 47,
          "label": "ENTENDANT"
         },
         {
          "X": -1.664787769317627,
          "Y": 1.7272974252700806,
          "count": 47,
          "label": "ENTENDANT"
         },
         {
          "X": 0.7809913158416748,
          "Y": -2.468172311782837,
          "count": 47,
          "label": "ENTENDANT"
         },
         {
          "X": -0.5316834449768066,
          "Y": -0.3826110363006592,
          "count": 47,
          "label": "ENTENDANT"
         },
         {
          "X": 2.8399338722229004,
          "Y": 0.9212411046028137,
          "count": 47,
          "label": "ENTENDANT"
         },
         {
          "X": 1.7958910465240479,
          "Y": -1.4791693687438965,
          "count": 47,
          "label": "ENTENDANT"
         },
         {
          "X": 0.7769594192504883,
          "Y": -0.937835156917572,
          "count": 47,
          "label": "ENTENDANT"
         },
         {
          "X": -1.4802589416503906,
          "Y": -0.13927695155143738,
          "count": 47,
          "label": "ENTENDANT"
         },
         {
          "X": 2.6804513931274414,
          "Y": -1.1999847888946533,
          "count": 47,
          "label": "ENTENDANT"
         },
         {
          "X": 1.9337143898010254,
          "Y": 0.7559248805046082,
          "count": 47,
          "label": "ENTENDANT"
         },
         {
          "X": -1.433718204498291,
          "Y": -1.7712657451629639,
          "count": 47,
          "label": "ENTENDANT"
         },
         {
          "X": 2.356484889984131,
          "Y": 1.6304043531417847,
          "count": 47,
          "label": "ENTENDANT"
         },
         {
          "X": 2.189912796020508,
          "Y": -0.3414364457130432,
          "count": 47,
          "label": "ENTENDANT"
         },
         {
          "X": 3.1133673191070557,
          "Y": 0.10794708132743835,
          "count": 47,
          "label": "ENTENDANT"
         },
         {
          "X": -0.5734463334083557,
          "Y": 1.4404056072235107,
          "count": 47,
          "label": "ENTENDANT"
         },
         {
          "X": 1.7958910465240479,
          "Y": -1.4791693687438965,
          "count": 47,
          "label": "ENTENDANT"
         },
         {
          "X": 0.7769594192504883,
          "Y": -0.937835156917572,
          "count": 47,
          "label": "ENTENDANT"
         },
         {
          "X": 1.7958910465240479,
          "Y": -1.4791693687438965,
          "count": 47,
          "label": "ENTENDANT"
         },
         {
          "X": 1.9337143898010254,
          "Y": 0.7559248805046082,
          "count": 47,
          "label": "ENTENDANT"
         },
         {
          "X": 0.12445073574781418,
          "Y": 0.05000607669353485,
          "count": 47,
          "label": "ENTENDANT"
         },
         {
          "X": 0.08518155664205551,
          "Y": -0.5668357610702515,
          "count": 47,
          "label": "ENTENDANT"
         },
         {
          "X": 1.5444684028625488,
          "Y": -2.3124451637268066,
          "count": 47,
          "label": "ENTENDANT"
         },
         {
          "X": 0.12445073574781418,
          "Y": 0.05000607669353485,
          "count": 47,
          "label": "ENTENDANT"
         },
         {
          "X": 0.7133759260177612,
          "Y": 1.2155088186264038,
          "count": 47,
          "label": "ENTENDANT"
         },
         {
          "X": 0.8493266105651855,
          "Y": 0.3709956705570221,
          "count": 47,
          "label": "ENTENDANT"
         },
         {
          "X": -0.5734463334083557,
          "Y": 1.4404056072235107,
          "count": 47,
          "label": "ENTENDANT"
         },
         {
          "X": 0.08518155664205551,
          "Y": -0.5668357610702515,
          "count": 47,
          "label": "ENTENDANT"
         }
        ]
       },
       "encoding": {
        "color": {
         "field": "label",
         "type": "nominal"
        },
        "x": {
         "field": "X",
         "type": "quantitative"
        },
        "y": {
         "field": "Y",
         "type": "quantitative"
        }
       },
       "mark": {
        "size": 60,
        "type": "circle"
       },
       "selection": {
        "selector006": {
         "bind": "scales",
         "encodings": [
          "x",
          "y"
         ],
         "mark": {
          "fill": "#333",
          "fillOpacity": 0.125,
          "stroke": "white"
         },
         "on": "[mousedown, window:mouseup] > window:mousemove!",
         "resolve": "global",
         "translate": "[mousedown, window:mouseup] > window:mousemove!",
         "type": "interval",
         "zoom": "wheel!"
        }
       }
      },
      "image/png": "[encoded data removed]",
      "text/plain": [
       "<VegaLite 2 object>\n",
       "\n",
       "If you see this message, it means the renderer has not been properly enabled\n",
       "for the frontend that you are using. For more information, see\n",
       "https://altair-viz.github.io/user_guide/troubleshooting.html\n"
      ]
     },
     "metadata": {},
     "output_type": "display_data"
    }
   ],
   "source": [
    "# standalone graph\n",
    "\n",
    "preds_reduced = TSNE(n_components=2, perplexity = 80).fit_transform(preds)\n",
    "\n",
    "\n",
    "plot_df = pd.DataFrame({'X':preds_reduced[:,0],'Y':preds_reduced[:,1], 'label': label})\n",
    "\n",
    "plot_df = plot_df[plot_df[\"label\"] != 'LS']\n",
    "plot_df[\"count\"] = plot_df.apply(lambda row: len(plot_df[plot_df[\"label\"] == row[\"label\"]]), axis=1)\n",
    "plot_df = plot_df[plot_df[\"count\"] > 45]\n",
    "\n",
    "chart = alt.Chart(plot_df).mark_circle(size=60).encode(\n",
    "    x='X',\n",
    "    y='Y',\n",
    "    color='label').interactive()\n",
    "    \n",
    "display(chart)"
   ]
  },
  {
   "cell_type": "code",
   "execution_count": null,
   "metadata": {},
   "outputs": [],
   "source": []
  }
 ],
 "metadata": {
  "kernelspec": {
   "display_name": "Python 3",
   "language": "python",
   "name": "python3"
  },
  "language_info": {
   "codemirror_mode": {
    "name": "ipython",
    "version": 3
   },
   "file_extension": ".py",
   "mimetype": "text/x-python",
   "name": "python",
   "nbconvert_exporter": "python",
   "pygments_lexer": "ipython3",
   "version": "3.6.8"
  }
 },
 "nbformat": 4,
 "nbformat_minor": 2
}
