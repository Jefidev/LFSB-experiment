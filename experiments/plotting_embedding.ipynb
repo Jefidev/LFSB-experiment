{
 "cells": [
  {
   "cell_type": "code",
   "execution_count": 2,
   "metadata": {},
   "outputs": [],
   "source": [
    "import numpy as np\n",
    "from sklearn.manifold import TSNE\n",
    "import pandas as pd\n",
    "import altair as alt\n",
    "from IPython.display import display"
   ]
  },
  {
   "cell_type": "code",
   "execution_count": 3,
   "metadata": {},
   "outputs": [
    {
     "name": "stdout",
     "output_type": "stream",
     "text": [
      "[[-7.0544915e-14  6.5294471e-12  4.6053207e-27 ... -4.8089034e-19\n",
      "   5.9447750e-23  8.8278540e-10]\n",
      " [-9.4368361e-14  4.3991408e-12  2.2219931e-27 ... -9.7099630e-20\n",
      "   5.5065369e-23  6.8328543e-10]\n",
      " [-7.0544915e-14  6.5294471e-12  4.6053207e-27 ... -4.8089034e-19\n",
      "   5.9447750e-23  8.8278540e-10]\n",
      " ...\n",
      " [-6.1477678e-14  3.7886048e-12  2.1680332e-27 ...  1.3856930e-19\n",
      "   3.8978362e-23  5.1631766e-10]\n",
      " [-6.1639712e-14  6.2431206e-12  4.4651407e-27 ... -4.3847500e-19\n",
      "   5.4182754e-23  8.2478380e-10]\n",
      " [-7.0544915e-14  6.5294471e-12  4.6053207e-27 ... -4.8089034e-19\n",
      "   5.9447750e-23  8.8278540e-10]]\n",
      "['1' '1' '1' '1' '2' '2' '2' '2' '2' '2' '2' '2' '3' '3' '3' '3' '3' '3'\n",
      " '4' '4' '4' '4' '4' '4' '4' '4' '5' '5' '5' '5' '5' '5' '5']\n"
     ]
    }
   ],
   "source": [
    "# loading data\n",
    "preds = np.load(\"./30_examples/results/preds.np.npy\")\n",
    "label = np.load(\"./30_examples/results/label.np.npy\")\n",
    "\n",
    "print(preds)\n",
    "print(label)"
   ]
  },
  {
   "cell_type": "code",
   "execution_count": 4,
   "metadata": {},
   "outputs": [],
   "source": [
    "# reducting dimensions\n",
    "\n",
    "def reduce_dim(perplexity):\n",
    "    preds_reduced = TSNE(n_components=2, perplexity = perplexity).fit_transform(preds)\n",
    "    return preds_reduced\n",
    "\n",
    "\n",
    "def create_plot(preds_reduced, label):\n",
    "    plot_df = pd.DataFrame({'X':preds_reduced[:,0],'Y':preds_reduced[:,1], 'label': label})\n",
    "\n",
    "    #plot_df[\"count\"] = plot_df.apply(lambda row: len(plot_df[plot_df[\"label\"] == row[\"label\"]]), axis=1)\n",
    "    #plot_df = plot_df[plot_df[\"count\"] > 45]\n",
    "\n",
    "    chart = alt.Chart(plot_df).mark_circle(size=60).encode(\n",
    "        x='X',\n",
    "        y='Y',\n",
    "        color='label').interactive()\n",
    "    \n",
    "    display(chart)"
   ]
  },
  {
   "cell_type": "code",
   "execution_count": 5,
   "metadata": {},
   "outputs": [
    {
     "name": "stdout",
     "output_type": "stream",
     "text": [
      "Perplexity 5\n"
     ]
    },
    {
     "data": {
      "application/vnd.vegalite.v2+json": {
       "$schema": "https://vega.github.io/schema/vega-lite/v2.6.0.json",
       "config": {
        "view": {
         "height": 300,
         "width": 400
        }
       },
       "data": {
        "name": "data-e648bbb3c11c4a70f58f4bb4f3da8f71"
       },
       "datasets": {
        "data-e648bbb3c11c4a70f58f4bb4f3da8f71": [
         {
          "X": -45.93010330200195,
          "Y": 98.75468444824219,
          "label": "1"
         },
         {
          "X": 45.53087615966797,
          "Y": -224.30276489257812,
          "label": "1"
         },
         {
          "X": -72.34967041015625,
          "Y": 81.33464813232422,
          "label": "1"
         },
         {
          "X": 128.35093688964844,
          "Y": 46.57408905029297,
          "label": "1"
         },
         {
          "X": 55.09369659423828,
          "Y": -17.494956970214844,
          "label": "2"
         },
         {
          "X": -10.58527946472168,
          "Y": 31.086740493774414,
          "label": "2"
         },
         {
          "X": -46.98147201538086,
          "Y": 71.22406768798828,
          "label": "2"
         },
         {
          "X": -94.4166488647461,
          "Y": 32.89541244506836,
          "label": "2"
         },
         {
          "X": 34.39335250854492,
          "Y": 22.365068435668945,
          "label": "2"
         },
         {
          "X": -98.97545623779297,
          "Y": 111.05795288085938,
          "label": "2"
         },
         {
          "X": -49.911155700683594,
          "Y": 46.24882888793945,
          "label": "2"
         },
         {
          "X": 108.99903106689453,
          "Y": 16.08526611328125,
          "label": "2"
         },
         {
          "X": -82.44154357910156,
          "Y": 4.731469631195068,
          "label": "3"
         },
         {
          "X": -26.647327423095703,
          "Y": 53.76988220214844,
          "label": "3"
         },
         {
          "X": 74.9714584350586,
          "Y": -233.06124877929688,
          "label": "3"
         },
         {
          "X": 44.80411911010742,
          "Y": 2.374356269836426,
          "label": "3"
         },
         {
          "X": -19.2978572845459,
          "Y": 83.60498809814453,
          "label": "3"
         },
         {
          "X": -0.7740013599395752,
          "Y": -183.4688720703125,
          "label": "3"
         },
         {
          "X": 116.75080108642578,
          "Y": 28.71276092529297,
          "label": "4"
         },
         {
          "X": -73.13114929199219,
          "Y": 53.05900573730469,
          "label": "4"
         },
         {
          "X": 12.536999702453613,
          "Y": -166.07614135742188,
          "label": "4"
         },
         {
          "X": -21.15859603881836,
          "Y": 2.2025797367095947,
          "label": "4"
         },
         {
          "X": -51.72805404663086,
          "Y": -1.3600775003433228,
          "label": "4"
         },
         {
          "X": 55.7926025390625,
          "Y": -39.14035415649414,
          "label": "4"
         },
         {
          "X": 10.642830848693848,
          "Y": -199.28297424316406,
          "label": "4"
         },
         {
          "X": -37.462181091308594,
          "Y": 24.67044448852539,
          "label": "4"
         },
         {
          "X": 6.64235782623291,
          "Y": -150.96998596191406,
          "label": "5"
         },
         {
          "X": 43.303321838378906,
          "Y": 52.2280158996582,
          "label": "5"
         },
         {
          "X": -0.8070591688156128,
          "Y": 60.378013610839844,
          "label": "5"
         },
         {
          "X": -64.96224212646484,
          "Y": 25.675811767578125,
          "label": "5"
         },
         {
          "X": 58.54231643676758,
          "Y": -217.54263305664062,
          "label": "5"
         },
         {
          "X": -10.04062557220459,
          "Y": -149.9303741455078,
          "label": "5"
         },
         {
          "X": -98.78042602539062,
          "Y": 63.54753112792969,
          "label": "5"
         }
        ]
       },
       "encoding": {
        "color": {
         "field": "label",
         "type": "nominal"
        },
        "x": {
         "field": "X",
         "type": "quantitative"
        },
        "y": {
         "field": "Y",
         "type": "quantitative"
        }
       },
       "mark": {
        "size": 60,
        "type": "circle"
       },
       "selection": {
        "selector001": {
         "bind": "scales",
         "encodings": [
          "x",
          "y"
         ],
         "mark": {
          "fill": "#333",
          "fillOpacity": 0.125,
          "stroke": "white"
         },
         "on": "[mousedown, window:mouseup] > window:mousemove!",
         "resolve": "global",
         "translate": "[mousedown, window:mouseup] > window:mousemove!",
         "type": "interval",
         "zoom": "wheel!"
        }
       }
      },
      "image/png": "[encoded data removed]",
      "text/plain": [
       "<VegaLite 2 object>\n",
       "\n",
       "If you see this message, it means the renderer has not been properly enabled\n",
       "for the frontend that you are using. For more information, see\n",
       "https://altair-viz.github.io/user_guide/troubleshooting.html\n"
      ]
     },
     "metadata": {},
     "output_type": "display_data"
    },
    {
     "name": "stdout",
     "output_type": "stream",
     "text": [
      "Perplexity 15\n"
     ]
    },
    {
     "data": {
      "application/vnd.vegalite.v2+json": {
       "$schema": "https://vega.github.io/schema/vega-lite/v2.6.0.json",
       "config": {
        "view": {
         "height": 300,
         "width": 400
        }
       },
       "data": {
        "name": "data-fdc211cf32deb8888a6c88ea607987b8"
       },
       "datasets": {
        "data-fdc211cf32deb8888a6c88ea607987b8": [
         {
          "X": -34.33116912841797,
          "Y": -38.21583938598633,
          "label": "1"
         },
         {
          "X": -93.23060607910156,
          "Y": 182.24917602539062,
          "label": "1"
         },
         {
          "X": 72.35657501220703,
          "Y": -17.97418785095215,
          "label": "1"
         },
         {
          "X": 49.469661712646484,
          "Y": -207.05355834960938,
          "label": "1"
         },
         {
          "X": 147.63311767578125,
          "Y": 2.5747454166412354,
          "label": "2"
         },
         {
          "X": -24.33361053466797,
          "Y": -87.72377014160156,
          "label": "2"
         },
         {
          "X": -64.71612548828125,
          "Y": -66.95160675048828,
          "label": "2"
         },
         {
          "X": 2.192708730697632,
          "Y": -55.5317268371582,
          "label": "2"
         },
         {
          "X": 109.5384521484375,
          "Y": -84.1723861694336,
          "label": "2"
         },
         {
          "X": -100.10840606689453,
          "Y": 39.11903381347656,
          "label": "2"
         },
         {
          "X": 31.855634689331055,
          "Y": -31.36101722717285,
          "label": "2"
         },
         {
          "X": -17.003103256225586,
          "Y": -173.1025390625,
          "label": "2"
         },
         {
          "X": -2.870619535446167,
          "Y": 21.710054397583008,
          "label": "3"
         },
         {
          "X": -74.56096649169922,
          "Y": -19.08597755432129,
          "label": "3"
         },
         {
          "X": -138.42843627929688,
          "Y": 149.3610076904297,
          "label": "3"
         },
         {
          "X": 138.71365356445312,
          "Y": -42.49966049194336,
          "label": "3"
         },
         {
          "X": 25.045835494995117,
          "Y": 52.27092361450195,
          "label": "3"
         },
         {
          "X": 8.266550064086914,
          "Y": 197.4378662109375,
          "label": "3"
         },
         {
          "X": 14.453665733337402,
          "Y": -180.90745544433594,
          "label": "4"
         },
         {
          "X": -3.790191650390625,
          "Y": -15.677331924438477,
          "label": "4"
         },
         {
          "X": 13.876872062683105,
          "Y": 155.21182250976562,
          "label": "4"
         },
         {
          "X": 67.69680786132812,
          "Y": 29.014467239379883,
          "label": "4"
         },
         {
          "X": 56.02811813354492,
          "Y": -61.89427947998047,
          "label": "4"
         },
         {
          "X": 157.038818359375,
          "Y": 46.0387077331543,
          "label": "4"
         },
         {
          "X": -28.850784301757812,
          "Y": 188.13504028320312,
          "label": "4"
         },
         {
          "X": 22.72224235534668,
          "Y": -90.80078125,
          "label": "4"
         },
         {
          "X": 46.54509353637695,
          "Y": 167.11024475097656,
          "label": "5"
         },
         {
          "X": 82.9793472290039,
          "Y": -128.77435302734375,
          "label": "5"
         },
         {
          "X": -41.39622116088867,
          "Y": 6.365916728973389,
          "label": "5"
         },
         {
          "X": -30.93977165222168,
          "Y": 50.876312255859375,
          "label": "5"
         },
         {
          "X": -94.6056900024414,
          "Y": 152.88450622558594,
          "label": "5"
         },
         {
          "X": 53.82125473022461,
          "Y": 133.50054931640625,
          "label": "5"
         },
         {
          "X": 33.564842224121094,
          "Y": 6.574091911315918,
          "label": "5"
         }
        ]
       },
       "encoding": {
        "color": {
         "field": "label",
         "type": "nominal"
        },
        "x": {
         "field": "X",
         "type": "quantitative"
        },
        "y": {
         "field": "Y",
         "type": "quantitative"
        }
       },
       "mark": {
        "size": 60,
        "type": "circle"
       },
       "selection": {
        "selector002": {
         "bind": "scales",
         "encodings": [
          "x",
          "y"
         ],
         "mark": {
          "fill": "#333",
          "fillOpacity": 0.125,
          "stroke": "white"
         },
         "on": "[mousedown, window:mouseup] > window:mousemove!",
         "resolve": "global",
         "translate": "[mousedown, window:mouseup] > window:mousemove!",
         "type": "interval",
         "zoom": "wheel!"
        }
       }
      },
      "image/png": "[encoded data removed]",
      "text/plain": [
       "<VegaLite 2 object>\n",
       "\n",
       "If you see this message, it means the renderer has not been properly enabled\n",
       "for the frontend that you are using. For more information, see\n",
       "https://altair-viz.github.io/user_guide/troubleshooting.html\n"
      ]
     },
     "metadata": {},
     "output_type": "display_data"
    },
    {
     "name": "stdout",
     "output_type": "stream",
     "text": [
      "Perplexity 30\n"
     ]
    },
    {
     "data": {
      "application/vnd.vegalite.v2+json": {
       "$schema": "https://vega.github.io/schema/vega-lite/v2.6.0.json",
       "config": {
        "view": {
         "height": 300,
         "width": 400
        }
       },
       "data": {
        "name": "data-0841230b071274edd61805fbf9de7eea"
       },
       "datasets": {
        "data-0841230b071274edd61805fbf9de7eea": [
         {
          "X": 38.60783767700195,
          "Y": 8.961379051208496,
          "label": "1"
         },
         {
          "X": 101.1304702758789,
          "Y": -56.87956619262695,
          "label": "1"
         },
         {
          "X": 11.670058250427246,
          "Y": 27.185129165649414,
          "label": "1"
         },
         {
          "X": -4.882594108581543,
          "Y": -30.629995346069336,
          "label": "1"
         },
         {
          "X": 5.627830982208252,
          "Y": -2.496741533279419,
          "label": "2"
         },
         {
          "X": -59.23395919799805,
          "Y": -8.59912109375,
          "label": "2"
         },
         {
          "X": -84.77252960205078,
          "Y": 25.74565315246582,
          "label": "2"
         },
         {
          "X": -49.190181732177734,
          "Y": 22.310482025146484,
          "label": "2"
         },
         {
          "X": -17.474857330322266,
          "Y": 21.66657829284668,
          "label": "2"
         },
         {
          "X": 31.009756088256836,
          "Y": -21.580127716064453,
          "label": "2"
         },
         {
          "X": -66.70315551757812,
          "Y": 56.4869384765625,
          "label": "2"
         },
         {
          "X": -78.08881378173828,
          "Y": -41.48699188232422,
          "label": "2"
         },
         {
          "X": -55.23725509643555,
          "Y": -68.60079193115234,
          "label": "3"
         },
         {
          "X": -15.090034484863281,
          "Y": -59.77052307128906,
          "label": "3"
         },
         {
          "X": 128.6719512939453,
          "Y": 23.427566528320312,
          "label": "3"
         },
         {
          "X": 33.160911560058594,
          "Y": 80.21710205078125,
          "label": "3"
         },
         {
          "X": -95.60338592529297,
          "Y": -8.946720123291016,
          "label": "3"
         },
         {
          "X": 68.06825256347656,
          "Y": -11.924507141113281,
          "label": "3"
         },
         {
          "X": -27.82414436340332,
          "Y": -93.83390045166016,
          "label": "4"
         },
         {
          "X": -39.6815185546875,
          "Y": -36.41023635864258,
          "label": "4"
         },
         {
          "X": 21.991212844848633,
          "Y": -51.6620979309082,
          "label": "4"
         },
         {
          "X": 38.333126068115234,
          "Y": 43.15009689331055,
          "label": "4"
         },
         {
          "X": -26.878623962402344,
          "Y": -7.001089572906494,
          "label": "4"
         },
         {
          "X": 3.184684991836548,
          "Y": 57.579769134521484,
          "label": "4"
         },
         {
          "X": 60.383750915527344,
          "Y": -44.61638641357422,
          "label": "4"
         },
         {
          "X": -29.167909622192383,
          "Y": 50.65578079223633,
          "label": "4"
         },
         {
          "X": 10.77470874786377,
          "Y": -86.61552429199219,
          "label": "5"
         },
         {
          "X": -4.124209880828857,
          "Y": 91.83045959472656,
          "label": "5"
         },
         {
          "X": 47.06808853149414,
          "Y": -79.42031860351562,
          "label": "5"
         },
         {
          "X": -41.312774658203125,
          "Y": 83.8804702758789,
          "label": "5"
         },
         {
          "X": 115.48725128173828,
          "Y": -21.439067840576172,
          "label": "5"
         },
         {
          "X": 71.80842590332031,
          "Y": 22.785911560058594,
          "label": "5"
         },
         {
          "X": 68.7943115234375,
          "Y": 61.280174255371094,
          "label": "5"
         }
        ]
       },
       "encoding": {
        "color": {
         "field": "label",
         "type": "nominal"
        },
        "x": {
         "field": "X",
         "type": "quantitative"
        },
        "y": {
         "field": "Y",
         "type": "quantitative"
        }
       },
       "mark": {
        "size": 60,
        "type": "circle"
       },
       "selection": {
        "selector003": {
         "bind": "scales",
         "encodings": [
          "x",
          "y"
         ],
         "mark": {
          "fill": "#333",
          "fillOpacity": 0.125,
          "stroke": "white"
         },
         "on": "[mousedown, window:mouseup] > window:mousemove!",
         "resolve": "global",
         "translate": "[mousedown, window:mouseup] > window:mousemove!",
         "type": "interval",
         "zoom": "wheel!"
        }
       }
      },
      "image/png": "[encoded data removed]",
      "text/plain": [
       "<VegaLite 2 object>\n",
       "\n",
       "If you see this message, it means the renderer has not been properly enabled\n",
       "for the frontend that you are using. For more information, see\n",
       "https://altair-viz.github.io/user_guide/troubleshooting.html\n"
      ]
     },
     "metadata": {},
     "output_type": "display_data"
    },
    {
     "name": "stdout",
     "output_type": "stream",
     "text": [
      "Perplexity 35\n"
     ]
    },
    {
     "data": {
      "application/vnd.vegalite.v2+json": {
       "$schema": "https://vega.github.io/schema/vega-lite/v2.6.0.json",
       "config": {
        "view": {
         "height": 300,
         "width": 400
        }
       },
       "data": {
        "name": "data-b733a4134b543193ef803fe8d5f23e12"
       },
       "datasets": {
        "data-b733a4134b543193ef803fe8d5f23e12": [
         {
          "X": 116.98810577392578,
          "Y": -8.231635093688965,
          "label": "1"
         },
         {
          "X": -24.229122161865234,
          "Y": -51.81315994262695,
          "label": "1"
         },
         {
          "X": 39.948753356933594,
          "Y": 33.0139045715332,
          "label": "1"
         },
         {
          "X": 154.01022338867188,
          "Y": -65.57186126708984,
          "label": "1"
         },
         {
          "X": 69.19145965576172,
          "Y": -167.376708984375,
          "label": "2"
         },
         {
          "X": 2.6263418197631836,
          "Y": -165.04869079589844,
          "label": "2"
         },
         {
          "X": -44.690921783447266,
          "Y": 0.03004302643239498,
          "label": "2"
         },
         {
          "X": 177.18003845214844,
          "Y": -2.438157558441162,
          "label": "2"
         },
         {
          "X": -81.95663452148438,
          "Y": -43.062767028808594,
          "label": "2"
         },
         {
          "X": -63.021366119384766,
          "Y": -156.1221466064453,
          "label": "2"
         },
         {
          "X": 90.82234954833984,
          "Y": -62.87186813354492,
          "label": "2"
         },
         {
          "X": 31.3404541015625,
          "Y": -58.50593948364258,
          "label": "2"
         },
         {
          "X": -3.039428234100342,
          "Y": -105.42318725585938,
          "label": "3"
         },
         {
          "X": 54.44485092163086,
          "Y": -108.54216766357422,
          "label": "3"
         },
         {
          "X": -71.88679504394531,
          "Y": 123.16389465332031,
          "label": "3"
         },
         {
          "X": 54.167091369628906,
          "Y": 145.60836791992188,
          "label": "3"
         },
         {
          "X": -10.83984661102295,
          "Y": 41.38361740112305,
          "label": "3"
         },
         {
          "X": 120.45109558105469,
          "Y": -121.06993865966797,
          "label": "3"
         },
         {
          "X": -122.0682373046875,
          "Y": 79.10209655761719,
          "label": "4"
         },
         {
          "X": -119.42305755615234,
          "Y": -107.55757904052734,
          "label": "4"
         },
         {
          "X": -12.01077651977539,
          "Y": 154.8262176513672,
          "label": "4"
         },
         {
          "X": -59.04084396362305,
          "Y": -95.3461685180664,
          "label": "4"
         },
         {
          "X": 151.84027099609375,
          "Y": 59.279170989990234,
          "label": "4"
         },
         {
          "X": 108.53076171875,
          "Y": 107.95549774169922,
          "label": "4"
         },
         {
          "X": 92.69916534423828,
          "Y": 44.21561813354492,
          "label": "4"
         },
         {
          "X": 63.21035385131836,
          "Y": -13.937092781066895,
          "label": "4"
         },
         {
          "X": -97.37488555908203,
          "Y": 13.858499526977539,
          "label": "5"
         },
         {
          "X": -62.02915573120117,
          "Y": 60.28691864013672,
          "label": "5"
         },
         {
          "X": -142.11123657226562,
          "Y": -45.52571487426758,
          "label": "5"
         },
         {
          "X": 46.406333923339844,
          "Y": 85.80171966552734,
          "label": "5"
         },
         {
          "X": -157.22239685058594,
          "Y": 19.42939567565918,
          "label": "5"
         },
         {
          "X": 8.394196510314941,
          "Y": -10.283509254455566,
          "label": "5"
         },
         {
          "X": -10.169562339782715,
          "Y": 94.83099365234375,
          "label": "5"
         }
        ]
       },
       "encoding": {
        "color": {
         "field": "label",
         "type": "nominal"
        },
        "x": {
         "field": "X",
         "type": "quantitative"
        },
        "y": {
         "field": "Y",
         "type": "quantitative"
        }
       },
       "mark": {
        "size": 60,
        "type": "circle"
       },
       "selection": {
        "selector004": {
         "bind": "scales",
         "encodings": [
          "x",
          "y"
         ],
         "mark": {
          "fill": "#333",
          "fillOpacity": 0.125,
          "stroke": "white"
         },
         "on": "[mousedown, window:mouseup] > window:mousemove!",
         "resolve": "global",
         "translate": "[mousedown, window:mouseup] > window:mousemove!",
         "type": "interval",
         "zoom": "wheel!"
        }
       }
      },
      "image/png": "[encoded data removed]",
      "text/plain": [
       "<VegaLite 2 object>\n",
       "\n",
       "If you see this message, it means the renderer has not been properly enabled\n",
       "for the frontend that you are using. For more information, see\n",
       "https://altair-viz.github.io/user_guide/troubleshooting.html\n"
      ]
     },
     "metadata": {},
     "output_type": "display_data"
    },
    {
     "name": "stdout",
     "output_type": "stream",
     "text": [
      "Perplexity 40\n"
     ]
    },
    {
     "data": {
      "application/vnd.vegalite.v2+json": {
       "$schema": "https://vega.github.io/schema/vega-lite/v2.6.0.json",
       "config": {
        "view": {
         "height": 300,
         "width": 400
        }
       },
       "data": {
        "name": "data-11aa42b4fa80e8b133b27b39d9799429"
       },
       "datasets": {
        "data-11aa42b4fa80e8b133b27b39d9799429": [
         {
          "X": -47.558284759521484,
          "Y": -12.403421401977539,
          "label": "1"
         },
         {
          "X": -74.77326965332031,
          "Y": 71.9244384765625,
          "label": "1"
         },
         {
          "X": 77.24493408203125,
          "Y": 113.8058090209961,
          "label": "1"
         },
         {
          "X": -116.52651977539062,
          "Y": 46.05015563964844,
          "label": "1"
         },
         {
          "X": -89.61408996582031,
          "Y": -4.1997528076171875,
          "label": "2"
         },
         {
          "X": -110.68634796142578,
          "Y": 100.16352844238281,
          "label": "2"
         },
         {
          "X": 5.046022415161133,
          "Y": 97.93626403808594,
          "label": "2"
         },
         {
          "X": 112.80510711669922,
          "Y": 0.6286753416061401,
          "label": "2"
         },
         {
          "X": -88.35691833496094,
          "Y": -49.86030578613281,
          "label": "2"
         },
         {
          "X": 33.40721893310547,
          "Y": 135.6368865966797,
          "label": "2"
         },
         {
          "X": -34.51066970825195,
          "Y": 57.23168182373047,
          "label": "2"
         },
         {
          "X": -66.70294189453125,
          "Y": 29.887760162353516,
          "label": "2"
         },
         {
          "X": 78.31809997558594,
          "Y": 29.084041595458984,
          "label": "3"
         },
         {
          "X": -33.79137420654297,
          "Y": -51.70970916748047,
          "label": "3"
         },
         {
          "X": -0.7887448668479919,
          "Y": 185.1302032470703,
          "label": "3"
         },
         {
          "X": 14.889335632324219,
          "Y": 8.902405738830566,
          "label": "3"
         },
         {
          "X": -6.032800674438477,
          "Y": -104.70124816894531,
          "label": "3"
         },
         {
          "X": 3.7843992710113525,
          "Y": 56.17789840698242,
          "label": "3"
         },
         {
          "X": 45.379207611083984,
          "Y": 80.20216369628906,
          "label": "4"
         },
         {
          "X": -37.84792709350586,
          "Y": 98.28475189208984,
          "label": "4"
         },
         {
          "X": -68.66533660888672,
          "Y": 132.60662841796875,
          "label": "4"
         },
         {
          "X": 44.39963150024414,
          "Y": -44.88488006591797,
          "label": "4"
         },
         {
          "X": 54.77912902832031,
          "Y": -6.006200790405273,
          "label": "4"
         },
         {
          "X": -1.2924702167510986,
          "Y": -25.543624877929688,
          "label": "4"
         },
         {
          "X": -58.570369720458984,
          "Y": -90.06536865234375,
          "label": "4"
         },
         {
          "X": -133.85018920898438,
          "Y": -3.0652499198913574,
          "label": "4"
         },
         {
          "X": 88.86515045166016,
          "Y": -49.69704055786133,
          "label": "5"
         },
         {
          "X": 13.63386058807373,
          "Y": -68.85157012939453,
          "label": "5"
         },
         {
          "X": 39.013885498046875,
          "Y": 39.044761657714844,
          "label": "5"
         },
         {
          "X": -27.84772300720215,
          "Y": -480.5013732910156,
          "label": "5"
         },
         {
          "X": 97.25582122802734,
          "Y": 68.01746368408203,
          "label": "5"
         },
         {
          "X": -17.417177200317383,
          "Y": 140.7105255126953,
          "label": "5"
         },
         {
          "X": -22.328109741210938,
          "Y": 18.695688247680664,
          "label": "5"
         }
        ]
       },
       "encoding": {
        "color": {
         "field": "label",
         "type": "nominal"
        },
        "x": {
         "field": "X",
         "type": "quantitative"
        },
        "y": {
         "field": "Y",
         "type": "quantitative"
        }
       },
       "mark": {
        "size": 60,
        "type": "circle"
       },
       "selection": {
        "selector005": {
         "bind": "scales",
         "encodings": [
          "x",
          "y"
         ],
         "mark": {
          "fill": "#333",
          "fillOpacity": 0.125,
          "stroke": "white"
         },
         "on": "[mousedown, window:mouseup] > window:mousemove!",
         "resolve": "global",
         "translate": "[mousedown, window:mouseup] > window:mousemove!",
         "type": "interval",
         "zoom": "wheel!"
        }
       }
      },
      "image/png": "[encoded data removed]",
      "text/plain": [
       "<VegaLite 2 object>\n",
       "\n",
       "If you see this message, it means the renderer has not been properly enabled\n",
       "for the frontend that you are using. For more information, see\n",
       "https://altair-viz.github.io/user_guide/troubleshooting.html\n"
      ]
     },
     "metadata": {},
     "output_type": "display_data"
    },
    {
     "name": "stdout",
     "output_type": "stream",
     "text": [
      "Perplexity 45\n"
     ]
    },
    {
     "data": {
      "application/vnd.vegalite.v2+json": {
       "$schema": "https://vega.github.io/schema/vega-lite/v2.6.0.json",
       "config": {
        "view": {
         "height": 300,
         "width": 400
        }
       },
       "data": {
        "name": "data-f9e454a1958115b796742a3643362c64"
       },
       "datasets": {
        "data-f9e454a1958115b796742a3643362c64": [
         {
          "X": 24.730268478393555,
          "Y": 97.89808654785156,
          "label": "1"
         },
         {
          "X": 2.0663156509399414,
          "Y": -8.78001594543457,
          "label": "1"
         },
         {
          "X": -30.82160758972168,
          "Y": -20.5482120513916,
          "label": "1"
         },
         {
          "X": -101.08954620361328,
          "Y": 3.43967604637146,
          "label": "1"
         },
         {
          "X": 59.84748840332031,
          "Y": 72.68656921386719,
          "label": "2"
         },
         {
          "X": -52.03374099731445,
          "Y": -47.762184143066406,
          "label": "2"
         },
         {
          "X": -24.081050872802734,
          "Y": 48.95549011230469,
          "label": "2"
         },
         {
          "X": 15.649258613586426,
          "Y": -71.32730865478516,
          "label": "2"
         },
         {
          "X": 96.568359375,
          "Y": -43.44536209106445,
          "label": "2"
         },
         {
          "X": 81.39771270751953,
          "Y": -84.25501251220703,
          "label": "2"
         },
         {
          "X": -44.38216781616211,
          "Y": -106.71868896484375,
          "label": "2"
         },
         {
          "X": 92.7357406616211,
          "Y": 45.03270721435547,
          "label": "2"
         },
         {
          "X": -63.58917236328125,
          "Y": -9.008418083190918,
          "label": "3"
         },
         {
          "X": 41.89174270629883,
          "Y": 38.59263229370117,
          "label": "3"
         },
         {
          "X": -6.260796070098877,
          "Y": -43.276947021484375,
          "label": "3"
         },
         {
          "X": 41.27693176269531,
          "Y": -103.17925262451172,
          "label": "3"
         },
         {
          "X": 51.47367858886719,
          "Y": -59.089447021484375,
          "label": "3"
         },
         {
          "X": -26.1390438079834,
          "Y": 12.871896743774414,
          "label": "3"
         },
         {
          "X": -77.020263671875,
          "Y": -78.0851821899414,
          "label": "4"
         },
         {
          "X": -93.8420181274414,
          "Y": -38.66038131713867,
          "label": "4"
         },
         {
          "X": 27.259416580200195,
          "Y": -33.125125885009766,
          "label": "4"
         },
         {
          "X": 68.92833709716797,
          "Y": 13.622614860534668,
          "label": "4"
         },
         {
          "X": -24.606487274169922,
          "Y": -72.80921173095703,
          "label": "4"
         },
         {
          "X": 63.11435317993164,
          "Y": -22.858808517456055,
          "label": "4"
         },
         {
          "X": 34.57512664794922,
          "Y": 2.0496761798858643,
          "label": "4"
         },
         {
          "X": -57.68956756591797,
          "Y": 71.8705825805664,
          "label": "4"
         },
         {
          "X": -57.745582580566406,
          "Y": 27.872522354125977,
          "label": "5"
         },
         {
          "X": 11.822138786315918,
          "Y": 60.918601989746094,
          "label": "5"
         },
         {
          "X": -0.8712478876113892,
          "Y": -109.22185516357422,
          "label": "5"
         },
         {
          "X": 106.09614562988281,
          "Y": -1.3993808031082153,
          "label": "5"
         },
         {
          "X": -92.53549194335938,
          "Y": 45.97620391845703,
          "label": "5"
         },
         {
          "X": -19.80546760559082,
          "Y": 90.77819061279297,
          "label": "5"
         },
         {
          "X": 6.901256561279297,
          "Y": 25.568750381469727,
          "label": "5"
         }
        ]
       },
       "encoding": {
        "color": {
         "field": "label",
         "type": "nominal"
        },
        "x": {
         "field": "X",
         "type": "quantitative"
        },
        "y": {
         "field": "Y",
         "type": "quantitative"
        }
       },
       "mark": {
        "size": 60,
        "type": "circle"
       },
       "selection": {
        "selector006": {
         "bind": "scales",
         "encodings": [
          "x",
          "y"
         ],
         "mark": {
          "fill": "#333",
          "fillOpacity": 0.125,
          "stroke": "white"
         },
         "on": "[mousedown, window:mouseup] > window:mousemove!",
         "resolve": "global",
         "translate": "[mousedown, window:mouseup] > window:mousemove!",
         "type": "interval",
         "zoom": "wheel!"
        }
       }
      },
      "image/png": "[encoded data removed]",
      "text/plain": [
       "<VegaLite 2 object>\n",
       "\n",
       "If you see this message, it means the renderer has not been properly enabled\n",
       "for the frontend that you are using. For more information, see\n",
       "https://altair-viz.github.io/user_guide/troubleshooting.html\n"
      ]
     },
     "metadata": {},
     "output_type": "display_data"
    },
    {
     "name": "stdout",
     "output_type": "stream",
     "text": [
      "Perplexity 50\n"
     ]
    },
    {
     "data": {
      "application/vnd.vegalite.v2+json": {
       "$schema": "https://vega.github.io/schema/vega-lite/v2.6.0.json",
       "config": {
        "view": {
         "height": 300,
         "width": 400
        }
       },
       "data": {
        "name": "data-5e5a58c94fb5967f91bb254fabde376c"
       },
       "datasets": {
        "data-5e5a58c94fb5967f91bb254fabde376c": [
         {
          "X": 9.433069229125977,
          "Y": -109.25689697265625,
          "label": "1"
         },
         {
          "X": -77.79605102539062,
          "Y": -81.21311950683594,
          "label": "1"
         },
         {
          "X": 45.01004409790039,
          "Y": -39.49360656738281,
          "label": "1"
         },
         {
          "X": 8.818069458007812,
          "Y": -65.89515686035156,
          "label": "1"
         },
         {
          "X": -72.09017181396484,
          "Y": 40.2574462890625,
          "label": "2"
         },
         {
          "X": 77.88290405273438,
          "Y": 80.49056243896484,
          "label": "2"
         },
         {
          "X": -29.45429229736328,
          "Y": -26.713489532470703,
          "label": "2"
         },
         {
          "X": -8.967188835144043,
          "Y": 119.19374084472656,
          "label": "2"
         },
         {
          "X": -56.83796310424805,
          "Y": 117.76985168457031,
          "label": "2"
         },
         {
          "X": -49.11359405517578,
          "Y": 75.01848602294922,
          "label": "2"
         },
         {
          "X": 29.008787155151367,
          "Y": 4.107769966125488,
          "label": "2"
         },
         {
          "X": 67.36053466796875,
          "Y": -4.160117149353027,
          "label": "2"
         },
         {
          "X": 52.256736755371094,
          "Y": -86.04806518554688,
          "label": "3"
         },
         {
          "X": -131.79241943359375,
          "Y": -3.952338933944702,
          "label": "3"
         },
         {
          "X": -110.41878509521484,
          "Y": -47.51872634887695,
          "label": "3"
         },
         {
          "X": -8.22912883758545,
          "Y": 76.30906677246094,
          "label": "3"
         },
         {
          "X": 110.3640365600586,
          "Y": -9.691765785217285,
          "label": "3"
         },
         {
          "X": -88.37812805175781,
          "Y": 0.2311171442270279,
          "label": "3"
         },
         {
          "X": 53.27143478393555,
          "Y": 36.69096374511719,
          "label": "4"
         },
         {
          "X": -32.42195129394531,
          "Y": -65.01921081542969,
          "label": "4"
         },
         {
          "X": -49.663455963134766,
          "Y": 5.976911544799805,
          "label": "4"
         },
         {
          "X": 38.73147964477539,
          "Y": 115.4813003540039,
          "label": "4"
         },
         {
          "X": 87.2765121459961,
          "Y": -53.295928955078125,
          "label": "4"
         },
         {
          "X": 10.594767570495605,
          "Y": 39.27265548706055,
          "label": "4"
         },
         {
          "X": -116.5975570678711,
          "Y": 42.04927062988281,
          "label": "4"
         },
         {
          "X": -95.1430892944336,
          "Y": 83.83053588867188,
          "label": "4"
         },
         {
          "X": 97.58260345458984,
          "Y": 37.225189208984375,
          "label": "5"
         },
         {
          "X": 7.743166923522949,
          "Y": -27.522750854492188,
          "label": "5"
         },
         {
          "X": -29.613704681396484,
          "Y": 40.23314666748047,
          "label": "5"
         },
         {
          "X": -10.288978576660156,
          "Y": 7.199586868286133,
          "label": "5"
         },
         {
          "X": 32.600929260253906,
          "Y": 72.59187316894531,
          "label": "5"
         },
         {
          "X": -38.59756088256836,
          "Y": -108.17451477050781,
          "label": "5"
         },
         {
          "X": -67.27252960205078,
          "Y": -36.093894958496094,
          "label": "5"
         }
        ]
       },
       "encoding": {
        "color": {
         "field": "label",
         "type": "nominal"
        },
        "x": {
         "field": "X",
         "type": "quantitative"
        },
        "y": {
         "field": "Y",
         "type": "quantitative"
        }
       },
       "mark": {
        "size": 60,
        "type": "circle"
       },
       "selection": {
        "selector007": {
         "bind": "scales",
         "encodings": [
          "x",
          "y"
         ],
         "mark": {
          "fill": "#333",
          "fillOpacity": 0.125,
          "stroke": "white"
         },
         "on": "[mousedown, window:mouseup] > window:mousemove!",
         "resolve": "global",
         "translate": "[mousedown, window:mouseup] > window:mousemove!",
         "type": "interval",
         "zoom": "wheel!"
        }
       }
      },
      "image/png": "[encoded data removed]",
      "text/plain": [
       "<VegaLite 2 object>\n",
       "\n",
       "If you see this message, it means the renderer has not been properly enabled\n",
       "for the frontend that you are using. For more information, see\n",
       "https://altair-viz.github.io/user_guide/troubleshooting.html\n"
      ]
     },
     "metadata": {},
     "output_type": "display_data"
    },
    {
     "name": "stdout",
     "output_type": "stream",
     "text": [
      "Perplexity 60\n"
     ]
    },
    {
     "data": {
      "application/vnd.vegalite.v2+json": {
       "$schema": "https://vega.github.io/schema/vega-lite/v2.6.0.json",
       "config": {
        "view": {
         "height": 300,
         "width": 400
        }
       },
       "data": {
        "name": "data-57ceab53513e9bf701c70f455ad6894b"
       },
       "datasets": {
        "data-57ceab53513e9bf701c70f455ad6894b": [
         {
          "X": 63.7834358215332,
          "Y": 43.185401916503906,
          "label": "1"
         },
         {
          "X": -13.267871856689453,
          "Y": -13.508280754089355,
          "label": "1"
         },
         {
          "X": 32.87998962402344,
          "Y": -29.731143951416016,
          "label": "1"
         },
         {
          "X": 49.68831253051758,
          "Y": -11.391839981079102,
          "label": "1"
         },
         {
          "X": -56.85963439941406,
          "Y": -38.1055908203125,
          "label": "2"
         },
         {
          "X": -63.61454391479492,
          "Y": -9.209636688232422,
          "label": "2"
         },
         {
          "X": -26.25033187866211,
          "Y": 35.1767463684082,
          "label": "2"
         },
         {
          "X": 75.4659423828125,
          "Y": -15.489203453063965,
          "label": "2"
         },
         {
          "X": 3.343514919281006,
          "Y": 2.7546143531799316,
          "label": "2"
         },
         {
          "X": 38.669090270996094,
          "Y": 35.78662109375,
          "label": "2"
         },
         {
          "X": -1.1032778024673462,
          "Y": -68.1882553100586,
          "label": "2"
         },
         {
          "X": -43.06163024902344,
          "Y": 17.04237937927246,
          "label": "2"
         },
         {
          "X": -68.9181900024414,
          "Y": 20.47993278503418,
          "label": "3"
         },
         {
          "X": -7.575693130493164,
          "Y": 51.2491340637207,
          "label": "3"
         },
         {
          "X": -37.40777587890625,
          "Y": -6.854598045349121,
          "label": "3"
         },
         {
          "X": 25.731130599975586,
          "Y": -4.56247615814209,
          "label": "3"
         },
         {
          "X": 20.029476165771484,
          "Y": 19.168123245239258,
          "label": "3"
         },
         {
          "X": -31.792924880981445,
          "Y": -30.249820709228516,
          "label": "3"
         },
         {
          "X": 15.882905960083008,
          "Y": 44.69159698486328,
          "label": "4"
         },
         {
          "X": 44.13739776611328,
          "Y": 12.561116218566895,
          "label": "4"
         },
         {
          "X": 9.000344276428223,
          "Y": -21.1292724609375,
          "label": "4"
         },
         {
          "X": -30.464345932006836,
          "Y": -58.58720016479492,
          "label": "4"
         },
         {
          "X": -19.145479202270508,
          "Y": 10.172346115112305,
          "label": "4"
         },
         {
          "X": 14.542455673217773,
          "Y": -45.93265914916992,
          "label": "4"
         },
         {
          "X": 57.41069793701172,
          "Y": -41.24393081665039,
          "label": "4"
         },
         {
          "X": -8.973392486572266,
          "Y": -39.22567367553711,
          "label": "4"
         },
         {
          "X": -28.216779708862305,
          "Y": 67.64899444580078,
          "label": "5"
         },
         {
          "X": 35.18061828613281,
          "Y": -62.53181457519531,
          "label": "5"
         },
         {
          "X": 70.2937240600586,
          "Y": 14.209098815917969,
          "label": "5"
         },
         {
          "X": 7.670553684234619,
          "Y": 73.67530059814453,
          "label": "5"
         },
         {
          "X": -50.76035690307617,
          "Y": 46.62310028076172,
          "label": "5"
         },
         {
          "X": -2.2680585384368896,
          "Y": 26.498645782470703,
          "label": "5"
         },
         {
          "X": 37.177730560302734,
          "Y": 64.24275970458984,
          "label": "5"
         }
        ]
       },
       "encoding": {
        "color": {
         "field": "label",
         "type": "nominal"
        },
        "x": {
         "field": "X",
         "type": "quantitative"
        },
        "y": {
         "field": "Y",
         "type": "quantitative"
        }
       },
       "mark": {
        "size": 60,
        "type": "circle"
       },
       "selection": {
        "selector008": {
         "bind": "scales",
         "encodings": [
          "x",
          "y"
         ],
         "mark": {
          "fill": "#333",
          "fillOpacity": 0.125,
          "stroke": "white"
         },
         "on": "[mousedown, window:mouseup] > window:mousemove!",
         "resolve": "global",
         "translate": "[mousedown, window:mouseup] > window:mousemove!",
         "type": "interval",
         "zoom": "wheel!"
        }
       }
      },
      "image/png": "[encoded data removed]",
      "text/plain": [
       "<VegaLite 2 object>\n",
       "\n",
       "If you see this message, it means the renderer has not been properly enabled\n",
       "for the frontend that you are using. For more information, see\n",
       "https://altair-viz.github.io/user_guide/troubleshooting.html\n"
      ]
     },
     "metadata": {},
     "output_type": "display_data"
    }
   ],
   "source": [
    "perplexity = [5, 15, 30, 35, 40, 45, 50, 60]\n",
    "\n",
    "for p in perplexity:\n",
    "    print(\"Perplexity {}\".format(p))\n",
    "    r = reduce_dim(p)\n",
    "    create_plot(r, label)"
   ]
  },
  {
   "cell_type": "code",
   "execution_count": 5,
   "metadata": {},
   "outputs": [
    {
     "data": {
      "application/vnd.vegalite.v2+json": {
       "$schema": "https://vega.github.io/schema/vega-lite/v2.6.0.json",
       "config": {
        "view": {
         "height": 300,
         "width": 400
        }
       },
       "data": {
        "name": "data-599324ea1f6dbcbcf748ccbd7db43a13"
       },
       "datasets": {
        "data-599324ea1f6dbcbcf748ccbd7db43a13": [
         {
          "X": 0.3825382888317108,
          "Y": 0.02663634717464447,
          "count": 55,
          "label": "1"
         },
         {
          "X": 0.382377564907074,
          "Y": 0.02660462073981762,
          "count": 55,
          "label": "1"
         },
         {
          "X": 0.38253846764564514,
          "Y": 0.026636363938450813,
          "count": 55,
          "label": "1"
         },
         {
          "X": 0.38253846764564514,
          "Y": 0.026636358350515366,
          "count": 55,
          "label": "1"
         },
         {
          "X": 0.382538378238678,
          "Y": 0.02663639560341835,
          "count": 55,
          "label": "1"
         },
         {
          "X": 0.38237738609313965,
          "Y": 0.026604613289237022,
          "count": 55,
          "label": "1"
         },
         {
          "X": 0.38253846764564514,
          "Y": 0.026636363938450813,
          "count": 55,
          "label": "1"
         },
         {
          "X": 0.38237738609313965,
          "Y": 0.026604605838656425,
          "count": 55,
          "label": "1"
         },
         {
          "X": 0.3823775351047516,
          "Y": 0.026604538783431053,
          "count": 55,
          "label": "1"
         },
         {
          "X": 0.3823774456977844,
          "Y": 0.026604579761624336,
          "count": 55,
          "label": "1"
         },
         {
          "X": 0.38237741589546204,
          "Y": 0.026604605838656425,
          "count": 55,
          "label": "1"
         },
         {
          "X": 0.38237738609313965,
          "Y": 0.02660457231104374,
          "count": 55,
          "label": "1"
         },
         {
          "X": 0.38237741589546204,
          "Y": 0.026604609563946724,
          "count": 55,
          "label": "1"
         },
         {
          "X": 0.38253846764564514,
          "Y": 0.026636363938450813,
          "count": 55,
          "label": "1"
         },
         {
          "X": 0.3823776841163635,
          "Y": 0.02660461701452732,
          "count": 55,
          "label": "1"
         },
         {
          "X": 0.382377564907074,
          "Y": 0.026604613289237022,
          "count": 55,
          "label": "1"
         },
         {
          "X": 0.3823775053024292,
          "Y": 0.02660461701452732,
          "count": 55,
          "label": "1"
         },
         {
          "X": 0.38237762451171875,
          "Y": 0.026604585349559784,
          "count": 55,
          "label": "1"
         },
         {
          "X": 0.38237741589546204,
          "Y": 0.02660459093749523,
          "count": 55,
          "label": "1"
         },
         {
          "X": 0.3823775053024292,
          "Y": 0.026604600250720978,
          "count": 55,
          "label": "1"
         },
         {
          "X": 0.382377564907074,
          "Y": 0.02660459466278553,
          "count": 55,
          "label": "1"
         },
         {
          "X": 0.3823775053024292,
          "Y": 0.026604648679494858,
          "count": 55,
          "label": "1"
         },
         {
          "X": 0.382538378238678,
          "Y": 0.026636334136128426,
          "count": 55,
          "label": "1"
         },
         {
          "X": 0.38237741589546204,
          "Y": 0.026604609563946724,
          "count": 55,
          "label": "1"
         },
         {
          "X": 0.38237762451171875,
          "Y": 0.026604605838656425,
          "count": 55,
          "label": "1"
         },
         {
          "X": 0.382538378238678,
          "Y": 0.02663630247116089,
          "count": 55,
          "label": "1"
         },
         {
          "X": 0.3823775053024292,
          "Y": 0.026604648679494858,
          "count": 55,
          "label": "1"
         },
         {
          "X": 0.3823774755001068,
          "Y": 0.02660461701452732,
          "count": 55,
          "label": "1"
         },
         {
          "X": 0.382377564907074,
          "Y": 0.02660462073981762,
          "count": 55,
          "label": "1"
         },
         {
          "X": 0.38237738609313965,
          "Y": 0.026604602113366127,
          "count": 55,
          "label": "1"
         },
         {
          "X": 0.382377564907074,
          "Y": 0.02660459466278553,
          "count": 55,
          "label": "1"
         },
         {
          "X": 0.38253846764564514,
          "Y": 0.026636380702257156,
          "count": 55,
          "label": "1"
         },
         {
          "X": 0.3823773264884949,
          "Y": 0.02660461701452732,
          "count": 55,
          "label": "1"
         },
         {
          "X": 0.3823774755001068,
          "Y": 0.026604661718010902,
          "count": 55,
          "label": "1"
         },
         {
          "X": 0.38237759470939636,
          "Y": 0.026604637503623962,
          "count": 55,
          "label": "1"
         },
         {
          "X": 0.38237741589546204,
          "Y": 0.026604609563946724,
          "count": 55,
          "label": "1"
         },
         {
          "X": 0.3825382590293884,
          "Y": 0.026636401191353798,
          "count": 55,
          "label": "1"
         },
         {
          "X": 0.38237738609313965,
          "Y": 0.02660457231104374,
          "count": 55,
          "label": "1"
         },
         {
          "X": 0.38237738609313965,
          "Y": 0.026604603976011276,
          "count": 55,
          "label": "1"
         },
         {
          "X": 0.38237762451171875,
          "Y": 0.026604587212204933,
          "count": 55,
          "label": "1"
         },
         {
          "X": 0.3823775351047516,
          "Y": 0.026604538783431053,
          "count": 55,
          "label": "1"
         },
         {
          "X": 0.38237762451171875,
          "Y": 0.02660459838807583,
          "count": 55,
          "label": "1"
         },
         {
          "X": 0.382377564907074,
          "Y": 0.02660462073981762,
          "count": 55,
          "label": "1"
         },
         {
          "X": 0.38237762451171875,
          "Y": 0.026604562997817993,
          "count": 55,
          "label": "1"
         },
         {
          "X": 0.3823774755001068,
          "Y": 0.026604607701301575,
          "count": 55,
          "label": "1"
         },
         {
          "X": 0.38237759470939636,
          "Y": 0.026604607701301575,
          "count": 55,
          "label": "1"
         },
         {
          "X": 0.38253846764564514,
          "Y": 0.026636358350515366,
          "count": 55,
          "label": "1"
         },
         {
          "X": 0.3823774755001068,
          "Y": 0.026604635640978813,
          "count": 55,
          "label": "1"
         },
         {
          "X": 0.3825383484363556,
          "Y": 0.026636401191353798,
          "count": 55,
          "label": "1"
         },
         {
          "X": 0.38253840804100037,
          "Y": 0.02663635089993477,
          "count": 55,
          "label": "1"
         },
         {
          "X": 0.382377564907074,
          "Y": 0.02660461515188217,
          "count": 55,
          "label": "1"
         },
         {
          "X": 0.38253846764564514,
          "Y": 0.026636363938450813,
          "count": 55,
          "label": "1"
         },
         {
          "X": 0.3825382590293884,
          "Y": 0.026636401191353798,
          "count": 55,
          "label": "1"
         },
         {
          "X": 0.3823775053024292,
          "Y": 0.02660461701452732,
          "count": 55,
          "label": "1"
         },
         {
          "X": 0.38253840804100037,
          "Y": 0.026636403053998947,
          "count": 55,
          "label": "1"
         },
         {
          "X": 0.054940976202487946,
          "Y": 1.9244228601455688,
          "count": 124,
          "label": "AUSSI"
         },
         {
          "X": -1.3968206644058228,
          "Y": -0.7054904103279114,
          "count": 124,
          "label": "AUSSI"
         },
         {
          "X": 0.030435696244239807,
          "Y": 1.9478543996810913,
          "count": 124,
          "label": "AUSSI"
         },
         {
          "X": -0.010860791429877281,
          "Y": 0.7860143780708313,
          "count": 124,
          "label": "AUSSI"
         },
         {
          "X": -0.7744936347007751,
          "Y": 0.43829581141471863,
          "count": 124,
          "label": "AUSSI"
         },
         {
          "X": 0.12445073574781418,
          "Y": 0.05000607669353485,
          "count": 124,
          "label": "AUSSI"
         },
         {
          "X": -0.5263254046440125,
          "Y": -0.5030304193496704,
          "count": 124,
          "label": "AUSSI"
         },
         {
          "X": 0.38237738609313965,
          "Y": 0.026604602113366127,
          "count": 124,
          "label": "AUSSI"
         },
         {
          "X": -0.2342323362827301,
          "Y": -2.38041090965271,
          "count": 124,
          "label": "AUSSI"
         },
         {
          "X": 0.7569299340248108,
          "Y": -1.7701759338378906,
          "count": 124,
          "label": "AUSSI"
         },
         {
          "X": 0.7769594192504883,
          "Y": -0.937835156917572,
          "count": 124,
          "label": "AUSSI"
         },
         {
          "X": -1.433718204498291,
          "Y": -1.7712657451629639,
          "count": 124,
          "label": "AUSSI"
         },
         {
          "X": 0.12445073574781418,
          "Y": 0.05000607669353485,
          "count": 124,
          "label": "AUSSI"
         },
         {
          "X": 0.5215978622436523,
          "Y": -1.8576406240463257,
          "count": 124,
          "label": "AUSSI"
         },
         {
          "X": 0.8493266105651855,
          "Y": 0.3709956705570221,
          "count": 124,
          "label": "AUSSI"
         },
         {
          "X": 2.843754768371582,
          "Y": 0.3875747323036194,
          "count": 124,
          "label": "AUSSI"
         },
         {
          "X": 2.5976979732513428,
          "Y": 1.3837021589279175,
          "count": 124,
          "label": "AUSSI"
         },
         {
          "X": 0.7569299340248108,
          "Y": -1.7701759338378906,
          "count": 124,
          "label": "AUSSI"
         },
         {
          "X": 0.08518155664205551,
          "Y": -0.5668357610702515,
          "count": 124,
          "label": "AUSSI"
         },
         {
          "X": 0.12445073574781418,
          "Y": 0.05000607669353485,
          "count": 124,
          "label": "AUSSI"
         },
         {
          "X": 0.9383410811424255,
          "Y": -0.30791112780570984,
          "count": 124,
          "label": "AUSSI"
         },
         {
          "X": -2.2484381198883057,
          "Y": -0.08005529642105103,
          "count": 124,
          "label": "AUSSI"
         },
         {
          "X": 2.5976979732513428,
          "Y": 1.3837021589279175,
          "count": 124,
          "label": "AUSSI"
         },
         {
          "X": 0.12445073574781418,
          "Y": 0.05000607669353485,
          "count": 124,
          "label": "AUSSI"
         },
         {
          "X": 0.4047434628009796,
          "Y": 2.6628003120422363,
          "count": 124,
          "label": "AUSSI"
         },
         {
          "X": 0.7769594192504883,
          "Y": -0.937835156917572,
          "count": 124,
          "label": "AUSSI"
         },
         {
          "X": 1.5444684028625488,
          "Y": -2.3124451637268066,
          "count": 124,
          "label": "AUSSI"
         },
         {
          "X": 0.9383410811424255,
          "Y": -0.30791112780570984,
          "count": 124,
          "label": "AUSSI"
         },
         {
          "X": -1.433718204498291,
          "Y": -1.7712657451629639,
          "count": 124,
          "label": "AUSSI"
         },
         {
          "X": -1.669831395149231,
          "Y": 0.19383834302425385,
          "count": 124,
          "label": "AUSSI"
         },
         {
          "X": -0.5734463334083557,
          "Y": 1.4404056072235107,
          "count": 124,
          "label": "AUSSI"
         },
         {
          "X": 0.08518155664205551,
          "Y": -0.5668357610702515,
          "count": 124,
          "label": "AUSSI"
         },
         {
          "X": 0.12445073574781418,
          "Y": 0.05000607669353485,
          "count": 124,
          "label": "AUSSI"
         },
         {
          "X": 2.316990375518799,
          "Y": 1.6865448951721191,
          "count": 124,
          "label": "AUSSI"
         },
         {
          "X": 1.3840988874435425,
          "Y": -0.24738861620426178,
          "count": 124,
          "label": "AUSSI"
         },
         {
          "X": -0.010860791429877281,
          "Y": 0.7860143780708313,
          "count": 124,
          "label": "AUSSI"
         },
         {
          "X": 0.7769594192504883,
          "Y": -0.937835156917572,
          "count": 124,
          "label": "AUSSI"
         },
         {
          "X": 0.8493266105651855,
          "Y": 0.3709956705570221,
          "count": 124,
          "label": "AUSSI"
         },
         {
          "X": -0.010860791429877281,
          "Y": 0.7860143780708313,
          "count": 124,
          "label": "AUSSI"
         },
         {
          "X": 0.7133759260177612,
          "Y": 1.2155088186264038,
          "count": 124,
          "label": "AUSSI"
         },
         {
          "X": 1.9337143898010254,
          "Y": 0.7559248805046082,
          "count": 124,
          "label": "AUSSI"
         },
         {
          "X": -0.20227792859077454,
          "Y": 2.6058075428009033,
          "count": 124,
          "label": "AUSSI"
         },
         {
          "X": 0.8493266105651855,
          "Y": 0.3709956705570221,
          "count": 124,
          "label": "AUSSI"
         },
         {
          "X": 0.7133759260177612,
          "Y": 1.2155088186264038,
          "count": 124,
          "label": "AUSSI"
         },
         {
          "X": -1.669831395149231,
          "Y": 0.19383834302425385,
          "count": 124,
          "label": "AUSSI"
         },
         {
          "X": -0.010860791429877281,
          "Y": 0.7860143780708313,
          "count": 124,
          "label": "AUSSI"
         },
         {
          "X": 1.5576236248016357,
          "Y": 0.37839797139167786,
          "count": 124,
          "label": "AUSSI"
         },
         {
          "X": 1.0381417274475098,
          "Y": 2.305878162384033,
          "count": 124,
          "label": "AUSSI"
         },
         {
          "X": 2.189912796020508,
          "Y": -0.3414364457130432,
          "count": 124,
          "label": "AUSSI"
         },
         {
          "X": -2.094820976257324,
          "Y": 0.9459067583084106,
          "count": 124,
          "label": "AUSSI"
         },
         {
          "X": -1.664787769317627,
          "Y": 1.7272974252700806,
          "count": 124,
          "label": "AUSSI"
         },
         {
          "X": 0.5059654712677002,
          "Y": -0.36345821619033813,
          "count": 124,
          "label": "AUSSI"
         },
         {
          "X": 0.7769594192504883,
          "Y": -0.937835156917572,
          "count": 124,
          "label": "AUSSI"
         },
         {
          "X": 0.8493266105651855,
          "Y": 0.3709956705570221,
          "count": 124,
          "label": "AUSSI"
         },
         {
          "X": -1.1061962842941284,
          "Y": 2.2150063514709473,
          "count": 124,
          "label": "AUSSI"
         },
         {
          "X": -1.4802589416503906,
          "Y": -0.13927695155143738,
          "count": 124,
          "label": "AUSSI"
         },
         {
          "X": -0.5734463334083557,
          "Y": 1.4404056072235107,
          "count": 124,
          "label": "AUSSI"
         },
         {
          "X": -0.038906216621398926,
          "Y": -1.3321967124938965,
          "count": 124,
          "label": "AUSSI"
         },
         {
          "X": -0.038906216621398926,
          "Y": -1.3321967124938965,
          "count": 124,
          "label": "AUSSI"
         },
         {
          "X": -0.2342323362827301,
          "Y": -2.38041090965271,
          "count": 124,
          "label": "AUSSI"
         },
         {
          "X": -0.010860791429877281,
          "Y": 0.7860143780708313,
          "count": 124,
          "label": "AUSSI"
         },
         {
          "X": -0.5734463334083557,
          "Y": 1.4404056072235107,
          "count": 124,
          "label": "AUSSI"
         },
         {
          "X": -1.433718204498291,
          "Y": -1.7712657451629639,
          "count": 124,
          "label": "AUSSI"
         },
         {
          "X": -0.038906216621398926,
          "Y": -1.3321967124938965,
          "count": 124,
          "label": "AUSSI"
         },
         {
          "X": 0.12445073574781418,
          "Y": 0.05000607669353485,
          "count": 124,
          "label": "AUSSI"
         },
         {
          "X": 0.7133759260177612,
          "Y": 1.2155088186264038,
          "count": 124,
          "label": "AUSSI"
         },
         {
          "X": 2.189912796020508,
          "Y": -0.3414364457130432,
          "count": 124,
          "label": "AUSSI"
         },
         {
          "X": 0.7133759260177612,
          "Y": 1.2155088186264038,
          "count": 124,
          "label": "AUSSI"
         },
         {
          "X": 0.006693319883197546,
          "Y": -0.5674325227737427,
          "count": 124,
          "label": "AUSSI"
         },
         {
          "X": 1.9539906978607178,
          "Y": 2.177903652191162,
          "count": 124,
          "label": "AUSSI"
         },
         {
          "X": -0.7744936347007751,
          "Y": 0.43829581141471863,
          "count": 124,
          "label": "AUSSI"
         },
         {
          "X": 0.12445073574781418,
          "Y": 0.05000607669353485,
          "count": 124,
          "label": "AUSSI"
         },
         {
          "X": 0.08518155664205551,
          "Y": -0.5668357610702515,
          "count": 124,
          "label": "AUSSI"
         },
         {
          "X": -2.094820976257324,
          "Y": 0.9459067583084106,
          "count": 124,
          "label": "AUSSI"
         },
         {
          "X": 0.8493266105651855,
          "Y": 0.3709956705570221,
          "count": 124,
          "label": "AUSSI"
         },
         {
          "X": 1.490423321723938,
          "Y": -0.8618544936180115,
          "count": 124,
          "label": "AUSSI"
         },
         {
          "X": 1.4603018760681152,
          "Y": 1.5007543563842773,
          "count": 124,
          "label": "AUSSI"
         },
         {
          "X": 0.9383410811424255,
          "Y": -0.30791112780570984,
          "count": 124,
          "label": "AUSSI"
         },
         {
          "X": 0.054940976202487946,
          "Y": 1.9244228601455688,
          "count": 124,
          "label": "AUSSI"
         },
         {
          "X": -0.010860791429877281,
          "Y": 0.7860143780708313,
          "count": 124,
          "label": "AUSSI"
         },
         {
          "X": -0.010860791429877281,
          "Y": 0.7860143780708313,
          "count": 124,
          "label": "AUSSI"
         },
         {
          "X": 1.5617005825042725,
          "Y": 0.3695625364780426,
          "count": 124,
          "label": "AUSSI"
         },
         {
          "X": -1.669831395149231,
          "Y": 0.19383834302425385,
          "count": 124,
          "label": "AUSSI"
         },
         {
          "X": -0.5263254046440125,
          "Y": -0.5030304193496704,
          "count": 124,
          "label": "AUSSI"
         },
         {
          "X": 0.4047434628009796,
          "Y": 2.6628003120422363,
          "count": 124,
          "label": "AUSSI"
         },
         {
          "X": -0.038906216621398926,
          "Y": -1.3321967124938965,
          "count": 124,
          "label": "AUSSI"
         },
         {
          "X": 1.9337143898010254,
          "Y": 0.7559248805046082,
          "count": 124,
          "label": "AUSSI"
         },
         {
          "X": 0.7769594192504883,
          "Y": -0.937835156917572,
          "count": 124,
          "label": "AUSSI"
         },
         {
          "X": -0.20227792859077454,
          "Y": 2.6058075428009033,
          "count": 124,
          "label": "AUSSI"
         },
         {
          "X": -1.986215591430664,
          "Y": -1.3099150657653809,
          "count": 124,
          "label": "AUSSI"
         },
         {
          "X": 2.299724578857422,
          "Y": -2.0451042652130127,
          "count": 124,
          "label": "AUSSI"
         },
         {
          "X": 0.8493266105651855,
          "Y": 0.3709956705570221,
          "count": 124,
          "label": "AUSSI"
         },
         {
          "X": 1.9539906978607178,
          "Y": 2.177903652191162,
          "count": 124,
          "label": "AUSSI"
         },
         {
          "X": -0.010860791429877281,
          "Y": 0.7860143780708313,
          "count": 124,
          "label": "AUSSI"
         },
         {
          "X": -0.038906216621398926,
          "Y": -1.3321967124938965,
          "count": 124,
          "label": "AUSSI"
         },
         {
          "X": 0.12445073574781418,
          "Y": 0.05000607669353485,
          "count": 124,
          "label": "AUSSI"
         },
         {
          "X": 0.8493266105651855,
          "Y": 0.3709956705570221,
          "count": 124,
          "label": "AUSSI"
         },
         {
          "X": 0.08518155664205551,
          "Y": -0.5668357610702515,
          "count": 124,
          "label": "AUSSI"
         },
         {
          "X": 1.9337143898010254,
          "Y": 0.7559248805046082,
          "count": 124,
          "label": "AUSSI"
         },
         {
          "X": -0.7520882487297058,
          "Y": -0.2695270776748657,
          "count": 124,
          "label": "AUSSI"
         },
         {
          "X": 1.4603018760681152,
          "Y": 1.5007543563842773,
          "count": 124,
          "label": "AUSSI"
         },
         {
          "X": 1.4603018760681152,
          "Y": 1.5007543563842773,
          "count": 124,
          "label": "AUSSI"
         },
         {
          "X": 0.7569299340248108,
          "Y": -1.7701759338378906,
          "count": 124,
          "label": "AUSSI"
         },
         {
          "X": 0.08518155664205551,
          "Y": -0.5668357610702515,
          "count": 124,
          "label": "AUSSI"
         },
         {
          "X": 1.7958910465240479,
          "Y": -1.4791693687438965,
          "count": 124,
          "label": "AUSSI"
         },
         {
          "X": 1.490423321723938,
          "Y": -0.8618544936180115,
          "count": 124,
          "label": "AUSSI"
         },
         {
          "X": 1.7958910465240479,
          "Y": -1.4791693687438965,
          "count": 124,
          "label": "AUSSI"
         },
         {
          "X": -2.094820976257324,
          "Y": 0.9459067583084106,
          "count": 124,
          "label": "AUSSI"
         },
         {
          "X": 2.299724578857422,
          "Y": -2.0451042652130127,
          "count": 124,
          "label": "AUSSI"
         },
         {
          "X": 2.189912796020508,
          "Y": -0.3414364457130432,
          "count": 124,
          "label": "AUSSI"
         },
         {
          "X": 0.311575323343277,
          "Y": -2.505739450454712,
          "count": 124,
          "label": "AUSSI"
         },
         {
          "X": -0.038906216621398926,
          "Y": -1.3321967124938965,
          "count": 124,
          "label": "AUSSI"
         },
         {
          "X": 0.7133759260177612,
          "Y": 1.2155088186264038,
          "count": 124,
          "label": "AUSSI"
         },
         {
          "X": 0.12445073574781418,
          "Y": 0.05000607669353485,
          "count": 124,
          "label": "AUSSI"
         },
         {
          "X": -2.2484381198883057,
          "Y": -0.08005529642105103,
          "count": 124,
          "label": "AUSSI"
         },
         {
          "X": -2.330791473388672,
          "Y": 0.45270487666130066,
          "count": 124,
          "label": "AUSSI"
         },
         {
          "X": -0.5734463334083557,
          "Y": 1.4404056072235107,
          "count": 124,
          "label": "AUSSI"
         },
         {
          "X": 0.8493266105651855,
          "Y": 0.3709956705570221,
          "count": 124,
          "label": "AUSSI"
         },
         {
          "X": 1.3840988874435425,
          "Y": -0.24738861620426178,
          "count": 124,
          "label": "AUSSI"
         },
         {
          "X": 0.7133759260177612,
          "Y": 1.2155088186264038,
          "count": 124,
          "label": "AUSSI"
         },
         {
          "X": 1.490423321723938,
          "Y": -0.8618544936180115,
          "count": 124,
          "label": "AUSSI"
         },
         {
          "X": 0.2876945436000824,
          "Y": 1.8856663703918457,
          "count": 124,
          "label": "AUSSI"
         },
         {
          "X": 1.3840988874435425,
          "Y": -0.24738861620426178,
          "count": 124,
          "label": "AUSSI"
         },
         {
          "X": 0.006693319883197546,
          "Y": -0.5674325227737427,
          "count": 124,
          "label": "AUSSI"
         },
         {
          "X": -2.2484381198883057,
          "Y": -0.08005529642105103,
          "count": 118,
          "label": "OUI"
         },
         {
          "X": 2.923506736755371,
          "Y": -0.958000123500824,
          "count": 118,
          "label": "OUI"
         },
         {
          "X": -0.7744936347007751,
          "Y": 0.43829581141471863,
          "count": 118,
          "label": "OUI"
         },
         {
          "X": 0.7133759260177612,
          "Y": 1.2155088186264038,
          "count": 118,
          "label": "OUI"
         },
         {
          "X": 0.2876945436000824,
          "Y": 1.8856663703918457,
          "count": 118,
          "label": "OUI"
         },
         {
          "X": 0.12445073574781418,
          "Y": 0.05000607669353485,
          "count": 118,
          "label": "OUI"
         },
         {
          "X": 1.490423321723938,
          "Y": -0.8618544936180115,
          "count": 118,
          "label": "OUI"
         },
         {
          "X": -2.094820976257324,
          "Y": 0.9459067583084106,
          "count": 118,
          "label": "OUI"
         },
         {
          "X": -0.5727768540382385,
          "Y": 0.19141483306884766,
          "count": 118,
          "label": "OUI"
         },
         {
          "X": -1.986215591430664,
          "Y": -1.3099150657653809,
          "count": 118,
          "label": "OUI"
         },
         {
          "X": 0.5004889369010925,
          "Y": -0.3752165734767914,
          "count": 118,
          "label": "OUI"
         },
         {
          "X": -1.0455948114395142,
          "Y": 0.62473464012146,
          "count": 118,
          "label": "OUI"
         },
         {
          "X": -0.7458605766296387,
          "Y": 2.3939642906188965,
          "count": 118,
          "label": "OUI"
         },
         {
          "X": 1.9539906978607178,
          "Y": 2.177903652191162,
          "count": 118,
          "label": "OUI"
         },
         {
          "X": -2.094820976257324,
          "Y": 0.9459067583084106,
          "count": 118,
          "label": "OUI"
         },
         {
          "X": 1.4603018760681152,
          "Y": 1.5007543563842773,
          "count": 118,
          "label": "OUI"
         },
         {
          "X": -1.0455948114395142,
          "Y": 0.62473464012146,
          "count": 118,
          "label": "OUI"
         },
         {
          "X": 0.8493266105651855,
          "Y": 0.3709956705570221,
          "count": 118,
          "label": "OUI"
         },
         {
          "X": 1.7958910465240479,
          "Y": -1.4791693687438965,
          "count": 118,
          "label": "OUI"
         },
         {
          "X": -2.2484381198883057,
          "Y": -0.08005529642105103,
          "count": 118,
          "label": "OUI"
         },
         {
          "X": -0.010860791429877281,
          "Y": 0.7860143780708313,
          "count": 118,
          "label": "OUI"
         },
         {
          "X": 1.4874746799468994,
          "Y": -1.1944838762283325,
          "count": 118,
          "label": "OUI"
         },
         {
          "X": 0.054940976202487946,
          "Y": 1.9244228601455688,
          "count": 118,
          "label": "OUI"
         },
         {
          "X": 1.490423321723938,
          "Y": -0.8618544936180115,
          "count": 118,
          "label": "OUI"
         },
         {
          "X": 0.030435696244239807,
          "Y": 1.9478543996810913,
          "count": 118,
          "label": "OUI"
         },
         {
          "X": 2.189912796020508,
          "Y": -0.3414364457130432,
          "count": 118,
          "label": "OUI"
         },
         {
          "X": 1.4603018760681152,
          "Y": 1.5007543563842773,
          "count": 118,
          "label": "OUI"
         },
         {
          "X": -0.5734463334083557,
          "Y": 1.4404056072235107,
          "count": 118,
          "label": "OUI"
         },
         {
          "X": -1.3457872867584229,
          "Y": 0.9522409439086914,
          "count": 118,
          "label": "OUI"
         },
         {
          "X": 0.8493266105651855,
          "Y": 0.3709956705570221,
          "count": 118,
          "label": "OUI"
         },
         {
          "X": -1.4802589416503906,
          "Y": -0.13927695155143738,
          "count": 118,
          "label": "OUI"
         },
         {
          "X": 0.9383410811424255,
          "Y": -0.30791112780570984,
          "count": 118,
          "label": "OUI"
         },
         {
          "X": 0.7133759260177612,
          "Y": 1.2155088186264038,
          "count": 118,
          "label": "OUI"
         },
         {
          "X": 2.333472967147827,
          "Y": 1.6907259225845337,
          "count": 118,
          "label": "OUI"
         },
         {
          "X": -2.2484381198883057,
          "Y": -0.08005529642105103,
          "count": 118,
          "label": "OUI"
         },
         {
          "X": 2.5976979732513428,
          "Y": 1.3837021589279175,
          "count": 118,
          "label": "OUI"
         },
         {
          "X": 0.8493266105651855,
          "Y": 0.3709956705570221,
          "count": 118,
          "label": "OUI"
         },
         {
          "X": -0.038906216621398926,
          "Y": -1.3321967124938965,
          "count": 118,
          "label": "OUI"
         },
         {
          "X": 0.12445073574781418,
          "Y": 0.05000607669353485,
          "count": 118,
          "label": "OUI"
         },
         {
          "X": 0.12445073574781418,
          "Y": 0.05000607669353485,
          "count": 118,
          "label": "OUI"
         },
         {
          "X": 1.3840988874435425,
          "Y": -0.24738861620426178,
          "count": 118,
          "label": "OUI"
         },
         {
          "X": 0.12445073574781418,
          "Y": 0.05000607669353485,
          "count": 118,
          "label": "OUI"
         },
         {
          "X": -0.038906216621398926,
          "Y": -1.3321967124938965,
          "count": 118,
          "label": "OUI"
         },
         {
          "X": -0.010860791429877281,
          "Y": 0.7860143780708313,
          "count": 118,
          "label": "OUI"
         },
         {
          "X": -0.2342323362827301,
          "Y": -2.38041090965271,
          "count": 118,
          "label": "OUI"
         },
         {
          "X": 0.12445073574781418,
          "Y": 0.05000607669353485,
          "count": 118,
          "label": "OUI"
         },
         {
          "X": 0.4047434628009796,
          "Y": 2.6628003120422363,
          "count": 118,
          "label": "OUI"
         },
         {
          "X": 2.5976979732513428,
          "Y": 1.3837021589279175,
          "count": 118,
          "label": "OUI"
         },
         {
          "X": -0.8977599740028381,
          "Y": -2.1725804805755615,
          "count": 118,
          "label": "OUI"
         },
         {
          "X": 0.7769594192504883,
          "Y": -0.937835156917572,
          "count": 118,
          "label": "OUI"
         },
         {
          "X": -0.2342323362827301,
          "Y": -2.38041090965271,
          "count": 118,
          "label": "OUI"
         },
         {
          "X": -0.7744936347007751,
          "Y": 0.43829581141471863,
          "count": 118,
          "label": "OUI"
         },
         {
          "X": 0.7133759260177612,
          "Y": 1.2155088186264038,
          "count": 118,
          "label": "OUI"
         },
         {
          "X": 2.8399338722229004,
          "Y": 0.9212411046028137,
          "count": 118,
          "label": "OUI"
         },
         {
          "X": -0.7744936347007751,
          "Y": 0.43829581141471863,
          "count": 118,
          "label": "OUI"
         },
         {
          "X": -0.20227792859077454,
          "Y": 2.6058075428009033,
          "count": 118,
          "label": "OUI"
         },
         {
          "X": 0.3275226056575775,
          "Y": 1.327501893043518,
          "count": 118,
          "label": "OUI"
         },
         {
          "X": 2.8399338722229004,
          "Y": 0.9212411046028137,
          "count": 118,
          "label": "OUI"
         },
         {
          "X": 0.7133759260177612,
          "Y": 1.2155088186264038,
          "count": 118,
          "label": "OUI"
         },
         {
          "X": -0.010860791429877281,
          "Y": 0.7860143780708313,
          "count": 118,
          "label": "OUI"
         },
         {
          "X": -0.7890880703926086,
          "Y": -1.0077091455459595,
          "count": 118,
          "label": "OUI"
         },
         {
          "X": -0.010860791429877281,
          "Y": 0.7860143780708313,
          "count": 118,
          "label": "OUI"
         },
         {
          "X": -1.664787769317627,
          "Y": 1.7272974252700806,
          "count": 118,
          "label": "OUI"
         },
         {
          "X": 0.9383410811424255,
          "Y": -0.30791112780570984,
          "count": 118,
          "label": "OUI"
         },
         {
          "X": 0.7769594192504883,
          "Y": -0.937835156917572,
          "count": 118,
          "label": "OUI"
         },
         {
          "X": 1.227840542793274,
          "Y": 1.0427117347717285,
          "count": 118,
          "label": "OUI"
         },
         {
          "X": 0.12445073574781418,
          "Y": 0.05000607669353485,
          "count": 118,
          "label": "OUI"
         },
         {
          "X": -1.0455948114395142,
          "Y": 0.62473464012146,
          "count": 118,
          "label": "OUI"
         },
         {
          "X": 1.7958910465240479,
          "Y": -1.4791693687438965,
          "count": 118,
          "label": "OUI"
         },
         {
          "X": 0.8493266105651855,
          "Y": 0.3709956705570221,
          "count": 118,
          "label": "OUI"
         },
         {
          "X": 0.12445073574781418,
          "Y": 0.05000607669353485,
          "count": 118,
          "label": "OUI"
         },
         {
          "X": 0.12445073574781418,
          "Y": 0.05000607669353485,
          "count": 118,
          "label": "OUI"
         },
         {
          "X": 1.9337143898010254,
          "Y": 0.7559248805046082,
          "count": 118,
          "label": "OUI"
         },
         {
          "X": 0.7133759260177612,
          "Y": 1.2155088186264038,
          "count": 118,
          "label": "OUI"
         },
         {
          "X": 0.9383410811424255,
          "Y": -0.30791112780570984,
          "count": 118,
          "label": "OUI"
         },
         {
          "X": 0.12445073574781418,
          "Y": 0.05000607669353485,
          "count": 118,
          "label": "OUI"
         },
         {
          "X": 1.4603018760681152,
          "Y": 1.5007543563842773,
          "count": 118,
          "label": "OUI"
         },
         {
          "X": 1.5576236248016357,
          "Y": 0.37839797139167786,
          "count": 118,
          "label": "OUI"
         },
         {
          "X": 0.8493266105651855,
          "Y": 0.3709956705570221,
          "count": 118,
          "label": "OUI"
         },
         {
          "X": -0.010860791429877281,
          "Y": 0.7860143780708313,
          "count": 118,
          "label": "OUI"
         },
         {
          "X": -0.038906216621398926,
          "Y": -1.3321967124938965,
          "count": 118,
          "label": "OUI"
         },
         {
          "X": 1.565230369567871,
          "Y": 0.3735778033733368,
          "count": 118,
          "label": "OUI"
         },
         {
          "X": 1.9539906978607178,
          "Y": 2.177903652191162,
          "count": 118,
          "label": "OUI"
         },
         {
          "X": 2.356484889984131,
          "Y": 1.6304043531417847,
          "count": 118,
          "label": "OUI"
         },
         {
          "X": -0.038906216621398926,
          "Y": -1.3321967124938965,
          "count": 118,
          "label": "OUI"
         },
         {
          "X": 0.12445073574781418,
          "Y": 0.05000607669353485,
          "count": 118,
          "label": "OUI"
         },
         {
          "X": 2.2986629009246826,
          "Y": -2.04585337638855,
          "count": 118,
          "label": "OUI"
         },
         {
          "X": 0.12445073574781418,
          "Y": 0.05000607669353485,
          "count": 118,
          "label": "OUI"
         },
         {
          "X": -0.6066305637359619,
          "Y": 0.047458481043577194,
          "count": 118,
          "label": "OUI"
         },
         {
          "X": -0.038906216621398926,
          "Y": -1.3321967124938965,
          "count": 118,
          "label": "OUI"
         },
         {
          "X": 0.08518155664205551,
          "Y": -0.5668357610702515,
          "count": 118,
          "label": "OUI"
         },
         {
          "X": 1.7958910465240479,
          "Y": -1.4791693687438965,
          "count": 118,
          "label": "OUI"
         },
         {
          "X": 0.8493266105651855,
          "Y": 0.3709956705570221,
          "count": 118,
          "label": "OUI"
         },
         {
          "X": -0.010860791429877281,
          "Y": 0.7860143780708313,
          "count": 118,
          "label": "OUI"
         },
         {
          "X": -0.2342323362827301,
          "Y": -2.38041090965271,
          "count": 118,
          "label": "OUI"
         },
         {
          "X": 1.9337143898010254,
          "Y": 0.7559248805046082,
          "count": 118,
          "label": "OUI"
         },
         {
          "X": -1.3968206644058228,
          "Y": -0.7054904103279114,
          "count": 118,
          "label": "OUI"
         },
         {
          "X": 1.9539906978607178,
          "Y": 2.177903652191162,
          "count": 118,
          "label": "OUI"
         },
         {
          "X": -2.2484381198883057,
          "Y": -0.08005529642105103,
          "count": 118,
          "label": "OUI"
         },
         {
          "X": -0.5734463334083557,
          "Y": 1.4404056072235107,
          "count": 118,
          "label": "OUI"
         },
         {
          "X": -0.5734463334083557,
          "Y": 1.4404056072235107,
          "count": 118,
          "label": "OUI"
         },
         {
          "X": -0.010860791429877281,
          "Y": 0.7860143780708313,
          "count": 118,
          "label": "OUI"
         },
         {
          "X": -0.010860791429877281,
          "Y": 0.7860143780708313,
          "count": 118,
          "label": "OUI"
         },
         {
          "X": 0.7133759260177612,
          "Y": 1.2155088186264038,
          "count": 118,
          "label": "OUI"
         },
         {
          "X": 0.7133759260177612,
          "Y": 1.2155088186264038,
          "count": 118,
          "label": "OUI"
         },
         {
          "X": 2.3268849849700928,
          "Y": 1.6612770557403564,
          "count": 118,
          "label": "OUI"
         },
         {
          "X": -0.535822331905365,
          "Y": -0.45780566334724426,
          "count": 118,
          "label": "OUI"
         },
         {
          "X": 2.189912796020508,
          "Y": -0.3414364457130432,
          "count": 118,
          "label": "OUI"
         },
         {
          "X": 0.006693319883197546,
          "Y": -0.5674325227737427,
          "count": 118,
          "label": "OUI"
         },
         {
          "X": -0.038906216621398926,
          "Y": -1.3321967124938965,
          "count": 118,
          "label": "OUI"
         },
         {
          "X": 1.5444684028625488,
          "Y": -2.3124451637268066,
          "count": 118,
          "label": "OUI"
         },
         {
          "X": -2.094820976257324,
          "Y": 0.9459067583084106,
          "count": 118,
          "label": "OUI"
         },
         {
          "X": -0.5734463334083557,
          "Y": 1.4404056072235107,
          "count": 118,
          "label": "OUI"
         },
         {
          "X": 2.189912796020508,
          "Y": -0.3414364457130432,
          "count": 118,
          "label": "OUI"
         },
         {
          "X": 0.5004889369010925,
          "Y": -0.3752165734767914,
          "count": 118,
          "label": "OUI"
         },
         {
          "X": 2.8399338722229004,
          "Y": 0.9212411046028137,
          "count": 118,
          "label": "OUI"
         },
         {
          "X": 0.7769594192504883,
          "Y": -0.937835156917572,
          "count": 118,
          "label": "OUI"
         },
         {
          "X": 1.9337143898010254,
          "Y": 0.7559248805046082,
          "count": 118,
          "label": "OUI"
         },
         {
          "X": 0.9383410811424255,
          "Y": -0.30791112780570984,
          "count": 49,
          "label": "DIRE"
         },
         {
          "X": 0.8493266105651855,
          "Y": 0.3709956705570221,
          "count": 49,
          "label": "DIRE"
         },
         {
          "X": -2.094820976257324,
          "Y": 0.9459067583084106,
          "count": 49,
          "label": "DIRE"
         },
         {
          "X": -0.010860791429877281,
          "Y": 0.7860143780708313,
          "count": 49,
          "label": "DIRE"
         },
         {
          "X": 0.8493266105651855,
          "Y": 0.3709956705570221,
          "count": 49,
          "label": "DIRE"
         },
         {
          "X": 2.189912796020508,
          "Y": -0.3414364457130432,
          "count": 49,
          "label": "DIRE"
         },
         {
          "X": 0.8493266105651855,
          "Y": 0.3709956705570221,
          "count": 49,
          "label": "DIRE"
         },
         {
          "X": 0.9383410811424255,
          "Y": -0.30791112780570984,
          "count": 49,
          "label": "DIRE"
         },
         {
          "X": 1.9337143898010254,
          "Y": 0.7559248805046082,
          "count": 49,
          "label": "DIRE"
         },
         {
          "X": 1.3840988874435425,
          "Y": -0.24738861620426178,
          "count": 49,
          "label": "DIRE"
         },
         {
          "X": -0.7890880703926086,
          "Y": -1.0077091455459595,
          "count": 49,
          "label": "DIRE"
         },
         {
          "X": -1.2051360607147217,
          "Y": 1.1815179586410522,
          "count": 49,
          "label": "DIRE"
         },
         {
          "X": 1.9539906978607178,
          "Y": 2.177903652191162,
          "count": 49,
          "label": "DIRE"
         },
         {
          "X": 0.8493266105651855,
          "Y": 0.3709956705570221,
          "count": 49,
          "label": "DIRE"
         },
         {
          "X": -0.038906216621398926,
          "Y": -1.3321967124938965,
          "count": 49,
          "label": "DIRE"
         },
         {
          "X": -0.010860791429877281,
          "Y": 0.7860143780708313,
          "count": 49,
          "label": "DIRE"
         },
         {
          "X": 1.7958910465240479,
          "Y": -1.4791693687438965,
          "count": 49,
          "label": "DIRE"
         },
         {
          "X": 0.8493266105651855,
          "Y": 0.3709956705570221,
          "count": 49,
          "label": "DIRE"
         },
         {
          "X": 2.8399338722229004,
          "Y": 0.9212411046028137,
          "count": 49,
          "label": "DIRE"
         },
         {
          "X": 1.5444684028625488,
          "Y": -2.3124451637268066,
          "count": 49,
          "label": "DIRE"
         },
         {
          "X": 0.8493266105651855,
          "Y": 0.3709956705570221,
          "count": 49,
          "label": "DIRE"
         },
         {
          "X": -0.7744936347007751,
          "Y": 0.43829581141471863,
          "count": 49,
          "label": "DIRE"
         },
         {
          "X": 0.8493266105651855,
          "Y": 0.3709956705570221,
          "count": 49,
          "label": "DIRE"
         },
         {
          "X": 0.8493266105651855,
          "Y": 0.3709956705570221,
          "count": 49,
          "label": "DIRE"
         },
         {
          "X": -0.7890880703926086,
          "Y": -1.0077091455459595,
          "count": 49,
          "label": "DIRE"
         },
         {
          "X": 0.12445073574781418,
          "Y": 0.05000607669353485,
          "count": 49,
          "label": "DIRE"
         },
         {
          "X": 0.8493266105651855,
          "Y": 0.3709956705570221,
          "count": 49,
          "label": "DIRE"
         },
         {
          "X": 0.7809913158416748,
          "Y": -2.468172311782837,
          "count": 49,
          "label": "DIRE"
         },
         {
          "X": -1.3968206644058228,
          "Y": -0.7054904103279114,
          "count": 49,
          "label": "DIRE"
         },
         {
          "X": 0.12445073574781418,
          "Y": 0.05000607669353485,
          "count": 49,
          "label": "DIRE"
         },
         {
          "X": -0.20227792859077454,
          "Y": 2.6058075428009033,
          "count": 49,
          "label": "DIRE"
         },
         {
          "X": 0.8493266105651855,
          "Y": 0.3709956705570221,
          "count": 49,
          "label": "DIRE"
         },
         {
          "X": -1.986215591430664,
          "Y": -1.3099150657653809,
          "count": 49,
          "label": "DIRE"
         },
         {
          "X": -1.669831395149231,
          "Y": 0.19383834302425385,
          "count": 49,
          "label": "DIRE"
         },
         {
          "X": 1.9539906978607178,
          "Y": 2.177903652191162,
          "count": 49,
          "label": "DIRE"
         },
         {
          "X": 0.12445073574781418,
          "Y": 0.05000607669353485,
          "count": 49,
          "label": "DIRE"
         },
         {
          "X": 0.2876945436000824,
          "Y": 1.8856663703918457,
          "count": 49,
          "label": "DIRE"
         },
         {
          "X": 0.7133759260177612,
          "Y": 1.2155088186264038,
          "count": 49,
          "label": "DIRE"
         },
         {
          "X": 1.9337143898010254,
          "Y": 0.7559248805046082,
          "count": 49,
          "label": "DIRE"
         },
         {
          "X": 1.5576236248016357,
          "Y": 0.37839797139167786,
          "count": 49,
          "label": "DIRE"
         },
         {
          "X": -0.7744936347007751,
          "Y": 0.43829581141471863,
          "count": 49,
          "label": "DIRE"
         },
         {
          "X": -1.3455700874328613,
          "Y": 1.0156828165054321,
          "count": 49,
          "label": "DIRE"
         },
         {
          "X": 0.9383410811424255,
          "Y": -0.30791112780570984,
          "count": 49,
          "label": "DIRE"
         },
         {
          "X": 0.9383410811424255,
          "Y": -0.30791112780570984,
          "count": 49,
          "label": "DIRE"
         },
         {
          "X": -0.7744936347007751,
          "Y": 0.43829581141471863,
          "count": 49,
          "label": "DIRE"
         },
         {
          "X": 0.7133759260177612,
          "Y": 1.2155088186264038,
          "count": 49,
          "label": "DIRE"
         },
         {
          "X": 1.4603018760681152,
          "Y": 1.5007543563842773,
          "count": 49,
          "label": "DIRE"
         },
         {
          "X": -0.8002203106880188,
          "Y": -1.5430399179458618,
          "count": 49,
          "label": "DIRE"
         },
         {
          "X": 0.7769594192504883,
          "Y": -0.937835156917572,
          "count": 49,
          "label": "DIRE"
         },
         {
          "X": -0.5734463334083557,
          "Y": 1.4404056072235107,
          "count": 56,
          "label": "RIEN "
         },
         {
          "X": -0.038906216621398926,
          "Y": -1.3321967124938965,
          "count": 56,
          "label": "RIEN "
         },
         {
          "X": 1.5444684028625488,
          "Y": -2.3124451637268066,
          "count": 56,
          "label": "RIEN "
         },
         {
          "X": 0.8493266105651855,
          "Y": 0.3709956705570221,
          "count": 56,
          "label": "RIEN "
         },
         {
          "X": 0.7569299340248108,
          "Y": -1.7701759338378906,
          "count": 56,
          "label": "RIEN "
         },
         {
          "X": -0.5316834449768066,
          "Y": -0.3826110363006592,
          "count": 56,
          "label": "RIEN "
         },
         {
          "X": 2.189912796020508,
          "Y": -0.3414364457130432,
          "count": 56,
          "label": "RIEN "
         },
         {
          "X": -0.7827644348144531,
          "Y": -1.1214321851730347,
          "count": 56,
          "label": "RIEN "
         },
         {
          "X": 0.3275226056575775,
          "Y": 1.327501893043518,
          "count": 56,
          "label": "RIEN "
         },
         {
          "X": -0.2342323362827301,
          "Y": -2.38041090965271,
          "count": 56,
          "label": "RIEN "
         },
         {
          "X": -0.5727768540382385,
          "Y": 0.19141483306884766,
          "count": 56,
          "label": "RIEN "
         },
         {
          "X": 0.12445073574781418,
          "Y": 0.05000607669353485,
          "count": 56,
          "label": "RIEN "
         },
         {
          "X": 0.12445073574781418,
          "Y": 0.05000607669353485,
          "count": 56,
          "label": "RIEN "
         },
         {
          "X": -1.986215591430664,
          "Y": -1.3099150657653809,
          "count": 56,
          "label": "RIEN "
         },
         {
          "X": -1.4802589416503906,
          "Y": -0.13927695155143738,
          "count": 56,
          "label": "RIEN "
         },
         {
          "X": 1.9337143898010254,
          "Y": 0.7559248805046082,
          "count": 56,
          "label": "RIEN "
         },
         {
          "X": 0.5037851333618164,
          "Y": -0.36826446652412415,
          "count": 56,
          "label": "RIEN "
         },
         {
          "X": 0.7769594192504883,
          "Y": -0.937835156917572,
          "count": 56,
          "label": "RIEN "
         },
         {
          "X": 0.7809913158416748,
          "Y": -2.468172311782837,
          "count": 56,
          "label": "RIEN "
         },
         {
          "X": 0.7133759260177612,
          "Y": 1.2155088186264038,
          "count": 56,
          "label": "RIEN "
         },
         {
          "X": 0.5059654712677002,
          "Y": -0.36345821619033813,
          "count": 56,
          "label": "RIEN "
         },
         {
          "X": 1.7958910465240479,
          "Y": -1.4791693687438965,
          "count": 56,
          "label": "RIEN "
         },
         {
          "X": 0.2876945436000824,
          "Y": 1.8856663703918457,
          "count": 56,
          "label": "RIEN "
         },
         {
          "X": 0.5215978622436523,
          "Y": -1.8576406240463257,
          "count": 56,
          "label": "RIEN "
         },
         {
          "X": 1.9337143898010254,
          "Y": 0.7559248805046082,
          "count": 56,
          "label": "RIEN "
         },
         {
          "X": -0.7744936347007751,
          "Y": 0.43829581141471863,
          "count": 56,
          "label": "RIEN "
         },
         {
          "X": -0.010860791429877281,
          "Y": 0.7860143780708313,
          "count": 56,
          "label": "RIEN "
         },
         {
          "X": 0.006693319883197546,
          "Y": -0.5674325227737427,
          "count": 56,
          "label": "RIEN "
         },
         {
          "X": 0.5004889369010925,
          "Y": -0.3752165734767914,
          "count": 56,
          "label": "RIEN "
         },
         {
          "X": -1.3455700874328613,
          "Y": 1.0156828165054321,
          "count": 56,
          "label": "RIEN "
         },
         {
          "X": 0.12445073574781418,
          "Y": 0.05000607669353485,
          "count": 56,
          "label": "RIEN "
         },
         {
          "X": -1.669831395149231,
          "Y": 0.19383834302425385,
          "count": 56,
          "label": "RIEN "
         },
         {
          "X": 0.7133759260177612,
          "Y": 1.2155088186264038,
          "count": 56,
          "label": "RIEN "
         },
         {
          "X": 0.08518155664205551,
          "Y": -0.5668357610702515,
          "count": 56,
          "label": "RIEN "
         },
         {
          "X": 1.9539906978607178,
          "Y": 2.177903652191162,
          "count": 56,
          "label": "RIEN "
         },
         {
          "X": 0.12445073574781418,
          "Y": 0.05000607669353485,
          "count": 56,
          "label": "RIEN "
         },
         {
          "X": -0.5288838148117065,
          "Y": -0.4518406093120575,
          "count": 56,
          "label": "RIEN "
         },
         {
          "X": 0.7809913158416748,
          "Y": -2.468172311782837,
          "count": 56,
          "label": "RIEN "
         },
         {
          "X": 1.4603018760681152,
          "Y": 1.5007543563842773,
          "count": 56,
          "label": "RIEN "
         },
         {
          "X": -0.7890880703926086,
          "Y": -1.0077091455459595,
          "count": 56,
          "label": "RIEN "
         },
         {
          "X": -1.0455948114395142,
          "Y": 0.62473464012146,
          "count": 56,
          "label": "RIEN "
         },
         {
          "X": 2.356484889984131,
          "Y": 1.6304043531417847,
          "count": 56,
          "label": "RIEN "
         },
         {
          "X": -0.2342323362827301,
          "Y": -2.38041090965271,
          "count": 56,
          "label": "RIEN "
         },
         {
          "X": -1.986215591430664,
          "Y": -1.3099150657653809,
          "count": 56,
          "label": "RIEN "
         },
         {
          "X": -0.010860791429877281,
          "Y": 0.7860143780708313,
          "count": 56,
          "label": "RIEN "
         },
         {
          "X": 1.490423321723938,
          "Y": -0.8618544936180115,
          "count": 56,
          "label": "RIEN "
         },
         {
          "X": 0.8493266105651855,
          "Y": 0.3709956705570221,
          "count": 56,
          "label": "RIEN "
         },
         {
          "X": 1.4603018760681152,
          "Y": 1.5007543563842773,
          "count": 56,
          "label": "RIEN "
         },
         {
          "X": 1.7958910465240479,
          "Y": -1.4791693687438965,
          "count": 56,
          "label": "RIEN "
         },
         {
          "X": -0.7520882487297058,
          "Y": -0.2695270776748657,
          "count": 56,
          "label": "RIEN "
         },
         {
          "X": -1.4802589416503906,
          "Y": -0.13927695155143738,
          "count": 56,
          "label": "RIEN "
         },
         {
          "X": 0.030435696244239807,
          "Y": 1.9478543996810913,
          "count": 56,
          "label": "RIEN "
         },
         {
          "X": -0.010860791429877281,
          "Y": 0.7860143780708313,
          "count": 56,
          "label": "RIEN "
         },
         {
          "X": 0.9383410811424255,
          "Y": -0.30791112780570984,
          "count": 56,
          "label": "RIEN "
         },
         {
          "X": -0.5316834449768066,
          "Y": -0.3826110363006592,
          "count": 56,
          "label": "RIEN "
         },
         {
          "X": 0.2876945436000824,
          "Y": 1.8856663703918457,
          "count": 56,
          "label": "RIEN "
         },
         {
          "X": 1.5576236248016357,
          "Y": 0.37839797139167786,
          "count": 96,
          "label": "QUOI"
         },
         {
          "X": -0.2342323362827301,
          "Y": -2.38041090965271,
          "count": 96,
          "label": "QUOI"
         },
         {
          "X": -0.7458605766296387,
          "Y": 2.3939642906188965,
          "count": 96,
          "label": "QUOI"
         },
         {
          "X": 0.9383410811424255,
          "Y": -0.30791112780570984,
          "count": 96,
          "label": "QUOI"
         },
         {
          "X": 0.5004889369010925,
          "Y": -0.3752165734767914,
          "count": 96,
          "label": "QUOI"
         },
         {
          "X": -1.433718204498291,
          "Y": -1.7712657451629639,
          "count": 96,
          "label": "QUOI"
         },
         {
          "X": 0.6420198082923889,
          "Y": -1.793840765953064,
          "count": 96,
          "label": "QUOI"
         },
         {
          "X": -1.0455948114395142,
          "Y": 0.62473464012146,
          "count": 96,
          "label": "QUOI"
         },
         {
          "X": 1.7958910465240479,
          "Y": -1.4791693687438965,
          "count": 96,
          "label": "QUOI"
         },
         {
          "X": -1.433718204498291,
          "Y": -1.7712657451629639,
          "count": 96,
          "label": "QUOI"
         },
         {
          "X": 2.2986629009246826,
          "Y": -2.04585337638855,
          "count": 96,
          "label": "QUOI"
         },
         {
          "X": -0.7520882487297058,
          "Y": -0.2695270776748657,
          "count": 96,
          "label": "QUOI"
         },
         {
          "X": -0.010860791429877281,
          "Y": 0.7860143780708313,
          "count": 96,
          "label": "QUOI"
         },
         {
          "X": 0.5022168159484863,
          "Y": -0.369074285030365,
          "count": 96,
          "label": "QUOI"
         },
         {
          "X": -0.7890880703926086,
          "Y": -1.0077091455459595,
          "count": 96,
          "label": "QUOI"
         },
         {
          "X": 0.5037851333618164,
          "Y": -0.36826446652412415,
          "count": 96,
          "label": "QUOI"
         },
         {
          "X": 0.7769594192504883,
          "Y": -0.937835156917572,
          "count": 96,
          "label": "QUOI"
         },
         {
          "X": 0.8493266105651855,
          "Y": 0.3709956705570221,
          "count": 96,
          "label": "QUOI"
         },
         {
          "X": 0.2876945436000824,
          "Y": 1.8856663703918457,
          "count": 96,
          "label": "QUOI"
         },
         {
          "X": -1.4802589416503906,
          "Y": -0.13927695155143738,
          "count": 96,
          "label": "QUOI"
         },
         {
          "X": 0.8493266105651855,
          "Y": 0.3709956705570221,
          "count": 96,
          "label": "QUOI"
         },
         {
          "X": 1.5444684028625488,
          "Y": -2.3124451637268066,
          "count": 96,
          "label": "QUOI"
         },
         {
          "X": 1.3840988874435425,
          "Y": -0.24738861620426178,
          "count": 96,
          "label": "QUOI"
         },
         {
          "X": 1.0381417274475098,
          "Y": 2.305878162384033,
          "count": 96,
          "label": "QUOI"
         },
         {
          "X": -1.372414469718933,
          "Y": 1.3572791814804077,
          "count": 96,
          "label": "QUOI"
         },
         {
          "X": 0.9383410811424255,
          "Y": -0.30791112780570984,
          "count": 96,
          "label": "QUOI"
         },
         {
          "X": -1.433718204498291,
          "Y": -1.7712657451629639,
          "count": 96,
          "label": "QUOI"
         },
         {
          "X": -0.5734463334083557,
          "Y": 1.4404056072235107,
          "count": 96,
          "label": "QUOI"
         },
         {
          "X": -0.7890880703926086,
          "Y": -1.0077091455459595,
          "count": 96,
          "label": "QUOI"
         },
         {
          "X": 1.9337143898010254,
          "Y": 0.7559248805046082,
          "count": 96,
          "label": "QUOI"
         },
         {
          "X": 2.8399338722229004,
          "Y": 0.9212411046028137,
          "count": 96,
          "label": "QUOI"
         },
         {
          "X": -1.3455700874328613,
          "Y": 1.0156828165054321,
          "count": 96,
          "label": "QUOI"
         },
         {
          "X": 0.7769594192504883,
          "Y": -0.937835156917572,
          "count": 96,
          "label": "QUOI"
         },
         {
          "X": 1.0381417274475098,
          "Y": 2.305878162384033,
          "count": 96,
          "label": "QUOI"
         },
         {
          "X": -0.038906216621398926,
          "Y": -1.3321967124938965,
          "count": 96,
          "label": "QUOI"
         },
         {
          "X": -0.7890880703926086,
          "Y": -1.0077091455459595,
          "count": 96,
          "label": "QUOI"
         },
         {
          "X": 3.1168785095214844,
          "Y": -0.411366730928421,
          "count": 96,
          "label": "QUOI"
         },
         {
          "X": -1.669831395149231,
          "Y": 0.19383834302425385,
          "count": 96,
          "label": "QUOI"
         },
         {
          "X": 1.0381417274475098,
          "Y": 2.305878162384033,
          "count": 96,
          "label": "QUOI"
         },
         {
          "X": -0.5263254046440125,
          "Y": -0.5030304193496704,
          "count": 96,
          "label": "QUOI"
         },
         {
          "X": 0.8493266105651855,
          "Y": 0.3709956705570221,
          "count": 96,
          "label": "QUOI"
         },
         {
          "X": -0.038906216621398926,
          "Y": -1.3321967124938965,
          "count": 96,
          "label": "QUOI"
         },
         {
          "X": 2.189912796020508,
          "Y": -0.3414364457130432,
          "count": 96,
          "label": "QUOI"
         },
         {
          "X": -1.3968206644058228,
          "Y": -0.7054904103279114,
          "count": 96,
          "label": "QUOI"
         },
         {
          "X": 1.4603018760681152,
          "Y": 1.5007543563842773,
          "count": 96,
          "label": "QUOI"
         },
         {
          "X": -1.3968206644058228,
          "Y": -0.7054904103279114,
          "count": 96,
          "label": "QUOI"
         },
         {
          "X": 1.0381417274475098,
          "Y": 2.305878162384033,
          "count": 96,
          "label": "QUOI"
         },
         {
          "X": 1.5576236248016357,
          "Y": 0.37839797139167786,
          "count": 96,
          "label": "QUOI"
         },
         {
          "X": 2.189912796020508,
          "Y": -0.3414364457130432,
          "count": 96,
          "label": "QUOI"
         },
         {
          "X": 1.7958910465240479,
          "Y": -1.4791693687438965,
          "count": 96,
          "label": "QUOI"
         },
         {
          "X": -0.7890880703926086,
          "Y": -1.0077091455459595,
          "count": 96,
          "label": "QUOI"
         },
         {
          "X": -0.010860791429877281,
          "Y": 0.7860143780708313,
          "count": 96,
          "label": "QUOI"
         },
         {
          "X": 0.12445073574781418,
          "Y": 0.05000607669353485,
          "count": 96,
          "label": "QUOI"
         },
         {
          "X": 1.9337143898010254,
          "Y": 0.7559248805046082,
          "count": 96,
          "label": "QUOI"
         },
         {
          "X": -0.7890880703926086,
          "Y": -1.0077091455459595,
          "count": 96,
          "label": "QUOI"
         },
         {
          "X": 0.8493266105651855,
          "Y": 0.3709956705570221,
          "count": 96,
          "label": "QUOI"
         },
         {
          "X": 2.8399338722229004,
          "Y": 0.9212411046028137,
          "count": 96,
          "label": "QUOI"
         },
         {
          "X": 0.8493266105651855,
          "Y": 0.3709956705570221,
          "count": 96,
          "label": "QUOI"
         },
         {
          "X": 0.7769594192504883,
          "Y": -0.937835156917572,
          "count": 96,
          "label": "QUOI"
         },
         {
          "X": 0.8493266105651855,
          "Y": 0.3709956705570221,
          "count": 96,
          "label": "QUOI"
         },
         {
          "X": -1.664787769317627,
          "Y": 1.7272974252700806,
          "count": 96,
          "label": "QUOI"
         },
         {
          "X": -0.5734463334083557,
          "Y": 1.4404056072235107,
          "count": 96,
          "label": "QUOI"
         },
         {
          "X": -1.664787769317627,
          "Y": 1.7272974252700806,
          "count": 96,
          "label": "QUOI"
         },
         {
          "X": 2.189912796020508,
          "Y": -0.3414364457130432,
          "count": 96,
          "label": "QUOI"
         },
         {
          "X": -0.535822331905365,
          "Y": -0.45780566334724426,
          "count": 96,
          "label": "QUOI"
         },
         {
          "X": 1.7958910465240479,
          "Y": -1.4791693687438965,
          "count": 96,
          "label": "QUOI"
         },
         {
          "X": -1.474680781364441,
          "Y": 0.5168231129646301,
          "count": 96,
          "label": "QUOI"
         },
         {
          "X": 1.9337143898010254,
          "Y": 0.7559248805046082,
          "count": 96,
          "label": "QUOI"
         },
         {
          "X": -0.7890880703926086,
          "Y": -1.0077091455459595,
          "count": 96,
          "label": "QUOI"
         },
         {
          "X": 0.7769594192504883,
          "Y": -0.937835156917572,
          "count": 96,
          "label": "QUOI"
         },
         {
          "X": 0.5022168159484863,
          "Y": -0.369074285030365,
          "count": 96,
          "label": "QUOI"
         },
         {
          "X": 0.8493266105651855,
          "Y": 0.3709956705570221,
          "count": 96,
          "label": "QUOI"
         },
         {
          "X": 3.1163887977600098,
          "Y": -0.36505642533302307,
          "count": 96,
          "label": "QUOI"
         },
         {
          "X": 2.189912796020508,
          "Y": -0.3414364457130432,
          "count": 96,
          "label": "QUOI"
         },
         {
          "X": -2.2484381198883057,
          "Y": -0.08005529642105103,
          "count": 96,
          "label": "QUOI"
         },
         {
          "X": 2.189912796020508,
          "Y": -0.3414364457130432,
          "count": 96,
          "label": "QUOI"
         },
         {
          "X": -0.5316834449768066,
          "Y": -0.3826110363006592,
          "count": 96,
          "label": "QUOI"
         },
         {
          "X": -0.010860791429877281,
          "Y": 0.7860143780708313,
          "count": 96,
          "label": "QUOI"
         },
         {
          "X": 0.7133759260177612,
          "Y": 1.2155088186264038,
          "count": 96,
          "label": "QUOI"
         },
         {
          "X": 1.7958910465240479,
          "Y": -1.4791693687438965,
          "count": 96,
          "label": "QUOI"
         },
         {
          "X": 1.490423321723938,
          "Y": -0.8618544936180115,
          "count": 96,
          "label": "QUOI"
         },
         {
          "X": -1.669831395149231,
          "Y": 0.19383834302425385,
          "count": 96,
          "label": "QUOI"
         },
         {
          "X": 1.3840988874435425,
          "Y": -0.24738861620426178,
          "count": 96,
          "label": "QUOI"
         },
         {
          "X": -0.6066305637359619,
          "Y": 0.047458481043577194,
          "count": 96,
          "label": "QUOI"
         },
         {
          "X": 0.3065185546875,
          "Y": -2.5074639320373535,
          "count": 96,
          "label": "QUOI"
         },
         {
          "X": 0.7133759260177612,
          "Y": 1.2155088186264038,
          "count": 96,
          "label": "QUOI"
         },
         {
          "X": 0.5004889369010925,
          "Y": -0.3752165734767914,
          "count": 96,
          "label": "QUOI"
         },
         {
          "X": 2.5816004276275635,
          "Y": -1.5323636531829834,
          "count": 96,
          "label": "QUOI"
         },
         {
          "X": 0.08518155664205551,
          "Y": -0.5668357610702515,
          "count": 96,
          "label": "QUOI"
         },
         {
          "X": 0.8493266105651855,
          "Y": 0.3709956705570221,
          "count": 96,
          "label": "QUOI"
         },
         {
          "X": -0.010860791429877281,
          "Y": 0.7860143780708313,
          "count": 96,
          "label": "QUOI"
         },
         {
          "X": 0.5021163821220398,
          "Y": -0.36915501952171326,
          "count": 96,
          "label": "QUOI"
         },
         {
          "X": -0.5316834449768066,
          "Y": -0.3826110363006592,
          "count": 96,
          "label": "QUOI"
         },
         {
          "X": -1.474680781364441,
          "Y": 0.5168231129646301,
          "count": 96,
          "label": "QUOI"
         },
         {
          "X": 0.08518155664205551,
          "Y": -0.5668357610702515,
          "count": 96,
          "label": "QUOI"
         },
         {
          "X": 1.0381417274475098,
          "Y": 2.305878162384033,
          "count": 96,
          "label": "QUOI"
         },
         {
          "X": 0.8493266105651855,
          "Y": 0.3709956705570221,
          "count": 77,
          "label": "MAIS"
         },
         {
          "X": -2.2484381198883057,
          "Y": -0.08005529642105103,
          "count": 77,
          "label": "MAIS"
         },
         {
          "X": -0.5734463334083557,
          "Y": 1.4404056072235107,
          "count": 77,
          "label": "MAIS"
         },
         {
          "X": 2.189912796020508,
          "Y": -0.3414364457130432,
          "count": 77,
          "label": "MAIS"
         },
         {
          "X": 1.490423321723938,
          "Y": -0.8618544936180115,
          "count": 77,
          "label": "MAIS"
         },
         {
          "X": 2.796124219894409,
          "Y": 0.428219199180603,
          "count": 77,
          "label": "MAIS"
         },
         {
          "X": -0.010860791429877281,
          "Y": 0.7860143780708313,
          "count": 77,
          "label": "MAIS"
         },
         {
          "X": 0.5215978622436523,
          "Y": -1.8576406240463257,
          "count": 77,
          "label": "MAIS"
         },
         {
          "X": 0.12445073574781418,
          "Y": 0.05000607669353485,
          "count": 77,
          "label": "MAIS"
         },
         {
          "X": -0.010860791429877281,
          "Y": 0.7860143780708313,
          "count": 77,
          "label": "MAIS"
         },
         {
          "X": 2.5976979732513428,
          "Y": 1.3837021589279175,
          "count": 77,
          "label": "MAIS"
         },
         {
          "X": -0.7744936347007751,
          "Y": 0.43829581141471863,
          "count": 77,
          "label": "MAIS"
         },
         {
          "X": -2.2484381198883057,
          "Y": -0.08005529642105103,
          "count": 77,
          "label": "MAIS"
         },
         {
          "X": -0.010860791429877281,
          "Y": 0.7860143780708313,
          "count": 77,
          "label": "MAIS"
         },
         {
          "X": -0.2342323362827301,
          "Y": -2.38041090965271,
          "count": 77,
          "label": "MAIS"
         },
         {
          "X": 0.7569299340248108,
          "Y": -1.7701759338378906,
          "count": 77,
          "label": "MAIS"
         },
         {
          "X": 2.8399338722229004,
          "Y": 0.9212411046028137,
          "count": 77,
          "label": "MAIS"
         },
         {
          "X": -0.010860791429877281,
          "Y": 0.7860143780708313,
          "count": 77,
          "label": "MAIS"
         },
         {
          "X": 2.2986629009246826,
          "Y": -2.04585337638855,
          "count": 77,
          "label": "MAIS"
         },
         {
          "X": 1.0381417274475098,
          "Y": 2.305878162384033,
          "count": 77,
          "label": "MAIS"
         },
         {
          "X": 0.12445073574781418,
          "Y": 0.05000607669353485,
          "count": 77,
          "label": "MAIS"
         },
         {
          "X": -1.4802589416503906,
          "Y": -0.13927695155143738,
          "count": 77,
          "label": "MAIS"
         },
         {
          "X": 0.08518155664205551,
          "Y": -0.5668357610702515,
          "count": 77,
          "label": "MAIS"
         },
         {
          "X": 0.7769594192504883,
          "Y": -0.937835156917572,
          "count": 77,
          "label": "MAIS"
         },
         {
          "X": 2.189912796020508,
          "Y": -0.3414364457130432,
          "count": 77,
          "label": "MAIS"
         },
         {
          "X": -1.433718204498291,
          "Y": -1.7712657451629639,
          "count": 77,
          "label": "MAIS"
         },
         {
          "X": 0.5059654712677002,
          "Y": -0.36345821619033813,
          "count": 77,
          "label": "MAIS"
         },
         {
          "X": 1.0381417274475098,
          "Y": 2.305878162384033,
          "count": 77,
          "label": "MAIS"
         },
         {
          "X": 2.8399338722229004,
          "Y": 0.9212411046028137,
          "count": 77,
          "label": "MAIS"
         },
         {
          "X": -0.5734463334083557,
          "Y": 1.4404056072235107,
          "count": 77,
          "label": "MAIS"
         },
         {
          "X": 2.8399338722229004,
          "Y": 0.9212411046028137,
          "count": 77,
          "label": "MAIS"
         },
         {
          "X": 0.030435696244239807,
          "Y": 1.9478543996810913,
          "count": 77,
          "label": "MAIS"
         },
         {
          "X": 2.189912796020508,
          "Y": -0.3414364457130432,
          "count": 77,
          "label": "MAIS"
         },
         {
          "X": 0.8493266105651855,
          "Y": 0.3709956705570221,
          "count": 77,
          "label": "MAIS"
         },
         {
          "X": -1.4802589416503906,
          "Y": -0.13927695155143738,
          "count": 77,
          "label": "MAIS"
         },
         {
          "X": -0.20227792859077454,
          "Y": 2.6058075428009033,
          "count": 77,
          "label": "MAIS"
         },
         {
          "X": 0.12445073574781418,
          "Y": 0.05000607669353485,
          "count": 77,
          "label": "MAIS"
         },
         {
          "X": 1.0381417274475098,
          "Y": 2.305878162384033,
          "count": 77,
          "label": "MAIS"
         },
         {
          "X": 1.1252766847610474,
          "Y": -1.8188939094543457,
          "count": 77,
          "label": "MAIS"
         },
         {
          "X": -0.038906216621398926,
          "Y": -1.3321967124938965,
          "count": 77,
          "label": "MAIS"
         },
         {
          "X": 0.12445073574781418,
          "Y": 0.05000607669353485,
          "count": 77,
          "label": "MAIS"
         },
         {
          "X": -0.5734463334083557,
          "Y": 1.4404056072235107,
          "count": 77,
          "label": "MAIS"
         },
         {
          "X": 0.8493266105651855,
          "Y": 0.3709956705570221,
          "count": 77,
          "label": "MAIS"
         },
         {
          "X": 0.7133759260177612,
          "Y": 1.2155088186264038,
          "count": 77,
          "label": "MAIS"
         },
         {
          "X": -0.8977599740028381,
          "Y": -2.1725804805755615,
          "count": 77,
          "label": "MAIS"
         },
         {
          "X": -0.7744936347007751,
          "Y": 0.43829581141471863,
          "count": 77,
          "label": "MAIS"
         },
         {
          "X": 0.8493266105651855,
          "Y": 0.3709956705570221,
          "count": 77,
          "label": "MAIS"
         },
         {
          "X": 0.5037851333618164,
          "Y": -0.36826446652412415,
          "count": 77,
          "label": "MAIS"
         },
         {
          "X": -0.038906216621398926,
          "Y": -1.3321967124938965,
          "count": 77,
          "label": "MAIS"
         },
         {
          "X": 0.7133759260177612,
          "Y": 1.2155088186264038,
          "count": 77,
          "label": "MAIS"
         },
         {
          "X": 1.7958910465240479,
          "Y": -1.4791693687438965,
          "count": 77,
          "label": "MAIS"
         },
         {
          "X": -1.3968206644058228,
          "Y": -0.7054904103279114,
          "count": 77,
          "label": "MAIS"
         },
         {
          "X": -0.5734463334083557,
          "Y": 1.4404056072235107,
          "count": 77,
          "label": "MAIS"
         },
         {
          "X": 3.1184773445129395,
          "Y": 0.05429292470216751,
          "count": 77,
          "label": "MAIS"
         },
         {
          "X": 0.12445073574781418,
          "Y": 0.05000607669353485,
          "count": 77,
          "label": "MAIS"
         },
         {
          "X": -1.664787769317627,
          "Y": 1.7272974252700806,
          "count": 77,
          "label": "MAIS"
         },
         {
          "X": 1.4603018760681152,
          "Y": 1.5007543563842773,
          "count": 77,
          "label": "MAIS"
         },
         {
          "X": 0.3275226056575775,
          "Y": 1.327501893043518,
          "count": 77,
          "label": "MAIS"
         },
         {
          "X": 0.7769594192504883,
          "Y": -0.937835156917572,
          "count": 77,
          "label": "MAIS"
         },
         {
          "X": 0.7769594192504883,
          "Y": -0.937835156917572,
          "count": 77,
          "label": "MAIS"
         },
         {
          "X": -1.1061962842941284,
          "Y": 2.2150063514709473,
          "count": 77,
          "label": "MAIS"
         },
         {
          "X": 0.8493266105651855,
          "Y": 0.3709956705570221,
          "count": 77,
          "label": "MAIS"
         },
         {
          "X": 3.056864023208618,
          "Y": 0.18146811425685883,
          "count": 77,
          "label": "MAIS"
         },
         {
          "X": 0.12445073574781418,
          "Y": 0.05000607669353485,
          "count": 77,
          "label": "MAIS"
         },
         {
          "X": 0.08518155664205551,
          "Y": -0.5668357610702515,
          "count": 77,
          "label": "MAIS"
         },
         {
          "X": 0.7809913158416748,
          "Y": -2.468172311782837,
          "count": 77,
          "label": "MAIS"
         },
         {
          "X": 2.8399338722229004,
          "Y": 0.9212411046028137,
          "count": 77,
          "label": "MAIS"
         },
         {
          "X": -0.038906216621398926,
          "Y": -1.3321967124938965,
          "count": 77,
          "label": "MAIS"
         },
         {
          "X": -0.8977599740028381,
          "Y": -2.1725804805755615,
          "count": 77,
          "label": "MAIS"
         },
         {
          "X": 0.5021163821220398,
          "Y": -0.36915501952171326,
          "count": 77,
          "label": "MAIS"
         },
         {
          "X": 0.006693319883197546,
          "Y": -0.5674325227737427,
          "count": 77,
          "label": "MAIS"
         },
         {
          "X": -0.010860791429877281,
          "Y": 0.7860143780708313,
          "count": 77,
          "label": "MAIS"
         },
         {
          "X": -1.0455948114395142,
          "Y": 0.62473464012146,
          "count": 77,
          "label": "MAIS"
         },
         {
          "X": -0.038906216621398926,
          "Y": -1.3321967124938965,
          "count": 77,
          "label": "MAIS"
         },
         {
          "X": 0.9383410811424255,
          "Y": -0.30791112780570984,
          "count": 77,
          "label": "MAIS"
         },
         {
          "X": 0.9383410811424255,
          "Y": -0.30791112780570984,
          "count": 77,
          "label": "MAIS"
         },
         {
          "X": -0.5734463334083557,
          "Y": 1.4404056072235107,
          "count": 77,
          "label": "MAIS"
         },
         {
          "X": -1.4223387241363525,
          "Y": -1.1469751596450806,
          "count": 52,
          "label": "PLUS.P"
         },
         {
          "X": 0.08518155664205551,
          "Y": -0.5668357610702515,
          "count": 52,
          "label": "PLUS.P"
         },
         {
          "X": 0.5021993517875671,
          "Y": -0.3690900206565857,
          "count": 52,
          "label": "PLUS.P"
         },
         {
          "X": -1.3968206644058228,
          "Y": -0.7054904103279114,
          "count": 52,
          "label": "PLUS.P"
         },
         {
          "X": 1.5576236248016357,
          "Y": 0.37839797139167786,
          "count": 52,
          "label": "PLUS.P"
         },
         {
          "X": 2.189912796020508,
          "Y": -0.3414364457130432,
          "count": 52,
          "label": "PLUS.P"
         },
         {
          "X": -0.010860791429877281,
          "Y": 0.7860143780708313,
          "count": 52,
          "label": "PLUS.P"
         },
         {
          "X": 0.7769594192504883,
          "Y": -0.937835156917572,
          "count": 52,
          "label": "PLUS.P"
         },
         {
          "X": 1.9337143898010254,
          "Y": 0.7559248805046082,
          "count": 52,
          "label": "PLUS.P"
         },
         {
          "X": 2.189912796020508,
          "Y": -0.3414364457130432,
          "count": 52,
          "label": "PLUS.P"
         },
         {
          "X": 0.12445073574781418,
          "Y": 0.05000607669353485,
          "count": 52,
          "label": "PLUS.P"
         },
         {
          "X": -0.010860791429877281,
          "Y": 0.7860143780708313,
          "count": 52,
          "label": "PLUS.P"
         },
         {
          "X": 0.4047434628009796,
          "Y": 2.6628003120422363,
          "count": 52,
          "label": "PLUS.P"
         },
         {
          "X": -0.010860791429877281,
          "Y": 0.7860143780708313,
          "count": 52,
          "label": "PLUS.P"
         },
         {
          "X": 1.7958910465240479,
          "Y": -1.4791693687438965,
          "count": 52,
          "label": "PLUS.P"
         },
         {
          "X": 1.5444684028625488,
          "Y": -2.3124451637268066,
          "count": 52,
          "label": "PLUS.P"
         },
         {
          "X": 0.12445073574781418,
          "Y": 0.05000607669353485,
          "count": 52,
          "label": "PLUS.P"
         },
         {
          "X": 0.8493266105651855,
          "Y": 0.3709956705570221,
          "count": 52,
          "label": "PLUS.P"
         },
         {
          "X": 0.7133759260177612,
          "Y": 1.2155088186264038,
          "count": 52,
          "label": "PLUS.P"
         },
         {
          "X": 1.1252766847610474,
          "Y": -1.8188939094543457,
          "count": 52,
          "label": "PLUS.P"
         },
         {
          "X": 1.9337143898010254,
          "Y": 0.7559248805046082,
          "count": 52,
          "label": "PLUS.P"
         },
         {
          "X": 0.7769594192504883,
          "Y": -0.937835156917572,
          "count": 52,
          "label": "PLUS.P"
         },
         {
          "X": -1.3455700874328613,
          "Y": 1.0156828165054321,
          "count": 52,
          "label": "PLUS.P"
         },
         {
          "X": 0.12445073574781418,
          "Y": 0.05000607669353485,
          "count": 52,
          "label": "PLUS.P"
         },
         {
          "X": 1.9337143898010254,
          "Y": 0.7559248805046082,
          "count": 52,
          "label": "PLUS.P"
         },
         {
          "X": -0.8932654857635498,
          "Y": 2.2788407802581787,
          "count": 52,
          "label": "PLUS.P"
         },
         {
          "X": -2.094820976257324,
          "Y": 0.9459067583084106,
          "count": 52,
          "label": "PLUS.P"
         },
         {
          "X": 0.054940976202487946,
          "Y": 1.9244228601455688,
          "count": 52,
          "label": "PLUS.P"
         },
         {
          "X": 2.8062100410461426,
          "Y": 0.41145914793014526,
          "count": 52,
          "label": "PLUS.P"
         },
         {
          "X": 1.7958910465240479,
          "Y": -1.4791693687438965,
          "count": 52,
          "label": "PLUS.P"
         },
         {
          "X": 1.565230369567871,
          "Y": 0.3735778033733368,
          "count": 52,
          "label": "PLUS.P"
         },
         {
          "X": 1.9337143898010254,
          "Y": 0.7559248805046082,
          "count": 52,
          "label": "PLUS.P"
         },
         {
          "X": 0.8493266105651855,
          "Y": 0.3709956705570221,
          "count": 52,
          "label": "PLUS.P"
         },
         {
          "X": 0.9383410811424255,
          "Y": -0.30791112780570984,
          "count": 52,
          "label": "PLUS.P"
         },
         {
          "X": 1.7958910465240479,
          "Y": -1.4791693687438965,
          "count": 52,
          "label": "PLUS.P"
         },
         {
          "X": 1.4603018760681152,
          "Y": 1.5007543563842773,
          "count": 52,
          "label": "PLUS.P"
         },
         {
          "X": -1.433718204498291,
          "Y": -1.7712657451629639,
          "count": 52,
          "label": "PLUS.P"
         },
         {
          "X": 0.12445073574781418,
          "Y": 0.05000607669353485,
          "count": 52,
          "label": "PLUS.P"
         },
         {
          "X": 1.3840988874435425,
          "Y": -0.24738861620426178,
          "count": 52,
          "label": "PLUS.P"
         },
         {
          "X": 1.5444684028625488,
          "Y": -2.3124451637268066,
          "count": 52,
          "label": "PLUS.P"
         },
         {
          "X": -1.3455700874328613,
          "Y": 1.0156828165054321,
          "count": 52,
          "label": "PLUS.P"
         },
         {
          "X": 0.7133759260177612,
          "Y": 1.2155088186264038,
          "count": 52,
          "label": "PLUS.P"
         },
         {
          "X": 0.4047434628009796,
          "Y": 2.6628003120422363,
          "count": 52,
          "label": "PLUS.P"
         },
         {
          "X": 0.8493266105651855,
          "Y": 0.3709956705570221,
          "count": 52,
          "label": "PLUS.P"
         },
         {
          "X": 0.7769594192504883,
          "Y": -0.937835156917572,
          "count": 52,
          "label": "PLUS.P"
         },
         {
          "X": 1.9337143898010254,
          "Y": 0.7559248805046082,
          "count": 52,
          "label": "PLUS.P"
         },
         {
          "X": 2.356484889984131,
          "Y": 1.6304043531417847,
          "count": 52,
          "label": "PLUS.P"
         },
         {
          "X": -0.038906216621398926,
          "Y": -1.3321967124938965,
          "count": 52,
          "label": "PLUS.P"
         },
         {
          "X": -1.664787769317627,
          "Y": 1.7272974252700806,
          "count": 52,
          "label": "PLUS.P"
         },
         {
          "X": -0.010860791429877281,
          "Y": 0.7860143780708313,
          "count": 52,
          "label": "PLUS.P"
         },
         {
          "X": 0.7809913158416748,
          "Y": -2.468172311782837,
          "count": 52,
          "label": "PLUS.P"
         },
         {
          "X": 1.227840542793274,
          "Y": 1.0427117347717285,
          "count": 52,
          "label": "PLUS.P"
         },
         {
          "X": -0.20227792859077454,
          "Y": 2.6058075428009033,
          "count": 116,
          "label": "GSIGN"
         },
         {
          "X": 0.12445073574781418,
          "Y": 0.05000607669353485,
          "count": 116,
          "label": "GSIGN"
         },
         {
          "X": -1.664787769317627,
          "Y": 1.7272974252700806,
          "count": 116,
          "label": "GSIGN"
         },
         {
          "X": -0.2342323362827301,
          "Y": -2.38041090965271,
          "count": 116,
          "label": "GSIGN"
         },
         {
          "X": -1.4223387241363525,
          "Y": -1.1469751596450806,
          "count": 116,
          "label": "GSIGN"
         },
         {
          "X": 0.12445073574781418,
          "Y": 0.05000607669353485,
          "count": 116,
          "label": "GSIGN"
         },
         {
          "X": 0.9383410811424255,
          "Y": -0.30791112780570984,
          "count": 116,
          "label": "GSIGN"
         },
         {
          "X": 0.7769594192504883,
          "Y": -0.937835156917572,
          "count": 116,
          "label": "GSIGN"
         },
         {
          "X": -1.433718204498291,
          "Y": -1.7712657451629639,
          "count": 116,
          "label": "GSIGN"
         },
         {
          "X": 1.9539906978607178,
          "Y": 2.177903652191162,
          "count": 116,
          "label": "GSIGN"
         },
         {
          "X": -0.7744936347007751,
          "Y": 0.43829581141471863,
          "count": 116,
          "label": "GSIGN"
         },
         {
          "X": -0.038906216621398926,
          "Y": -1.3321967124938965,
          "count": 116,
          "label": "GSIGN"
         },
         {
          "X": 0.5059654712677002,
          "Y": -0.36345821619033813,
          "count": 116,
          "label": "GSIGN"
         },
         {
          "X": -2.330791473388672,
          "Y": 0.45270487666130066,
          "count": 116,
          "label": "GSIGN"
         },
         {
          "X": 0.8493266105651855,
          "Y": 0.3709956705570221,
          "count": 116,
          "label": "GSIGN"
         },
         {
          "X": 0.12445073574781418,
          "Y": 0.05000607669353485,
          "count": 116,
          "label": "GSIGN"
         },
         {
          "X": -0.6066305637359619,
          "Y": 0.047458481043577194,
          "count": 116,
          "label": "GSIGN"
         },
         {
          "X": 0.12445073574781418,
          "Y": 0.05000607669353485,
          "count": 116,
          "label": "GSIGN"
         },
         {
          "X": 1.5576236248016357,
          "Y": 0.37839797139167786,
          "count": 116,
          "label": "GSIGN"
         },
         {
          "X": 2.189912796020508,
          "Y": -0.3414364457130432,
          "count": 116,
          "label": "GSIGN"
         },
         {
          "X": 0.311575323343277,
          "Y": -2.505739450454712,
          "count": 116,
          "label": "GSIGN"
         },
         {
          "X": 2.923506736755371,
          "Y": -0.958000123500824,
          "count": 116,
          "label": "GSIGN"
         },
         {
          "X": 2.6689469814300537,
          "Y": -1.2330992221832275,
          "count": 116,
          "label": "GSIGN"
         },
         {
          "X": -2.168177843093872,
          "Y": -0.8271084427833557,
          "count": 116,
          "label": "GSIGN"
         },
         {
          "X": -2.1734933853149414,
          "Y": -0.8107757568359375,
          "count": 116,
          "label": "GSIGN"
         },
         {
          "X": -0.5734463334083557,
          "Y": 1.4404056072235107,
          "count": 116,
          "label": "GSIGN"
         },
         {
          "X": 0.3275226056575775,
          "Y": 1.327501893043518,
          "count": 116,
          "label": "GSIGN"
         },
         {
          "X": 0.06318021565675735,
          "Y": 1.9193215370178223,
          "count": 116,
          "label": "GSIGN"
         },
         {
          "X": 2.923506736755371,
          "Y": -0.958000123500824,
          "count": 116,
          "label": "GSIGN"
         },
         {
          "X": 0.3275226056575775,
          "Y": 1.327501893043518,
          "count": 116,
          "label": "GSIGN"
         },
         {
          "X": -0.5263254046440125,
          "Y": -0.5030304193496704,
          "count": 116,
          "label": "GSIGN"
         },
         {
          "X": 0.12445073574781418,
          "Y": 0.05000607669353485,
          "count": 116,
          "label": "GSIGN"
         },
         {
          "X": 1.0381417274475098,
          "Y": 2.305878162384033,
          "count": 116,
          "label": "GSIGN"
         },
         {
          "X": -1.4223387241363525,
          "Y": -1.1469751596450806,
          "count": 116,
          "label": "GSIGN"
         },
         {
          "X": 0.8493266105651855,
          "Y": 0.3709956705570221,
          "count": 116,
          "label": "GSIGN"
         },
         {
          "X": -0.038906216621398926,
          "Y": -1.3321967124938965,
          "count": 116,
          "label": "GSIGN"
         },
         {
          "X": 0.8493266105651855,
          "Y": 0.3709956705570221,
          "count": 116,
          "label": "GSIGN"
         },
         {
          "X": 0.7133759260177612,
          "Y": 1.2155088186264038,
          "count": 116,
          "label": "GSIGN"
         },
         {
          "X": -1.433718204498291,
          "Y": -1.7712657451629639,
          "count": 116,
          "label": "GSIGN"
         },
         {
          "X": 0.5059654712677002,
          "Y": -0.36345821619033813,
          "count": 116,
          "label": "GSIGN"
         },
         {
          "X": 1.227840542793274,
          "Y": 1.0427117347717285,
          "count": 116,
          "label": "GSIGN"
         },
         {
          "X": 2.796124219894409,
          "Y": 0.428219199180603,
          "count": 116,
          "label": "GSIGN"
         },
         {
          "X": -0.038906216621398926,
          "Y": -1.3321967124938965,
          "count": 116,
          "label": "GSIGN"
         },
         {
          "X": -0.7520882487297058,
          "Y": -0.2695270776748657,
          "count": 116,
          "label": "GSIGN"
         },
         {
          "X": -0.5263254046440125,
          "Y": -0.5030304193496704,
          "count": 116,
          "label": "GSIGN"
         },
         {
          "X": -0.7458605766296387,
          "Y": 2.3939642906188965,
          "count": 116,
          "label": "GSIGN"
         },
         {
          "X": -1.34554123878479,
          "Y": 0.9518899321556091,
          "count": 116,
          "label": "GSIGN"
         },
         {
          "X": 1.4603018760681152,
          "Y": 1.5007543563842773,
          "count": 116,
          "label": "GSIGN"
         },
         {
          "X": 0.12445073574781418,
          "Y": 0.05000607669353485,
          "count": 116,
          "label": "GSIGN"
         },
         {
          "X": 2.2986629009246826,
          "Y": -2.04585337638855,
          "count": 116,
          "label": "GSIGN"
         },
         {
          "X": 3.119617223739624,
          "Y": -0.13792037963867188,
          "count": 116,
          "label": "GSIGN"
         },
         {
          "X": 0.7769594192504883,
          "Y": -0.937835156917572,
          "count": 116,
          "label": "GSIGN"
         },
         {
          "X": 0.2876945436000824,
          "Y": 1.8856663703918457,
          "count": 116,
          "label": "GSIGN"
         },
         {
          "X": 3.119617223739624,
          "Y": -0.13792037963867188,
          "count": 116,
          "label": "GSIGN"
         },
         {
          "X": 0.8493266105651855,
          "Y": 0.3709956705570221,
          "count": 116,
          "label": "GSIGN"
         },
         {
          "X": 0.08518155664205551,
          "Y": -0.5668357610702515,
          "count": 116,
          "label": "GSIGN"
         },
         {
          "X": 1.5444684028625488,
          "Y": -2.3124451637268066,
          "count": 116,
          "label": "GSIGN"
         },
         {
          "X": -0.7744936347007751,
          "Y": 0.43829581141471863,
          "count": 116,
          "label": "GSIGN"
         },
         {
          "X": -1.3457872867584229,
          "Y": 0.9522409439086914,
          "count": 116,
          "label": "GSIGN"
         },
         {
          "X": 0.8493266105651855,
          "Y": 0.3709956705570221,
          "count": 116,
          "label": "GSIGN"
         },
         {
          "X": 1.490423321723938,
          "Y": -0.8618544936180115,
          "count": 116,
          "label": "GSIGN"
         },
         {
          "X": 0.9383410811424255,
          "Y": -0.30791112780570984,
          "count": 116,
          "label": "GSIGN"
         },
         {
          "X": -0.038906216621398926,
          "Y": -1.3321967124938965,
          "count": 116,
          "label": "GSIGN"
         },
         {
          "X": 1.7958910465240479,
          "Y": -1.4791693687438965,
          "count": 116,
          "label": "GSIGN"
         },
         {
          "X": 0.7133759260177612,
          "Y": 1.2155088186264038,
          "count": 116,
          "label": "GSIGN"
         },
         {
          "X": 0.5004889369010925,
          "Y": -0.3752165734767914,
          "count": 116,
          "label": "GSIGN"
         },
         {
          "X": 0.5043330192565918,
          "Y": -0.36959728598594666,
          "count": 116,
          "label": "GSIGN"
         },
         {
          "X": 1.0381417274475098,
          "Y": 2.305878162384033,
          "count": 116,
          "label": "GSIGN"
         },
         {
          "X": -0.7520882487297058,
          "Y": -0.2695270776748657,
          "count": 116,
          "label": "GSIGN"
         },
         {
          "X": -1.433718204498291,
          "Y": -1.7712657451629639,
          "count": 116,
          "label": "GSIGN"
         },
         {
          "X": 0.7769594192504883,
          "Y": -0.937835156917572,
          "count": 116,
          "label": "GSIGN"
         },
         {
          "X": -1.3968206644058228,
          "Y": -0.7054904103279114,
          "count": 116,
          "label": "GSIGN"
         },
         {
          "X": 0.9383410811424255,
          "Y": -0.30791112780570984,
          "count": 116,
          "label": "GSIGN"
         },
         {
          "X": -1.3000863790512085,
          "Y": 1.9862135648727417,
          "count": 116,
          "label": "GSIGN"
         },
         {
          "X": 0.7809913158416748,
          "Y": -2.468172311782837,
          "count": 116,
          "label": "GSIGN"
         },
         {
          "X": 0.9383410811424255,
          "Y": -0.30791112780570984,
          "count": 116,
          "label": "GSIGN"
         },
         {
          "X": 0.12445073574781418,
          "Y": 0.05000607669353485,
          "count": 116,
          "label": "GSIGN"
         },
         {
          "X": -0.038906216621398926,
          "Y": -1.3321967124938965,
          "count": 116,
          "label": "GSIGN"
         },
         {
          "X": -0.535822331905365,
          "Y": -0.45780566334724426,
          "count": 116,
          "label": "GSIGN"
         },
         {
          "X": 1.0381417274475098,
          "Y": 2.305878162384033,
          "count": 116,
          "label": "GSIGN"
         },
         {
          "X": 0.12445073574781418,
          "Y": 0.05000607669353485,
          "count": 116,
          "label": "GSIGN"
         },
         {
          "X": -1.433718204498291,
          "Y": -1.7712657451629639,
          "count": 116,
          "label": "GSIGN"
         },
         {
          "X": -0.010860791429877281,
          "Y": 0.7860143780708313,
          "count": 116,
          "label": "GSIGN"
         },
         {
          "X": 0.19849514961242676,
          "Y": 2.5399622917175293,
          "count": 116,
          "label": "GSIGN"
         },
         {
          "X": -0.2342323362827301,
          "Y": -2.38041090965271,
          "count": 116,
          "label": "GSIGN"
         },
         {
          "X": 0.9383410811424255,
          "Y": -0.30791112780570984,
          "count": 116,
          "label": "GSIGN"
         },
         {
          "X": 0.7133759260177612,
          "Y": 1.2155088186264038,
          "count": 116,
          "label": "GSIGN"
         },
         {
          "X": -0.8002203106880188,
          "Y": -1.5430399179458618,
          "count": 116,
          "label": "GSIGN"
         },
         {
          "X": 0.12445073574781418,
          "Y": 0.05000607669353485,
          "count": 116,
          "label": "GSIGN"
         },
         {
          "X": 0.12445073574781418,
          "Y": 0.05000607669353485,
          "count": 116,
          "label": "GSIGN"
         },
         {
          "X": 1.227840542793274,
          "Y": 1.0427117347717285,
          "count": 116,
          "label": "GSIGN"
         },
         {
          "X": 2.923506736755371,
          "Y": -0.958000123500824,
          "count": 116,
          "label": "GSIGN"
         },
         {
          "X": -0.038906216621398926,
          "Y": -1.3321967124938965,
          "count": 116,
          "label": "GSIGN"
         },
         {
          "X": 0.6420198082923889,
          "Y": -1.793840765953064,
          "count": 116,
          "label": "GSIGN"
         },
         {
          "X": 0.7769594192504883,
          "Y": -0.937835156917572,
          "count": 116,
          "label": "GSIGN"
         },
         {
          "X": -0.010860791429877281,
          "Y": 0.7860143780708313,
          "count": 116,
          "label": "GSIGN"
         },
         {
          "X": 0.8493266105651855,
          "Y": 0.3709956705570221,
          "count": 116,
          "label": "GSIGN"
         },
         {
          "X": -0.010860791429877281,
          "Y": 0.7860143780708313,
          "count": 116,
          "label": "GSIGN"
         },
         {
          "X": 0.9383410811424255,
          "Y": -0.30791112780570984,
          "count": 116,
          "label": "GSIGN"
         },
         {
          "X": 0.12445073574781418,
          "Y": 0.05000607669353485,
          "count": 116,
          "label": "GSIGN"
         },
         {
          "X": 1.7958910465240479,
          "Y": -1.4791693687438965,
          "count": 116,
          "label": "GSIGN"
         },
         {
          "X": -1.0455948114395142,
          "Y": 0.62473464012146,
          "count": 116,
          "label": "GSIGN"
         },
         {
          "X": 0.12445073574781418,
          "Y": 0.05000607669353485,
          "count": 116,
          "label": "GSIGN"
         },
         {
          "X": -2.094820976257324,
          "Y": 0.9459067583084106,
          "count": 116,
          "label": "GSIGN"
         },
         {
          "X": -0.010860791429877281,
          "Y": 0.7860143780708313,
          "count": 116,
          "label": "GSIGN"
         },
         {
          "X": -0.8977599740028381,
          "Y": -2.1725804805755615,
          "count": 116,
          "label": "GSIGN"
         },
         {
          "X": -0.038906216621398926,
          "Y": -1.3321967124938965,
          "count": 116,
          "label": "GSIGN"
         },
         {
          "X": 2.189912796020508,
          "Y": -0.3414364457130432,
          "count": 116,
          "label": "GSIGN"
         },
         {
          "X": -0.038906216621398926,
          "Y": -1.3321967124938965,
          "count": 116,
          "label": "GSIGN"
         },
         {
          "X": 0.12445073574781418,
          "Y": 0.05000607669353485,
          "count": 116,
          "label": "GSIGN"
         },
         {
          "X": 1.9337143898010254,
          "Y": 0.7559248805046082,
          "count": 116,
          "label": "GSIGN"
         },
         {
          "X": -1.3455700874328613,
          "Y": 1.0156828165054321,
          "count": 116,
          "label": "GSIGN"
         },
         {
          "X": -1.433718204498291,
          "Y": -1.7712657451629639,
          "count": 116,
          "label": "GSIGN"
         },
         {
          "X": 0.8493266105651855,
          "Y": 0.3709956705570221,
          "count": 116,
          "label": "GSIGN"
         },
         {
          "X": -1.3374443054199219,
          "Y": 0.9789514541625977,
          "count": 116,
          "label": "GSIGN"
         },
         {
          "X": -1.3968206644058228,
          "Y": -0.7054904103279114,
          "count": 116,
          "label": "GSIGN"
         },
         {
          "X": 0.7769594192504883,
          "Y": -0.937835156917572,
          "count": 69,
          "label": "FALLOIR"
         },
         {
          "X": 0.7133759260177612,
          "Y": 1.2155088186264038,
          "count": 69,
          "label": "FALLOIR"
         },
         {
          "X": 0.006693319883197546,
          "Y": -0.5674325227737427,
          "count": 69,
          "label": "FALLOIR"
         },
         {
          "X": 2.189912796020508,
          "Y": -0.3414364457130432,
          "count": 69,
          "label": "FALLOIR"
         },
         {
          "X": 0.9383410811424255,
          "Y": -0.30791112780570984,
          "count": 69,
          "label": "FALLOIR"
         },
         {
          "X": 2.5816004276275635,
          "Y": -1.5323636531829834,
          "count": 69,
          "label": "FALLOIR"
         },
         {
          "X": 1.9539906978607178,
          "Y": 2.177903652191162,
          "count": 69,
          "label": "FALLOIR"
         },
         {
          "X": 2.189912796020508,
          "Y": -0.3414364457130432,
          "count": 69,
          "label": "FALLOIR"
         },
         {
          "X": 0.12445073574781418,
          "Y": 0.05000607669353485,
          "count": 69,
          "label": "FALLOIR"
         },
         {
          "X": 0.7769594192504883,
          "Y": -0.937835156917572,
          "count": 69,
          "label": "FALLOIR"
         },
         {
          "X": 1.5617005825042725,
          "Y": 0.3695625364780426,
          "count": 69,
          "label": "FALLOIR"
         },
         {
          "X": -1.4802589416503906,
          "Y": -0.13927695155143738,
          "count": 69,
          "label": "FALLOIR"
         },
         {
          "X": 0.5004889369010925,
          "Y": -0.3752165734767914,
          "count": 69,
          "label": "FALLOIR"
         },
         {
          "X": 0.7133759260177612,
          "Y": 1.2155088186264038,
          "count": 69,
          "label": "FALLOIR"
         },
         {
          "X": -2.1325340270996094,
          "Y": -0.914607584476471,
          "count": 69,
          "label": "FALLOIR"
         },
         {
          "X": -0.5316834449768066,
          "Y": -0.3826110363006592,
          "count": 69,
          "label": "FALLOIR"
         },
         {
          "X": -0.010860791429877281,
          "Y": 0.7860143780708313,
          "count": 69,
          "label": "FALLOIR"
         },
         {
          "X": 2.356484889984131,
          "Y": 1.6304043531417847,
          "count": 69,
          "label": "FALLOIR"
         },
         {
          "X": 0.5021993517875671,
          "Y": -0.3690900206565857,
          "count": 69,
          "label": "FALLOIR"
         },
         {
          "X": 0.5021163821220398,
          "Y": -0.36915501952171326,
          "count": 69,
          "label": "FALLOIR"
         },
         {
          "X": 0.054940976202487946,
          "Y": 1.9244228601455688,
          "count": 69,
          "label": "FALLOIR"
         },
         {
          "X": 1.7958910465240479,
          "Y": -1.4791693687438965,
          "count": 69,
          "label": "FALLOIR"
         },
         {
          "X": -0.010860791429877281,
          "Y": 0.7860143780708313,
          "count": 69,
          "label": "FALLOIR"
         },
         {
          "X": -2.1472415924072266,
          "Y": -0.8699626922607422,
          "count": 69,
          "label": "FALLOIR"
         },
         {
          "X": 2.8062100410461426,
          "Y": 0.41145914793014526,
          "count": 69,
          "label": "FALLOIR"
         },
         {
          "X": 2.189912796020508,
          "Y": -0.3414364457130432,
          "count": 69,
          "label": "FALLOIR"
         },
         {
          "X": -0.2342323362827301,
          "Y": -2.38041090965271,
          "count": 69,
          "label": "FALLOIR"
         },
         {
          "X": 1.0381417274475098,
          "Y": 2.305878162384033,
          "count": 69,
          "label": "FALLOIR"
         },
         {
          "X": 2.189912796020508,
          "Y": -0.3414364457130432,
          "count": 69,
          "label": "FALLOIR"
         },
         {
          "X": 1.7958910465240479,
          "Y": -1.4791693687438965,
          "count": 69,
          "label": "FALLOIR"
         },
         {
          "X": 0.9383410811424255,
          "Y": -0.30791112780570984,
          "count": 69,
          "label": "FALLOIR"
         },
         {
          "X": 1.0381417274475098,
          "Y": 2.305878162384033,
          "count": 69,
          "label": "FALLOIR"
         },
         {
          "X": -0.5316834449768066,
          "Y": -0.3826110363006592,
          "count": 69,
          "label": "FALLOIR"
         },
         {
          "X": 0.12445073574781418,
          "Y": 0.05000607669353485,
          "count": 69,
          "label": "FALLOIR"
         },
         {
          "X": -0.5316834449768066,
          "Y": -0.3826110363006592,
          "count": 69,
          "label": "FALLOIR"
         },
         {
          "X": 1.227840542793274,
          "Y": 1.0427117347717285,
          "count": 69,
          "label": "FALLOIR"
         },
         {
          "X": -1.4802589416503906,
          "Y": -0.13927695155143738,
          "count": 69,
          "label": "FALLOIR"
         },
         {
          "X": -0.010860791429877281,
          "Y": 0.7860143780708313,
          "count": 69,
          "label": "FALLOIR"
         },
         {
          "X": 2.356484889984131,
          "Y": 1.6304043531417847,
          "count": 69,
          "label": "FALLOIR"
         },
         {
          "X": -0.573866069316864,
          "Y": 0.29519519209861755,
          "count": 69,
          "label": "FALLOIR"
         },
         {
          "X": -0.7744936347007751,
          "Y": 0.43829581141471863,
          "count": 69,
          "label": "FALLOIR"
         },
         {
          "X": 0.12445073574781418,
          "Y": 0.05000607669353485,
          "count": 69,
          "label": "FALLOIR"
         },
         {
          "X": -0.2342323362827301,
          "Y": -2.38041090965271,
          "count": 69,
          "label": "FALLOIR"
         },
         {
          "X": 2.189912796020508,
          "Y": -0.3414364457130432,
          "count": 69,
          "label": "FALLOIR"
         },
         {
          "X": -1.0455948114395142,
          "Y": 0.62473464012146,
          "count": 69,
          "label": "FALLOIR"
         },
         {
          "X": 1.562938928604126,
          "Y": -0.99180668592453,
          "count": 69,
          "label": "FALLOIR"
         },
         {
          "X": 1.9539906978607178,
          "Y": 2.177903652191162,
          "count": 69,
          "label": "FALLOIR"
         },
         {
          "X": 1.3840988874435425,
          "Y": -0.24738861620426178,
          "count": 69,
          "label": "FALLOIR"
         },
         {
          "X": 1.0381417274475098,
          "Y": 2.305878162384033,
          "count": 69,
          "label": "FALLOIR"
         },
         {
          "X": -0.7458605766296387,
          "Y": 2.3939642906188965,
          "count": 69,
          "label": "FALLOIR"
         },
         {
          "X": 1.228036642074585,
          "Y": 1.042841911315918,
          "count": 69,
          "label": "FALLOIR"
         },
         {
          "X": 1.490423321723938,
          "Y": -0.8618544936180115,
          "count": 69,
          "label": "FALLOIR"
         },
         {
          "X": 2.189912796020508,
          "Y": -0.3414364457130432,
          "count": 69,
          "label": "FALLOIR"
         },
         {
          "X": 0.8493266105651855,
          "Y": 0.3709956705570221,
          "count": 69,
          "label": "FALLOIR"
         },
         {
          "X": 0.311575323343277,
          "Y": -2.505739450454712,
          "count": 69,
          "label": "FALLOIR"
         },
         {
          "X": -2.094820976257324,
          "Y": 0.9459067583084106,
          "count": 69,
          "label": "FALLOIR"
         },
         {
          "X": 0.12445073574781418,
          "Y": 0.05000607669353485,
          "count": 69,
          "label": "FALLOIR"
         },
         {
          "X": 0.8493266105651855,
          "Y": 0.3709956705570221,
          "count": 69,
          "label": "FALLOIR"
         },
         {
          "X": 0.12445073574781418,
          "Y": 0.05000607669353485,
          "count": 69,
          "label": "FALLOIR"
         },
         {
          "X": 0.10488466173410416,
          "Y": -0.5608643889427185,
          "count": 69,
          "label": "FALLOIR"
         },
         {
          "X": -0.5734463334083557,
          "Y": 1.4404056072235107,
          "count": 69,
          "label": "FALLOIR"
         },
         {
          "X": -0.010860791429877281,
          "Y": 0.7860143780708313,
          "count": 69,
          "label": "FALLOIR"
         },
         {
          "X": 1.7958910465240479,
          "Y": -1.4791693687438965,
          "count": 69,
          "label": "FALLOIR"
         },
         {
          "X": 2.8399338722229004,
          "Y": 0.9212411046028137,
          "count": 69,
          "label": "FALLOIR"
         },
         {
          "X": 1.490423321723938,
          "Y": -0.8618544936180115,
          "count": 69,
          "label": "FALLOIR"
         },
         {
          "X": -0.7520882487297058,
          "Y": -0.2695270776748657,
          "count": 69,
          "label": "FALLOIR"
         },
         {
          "X": 0.8493266105651855,
          "Y": 0.3709956705570221,
          "count": 69,
          "label": "FALLOIR"
         },
         {
          "X": 0.3275226056575775,
          "Y": 1.327501893043518,
          "count": 69,
          "label": "FALLOIR"
         },
         {
          "X": 1.5617005825042725,
          "Y": 0.3695625364780426,
          "count": 69,
          "label": "FALLOIR"
         },
         {
          "X": -0.038906216621398926,
          "Y": -1.3321967124938965,
          "count": 75,
          "label": "AVOIR "
         },
         {
          "X": -2.168604612350464,
          "Y": -0.8256732225418091,
          "count": 75,
          "label": "AVOIR "
         },
         {
          "X": 0.19849514961242676,
          "Y": 2.5399622917175293,
          "count": 75,
          "label": "AVOIR "
         },
         {
          "X": 0.311575323343277,
          "Y": -2.505739450454712,
          "count": 75,
          "label": "AVOIR "
         },
         {
          "X": -0.7744936347007751,
          "Y": 0.43829581141471863,
          "count": 75,
          "label": "AVOIR "
         },
         {
          "X": -0.038906216621398926,
          "Y": -1.3321967124938965,
          "count": 75,
          "label": "AVOIR "
         },
         {
          "X": -0.010860791429877281,
          "Y": 0.7860143780708313,
          "count": 75,
          "label": "AVOIR "
         },
         {
          "X": 0.8493266105651855,
          "Y": 0.3709956705570221,
          "count": 75,
          "label": "AVOIR "
         },
         {
          "X": 0.12445073574781418,
          "Y": 0.05000607669353485,
          "count": 75,
          "label": "AVOIR "
         },
         {
          "X": -0.7520882487297058,
          "Y": -0.2695270776748657,
          "count": 75,
          "label": "AVOIR "
         },
         {
          "X": 0.08518155664205551,
          "Y": -0.5668357610702515,
          "count": 75,
          "label": "AVOIR "
         },
         {
          "X": -0.6066305637359619,
          "Y": 0.047458481043577194,
          "count": 75,
          "label": "AVOIR "
         },
         {
          "X": 0.2876945436000824,
          "Y": 1.8856663703918457,
          "count": 75,
          "label": "AVOIR "
         },
         {
          "X": 0.9383410811424255,
          "Y": -0.30791112780570984,
          "count": 75,
          "label": "AVOIR "
         },
         {
          "X": 0.7133759260177612,
          "Y": 1.2155088186264038,
          "count": 75,
          "label": "AVOIR "
         },
         {
          "X": 1.3840988874435425,
          "Y": -0.24738861620426178,
          "count": 75,
          "label": "AVOIR "
         },
         {
          "X": 0.8493266105651855,
          "Y": 0.3709956705570221,
          "count": 75,
          "label": "AVOIR "
         },
         {
          "X": 1.0381417274475098,
          "Y": 2.305878162384033,
          "count": 75,
          "label": "AVOIR "
         },
         {
          "X": 0.8493266105651855,
          "Y": 0.3709956705570221,
          "count": 75,
          "label": "AVOIR "
         },
         {
          "X": 2.5976979732513428,
          "Y": 1.3837021589279175,
          "count": 75,
          "label": "AVOIR "
         },
         {
          "X": 2.8062100410461426,
          "Y": 0.41145914793014526,
          "count": 75,
          "label": "AVOIR "
         },
         {
          "X": -0.010860791429877281,
          "Y": 0.7860143780708313,
          "count": 75,
          "label": "AVOIR "
         },
         {
          "X": 1.7958910465240479,
          "Y": -1.4791693687438965,
          "count": 75,
          "label": "AVOIR "
         },
         {
          "X": 0.5037851333618164,
          "Y": -0.36826446652412415,
          "count": 75,
          "label": "AVOIR "
         },
         {
          "X": 0.7769594192504883,
          "Y": -0.937835156917572,
          "count": 75,
          "label": "AVOIR "
         },
         {
          "X": 2.8399338722229004,
          "Y": 0.9212411046028137,
          "count": 75,
          "label": "AVOIR "
         },
         {
          "X": 3.119617223739624,
          "Y": -0.13792037963867188,
          "count": 75,
          "label": "AVOIR "
         },
         {
          "X": -0.038906216621398926,
          "Y": -1.3321967124938965,
          "count": 75,
          "label": "AVOIR "
         },
         {
          "X": 1.9337143898010254,
          "Y": 0.7559248805046082,
          "count": 75,
          "label": "AVOIR "
         },
         {
          "X": -0.7744936347007751,
          "Y": 0.43829581141471863,
          "count": 75,
          "label": "AVOIR "
         },
         {
          "X": -0.5734463334083557,
          "Y": 1.4404056072235107,
          "count": 75,
          "label": "AVOIR "
         },
         {
          "X": -0.010860791429877281,
          "Y": 0.7860143780708313,
          "count": 75,
          "label": "AVOIR "
         },
         {
          "X": 1.4603018760681152,
          "Y": 1.5007543563842773,
          "count": 75,
          "label": "AVOIR "
         },
         {
          "X": 0.9383410811424255,
          "Y": -0.30791112780570984,
          "count": 75,
          "label": "AVOIR "
         },
         {
          "X": 1.1252766847610474,
          "Y": -1.8188939094543457,
          "count": 75,
          "label": "AVOIR "
         },
         {
          "X": 0.8493266105651855,
          "Y": 0.3709956705570221,
          "count": 75,
          "label": "AVOIR "
         },
         {
          "X": 0.3065185546875,
          "Y": -2.5074639320373535,
          "count": 75,
          "label": "AVOIR "
         },
         {
          "X": 0.030435696244239807,
          "Y": 1.9478543996810913,
          "count": 75,
          "label": "AVOIR "
         },
         {
          "X": 0.12445073574781418,
          "Y": 0.05000607669353485,
          "count": 75,
          "label": "AVOIR "
         },
         {
          "X": 1.5576236248016357,
          "Y": 0.37839797139167786,
          "count": 75,
          "label": "AVOIR "
         },
         {
          "X": 0.9383410811424255,
          "Y": -0.30791112780570984,
          "count": 75,
          "label": "AVOIR "
         },
         {
          "X": -2.2484381198883057,
          "Y": -0.08005529642105103,
          "count": 75,
          "label": "AVOIR "
         },
         {
          "X": 0.7769594192504883,
          "Y": -0.937835156917572,
          "count": 75,
          "label": "AVOIR "
         },
         {
          "X": 1.7958910465240479,
          "Y": -1.4791693687438965,
          "count": 75,
          "label": "AVOIR "
         },
         {
          "X": -0.5734463334083557,
          "Y": 1.4404056072235107,
          "count": 75,
          "label": "AVOIR "
         },
         {
          "X": 1.7958910465240479,
          "Y": -1.4791693687438965,
          "count": 75,
          "label": "AVOIR "
         },
         {
          "X": 1.9337143898010254,
          "Y": 0.7559248805046082,
          "count": 75,
          "label": "AVOIR "
         },
         {
          "X": 0.8493266105651855,
          "Y": 0.3709956705570221,
          "count": 75,
          "label": "AVOIR "
         },
         {
          "X": 0.8493266105651855,
          "Y": 0.3709956705570221,
          "count": 75,
          "label": "AVOIR "
         },
         {
          "X": -0.038906216621398926,
          "Y": -1.3321967124938965,
          "count": 75,
          "label": "AVOIR "
         },
         {
          "X": -0.535822331905365,
          "Y": -0.45780566334724426,
          "count": 75,
          "label": "AVOIR "
         },
         {
          "X": -0.010860791429877281,
          "Y": 0.7860143780708313,
          "count": 75,
          "label": "AVOIR "
         },
         {
          "X": 0.9383410811424255,
          "Y": -0.30791112780570984,
          "count": 75,
          "label": "AVOIR "
         },
         {
          "X": -0.038906216621398926,
          "Y": -1.3321967124938965,
          "count": 75,
          "label": "AVOIR "
         },
         {
          "X": 1.5576236248016357,
          "Y": 0.37839797139167786,
          "count": 75,
          "label": "AVOIR "
         },
         {
          "X": 1.7958910465240479,
          "Y": -1.4791693687438965,
          "count": 75,
          "label": "AVOIR "
         },
         {
          "X": -0.7458605766296387,
          "Y": 2.3939642906188965,
          "count": 75,
          "label": "AVOIR "
         },
         {
          "X": -2.094820976257324,
          "Y": 0.9459067583084106,
          "count": 75,
          "label": "AVOIR "
         },
         {
          "X": -1.0123517513275146,
          "Y": -0.5774029493331909,
          "count": 75,
          "label": "AVOIR "
         },
         {
          "X": 0.12445073574781418,
          "Y": 0.05000607669353485,
          "count": 75,
          "label": "AVOIR "
         },
         {
          "X": 0.12445073574781418,
          "Y": 0.05000607669353485,
          "count": 75,
          "label": "AVOIR "
         },
         {
          "X": -1.986215591430664,
          "Y": -1.3099150657653809,
          "count": 75,
          "label": "AVOIR "
         },
         {
          "X": 1.1252766847610474,
          "Y": -1.8188939094543457,
          "count": 75,
          "label": "AVOIR "
         },
         {
          "X": -1.3968206644058228,
          "Y": -0.7054904103279114,
          "count": 75,
          "label": "AVOIR "
         },
         {
          "X": 0.7769594192504883,
          "Y": -0.937835156917572,
          "count": 75,
          "label": "AVOIR "
         },
         {
          "X": -0.038906216621398926,
          "Y": -1.3321967124938965,
          "count": 75,
          "label": "AVOIR "
         },
         {
          "X": 1.4603018760681152,
          "Y": 1.5007543563842773,
          "count": 75,
          "label": "AVOIR "
         },
         {
          "X": 1.3840988874435425,
          "Y": -0.24738861620426178,
          "count": 75,
          "label": "AVOIR "
         },
         {
          "X": -0.5734463334083557,
          "Y": 1.4404056072235107,
          "count": 75,
          "label": "AVOIR "
         },
         {
          "X": -1.0455948114395142,
          "Y": 0.62473464012146,
          "count": 75,
          "label": "AVOIR "
         },
         {
          "X": 0.8493266105651855,
          "Y": 0.3709956705570221,
          "count": 75,
          "label": "AVOIR "
         },
         {
          "X": 1.9337143898010254,
          "Y": 0.7559248805046082,
          "count": 75,
          "label": "AVOIR "
         },
         {
          "X": -0.7744936347007751,
          "Y": 0.43829581141471863,
          "count": 75,
          "label": "AVOIR "
         },
         {
          "X": 0.054940976202487946,
          "Y": 1.9244228601455688,
          "count": 75,
          "label": "AVOIR "
         },
         {
          "X": 0.8493266105651855,
          "Y": 0.3709956705570221,
          "count": 75,
          "label": "AVOIR "
         },
         {
          "X": 1.1252766847610474,
          "Y": -1.8188939094543457,
          "count": 69,
          "label": "C-EST"
         },
         {
          "X": 0.5004889369010925,
          "Y": -0.3752165734767914,
          "count": 69,
          "label": "C-EST"
         },
         {
          "X": 2.8399338722229004,
          "Y": 0.9212411046028137,
          "count": 69,
          "label": "C-EST"
         },
         {
          "X": 2.189912796020508,
          "Y": -0.3414364457130432,
          "count": 69,
          "label": "C-EST"
         },
         {
          "X": -0.010860791429877281,
          "Y": 0.7860143780708313,
          "count": 69,
          "label": "C-EST"
         },
         {
          "X": 2.189912796020508,
          "Y": -0.3414364457130432,
          "count": 69,
          "label": "C-EST"
         },
         {
          "X": 0.8493266105651855,
          "Y": 0.3709956705570221,
          "count": 69,
          "label": "C-EST"
         },
         {
          "X": -1.3968206644058228,
          "Y": -0.7054904103279114,
          "count": 69,
          "label": "C-EST"
         },
         {
          "X": -0.5734463334083557,
          "Y": 1.4404056072235107,
          "count": 69,
          "label": "C-EST"
         },
         {
          "X": 2.8399338722229004,
          "Y": 0.9212411046028137,
          "count": 69,
          "label": "C-EST"
         },
         {
          "X": 0.006693319883197546,
          "Y": -0.5674325227737427,
          "count": 69,
          "label": "C-EST"
         },
         {
          "X": -0.7520882487297058,
          "Y": -0.2695270776748657,
          "count": 69,
          "label": "C-EST"
         },
         {
          "X": -0.010860791429877281,
          "Y": 0.7860143780708313,
          "count": 69,
          "label": "C-EST"
         },
         {
          "X": 2.8062100410461426,
          "Y": 0.41145914793014526,
          "count": 69,
          "label": "C-EST"
         },
         {
          "X": 0.8493266105651855,
          "Y": 0.3709956705570221,
          "count": 69,
          "label": "C-EST"
         },
         {
          "X": 0.9383410811424255,
          "Y": -0.30791112780570984,
          "count": 69,
          "label": "C-EST"
         },
         {
          "X": 0.8493266105651855,
          "Y": 0.3709956705570221,
          "count": 69,
          "label": "C-EST"
         },
         {
          "X": 1.490423321723938,
          "Y": -0.8618544936180115,
          "count": 69,
          "label": "C-EST"
         },
         {
          "X": -0.5727768540382385,
          "Y": 0.19141483306884766,
          "count": 69,
          "label": "C-EST"
         },
         {
          "X": -0.2342323362827301,
          "Y": -2.38041090965271,
          "count": 69,
          "label": "C-EST"
         },
         {
          "X": 3.123568058013916,
          "Y": -0.21168310940265656,
          "count": 69,
          "label": "C-EST"
         },
         {
          "X": -0.2342323362827301,
          "Y": -2.38041090965271,
          "count": 69,
          "label": "C-EST"
         },
         {
          "X": 0.12445073574781418,
          "Y": 0.05000607669353485,
          "count": 69,
          "label": "C-EST"
         },
         {
          "X": -0.8977599740028381,
          "Y": -2.1725804805755615,
          "count": 69,
          "label": "C-EST"
         },
         {
          "X": -0.010860791429877281,
          "Y": 0.7860143780708313,
          "count": 69,
          "label": "C-EST"
         },
         {
          "X": 0.8493266105651855,
          "Y": 0.3709956705570221,
          "count": 69,
          "label": "C-EST"
         },
         {
          "X": 1.1252766847610474,
          "Y": -1.8188939094543457,
          "count": 69,
          "label": "C-EST"
         },
         {
          "X": 1.9337143898010254,
          "Y": 0.7559248805046082,
          "count": 69,
          "label": "C-EST"
         },
         {
          "X": -1.3455700874328613,
          "Y": 1.0156828165054321,
          "count": 69,
          "label": "C-EST"
         },
         {
          "X": -0.010860791429877281,
          "Y": 0.7860143780708313,
          "count": 69,
          "label": "C-EST"
         },
         {
          "X": -0.038906216621398926,
          "Y": -1.3321967124938965,
          "count": 69,
          "label": "C-EST"
         },
         {
          "X": 0.8493266105651855,
          "Y": 0.3709956705570221,
          "count": 69,
          "label": "C-EST"
         },
         {
          "X": -0.20227792859077454,
          "Y": 2.6058075428009033,
          "count": 69,
          "label": "C-EST"
         },
         {
          "X": -0.038906216621398926,
          "Y": -1.3321967124938965,
          "count": 69,
          "label": "C-EST"
         },
         {
          "X": 0.7809913158416748,
          "Y": -2.468172311782837,
          "count": 69,
          "label": "C-EST"
         },
         {
          "X": 2.189912796020508,
          "Y": -0.3414364457130432,
          "count": 69,
          "label": "C-EST"
         },
         {
          "X": 1.9539906978607178,
          "Y": 2.177903652191162,
          "count": 69,
          "label": "C-EST"
         },
         {
          "X": 0.12445073574781418,
          "Y": 0.05000607669353485,
          "count": 69,
          "label": "C-EST"
         },
         {
          "X": 0.8493266105651855,
          "Y": 0.3709956705570221,
          "count": 69,
          "label": "C-EST"
         },
         {
          "X": 1.5444684028625488,
          "Y": -2.3124451637268066,
          "count": 69,
          "label": "C-EST"
         },
         {
          "X": -0.5734463334083557,
          "Y": 1.4404056072235107,
          "count": 69,
          "label": "C-EST"
         },
         {
          "X": -0.5263254046440125,
          "Y": -0.5030304193496704,
          "count": 69,
          "label": "C-EST"
         },
         {
          "X": 0.8493266105651855,
          "Y": 0.3709956705570221,
          "count": 69,
          "label": "C-EST"
         },
         {
          "X": -0.010860791429877281,
          "Y": 0.7860143780708313,
          "count": 69,
          "label": "C-EST"
         },
         {
          "X": 0.006693319883197546,
          "Y": -0.5674325227737427,
          "count": 69,
          "label": "C-EST"
         },
         {
          "X": -0.010860791429877281,
          "Y": 0.7860143780708313,
          "count": 69,
          "label": "C-EST"
         },
         {
          "X": 2.923506736755371,
          "Y": -0.958000123500824,
          "count": 69,
          "label": "C-EST"
         },
         {
          "X": 0.12445073574781418,
          "Y": 0.05000607669353485,
          "count": 69,
          "label": "C-EST"
         },
         {
          "X": -2.2484381198883057,
          "Y": -0.08005529642105103,
          "count": 69,
          "label": "C-EST"
         },
         {
          "X": 1.4603018760681152,
          "Y": 1.5007543563842773,
          "count": 69,
          "label": "C-EST"
         },
         {
          "X": 0.5037851333618164,
          "Y": -0.36826446652412415,
          "count": 69,
          "label": "C-EST"
         },
         {
          "X": -0.2342323362827301,
          "Y": -2.38041090965271,
          "count": 69,
          "label": "C-EST"
         },
         {
          "X": 0.7769594192504883,
          "Y": -0.937835156917572,
          "count": 69,
          "label": "C-EST"
         },
         {
          "X": 0.7133759260177612,
          "Y": 1.2155088186264038,
          "count": 69,
          "label": "C-EST"
         },
         {
          "X": -0.038906216621398926,
          "Y": -1.3321967124938965,
          "count": 69,
          "label": "C-EST"
         },
         {
          "X": 2.189912796020508,
          "Y": -0.3414364457130432,
          "count": 69,
          "label": "C-EST"
         },
         {
          "X": 1.3840988874435425,
          "Y": -0.24738861620426178,
          "count": 69,
          "label": "C-EST"
         },
         {
          "X": 1.9337143898010254,
          "Y": 0.7559248805046082,
          "count": 69,
          "label": "C-EST"
         },
         {
          "X": 1.0381417274475098,
          "Y": 2.305878162384033,
          "count": 69,
          "label": "C-EST"
         },
         {
          "X": 0.8493266105651855,
          "Y": 0.3709956705570221,
          "count": 69,
          "label": "C-EST"
         },
         {
          "X": -0.038906216621398926,
          "Y": -1.3321967124938965,
          "count": 69,
          "label": "C-EST"
         },
         {
          "X": 0.5059118270874023,
          "Y": -0.36350134015083313,
          "count": 69,
          "label": "C-EST"
         },
         {
          "X": -0.5734463334083557,
          "Y": 1.4404056072235107,
          "count": 69,
          "label": "C-EST"
         },
         {
          "X": 0.7561317086219788,
          "Y": -1.770358681678772,
          "count": 69,
          "label": "C-EST"
         },
         {
          "X": -0.7890880703926086,
          "Y": -1.0077091455459595,
          "count": 69,
          "label": "C-EST"
         },
         {
          "X": 0.12445073574781418,
          "Y": 0.05000607669353485,
          "count": 69,
          "label": "C-EST"
         },
         {
          "X": 2.8399338722229004,
          "Y": 0.9212411046028137,
          "count": 69,
          "label": "C-EST"
         },
         {
          "X": -0.010860791429877281,
          "Y": 0.7860143780708313,
          "count": 69,
          "label": "C-EST"
         },
         {
          "X": -0.6066305637359619,
          "Y": 0.047458481043577194,
          "count": 69,
          "label": "C-EST"
         },
         {
          "X": 1.9539906978607178,
          "Y": 2.177903652191162,
          "count": 72,
          "label": "SOURD"
         },
         {
          "X": -0.7520882487297058,
          "Y": -0.2695270776748657,
          "count": 72,
          "label": "SOURD"
         },
         {
          "X": 1.5617005825042725,
          "Y": 0.3695625364780426,
          "count": 72,
          "label": "SOURD"
         },
         {
          "X": -0.8977599740028381,
          "Y": -2.1725804805755615,
          "count": 72,
          "label": "SOURD"
         },
         {
          "X": 0.12445073574781418,
          "Y": 0.05000607669353485,
          "count": 72,
          "label": "SOURD"
         },
         {
          "X": -0.7827644348144531,
          "Y": -1.1214321851730347,
          "count": 72,
          "label": "SOURD"
         },
         {
          "X": -0.010860791429877281,
          "Y": 0.7860143780708313,
          "count": 72,
          "label": "SOURD"
         },
         {
          "X": -0.5727768540382385,
          "Y": 0.19141483306884766,
          "count": 72,
          "label": "SOURD"
         },
         {
          "X": 0.7133759260177612,
          "Y": 1.2155088186264038,
          "count": 72,
          "label": "SOURD"
         },
         {
          "X": 3.1168785095214844,
          "Y": -0.411366730928421,
          "count": 72,
          "label": "SOURD"
         },
         {
          "X": 1.5444684028625488,
          "Y": -2.3124451637268066,
          "count": 72,
          "label": "SOURD"
         },
         {
          "X": -2.094820976257324,
          "Y": 0.9459067583084106,
          "count": 72,
          "label": "SOURD"
         },
         {
          "X": 0.08518155664205551,
          "Y": -0.5668357610702515,
          "count": 72,
          "label": "SOURD"
         },
         {
          "X": 0.9383410811424255,
          "Y": -0.30791112780570984,
          "count": 72,
          "label": "SOURD"
         },
         {
          "X": -0.7744936347007751,
          "Y": 0.43829581141471863,
          "count": 72,
          "label": "SOURD"
         },
         {
          "X": -1.4802589416503906,
          "Y": -0.13927695155143738,
          "count": 72,
          "label": "SOURD"
         },
         {
          "X": 0.12445073574781418,
          "Y": 0.05000607669353485,
          "count": 72,
          "label": "SOURD"
         },
         {
          "X": -0.038906216621398926,
          "Y": -1.3321967124938965,
          "count": 72,
          "label": "SOURD"
         },
         {
          "X": 2.189912796020508,
          "Y": -0.3414364457130432,
          "count": 72,
          "label": "SOURD"
         },
         {
          "X": 2.2986629009246826,
          "Y": -2.04585337638855,
          "count": 72,
          "label": "SOURD"
         },
         {
          "X": 0.3275226056575775,
          "Y": 1.327501893043518,
          "count": 72,
          "label": "SOURD"
         },
         {
          "X": 0.7133759260177612,
          "Y": 1.2155088186264038,
          "count": 72,
          "label": "SOURD"
         },
         {
          "X": -1.4802589416503906,
          "Y": -0.13927695155143738,
          "count": 72,
          "label": "SOURD"
         },
         {
          "X": 0.12445073574781418,
          "Y": 0.05000607669353485,
          "count": 72,
          "label": "SOURD"
         },
         {
          "X": 0.12445073574781418,
          "Y": 0.05000607669353485,
          "count": 72,
          "label": "SOURD"
         },
         {
          "X": 1.7958910465240479,
          "Y": -1.4791693687438965,
          "count": 72,
          "label": "SOURD"
         },
         {
          "X": 1.7958910465240479,
          "Y": -1.4791693687438965,
          "count": 72,
          "label": "SOURD"
         },
         {
          "X": 0.9383410811424255,
          "Y": -0.30791112780570984,
          "count": 72,
          "label": "SOURD"
         },
         {
          "X": -0.7890880703926086,
          "Y": -1.0077091455459595,
          "count": 72,
          "label": "SOURD"
         },
         {
          "X": -1.0455948114395142,
          "Y": 0.62473464012146,
          "count": 72,
          "label": "SOURD"
         },
         {
          "X": 1.4874746799468994,
          "Y": -1.1944838762283325,
          "count": 72,
          "label": "SOURD"
         },
         {
          "X": 0.030435696244239807,
          "Y": 1.9478543996810913,
          "count": 72,
          "label": "SOURD"
         },
         {
          "X": 0.7809913158416748,
          "Y": -2.468172311782837,
          "count": 72,
          "label": "SOURD"
         },
         {
          "X": 1.9337143898010254,
          "Y": 0.7559248805046082,
          "count": 72,
          "label": "SOURD"
         },
         {
          "X": -1.4802589416503906,
          "Y": -0.13927695155143738,
          "count": 72,
          "label": "SOURD"
         },
         {
          "X": 0.7133759260177612,
          "Y": 1.2155088186264038,
          "count": 72,
          "label": "SOURD"
         },
         {
          "X": 2.7740659713745117,
          "Y": 0.4257631003856659,
          "count": 72,
          "label": "SOURD"
         },
         {
          "X": -0.2342323362827301,
          "Y": -2.38041090965271,
          "count": 72,
          "label": "SOURD"
         },
         {
          "X": 1.4603018760681152,
          "Y": 1.5007543563842773,
          "count": 72,
          "label": "SOURD"
         },
         {
          "X": 0.2876945436000824,
          "Y": 1.8856663703918457,
          "count": 72,
          "label": "SOURD"
         },
         {
          "X": -0.20227792859077454,
          "Y": 2.6058075428009033,
          "count": 72,
          "label": "SOURD"
         },
         {
          "X": 0.7133759260177612,
          "Y": 1.2155088186264038,
          "count": 72,
          "label": "SOURD"
         },
         {
          "X": 1.9337143898010254,
          "Y": 0.7559248805046082,
          "count": 72,
          "label": "SOURD"
         },
         {
          "X": 0.7331911325454712,
          "Y": -1.7729463577270508,
          "count": 72,
          "label": "SOURD"
         },
         {
          "X": -0.038906216621398926,
          "Y": -1.3321967124938965,
          "count": 72,
          "label": "SOURD"
         },
         {
          "X": -1.3455700874328613,
          "Y": 1.0156828165054321,
          "count": 72,
          "label": "SOURD"
         },
         {
          "X": 2.6804513931274414,
          "Y": -1.1999847888946533,
          "count": 72,
          "label": "SOURD"
         },
         {
          "X": -1.433718204498291,
          "Y": -1.7712657451629639,
          "count": 72,
          "label": "SOURD"
         },
         {
          "X": -0.038906216621398926,
          "Y": -1.3321967124938965,
          "count": 72,
          "label": "SOURD"
         },
         {
          "X": 0.8493266105651855,
          "Y": 0.3709956705570221,
          "count": 72,
          "label": "SOURD"
         },
         {
          "X": 1.3840988874435425,
          "Y": -0.24738861620426178,
          "count": 72,
          "label": "SOURD"
         },
         {
          "X": -2.168177843093872,
          "Y": -0.8271084427833557,
          "count": 72,
          "label": "SOURD"
         },
         {
          "X": -0.7744936347007751,
          "Y": 0.43829581141471863,
          "count": 72,
          "label": "SOURD"
         },
         {
          "X": -0.5734463334083557,
          "Y": 1.4404056072235107,
          "count": 72,
          "label": "SOURD"
         },
         {
          "X": 0.12445073574781418,
          "Y": 0.05000607669353485,
          "count": 72,
          "label": "SOURD"
         },
         {
          "X": -0.038906216621398926,
          "Y": -1.3321967124938965,
          "count": 72,
          "label": "SOURD"
         },
         {
          "X": 1.5576236248016357,
          "Y": 0.37839797139167786,
          "count": 72,
          "label": "SOURD"
         },
         {
          "X": 0.7769594192504883,
          "Y": -0.937835156917572,
          "count": 72,
          "label": "SOURD"
         },
         {
          "X": -0.010860791429877281,
          "Y": 0.7860143780708313,
          "count": 72,
          "label": "SOURD"
         },
         {
          "X": 2.5816004276275635,
          "Y": -1.5323636531829834,
          "count": 72,
          "label": "SOURD"
         },
         {
          "X": 0.9383410811424255,
          "Y": -0.30791112780570984,
          "count": 72,
          "label": "SOURD"
         },
         {
          "X": 0.7569299340248108,
          "Y": -1.7701759338378906,
          "count": 72,
          "label": "SOURD"
         },
         {
          "X": -0.038906216621398926,
          "Y": -1.3321967124938965,
          "count": 72,
          "label": "SOURD"
         },
         {
          "X": 0.5022168159484863,
          "Y": -0.369074285030365,
          "count": 72,
          "label": "SOURD"
         },
         {
          "X": -0.010860791429877281,
          "Y": 0.7860143780708313,
          "count": 72,
          "label": "SOURD"
         },
         {
          "X": 0.12445073574781418,
          "Y": 0.05000607669353485,
          "count": 72,
          "label": "SOURD"
         },
         {
          "X": -0.7744936347007751,
          "Y": 0.43829581141471863,
          "count": 72,
          "label": "SOURD"
         },
         {
          "X": 0.12445073574781418,
          "Y": 0.05000607669353485,
          "count": 72,
          "label": "SOURD"
         },
         {
          "X": 1.3840988874435425,
          "Y": -0.24738861620426178,
          "count": 72,
          "label": "SOURD"
         },
         {
          "X": 2.923506736755371,
          "Y": -0.958000123500824,
          "count": 72,
          "label": "SOURD"
         },
         {
          "X": 0.8493266105651855,
          "Y": 0.3709956705570221,
          "count": 72,
          "label": "SOURD"
         },
         {
          "X": 1.9539906978607178,
          "Y": 2.177903652191162,
          "count": 72,
          "label": "SOURD"
         },
         {
          "X": 0.8493266105651855,
          "Y": 0.3709956705570221,
          "count": 47,
          "label": "ENTENDANT"
         },
         {
          "X": 1.5444684028625488,
          "Y": -2.3124451637268066,
          "count": 47,
          "label": "ENTENDANT"
         },
         {
          "X": 2.5976979732513428,
          "Y": 1.3837021589279175,
          "count": 47,
          "label": "ENTENDANT"
         },
         {
          "X": -0.010860791429877281,
          "Y": 0.7860143780708313,
          "count": 47,
          "label": "ENTENDANT"
         },
         {
          "X": 0.19849514961242676,
          "Y": 2.5399622917175293,
          "count": 47,
          "label": "ENTENDANT"
         },
         {
          "X": -1.4223387241363525,
          "Y": -1.1469751596450806,
          "count": 47,
          "label": "ENTENDANT"
         },
         {
          "X": 0.7769594192504883,
          "Y": -0.937835156917572,
          "count": 47,
          "label": "ENTENDANT"
         },
         {
          "X": 1.0381417274475098,
          "Y": 2.305878162384033,
          "count": 47,
          "label": "ENTENDANT"
         },
         {
          "X": 0.5022168159484863,
          "Y": -0.369074285030365,
          "count": 47,
          "label": "ENTENDANT"
         },
         {
          "X": -0.2342323362827301,
          "Y": -2.38041090965271,
          "count": 47,
          "label": "ENTENDANT"
         },
         {
          "X": -0.7520882487297058,
          "Y": -0.2695270776748657,
          "count": 47,
          "label": "ENTENDANT"
         },
         {
          "X": -0.038906216621398926,
          "Y": -1.3321967124938965,
          "count": 47,
          "label": "ENTENDANT"
         },
         {
          "X": 1.1252766847610474,
          "Y": -1.8188939094543457,
          "count": 47,
          "label": "ENTENDANT"
         },
         {
          "X": 1.0381417274475098,
          "Y": 2.305878162384033,
          "count": 47,
          "label": "ENTENDANT"
         },
         {
          "X": 1.7958910465240479,
          "Y": -1.4791693687438965,
          "count": 47,
          "label": "ENTENDANT"
         },
         {
          "X": 1.5509209632873535,
          "Y": 0.3715212941169739,
          "count": 47,
          "label": "ENTENDANT"
         },
         {
          "X": 0.7769594192504883,
          "Y": -0.937835156917572,
          "count": 47,
          "label": "ENTENDANT"
         },
         {
          "X": -0.010860791429877281,
          "Y": 0.7860143780708313,
          "count": 47,
          "label": "ENTENDANT"
         },
         {
          "X": 2.3063695430755615,
          "Y": 1.698819637298584,
          "count": 47,
          "label": "ENTENDANT"
         },
         {
          "X": -0.7520882487297058,
          "Y": -0.2695270776748657,
          "count": 47,
          "label": "ENTENDANT"
         },
         {
          "X": -1.2051360607147217,
          "Y": 1.1815179586410522,
          "count": 47,
          "label": "ENTENDANT"
         },
         {
          "X": -1.664787769317627,
          "Y": 1.7272974252700806,
          "count": 47,
          "label": "ENTENDANT"
         },
         {
          "X": 0.7809913158416748,
          "Y": -2.468172311782837,
          "count": 47,
          "label": "ENTENDANT"
         },
         {
          "X": -0.5316834449768066,
          "Y": -0.3826110363006592,
          "count": 47,
          "label": "ENTENDANT"
         },
         {
          "X": 2.8399338722229004,
          "Y": 0.9212411046028137,
          "count": 47,
          "label": "ENTENDANT"
         },
         {
          "X": 1.7958910465240479,
          "Y": -1.4791693687438965,
          "count": 47,
          "label": "ENTENDANT"
         },
         {
          "X": 0.7769594192504883,
          "Y": -0.937835156917572,
          "count": 47,
          "label": "ENTENDANT"
         },
         {
          "X": -1.4802589416503906,
          "Y": -0.13927695155143738,
          "count": 47,
          "label": "ENTENDANT"
         },
         {
          "X": 2.6804513931274414,
          "Y": -1.1999847888946533,
          "count": 47,
          "label": "ENTENDANT"
         },
         {
          "X": 1.9337143898010254,
          "Y": 0.7559248805046082,
          "count": 47,
          "label": "ENTENDANT"
         },
         {
          "X": -1.433718204498291,
          "Y": -1.7712657451629639,
          "count": 47,
          "label": "ENTENDANT"
         },
         {
          "X": 2.356484889984131,
          "Y": 1.6304043531417847,
          "count": 47,
          "label": "ENTENDANT"
         },
         {
          "X": 2.189912796020508,
          "Y": -0.3414364457130432,
          "count": 47,
          "label": "ENTENDANT"
         },
         {
          "X": 3.1133673191070557,
          "Y": 0.10794708132743835,
          "count": 47,
          "label": "ENTENDANT"
         },
         {
          "X": -0.5734463334083557,
          "Y": 1.4404056072235107,
          "count": 47,
          "label": "ENTENDANT"
         },
         {
          "X": 1.7958910465240479,
          "Y": -1.4791693687438965,
          "count": 47,
          "label": "ENTENDANT"
         },
         {
          "X": 0.7769594192504883,
          "Y": -0.937835156917572,
          "count": 47,
          "label": "ENTENDANT"
         },
         {
          "X": 1.7958910465240479,
          "Y": -1.4791693687438965,
          "count": 47,
          "label": "ENTENDANT"
         },
         {
          "X": 1.9337143898010254,
          "Y": 0.7559248805046082,
          "count": 47,
          "label": "ENTENDANT"
         },
         {
          "X": 0.12445073574781418,
          "Y": 0.05000607669353485,
          "count": 47,
          "label": "ENTENDANT"
         },
         {
          "X": 0.08518155664205551,
          "Y": -0.5668357610702515,
          "count": 47,
          "label": "ENTENDANT"
         },
         {
          "X": 1.5444684028625488,
          "Y": -2.3124451637268066,
          "count": 47,
          "label": "ENTENDANT"
         },
         {
          "X": 0.12445073574781418,
          "Y": 0.05000607669353485,
          "count": 47,
          "label": "ENTENDANT"
         },
         {
          "X": 0.7133759260177612,
          "Y": 1.2155088186264038,
          "count": 47,
          "label": "ENTENDANT"
         },
         {
          "X": 0.8493266105651855,
          "Y": 0.3709956705570221,
          "count": 47,
          "label": "ENTENDANT"
         },
         {
          "X": -0.5734463334083557,
          "Y": 1.4404056072235107,
          "count": 47,
          "label": "ENTENDANT"
         },
         {
          "X": 0.08518155664205551,
          "Y": -0.5668357610702515,
          "count": 47,
          "label": "ENTENDANT"
         }
        ]
       },
       "encoding": {
        "color": {
         "field": "label",
         "type": "nominal"
        },
        "x": {
         "field": "X",
         "type": "quantitative"
        },
        "y": {
         "field": "Y",
         "type": "quantitative"
        }
       },
       "mark": {
        "size": 60,
        "type": "circle"
       },
       "selection": {
        "selector006": {
         "bind": "scales",
         "encodings": [
          "x",
          "y"
         ],
         "mark": {
          "fill": "#333",
          "fillOpacity": 0.125,
          "stroke": "white"
         },
         "on": "[mousedown, window:mouseup] > window:mousemove!",
         "resolve": "global",
         "translate": "[mousedown, window:mouseup] > window:mousemove!",
         "type": "interval",
         "zoom": "wheel!"
        }
       }
      },
      "image/png": "[encoded data removed]",
      "text/plain": [
       "<VegaLite 2 object>\n",
       "\n",
       "If you see this message, it means the renderer has not been properly enabled\n",
       "for the frontend that you are using. For more information, see\n",
       "https://altair-viz.github.io/user_guide/troubleshooting.html\n"
      ]
     },
     "metadata": {},
     "output_type": "display_data"
    }
   ],
   "source": [
    "# standalone graph\n",
    "\n",
    "preds_reduced = TSNE(n_components=2, perplexity = 80).fit_transform(preds)\n",
    "\n",
    "\n",
    "plot_df = pd.DataFrame({'X':preds_reduced[:,0],'Y':preds_reduced[:,1], 'label': label})\n",
    "\n",
    "plot_df = plot_df[plot_df[\"label\"] != 'LS']\n",
    "plot_df[\"count\"] = plot_df.apply(lambda row: len(plot_df[plot_df[\"label\"] == row[\"label\"]]), axis=1)\n",
    "plot_df = plot_df[plot_df[\"count\"] > 45]\n",
    "\n",
    "chart = alt.Chart(plot_df).mark_circle(size=60).encode(\n",
    "    x='X',\n",
    "    y='Y',\n",
    "    color='label').interactive()\n",
    "    \n",
    "display(chart)"
   ]
  },
  {
   "cell_type": "code",
   "execution_count": null,
   "metadata": {},
   "outputs": [],
   "source": []
  }
 ],
 "metadata": {
  "kernelspec": {
   "display_name": "Python 3",
   "language": "python",
   "name": "python3"
  },
  "language_info": {
   "codemirror_mode": {
    "name": "ipython",
    "version": 3
   },
   "file_extension": ".py",
   "mimetype": "text/x-python",
   "name": "python",
   "nbconvert_exporter": "python",
   "pygments_lexer": "ipython3",
   "version": "3.6.8"
  }
 },
 "nbformat": 4,
 "nbformat_minor": 2
}
