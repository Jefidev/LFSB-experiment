{
 "cells": [
  {
   "cell_type": "code",
   "execution_count": 1,
   "metadata": {},
   "outputs": [],
   "source": [
    "import numpy as np\n",
    "from sklearn.manifold import TSNE\n",
    "import pandas as pd\n",
    "import altair as alt\n",
    "from IPython.display import display"
   ]
  },
  {
   "cell_type": "code",
   "execution_count": 6,
   "metadata": {},
   "outputs": [
    {
     "name": "stdout",
     "output_type": "stream",
     "text": [
      "[[-1.9481381e-09 -1.0245890e-07 -6.1156220e-07 ... -6.6239068e-09\n",
      "   2.7129732e-07 -1.4953127e-07]\n",
      " [-1.9481381e-09 -1.0245890e-07 -6.1156220e-07 ... -6.6239068e-09\n",
      "   2.7129732e-07 -1.4953127e-07]\n",
      " [-1.9481381e-09 -1.0245890e-07 -6.1156220e-07 ... -6.6239068e-09\n",
      "   2.7129732e-07 -1.4953127e-07]\n",
      " ...\n",
      " [-7.8935569e-10  1.0100398e-05 -7.5061206e-07 ...  1.1882863e-06\n",
      "  -2.1044534e-06 -5.8159308e-08]\n",
      " [-7.8935569e-10  1.0100398e-05 -7.5061206e-07 ...  1.1882863e-06\n",
      "  -2.1044534e-06 -5.8159308e-08]\n",
      " [-1.9626802e-09 -3.1023887e-07 -6.1164741e-07 ... -6.7426242e-09\n",
      "   2.7662628e-07 -1.4958819e-07]]\n",
      "['1' '1' '1' '1' '1' '1' '1' '1' '1' '1' '1' '1' '1' '1' '1' '1' '1' '1'\n",
      " '1' '1' '1' '1' '1' '1' '1' '1' '1' '1' '1' '1' '1' '1' '1' '1' '1' '1'\n",
      " '1' '1' '1' '1' '1' '1' '1' '1' '1' '1' '1' '1' '1' '1' '1' '1' '1' '1'\n",
      " '1' '5' '5' '5' '5' '5' '5' '5' '2' '2' '2' '2' '2' '2' '2' '2' '2' '2'\n",
      " '2' '2' '2' '2' '2' '2' '2' '2' '2' '2' '2' '2' '2' '2' '2' '2' '3' '3'\n",
      " '3' '3' '3' '3' '3' '3' '3' '3' '3' '3' '3' '3' '3' '3' '4' '4' '4' '4'\n",
      " '4' '4' '4' '4' '4' '4' '4' '4' '4' '4' '4' '4' '4' '4' '4' '4']\n"
     ]
    }
   ],
   "source": [
    "# loading data\n",
    "preds = np.load(\"../results/preds.np\")\n",
    "label = np.load(\"../results/label.np\")\n",
    "\n",
    "print(preds)\n",
    "print(label)"
   ]
  },
  {
   "cell_type": "code",
   "execution_count": 7,
   "metadata": {},
   "outputs": [],
   "source": [
    "# reducting dimensions\n",
    "\n",
    "def reduce_dim(perplexity):\n",
    "    preds_reduced = TSNE(n_components=2, perplexity = perplexity).fit_transform(preds)\n",
    "    return preds_reduced\n",
    "\n",
    "\n",
    "def create_plot(preds_reduced, label):\n",
    "    plot_df = pd.DataFrame({'X':preds_reduced[:,0],'Y':preds_reduced[:,1], 'label': label})\n",
    "\n",
    "    #plot_df[\"count\"] = plot_df.apply(lambda row: len(plot_df[plot_df[\"label\"] == row[\"label\"]]), axis=1)\n",
    "    #plot_df = plot_df[plot_df[\"count\"] > 45]\n",
    "\n",
    "    chart = alt.Chart(plot_df).mark_circle(size=60).encode(\n",
    "        x='X',\n",
    "        y='Y',\n",
    "        color='label').interactive()\n",
    "    \n",
    "    display(chart)"
   ]
  },
  {
   "cell_type": "code",
   "execution_count": 8,
   "metadata": {},
   "outputs": [
    {
     "name": "stdout",
     "output_type": "stream",
     "text": [
      "Perplexity 5\n"
     ]
    },
    {
     "data": {
      "application/vnd.vegalite.v2+json": {
       "$schema": "https://vega.github.io/schema/vega-lite/v2.6.0.json",
       "config": {
        "view": {
         "height": 300,
         "width": 400
        }
       },
       "data": {
        "name": "data-f7ff7dd586beebe3f1333b6c0f41d9b7"
       },
       "datasets": {
        "data-f7ff7dd586beebe3f1333b6c0f41d9b7": [
         {
          "X": 16.449281692504883,
          "Y": -130.11744689941406,
          "label": "1"
         },
         {
          "X": 80.24368286132812,
          "Y": -99.77281188964844,
          "label": "1"
         },
         {
          "X": 38.78263473510742,
          "Y": 9.1041841506958,
          "label": "1"
         },
         {
          "X": -31.751428604125977,
          "Y": 148.7805633544922,
          "label": "1"
         },
         {
          "X": 54.48780822753906,
          "Y": 47.79199981689453,
          "label": "1"
         },
         {
          "X": 12.296664237976074,
          "Y": 37.81460952758789,
          "label": "1"
         },
         {
          "X": 93.63197326660156,
          "Y": -42.31571960449219,
          "label": "1"
         },
         {
          "X": 53.813926696777344,
          "Y": -55.500064849853516,
          "label": "1"
         },
         {
          "X": 110.98572540283203,
          "Y": -104.69401550292969,
          "label": "1"
         },
         {
          "X": -78.48368072509766,
          "Y": 116.66661071777344,
          "label": "1"
         },
         {
          "X": 110.52094268798828,
          "Y": -26.618385314941406,
          "label": "1"
         },
         {
          "X": 24.313133239746094,
          "Y": -45.1904296875,
          "label": "1"
         },
         {
          "X": -62.76911926269531,
          "Y": 136.7152862548828,
          "label": "1"
         },
         {
          "X": 63.35005569458008,
          "Y": 6.637646675109863,
          "label": "1"
         },
         {
          "X": 112.73519134521484,
          "Y": -72.6178207397461,
          "label": "1"
         },
         {
          "X": 34.7982177734375,
          "Y": -10.16114616394043,
          "label": "1"
         },
         {
          "X": -0.8780899047851562,
          "Y": -20.201080322265625,
          "label": "1"
         },
         {
          "X": 34.80745315551758,
          "Y": -45.80784225463867,
          "label": "1"
         },
         {
          "X": 42.99810028076172,
          "Y": -60.849918365478516,
          "label": "1"
         },
         {
          "X": -30.545263290405273,
          "Y": 109.42015838623047,
          "label": "1"
         },
         {
          "X": 51.11667251586914,
          "Y": -33.144683837890625,
          "label": "1"
         },
         {
          "X": 23.5753231048584,
          "Y": -33.018245697021484,
          "label": "1"
         },
         {
          "X": 45.996639251708984,
          "Y": -19.878379821777344,
          "label": "1"
         },
         {
          "X": 33.4914436340332,
          "Y": -35.624755859375,
          "label": "1"
         },
         {
          "X": -54.88325881958008,
          "Y": 81.25198364257812,
          "label": "1"
         },
         {
          "X": -51.021095275878906,
          "Y": 140.24269104003906,
          "label": "1"
         },
         {
          "X": 52.842872619628906,
          "Y": -43.677223205566406,
          "label": "1"
         },
         {
          "X": -38.35097885131836,
          "Y": 122.94161224365234,
          "label": "1"
         },
         {
          "X": 41.61064529418945,
          "Y": -29.154869079589844,
          "label": "1"
         },
         {
          "X": -86.811279296875,
          "Y": 140.2307891845703,
          "label": "1"
         },
         {
          "X": -169.52560424804688,
          "Y": 45.69667053222656,
          "label": "1"
         },
         {
          "X": 30.20410919189453,
          "Y": 53.96548080444336,
          "label": "1"
         },
         {
          "X": 44.134437561035156,
          "Y": -50.151004791259766,
          "label": "1"
         },
         {
          "X": 43.227970123291016,
          "Y": -39.72404479980469,
          "label": "1"
         },
         {
          "X": 32.1734619140625,
          "Y": -23.8742618560791,
          "label": "1"
         },
         {
          "X": 32.14659881591797,
          "Y": -55.98187255859375,
          "label": "1"
         },
         {
          "X": 62.731754302978516,
          "Y": -47.846168518066406,
          "label": "1"
         },
         {
          "X": 57.00743865966797,
          "Y": -24.698095321655273,
          "label": "1"
         },
         {
          "X": 105.50460815429688,
          "Y": 29.360992431640625,
          "label": "1"
         },
         {
          "X": 61.98752212524414,
          "Y": -35.91644287109375,
          "label": "1"
         },
         {
          "X": 86.51499938964844,
          "Y": 51.63135528564453,
          "label": "1"
         },
         {
          "X": -11.117593765258789,
          "Y": -115.85621643066406,
          "label": "1"
         },
         {
          "X": -162.3663330078125,
          "Y": 47.75715637207031,
          "label": "1"
         },
         {
          "X": 132.88829040527344,
          "Y": -12.18221664428711,
          "label": "1"
         },
         {
          "X": 93.20797729492188,
          "Y": -61.18192672729492,
          "label": "1"
         },
         {
          "X": -46.795799255371094,
          "Y": -67.74937438964844,
          "label": "1"
         },
         {
          "X": 59.43744659423828,
          "Y": -108.8843765258789,
          "label": "1"
         },
         {
          "X": 75.88896942138672,
          "Y": -55.428157806396484,
          "label": "1"
         },
         {
          "X": 112.85856628417969,
          "Y": -49.78411102294922,
          "label": "1"
         },
         {
          "X": 31.371000289916992,
          "Y": -72.60076141357422,
          "label": "1"
         },
         {
          "X": 89.60440826416016,
          "Y": -24.06254005432129,
          "label": "1"
         },
         {
          "X": 99.50152587890625,
          "Y": -6.80228853225708,
          "label": "1"
         },
         {
          "X": -5.819159984588623,
          "Y": -87.61883544921875,
          "label": "1"
         },
         {
          "X": -31.50699234008789,
          "Y": 11.167415618896484,
          "label": "1"
         },
         {
          "X": -6.205348968505859,
          "Y": -44.22690963745117,
          "label": "1"
         },
         {
          "X": 64.18418884277344,
          "Y": -85.59503173828125,
          "label": "5"
         },
         {
          "X": 54.196189880371094,
          "Y": 21.84288787841797,
          "label": "5"
         },
         {
          "X": 3.3931479454040527,
          "Y": 79.03201293945312,
          "label": "5"
         },
         {
          "X": -105.65072631835938,
          "Y": 31.472082138061523,
          "label": "5"
         },
         {
          "X": -147.42958068847656,
          "Y": 17.53662872314453,
          "label": "5"
         },
         {
          "X": 72.90885925292969,
          "Y": -24.26844596862793,
          "label": "5"
         },
         {
          "X": 12.19041633605957,
          "Y": -78.1493911743164,
          "label": "5"
         },
         {
          "X": 117.5742416381836,
          "Y": 7.704136848449707,
          "label": "2"
         },
         {
          "X": 45.92181396484375,
          "Y": -92.22864532470703,
          "label": "2"
         },
         {
          "X": 18.372371673583984,
          "Y": -62.01666259765625,
          "label": "2"
         },
         {
          "X": -19.359004974365234,
          "Y": -70.52539825439453,
          "label": "2"
         },
         {
          "X": -114.35688018798828,
          "Y": 34.58380889892578,
          "label": "2"
         },
         {
          "X": 82.51805877685547,
          "Y": -125.1692886352539,
          "label": "2"
         },
         {
          "X": -35.42108154296875,
          "Y": 139.44454956054688,
          "label": "2"
         },
         {
          "X": 137.8011474609375,
          "Y": -69.75554656982422,
          "label": "2"
         },
         {
          "X": -144.47726440429688,
          "Y": 27.562143325805664,
          "label": "2"
         },
         {
          "X": 76.99612426757812,
          "Y": -39.516212463378906,
          "label": "2"
         },
         {
          "X": 135.0604248046875,
          "Y": -39.275577545166016,
          "label": "2"
         },
         {
          "X": 5.749539852142334,
          "Y": -1.5000741481781006,
          "label": "2"
         },
         {
          "X": -119.33272552490234,
          "Y": 91.37389373779297,
          "label": "2"
         },
         {
          "X": 9.045639991760254,
          "Y": -32.70656204223633,
          "label": "2"
         },
         {
          "X": 11.070528030395508,
          "Y": -102.40227508544922,
          "label": "2"
         },
         {
          "X": -34.11128234863281,
          "Y": 129.6456298828125,
          "label": "2"
         },
         {
          "X": -36.72911071777344,
          "Y": -13.82577896118164,
          "label": "2"
         },
         {
          "X": -18.387096405029297,
          "Y": -28.6910343170166,
          "label": "2"
         },
         {
          "X": -0.5776637196540833,
          "Y": -63.237403869628906,
          "label": "2"
         },
         {
          "X": 17.75643539428711,
          "Y": -18.0092716217041,
          "label": "2"
         },
         {
          "X": 34.26487731933594,
          "Y": -111.04719543457031,
          "label": "2"
         },
         {
          "X": 63.01956558227539,
          "Y": -66.60635375976562,
          "label": "2"
         },
         {
          "X": 94.94783020019531,
          "Y": -84.73633575439453,
          "label": "2"
         },
         {
          "X": -148.59727478027344,
          "Y": 51.530487060546875,
          "label": "2"
         },
         {
          "X": 49.28425598144531,
          "Y": -4.450358867645264,
          "label": "2"
         },
         {
          "X": 10.188862800598145,
          "Y": -48.57447814941406,
          "label": "2"
         },
         {
          "X": 85.6585464477539,
          "Y": 11.513137817382812,
          "label": "3"
         },
         {
          "X": -14.244346618652344,
          "Y": 39.3184928894043,
          "label": "3"
         },
         {
          "X": -3.0223946571350098,
          "Y": 18.35028648376465,
          "label": "3"
         },
         {
          "X": -46.91386413574219,
          "Y": 129.36752319335938,
          "label": "3"
         },
         {
          "X": -78.09246063232422,
          "Y": 125.96764373779297,
          "label": "3"
         },
         {
          "X": 34.88917922973633,
          "Y": 30.511016845703125,
          "label": "3"
         },
         {
          "X": -120.03266906738281,
          "Y": 82.37834167480469,
          "label": "3"
         },
         {
          "X": -153.7736358642578,
          "Y": 35.90511703491211,
          "label": "3"
         },
         {
          "X": -100.42982482910156,
          "Y": 10.677831649780273,
          "label": "3"
         },
         {
          "X": 22.68362045288086,
          "Y": -1.1016309261322021,
          "label": "3"
         },
         {
          "X": -13.46474552154541,
          "Y": -3.749995470046997,
          "label": "3"
         },
         {
          "X": 19.547792434692383,
          "Y": 16.9683895111084,
          "label": "3"
         },
         {
          "X": -46.15242004394531,
          "Y": -35.601932525634766,
          "label": "3"
         },
         {
          "X": 78.5740966796875,
          "Y": -6.494102954864502,
          "label": "3"
         },
         {
          "X": -0.6807491779327393,
          "Y": 61.10262680053711,
          "label": "3"
         },
         {
          "X": -0.17585104703903198,
          "Y": 70.5389404296875,
          "label": "3"
         },
         {
          "X": 30.755441665649414,
          "Y": 63.02576446533203,
          "label": "4"
         },
         {
          "X": -27.68221664428711,
          "Y": 114.84210968017578,
          "label": "4"
         },
         {
          "X": 78.50418090820312,
          "Y": -73.61297607421875,
          "label": "4"
         },
         {
          "X": -95.35981750488281,
          "Y": 14.432751655578613,
          "label": "4"
         },
         {
          "X": -124.18293762207031,
          "Y": 33.309837341308594,
          "label": "4"
         },
         {
          "X": 74.89117431640625,
          "Y": 28.671316146850586,
          "label": "4"
         },
         {
          "X": -61.97328567504883,
          "Y": 75.03289794921875,
          "label": "4"
         },
         {
          "X": -56.34489059448242,
          "Y": 71.93255615234375,
          "label": "4"
         },
         {
          "X": -133.67214965820312,
          "Y": 29.79503631591797,
          "label": "4"
         },
         {
          "X": 27.533432006835938,
          "Y": -89.47967529296875,
          "label": "4"
         },
         {
          "X": -26.086069107055664,
          "Y": -50.03237533569336,
          "label": "4"
         },
         {
          "X": -79.62068939208984,
          "Y": 136.43890380859375,
          "label": "4"
         },
         {
          "X": -154.0677490234375,
          "Y": 58.27978515625,
          "label": "4"
         },
         {
          "X": 49.63729476928711,
          "Y": -132.97494506835938,
          "label": "4"
         },
         {
          "X": 62.83901596069336,
          "Y": -11.597918510437012,
          "label": "4"
         },
         {
          "X": -31.78409767150879,
          "Y": -94.48831176757812,
          "label": "4"
         },
         {
          "X": 48.52192687988281,
          "Y": -75.07808685302734,
          "label": "4"
         },
         {
          "X": -189.8333282470703,
          "Y": 306.60809326171875,
          "label": "4"
         },
         {
          "X": 19.265045166015625,
          "Y": -422.8013916015625,
          "label": "4"
         },
         {
          "X": -163.34971618652344,
          "Y": 40.183570861816406,
          "label": "4"
         }
        ]
       },
       "encoding": {
        "color": {
         "field": "label",
         "type": "nominal"
        },
        "x": {
         "field": "X",
         "type": "quantitative"
        },
        "y": {
         "field": "Y",
         "type": "quantitative"
        }
       },
       "mark": {
        "size": 60,
        "type": "circle"
       },
       "selection": {
        "selector009": {
         "bind": "scales",
         "encodings": [
          "x",
          "y"
         ],
         "mark": {
          "fill": "#333",
          "fillOpacity": 0.125,
          "stroke": "white"
         },
         "on": "[mousedown, window:mouseup] > window:mousemove!",
         "resolve": "global",
         "translate": "[mousedown, window:mouseup] > window:mousemove!",
         "type": "interval",
         "zoom": "wheel!"
        }
       }
      },
      "image/png": "[encoded data removed]",
      "text/plain": [
       "<VegaLite 2 object>\n",
       "\n",
       "If you see this message, it means the renderer has not been properly enabled\n",
       "for the frontend that you are using. For more information, see\n",
       "https://altair-viz.github.io/user_guide/troubleshooting.html\n"
      ]
     },
     "metadata": {},
     "output_type": "display_data"
    },
    {
     "name": "stdout",
     "output_type": "stream",
     "text": [
      "Perplexity 15\n"
     ]
    },
    {
     "data": {
      "application/vnd.vegalite.v2+json": {
       "$schema": "https://vega.github.io/schema/vega-lite/v2.6.0.json",
       "config": {
        "view": {
         "height": 300,
         "width": 400
        }
       },
       "data": {
        "name": "data-1726435ca4b7cdbc762fd35aedd3f09d"
       },
       "datasets": {
        "data-1726435ca4b7cdbc762fd35aedd3f09d": [
         {
          "X": 0.49578526616096497,
          "Y": 4.418173313140869,
          "label": "1"
         },
         {
          "X": 0.865246593952179,
          "Y": 4.2372307777404785,
          "label": "1"
         },
         {
          "X": 2.207359552383423,
          "Y": 5.1676130294799805,
          "label": "1"
         },
         {
          "X": 0.7114856839179993,
          "Y": -0.73698490858078,
          "label": "1"
         },
         {
          "X": -0.9327967166900635,
          "Y": 5.053994178771973,
          "label": "1"
         },
         {
          "X": -1.268375277519226,
          "Y": 4.111518383026123,
          "label": "1"
         },
         {
          "X": 0.4897726774215698,
          "Y": 2.2981116771698,
          "label": "1"
         },
         {
          "X": 0.5732199549674988,
          "Y": 3.525649070739746,
          "label": "1"
         },
         {
          "X": 0.6145606637001038,
          "Y": 4.408083438873291,
          "label": "1"
         },
         {
          "X": -0.723240852355957,
          "Y": -1.1347562074661255,
          "label": "1"
         },
         {
          "X": 0.8253086805343628,
          "Y": 3.8820126056671143,
          "label": "1"
         },
         {
          "X": 0.5230162143707275,
          "Y": 3.5027284622192383,
          "label": "1"
         },
         {
          "X": -0.10752691328525543,
          "Y": -0.8051775097846985,
          "label": "1"
         },
         {
          "X": -1.1820648908615112,
          "Y": 3.386887550354004,
          "label": "1"
         },
         {
          "X": 1.6691553592681885,
          "Y": 2.764784812927246,
          "label": "1"
         },
         {
          "X": 1.4534101486206055,
          "Y": 2.275113821029663,
          "label": "1"
         },
         {
          "X": -0.6507192254066467,
          "Y": 2.6384694576263428,
          "label": "1"
         },
         {
          "X": 0.6649549007415771,
          "Y": 3.5597901344299316,
          "label": "1"
         },
         {
          "X": 0.6649542450904846,
          "Y": 3.5597891807556152,
          "label": "1"
         },
         {
          "X": 0.7162049412727356,
          "Y": -0.07766485214233398,
          "label": "1"
         },
         {
          "X": 0.7653683423995972,
          "Y": 3.6420819759368896,
          "label": "1"
         },
         {
          "X": 0.7653677463531494,
          "Y": 3.6420819759368896,
          "label": "1"
         },
         {
          "X": 0.6900976896286011,
          "Y": 3.623220920562744,
          "label": "1"
         },
         {
          "X": 0.20587407052516937,
          "Y": 4.3057050704956055,
          "label": "1"
         },
         {
          "X": 2.145895481109619,
          "Y": -0.48172080516815186,
          "label": "1"
         },
         {
          "X": 0.33125972747802734,
          "Y": -0.7874186038970947,
          "label": "1"
         },
         {
          "X": 0.19512131810188293,
          "Y": 3.671678304672241,
          "label": "1"
         },
         {
          "X": 0.5491940975189209,
          "Y": -0.8159293532371521,
          "label": "1"
         },
         {
          "X": 0.028172152116894722,
          "Y": 3.9809720516204834,
          "label": "1"
         },
         {
          "X": -1.2983782291412354,
          "Y": -0.7234865427017212,
          "label": "1"
         },
         {
          "X": -2.1536192893981934,
          "Y": 0.33213046193122864,
          "label": "1"
         },
         {
          "X": 3.4297120571136475,
          "Y": 3.3854551315307617,
          "label": "1"
         },
         {
          "X": 0.005907820537686348,
          "Y": 4.4046831130981445,
          "label": "1"
         },
         {
          "X": 0.028171975165605545,
          "Y": 3.9809699058532715,
          "label": "1"
         },
         {
          "X": 0.028172850608825684,
          "Y": 3.9809696674346924,
          "label": "1"
         },
         {
          "X": 0.38520169258117676,
          "Y": 4.386706829071045,
          "label": "1"
         },
         {
          "X": 0.49198219180107117,
          "Y": 4.41220760345459,
          "label": "1"
         },
         {
          "X": 0.19512790441513062,
          "Y": 3.671698570251465,
          "label": "1"
         },
         {
          "X": 0.6950109004974365,
          "Y": 4.435596466064453,
          "label": "1"
         },
         {
          "X": 0.20207712054252625,
          "Y": 4.307345867156982,
          "label": "1"
         },
         {
          "X": 0.028112467378377914,
          "Y": 3.9833953380584717,
          "label": "1"
         },
         {
          "X": 0.20207752287387848,
          "Y": 4.307346343994141,
          "label": "1"
         },
         {
          "X": -2.151721954345703,
          "Y": 0.21793687343597412,
          "label": "1"
         },
         {
          "X": 0.02817261591553688,
          "Y": 3.9809720516204834,
          "label": "1"
         },
         {
          "X": 0.2058740258216858,
          "Y": 4.305705547332764,
          "label": "1"
         },
         {
          "X": 0.19512102007865906,
          "Y": 3.671678066253662,
          "label": "1"
         },
         {
          "X": 0.19512152671813965,
          "Y": 3.671678066253662,
          "label": "1"
         },
         {
          "X": 0.015159208327531815,
          "Y": 3.9848666191101074,
          "label": "1"
         },
         {
          "X": 0.19512106478214264,
          "Y": 3.671678066253662,
          "label": "1"
         },
         {
          "X": 0.19512881338596344,
          "Y": 3.6716973781585693,
          "label": "1"
         },
         {
          "X": 0.1951236128807068,
          "Y": 3.6716768741607666,
          "label": "1"
         },
         {
          "X": 0.20234039425849915,
          "Y": 4.303293228149414,
          "label": "1"
         },
         {
          "X": 0.19512151181697845,
          "Y": 3.671677589416504,
          "label": "1"
         },
         {
          "X": 0.2058733105659485,
          "Y": 4.3057050704956055,
          "label": "1"
         },
         {
          "X": 0.8156301379203796,
          "Y": 4.245898246765137,
          "label": "1"
         },
         {
          "X": 0.8965694308280945,
          "Y": 4.053524017333984,
          "label": "5"
         },
         {
          "X": 0.9008937478065491,
          "Y": 3.985919237136841,
          "label": "5"
         },
         {
          "X": 2.5004453659057617,
          "Y": 1.2971458435058594,
          "label": "5"
         },
         {
          "X": -3.3640358448028564,
          "Y": 2.258040428161621,
          "label": "5"
         },
         {
          "X": -2.4095075130462646,
          "Y": 1.2456438541412354,
          "label": "5"
         },
         {
          "X": 0.824987530708313,
          "Y": 3.858973264694214,
          "label": "5"
         },
         {
          "X": 0.8263052701950073,
          "Y": 3.8746092319488525,
          "label": "5"
         },
         {
          "X": 0.7962478995323181,
          "Y": 4.273889541625977,
          "label": "2"
         },
         {
          "X": 0.9155851602554321,
          "Y": 3.958635091781616,
          "label": "2"
         },
         {
          "X": 0.8977078795433044,
          "Y": 4.127010822296143,
          "label": "2"
         },
         {
          "X": 0.897706925868988,
          "Y": 4.127012729644775,
          "label": "2"
         },
         {
          "X": -3.202683687210083,
          "Y": 2.101872682571411,
          "label": "2"
         },
         {
          "X": 0.8207329511642456,
          "Y": 4.2996907234191895,
          "label": "2"
         },
         {
          "X": 0.6235600709915161,
          "Y": -0.904242992401123,
          "label": "2"
         },
         {
          "X": 0.6784152984619141,
          "Y": 4.43289041519165,
          "label": "2"
         },
         {
          "X": -2.4534566402435303,
          "Y": 1.192397117614746,
          "label": "2"
         },
         {
          "X": 1.5750478506088257,
          "Y": 5.31589937210083,
          "label": "2"
         },
         {
          "X": 1.9786115884780884,
          "Y": 3.117781400680542,
          "label": "2"
         },
         {
          "X": 0.7774983048439026,
          "Y": 3.5509800910949707,
          "label": "2"
         },
         {
          "X": -3.4002583026885986,
          "Y": 4.5442914962768555,
          "label": "2"
         },
         {
          "X": 1.2878481149673462,
          "Y": 5.7982177734375,
          "label": "2"
         },
         {
          "X": 1.7669891119003296,
          "Y": 2.6182329654693604,
          "label": "2"
         },
         {
          "X": 0.5875137448310852,
          "Y": -1.0652012825012207,
          "label": "2"
         },
         {
          "X": -1.032915472984314,
          "Y": 3.079454183578491,
          "label": "2"
         },
         {
          "X": -1.2040480375289917,
          "Y": 4.388607025146484,
          "label": "2"
         },
         {
          "X": 2.148801565170288,
          "Y": 3.448556661605835,
          "label": "2"
         },
         {
          "X": 0.22029723227024078,
          "Y": 5.658961296081543,
          "label": "2"
         },
         {
          "X": -1.0784897804260254,
          "Y": 4.78444766998291,
          "label": "2"
         },
         {
          "X": 2.111053943634033,
          "Y": 4.48751163482666,
          "label": "2"
         },
         {
          "X": -0.4058876931667328,
          "Y": 5.470747947692871,
          "label": "2"
         },
         {
          "X": -2.168534755706787,
          "Y": 0.28668296337127686,
          "label": "2"
         },
         {
          "X": 0.5963811278343201,
          "Y": 5.811091899871826,
          "label": "2"
         },
         {
          "X": 0.8425886034965515,
          "Y": 5.7074384689331055,
          "label": "2"
         },
         {
          "X": -1.2432705163955688,
          "Y": 3.6998097896575928,
          "label": "3"
         },
         {
          "X": 2.546682119369507,
          "Y": 4.337901592254639,
          "label": "3"
         },
         {
          "X": 2.3955490589141846,
          "Y": 2.838703155517578,
          "label": "3"
         },
         {
          "X": 0.4710201323032379,
          "Y": -0.9779422283172607,
          "label": "3"
         },
         {
          "X": -0.7923890352249146,
          "Y": -1.0050450563430786,
          "label": "3"
         },
         {
          "X": -0.3973585069179535,
          "Y": 2.139997720718384,
          "label": "3"
         },
         {
          "X": -3.5705785751342773,
          "Y": 4.415914535522461,
          "label": "3"
         },
         {
          "X": -2.2106873989105225,
          "Y": 0.5237578749656677,
          "label": "3"
         },
         {
          "X": -4.040520191192627,
          "Y": 2.318434715270996,
          "label": "3"
         },
         {
          "X": 2.1729469299316406,
          "Y": 3.720973014831543,
          "label": "3"
         },
         {
          "X": 2.2196648120880127,
          "Y": 3.9502830505371094,
          "label": "3"
         },
         {
          "X": -0.6502354741096497,
          "Y": 5.359791278839111,
          "label": "3"
         },
         {
          "X": 1.551313042640686,
          "Y": 5.3517069816589355,
          "label": "3"
         },
         {
          "X": 2.032681465148926,
          "Y": 4.785896301269531,
          "label": "3"
         },
         {
          "X": 2.249657154083252,
          "Y": 1.4880212545394897,
          "label": "3"
         },
         {
          "X": 2.3762919902801514,
          "Y": 1.339050054550171,
          "label": "3"
         },
         {
          "X": 3.562218189239502,
          "Y": 3.3633499145507812,
          "label": "4"
         },
         {
          "X": 0.7667126059532166,
          "Y": -1.351752519607544,
          "label": "4"
         },
         {
          "X": -0.13914665579795837,
          "Y": 5.847360134124756,
          "label": "4"
         },
         {
          "X": -4.040377140045166,
          "Y": 2.319361448287964,
          "label": "4"
         },
         {
          "X": -2.9639878273010254,
          "Y": 1.800977110862732,
          "label": "4"
         },
         {
          "X": 0.11022179573774338,
          "Y": 2.3245303630828857,
          "label": "4"
         },
         {
          "X": 2.216642379760742,
          "Y": -0.42173659801483154,
          "label": "4"
         },
         {
          "X": 2.2305493354797363,
          "Y": -0.45148029923439026,
          "label": "4"
         },
         {
          "X": -2.7212719917297363,
          "Y": 1.5648273229599,
          "label": "4"
         },
         {
          "X": 1.0634636878967285,
          "Y": 1.8091784715652466,
          "label": "4"
         },
         {
          "X": -0.7790815234184265,
          "Y": 2.7559292316436768,
          "label": "4"
         },
         {
          "X": -1.0708972215652466,
          "Y": -0.8109684586524963,
          "label": "4"
         },
         {
          "X": -2.117452383041382,
          "Y": 0.15026697516441345,
          "label": "4"
         },
         {
          "X": 0.7661556005477905,
          "Y": 2.331864595413208,
          "label": "4"
         },
         {
          "X": 1.156902551651001,
          "Y": 2.4468131065368652,
          "label": "4"
         },
         {
          "X": 0.3415082097053528,
          "Y": 1.701988935470581,
          "label": "4"
         },
         {
          "X": -0.16084758937358856,
          "Y": 2.416447162628174,
          "label": "4"
         },
         {
          "X": -3.7914435863494873,
          "Y": 3.6278157234191895,
          "label": "4"
         },
         {
          "X": -3.024778366088867,
          "Y": 5.702607154846191,
          "label": "4"
         },
         {
          "X": -2.171212673187256,
          "Y": 0.3032037615776062,
          "label": "4"
         }
        ]
       },
       "encoding": {
        "color": {
         "field": "label",
         "type": "nominal"
        },
        "x": {
         "field": "X",
         "type": "quantitative"
        },
        "y": {
         "field": "Y",
         "type": "quantitative"
        }
       },
       "mark": {
        "size": 60,
        "type": "circle"
       },
       "selection": {
        "selector010": {
         "bind": "scales",
         "encodings": [
          "x",
          "y"
         ],
         "mark": {
          "fill": "#333",
          "fillOpacity": 0.125,
          "stroke": "white"
         },
         "on": "[mousedown, window:mouseup] > window:mousemove!",
         "resolve": "global",
         "translate": "[mousedown, window:mouseup] > window:mousemove!",
         "type": "interval",
         "zoom": "wheel!"
        }
       }
      },
      "image/png": "[encoded data removed]",
      "text/plain": [
       "<VegaLite 2 object>\n",
       "\n",
       "If you see this message, it means the renderer has not been properly enabled\n",
       "for the frontend that you are using. For more information, see\n",
       "https://altair-viz.github.io/user_guide/troubleshooting.html\n"
      ]
     },
     "metadata": {},
     "output_type": "display_data"
    },
    {
     "name": "stdout",
     "output_type": "stream",
     "text": [
      "Perplexity 30\n"
     ]
    },
    {
     "data": {
      "application/vnd.vegalite.v2+json": {
       "$schema": "https://vega.github.io/schema/vega-lite/v2.6.0.json",
       "config": {
        "view": {
         "height": 300,
         "width": 400
        }
       },
       "data": {
        "name": "data-a7d8cf4eecf947458a0aa459e9df2387"
       },
       "datasets": {
        "data-a7d8cf4eecf947458a0aa459e9df2387": [
         {
          "X": -1.4734200239181519,
          "Y": -4.5072340965271,
          "label": "1"
         },
         {
          "X": -0.9903498291969299,
          "Y": -4.609857082366943,
          "label": "1"
         },
         {
          "X": -1.673658847808838,
          "Y": -4.841207981109619,
          "label": "1"
         },
         {
          "X": -7.318731307983398,
          "Y": 1.9387489557266235,
          "label": "1"
         },
         {
          "X": -1.187199592590332,
          "Y": -5.192841529846191,
          "label": "1"
         },
         {
          "X": -1.092200517654419,
          "Y": -5.134690284729004,
          "label": "1"
         },
         {
          "X": -1.6429924964904785,
          "Y": -5.009767532348633,
          "label": "1"
         },
         {
          "X": -1.4575183391571045,
          "Y": -5.184324264526367,
          "label": "1"
         },
         {
          "X": -0.9581077098846436,
          "Y": -4.928579330444336,
          "label": "1"
         },
         {
          "X": -5.494775295257568,
          "Y": 3.8372740745544434,
          "label": "1"
         },
         {
          "X": -1.1044914722442627,
          "Y": -5.145232200622559,
          "label": "1"
         },
         {
          "X": -1.4532955884933472,
          "Y": -5.179309844970703,
          "label": "1"
         },
         {
          "X": -5.9831342697143555,
          "Y": 2.745448112487793,
          "label": "1"
         },
         {
          "X": -1.5131744146347046,
          "Y": -4.533298492431641,
          "label": "1"
         },
         {
          "X": -1.4417582750320435,
          "Y": -5.168580532073975,
          "label": "1"
         },
         {
          "X": -0.945480227470398,
          "Y": -4.89292573928833,
          "label": "1"
         },
         {
          "X": -1.6825898885726929,
          "Y": -4.801956653594971,
          "label": "1"
         },
         {
          "X": -1.6792371273040771,
          "Y": -4.904815196990967,
          "label": "1"
         },
         {
          "X": -1.0252610445022583,
          "Y": -4.572488784790039,
          "label": "1"
         },
         {
          "X": -6.256465911865234,
          "Y": 1.0346059799194336,
          "label": "1"
         },
         {
          "X": -0.9730825424194336,
          "Y": -4.635609149932861,
          "label": "1"
         },
         {
          "X": -1.2393795251846313,
          "Y": -4.4878249168396,
          "label": "1"
         },
         {
          "X": -1.381615161895752,
          "Y": -4.449445724487305,
          "label": "1"
         },
         {
          "X": -1.3543956279754639,
          "Y": -4.4971842765808105,
          "label": "1"
         },
         {
          "X": -7.140542984008789,
          "Y": -0.8987440466880798,
          "label": "1"
         },
         {
          "X": -6.436740875244141,
          "Y": 2.28852915763855,
          "label": "1"
         },
         {
          "X": -0.9589402675628662,
          "Y": -4.929952621459961,
          "label": "1"
         },
         {
          "X": -6.460198879241943,
          "Y": 1.6547021865844727,
          "label": "1"
         },
         {
          "X": 2.0892677307128906,
          "Y": 0.09195618331432343,
          "label": "1"
         },
         {
          "X": -4.4401535987854,
          "Y": 3.91931414604187,
          "label": "1"
         },
         {
          "X": -2.1713883876800537,
          "Y": 4.279834747314453,
          "label": "1"
         },
         {
          "X": -0.14116036891937256,
          "Y": -1.5622798204421997,
          "label": "1"
         },
         {
          "X": 2.150184392929077,
          "Y": 0.34260889887809753,
          "label": "1"
         },
         {
          "X": 2.0892698764801025,
          "Y": 0.09193925559520721,
          "label": "1"
         },
         {
          "X": 2.1980228424072266,
          "Y": -0.15433329343795776,
          "label": "1"
         },
         {
          "X": 2.250497817993164,
          "Y": 0.49974027276039124,
          "label": "1"
         },
         {
          "X": 2.7508201599121094,
          "Y": -0.283968985080719,
          "label": "1"
         },
         {
          "X": 2.2458250522613525,
          "Y": 0.4975041151046753,
          "label": "1"
         },
         {
          "X": 2.71624755859375,
          "Y": -0.3292405605316162,
          "label": "1"
         },
         {
          "X": 2.975599527359009,
          "Y": -0.06516753882169724,
          "label": "1"
         },
         {
          "X": 3.0289266109466553,
          "Y": 0.134216770529747,
          "label": "1"
         },
         {
          "X": 2.802138090133667,
          "Y": 0.537123441696167,
          "label": "1"
         },
         {
          "X": -2.1173787117004395,
          "Y": 4.256577491760254,
          "label": "1"
         },
         {
          "X": 2.699941396713257,
          "Y": 0.6173651218414307,
          "label": "1"
         },
         {
          "X": 2.743666648864746,
          "Y": 0.5576154589653015,
          "label": "1"
         },
         {
          "X": 2.9051640033721924,
          "Y": 0.4379994869232178,
          "label": "1"
         },
         {
          "X": 3.019587278366089,
          "Y": 0.271750271320343,
          "label": "1"
         },
         {
          "X": 2.353724479675293,
          "Y": -0.28856340050697327,
          "label": "1"
         },
         {
          "X": 2.366582155227661,
          "Y": 0.5278781056404114,
          "label": "1"
         },
         {
          "X": 2.0551228523254395,
          "Y": 0.15915852785110474,
          "label": "1"
         },
         {
          "X": 2.20223331451416,
          "Y": -0.17859241366386414,
          "label": "1"
         },
         {
          "X": 2.455348491668701,
          "Y": -0.3167415261268616,
          "label": "1"
         },
         {
          "X": 2.459824323654175,
          "Y": -0.3200035095214844,
          "label": "1"
         },
         {
          "X": 2.8506438732147217,
          "Y": -0.20409566164016724,
          "label": "1"
         },
         {
          "X": 2.965768814086914,
          "Y": -0.07456842064857483,
          "label": "1"
         },
         {
          "X": 2.9731853008270264,
          "Y": 0.2697845995426178,
          "label": "5"
         },
         {
          "X": 2.4685442447662354,
          "Y": 0.5822128057479858,
          "label": "5"
         },
         {
          "X": -1.8339662551879883,
          "Y": -2.1043155193328857,
          "label": "5"
         },
         {
          "X": 0.7647700309753418,
          "Y": 2.8821144104003906,
          "label": "5"
         },
         {
          "X": -1.1221600770950317,
          "Y": 3.0804693698883057,
          "label": "5"
         },
         {
          "X": -2.599512815475464,
          "Y": 0.3439638614654541,
          "label": "5"
         },
         {
          "X": -2.5780324935913086,
          "Y": 0.4486904740333557,
          "label": "5"
         },
         {
          "X": -2.5954575538635254,
          "Y": 0.36520904302597046,
          "label": "2"
         },
         {
          "X": -2.6990108489990234,
          "Y": 0.19550228118896484,
          "label": "2"
         },
         {
          "X": -2.6514501571655273,
          "Y": 0.7441055178642273,
          "label": "2"
         },
         {
          "X": -2.68351149559021,
          "Y": 0.21391604840755463,
          "label": "2"
         },
         {
          "X": 0.5026658177375793,
          "Y": 2.800004243850708,
          "label": "2"
         },
         {
          "X": -3.2696900367736816,
          "Y": 0.8960351347923279,
          "label": "2"
         },
         {
          "X": -6.880766868591309,
          "Y": 1.83295476436615,
          "label": "2"
         },
         {
          "X": -2.9409000873565674,
          "Y": 0.04593196138739586,
          "label": "2"
         },
         {
          "X": -1.0664207935333252,
          "Y": 3.2021851539611816,
          "label": "2"
         },
         {
          "X": -3.0063424110412598,
          "Y": 0.04041299596428871,
          "label": "2"
         },
         {
          "X": -3.463787794113159,
          "Y": 0.6363474130630493,
          "label": "2"
         },
         {
          "X": -3.4729995727539062,
          "Y": 0.3661438822746277,
          "label": "2"
         },
         {
          "X": 1.997403860092163,
          "Y": -3.827735185623169,
          "label": "2"
         },
         {
          "X": -3.4009060859680176,
          "Y": 0.22843344509601593,
          "label": "2"
         },
         {
          "X": -3.392979860305786,
          "Y": 0.21976354718208313,
          "label": "2"
         },
         {
          "X": -6.561779499053955,
          "Y": 1.7192330360412598,
          "label": "2"
         },
         {
          "X": -3.4049363136291504,
          "Y": 0.23766803741455078,
          "label": "2"
         },
         {
          "X": -3.059272050857544,
          "Y": 0.058856695890426636,
          "label": "2"
         },
         {
          "X": -3.238421678543091,
          "Y": 0.9154945015907288,
          "label": "2"
         },
         {
          "X": -2.89837908744812,
          "Y": 0.9244837760925293,
          "label": "2"
         },
         {
          "X": -3.233682632446289,
          "Y": 0.9142435193061829,
          "label": "2"
         },
         {
          "X": -3.445890188217163,
          "Y": 0.6710605025291443,
          "label": "2"
         },
         {
          "X": -2.8740108013153076,
          "Y": 0.9213963747024536,
          "label": "2"
         },
         {
          "X": -2.4438095092773438,
          "Y": 4.136127471923828,
          "label": "2"
         },
         {
          "X": -3.4633538722991943,
          "Y": 0.6376451253890991,
          "label": "2"
         },
         {
          "X": -2.6444921493530273,
          "Y": 0.7319400310516357,
          "label": "2"
         },
         {
          "X": -2.638136863708496,
          "Y": 0.7276039123535156,
          "label": "3"
         },
         {
          "X": -3.0939784049987793,
          "Y": 0.062300149351358414,
          "label": "3"
         },
         {
          "X": -2.937947988510132,
          "Y": 0.9324088096618652,
          "label": "3"
         },
         {
          "X": -6.560239315032959,
          "Y": 1.9648374319076538,
          "label": "3"
         },
         {
          "X": -5.311294078826904,
          "Y": 3.7652175426483154,
          "label": "3"
         },
         {
          "X": -4.724070072174072,
          "Y": -3.0742647647857666,
          "label": "3"
         },
         {
          "X": 2.1737349033355713,
          "Y": -4.074396133422852,
          "label": "3"
         },
         {
          "X": -1.8243755102157593,
          "Y": 3.8937530517578125,
          "label": "3"
         },
         {
          "X": 1.462494134902954,
          "Y": 4.152011394500732,
          "label": "3"
         },
         {
          "X": -4.867425441741943,
          "Y": -3.152186870574951,
          "label": "3"
         },
         {
          "X": -4.748719215393066,
          "Y": -3.0384037494659424,
          "label": "3"
         },
         {
          "X": -4.73315954208374,
          "Y": -3.0578227043151855,
          "label": "3"
         },
         {
          "X": -4.748719215393066,
          "Y": -3.0384037494659424,
          "label": "3"
         },
         {
          "X": -4.748717784881592,
          "Y": -3.038405656814575,
          "label": "3"
         },
         {
          "X": -2.342036247253418,
          "Y": -2.073127031326294,
          "label": "3"
         },
         {
          "X": -2.0737709999084473,
          "Y": -2.0983855724334717,
          "label": "3"
         },
         {
          "X": -0.13495121896266937,
          "Y": -1.5836836099624634,
          "label": "4"
         },
         {
          "X": -6.391769886016846,
          "Y": 1.0994740724563599,
          "label": "4"
         },
         {
          "X": -4.8504862785339355,
          "Y": -3.168518543243408,
          "label": "4"
         },
         {
          "X": 1.4507874250411987,
          "Y": 4.090417385101318,
          "label": "4"
         },
         {
          "X": 0.05106431990861893,
          "Y": 2.8393867015838623,
          "label": "4"
         },
         {
          "X": -4.888481140136719,
          "Y": -3.103013277053833,
          "label": "4"
         },
         {
          "X": -7.151151180267334,
          "Y": -0.9960042834281921,
          "label": "4"
         },
         {
          "X": -7.146592617034912,
          "Y": -0.996126651763916,
          "label": "4"
         },
         {
          "X": -0.4460367262363434,
          "Y": 2.94511079788208,
          "label": "4"
         },
         {
          "X": -4.867395877838135,
          "Y": -3.1522133350372314,
          "label": "4"
         },
         {
          "X": -4.748717784881592,
          "Y": -3.038405656814575,
          "label": "4"
         },
         {
          "X": -4.693019390106201,
          "Y": 3.823535680770874,
          "label": "4"
         },
         {
          "X": -2.5657405853271484,
          "Y": 4.230474472045898,
          "label": "4"
         },
         {
          "X": -4.867425441741943,
          "Y": -3.152186870574951,
          "label": "4"
         },
         {
          "X": -4.748717784881592,
          "Y": -3.038405656814575,
          "label": "4"
         },
         {
          "X": -4.867407321929932,
          "Y": -3.152203321456909,
          "label": "4"
         },
         {
          "X": -4.867397785186768,
          "Y": -3.1522116661071777,
          "label": "4"
         },
         {
          "X": 1.7876302003860474,
          "Y": -3.564406633377075,
          "label": "4"
         },
         {
          "X": 1.7861515283584595,
          "Y": -3.576403856277466,
          "label": "4"
         },
         {
          "X": -2.069589853286743,
          "Y": 4.211910247802734,
          "label": "4"
         }
        ]
       },
       "encoding": {
        "color": {
         "field": "label",
         "type": "nominal"
        },
        "x": {
         "field": "X",
         "type": "quantitative"
        },
        "y": {
         "field": "Y",
         "type": "quantitative"
        }
       },
       "mark": {
        "size": 60,
        "type": "circle"
       },
       "selection": {
        "selector011": {
         "bind": "scales",
         "encodings": [
          "x",
          "y"
         ],
         "mark": {
          "fill": "#333",
          "fillOpacity": 0.125,
          "stroke": "white"
         },
         "on": "[mousedown, window:mouseup] > window:mousemove!",
         "resolve": "global",
         "translate": "[mousedown, window:mouseup] > window:mousemove!",
         "type": "interval",
         "zoom": "wheel!"
        }
       }
      },
      "image/png": "[encoded data removed]",
      "text/plain": [
       "<VegaLite 2 object>\n",
       "\n",
       "If you see this message, it means the renderer has not been properly enabled\n",
       "for the frontend that you are using. For more information, see\n",
       "https://altair-viz.github.io/user_guide/troubleshooting.html\n"
      ]
     },
     "metadata": {},
     "output_type": "display_data"
    },
    {
     "name": "stdout",
     "output_type": "stream",
     "text": [
      "Perplexity 35\n"
     ]
    },
    {
     "data": {
      "application/vnd.vegalite.v2+json": {
       "$schema": "https://vega.github.io/schema/vega-lite/v2.6.0.json",
       "config": {
        "view": {
         "height": 300,
         "width": 400
        }
       },
       "data": {
        "name": "data-969684fc61eda39f1b6bffccdcf82d29"
       },
       "datasets": {
        "data-969684fc61eda39f1b6bffccdcf82d29": [
         {
          "X": -4.496899604797363,
          "Y": -0.13970400393009186,
          "label": "1"
         },
         {
          "X": -4.4738593101501465,
          "Y": -0.1942136287689209,
          "label": "1"
         },
         {
          "X": -5.124857425689697,
          "Y": -0.18573632836341858,
          "label": "1"
         },
         {
          "X": 3.8520750999450684,
          "Y": 0.3274814784526825,
          "label": "1"
         },
         {
          "X": -4.505606174468994,
          "Y": -0.4760509729385376,
          "label": "1"
         },
         {
          "X": -4.464287281036377,
          "Y": -0.2620825171470642,
          "label": "1"
         },
         {
          "X": -4.916196346282959,
          "Y": -0.5964809656143188,
          "label": "1"
         },
         {
          "X": -4.968101501464844,
          "Y": 0.006139522884041071,
          "label": "1"
         },
         {
          "X": -5.071955680847168,
          "Y": -0.4877503216266632,
          "label": "1"
         },
         {
          "X": 3.8822021484375,
          "Y": 2.7602784633636475,
          "label": "1"
         },
         {
          "X": -4.867391586303711,
          "Y": 0.047927409410476685,
          "label": "1"
         },
         {
          "X": -5.10658073425293,
          "Y": -0.4332009553909302,
          "label": "1"
         },
         {
          "X": 3.295078992843628,
          "Y": 1.7482091188430786,
          "label": "1"
         },
         {
          "X": -4.94209623336792,
          "Y": -0.5865931510925293,
          "label": "1"
         },
         {
          "X": -4.496954917907715,
          "Y": -0.14509345591068268,
          "label": "1"
         },
         {
          "X": -4.603840351104736,
          "Y": -0.5896311402320862,
          "label": "1"
         },
         {
          "X": -4.802299499511719,
          "Y": 0.06040968373417854,
          "label": "1"
         },
         {
          "X": -4.876662731170654,
          "Y": -0.6211227774620056,
          "label": "1"
         },
         {
          "X": -4.5933003425598145,
          "Y": -0.5712351202964783,
          "label": "1"
         },
         {
          "X": 2.5407326221466064,
          "Y": 0.3172300457954407,
          "label": "1"
         },
         {
          "X": -4.5830159187316895,
          "Y": -0.5687723755836487,
          "label": "1"
         },
         {
          "X": -4.692862510681152,
          "Y": 0.041549477726221085,
          "label": "1"
         },
         {
          "X": -5.117557525634766,
          "Y": -0.17256568372249603,
          "label": "1"
         },
         {
          "X": -5.131368637084961,
          "Y": -0.2071230411529541,
          "label": "1"
         },
         {
          "X": 1.2256184816360474,
          "Y": 0.9981381893157959,
          "label": "1"
         },
         {
          "X": 3.389479160308838,
          "Y": 1.1452487707138062,
          "label": "1"
         },
         {
          "X": -4.790039539337158,
          "Y": 0.05389851704239845,
          "label": "1"
         },
         {
          "X": 3.0037543773651123,
          "Y": 0.6865721344947815,
          "label": "1"
         },
         {
          "X": 0.8832104206085205,
          "Y": -1.9697808027267456,
          "label": "1"
         },
         {
          "X": 2.9072577953338623,
          "Y": 3.1042518615722656,
          "label": "1"
         },
         {
          "X": 1.4300179481506348,
          "Y": 4.1586456298828125,
          "label": "1"
         },
         {
          "X": -2.264450788497925,
          "Y": -1.4365127086639404,
          "label": "1"
         },
         {
          "X": 0.40464505553245544,
          "Y": -2.7448959350585938,
          "label": "1"
         },
         {
          "X": 0.19465363025665283,
          "Y": -2.493304491043091,
          "label": "1"
         },
         {
          "X": 0.41929858922958374,
          "Y": -2.6878738403320312,
          "label": "1"
         },
         {
          "X": 0.35820984840393066,
          "Y": -1.9542821645736694,
          "label": "1"
         },
         {
          "X": 0.5170233249664307,
          "Y": -1.8772776126861572,
          "label": "1"
         },
         {
          "X": 0.5673362612724304,
          "Y": -1.8829699754714966,
          "label": "1"
         },
         {
          "X": 0.9989907741546631,
          "Y": -2.174725294113159,
          "label": "1"
         },
         {
          "X": 0.8544344305992126,
          "Y": -1.9391627311706543,
          "label": "1"
         },
         {
          "X": 0.2015952169895172,
          "Y": -2.5151612758636475,
          "label": "1"
         },
         {
          "X": 0.9133946299552917,
          "Y": -2.549708366394043,
          "label": "1"
         },
         {
          "X": 1.4055124521255493,
          "Y": 4.1398725509643555,
          "label": "1"
         },
         {
          "X": 0.919551432132721,
          "Y": -2.547520399093628,
          "label": "1"
         },
         {
          "X": 0.16638168692588806,
          "Y": -2.492825746536255,
          "label": "1"
         },
         {
          "X": 0.9113482236862183,
          "Y": -2.5539400577545166,
          "label": "1"
         },
         {
          "X": 0.42449840903282166,
          "Y": -2.7456436157226562,
          "label": "1"
         },
         {
          "X": 0.4283130466938019,
          "Y": -1.9043021202087402,
          "label": "1"
         },
         {
          "X": 0.08360249549150467,
          "Y": -2.2459046840667725,
          "label": "1"
         },
         {
          "X": 0.9526662230491638,
          "Y": -2.270669460296631,
          "label": "1"
         },
         {
          "X": 0.11031489819288254,
          "Y": -2.1977055072784424,
          "label": "1"
         },
         {
          "X": 0.6950503587722778,
          "Y": -2.7270631790161133,
          "label": "1"
         },
         {
          "X": 0.27859964966773987,
          "Y": -1.981924295425415,
          "label": "1"
         },
         {
          "X": 0.6894535422325134,
          "Y": -2.7321014404296875,
          "label": "1"
         },
         {
          "X": 0.8095778226852417,
          "Y": -1.98353111743927,
          "label": "1"
         },
         {
          "X": 1.0223984718322754,
          "Y": -2.2339651584625244,
          "label": "5"
         },
         {
          "X": 0.12798137962818146,
          "Y": -2.1980512142181396,
          "label": "5"
         },
         {
          "X": -3.2815380096435547,
          "Y": 1.689800500869751,
          "label": "5"
         },
         {
          "X": -2.817831516265869,
          "Y": -2.881807804107666,
          "label": "5"
         },
         {
          "X": 0.22464580833911896,
          "Y": 3.4036202430725098,
          "label": "5"
         },
         {
          "X": -2.1376912593841553,
          "Y": 4.199605941772461,
          "label": "5"
         },
         {
          "X": -2.665698289871216,
          "Y": 3.9697656631469727,
          "label": "5"
         },
         {
          "X": -2.9447126388549805,
          "Y": 4.320866107940674,
          "label": "2"
         },
         {
          "X": -2.4345579147338867,
          "Y": 4.812301158905029,
          "label": "2"
         },
         {
          "X": -2.7298104763031006,
          "Y": 4.74744176864624,
          "label": "2"
         },
         {
          "X": -2.9037821292877197,
          "Y": 4.190272808074951,
          "label": "2"
         },
         {
          "X": -2.7288289070129395,
          "Y": -2.7211008071899414,
          "label": "2"
         },
         {
          "X": -2.743133306503296,
          "Y": 4.017287254333496,
          "label": "2"
         },
         {
          "X": 3.447650194168091,
          "Y": 0.542859673500061,
          "label": "2"
         },
         {
          "X": -2.2149240970611572,
          "Y": 4.694809913635254,
          "label": "2"
         },
         {
          "X": 0.4010510742664337,
          "Y": 3.2636446952819824,
          "label": "2"
         },
         {
          "X": -2.3110928535461426,
          "Y": 4.005283832550049,
          "label": "2"
         },
         {
          "X": -2.385420799255371,
          "Y": 3.973560094833374,
          "label": "2"
         },
         {
          "X": -2.1946983337402344,
          "Y": 4.6673760414123535,
          "label": "2"
         },
         {
          "X": -6.12333345413208,
          "Y": 2.899646282196045,
          "label": "2"
         },
         {
          "X": -2.0784404277801514,
          "Y": 4.435088157653809,
          "label": "2"
         },
         {
          "X": -2.7535223960876465,
          "Y": 4.022345066070557,
          "label": "2"
         },
         {
          "X": 3.098799705505371,
          "Y": 0.7148268222808838,
          "label": "2"
         },
         {
          "X": -2.593857526779175,
          "Y": 4.809234619140625,
          "label": "2"
         },
         {
          "X": -2.200856924057007,
          "Y": 4.091782093048096,
          "label": "2"
         },
         {
          "X": -2.068587303161621,
          "Y": 4.4731950759887695,
          "label": "2"
         },
         {
          "X": -2.942887544631958,
          "Y": 4.490847587585449,
          "label": "2"
         },
         {
          "X": -2.309570550918579,
          "Y": 4.7570977210998535,
          "label": "2"
         },
         {
          "X": -2.25313401222229,
          "Y": 4.0392632484436035,
          "label": "2"
         },
         {
          "X": -2.9506638050079346,
          "Y": 4.430566310882568,
          "label": "2"
         },
         {
          "X": 1.6260044574737549,
          "Y": 3.883033275604248,
          "label": "2"
         },
         {
          "X": -2.770723581314087,
          "Y": 4.028248310089111,
          "label": "2"
         },
         {
          "X": -2.803093433380127,
          "Y": 4.692061424255371,
          "label": "2"
         },
         {
          "X": -2.9268672466278076,
          "Y": 4.566397190093994,
          "label": "3"
         },
         {
          "X": -2.5764479637145996,
          "Y": 4.795418739318848,
          "label": "3"
         },
         {
          "X": -2.0732295513153076,
          "Y": 4.427942276000977,
          "label": "3"
         },
         {
          "X": 3.3039207458496094,
          "Y": 0.8149251937866211,
          "label": "3"
         },
         {
          "X": 3.6154465675354004,
          "Y": 2.735198736190796,
          "label": "3"
         },
         {
          "X": -1.4714922904968262,
          "Y": 0.753105640411377,
          "label": "3"
         },
         {
          "X": -6.3197245597839355,
          "Y": 2.6955184936523438,
          "label": "3"
         },
         {
          "X": 1.0945943593978882,
          "Y": 3.7960665225982666,
          "label": "3"
         },
         {
          "X": -3.4380295276641846,
          "Y": -3.8930611610412598,
          "label": "3"
         },
         {
          "X": -1.4713982343673706,
          "Y": 0.7533655166625977,
          "label": "3"
         },
         {
          "X": -1.4713685512542725,
          "Y": 0.7532567381858826,
          "label": "3"
         },
         {
          "X": -1.4713982343673706,
          "Y": 0.7533655166625977,
          "label": "3"
         },
         {
          "X": -1.4713982343673706,
          "Y": 0.7533655166625977,
          "label": "3"
         },
         {
          "X": -1.471368432044983,
          "Y": 0.7532567977905273,
          "label": "3"
         },
         {
          "X": -2.6189682483673096,
          "Y": 1.0644137859344482,
          "label": "3"
         },
         {
          "X": -3.06339955329895,
          "Y": 1.5134122371673584,
          "label": "3"
         },
         {
          "X": -2.3196511268615723,
          "Y": -1.505794644355774,
          "label": "4"
         },
         {
          "X": 2.594090223312378,
          "Y": 0.3258047103881836,
          "label": "4"
         },
         {
          "X": -1.4713703393936157,
          "Y": 0.7534133195877075,
          "label": "4"
         },
         {
          "X": -3.43625545501709,
          "Y": -3.8833742141723633,
          "label": "4"
         },
         {
          "X": 0.09914913773536682,
          "Y": 2.4278619289398193,
          "label": "4"
         },
         {
          "X": -1.4714415073394775,
          "Y": 0.7533418536186218,
          "label": "4"
         },
         {
          "X": 1.1063768863677979,
          "Y": 1.0363093614578247,
          "label": "4"
         },
         {
          "X": 1.10597562789917,
          "Y": 1.0607057809829712,
          "label": "4"
         },
         {
          "X": 0.18698778748512268,
          "Y": 2.696735143661499,
          "label": "4"
         },
         {
          "X": -1.4713982343673706,
          "Y": 0.7533657550811768,
          "label": "4"
         },
         {
          "X": -1.471368432044983,
          "Y": 0.7532567977905273,
          "label": "4"
         },
         {
          "X": 3.0549609661102295,
          "Y": 2.939007520675659,
          "label": "4"
         },
         {
          "X": 1.7692593336105347,
          "Y": 3.9261422157287598,
          "label": "4"
         },
         {
          "X": -1.4713683128356934,
          "Y": 0.7532567381858826,
          "label": "4"
         },
         {
          "X": -1.471398115158081,
          "Y": 0.7533656358718872,
          "label": "4"
         },
         {
          "X": -1.4713685512542725,
          "Y": 0.7532567381858826,
          "label": "4"
         },
         {
          "X": -1.4713685512542725,
          "Y": 0.7532567977905273,
          "label": "4"
         },
         {
          "X": -5.902048587799072,
          "Y": 3.097970485687256,
          "label": "4"
         },
         {
          "X": -5.902137279510498,
          "Y": 3.0950868129730225,
          "label": "4"
         },
         {
          "X": 1.3675450086593628,
          "Y": 4.080418586730957,
          "label": "4"
         }
        ]
       },
       "encoding": {
        "color": {
         "field": "label",
         "type": "nominal"
        },
        "x": {
         "field": "X",
         "type": "quantitative"
        },
        "y": {
         "field": "Y",
         "type": "quantitative"
        }
       },
       "mark": {
        "size": 60,
        "type": "circle"
       },
       "selection": {
        "selector012": {
         "bind": "scales",
         "encodings": [
          "x",
          "y"
         ],
         "mark": {
          "fill": "#333",
          "fillOpacity": 0.125,
          "stroke": "white"
         },
         "on": "[mousedown, window:mouseup] > window:mousemove!",
         "resolve": "global",
         "translate": "[mousedown, window:mouseup] > window:mousemove!",
         "type": "interval",
         "zoom": "wheel!"
        }
       }
      },
      "image/png": "[encoded data removed]",
      "text/plain": [
       "<VegaLite 2 object>\n",
       "\n",
       "If you see this message, it means the renderer has not been properly enabled\n",
       "for the frontend that you are using. For more information, see\n",
       "https://altair-viz.github.io/user_guide/troubleshooting.html\n"
      ]
     },
     "metadata": {},
     "output_type": "display_data"
    },
    {
     "name": "stdout",
     "output_type": "stream",
     "text": [
      "Perplexity 40\n"
     ]
    },
    {
     "data": {
      "application/vnd.vegalite.v2+json": {
       "$schema": "https://vega.github.io/schema/vega-lite/v2.6.0.json",
       "config": {
        "view": {
         "height": 300,
         "width": 400
        }
       },
       "data": {
        "name": "data-462a8bb9067501cd0c2160fe5c2e0a87"
       },
       "datasets": {
        "data-462a8bb9067501cd0c2160fe5c2e0a87": [
         {
          "X": -0.9010726809501648,
          "Y": 1.9883674383163452,
          "label": "1"
         },
         {
          "X": -0.9378220438957214,
          "Y": 2.1330459117889404,
          "label": "1"
         },
         {
          "X": -1.4419481754302979,
          "Y": 1.7955389022827148,
          "label": "1"
         },
         {
          "X": 5.79176664352417,
          "Y": 0.42115533351898193,
          "label": "1"
         },
         {
          "X": -1.1203944683074951,
          "Y": 2.263589859008789,
          "label": "1"
         },
         {
          "X": -1.2629512548446655,
          "Y": 1.684518575668335,
          "label": "1"
         },
         {
          "X": -1.2575016021728516,
          "Y": 1.685651183128357,
          "label": "1"
         },
         {
          "X": -0.9104533195495605,
          "Y": 1.9106954336166382,
          "label": "1"
         },
         {
          "X": -1.258647084236145,
          "Y": 1.6858676671981812,
          "label": "1"
         },
         {
          "X": 6.288061141967773,
          "Y": -1.697230577468872,
          "label": "1"
         },
         {
          "X": -1.4962701797485352,
          "Y": 1.9724093675613403,
          "label": "1"
         },
         {
          "X": -0.9700430631637573,
          "Y": 1.8029824495315552,
          "label": "1"
         },
         {
          "X": 5.537509441375732,
          "Y": -0.8374935388565063,
          "label": "1"
         },
         {
          "X": -1.1294364929199219,
          "Y": 2.2663886547088623,
          "label": "1"
         },
         {
          "X": -0.9011052846908569,
          "Y": 1.9928195476531982,
          "label": "1"
         },
         {
          "X": -1.3996278047561646,
          "Y": 2.186875104904175,
          "label": "1"
         },
         {
          "X": -1.478632926940918,
          "Y": 2.0496344566345215,
          "label": "1"
         },
         {
          "X": -1.2829774618148804,
          "Y": 2.254948377609253,
          "label": "1"
         },
         {
          "X": -1.4731518030166626,
          "Y": 2.0545575618743896,
          "label": "1"
         },
         {
          "X": 4.507205009460449,
          "Y": 0.27668100595474243,
          "label": "1"
         },
         {
          "X": -1.2816404104232788,
          "Y": 1.6900484561920166,
          "label": "1"
         },
         {
          "X": -0.9473307132720947,
          "Y": 2.1459152698516846,
          "label": "1"
         },
         {
          "X": -0.9709363579750061,
          "Y": 1.8018757104873657,
          "label": "1"
         },
         {
          "X": -1.442031741142273,
          "Y": 1.793886661529541,
          "label": "1"
         },
         {
          "X": 5.56722354888916,
          "Y": 2.0953311920166016,
          "label": "1"
         },
         {
          "X": 5.488576412200928,
          "Y": -0.2953324615955353,
          "label": "1"
         },
         {
          "X": -1.2086557149887085,
          "Y": 2.2708704471588135,
          "label": "1"
         },
         {
          "X": 5.027319431304932,
          "Y": 0.048877909779548645,
          "label": "1"
         },
         {
          "X": 2.9073262214660645,
          "Y": 2.41229510307312,
          "label": "1"
         },
         {
          "X": 5.50139856338501,
          "Y": -2.0161831378936768,
          "label": "1"
         },
         {
          "X": -0.5933719277381897,
          "Y": -3.354102849960327,
          "label": "1"
         },
         {
          "X": 2.684166669845581,
          "Y": 0.14123675227165222,
          "label": "1"
         },
         {
          "X": 2.2080283164978027,
          "Y": 2.5519795417785645,
          "label": "1"
         },
         {
          "X": 2.6315550804138184,
          "Y": 2.2509920597076416,
          "label": "1"
         },
         {
          "X": 2.359428644180298,
          "Y": 2.9465227127075195,
          "label": "1"
         },
         {
          "X": 2.2554116249084473,
          "Y": 2.7864866256713867,
          "label": "1"
         },
         {
          "X": 2.9413654804229736,
          "Y": 2.721896171569824,
          "label": "1"
         },
         {
          "X": 2.796462059020996,
          "Y": 2.9629571437835693,
          "label": "1"
         },
         {
          "X": 2.8202056884765625,
          "Y": 2.317390203475952,
          "label": "1"
         },
         {
          "X": 2.331857919692993,
          "Y": 2.9274611473083496,
          "label": "1"
         },
         {
          "X": 2.351876735687256,
          "Y": 2.321830987930298,
          "label": "1"
         },
         {
          "X": 2.716427803039551,
          "Y": 2.9926106929779053,
          "label": "1"
         },
         {
          "X": -0.6101987361907959,
          "Y": -3.323260545730591,
          "label": "1"
         },
         {
          "X": 2.8912830352783203,
          "Y": 2.8873629570007324,
          "label": "1"
         },
         {
          "X": 2.9371285438537598,
          "Y": 2.741173505783081,
          "label": "1"
         },
         {
          "X": 2.2464852333068848,
          "Y": 2.8018155097961426,
          "label": "1"
         },
         {
          "X": 2.5442869663238525,
          "Y": 3.0072519779205322,
          "label": "1"
         },
         {
          "X": 2.1934423446655273,
          "Y": 2.628742218017578,
          "label": "1"
         },
         {
          "X": 2.9603042602539062,
          "Y": 2.694732427597046,
          "label": "1"
         },
         {
          "X": 2.9419498443603516,
          "Y": 2.4803240299224854,
          "label": "1"
         },
         {
          "X": 2.4398193359375,
          "Y": 2.2659871578216553,
          "label": "1"
         },
         {
          "X": 2.878967761993408,
          "Y": 2.3705012798309326,
          "label": "1"
         },
         {
          "X": 2.2224931716918945,
          "Y": 2.517465829849243,
          "label": "1"
         },
         {
          "X": 2.6187453269958496,
          "Y": 2.2509536743164062,
          "label": "1"
         },
         {
          "X": 2.625823974609375,
          "Y": 2.258180618286133,
          "label": "1"
         },
         {
          "X": 2.543797254562378,
          "Y": 3.007333517074585,
          "label": "5"
         },
         {
          "X": 2.306102752685547,
          "Y": 2.366645097732544,
          "label": "5"
         },
         {
          "X": 1.748095989227295,
          "Y": 0.6587733626365662,
          "label": "5"
         },
         {
          "X": -2.8202273845672607,
          "Y": -1.0758754014968872,
          "label": "5"
         },
         {
          "X": -1.4102113246917725,
          "Y": -2.254967451095581,
          "label": "5"
         },
         {
          "X": 2.152822256088257,
          "Y": -2.320936918258667,
          "label": "5"
         },
         {
          "X": 2.8405723571777344,
          "Y": -2.171485424041748,
          "label": "5"
         },
         {
          "X": 2.7135024070739746,
          "Y": -2.0875942707061768,
          "label": "2"
         },
         {
          "X": 2.8389880657196045,
          "Y": -2.6242871284484863,
          "label": "2"
         },
         {
          "X": 2.4619853496551514,
          "Y": -2.0491230487823486,
          "label": "2"
         },
         {
          "X": 2.1392359733581543,
          "Y": -2.347888469696045,
          "label": "2"
         },
         {
          "X": -2.6080210208892822,
          "Y": -1.2566932439804077,
          "label": "2"
         },
         {
          "X": 2.4199674129486084,
          "Y": -2.060239315032959,
          "label": "2"
         },
         {
          "X": 5.426340579986572,
          "Y": 0.20851768553256989,
          "label": "2"
         },
         {
          "X": 2.761040210723877,
          "Y": -2.1296300888061523,
          "label": "2"
         },
         {
          "X": -1.4320076704025269,
          "Y": -2.2735259532928467,
          "label": "2"
         },
         {
          "X": 2.7266557216644287,
          "Y": -2.722041368484497,
          "label": "2"
         },
         {
          "X": 2.901585578918457,
          "Y": -2.348997116088867,
          "label": "2"
         },
         {
          "X": 2.441685914993286,
          "Y": -2.059757947921753,
          "label": "2"
         },
         {
          "X": 0.16797424852848053,
          "Y": 5.079665660858154,
          "label": "2"
         },
         {
          "X": 2.404136896133423,
          "Y": -2.7928667068481445,
          "label": "2"
         },
         {
          "X": 2.5601587295532227,
          "Y": -2.8084118366241455,
          "label": "2"
         },
         {
          "X": 5.180116176605225,
          "Y": 0.1094699576497078,
          "label": "2"
         },
         {
          "X": 2.8005850315093994,
          "Y": -2.6674256324768066,
          "label": "2"
         },
         {
          "X": 2.9033491611480713,
          "Y": -2.3615097999572754,
          "label": "2"
         },
         {
          "X": 2.2934813499450684,
          "Y": -2.7484757900238037,
          "label": "2"
         },
         {
          "X": 2.4228971004486084,
          "Y": -2.0547893047332764,
          "label": "2"
         },
         {
          "X": 2.1546339988708496,
          "Y": -2.583172559738159,
          "label": "2"
         },
         {
          "X": 2.8594515323638916,
          "Y": -2.586054801940918,
          "label": "2"
         },
         {
          "X": 2.8079793453216553,
          "Y": -2.13700008392334,
          "label": "2"
         },
         {
          "X": -0.762840986251831,
          "Y": -3.2917401790618896,
          "label": "2"
         },
         {
          "X": 2.1388628482818604,
          "Y": -2.3627126216888428,
          "label": "2"
         },
         {
          "X": 2.561793804168701,
          "Y": -2.794410467147827,
          "label": "2"
         },
         {
          "X": 2.2393414974212646,
          "Y": -2.182905912399292,
          "label": "3"
         },
         {
          "X": 2.2932207584381104,
          "Y": -2.7232167720794678,
          "label": "3"
         },
         {
          "X": 2.1665165424346924,
          "Y": -2.609708070755005,
          "label": "3"
         },
         {
          "X": 5.3022661209106445,
          "Y": -0.07056976854801178,
          "label": "3"
         },
         {
          "X": 6.039826393127441,
          "Y": -1.6761723756790161,
          "label": "3"
         },
         {
          "X": 0.3160306513309479,
          "Y": -0.331006795167923,
          "label": "3"
         },
         {
          "X": -0.10211388766765594,
          "Y": 5.061892509460449,
          "label": "3"
         },
         {
          "X": -0.8784226179122925,
          "Y": -2.9398410320281982,
          "label": "3"
         },
         {
          "X": -4.237224578857422,
          "Y": -0.27135083079338074,
          "label": "3"
         },
         {
          "X": 0.31598979234695435,
          "Y": -0.3310700058937073,
          "label": "3"
         },
         {
          "X": 0.31599169969558716,
          "Y": -0.33106815814971924,
          "label": "3"
         },
         {
          "X": 0.3159916400909424,
          "Y": -0.33106809854507446,
          "label": "3"
         },
         {
          "X": 0.3159918785095215,
          "Y": -0.33106836676597595,
          "label": "3"
         },
         {
          "X": 0.31599175930023193,
          "Y": -0.3310682475566864,
          "label": "3"
         },
         {
          "X": 1.0668134689331055,
          "Y": 0.664832353591919,
          "label": "3"
         },
         {
          "X": 1.5343326330184937,
          "Y": 0.6853973269462585,
          "label": "3"
         },
         {
          "X": 2.7031078338623047,
          "Y": 0.13478679955005646,
          "label": "4"
         },
         {
          "X": 4.558592796325684,
          "Y": 0.26850444078445435,
          "label": "4"
         },
         {
          "X": 0.3159765899181366,
          "Y": -0.33107325434684753,
          "label": "4"
         },
         {
          "X": -3.7184247970581055,
          "Y": -0.28975415229797363,
          "label": "4"
         },
         {
          "X": -2.2857604026794434,
          "Y": -1.558793067932129,
          "label": "4"
         },
         {
          "X": 0.30909019708633423,
          "Y": -0.3288470506668091,
          "label": "4"
         },
         {
          "X": 5.570727825164795,
          "Y": 2.2062675952911377,
          "label": "4"
         },
         {
          "X": 5.5714921951293945,
          "Y": 2.2058370113372803,
          "label": "4"
         },
         {
          "X": -1.9143972396850586,
          "Y": -1.8303275108337402,
          "label": "4"
         },
         {
          "X": 0.30909761786460876,
          "Y": -0.32884302735328674,
          "label": "4"
         },
         {
          "X": 0.31598979234695435,
          "Y": -0.3310698866844177,
          "label": "4"
         },
         {
          "X": 5.616199016571045,
          "Y": -1.8175362348556519,
          "label": "4"
         },
         {
          "X": -0.6439106464385986,
          "Y": -3.4395575523376465,
          "label": "4"
         },
         {
          "X": 0.3159916400909424,
          "Y": -0.33106836676597595,
          "label": "4"
         },
         {
          "X": 0.31598979234695435,
          "Y": -0.3310700058937073,
          "label": "4"
         },
         {
          "X": 0.31599161028862,
          "Y": -0.3310682773590088,
          "label": "4"
         },
         {
          "X": 0.3090975880622864,
          "Y": -0.3288429081439972,
          "label": "4"
         },
         {
          "X": 0.4456184208393097,
          "Y": 5.0691022872924805,
          "label": "4"
         },
         {
          "X": 0.44633087515830994,
          "Y": 5.073648929595947,
          "label": "4"
         },
         {
          "X": -0.6305503845214844,
          "Y": -3.282536029815674,
          "label": "4"
         }
        ]
       },
       "encoding": {
        "color": {
         "field": "label",
         "type": "nominal"
        },
        "x": {
         "field": "X",
         "type": "quantitative"
        },
        "y": {
         "field": "Y",
         "type": "quantitative"
        }
       },
       "mark": {
        "size": 60,
        "type": "circle"
       },
       "selection": {
        "selector013": {
         "bind": "scales",
         "encodings": [
          "x",
          "y"
         ],
         "mark": {
          "fill": "#333",
          "fillOpacity": 0.125,
          "stroke": "white"
         },
         "on": "[mousedown, window:mouseup] > window:mousemove!",
         "resolve": "global",
         "translate": "[mousedown, window:mouseup] > window:mousemove!",
         "type": "interval",
         "zoom": "wheel!"
        }
       }
      },
      "image/png": "[encoded data removed]",
      "text/plain": [
       "<VegaLite 2 object>\n",
       "\n",
       "If you see this message, it means the renderer has not been properly enabled\n",
       "for the frontend that you are using. For more information, see\n",
       "https://altair-viz.github.io/user_guide/troubleshooting.html\n"
      ]
     },
     "metadata": {},
     "output_type": "display_data"
    },
    {
     "name": "stdout",
     "output_type": "stream",
     "text": [
      "Perplexity 45\n"
     ]
    },
    {
     "data": {
      "application/vnd.vegalite.v2+json": {
       "$schema": "https://vega.github.io/schema/vega-lite/v2.6.0.json",
       "config": {
        "view": {
         "height": 300,
         "width": 400
        }
       },
       "data": {
        "name": "data-d9262cd96b0d4756dc7f802b27061570"
       },
       "datasets": {
        "data-d9262cd96b0d4756dc7f802b27061570": [
         {
          "X": -1.2927426099777222,
          "Y": 0.657051146030426,
          "label": "1"
         },
         {
          "X": -1.3672082424163818,
          "Y": 0.9750904440879822,
          "label": "1"
         },
         {
          "X": -1.3862547874450684,
          "Y": 0.9101115465164185,
          "label": "1"
         },
         {
          "X": -4.24643087387085,
          "Y": 1.461553931236267,
          "label": "1"
         },
         {
          "X": -0.8821370005607605,
          "Y": 0.8336564302444458,
          "label": "1"
         },
         {
          "X": -1.0182404518127441,
          "Y": 1.1009204387664795,
          "label": "1"
         },
         {
          "X": -1.2189985513687134,
          "Y": 1.1110693216323853,
          "label": "1"
         },
         {
          "X": -0.9584728479385376,
          "Y": 0.6771389842033386,
          "label": "1"
         },
         {
          "X": -1.3480578660964966,
          "Y": 1.011272668838501,
          "label": "1"
         },
         {
          "X": -5.038125514984131,
          "Y": 3.654672622680664,
          "label": "1"
         },
         {
          "X": -1.2769529819488525,
          "Y": 0.6533761024475098,
          "label": "1"
         },
         {
          "X": -0.9801971316337585,
          "Y": 1.096015214920044,
          "label": "1"
         },
         {
          "X": -4.358733177185059,
          "Y": 2.9616079330444336,
          "label": "1"
         },
         {
          "X": -1.2926506996154785,
          "Y": 0.6569880247116089,
          "label": "1"
         },
         {
          "X": -1.3087854385375977,
          "Y": 0.6710659861564636,
          "label": "1"
         },
         {
          "X": -1.2381846904754639,
          "Y": 1.0969936847686768,
          "label": "1"
         },
         {
          "X": -0.8975744247436523,
          "Y": 0.9663321375846863,
          "label": "1"
         },
         {
          "X": -0.9355148077011108,
          "Y": 0.7024491429328918,
          "label": "1"
         },
         {
          "X": -1.053112268447876,
          "Y": 0.6228384971618652,
          "label": "1"
         },
         {
          "X": -3.2542800903320312,
          "Y": 2.077341079711914,
          "label": "1"
         },
         {
          "X": -1.018222451210022,
          "Y": 1.1009801626205444,
          "label": "1"
         },
         {
          "X": -1.0182251930236816,
          "Y": 1.1009823083877563,
          "label": "1"
         },
         {
          "X": -0.8821381330490112,
          "Y": 0.8336482048034668,
          "label": "1"
         },
         {
          "X": -0.9588015079498291,
          "Y": 0.6768244504928589,
          "label": "1"
         },
         {
          "X": 0.8389325737953186,
          "Y": -0.873370349407196,
          "label": "1"
         },
         {
          "X": -4.242453098297119,
          "Y": 2.3640542030334473,
          "label": "1"
         },
         {
          "X": -1.3696261644363403,
          "Y": 0.9686117768287659,
          "label": "1"
         },
         {
          "X": -3.7782487869262695,
          "Y": 2.14959454536438,
          "label": "1"
         },
         {
          "X": -1.7027217149734497,
          "Y": 4.003786087036133,
          "label": "1"
         },
         {
          "X": -4.444089889526367,
          "Y": 4.3856916427612305,
          "label": "1"
         },
         {
          "X": -3.567711353302002,
          "Y": 5.783260822296143,
          "label": "1"
         },
         {
          "X": 3.2491543292999268,
          "Y": 2.5403850078582764,
          "label": "1"
         },
         {
          "X": -1.179150938987732,
          "Y": 4.259758949279785,
          "label": "1"
         },
         {
          "X": -1.2901896238327026,
          "Y": 4.304051876068115,
          "label": "1"
         },
         {
          "X": -1.0559208393096924,
          "Y": 4.034055709838867,
          "label": "1"
         },
         {
          "X": -1.2945835590362549,
          "Y": 4.304595947265625,
          "label": "1"
         },
         {
          "X": -1.4220353364944458,
          "Y": 3.645872116088867,
          "label": "1"
         },
         {
          "X": -1.7016812562942505,
          "Y": 3.986781120300293,
          "label": "1"
         },
         {
          "X": -1.064136028289795,
          "Y": 4.093399524688721,
          "label": "1"
         },
         {
          "X": -1.2294882535934448,
          "Y": 4.288966655731201,
          "label": "1"
         },
         {
          "X": -1.1266518831253052,
          "Y": 3.764061212539673,
          "label": "1"
         },
         {
          "X": -1.2657113075256348,
          "Y": 4.298414707183838,
          "label": "1"
         },
         {
          "X": -3.5316731929779053,
          "Y": 5.793407917022705,
          "label": "1"
         },
         {
          "X": -1.6171659231185913,
          "Y": 3.734473466873169,
          "label": "1"
         },
         {
          "X": -1.1040732860565186,
          "Y": 3.8210861682891846,
          "label": "1"
         },
         {
          "X": -1.4287018775939941,
          "Y": 3.646669626235962,
          "label": "1"
         },
         {
          "X": -1.616294503211975,
          "Y": 3.7345383167266846,
          "label": "1"
         },
         {
          "X": -1.5835340023040771,
          "Y": 4.232470512390137,
          "label": "1"
         },
         {
          "X": -1.5823087692260742,
          "Y": 4.234355926513672,
          "label": "1"
         },
         {
          "X": -1.431559681892395,
          "Y": 3.6469740867614746,
          "label": "1"
         },
         {
          "X": -1.3503077030181885,
          "Y": 3.6434922218322754,
          "label": "1"
         },
         {
          "X": -1.701570987701416,
          "Y": 3.926429510116577,
          "label": "1"
         },
         {
          "X": -1.7007569074630737,
          "Y": 3.902463674545288,
          "label": "1"
         },
         {
          "X": -1.08141028881073,
          "Y": 3.8237907886505127,
          "label": "1"
         },
         {
          "X": -1.0641367435455322,
          "Y": 4.09340238571167,
          "label": "1"
         },
         {
          "X": -1.126612663269043,
          "Y": 3.7641077041625977,
          "label": "5"
         },
         {
          "X": -1.5835026502609253,
          "Y": 4.232502460479736,
          "label": "5"
         },
         {
          "X": 0.17748962342739105,
          "Y": 2.7939352989196777,
          "label": "5"
         },
         {
          "X": -0.7842060923576355,
          "Y": 7.143219470977783,
          "label": "5"
         },
         {
          "X": -2.396695852279663,
          "Y": 6.495650291442871,
          "label": "5"
         },
         {
          "X": 1.6390326023101807,
          "Y": 4.214663505554199,
          "label": "5"
         },
         {
          "X": 1.6105844974517822,
          "Y": 4.805847644805908,
          "label": "5"
         },
         {
          "X": 1.9754518270492554,
          "Y": 4.806501388549805,
          "label": "2"
         },
         {
          "X": 1.9959511756896973,
          "Y": 4.222902297973633,
          "label": "2"
         },
         {
          "X": 1.4893639087677002,
          "Y": 4.65976095199585,
          "label": "2"
         },
         {
          "X": 1.4710922241210938,
          "Y": 4.446963787078857,
          "label": "2"
         },
         {
          "X": -0.9239909052848816,
          "Y": 6.941286563873291,
          "label": "2"
         },
         {
          "X": 2.153073787689209,
          "Y": 4.521115303039551,
          "label": "2"
         },
         {
          "X": -4.043010234832764,
          "Y": 1.8305585384368896,
          "label": "2"
         },
         {
          "X": 1.997066617012024,
          "Y": 4.22361946105957,
          "label": "2"
         },
         {
          "X": -2.343705415725708,
          "Y": 6.383175849914551,
          "label": "2"
         },
         {
          "X": 1.6091386079788208,
          "Y": 4.800001621246338,
          "label": "2"
         },
         {
          "X": 2.1528427600860596,
          "Y": 4.512344837188721,
          "label": "2"
         },
         {
          "X": 1.4625015258789062,
          "Y": 4.52479362487793,
          "label": "2"
         },
         {
          "X": 1.0982781648635864,
          "Y": 7.397428512573242,
          "label": "2"
         },
         {
          "X": 1.9517614841461182,
          "Y": 4.820479869842529,
          "label": "2"
         },
         {
          "X": 1.5359898805618286,
          "Y": 4.31619930267334,
          "label": "2"
         },
         {
          "X": -3.883619785308838,
          "Y": 2.082695722579956,
          "label": "2"
         },
         {
          "X": 2.143423080444336,
          "Y": 4.448156356811523,
          "label": "2"
         },
         {
          "X": 1.6004732847213745,
          "Y": 4.802443981170654,
          "label": "2"
         },
         {
          "X": 1.5957993268966675,
          "Y": 4.792853832244873,
          "label": "2"
         },
         {
          "X": 1.9960564374923706,
          "Y": 4.222970962524414,
          "label": "2"
         },
         {
          "X": 1.6138279438018799,
          "Y": 4.231861114501953,
          "label": "2"
         },
         {
          "X": 1.4625015258789062,
          "Y": 4.524778842926025,
          "label": "2"
         },
         {
          "X": 1.9389551877975464,
          "Y": 4.82702112197876,
          "label": "2"
         },
         {
          "X": -3.633936882019043,
          "Y": 5.713198184967041,
          "label": "2"
         },
         {
          "X": 1.6339678764343262,
          "Y": 4.218447685241699,
          "label": "2"
         },
         {
          "X": 2.1530709266662598,
          "Y": 4.521144866943359,
          "label": "2"
         },
         {
          "X": 1.781857967376709,
          "Y": 4.173947811126709,
          "label": "3"
         },
         {
          "X": 1.994402527809143,
          "Y": 4.221896648406982,
          "label": "3"
         },
         {
          "X": 1.9787143468856812,
          "Y": 4.806633472442627,
          "label": "3"
         },
         {
          "X": -4.027653217315674,
          "Y": 2.141002893447876,
          "label": "3"
         },
         {
          "X": -4.840961933135986,
          "Y": 3.738065004348755,
          "label": "3"
         },
         {
          "X": 1.3764678239822388,
          "Y": 1.7152988910675049,
          "label": "3"
         },
         {
          "X": 0.7989262938499451,
          "Y": 7.408423900604248,
          "label": "3"
         },
         {
          "X": -3.1756138801574707,
          "Y": 5.930630207061768,
          "label": "3"
         },
         {
          "X": -0.8537896275520325,
          "Y": 8.26220417022705,
          "label": "3"
         },
         {
          "X": 1.376796841621399,
          "Y": 1.7135568857192993,
          "label": "3"
         },
         {
          "X": 1.3764065504074097,
          "Y": 1.7153254747390747,
          "label": "3"
         },
         {
          "X": 1.3767966032028198,
          "Y": 1.7135571241378784,
          "label": "3"
         },
         {
          "X": 1.3767966032028198,
          "Y": 1.7135570049285889,
          "label": "3"
         },
         {
          "X": 1.3764065504074097,
          "Y": 1.7153255939483643,
          "label": "3"
         },
         {
          "X": 0.13727474212646484,
          "Y": 2.776078462600708,
          "label": "3"
         },
         {
          "X": 0.13577401638031006,
          "Y": 2.7662127017974854,
          "label": "3"
         },
         {
          "X": 3.3775382041931152,
          "Y": 2.522735357284546,
          "label": "4"
         },
         {
          "X": -3.304426670074463,
          "Y": 2.058302164077759,
          "label": "4"
         },
         {
          "X": 1.3763948678970337,
          "Y": 1.7153215408325195,
          "label": "4"
         },
         {
          "X": -0.8590890765190125,
          "Y": 8.260187149047852,
          "label": "4"
         },
         {
          "X": -1.2921197414398193,
          "Y": 6.745254039764404,
          "label": "4"
         },
         {
          "X": 1.376798391342163,
          "Y": 1.713569164276123,
          "label": "4"
         },
         {
          "X": 0.8815580606460571,
          "Y": -0.8803650736808777,
          "label": "4"
         },
         {
          "X": 0.8829448223114014,
          "Y": -0.874698281288147,
          "label": "4"
         },
         {
          "X": -1.692867398262024,
          "Y": 6.554782867431641,
          "label": "4"
         },
         {
          "X": 1.3764064311981201,
          "Y": 1.7153252363204956,
          "label": "4"
         },
         {
          "X": 1.3764065504074097,
          "Y": 1.7153255939483643,
          "label": "4"
         },
         {
          "X": -4.509477138519287,
          "Y": 4.15786075592041,
          "label": "4"
         },
         {
          "X": -3.7774641513824463,
          "Y": 5.598869323730469,
          "label": "4"
         },
         {
          "X": 1.3764065504074097,
          "Y": 1.7153255939483643,
          "label": "4"
         },
         {
          "X": 1.3764066696166992,
          "Y": 1.7153254747390747,
          "label": "4"
         },
         {
          "X": 1.3764066696166992,
          "Y": 1.7153257131576538,
          "label": "4"
         },
         {
          "X": 1.3764065504074097,
          "Y": 1.7153252363204956,
          "label": "4"
         },
         {
          "X": 1.4585431814193726,
          "Y": 7.366703510284424,
          "label": "4"
         },
         {
          "X": 1.308312177658081,
          "Y": 7.355048179626465,
          "label": "4"
         },
         {
          "X": -3.490798234939575,
          "Y": 5.806385040283203,
          "label": "4"
         }
        ]
       },
       "encoding": {
        "color": {
         "field": "label",
         "type": "nominal"
        },
        "x": {
         "field": "X",
         "type": "quantitative"
        },
        "y": {
         "field": "Y",
         "type": "quantitative"
        }
       },
       "mark": {
        "size": 60,
        "type": "circle"
       },
       "selection": {
        "selector014": {
         "bind": "scales",
         "encodings": [
          "x",
          "y"
         ],
         "mark": {
          "fill": "#333",
          "fillOpacity": 0.125,
          "stroke": "white"
         },
         "on": "[mousedown, window:mouseup] > window:mousemove!",
         "resolve": "global",
         "translate": "[mousedown, window:mouseup] > window:mousemove!",
         "type": "interval",
         "zoom": "wheel!"
        }
       }
      },
      "image/png": "[encoded data removed]",
      "text/plain": [
       "<VegaLite 2 object>\n",
       "\n",
       "If you see this message, it means the renderer has not been properly enabled\n",
       "for the frontend that you are using. For more information, see\n",
       "https://altair-viz.github.io/user_guide/troubleshooting.html\n"
      ]
     },
     "metadata": {},
     "output_type": "display_data"
    },
    {
     "name": "stdout",
     "output_type": "stream",
     "text": [
      "Perplexity 50\n"
     ]
    },
    {
     "data": {
      "application/vnd.vegalite.v2+json": {
       "$schema": "https://vega.github.io/schema/vega-lite/v2.6.0.json",
       "config": {
        "view": {
         "height": 300,
         "width": 400
        }
       },
       "data": {
        "name": "data-010dfa0831afb1f25aced3ea8cf4aa7e"
       },
       "datasets": {
        "data-010dfa0831afb1f25aced3ea8cf4aa7e": [
         {
          "X": -0.968094527721405,
          "Y": 2.429547071456909,
          "label": "1"
         },
         {
          "X": -1.100438117980957,
          "Y": 2.581244945526123,
          "label": "1"
         },
         {
          "X": -0.9681061506271362,
          "Y": 2.4295437335968018,
          "label": "1"
         },
         {
          "X": -3.286298990249634,
          "Y": 4.6864166259765625,
          "label": "1"
         },
         {
          "X": -1.0977559089660645,
          "Y": 2.5854976177215576,
          "label": "1"
         },
         {
          "X": -0.9087389707565308,
          "Y": 2.5678465366363525,
          "label": "1"
         },
         {
          "X": -1.1004467010498047,
          "Y": 2.581214189529419,
          "label": "1"
         },
         {
          "X": -0.9679476618766785,
          "Y": 2.4295849800109863,
          "label": "1"
         },
         {
          "X": -0.918081521987915,
          "Y": 2.584174394607544,
          "label": "1"
         },
         {
          "X": -1.4514997005462646,
          "Y": 5.561089515686035,
          "label": "1"
         },
         {
          "X": -1.1004447937011719,
          "Y": 2.5812184810638428,
          "label": "1"
         },
         {
          "X": -0.9679540395736694,
          "Y": 2.4295835494995117,
          "label": "1"
         },
         {
          "X": -2.0710608959198,
          "Y": 4.860434055328369,
          "label": "1"
         },
         {
          "X": -0.9679546356201172,
          "Y": 2.4295828342437744,
          "label": "1"
         },
         {
          "X": -1.0998411178588867,
          "Y": 2.5823044776916504,
          "label": "1"
         },
         {
          "X": -0.9088393449783325,
          "Y": 2.5680575370788574,
          "label": "1"
         },
         {
          "X": -0.903567910194397,
          "Y": 2.490861654281616,
          "label": "1"
         },
         {
          "X": -0.9018515348434448,
          "Y": 2.499793767929077,
          "label": "1"
         },
         {
          "X": -0.9546409845352173,
          "Y": 2.4335503578186035,
          "label": "1"
         },
         {
          "X": -2.7838478088378906,
          "Y": 3.725015878677368,
          "label": "1"
         },
         {
          "X": -1.0977611541748047,
          "Y": 2.5854902267456055,
          "label": "1"
         },
         {
          "X": -1.1004447937011719,
          "Y": 2.5812172889709473,
          "label": "1"
         },
         {
          "X": -0.9076989889144897,
          "Y": 2.5655579566955566,
          "label": "1"
         },
         {
          "X": -0.9679421782493591,
          "Y": 2.429586410522461,
          "label": "1"
         },
         {
          "X": -4.136189937591553,
          "Y": 3.2236578464508057,
          "label": "1"
         },
         {
          "X": -2.5873093605041504,
          "Y": 4.671884059906006,
          "label": "1"
         },
         {
          "X": -1.100551724433899,
          "Y": 2.5807864665985107,
          "label": "1"
         },
         {
          "X": -2.7476894855499268,
          "Y": 4.208399772644043,
          "label": "1"
         },
         {
          "X": 1.4399244785308838,
          "Y": 1.2523047924041748,
          "label": "1"
         },
         {
          "X": -0.8882681727409363,
          "Y": 5.040621757507324,
          "label": "1"
         },
         {
          "X": -1.9324023723602295,
          "Y": -0.6130993366241455,
          "label": "1"
         },
         {
          "X": 1.159021019935608,
          "Y": -0.9413228034973145,
          "label": "1"
         },
         {
          "X": 1.1499028205871582,
          "Y": 1.3902217149734497,
          "label": "1"
         },
         {
          "X": 1.2133170366287231,
          "Y": 0.8887091875076294,
          "label": "1"
         },
         {
          "X": 1.2133201360702515,
          "Y": 0.8887093663215637,
          "label": "1"
         },
         {
          "X": 1.213316559791565,
          "Y": 0.888709306716919,
          "label": "1"
         },
         {
          "X": 1.351667046546936,
          "Y": 1.3576009273529053,
          "label": "1"
         },
         {
          "X": 1.4325789213180542,
          "Y": 1.0245234966278076,
          "label": "1"
         },
         {
          "X": 0.9995375871658325,
          "Y": 1.0404008626937866,
          "label": "1"
         },
         {
          "X": 0.9770009517669678,
          "Y": 1.1332579851150513,
          "label": "1"
         },
         {
          "X": 1.438833475112915,
          "Y": 1.2552335262298584,
          "label": "1"
         },
         {
          "X": 1.269640326499939,
          "Y": 1.3974562883377075,
          "label": "1"
         },
         {
          "X": 0.3069837689399719,
          "Y": 3.681226968765259,
          "label": "1"
         },
         {
          "X": 1.0905636548995972,
          "Y": 1.363072395324707,
          "label": "1"
         },
         {
          "X": 1.2133116722106934,
          "Y": 0.8887091279029846,
          "label": "1"
         },
         {
          "X": 1.2133214473724365,
          "Y": 0.8887103796005249,
          "label": "1"
         },
         {
          "X": 1.2133108377456665,
          "Y": 0.8887089490890503,
          "label": "1"
         },
         {
          "X": 1.4325615167617798,
          "Y": 1.0244872570037842,
          "label": "1"
         },
         {
          "X": 1.1246602535247803,
          "Y": 1.3815326690673828,
          "label": "1"
         },
         {
          "X": 1.4325575828552246,
          "Y": 1.0244807004928589,
          "label": "1"
         },
         {
          "X": 0.9784193634986877,
          "Y": 1.1150603294372559,
          "label": "1"
         },
         {
          "X": 1.1346749067306519,
          "Y": 1.3860760927200317,
          "label": "1"
         },
         {
          "X": 0.9780024886131287,
          "Y": 1.1299301385879517,
          "label": "1"
         },
         {
          "X": 1.0905007123947144,
          "Y": 1.3630316257476807,
          "label": "1"
         },
         {
          "X": 1.1522583961486816,
          "Y": 1.391076683998108,
          "label": "1"
         },
         {
          "X": 0.9999938607215881,
          "Y": 1.0392060279846191,
          "label": "5"
         },
         {
          "X": 1.4397649765014648,
          "Y": 1.2525742053985596,
          "label": "5"
         },
         {
          "X": 0.1304762214422226,
          "Y": -1.0729321241378784,
          "label": "5"
         },
         {
          "X": 2.5207223892211914,
          "Y": 3.3133699893951416,
          "label": "5"
         },
         {
          "X": 1.1239088773727417,
          "Y": 4.259840488433838,
          "label": "5"
         },
         {
          "X": -3.0222039222717285,
          "Y": 1.2697299718856812,
          "label": "5"
         },
         {
          "X": -3.227231025695801,
          "Y": 1.1736139059066772,
          "label": "5"
         },
         {
          "X": -3.23284649848938,
          "Y": 1.1655008792877197,
          "label": "2"
         },
         {
          "X": -3.260239839553833,
          "Y": 0.9295205473899841,
          "label": "2"
         },
         {
          "X": -3.025155544281006,
          "Y": 1.2722383737564087,
          "label": "2"
         },
         {
          "X": -2.896714210510254,
          "Y": 1.2258832454681396,
          "label": "2"
         },
         {
          "X": 2.3756747245788574,
          "Y": 3.406766414642334,
          "label": "2"
         },
         {
          "X": -3.027698278427124,
          "Y": 1.2719216346740723,
          "label": "2"
         },
         {
          "X": -2.9956870079040527,
          "Y": 4.456571578979492,
          "label": "2"
         },
         {
          "X": -2.7951314449310303,
          "Y": 0.9923529028892517,
          "label": "2"
         },
         {
          "X": 1.1174460649490356,
          "Y": 4.017319679260254,
          "label": "2"
         },
         {
          "X": -3.2189066410064697,
          "Y": 0.847698986530304,
          "label": "2"
         },
         {
          "X": -2.793987274169922,
          "Y": 0.9893518686294556,
          "label": "2"
         },
         {
          "X": -3.011470317840576,
          "Y": 0.7602114677429199,
          "label": "2"
         },
         {
          "X": -0.8892267346382141,
          "Y": -2.471320390701294,
          "label": "2"
         },
         {
          "X": -2.8967506885528564,
          "Y": 1.2259100675582886,
          "label": "2"
         },
         {
          "X": -3.0023608207702637,
          "Y": 0.7605274319648743,
          "label": "2"
         },
         {
          "X": -2.845473527908325,
          "Y": 4.289650917053223,
          "label": "2"
         },
         {
          "X": -2.9995744228363037,
          "Y": 0.7619003653526306,
          "label": "2"
         },
         {
          "X": -2.7939867973327637,
          "Y": 0.9893529415130615,
          "label": "2"
         },
         {
          "X": -3.0001511573791504,
          "Y": 0.7632977962493896,
          "label": "2"
         },
         {
          "X": -3.264702558517456,
          "Y": 0.9362340569496155,
          "label": "2"
         },
         {
          "X": -3.0281894207000732,
          "Y": 1.2744958400726318,
          "label": "2"
         },
         {
          "X": -2.794023036956787,
          "Y": 0.9890420436859131,
          "label": "2"
         },
         {
          "X": -3.2609691619873047,
          "Y": 0.9318810105323792,
          "label": "2"
         },
         {
          "X": 0.38226351141929626,
          "Y": 4.126758098602295,
          "label": "2"
         },
         {
          "X": -2.794023036956787,
          "Y": 0.9890407919883728,
          "label": "2"
         },
         {
          "X": -3.2327191829681396,
          "Y": 1.165692925453186,
          "label": "2"
         },
         {
          "X": -3.004307270050049,
          "Y": 1.2701846361160278,
          "label": "3"
         },
         {
          "X": -3.0114710330963135,
          "Y": 0.760211706161499,
          "label": "3"
         },
         {
          "X": -3.0033178329467773,
          "Y": 0.7620400190353394,
          "label": "3"
         },
         {
          "X": -2.7225348949432373,
          "Y": 4.468432903289795,
          "label": "3"
         },
         {
          "X": -1.3962353467941284,
          "Y": 5.376428604125977,
          "label": "3"
         },
         {
          "X": -0.8502443432807922,
          "Y": 0.19889698922634125,
          "label": "3"
         },
         {
          "X": -0.772179126739502,
          "Y": -2.533017635345459,
          "label": "3"
         },
         {
          "X": 0.5618849396705627,
          "Y": 3.874197006225586,
          "label": "3"
         },
         {
          "X": -3.2102866172790527,
          "Y": -1.9579471349716187,
          "label": "3"
         },
         {
          "X": -0.8502618074417114,
          "Y": 0.19893211126327515,
          "label": "3"
         },
         {
          "X": -0.850238025188446,
          "Y": 0.19891569018363953,
          "label": "3"
         },
         {
          "X": -0.8496831655502319,
          "Y": 0.1993347555398941,
          "label": "3"
         },
         {
          "X": -0.8496832847595215,
          "Y": 0.19933481514453888,
          "label": "3"
         },
         {
          "X": -0.8502383232116699,
          "Y": 0.19891585409641266,
          "label": "3"
         },
         {
          "X": -0.8207051157951355,
          "Y": 1.151813268661499,
          "label": "3"
         },
         {
          "X": 0.010472845286130905,
          "Y": -0.8587315678596497,
          "label": "3"
         },
         {
          "X": 1.2028664350509644,
          "Y": -1.0925629138946533,
          "label": "4"
         },
         {
          "X": -2.795776605606079,
          "Y": 3.772143840789795,
          "label": "4"
         },
         {
          "X": -0.8500742316246033,
          "Y": 0.19868077337741852,
          "label": "4"
         },
         {
          "X": -3.2141482830047607,
          "Y": -1.9584277868270874,
          "label": "4"
         },
         {
          "X": 2.07137393951416,
          "Y": 3.57698130607605,
          "label": "4"
         },
         {
          "X": -0.8502591848373413,
          "Y": 0.19892942905426025,
          "label": "4"
         },
         {
          "X": -4.2196784019470215,
          "Y": 3.1199913024902344,
          "label": "4"
         },
         {
          "X": -4.219046592712402,
          "Y": 3.1212921142578125,
          "label": "4"
         },
         {
          "X": 1.6619285345077515,
          "Y": 3.7483413219451904,
          "label": "4"
         },
         {
          "X": -0.8502382636070251,
          "Y": 0.1989155411720276,
          "label": "4"
         },
         {
          "X": -0.8496831059455872,
          "Y": 0.19933469593524933,
          "label": "4"
         },
         {
          "X": -1.1053040027618408,
          "Y": 5.088021755218506,
          "label": "4"
         },
         {
          "X": -2.0489768981933594,
          "Y": -0.8660359978675842,
          "label": "4"
         },
         {
          "X": -0.8502618670463562,
          "Y": 0.1989319622516632,
          "label": "4"
         },
         {
          "X": -0.8502385020256042,
          "Y": 0.19891607761383057,
          "label": "4"
         },
         {
          "X": -0.8496720194816589,
          "Y": 0.19892475008964539,
          "label": "4"
         },
         {
          "X": -0.8502616286277771,
          "Y": 0.1989322006702423,
          "label": "4"
         },
         {
          "X": -0.5258117318153381,
          "Y": -2.36336350440979,
          "label": "4"
         },
         {
          "X": -1.4109556674957275,
          "Y": -2.3432188034057617,
          "label": "4"
         },
         {
          "X": 0.33529818058013916,
          "Y": 3.700730323791504,
          "label": "4"
         }
        ]
       },
       "encoding": {
        "color": {
         "field": "label",
         "type": "nominal"
        },
        "x": {
         "field": "X",
         "type": "quantitative"
        },
        "y": {
         "field": "Y",
         "type": "quantitative"
        }
       },
       "mark": {
        "size": 60,
        "type": "circle"
       },
       "selection": {
        "selector015": {
         "bind": "scales",
         "encodings": [
          "x",
          "y"
         ],
         "mark": {
          "fill": "#333",
          "fillOpacity": 0.125,
          "stroke": "white"
         },
         "on": "[mousedown, window:mouseup] > window:mousemove!",
         "resolve": "global",
         "translate": "[mousedown, window:mouseup] > window:mousemove!",
         "type": "interval",
         "zoom": "wheel!"
        }
       }
      },
      "image/png": "[encoded data removed]",
      "text/plain": [
       "<VegaLite 2 object>\n",
       "\n",
       "If you see this message, it means the renderer has not been properly enabled\n",
       "for the frontend that you are using. For more information, see\n",
       "https://altair-viz.github.io/user_guide/troubleshooting.html\n"
      ]
     },
     "metadata": {},
     "output_type": "display_data"
    },
    {
     "name": "stdout",
     "output_type": "stream",
     "text": [
      "Perplexity 60\n"
     ]
    },
    {
     "data": {
      "application/vnd.vegalite.v2+json": {
       "$schema": "https://vega.github.io/schema/vega-lite/v2.6.0.json",
       "config": {
        "view": {
         "height": 300,
         "width": 400
        }
       },
       "data": {
        "name": "data-947e35f7eef1f9210f6d20f9138818cd"
       },
       "datasets": {
        "data-947e35f7eef1f9210f6d20f9138818cd": [
         {
          "X": 6.327996730804443,
          "Y": -9.361639976501465,
          "label": "1"
         },
         {
          "X": 6.327972888946533,
          "Y": -9.361664772033691,
          "label": "1"
         },
         {
          "X": 6.327981948852539,
          "Y": -9.361655235290527,
          "label": "1"
         },
         {
          "X": 9.4375,
          "Y": -12.489141464233398,
          "label": "1"
         },
         {
          "X": 6.27897310256958,
          "Y": -9.332008361816406,
          "label": "1"
         },
         {
          "X": 6.279969215393066,
          "Y": -9.332669258117676,
          "label": "1"
         },
         {
          "X": 6.276429653167725,
          "Y": -9.33028507232666,
          "label": "1"
         },
         {
          "X": 6.279374122619629,
          "Y": -9.33227252960205,
          "label": "1"
         },
         {
          "X": 6.276429653167725,
          "Y": -9.33028507232666,
          "label": "1"
         },
         {
          "X": 2.817847967147827,
          "Y": -11.561569213867188,
          "label": "1"
         },
         {
          "X": 6.279969215393066,
          "Y": -9.332669258117676,
          "label": "1"
         },
         {
          "X": 6.28039026260376,
          "Y": -9.332947731018066,
          "label": "1"
         },
         {
          "X": 3.350334644317627,
          "Y": -12.269523620605469,
          "label": "1"
         },
         {
          "X": 6.279374122619629,
          "Y": -9.33227252960205,
          "label": "1"
         },
         {
          "X": 6.279969215393066,
          "Y": -9.332669258117676,
          "label": "1"
         },
         {
          "X": 6.279374122619629,
          "Y": -9.33227252960205,
          "label": "1"
         },
         {
          "X": 6.152164936065674,
          "Y": -9.286100387573242,
          "label": "1"
         },
         {
          "X": 6.152164936065674,
          "Y": -9.286100387573242,
          "label": "1"
         },
         {
          "X": 6.152164936065674,
          "Y": -9.286100387573242,
          "label": "1"
         },
         {
          "X": 8.683232307434082,
          "Y": -11.981633186340332,
          "label": "1"
         },
         {
          "X": 6.28039026260376,
          "Y": -9.332947731018066,
          "label": "1"
         },
         {
          "X": 6.279059410095215,
          "Y": -9.332073211669922,
          "label": "1"
         },
         {
          "X": 6.279969215393066,
          "Y": -9.332669258117676,
          "label": "1"
         },
         {
          "X": 6.279969215393066,
          "Y": -9.332669258117676,
          "label": "1"
         },
         {
          "X": 9.436997413635254,
          "Y": -10.878030776977539,
          "label": "1"
         },
         {
          "X": 8.955446243286133,
          "Y": -12.626853942871094,
          "label": "1"
         },
         {
          "X": 6.312562465667725,
          "Y": -9.334182739257812,
          "label": "1"
         },
         {
          "X": 8.846049308776855,
          "Y": -12.304919242858887,
          "label": "1"
         },
         {
          "X": 4.969925403594971,
          "Y": -10.975960731506348,
          "label": "1"
         },
         {
          "X": 3.230290651321411,
          "Y": -12.501070976257324,
          "label": "1"
         },
         {
          "X": 4.243471145629883,
          "Y": -12.97900390625,
          "label": "1"
         },
         {
          "X": 7.6476569175720215,
          "Y": -8.374276161193848,
          "label": "1"
         },
         {
          "X": 4.934219837188721,
          "Y": -10.631975173950195,
          "label": "1"
         },
         {
          "X": 4.934231758117676,
          "Y": -10.631973266601562,
          "label": "1"
         },
         {
          "X": 4.934232711791992,
          "Y": -10.631972312927246,
          "label": "1"
         },
         {
          "X": 4.934232711791992,
          "Y": -10.631972312927246,
          "label": "1"
         },
         {
          "X": 4.963717460632324,
          "Y": -10.974777221679688,
          "label": "1"
         },
         {
          "X": 4.934231758117676,
          "Y": -10.631973266601562,
          "label": "1"
         },
         {
          "X": 4.963454723358154,
          "Y": -10.974127769470215,
          "label": "1"
         },
         {
          "X": 4.938742637634277,
          "Y": -10.63041877746582,
          "label": "1"
         },
         {
          "X": 5.154305458068848,
          "Y": -10.89364242553711,
          "label": "1"
         },
         {
          "X": 4.939485549926758,
          "Y": -10.63018798828125,
          "label": "1"
         },
         {
          "X": 4.271309852600098,
          "Y": -12.974488258361816,
          "label": "1"
         },
         {
          "X": 5.172829627990723,
          "Y": -10.8511323928833,
          "label": "1"
         },
         {
          "X": 5.194021224975586,
          "Y": -10.848053932189941,
          "label": "1"
         },
         {
          "X": 4.934231281280518,
          "Y": -10.631974220275879,
          "label": "1"
         },
         {
          "X": 4.934231758117676,
          "Y": -10.631973266601562,
          "label": "1"
         },
         {
          "X": 5.171800136566162,
          "Y": -10.897439002990723,
          "label": "1"
         },
         {
          "X": 5.171921253204346,
          "Y": -10.886926651000977,
          "label": "1"
         },
         {
          "X": 5.172577381134033,
          "Y": -10.910688400268555,
          "label": "1"
         },
         {
          "X": 4.938368797302246,
          "Y": -10.630537033081055,
          "label": "1"
         },
         {
          "X": 5.153842926025391,
          "Y": -10.885591506958008,
          "label": "1"
         },
         {
          "X": 4.939389705657959,
          "Y": -10.630217552185059,
          "label": "1"
         },
         {
          "X": 5.177968978881836,
          "Y": -10.879437446594238,
          "label": "1"
         },
         {
          "X": 5.17333459854126,
          "Y": -10.899763107299805,
          "label": "1"
         },
         {
          "X": 4.970043659210205,
          "Y": -10.9760103225708,
          "label": "5"
         },
         {
          "X": 4.970033168792725,
          "Y": -10.976028442382812,
          "label": "5"
         },
         {
          "X": 8.526543617248535,
          "Y": -9.233366012573242,
          "label": "5"
         },
         {
          "X": 6.889277458190918,
          "Y": -14.16502857208252,
          "label": "5"
         },
         {
          "X": 5.168132781982422,
          "Y": -13.278216361999512,
          "label": "5"
         },
         {
          "X": 6.919117450714111,
          "Y": -12.01823616027832,
          "label": "5"
         },
         {
          "X": 6.725165843963623,
          "Y": -11.797586441040039,
          "label": "5"
         },
         {
          "X": 6.596146583557129,
          "Y": -12.045987129211426,
          "label": "2"
         },
         {
          "X": 6.596147060394287,
          "Y": -12.045989036560059,
          "label": "2"
         },
         {
          "X": 6.926586627960205,
          "Y": -11.989307403564453,
          "label": "2"
         },
         {
          "X": 6.725165843963623,
          "Y": -11.797586441040039,
          "label": "2"
         },
         {
          "X": 6.607524871826172,
          "Y": -14.07127571105957,
          "label": "2"
         },
         {
          "X": 6.926612377166748,
          "Y": -11.989092826843262,
          "label": "2"
         },
         {
          "X": 9.12253189086914,
          "Y": -12.422599792480469,
          "label": "2"
         },
         {
          "X": 6.725281715393066,
          "Y": -11.797552108764648,
          "label": "2"
         },
         {
          "X": 5.177043437957764,
          "Y": -13.268515586853027,
          "label": "2"
         },
         {
          "X": 6.725283145904541,
          "Y": -11.797553062438965,
          "label": "2"
         },
         {
          "X": 6.5961594581604,
          "Y": -12.046008110046387,
          "label": "2"
         },
         {
          "X": 6.725167751312256,
          "Y": -11.797587394714355,
          "label": "2"
         },
         {
          "X": 5.503115177154541,
          "Y": -14.867927551269531,
          "label": "2"
         },
         {
          "X": 6.596146583557129,
          "Y": -12.04598617553711,
          "label": "2"
         },
         {
          "X": 6.725165843963623,
          "Y": -11.797586441040039,
          "label": "2"
         },
         {
          "X": 8.969125747680664,
          "Y": -12.305272102355957,
          "label": "2"
         },
         {
          "X": 6.926596641540527,
          "Y": -11.989221572875977,
          "label": "2"
         },
         {
          "X": 6.926575660705566,
          "Y": -11.989381790161133,
          "label": "2"
         },
         {
          "X": 6.6193623542785645,
          "Y": -12.08130168914795,
          "label": "2"
         },
         {
          "X": 6.926630020141602,
          "Y": -11.988944053649902,
          "label": "2"
         },
         {
          "X": 6.725165843963623,
          "Y": -11.797586441040039,
          "label": "2"
         },
         {
          "X": 6.59614896774292,
          "Y": -12.04599380493164,
          "label": "2"
         },
         {
          "X": 6.596146583557129,
          "Y": -12.04598617553711,
          "label": "2"
         },
         {
          "X": 4.16580057144165,
          "Y": -13.051259994506836,
          "label": "2"
         },
         {
          "X": 6.926601409912109,
          "Y": -11.9891996383667,
          "label": "2"
         },
         {
          "X": 6.926586627960205,
          "Y": -11.989307403564453,
          "label": "2"
         },
         {
          "X": 6.919177532196045,
          "Y": -12.018033027648926,
          "label": "3"
         },
         {
          "X": 6.596146583557129,
          "Y": -12.045987129211426,
          "label": "3"
         },
         {
          "X": 6.596151351928711,
          "Y": -12.046001434326172,
          "label": "3"
         },
         {
          "X": 8.937514305114746,
          "Y": -12.472471237182617,
          "label": "3"
         },
         {
          "X": 2.9292843341827393,
          "Y": -11.861071586608887,
          "label": "3"
         },
         {
          "X": 7.568864822387695,
          "Y": -10.416950225830078,
          "label": "3"
         },
         {
          "X": 5.781904220581055,
          "Y": -14.875483512878418,
          "label": "3"
         },
         {
          "X": 4.520317077636719,
          "Y": -13.03211498260498,
          "label": "3"
         },
         {
          "X": 7.722964763641357,
          "Y": -14.405988693237305,
          "label": "3"
         },
         {
          "X": 7.568564414978027,
          "Y": -10.41694164276123,
          "label": "3"
         },
         {
          "X": 7.568888187408447,
          "Y": -10.42475700378418,
          "label": "3"
         },
         {
          "X": 7.5685648918151855,
          "Y": -10.416954040527344,
          "label": "3"
         },
         {
          "X": 7.569708347320557,
          "Y": -10.415497779846191,
          "label": "3"
         },
         {
          "X": 7.569800853729248,
          "Y": -10.41960334777832,
          "label": "3"
         },
         {
          "X": 6.460731506347656,
          "Y": -10.595987319946289,
          "label": "3"
         },
         {
          "X": 8.435786247253418,
          "Y": -9.459359169006348,
          "label": "3"
         },
         {
          "X": 7.749917030334473,
          "Y": -8.259481430053711,
          "label": "4"
         },
         {
          "X": 8.716774940490723,
          "Y": -12.007315635681152,
          "label": "4"
         },
         {
          "X": 7.569794654846191,
          "Y": -10.41678524017334,
          "label": "4"
         },
         {
          "X": 7.7302565574646,
          "Y": -14.435888290405273,
          "label": "4"
         },
         {
          "X": 6.190186023712158,
          "Y": -13.850461959838867,
          "label": "4"
         },
         {
          "X": 7.5698418617248535,
          "Y": -10.424461364746094,
          "label": "4"
         },
         {
          "X": 9.45854377746582,
          "Y": -10.734414100646973,
          "label": "4"
         },
         {
          "X": 9.458433151245117,
          "Y": -10.733159065246582,
          "label": "4"
         },
         {
          "X": 5.768264293670654,
          "Y": -13.583086013793945,
          "label": "4"
         },
         {
          "X": 7.5688886642456055,
          "Y": -10.424759864807129,
          "label": "4"
         },
         {
          "X": 7.569980144500732,
          "Y": -10.418838500976562,
          "label": "4"
         },
         {
          "X": 3.2006516456604004,
          "Y": -12.386316299438477,
          "label": "4"
         },
         {
          "X": 4.011170387268066,
          "Y": -13.010359764099121,
          "label": "4"
         },
         {
          "X": 7.573400974273682,
          "Y": -10.416682243347168,
          "label": "4"
         },
         {
          "X": 7.569848537445068,
          "Y": -10.424405097961426,
          "label": "4"
         },
         {
          "X": 7.569848537445068,
          "Y": -10.4243803024292,
          "label": "4"
         },
         {
          "X": 7.569849491119385,
          "Y": -10.424440383911133,
          "label": "4"
         },
         {
          "X": 5.253073692321777,
          "Y": -14.802698135375977,
          "label": "4"
         },
         {
          "X": 5.250481605529785,
          "Y": -14.808526992797852,
          "label": "4"
         },
         {
          "X": 4.29636287689209,
          "Y": -12.97960376739502,
          "label": "4"
         }
        ]
       },
       "encoding": {
        "color": {
         "field": "label",
         "type": "nominal"
        },
        "x": {
         "field": "X",
         "type": "quantitative"
        },
        "y": {
         "field": "Y",
         "type": "quantitative"
        }
       },
       "mark": {
        "size": 60,
        "type": "circle"
       },
       "selection": {
        "selector016": {
         "bind": "scales",
         "encodings": [
          "x",
          "y"
         ],
         "mark": {
          "fill": "#333",
          "fillOpacity": 0.125,
          "stroke": "white"
         },
         "on": "[mousedown, window:mouseup] > window:mousemove!",
         "resolve": "global",
         "translate": "[mousedown, window:mouseup] > window:mousemove!",
         "type": "interval",
         "zoom": "wheel!"
        }
       }
      },
      "image/png": "[encoded data removed]",
      "text/plain": [
       "<VegaLite 2 object>\n",
       "\n",
       "If you see this message, it means the renderer has not been properly enabled\n",
       "for the frontend that you are using. For more information, see\n",
       "https://altair-viz.github.io/user_guide/troubleshooting.html\n"
      ]
     },
     "metadata": {},
     "output_type": "display_data"
    }
   ],
   "source": [
    "perplexity = [5, 15, 30, 35, 40, 45, 50, 60]\n",
    "\n",
    "for p in perplexity:\n",
    "    print(\"Perplexity {}\".format(p))\n",
    "    r = reduce_dim(p)\n",
    "    create_plot(r, label)"
   ]
  },
  {
   "cell_type": "code",
   "execution_count": 5,
   "metadata": {},
   "outputs": [
    {
     "data": {
      "application/vnd.vegalite.v2+json": {
       "$schema": "https://vega.github.io/schema/vega-lite/v2.6.0.json",
       "config": {
        "view": {
         "height": 300,
         "width": 400
        }
       },
       "data": {
        "name": "data-599324ea1f6dbcbcf748ccbd7db43a13"
       },
       "datasets": {
        "data-599324ea1f6dbcbcf748ccbd7db43a13": [
         {
          "X": 0.3825382888317108,
          "Y": 0.02663634717464447,
          "count": 55,
          "label": "1"
         },
         {
          "X": 0.382377564907074,
          "Y": 0.02660462073981762,
          "count": 55,
          "label": "1"
         },
         {
          "X": 0.38253846764564514,
          "Y": 0.026636363938450813,
          "count": 55,
          "label": "1"
         },
         {
          "X": 0.38253846764564514,
          "Y": 0.026636358350515366,
          "count": 55,
          "label": "1"
         },
         {
          "X": 0.382538378238678,
          "Y": 0.02663639560341835,
          "count": 55,
          "label": "1"
         },
         {
          "X": 0.38237738609313965,
          "Y": 0.026604613289237022,
          "count": 55,
          "label": "1"
         },
         {
          "X": 0.38253846764564514,
          "Y": 0.026636363938450813,
          "count": 55,
          "label": "1"
         },
         {
          "X": 0.38237738609313965,
          "Y": 0.026604605838656425,
          "count": 55,
          "label": "1"
         },
         {
          "X": 0.3823775351047516,
          "Y": 0.026604538783431053,
          "count": 55,
          "label": "1"
         },
         {
          "X": 0.3823774456977844,
          "Y": 0.026604579761624336,
          "count": 55,
          "label": "1"
         },
         {
          "X": 0.38237741589546204,
          "Y": 0.026604605838656425,
          "count": 55,
          "label": "1"
         },
         {
          "X": 0.38237738609313965,
          "Y": 0.02660457231104374,
          "count": 55,
          "label": "1"
         },
         {
          "X": 0.38237741589546204,
          "Y": 0.026604609563946724,
          "count": 55,
          "label": "1"
         },
         {
          "X": 0.38253846764564514,
          "Y": 0.026636363938450813,
          "count": 55,
          "label": "1"
         },
         {
          "X": 0.3823776841163635,
          "Y": 0.02660461701452732,
          "count": 55,
          "label": "1"
         },
         {
          "X": 0.382377564907074,
          "Y": 0.026604613289237022,
          "count": 55,
          "label": "1"
         },
         {
          "X": 0.3823775053024292,
          "Y": 0.02660461701452732,
          "count": 55,
          "label": "1"
         },
         {
          "X": 0.38237762451171875,
          "Y": 0.026604585349559784,
          "count": 55,
          "label": "1"
         },
         {
          "X": 0.38237741589546204,
          "Y": 0.02660459093749523,
          "count": 55,
          "label": "1"
         },
         {
          "X": 0.3823775053024292,
          "Y": 0.026604600250720978,
          "count": 55,
          "label": "1"
         },
         {
          "X": 0.382377564907074,
          "Y": 0.02660459466278553,
          "count": 55,
          "label": "1"
         },
         {
          "X": 0.3823775053024292,
          "Y": 0.026604648679494858,
          "count": 55,
          "label": "1"
         },
         {
          "X": 0.382538378238678,
          "Y": 0.026636334136128426,
          "count": 55,
          "label": "1"
         },
         {
          "X": 0.38237741589546204,
          "Y": 0.026604609563946724,
          "count": 55,
          "label": "1"
         },
         {
          "X": 0.38237762451171875,
          "Y": 0.026604605838656425,
          "count": 55,
          "label": "1"
         },
         {
          "X": 0.382538378238678,
          "Y": 0.02663630247116089,
          "count": 55,
          "label": "1"
         },
         {
          "X": 0.3823775053024292,
          "Y": 0.026604648679494858,
          "count": 55,
          "label": "1"
         },
         {
          "X": 0.3823774755001068,
          "Y": 0.02660461701452732,
          "count": 55,
          "label": "1"
         },
         {
          "X": 0.382377564907074,
          "Y": 0.02660462073981762,
          "count": 55,
          "label": "1"
         },
         {
          "X": 0.38237738609313965,
          "Y": 0.026604602113366127,
          "count": 55,
          "label": "1"
         },
         {
          "X": 0.382377564907074,
          "Y": 0.02660459466278553,
          "count": 55,
          "label": "1"
         },
         {
          "X": 0.38253846764564514,
          "Y": 0.026636380702257156,
          "count": 55,
          "label": "1"
         },
         {
          "X": 0.3823773264884949,
          "Y": 0.02660461701452732,
          "count": 55,
          "label": "1"
         },
         {
          "X": 0.3823774755001068,
          "Y": 0.026604661718010902,
          "count": 55,
          "label": "1"
         },
         {
          "X": 0.38237759470939636,
          "Y": 0.026604637503623962,
          "count": 55,
          "label": "1"
         },
         {
          "X": 0.38237741589546204,
          "Y": 0.026604609563946724,
          "count": 55,
          "label": "1"
         },
         {
          "X": 0.3825382590293884,
          "Y": 0.026636401191353798,
          "count": 55,
          "label": "1"
         },
         {
          "X": 0.38237738609313965,
          "Y": 0.02660457231104374,
          "count": 55,
          "label": "1"
         },
         {
          "X": 0.38237738609313965,
          "Y": 0.026604603976011276,
          "count": 55,
          "label": "1"
         },
         {
          "X": 0.38237762451171875,
          "Y": 0.026604587212204933,
          "count": 55,
          "label": "1"
         },
         {
          "X": 0.3823775351047516,
          "Y": 0.026604538783431053,
          "count": 55,
          "label": "1"
         },
         {
          "X": 0.38237762451171875,
          "Y": 0.02660459838807583,
          "count": 55,
          "label": "1"
         },
         {
          "X": 0.382377564907074,
          "Y": 0.02660462073981762,
          "count": 55,
          "label": "1"
         },
         {
          "X": 0.38237762451171875,
          "Y": 0.026604562997817993,
          "count": 55,
          "label": "1"
         },
         {
          "X": 0.3823774755001068,
          "Y": 0.026604607701301575,
          "count": 55,
          "label": "1"
         },
         {
          "X": 0.38237759470939636,
          "Y": 0.026604607701301575,
          "count": 55,
          "label": "1"
         },
         {
          "X": 0.38253846764564514,
          "Y": 0.026636358350515366,
          "count": 55,
          "label": "1"
         },
         {
          "X": 0.3823774755001068,
          "Y": 0.026604635640978813,
          "count": 55,
          "label": "1"
         },
         {
          "X": 0.3825383484363556,
          "Y": 0.026636401191353798,
          "count": 55,
          "label": "1"
         },
         {
          "X": 0.38253840804100037,
          "Y": 0.02663635089993477,
          "count": 55,
          "label": "1"
         },
         {
          "X": 0.382377564907074,
          "Y": 0.02660461515188217,
          "count": 55,
          "label": "1"
         },
         {
          "X": 0.38253846764564514,
          "Y": 0.026636363938450813,
          "count": 55,
          "label": "1"
         },
         {
          "X": 0.3825382590293884,
          "Y": 0.026636401191353798,
          "count": 55,
          "label": "1"
         },
         {
          "X": 0.3823775053024292,
          "Y": 0.02660461701452732,
          "count": 55,
          "label": "1"
         },
         {
          "X": 0.38253840804100037,
          "Y": 0.026636403053998947,
          "count": 55,
          "label": "1"
         },
         {
          "X": 0.054940976202487946,
          "Y": 1.9244228601455688,
          "count": 124,
          "label": "AUSSI"
         },
         {
          "X": -1.3968206644058228,
          "Y": -0.7054904103279114,
          "count": 124,
          "label": "AUSSI"
         },
         {
          "X": 0.030435696244239807,
          "Y": 1.9478543996810913,
          "count": 124,
          "label": "AUSSI"
         },
         {
          "X": -0.010860791429877281,
          "Y": 0.7860143780708313,
          "count": 124,
          "label": "AUSSI"
         },
         {
          "X": -0.7744936347007751,
          "Y": 0.43829581141471863,
          "count": 124,
          "label": "AUSSI"
         },
         {
          "X": 0.12445073574781418,
          "Y": 0.05000607669353485,
          "count": 124,
          "label": "AUSSI"
         },
         {
          "X": -0.5263254046440125,
          "Y": -0.5030304193496704,
          "count": 124,
          "label": "AUSSI"
         },
         {
          "X": 0.38237738609313965,
          "Y": 0.026604602113366127,
          "count": 124,
          "label": "AUSSI"
         },
         {
          "X": -0.2342323362827301,
          "Y": -2.38041090965271,
          "count": 124,
          "label": "AUSSI"
         },
         {
          "X": 0.7569299340248108,
          "Y": -1.7701759338378906,
          "count": 124,
          "label": "AUSSI"
         },
         {
          "X": 0.7769594192504883,
          "Y": -0.937835156917572,
          "count": 124,
          "label": "AUSSI"
         },
         {
          "X": -1.433718204498291,
          "Y": -1.7712657451629639,
          "count": 124,
          "label": "AUSSI"
         },
         {
          "X": 0.12445073574781418,
          "Y": 0.05000607669353485,
          "count": 124,
          "label": "AUSSI"
         },
         {
          "X": 0.5215978622436523,
          "Y": -1.8576406240463257,
          "count": 124,
          "label": "AUSSI"
         },
         {
          "X": 0.8493266105651855,
          "Y": 0.3709956705570221,
          "count": 124,
          "label": "AUSSI"
         },
         {
          "X": 2.843754768371582,
          "Y": 0.3875747323036194,
          "count": 124,
          "label": "AUSSI"
         },
         {
          "X": 2.5976979732513428,
          "Y": 1.3837021589279175,
          "count": 124,
          "label": "AUSSI"
         },
         {
          "X": 0.7569299340248108,
          "Y": -1.7701759338378906,
          "count": 124,
          "label": "AUSSI"
         },
         {
          "X": 0.08518155664205551,
          "Y": -0.5668357610702515,
          "count": 124,
          "label": "AUSSI"
         },
         {
          "X": 0.12445073574781418,
          "Y": 0.05000607669353485,
          "count": 124,
          "label": "AUSSI"
         },
         {
          "X": 0.9383410811424255,
          "Y": -0.30791112780570984,
          "count": 124,
          "label": "AUSSI"
         },
         {
          "X": -2.2484381198883057,
          "Y": -0.08005529642105103,
          "count": 124,
          "label": "AUSSI"
         },
         {
          "X": 2.5976979732513428,
          "Y": 1.3837021589279175,
          "count": 124,
          "label": "AUSSI"
         },
         {
          "X": 0.12445073574781418,
          "Y": 0.05000607669353485,
          "count": 124,
          "label": "AUSSI"
         },
         {
          "X": 0.4047434628009796,
          "Y": 2.6628003120422363,
          "count": 124,
          "label": "AUSSI"
         },
         {
          "X": 0.7769594192504883,
          "Y": -0.937835156917572,
          "count": 124,
          "label": "AUSSI"
         },
         {
          "X": 1.5444684028625488,
          "Y": -2.3124451637268066,
          "count": 124,
          "label": "AUSSI"
         },
         {
          "X": 0.9383410811424255,
          "Y": -0.30791112780570984,
          "count": 124,
          "label": "AUSSI"
         },
         {
          "X": -1.433718204498291,
          "Y": -1.7712657451629639,
          "count": 124,
          "label": "AUSSI"
         },
         {
          "X": -1.669831395149231,
          "Y": 0.19383834302425385,
          "count": 124,
          "label": "AUSSI"
         },
         {
          "X": -0.5734463334083557,
          "Y": 1.4404056072235107,
          "count": 124,
          "label": "AUSSI"
         },
         {
          "X": 0.08518155664205551,
          "Y": -0.5668357610702515,
          "count": 124,
          "label": "AUSSI"
         },
         {
          "X": 0.12445073574781418,
          "Y": 0.05000607669353485,
          "count": 124,
          "label": "AUSSI"
         },
         {
          "X": 2.316990375518799,
          "Y": 1.6865448951721191,
          "count": 124,
          "label": "AUSSI"
         },
         {
          "X": 1.3840988874435425,
          "Y": -0.24738861620426178,
          "count": 124,
          "label": "AUSSI"
         },
         {
          "X": -0.010860791429877281,
          "Y": 0.7860143780708313,
          "count": 124,
          "label": "AUSSI"
         },
         {
          "X": 0.7769594192504883,
          "Y": -0.937835156917572,
          "count": 124,
          "label": "AUSSI"
         },
         {
          "X": 0.8493266105651855,
          "Y": 0.3709956705570221,
          "count": 124,
          "label": "AUSSI"
         },
         {
          "X": -0.010860791429877281,
          "Y": 0.7860143780708313,
          "count": 124,
          "label": "AUSSI"
         },
         {
          "X": 0.7133759260177612,
          "Y": 1.2155088186264038,
          "count": 124,
          "label": "AUSSI"
         },
         {
          "X": 1.9337143898010254,
          "Y": 0.7559248805046082,
          "count": 124,
          "label": "AUSSI"
         },
         {
          "X": -0.20227792859077454,
          "Y": 2.6058075428009033,
          "count": 124,
          "label": "AUSSI"
         },
         {
          "X": 0.8493266105651855,
          "Y": 0.3709956705570221,
          "count": 124,
          "label": "AUSSI"
         },
         {
          "X": 0.7133759260177612,
          "Y": 1.2155088186264038,
          "count": 124,
          "label": "AUSSI"
         },
         {
          "X": -1.669831395149231,
          "Y": 0.19383834302425385,
          "count": 124,
          "label": "AUSSI"
         },
         {
          "X": -0.010860791429877281,
          "Y": 0.7860143780708313,
          "count": 124,
          "label": "AUSSI"
         },
         {
          "X": 1.5576236248016357,
          "Y": 0.37839797139167786,
          "count": 124,
          "label": "AUSSI"
         },
         {
          "X": 1.0381417274475098,
          "Y": 2.305878162384033,
          "count": 124,
          "label": "AUSSI"
         },
         {
          "X": 2.189912796020508,
          "Y": -0.3414364457130432,
          "count": 124,
          "label": "AUSSI"
         },
         {
          "X": -2.094820976257324,
          "Y": 0.9459067583084106,
          "count": 124,
          "label": "AUSSI"
         },
         {
          "X": -1.664787769317627,
          "Y": 1.7272974252700806,
          "count": 124,
          "label": "AUSSI"
         },
         {
          "X": 0.5059654712677002,
          "Y": -0.36345821619033813,
          "count": 124,
          "label": "AUSSI"
         },
         {
          "X": 0.7769594192504883,
          "Y": -0.937835156917572,
          "count": 124,
          "label": "AUSSI"
         },
         {
          "X": 0.8493266105651855,
          "Y": 0.3709956705570221,
          "count": 124,
          "label": "AUSSI"
         },
         {
          "X": -1.1061962842941284,
          "Y": 2.2150063514709473,
          "count": 124,
          "label": "AUSSI"
         },
         {
          "X": -1.4802589416503906,
          "Y": -0.13927695155143738,
          "count": 124,
          "label": "AUSSI"
         },
         {
          "X": -0.5734463334083557,
          "Y": 1.4404056072235107,
          "count": 124,
          "label": "AUSSI"
         },
         {
          "X": -0.038906216621398926,
          "Y": -1.3321967124938965,
          "count": 124,
          "label": "AUSSI"
         },
         {
          "X": -0.038906216621398926,
          "Y": -1.3321967124938965,
          "count": 124,
          "label": "AUSSI"
         },
         {
          "X": -0.2342323362827301,
          "Y": -2.38041090965271,
          "count": 124,
          "label": "AUSSI"
         },
         {
          "X": -0.010860791429877281,
          "Y": 0.7860143780708313,
          "count": 124,
          "label": "AUSSI"
         },
         {
          "X": -0.5734463334083557,
          "Y": 1.4404056072235107,
          "count": 124,
          "label": "AUSSI"
         },
         {
          "X": -1.433718204498291,
          "Y": -1.7712657451629639,
          "count": 124,
          "label": "AUSSI"
         },
         {
          "X": -0.038906216621398926,
          "Y": -1.3321967124938965,
          "count": 124,
          "label": "AUSSI"
         },
         {
          "X": 0.12445073574781418,
          "Y": 0.05000607669353485,
          "count": 124,
          "label": "AUSSI"
         },
         {
          "X": 0.7133759260177612,
          "Y": 1.2155088186264038,
          "count": 124,
          "label": "AUSSI"
         },
         {
          "X": 2.189912796020508,
          "Y": -0.3414364457130432,
          "count": 124,
          "label": "AUSSI"
         },
         {
          "X": 0.7133759260177612,
          "Y": 1.2155088186264038,
          "count": 124,
          "label": "AUSSI"
         },
         {
          "X": 0.006693319883197546,
          "Y": -0.5674325227737427,
          "count": 124,
          "label": "AUSSI"
         },
         {
          "X": 1.9539906978607178,
          "Y": 2.177903652191162,
          "count": 124,
          "label": "AUSSI"
         },
         {
          "X": -0.7744936347007751,
          "Y": 0.43829581141471863,
          "count": 124,
          "label": "AUSSI"
         },
         {
          "X": 0.12445073574781418,
          "Y": 0.05000607669353485,
          "count": 124,
          "label": "AUSSI"
         },
         {
          "X": 0.08518155664205551,
          "Y": -0.5668357610702515,
          "count": 124,
          "label": "AUSSI"
         },
         {
          "X": -2.094820976257324,
          "Y": 0.9459067583084106,
          "count": 124,
          "label": "AUSSI"
         },
         {
          "X": 0.8493266105651855,
          "Y": 0.3709956705570221,
          "count": 124,
          "label": "AUSSI"
         },
         {
          "X": 1.490423321723938,
          "Y": -0.8618544936180115,
          "count": 124,
          "label": "AUSSI"
         },
         {
          "X": 1.4603018760681152,
          "Y": 1.5007543563842773,
          "count": 124,
          "label": "AUSSI"
         },
         {
          "X": 0.9383410811424255,
          "Y": -0.30791112780570984,
          "count": 124,
          "label": "AUSSI"
         },
         {
          "X": 0.054940976202487946,
          "Y": 1.9244228601455688,
          "count": 124,
          "label": "AUSSI"
         },
         {
          "X": -0.010860791429877281,
          "Y": 0.7860143780708313,
          "count": 124,
          "label": "AUSSI"
         },
         {
          "X": -0.010860791429877281,
          "Y": 0.7860143780708313,
          "count": 124,
          "label": "AUSSI"
         },
         {
          "X": 1.5617005825042725,
          "Y": 0.3695625364780426,
          "count": 124,
          "label": "AUSSI"
         },
         {
          "X": -1.669831395149231,
          "Y": 0.19383834302425385,
          "count": 124,
          "label": "AUSSI"
         },
         {
          "X": -0.5263254046440125,
          "Y": -0.5030304193496704,
          "count": 124,
          "label": "AUSSI"
         },
         {
          "X": 0.4047434628009796,
          "Y": 2.6628003120422363,
          "count": 124,
          "label": "AUSSI"
         },
         {
          "X": -0.038906216621398926,
          "Y": -1.3321967124938965,
          "count": 124,
          "label": "AUSSI"
         },
         {
          "X": 1.9337143898010254,
          "Y": 0.7559248805046082,
          "count": 124,
          "label": "AUSSI"
         },
         {
          "X": 0.7769594192504883,
          "Y": -0.937835156917572,
          "count": 124,
          "label": "AUSSI"
         },
         {
          "X": -0.20227792859077454,
          "Y": 2.6058075428009033,
          "count": 124,
          "label": "AUSSI"
         },
         {
          "X": -1.986215591430664,
          "Y": -1.3099150657653809,
          "count": 124,
          "label": "AUSSI"
         },
         {
          "X": 2.299724578857422,
          "Y": -2.0451042652130127,
          "count": 124,
          "label": "AUSSI"
         },
         {
          "X": 0.8493266105651855,
          "Y": 0.3709956705570221,
          "count": 124,
          "label": "AUSSI"
         },
         {
          "X": 1.9539906978607178,
          "Y": 2.177903652191162,
          "count": 124,
          "label": "AUSSI"
         },
         {
          "X": -0.010860791429877281,
          "Y": 0.7860143780708313,
          "count": 124,
          "label": "AUSSI"
         },
         {
          "X": -0.038906216621398926,
          "Y": -1.3321967124938965,
          "count": 124,
          "label": "AUSSI"
         },
         {
          "X": 0.12445073574781418,
          "Y": 0.05000607669353485,
          "count": 124,
          "label": "AUSSI"
         },
         {
          "X": 0.8493266105651855,
          "Y": 0.3709956705570221,
          "count": 124,
          "label": "AUSSI"
         },
         {
          "X": 0.08518155664205551,
          "Y": -0.5668357610702515,
          "count": 124,
          "label": "AUSSI"
         },
         {
          "X": 1.9337143898010254,
          "Y": 0.7559248805046082,
          "count": 124,
          "label": "AUSSI"
         },
         {
          "X": -0.7520882487297058,
          "Y": -0.2695270776748657,
          "count": 124,
          "label": "AUSSI"
         },
         {
          "X": 1.4603018760681152,
          "Y": 1.5007543563842773,
          "count": 124,
          "label": "AUSSI"
         },
         {
          "X": 1.4603018760681152,
          "Y": 1.5007543563842773,
          "count": 124,
          "label": "AUSSI"
         },
         {
          "X": 0.7569299340248108,
          "Y": -1.7701759338378906,
          "count": 124,
          "label": "AUSSI"
         },
         {
          "X": 0.08518155664205551,
          "Y": -0.5668357610702515,
          "count": 124,
          "label": "AUSSI"
         },
         {
          "X": 1.7958910465240479,
          "Y": -1.4791693687438965,
          "count": 124,
          "label": "AUSSI"
         },
         {
          "X": 1.490423321723938,
          "Y": -0.8618544936180115,
          "count": 124,
          "label": "AUSSI"
         },
         {
          "X": 1.7958910465240479,
          "Y": -1.4791693687438965,
          "count": 124,
          "label": "AUSSI"
         },
         {
          "X": -2.094820976257324,
          "Y": 0.9459067583084106,
          "count": 124,
          "label": "AUSSI"
         },
         {
          "X": 2.299724578857422,
          "Y": -2.0451042652130127,
          "count": 124,
          "label": "AUSSI"
         },
         {
          "X": 2.189912796020508,
          "Y": -0.3414364457130432,
          "count": 124,
          "label": "AUSSI"
         },
         {
          "X": 0.311575323343277,
          "Y": -2.505739450454712,
          "count": 124,
          "label": "AUSSI"
         },
         {
          "X": -0.038906216621398926,
          "Y": -1.3321967124938965,
          "count": 124,
          "label": "AUSSI"
         },
         {
          "X": 0.7133759260177612,
          "Y": 1.2155088186264038,
          "count": 124,
          "label": "AUSSI"
         },
         {
          "X": 0.12445073574781418,
          "Y": 0.05000607669353485,
          "count": 124,
          "label": "AUSSI"
         },
         {
          "X": -2.2484381198883057,
          "Y": -0.08005529642105103,
          "count": 124,
          "label": "AUSSI"
         },
         {
          "X": -2.330791473388672,
          "Y": 0.45270487666130066,
          "count": 124,
          "label": "AUSSI"
         },
         {
          "X": -0.5734463334083557,
          "Y": 1.4404056072235107,
          "count": 124,
          "label": "AUSSI"
         },
         {
          "X": 0.8493266105651855,
          "Y": 0.3709956705570221,
          "count": 124,
          "label": "AUSSI"
         },
         {
          "X": 1.3840988874435425,
          "Y": -0.24738861620426178,
          "count": 124,
          "label": "AUSSI"
         },
         {
          "X": 0.7133759260177612,
          "Y": 1.2155088186264038,
          "count": 124,
          "label": "AUSSI"
         },
         {
          "X": 1.490423321723938,
          "Y": -0.8618544936180115,
          "count": 124,
          "label": "AUSSI"
         },
         {
          "X": 0.2876945436000824,
          "Y": 1.8856663703918457,
          "count": 124,
          "label": "AUSSI"
         },
         {
          "X": 1.3840988874435425,
          "Y": -0.24738861620426178,
          "count": 124,
          "label": "AUSSI"
         },
         {
          "X": 0.006693319883197546,
          "Y": -0.5674325227737427,
          "count": 124,
          "label": "AUSSI"
         },
         {
          "X": -2.2484381198883057,
          "Y": -0.08005529642105103,
          "count": 118,
          "label": "OUI"
         },
         {
          "X": 2.923506736755371,
          "Y": -0.958000123500824,
          "count": 118,
          "label": "OUI"
         },
         {
          "X": -0.7744936347007751,
          "Y": 0.43829581141471863,
          "count": 118,
          "label": "OUI"
         },
         {
          "X": 0.7133759260177612,
          "Y": 1.2155088186264038,
          "count": 118,
          "label": "OUI"
         },
         {
          "X": 0.2876945436000824,
          "Y": 1.8856663703918457,
          "count": 118,
          "label": "OUI"
         },
         {
          "X": 0.12445073574781418,
          "Y": 0.05000607669353485,
          "count": 118,
          "label": "OUI"
         },
         {
          "X": 1.490423321723938,
          "Y": -0.8618544936180115,
          "count": 118,
          "label": "OUI"
         },
         {
          "X": -2.094820976257324,
          "Y": 0.9459067583084106,
          "count": 118,
          "label": "OUI"
         },
         {
          "X": -0.5727768540382385,
          "Y": 0.19141483306884766,
          "count": 118,
          "label": "OUI"
         },
         {
          "X": -1.986215591430664,
          "Y": -1.3099150657653809,
          "count": 118,
          "label": "OUI"
         },
         {
          "X": 0.5004889369010925,
          "Y": -0.3752165734767914,
          "count": 118,
          "label": "OUI"
         },
         {
          "X": -1.0455948114395142,
          "Y": 0.62473464012146,
          "count": 118,
          "label": "OUI"
         },
         {
          "X": -0.7458605766296387,
          "Y": 2.3939642906188965,
          "count": 118,
          "label": "OUI"
         },
         {
          "X": 1.9539906978607178,
          "Y": 2.177903652191162,
          "count": 118,
          "label": "OUI"
         },
         {
          "X": -2.094820976257324,
          "Y": 0.9459067583084106,
          "count": 118,
          "label": "OUI"
         },
         {
          "X": 1.4603018760681152,
          "Y": 1.5007543563842773,
          "count": 118,
          "label": "OUI"
         },
         {
          "X": -1.0455948114395142,
          "Y": 0.62473464012146,
          "count": 118,
          "label": "OUI"
         },
         {
          "X": 0.8493266105651855,
          "Y": 0.3709956705570221,
          "count": 118,
          "label": "OUI"
         },
         {
          "X": 1.7958910465240479,
          "Y": -1.4791693687438965,
          "count": 118,
          "label": "OUI"
         },
         {
          "X": -2.2484381198883057,
          "Y": -0.08005529642105103,
          "count": 118,
          "label": "OUI"
         },
         {
          "X": -0.010860791429877281,
          "Y": 0.7860143780708313,
          "count": 118,
          "label": "OUI"
         },
         {
          "X": 1.4874746799468994,
          "Y": -1.1944838762283325,
          "count": 118,
          "label": "OUI"
         },
         {
          "X": 0.054940976202487946,
          "Y": 1.9244228601455688,
          "count": 118,
          "label": "OUI"
         },
         {
          "X": 1.490423321723938,
          "Y": -0.8618544936180115,
          "count": 118,
          "label": "OUI"
         },
         {
          "X": 0.030435696244239807,
          "Y": 1.9478543996810913,
          "count": 118,
          "label": "OUI"
         },
         {
          "X": 2.189912796020508,
          "Y": -0.3414364457130432,
          "count": 118,
          "label": "OUI"
         },
         {
          "X": 1.4603018760681152,
          "Y": 1.5007543563842773,
          "count": 118,
          "label": "OUI"
         },
         {
          "X": -0.5734463334083557,
          "Y": 1.4404056072235107,
          "count": 118,
          "label": "OUI"
         },
         {
          "X": -1.3457872867584229,
          "Y": 0.9522409439086914,
          "count": 118,
          "label": "OUI"
         },
         {
          "X": 0.8493266105651855,
          "Y": 0.3709956705570221,
          "count": 118,
          "label": "OUI"
         },
         {
          "X": -1.4802589416503906,
          "Y": -0.13927695155143738,
          "count": 118,
          "label": "OUI"
         },
         {
          "X": 0.9383410811424255,
          "Y": -0.30791112780570984,
          "count": 118,
          "label": "OUI"
         },
         {
          "X": 0.7133759260177612,
          "Y": 1.2155088186264038,
          "count": 118,
          "label": "OUI"
         },
         {
          "X": 2.333472967147827,
          "Y": 1.6907259225845337,
          "count": 118,
          "label": "OUI"
         },
         {
          "X": -2.2484381198883057,
          "Y": -0.08005529642105103,
          "count": 118,
          "label": "OUI"
         },
         {
          "X": 2.5976979732513428,
          "Y": 1.3837021589279175,
          "count": 118,
          "label": "OUI"
         },
         {
          "X": 0.8493266105651855,
          "Y": 0.3709956705570221,
          "count": 118,
          "label": "OUI"
         },
         {
          "X": -0.038906216621398926,
          "Y": -1.3321967124938965,
          "count": 118,
          "label": "OUI"
         },
         {
          "X": 0.12445073574781418,
          "Y": 0.05000607669353485,
          "count": 118,
          "label": "OUI"
         },
         {
          "X": 0.12445073574781418,
          "Y": 0.05000607669353485,
          "count": 118,
          "label": "OUI"
         },
         {
          "X": 1.3840988874435425,
          "Y": -0.24738861620426178,
          "count": 118,
          "label": "OUI"
         },
         {
          "X": 0.12445073574781418,
          "Y": 0.05000607669353485,
          "count": 118,
          "label": "OUI"
         },
         {
          "X": -0.038906216621398926,
          "Y": -1.3321967124938965,
          "count": 118,
          "label": "OUI"
         },
         {
          "X": -0.010860791429877281,
          "Y": 0.7860143780708313,
          "count": 118,
          "label": "OUI"
         },
         {
          "X": -0.2342323362827301,
          "Y": -2.38041090965271,
          "count": 118,
          "label": "OUI"
         },
         {
          "X": 0.12445073574781418,
          "Y": 0.05000607669353485,
          "count": 118,
          "label": "OUI"
         },
         {
          "X": 0.4047434628009796,
          "Y": 2.6628003120422363,
          "count": 118,
          "label": "OUI"
         },
         {
          "X": 2.5976979732513428,
          "Y": 1.3837021589279175,
          "count": 118,
          "label": "OUI"
         },
         {
          "X": -0.8977599740028381,
          "Y": -2.1725804805755615,
          "count": 118,
          "label": "OUI"
         },
         {
          "X": 0.7769594192504883,
          "Y": -0.937835156917572,
          "count": 118,
          "label": "OUI"
         },
         {
          "X": -0.2342323362827301,
          "Y": -2.38041090965271,
          "count": 118,
          "label": "OUI"
         },
         {
          "X": -0.7744936347007751,
          "Y": 0.43829581141471863,
          "count": 118,
          "label": "OUI"
         },
         {
          "X": 0.7133759260177612,
          "Y": 1.2155088186264038,
          "count": 118,
          "label": "OUI"
         },
         {
          "X": 2.8399338722229004,
          "Y": 0.9212411046028137,
          "count": 118,
          "label": "OUI"
         },
         {
          "X": -0.7744936347007751,
          "Y": 0.43829581141471863,
          "count": 118,
          "label": "OUI"
         },
         {
          "X": -0.20227792859077454,
          "Y": 2.6058075428009033,
          "count": 118,
          "label": "OUI"
         },
         {
          "X": 0.3275226056575775,
          "Y": 1.327501893043518,
          "count": 118,
          "label": "OUI"
         },
         {
          "X": 2.8399338722229004,
          "Y": 0.9212411046028137,
          "count": 118,
          "label": "OUI"
         },
         {
          "X": 0.7133759260177612,
          "Y": 1.2155088186264038,
          "count": 118,
          "label": "OUI"
         },
         {
          "X": -0.010860791429877281,
          "Y": 0.7860143780708313,
          "count": 118,
          "label": "OUI"
         },
         {
          "X": -0.7890880703926086,
          "Y": -1.0077091455459595,
          "count": 118,
          "label": "OUI"
         },
         {
          "X": -0.010860791429877281,
          "Y": 0.7860143780708313,
          "count": 118,
          "label": "OUI"
         },
         {
          "X": -1.664787769317627,
          "Y": 1.7272974252700806,
          "count": 118,
          "label": "OUI"
         },
         {
          "X": 0.9383410811424255,
          "Y": -0.30791112780570984,
          "count": 118,
          "label": "OUI"
         },
         {
          "X": 0.7769594192504883,
          "Y": -0.937835156917572,
          "count": 118,
          "label": "OUI"
         },
         {
          "X": 1.227840542793274,
          "Y": 1.0427117347717285,
          "count": 118,
          "label": "OUI"
         },
         {
          "X": 0.12445073574781418,
          "Y": 0.05000607669353485,
          "count": 118,
          "label": "OUI"
         },
         {
          "X": -1.0455948114395142,
          "Y": 0.62473464012146,
          "count": 118,
          "label": "OUI"
         },
         {
          "X": 1.7958910465240479,
          "Y": -1.4791693687438965,
          "count": 118,
          "label": "OUI"
         },
         {
          "X": 0.8493266105651855,
          "Y": 0.3709956705570221,
          "count": 118,
          "label": "OUI"
         },
         {
          "X": 0.12445073574781418,
          "Y": 0.05000607669353485,
          "count": 118,
          "label": "OUI"
         },
         {
          "X": 0.12445073574781418,
          "Y": 0.05000607669353485,
          "count": 118,
          "label": "OUI"
         },
         {
          "X": 1.9337143898010254,
          "Y": 0.7559248805046082,
          "count": 118,
          "label": "OUI"
         },
         {
          "X": 0.7133759260177612,
          "Y": 1.2155088186264038,
          "count": 118,
          "label": "OUI"
         },
         {
          "X": 0.9383410811424255,
          "Y": -0.30791112780570984,
          "count": 118,
          "label": "OUI"
         },
         {
          "X": 0.12445073574781418,
          "Y": 0.05000607669353485,
          "count": 118,
          "label": "OUI"
         },
         {
          "X": 1.4603018760681152,
          "Y": 1.5007543563842773,
          "count": 118,
          "label": "OUI"
         },
         {
          "X": 1.5576236248016357,
          "Y": 0.37839797139167786,
          "count": 118,
          "label": "OUI"
         },
         {
          "X": 0.8493266105651855,
          "Y": 0.3709956705570221,
          "count": 118,
          "label": "OUI"
         },
         {
          "X": -0.010860791429877281,
          "Y": 0.7860143780708313,
          "count": 118,
          "label": "OUI"
         },
         {
          "X": -0.038906216621398926,
          "Y": -1.3321967124938965,
          "count": 118,
          "label": "OUI"
         },
         {
          "X": 1.565230369567871,
          "Y": 0.3735778033733368,
          "count": 118,
          "label": "OUI"
         },
         {
          "X": 1.9539906978607178,
          "Y": 2.177903652191162,
          "count": 118,
          "label": "OUI"
         },
         {
          "X": 2.356484889984131,
          "Y": 1.6304043531417847,
          "count": 118,
          "label": "OUI"
         },
         {
          "X": -0.038906216621398926,
          "Y": -1.3321967124938965,
          "count": 118,
          "label": "OUI"
         },
         {
          "X": 0.12445073574781418,
          "Y": 0.05000607669353485,
          "count": 118,
          "label": "OUI"
         },
         {
          "X": 2.2986629009246826,
          "Y": -2.04585337638855,
          "count": 118,
          "label": "OUI"
         },
         {
          "X": 0.12445073574781418,
          "Y": 0.05000607669353485,
          "count": 118,
          "label": "OUI"
         },
         {
          "X": -0.6066305637359619,
          "Y": 0.047458481043577194,
          "count": 118,
          "label": "OUI"
         },
         {
          "X": -0.038906216621398926,
          "Y": -1.3321967124938965,
          "count": 118,
          "label": "OUI"
         },
         {
          "X": 0.08518155664205551,
          "Y": -0.5668357610702515,
          "count": 118,
          "label": "OUI"
         },
         {
          "X": 1.7958910465240479,
          "Y": -1.4791693687438965,
          "count": 118,
          "label": "OUI"
         },
         {
          "X": 0.8493266105651855,
          "Y": 0.3709956705570221,
          "count": 118,
          "label": "OUI"
         },
         {
          "X": -0.010860791429877281,
          "Y": 0.7860143780708313,
          "count": 118,
          "label": "OUI"
         },
         {
          "X": -0.2342323362827301,
          "Y": -2.38041090965271,
          "count": 118,
          "label": "OUI"
         },
         {
          "X": 1.9337143898010254,
          "Y": 0.7559248805046082,
          "count": 118,
          "label": "OUI"
         },
         {
          "X": -1.3968206644058228,
          "Y": -0.7054904103279114,
          "count": 118,
          "label": "OUI"
         },
         {
          "X": 1.9539906978607178,
          "Y": 2.177903652191162,
          "count": 118,
          "label": "OUI"
         },
         {
          "X": -2.2484381198883057,
          "Y": -0.08005529642105103,
          "count": 118,
          "label": "OUI"
         },
         {
          "X": -0.5734463334083557,
          "Y": 1.4404056072235107,
          "count": 118,
          "label": "OUI"
         },
         {
          "X": -0.5734463334083557,
          "Y": 1.4404056072235107,
          "count": 118,
          "label": "OUI"
         },
         {
          "X": -0.010860791429877281,
          "Y": 0.7860143780708313,
          "count": 118,
          "label": "OUI"
         },
         {
          "X": -0.010860791429877281,
          "Y": 0.7860143780708313,
          "count": 118,
          "label": "OUI"
         },
         {
          "X": 0.7133759260177612,
          "Y": 1.2155088186264038,
          "count": 118,
          "label": "OUI"
         },
         {
          "X": 0.7133759260177612,
          "Y": 1.2155088186264038,
          "count": 118,
          "label": "OUI"
         },
         {
          "X": 2.3268849849700928,
          "Y": 1.6612770557403564,
          "count": 118,
          "label": "OUI"
         },
         {
          "X": -0.535822331905365,
          "Y": -0.45780566334724426,
          "count": 118,
          "label": "OUI"
         },
         {
          "X": 2.189912796020508,
          "Y": -0.3414364457130432,
          "count": 118,
          "label": "OUI"
         },
         {
          "X": 0.006693319883197546,
          "Y": -0.5674325227737427,
          "count": 118,
          "label": "OUI"
         },
         {
          "X": -0.038906216621398926,
          "Y": -1.3321967124938965,
          "count": 118,
          "label": "OUI"
         },
         {
          "X": 1.5444684028625488,
          "Y": -2.3124451637268066,
          "count": 118,
          "label": "OUI"
         },
         {
          "X": -2.094820976257324,
          "Y": 0.9459067583084106,
          "count": 118,
          "label": "OUI"
         },
         {
          "X": -0.5734463334083557,
          "Y": 1.4404056072235107,
          "count": 118,
          "label": "OUI"
         },
         {
          "X": 2.189912796020508,
          "Y": -0.3414364457130432,
          "count": 118,
          "label": "OUI"
         },
         {
          "X": 0.5004889369010925,
          "Y": -0.3752165734767914,
          "count": 118,
          "label": "OUI"
         },
         {
          "X": 2.8399338722229004,
          "Y": 0.9212411046028137,
          "count": 118,
          "label": "OUI"
         },
         {
          "X": 0.7769594192504883,
          "Y": -0.937835156917572,
          "count": 118,
          "label": "OUI"
         },
         {
          "X": 1.9337143898010254,
          "Y": 0.7559248805046082,
          "count": 118,
          "label": "OUI"
         },
         {
          "X": 0.9383410811424255,
          "Y": -0.30791112780570984,
          "count": 49,
          "label": "DIRE"
         },
         {
          "X": 0.8493266105651855,
          "Y": 0.3709956705570221,
          "count": 49,
          "label": "DIRE"
         },
         {
          "X": -2.094820976257324,
          "Y": 0.9459067583084106,
          "count": 49,
          "label": "DIRE"
         },
         {
          "X": -0.010860791429877281,
          "Y": 0.7860143780708313,
          "count": 49,
          "label": "DIRE"
         },
         {
          "X": 0.8493266105651855,
          "Y": 0.3709956705570221,
          "count": 49,
          "label": "DIRE"
         },
         {
          "X": 2.189912796020508,
          "Y": -0.3414364457130432,
          "count": 49,
          "label": "DIRE"
         },
         {
          "X": 0.8493266105651855,
          "Y": 0.3709956705570221,
          "count": 49,
          "label": "DIRE"
         },
         {
          "X": 0.9383410811424255,
          "Y": -0.30791112780570984,
          "count": 49,
          "label": "DIRE"
         },
         {
          "X": 1.9337143898010254,
          "Y": 0.7559248805046082,
          "count": 49,
          "label": "DIRE"
         },
         {
          "X": 1.3840988874435425,
          "Y": -0.24738861620426178,
          "count": 49,
          "label": "DIRE"
         },
         {
          "X": -0.7890880703926086,
          "Y": -1.0077091455459595,
          "count": 49,
          "label": "DIRE"
         },
         {
          "X": -1.2051360607147217,
          "Y": 1.1815179586410522,
          "count": 49,
          "label": "DIRE"
         },
         {
          "X": 1.9539906978607178,
          "Y": 2.177903652191162,
          "count": 49,
          "label": "DIRE"
         },
         {
          "X": 0.8493266105651855,
          "Y": 0.3709956705570221,
          "count": 49,
          "label": "DIRE"
         },
         {
          "X": -0.038906216621398926,
          "Y": -1.3321967124938965,
          "count": 49,
          "label": "DIRE"
         },
         {
          "X": -0.010860791429877281,
          "Y": 0.7860143780708313,
          "count": 49,
          "label": "DIRE"
         },
         {
          "X": 1.7958910465240479,
          "Y": -1.4791693687438965,
          "count": 49,
          "label": "DIRE"
         },
         {
          "X": 0.8493266105651855,
          "Y": 0.3709956705570221,
          "count": 49,
          "label": "DIRE"
         },
         {
          "X": 2.8399338722229004,
          "Y": 0.9212411046028137,
          "count": 49,
          "label": "DIRE"
         },
         {
          "X": 1.5444684028625488,
          "Y": -2.3124451637268066,
          "count": 49,
          "label": "DIRE"
         },
         {
          "X": 0.8493266105651855,
          "Y": 0.3709956705570221,
          "count": 49,
          "label": "DIRE"
         },
         {
          "X": -0.7744936347007751,
          "Y": 0.43829581141471863,
          "count": 49,
          "label": "DIRE"
         },
         {
          "X": 0.8493266105651855,
          "Y": 0.3709956705570221,
          "count": 49,
          "label": "DIRE"
         },
         {
          "X": 0.8493266105651855,
          "Y": 0.3709956705570221,
          "count": 49,
          "label": "DIRE"
         },
         {
          "X": -0.7890880703926086,
          "Y": -1.0077091455459595,
          "count": 49,
          "label": "DIRE"
         },
         {
          "X": 0.12445073574781418,
          "Y": 0.05000607669353485,
          "count": 49,
          "label": "DIRE"
         },
         {
          "X": 0.8493266105651855,
          "Y": 0.3709956705570221,
          "count": 49,
          "label": "DIRE"
         },
         {
          "X": 0.7809913158416748,
          "Y": -2.468172311782837,
          "count": 49,
          "label": "DIRE"
         },
         {
          "X": -1.3968206644058228,
          "Y": -0.7054904103279114,
          "count": 49,
          "label": "DIRE"
         },
         {
          "X": 0.12445073574781418,
          "Y": 0.05000607669353485,
          "count": 49,
          "label": "DIRE"
         },
         {
          "X": -0.20227792859077454,
          "Y": 2.6058075428009033,
          "count": 49,
          "label": "DIRE"
         },
         {
          "X": 0.8493266105651855,
          "Y": 0.3709956705570221,
          "count": 49,
          "label": "DIRE"
         },
         {
          "X": -1.986215591430664,
          "Y": -1.3099150657653809,
          "count": 49,
          "label": "DIRE"
         },
         {
          "X": -1.669831395149231,
          "Y": 0.19383834302425385,
          "count": 49,
          "label": "DIRE"
         },
         {
          "X": 1.9539906978607178,
          "Y": 2.177903652191162,
          "count": 49,
          "label": "DIRE"
         },
         {
          "X": 0.12445073574781418,
          "Y": 0.05000607669353485,
          "count": 49,
          "label": "DIRE"
         },
         {
          "X": 0.2876945436000824,
          "Y": 1.8856663703918457,
          "count": 49,
          "label": "DIRE"
         },
         {
          "X": 0.7133759260177612,
          "Y": 1.2155088186264038,
          "count": 49,
          "label": "DIRE"
         },
         {
          "X": 1.9337143898010254,
          "Y": 0.7559248805046082,
          "count": 49,
          "label": "DIRE"
         },
         {
          "X": 1.5576236248016357,
          "Y": 0.37839797139167786,
          "count": 49,
          "label": "DIRE"
         },
         {
          "X": -0.7744936347007751,
          "Y": 0.43829581141471863,
          "count": 49,
          "label": "DIRE"
         },
         {
          "X": -1.3455700874328613,
          "Y": 1.0156828165054321,
          "count": 49,
          "label": "DIRE"
         },
         {
          "X": 0.9383410811424255,
          "Y": -0.30791112780570984,
          "count": 49,
          "label": "DIRE"
         },
         {
          "X": 0.9383410811424255,
          "Y": -0.30791112780570984,
          "count": 49,
          "label": "DIRE"
         },
         {
          "X": -0.7744936347007751,
          "Y": 0.43829581141471863,
          "count": 49,
          "label": "DIRE"
         },
         {
          "X": 0.7133759260177612,
          "Y": 1.2155088186264038,
          "count": 49,
          "label": "DIRE"
         },
         {
          "X": 1.4603018760681152,
          "Y": 1.5007543563842773,
          "count": 49,
          "label": "DIRE"
         },
         {
          "X": -0.8002203106880188,
          "Y": -1.5430399179458618,
          "count": 49,
          "label": "DIRE"
         },
         {
          "X": 0.7769594192504883,
          "Y": -0.937835156917572,
          "count": 49,
          "label": "DIRE"
         },
         {
          "X": -0.5734463334083557,
          "Y": 1.4404056072235107,
          "count": 56,
          "label": "RIEN "
         },
         {
          "X": -0.038906216621398926,
          "Y": -1.3321967124938965,
          "count": 56,
          "label": "RIEN "
         },
         {
          "X": 1.5444684028625488,
          "Y": -2.3124451637268066,
          "count": 56,
          "label": "RIEN "
         },
         {
          "X": 0.8493266105651855,
          "Y": 0.3709956705570221,
          "count": 56,
          "label": "RIEN "
         },
         {
          "X": 0.7569299340248108,
          "Y": -1.7701759338378906,
          "count": 56,
          "label": "RIEN "
         },
         {
          "X": -0.5316834449768066,
          "Y": -0.3826110363006592,
          "count": 56,
          "label": "RIEN "
         },
         {
          "X": 2.189912796020508,
          "Y": -0.3414364457130432,
          "count": 56,
          "label": "RIEN "
         },
         {
          "X": -0.7827644348144531,
          "Y": -1.1214321851730347,
          "count": 56,
          "label": "RIEN "
         },
         {
          "X": 0.3275226056575775,
          "Y": 1.327501893043518,
          "count": 56,
          "label": "RIEN "
         },
         {
          "X": -0.2342323362827301,
          "Y": -2.38041090965271,
          "count": 56,
          "label": "RIEN "
         },
         {
          "X": -0.5727768540382385,
          "Y": 0.19141483306884766,
          "count": 56,
          "label": "RIEN "
         },
         {
          "X": 0.12445073574781418,
          "Y": 0.05000607669353485,
          "count": 56,
          "label": "RIEN "
         },
         {
          "X": 0.12445073574781418,
          "Y": 0.05000607669353485,
          "count": 56,
          "label": "RIEN "
         },
         {
          "X": -1.986215591430664,
          "Y": -1.3099150657653809,
          "count": 56,
          "label": "RIEN "
         },
         {
          "X": -1.4802589416503906,
          "Y": -0.13927695155143738,
          "count": 56,
          "label": "RIEN "
         },
         {
          "X": 1.9337143898010254,
          "Y": 0.7559248805046082,
          "count": 56,
          "label": "RIEN "
         },
         {
          "X": 0.5037851333618164,
          "Y": -0.36826446652412415,
          "count": 56,
          "label": "RIEN "
         },
         {
          "X": 0.7769594192504883,
          "Y": -0.937835156917572,
          "count": 56,
          "label": "RIEN "
         },
         {
          "X": 0.7809913158416748,
          "Y": -2.468172311782837,
          "count": 56,
          "label": "RIEN "
         },
         {
          "X": 0.7133759260177612,
          "Y": 1.2155088186264038,
          "count": 56,
          "label": "RIEN "
         },
         {
          "X": 0.5059654712677002,
          "Y": -0.36345821619033813,
          "count": 56,
          "label": "RIEN "
         },
         {
          "X": 1.7958910465240479,
          "Y": -1.4791693687438965,
          "count": 56,
          "label": "RIEN "
         },
         {
          "X": 0.2876945436000824,
          "Y": 1.8856663703918457,
          "count": 56,
          "label": "RIEN "
         },
         {
          "X": 0.5215978622436523,
          "Y": -1.8576406240463257,
          "count": 56,
          "label": "RIEN "
         },
         {
          "X": 1.9337143898010254,
          "Y": 0.7559248805046082,
          "count": 56,
          "label": "RIEN "
         },
         {
          "X": -0.7744936347007751,
          "Y": 0.43829581141471863,
          "count": 56,
          "label": "RIEN "
         },
         {
          "X": -0.010860791429877281,
          "Y": 0.7860143780708313,
          "count": 56,
          "label": "RIEN "
         },
         {
          "X": 0.006693319883197546,
          "Y": -0.5674325227737427,
          "count": 56,
          "label": "RIEN "
         },
         {
          "X": 0.5004889369010925,
          "Y": -0.3752165734767914,
          "count": 56,
          "label": "RIEN "
         },
         {
          "X": -1.3455700874328613,
          "Y": 1.0156828165054321,
          "count": 56,
          "label": "RIEN "
         },
         {
          "X": 0.12445073574781418,
          "Y": 0.05000607669353485,
          "count": 56,
          "label": "RIEN "
         },
         {
          "X": -1.669831395149231,
          "Y": 0.19383834302425385,
          "count": 56,
          "label": "RIEN "
         },
         {
          "X": 0.7133759260177612,
          "Y": 1.2155088186264038,
          "count": 56,
          "label": "RIEN "
         },
         {
          "X": 0.08518155664205551,
          "Y": -0.5668357610702515,
          "count": 56,
          "label": "RIEN "
         },
         {
          "X": 1.9539906978607178,
          "Y": 2.177903652191162,
          "count": 56,
          "label": "RIEN "
         },
         {
          "X": 0.12445073574781418,
          "Y": 0.05000607669353485,
          "count": 56,
          "label": "RIEN "
         },
         {
          "X": -0.5288838148117065,
          "Y": -0.4518406093120575,
          "count": 56,
          "label": "RIEN "
         },
         {
          "X": 0.7809913158416748,
          "Y": -2.468172311782837,
          "count": 56,
          "label": "RIEN "
         },
         {
          "X": 1.4603018760681152,
          "Y": 1.5007543563842773,
          "count": 56,
          "label": "RIEN "
         },
         {
          "X": -0.7890880703926086,
          "Y": -1.0077091455459595,
          "count": 56,
          "label": "RIEN "
         },
         {
          "X": -1.0455948114395142,
          "Y": 0.62473464012146,
          "count": 56,
          "label": "RIEN "
         },
         {
          "X": 2.356484889984131,
          "Y": 1.6304043531417847,
          "count": 56,
          "label": "RIEN "
         },
         {
          "X": -0.2342323362827301,
          "Y": -2.38041090965271,
          "count": 56,
          "label": "RIEN "
         },
         {
          "X": -1.986215591430664,
          "Y": -1.3099150657653809,
          "count": 56,
          "label": "RIEN "
         },
         {
          "X": -0.010860791429877281,
          "Y": 0.7860143780708313,
          "count": 56,
          "label": "RIEN "
         },
         {
          "X": 1.490423321723938,
          "Y": -0.8618544936180115,
          "count": 56,
          "label": "RIEN "
         },
         {
          "X": 0.8493266105651855,
          "Y": 0.3709956705570221,
          "count": 56,
          "label": "RIEN "
         },
         {
          "X": 1.4603018760681152,
          "Y": 1.5007543563842773,
          "count": 56,
          "label": "RIEN "
         },
         {
          "X": 1.7958910465240479,
          "Y": -1.4791693687438965,
          "count": 56,
          "label": "RIEN "
         },
         {
          "X": -0.7520882487297058,
          "Y": -0.2695270776748657,
          "count": 56,
          "label": "RIEN "
         },
         {
          "X": -1.4802589416503906,
          "Y": -0.13927695155143738,
          "count": 56,
          "label": "RIEN "
         },
         {
          "X": 0.030435696244239807,
          "Y": 1.9478543996810913,
          "count": 56,
          "label": "RIEN "
         },
         {
          "X": -0.010860791429877281,
          "Y": 0.7860143780708313,
          "count": 56,
          "label": "RIEN "
         },
         {
          "X": 0.9383410811424255,
          "Y": -0.30791112780570984,
          "count": 56,
          "label": "RIEN "
         },
         {
          "X": -0.5316834449768066,
          "Y": -0.3826110363006592,
          "count": 56,
          "label": "RIEN "
         },
         {
          "X": 0.2876945436000824,
          "Y": 1.8856663703918457,
          "count": 56,
          "label": "RIEN "
         },
         {
          "X": 1.5576236248016357,
          "Y": 0.37839797139167786,
          "count": 96,
          "label": "QUOI"
         },
         {
          "X": -0.2342323362827301,
          "Y": -2.38041090965271,
          "count": 96,
          "label": "QUOI"
         },
         {
          "X": -0.7458605766296387,
          "Y": 2.3939642906188965,
          "count": 96,
          "label": "QUOI"
         },
         {
          "X": 0.9383410811424255,
          "Y": -0.30791112780570984,
          "count": 96,
          "label": "QUOI"
         },
         {
          "X": 0.5004889369010925,
          "Y": -0.3752165734767914,
          "count": 96,
          "label": "QUOI"
         },
         {
          "X": -1.433718204498291,
          "Y": -1.7712657451629639,
          "count": 96,
          "label": "QUOI"
         },
         {
          "X": 0.6420198082923889,
          "Y": -1.793840765953064,
          "count": 96,
          "label": "QUOI"
         },
         {
          "X": -1.0455948114395142,
          "Y": 0.62473464012146,
          "count": 96,
          "label": "QUOI"
         },
         {
          "X": 1.7958910465240479,
          "Y": -1.4791693687438965,
          "count": 96,
          "label": "QUOI"
         },
         {
          "X": -1.433718204498291,
          "Y": -1.7712657451629639,
          "count": 96,
          "label": "QUOI"
         },
         {
          "X": 2.2986629009246826,
          "Y": -2.04585337638855,
          "count": 96,
          "label": "QUOI"
         },
         {
          "X": -0.7520882487297058,
          "Y": -0.2695270776748657,
          "count": 96,
          "label": "QUOI"
         },
         {
          "X": -0.010860791429877281,
          "Y": 0.7860143780708313,
          "count": 96,
          "label": "QUOI"
         },
         {
          "X": 0.5022168159484863,
          "Y": -0.369074285030365,
          "count": 96,
          "label": "QUOI"
         },
         {
          "X": -0.7890880703926086,
          "Y": -1.0077091455459595,
          "count": 96,
          "label": "QUOI"
         },
         {
          "X": 0.5037851333618164,
          "Y": -0.36826446652412415,
          "count": 96,
          "label": "QUOI"
         },
         {
          "X": 0.7769594192504883,
          "Y": -0.937835156917572,
          "count": 96,
          "label": "QUOI"
         },
         {
          "X": 0.8493266105651855,
          "Y": 0.3709956705570221,
          "count": 96,
          "label": "QUOI"
         },
         {
          "X": 0.2876945436000824,
          "Y": 1.8856663703918457,
          "count": 96,
          "label": "QUOI"
         },
         {
          "X": -1.4802589416503906,
          "Y": -0.13927695155143738,
          "count": 96,
          "label": "QUOI"
         },
         {
          "X": 0.8493266105651855,
          "Y": 0.3709956705570221,
          "count": 96,
          "label": "QUOI"
         },
         {
          "X": 1.5444684028625488,
          "Y": -2.3124451637268066,
          "count": 96,
          "label": "QUOI"
         },
         {
          "X": 1.3840988874435425,
          "Y": -0.24738861620426178,
          "count": 96,
          "label": "QUOI"
         },
         {
          "X": 1.0381417274475098,
          "Y": 2.305878162384033,
          "count": 96,
          "label": "QUOI"
         },
         {
          "X": -1.372414469718933,
          "Y": 1.3572791814804077,
          "count": 96,
          "label": "QUOI"
         },
         {
          "X": 0.9383410811424255,
          "Y": -0.30791112780570984,
          "count": 96,
          "label": "QUOI"
         },
         {
          "X": -1.433718204498291,
          "Y": -1.7712657451629639,
          "count": 96,
          "label": "QUOI"
         },
         {
          "X": -0.5734463334083557,
          "Y": 1.4404056072235107,
          "count": 96,
          "label": "QUOI"
         },
         {
          "X": -0.7890880703926086,
          "Y": -1.0077091455459595,
          "count": 96,
          "label": "QUOI"
         },
         {
          "X": 1.9337143898010254,
          "Y": 0.7559248805046082,
          "count": 96,
          "label": "QUOI"
         },
         {
          "X": 2.8399338722229004,
          "Y": 0.9212411046028137,
          "count": 96,
          "label": "QUOI"
         },
         {
          "X": -1.3455700874328613,
          "Y": 1.0156828165054321,
          "count": 96,
          "label": "QUOI"
         },
         {
          "X": 0.7769594192504883,
          "Y": -0.937835156917572,
          "count": 96,
          "label": "QUOI"
         },
         {
          "X": 1.0381417274475098,
          "Y": 2.305878162384033,
          "count": 96,
          "label": "QUOI"
         },
         {
          "X": -0.038906216621398926,
          "Y": -1.3321967124938965,
          "count": 96,
          "label": "QUOI"
         },
         {
          "X": -0.7890880703926086,
          "Y": -1.0077091455459595,
          "count": 96,
          "label": "QUOI"
         },
         {
          "X": 3.1168785095214844,
          "Y": -0.411366730928421,
          "count": 96,
          "label": "QUOI"
         },
         {
          "X": -1.669831395149231,
          "Y": 0.19383834302425385,
          "count": 96,
          "label": "QUOI"
         },
         {
          "X": 1.0381417274475098,
          "Y": 2.305878162384033,
          "count": 96,
          "label": "QUOI"
         },
         {
          "X": -0.5263254046440125,
          "Y": -0.5030304193496704,
          "count": 96,
          "label": "QUOI"
         },
         {
          "X": 0.8493266105651855,
          "Y": 0.3709956705570221,
          "count": 96,
          "label": "QUOI"
         },
         {
          "X": -0.038906216621398926,
          "Y": -1.3321967124938965,
          "count": 96,
          "label": "QUOI"
         },
         {
          "X": 2.189912796020508,
          "Y": -0.3414364457130432,
          "count": 96,
          "label": "QUOI"
         },
         {
          "X": -1.3968206644058228,
          "Y": -0.7054904103279114,
          "count": 96,
          "label": "QUOI"
         },
         {
          "X": 1.4603018760681152,
          "Y": 1.5007543563842773,
          "count": 96,
          "label": "QUOI"
         },
         {
          "X": -1.3968206644058228,
          "Y": -0.7054904103279114,
          "count": 96,
          "label": "QUOI"
         },
         {
          "X": 1.0381417274475098,
          "Y": 2.305878162384033,
          "count": 96,
          "label": "QUOI"
         },
         {
          "X": 1.5576236248016357,
          "Y": 0.37839797139167786,
          "count": 96,
          "label": "QUOI"
         },
         {
          "X": 2.189912796020508,
          "Y": -0.3414364457130432,
          "count": 96,
          "label": "QUOI"
         },
         {
          "X": 1.7958910465240479,
          "Y": -1.4791693687438965,
          "count": 96,
          "label": "QUOI"
         },
         {
          "X": -0.7890880703926086,
          "Y": -1.0077091455459595,
          "count": 96,
          "label": "QUOI"
         },
         {
          "X": -0.010860791429877281,
          "Y": 0.7860143780708313,
          "count": 96,
          "label": "QUOI"
         },
         {
          "X": 0.12445073574781418,
          "Y": 0.05000607669353485,
          "count": 96,
          "label": "QUOI"
         },
         {
          "X": 1.9337143898010254,
          "Y": 0.7559248805046082,
          "count": 96,
          "label": "QUOI"
         },
         {
          "X": -0.7890880703926086,
          "Y": -1.0077091455459595,
          "count": 96,
          "label": "QUOI"
         },
         {
          "X": 0.8493266105651855,
          "Y": 0.3709956705570221,
          "count": 96,
          "label": "QUOI"
         },
         {
          "X": 2.8399338722229004,
          "Y": 0.9212411046028137,
          "count": 96,
          "label": "QUOI"
         },
         {
          "X": 0.8493266105651855,
          "Y": 0.3709956705570221,
          "count": 96,
          "label": "QUOI"
         },
         {
          "X": 0.7769594192504883,
          "Y": -0.937835156917572,
          "count": 96,
          "label": "QUOI"
         },
         {
          "X": 0.8493266105651855,
          "Y": 0.3709956705570221,
          "count": 96,
          "label": "QUOI"
         },
         {
          "X": -1.664787769317627,
          "Y": 1.7272974252700806,
          "count": 96,
          "label": "QUOI"
         },
         {
          "X": -0.5734463334083557,
          "Y": 1.4404056072235107,
          "count": 96,
          "label": "QUOI"
         },
         {
          "X": -1.664787769317627,
          "Y": 1.7272974252700806,
          "count": 96,
          "label": "QUOI"
         },
         {
          "X": 2.189912796020508,
          "Y": -0.3414364457130432,
          "count": 96,
          "label": "QUOI"
         },
         {
          "X": -0.535822331905365,
          "Y": -0.45780566334724426,
          "count": 96,
          "label": "QUOI"
         },
         {
          "X": 1.7958910465240479,
          "Y": -1.4791693687438965,
          "count": 96,
          "label": "QUOI"
         },
         {
          "X": -1.474680781364441,
          "Y": 0.5168231129646301,
          "count": 96,
          "label": "QUOI"
         },
         {
          "X": 1.9337143898010254,
          "Y": 0.7559248805046082,
          "count": 96,
          "label": "QUOI"
         },
         {
          "X": -0.7890880703926086,
          "Y": -1.0077091455459595,
          "count": 96,
          "label": "QUOI"
         },
         {
          "X": 0.7769594192504883,
          "Y": -0.937835156917572,
          "count": 96,
          "label": "QUOI"
         },
         {
          "X": 0.5022168159484863,
          "Y": -0.369074285030365,
          "count": 96,
          "label": "QUOI"
         },
         {
          "X": 0.8493266105651855,
          "Y": 0.3709956705570221,
          "count": 96,
          "label": "QUOI"
         },
         {
          "X": 3.1163887977600098,
          "Y": -0.36505642533302307,
          "count": 96,
          "label": "QUOI"
         },
         {
          "X": 2.189912796020508,
          "Y": -0.3414364457130432,
          "count": 96,
          "label": "QUOI"
         },
         {
          "X": -2.2484381198883057,
          "Y": -0.08005529642105103,
          "count": 96,
          "label": "QUOI"
         },
         {
          "X": 2.189912796020508,
          "Y": -0.3414364457130432,
          "count": 96,
          "label": "QUOI"
         },
         {
          "X": -0.5316834449768066,
          "Y": -0.3826110363006592,
          "count": 96,
          "label": "QUOI"
         },
         {
          "X": -0.010860791429877281,
          "Y": 0.7860143780708313,
          "count": 96,
          "label": "QUOI"
         },
         {
          "X": 0.7133759260177612,
          "Y": 1.2155088186264038,
          "count": 96,
          "label": "QUOI"
         },
         {
          "X": 1.7958910465240479,
          "Y": -1.4791693687438965,
          "count": 96,
          "label": "QUOI"
         },
         {
          "X": 1.490423321723938,
          "Y": -0.8618544936180115,
          "count": 96,
          "label": "QUOI"
         },
         {
          "X": -1.669831395149231,
          "Y": 0.19383834302425385,
          "count": 96,
          "label": "QUOI"
         },
         {
          "X": 1.3840988874435425,
          "Y": -0.24738861620426178,
          "count": 96,
          "label": "QUOI"
         },
         {
          "X": -0.6066305637359619,
          "Y": 0.047458481043577194,
          "count": 96,
          "label": "QUOI"
         },
         {
          "X": 0.3065185546875,
          "Y": -2.5074639320373535,
          "count": 96,
          "label": "QUOI"
         },
         {
          "X": 0.7133759260177612,
          "Y": 1.2155088186264038,
          "count": 96,
          "label": "QUOI"
         },
         {
          "X": 0.5004889369010925,
          "Y": -0.3752165734767914,
          "count": 96,
          "label": "QUOI"
         },
         {
          "X": 2.5816004276275635,
          "Y": -1.5323636531829834,
          "count": 96,
          "label": "QUOI"
         },
         {
          "X": 0.08518155664205551,
          "Y": -0.5668357610702515,
          "count": 96,
          "label": "QUOI"
         },
         {
          "X": 0.8493266105651855,
          "Y": 0.3709956705570221,
          "count": 96,
          "label": "QUOI"
         },
         {
          "X": -0.010860791429877281,
          "Y": 0.7860143780708313,
          "count": 96,
          "label": "QUOI"
         },
         {
          "X": 0.5021163821220398,
          "Y": -0.36915501952171326,
          "count": 96,
          "label": "QUOI"
         },
         {
          "X": -0.5316834449768066,
          "Y": -0.3826110363006592,
          "count": 96,
          "label": "QUOI"
         },
         {
          "X": -1.474680781364441,
          "Y": 0.5168231129646301,
          "count": 96,
          "label": "QUOI"
         },
         {
          "X": 0.08518155664205551,
          "Y": -0.5668357610702515,
          "count": 96,
          "label": "QUOI"
         },
         {
          "X": 1.0381417274475098,
          "Y": 2.305878162384033,
          "count": 96,
          "label": "QUOI"
         },
         {
          "X": 0.8493266105651855,
          "Y": 0.3709956705570221,
          "count": 77,
          "label": "MAIS"
         },
         {
          "X": -2.2484381198883057,
          "Y": -0.08005529642105103,
          "count": 77,
          "label": "MAIS"
         },
         {
          "X": -0.5734463334083557,
          "Y": 1.4404056072235107,
          "count": 77,
          "label": "MAIS"
         },
         {
          "X": 2.189912796020508,
          "Y": -0.3414364457130432,
          "count": 77,
          "label": "MAIS"
         },
         {
          "X": 1.490423321723938,
          "Y": -0.8618544936180115,
          "count": 77,
          "label": "MAIS"
         },
         {
          "X": 2.796124219894409,
          "Y": 0.428219199180603,
          "count": 77,
          "label": "MAIS"
         },
         {
          "X": -0.010860791429877281,
          "Y": 0.7860143780708313,
          "count": 77,
          "label": "MAIS"
         },
         {
          "X": 0.5215978622436523,
          "Y": -1.8576406240463257,
          "count": 77,
          "label": "MAIS"
         },
         {
          "X": 0.12445073574781418,
          "Y": 0.05000607669353485,
          "count": 77,
          "label": "MAIS"
         },
         {
          "X": -0.010860791429877281,
          "Y": 0.7860143780708313,
          "count": 77,
          "label": "MAIS"
         },
         {
          "X": 2.5976979732513428,
          "Y": 1.3837021589279175,
          "count": 77,
          "label": "MAIS"
         },
         {
          "X": -0.7744936347007751,
          "Y": 0.43829581141471863,
          "count": 77,
          "label": "MAIS"
         },
         {
          "X": -2.2484381198883057,
          "Y": -0.08005529642105103,
          "count": 77,
          "label": "MAIS"
         },
         {
          "X": -0.010860791429877281,
          "Y": 0.7860143780708313,
          "count": 77,
          "label": "MAIS"
         },
         {
          "X": -0.2342323362827301,
          "Y": -2.38041090965271,
          "count": 77,
          "label": "MAIS"
         },
         {
          "X": 0.7569299340248108,
          "Y": -1.7701759338378906,
          "count": 77,
          "label": "MAIS"
         },
         {
          "X": 2.8399338722229004,
          "Y": 0.9212411046028137,
          "count": 77,
          "label": "MAIS"
         },
         {
          "X": -0.010860791429877281,
          "Y": 0.7860143780708313,
          "count": 77,
          "label": "MAIS"
         },
         {
          "X": 2.2986629009246826,
          "Y": -2.04585337638855,
          "count": 77,
          "label": "MAIS"
         },
         {
          "X": 1.0381417274475098,
          "Y": 2.305878162384033,
          "count": 77,
          "label": "MAIS"
         },
         {
          "X": 0.12445073574781418,
          "Y": 0.05000607669353485,
          "count": 77,
          "label": "MAIS"
         },
         {
          "X": -1.4802589416503906,
          "Y": -0.13927695155143738,
          "count": 77,
          "label": "MAIS"
         },
         {
          "X": 0.08518155664205551,
          "Y": -0.5668357610702515,
          "count": 77,
          "label": "MAIS"
         },
         {
          "X": 0.7769594192504883,
          "Y": -0.937835156917572,
          "count": 77,
          "label": "MAIS"
         },
         {
          "X": 2.189912796020508,
          "Y": -0.3414364457130432,
          "count": 77,
          "label": "MAIS"
         },
         {
          "X": -1.433718204498291,
          "Y": -1.7712657451629639,
          "count": 77,
          "label": "MAIS"
         },
         {
          "X": 0.5059654712677002,
          "Y": -0.36345821619033813,
          "count": 77,
          "label": "MAIS"
         },
         {
          "X": 1.0381417274475098,
          "Y": 2.305878162384033,
          "count": 77,
          "label": "MAIS"
         },
         {
          "X": 2.8399338722229004,
          "Y": 0.9212411046028137,
          "count": 77,
          "label": "MAIS"
         },
         {
          "X": -0.5734463334083557,
          "Y": 1.4404056072235107,
          "count": 77,
          "label": "MAIS"
         },
         {
          "X": 2.8399338722229004,
          "Y": 0.9212411046028137,
          "count": 77,
          "label": "MAIS"
         },
         {
          "X": 0.030435696244239807,
          "Y": 1.9478543996810913,
          "count": 77,
          "label": "MAIS"
         },
         {
          "X": 2.189912796020508,
          "Y": -0.3414364457130432,
          "count": 77,
          "label": "MAIS"
         },
         {
          "X": 0.8493266105651855,
          "Y": 0.3709956705570221,
          "count": 77,
          "label": "MAIS"
         },
         {
          "X": -1.4802589416503906,
          "Y": -0.13927695155143738,
          "count": 77,
          "label": "MAIS"
         },
         {
          "X": -0.20227792859077454,
          "Y": 2.6058075428009033,
          "count": 77,
          "label": "MAIS"
         },
         {
          "X": 0.12445073574781418,
          "Y": 0.05000607669353485,
          "count": 77,
          "label": "MAIS"
         },
         {
          "X": 1.0381417274475098,
          "Y": 2.305878162384033,
          "count": 77,
          "label": "MAIS"
         },
         {
          "X": 1.1252766847610474,
          "Y": -1.8188939094543457,
          "count": 77,
          "label": "MAIS"
         },
         {
          "X": -0.038906216621398926,
          "Y": -1.3321967124938965,
          "count": 77,
          "label": "MAIS"
         },
         {
          "X": 0.12445073574781418,
          "Y": 0.05000607669353485,
          "count": 77,
          "label": "MAIS"
         },
         {
          "X": -0.5734463334083557,
          "Y": 1.4404056072235107,
          "count": 77,
          "label": "MAIS"
         },
         {
          "X": 0.8493266105651855,
          "Y": 0.3709956705570221,
          "count": 77,
          "label": "MAIS"
         },
         {
          "X": 0.7133759260177612,
          "Y": 1.2155088186264038,
          "count": 77,
          "label": "MAIS"
         },
         {
          "X": -0.8977599740028381,
          "Y": -2.1725804805755615,
          "count": 77,
          "label": "MAIS"
         },
         {
          "X": -0.7744936347007751,
          "Y": 0.43829581141471863,
          "count": 77,
          "label": "MAIS"
         },
         {
          "X": 0.8493266105651855,
          "Y": 0.3709956705570221,
          "count": 77,
          "label": "MAIS"
         },
         {
          "X": 0.5037851333618164,
          "Y": -0.36826446652412415,
          "count": 77,
          "label": "MAIS"
         },
         {
          "X": -0.038906216621398926,
          "Y": -1.3321967124938965,
          "count": 77,
          "label": "MAIS"
         },
         {
          "X": 0.7133759260177612,
          "Y": 1.2155088186264038,
          "count": 77,
          "label": "MAIS"
         },
         {
          "X": 1.7958910465240479,
          "Y": -1.4791693687438965,
          "count": 77,
          "label": "MAIS"
         },
         {
          "X": -1.3968206644058228,
          "Y": -0.7054904103279114,
          "count": 77,
          "label": "MAIS"
         },
         {
          "X": -0.5734463334083557,
          "Y": 1.4404056072235107,
          "count": 77,
          "label": "MAIS"
         },
         {
          "X": 3.1184773445129395,
          "Y": 0.05429292470216751,
          "count": 77,
          "label": "MAIS"
         },
         {
          "X": 0.12445073574781418,
          "Y": 0.05000607669353485,
          "count": 77,
          "label": "MAIS"
         },
         {
          "X": -1.664787769317627,
          "Y": 1.7272974252700806,
          "count": 77,
          "label": "MAIS"
         },
         {
          "X": 1.4603018760681152,
          "Y": 1.5007543563842773,
          "count": 77,
          "label": "MAIS"
         },
         {
          "X": 0.3275226056575775,
          "Y": 1.327501893043518,
          "count": 77,
          "label": "MAIS"
         },
         {
          "X": 0.7769594192504883,
          "Y": -0.937835156917572,
          "count": 77,
          "label": "MAIS"
         },
         {
          "X": 0.7769594192504883,
          "Y": -0.937835156917572,
          "count": 77,
          "label": "MAIS"
         },
         {
          "X": -1.1061962842941284,
          "Y": 2.2150063514709473,
          "count": 77,
          "label": "MAIS"
         },
         {
          "X": 0.8493266105651855,
          "Y": 0.3709956705570221,
          "count": 77,
          "label": "MAIS"
         },
         {
          "X": 3.056864023208618,
          "Y": 0.18146811425685883,
          "count": 77,
          "label": "MAIS"
         },
         {
          "X": 0.12445073574781418,
          "Y": 0.05000607669353485,
          "count": 77,
          "label": "MAIS"
         },
         {
          "X": 0.08518155664205551,
          "Y": -0.5668357610702515,
          "count": 77,
          "label": "MAIS"
         },
         {
          "X": 0.7809913158416748,
          "Y": -2.468172311782837,
          "count": 77,
          "label": "MAIS"
         },
         {
          "X": 2.8399338722229004,
          "Y": 0.9212411046028137,
          "count": 77,
          "label": "MAIS"
         },
         {
          "X": -0.038906216621398926,
          "Y": -1.3321967124938965,
          "count": 77,
          "label": "MAIS"
         },
         {
          "X": -0.8977599740028381,
          "Y": -2.1725804805755615,
          "count": 77,
          "label": "MAIS"
         },
         {
          "X": 0.5021163821220398,
          "Y": -0.36915501952171326,
          "count": 77,
          "label": "MAIS"
         },
         {
          "X": 0.006693319883197546,
          "Y": -0.5674325227737427,
          "count": 77,
          "label": "MAIS"
         },
         {
          "X": -0.010860791429877281,
          "Y": 0.7860143780708313,
          "count": 77,
          "label": "MAIS"
         },
         {
          "X": -1.0455948114395142,
          "Y": 0.62473464012146,
          "count": 77,
          "label": "MAIS"
         },
         {
          "X": -0.038906216621398926,
          "Y": -1.3321967124938965,
          "count": 77,
          "label": "MAIS"
         },
         {
          "X": 0.9383410811424255,
          "Y": -0.30791112780570984,
          "count": 77,
          "label": "MAIS"
         },
         {
          "X": 0.9383410811424255,
          "Y": -0.30791112780570984,
          "count": 77,
          "label": "MAIS"
         },
         {
          "X": -0.5734463334083557,
          "Y": 1.4404056072235107,
          "count": 77,
          "label": "MAIS"
         },
         {
          "X": -1.4223387241363525,
          "Y": -1.1469751596450806,
          "count": 52,
          "label": "PLUS.P"
         },
         {
          "X": 0.08518155664205551,
          "Y": -0.5668357610702515,
          "count": 52,
          "label": "PLUS.P"
         },
         {
          "X": 0.5021993517875671,
          "Y": -0.3690900206565857,
          "count": 52,
          "label": "PLUS.P"
         },
         {
          "X": -1.3968206644058228,
          "Y": -0.7054904103279114,
          "count": 52,
          "label": "PLUS.P"
         },
         {
          "X": 1.5576236248016357,
          "Y": 0.37839797139167786,
          "count": 52,
          "label": "PLUS.P"
         },
         {
          "X": 2.189912796020508,
          "Y": -0.3414364457130432,
          "count": 52,
          "label": "PLUS.P"
         },
         {
          "X": -0.010860791429877281,
          "Y": 0.7860143780708313,
          "count": 52,
          "label": "PLUS.P"
         },
         {
          "X": 0.7769594192504883,
          "Y": -0.937835156917572,
          "count": 52,
          "label": "PLUS.P"
         },
         {
          "X": 1.9337143898010254,
          "Y": 0.7559248805046082,
          "count": 52,
          "label": "PLUS.P"
         },
         {
          "X": 2.189912796020508,
          "Y": -0.3414364457130432,
          "count": 52,
          "label": "PLUS.P"
         },
         {
          "X": 0.12445073574781418,
          "Y": 0.05000607669353485,
          "count": 52,
          "label": "PLUS.P"
         },
         {
          "X": -0.010860791429877281,
          "Y": 0.7860143780708313,
          "count": 52,
          "label": "PLUS.P"
         },
         {
          "X": 0.4047434628009796,
          "Y": 2.6628003120422363,
          "count": 52,
          "label": "PLUS.P"
         },
         {
          "X": -0.010860791429877281,
          "Y": 0.7860143780708313,
          "count": 52,
          "label": "PLUS.P"
         },
         {
          "X": 1.7958910465240479,
          "Y": -1.4791693687438965,
          "count": 52,
          "label": "PLUS.P"
         },
         {
          "X": 1.5444684028625488,
          "Y": -2.3124451637268066,
          "count": 52,
          "label": "PLUS.P"
         },
         {
          "X": 0.12445073574781418,
          "Y": 0.05000607669353485,
          "count": 52,
          "label": "PLUS.P"
         },
         {
          "X": 0.8493266105651855,
          "Y": 0.3709956705570221,
          "count": 52,
          "label": "PLUS.P"
         },
         {
          "X": 0.7133759260177612,
          "Y": 1.2155088186264038,
          "count": 52,
          "label": "PLUS.P"
         },
         {
          "X": 1.1252766847610474,
          "Y": -1.8188939094543457,
          "count": 52,
          "label": "PLUS.P"
         },
         {
          "X": 1.9337143898010254,
          "Y": 0.7559248805046082,
          "count": 52,
          "label": "PLUS.P"
         },
         {
          "X": 0.7769594192504883,
          "Y": -0.937835156917572,
          "count": 52,
          "label": "PLUS.P"
         },
         {
          "X": -1.3455700874328613,
          "Y": 1.0156828165054321,
          "count": 52,
          "label": "PLUS.P"
         },
         {
          "X": 0.12445073574781418,
          "Y": 0.05000607669353485,
          "count": 52,
          "label": "PLUS.P"
         },
         {
          "X": 1.9337143898010254,
          "Y": 0.7559248805046082,
          "count": 52,
          "label": "PLUS.P"
         },
         {
          "X": -0.8932654857635498,
          "Y": 2.2788407802581787,
          "count": 52,
          "label": "PLUS.P"
         },
         {
          "X": -2.094820976257324,
          "Y": 0.9459067583084106,
          "count": 52,
          "label": "PLUS.P"
         },
         {
          "X": 0.054940976202487946,
          "Y": 1.9244228601455688,
          "count": 52,
          "label": "PLUS.P"
         },
         {
          "X": 2.8062100410461426,
          "Y": 0.41145914793014526,
          "count": 52,
          "label": "PLUS.P"
         },
         {
          "X": 1.7958910465240479,
          "Y": -1.4791693687438965,
          "count": 52,
          "label": "PLUS.P"
         },
         {
          "X": 1.565230369567871,
          "Y": 0.3735778033733368,
          "count": 52,
          "label": "PLUS.P"
         },
         {
          "X": 1.9337143898010254,
          "Y": 0.7559248805046082,
          "count": 52,
          "label": "PLUS.P"
         },
         {
          "X": 0.8493266105651855,
          "Y": 0.3709956705570221,
          "count": 52,
          "label": "PLUS.P"
         },
         {
          "X": 0.9383410811424255,
          "Y": -0.30791112780570984,
          "count": 52,
          "label": "PLUS.P"
         },
         {
          "X": 1.7958910465240479,
          "Y": -1.4791693687438965,
          "count": 52,
          "label": "PLUS.P"
         },
         {
          "X": 1.4603018760681152,
          "Y": 1.5007543563842773,
          "count": 52,
          "label": "PLUS.P"
         },
         {
          "X": -1.433718204498291,
          "Y": -1.7712657451629639,
          "count": 52,
          "label": "PLUS.P"
         },
         {
          "X": 0.12445073574781418,
          "Y": 0.05000607669353485,
          "count": 52,
          "label": "PLUS.P"
         },
         {
          "X": 1.3840988874435425,
          "Y": -0.24738861620426178,
          "count": 52,
          "label": "PLUS.P"
         },
         {
          "X": 1.5444684028625488,
          "Y": -2.3124451637268066,
          "count": 52,
          "label": "PLUS.P"
         },
         {
          "X": -1.3455700874328613,
          "Y": 1.0156828165054321,
          "count": 52,
          "label": "PLUS.P"
         },
         {
          "X": 0.7133759260177612,
          "Y": 1.2155088186264038,
          "count": 52,
          "label": "PLUS.P"
         },
         {
          "X": 0.4047434628009796,
          "Y": 2.6628003120422363,
          "count": 52,
          "label": "PLUS.P"
         },
         {
          "X": 0.8493266105651855,
          "Y": 0.3709956705570221,
          "count": 52,
          "label": "PLUS.P"
         },
         {
          "X": 0.7769594192504883,
          "Y": -0.937835156917572,
          "count": 52,
          "label": "PLUS.P"
         },
         {
          "X": 1.9337143898010254,
          "Y": 0.7559248805046082,
          "count": 52,
          "label": "PLUS.P"
         },
         {
          "X": 2.356484889984131,
          "Y": 1.6304043531417847,
          "count": 52,
          "label": "PLUS.P"
         },
         {
          "X": -0.038906216621398926,
          "Y": -1.3321967124938965,
          "count": 52,
          "label": "PLUS.P"
         },
         {
          "X": -1.664787769317627,
          "Y": 1.7272974252700806,
          "count": 52,
          "label": "PLUS.P"
         },
         {
          "X": -0.010860791429877281,
          "Y": 0.7860143780708313,
          "count": 52,
          "label": "PLUS.P"
         },
         {
          "X": 0.7809913158416748,
          "Y": -2.468172311782837,
          "count": 52,
          "label": "PLUS.P"
         },
         {
          "X": 1.227840542793274,
          "Y": 1.0427117347717285,
          "count": 52,
          "label": "PLUS.P"
         },
         {
          "X": -0.20227792859077454,
          "Y": 2.6058075428009033,
          "count": 116,
          "label": "GSIGN"
         },
         {
          "X": 0.12445073574781418,
          "Y": 0.05000607669353485,
          "count": 116,
          "label": "GSIGN"
         },
         {
          "X": -1.664787769317627,
          "Y": 1.7272974252700806,
          "count": 116,
          "label": "GSIGN"
         },
         {
          "X": -0.2342323362827301,
          "Y": -2.38041090965271,
          "count": 116,
          "label": "GSIGN"
         },
         {
          "X": -1.4223387241363525,
          "Y": -1.1469751596450806,
          "count": 116,
          "label": "GSIGN"
         },
         {
          "X": 0.12445073574781418,
          "Y": 0.05000607669353485,
          "count": 116,
          "label": "GSIGN"
         },
         {
          "X": 0.9383410811424255,
          "Y": -0.30791112780570984,
          "count": 116,
          "label": "GSIGN"
         },
         {
          "X": 0.7769594192504883,
          "Y": -0.937835156917572,
          "count": 116,
          "label": "GSIGN"
         },
         {
          "X": -1.433718204498291,
          "Y": -1.7712657451629639,
          "count": 116,
          "label": "GSIGN"
         },
         {
          "X": 1.9539906978607178,
          "Y": 2.177903652191162,
          "count": 116,
          "label": "GSIGN"
         },
         {
          "X": -0.7744936347007751,
          "Y": 0.43829581141471863,
          "count": 116,
          "label": "GSIGN"
         },
         {
          "X": -0.038906216621398926,
          "Y": -1.3321967124938965,
          "count": 116,
          "label": "GSIGN"
         },
         {
          "X": 0.5059654712677002,
          "Y": -0.36345821619033813,
          "count": 116,
          "label": "GSIGN"
         },
         {
          "X": -2.330791473388672,
          "Y": 0.45270487666130066,
          "count": 116,
          "label": "GSIGN"
         },
         {
          "X": 0.8493266105651855,
          "Y": 0.3709956705570221,
          "count": 116,
          "label": "GSIGN"
         },
         {
          "X": 0.12445073574781418,
          "Y": 0.05000607669353485,
          "count": 116,
          "label": "GSIGN"
         },
         {
          "X": -0.6066305637359619,
          "Y": 0.047458481043577194,
          "count": 116,
          "label": "GSIGN"
         },
         {
          "X": 0.12445073574781418,
          "Y": 0.05000607669353485,
          "count": 116,
          "label": "GSIGN"
         },
         {
          "X": 1.5576236248016357,
          "Y": 0.37839797139167786,
          "count": 116,
          "label": "GSIGN"
         },
         {
          "X": 2.189912796020508,
          "Y": -0.3414364457130432,
          "count": 116,
          "label": "GSIGN"
         },
         {
          "X": 0.311575323343277,
          "Y": -2.505739450454712,
          "count": 116,
          "label": "GSIGN"
         },
         {
          "X": 2.923506736755371,
          "Y": -0.958000123500824,
          "count": 116,
          "label": "GSIGN"
         },
         {
          "X": 2.6689469814300537,
          "Y": -1.2330992221832275,
          "count": 116,
          "label": "GSIGN"
         },
         {
          "X": -2.168177843093872,
          "Y": -0.8271084427833557,
          "count": 116,
          "label": "GSIGN"
         },
         {
          "X": -2.1734933853149414,
          "Y": -0.8107757568359375,
          "count": 116,
          "label": "GSIGN"
         },
         {
          "X": -0.5734463334083557,
          "Y": 1.4404056072235107,
          "count": 116,
          "label": "GSIGN"
         },
         {
          "X": 0.3275226056575775,
          "Y": 1.327501893043518,
          "count": 116,
          "label": "GSIGN"
         },
         {
          "X": 0.06318021565675735,
          "Y": 1.9193215370178223,
          "count": 116,
          "label": "GSIGN"
         },
         {
          "X": 2.923506736755371,
          "Y": -0.958000123500824,
          "count": 116,
          "label": "GSIGN"
         },
         {
          "X": 0.3275226056575775,
          "Y": 1.327501893043518,
          "count": 116,
          "label": "GSIGN"
         },
         {
          "X": -0.5263254046440125,
          "Y": -0.5030304193496704,
          "count": 116,
          "label": "GSIGN"
         },
         {
          "X": 0.12445073574781418,
          "Y": 0.05000607669353485,
          "count": 116,
          "label": "GSIGN"
         },
         {
          "X": 1.0381417274475098,
          "Y": 2.305878162384033,
          "count": 116,
          "label": "GSIGN"
         },
         {
          "X": -1.4223387241363525,
          "Y": -1.1469751596450806,
          "count": 116,
          "label": "GSIGN"
         },
         {
          "X": 0.8493266105651855,
          "Y": 0.3709956705570221,
          "count": 116,
          "label": "GSIGN"
         },
         {
          "X": -0.038906216621398926,
          "Y": -1.3321967124938965,
          "count": 116,
          "label": "GSIGN"
         },
         {
          "X": 0.8493266105651855,
          "Y": 0.3709956705570221,
          "count": 116,
          "label": "GSIGN"
         },
         {
          "X": 0.7133759260177612,
          "Y": 1.2155088186264038,
          "count": 116,
          "label": "GSIGN"
         },
         {
          "X": -1.433718204498291,
          "Y": -1.7712657451629639,
          "count": 116,
          "label": "GSIGN"
         },
         {
          "X": 0.5059654712677002,
          "Y": -0.36345821619033813,
          "count": 116,
          "label": "GSIGN"
         },
         {
          "X": 1.227840542793274,
          "Y": 1.0427117347717285,
          "count": 116,
          "label": "GSIGN"
         },
         {
          "X": 2.796124219894409,
          "Y": 0.428219199180603,
          "count": 116,
          "label": "GSIGN"
         },
         {
          "X": -0.038906216621398926,
          "Y": -1.3321967124938965,
          "count": 116,
          "label": "GSIGN"
         },
         {
          "X": -0.7520882487297058,
          "Y": -0.2695270776748657,
          "count": 116,
          "label": "GSIGN"
         },
         {
          "X": -0.5263254046440125,
          "Y": -0.5030304193496704,
          "count": 116,
          "label": "GSIGN"
         },
         {
          "X": -0.7458605766296387,
          "Y": 2.3939642906188965,
          "count": 116,
          "label": "GSIGN"
         },
         {
          "X": -1.34554123878479,
          "Y": 0.9518899321556091,
          "count": 116,
          "label": "GSIGN"
         },
         {
          "X": 1.4603018760681152,
          "Y": 1.5007543563842773,
          "count": 116,
          "label": "GSIGN"
         },
         {
          "X": 0.12445073574781418,
          "Y": 0.05000607669353485,
          "count": 116,
          "label": "GSIGN"
         },
         {
          "X": 2.2986629009246826,
          "Y": -2.04585337638855,
          "count": 116,
          "label": "GSIGN"
         },
         {
          "X": 3.119617223739624,
          "Y": -0.13792037963867188,
          "count": 116,
          "label": "GSIGN"
         },
         {
          "X": 0.7769594192504883,
          "Y": -0.937835156917572,
          "count": 116,
          "label": "GSIGN"
         },
         {
          "X": 0.2876945436000824,
          "Y": 1.8856663703918457,
          "count": 116,
          "label": "GSIGN"
         },
         {
          "X": 3.119617223739624,
          "Y": -0.13792037963867188,
          "count": 116,
          "label": "GSIGN"
         },
         {
          "X": 0.8493266105651855,
          "Y": 0.3709956705570221,
          "count": 116,
          "label": "GSIGN"
         },
         {
          "X": 0.08518155664205551,
          "Y": -0.5668357610702515,
          "count": 116,
          "label": "GSIGN"
         },
         {
          "X": 1.5444684028625488,
          "Y": -2.3124451637268066,
          "count": 116,
          "label": "GSIGN"
         },
         {
          "X": -0.7744936347007751,
          "Y": 0.43829581141471863,
          "count": 116,
          "label": "GSIGN"
         },
         {
          "X": -1.3457872867584229,
          "Y": 0.9522409439086914,
          "count": 116,
          "label": "GSIGN"
         },
         {
          "X": 0.8493266105651855,
          "Y": 0.3709956705570221,
          "count": 116,
          "label": "GSIGN"
         },
         {
          "X": 1.490423321723938,
          "Y": -0.8618544936180115,
          "count": 116,
          "label": "GSIGN"
         },
         {
          "X": 0.9383410811424255,
          "Y": -0.30791112780570984,
          "count": 116,
          "label": "GSIGN"
         },
         {
          "X": -0.038906216621398926,
          "Y": -1.3321967124938965,
          "count": 116,
          "label": "GSIGN"
         },
         {
          "X": 1.7958910465240479,
          "Y": -1.4791693687438965,
          "count": 116,
          "label": "GSIGN"
         },
         {
          "X": 0.7133759260177612,
          "Y": 1.2155088186264038,
          "count": 116,
          "label": "GSIGN"
         },
         {
          "X": 0.5004889369010925,
          "Y": -0.3752165734767914,
          "count": 116,
          "label": "GSIGN"
         },
         {
          "X": 0.5043330192565918,
          "Y": -0.36959728598594666,
          "count": 116,
          "label": "GSIGN"
         },
         {
          "X": 1.0381417274475098,
          "Y": 2.305878162384033,
          "count": 116,
          "label": "GSIGN"
         },
         {
          "X": -0.7520882487297058,
          "Y": -0.2695270776748657,
          "count": 116,
          "label": "GSIGN"
         },
         {
          "X": -1.433718204498291,
          "Y": -1.7712657451629639,
          "count": 116,
          "label": "GSIGN"
         },
         {
          "X": 0.7769594192504883,
          "Y": -0.937835156917572,
          "count": 116,
          "label": "GSIGN"
         },
         {
          "X": -1.3968206644058228,
          "Y": -0.7054904103279114,
          "count": 116,
          "label": "GSIGN"
         },
         {
          "X": 0.9383410811424255,
          "Y": -0.30791112780570984,
          "count": 116,
          "label": "GSIGN"
         },
         {
          "X": -1.3000863790512085,
          "Y": 1.9862135648727417,
          "count": 116,
          "label": "GSIGN"
         },
         {
          "X": 0.7809913158416748,
          "Y": -2.468172311782837,
          "count": 116,
          "label": "GSIGN"
         },
         {
          "X": 0.9383410811424255,
          "Y": -0.30791112780570984,
          "count": 116,
          "label": "GSIGN"
         },
         {
          "X": 0.12445073574781418,
          "Y": 0.05000607669353485,
          "count": 116,
          "label": "GSIGN"
         },
         {
          "X": -0.038906216621398926,
          "Y": -1.3321967124938965,
          "count": 116,
          "label": "GSIGN"
         },
         {
          "X": -0.535822331905365,
          "Y": -0.45780566334724426,
          "count": 116,
          "label": "GSIGN"
         },
         {
          "X": 1.0381417274475098,
          "Y": 2.305878162384033,
          "count": 116,
          "label": "GSIGN"
         },
         {
          "X": 0.12445073574781418,
          "Y": 0.05000607669353485,
          "count": 116,
          "label": "GSIGN"
         },
         {
          "X": -1.433718204498291,
          "Y": -1.7712657451629639,
          "count": 116,
          "label": "GSIGN"
         },
         {
          "X": -0.010860791429877281,
          "Y": 0.7860143780708313,
          "count": 116,
          "label": "GSIGN"
         },
         {
          "X": 0.19849514961242676,
          "Y": 2.5399622917175293,
          "count": 116,
          "label": "GSIGN"
         },
         {
          "X": -0.2342323362827301,
          "Y": -2.38041090965271,
          "count": 116,
          "label": "GSIGN"
         },
         {
          "X": 0.9383410811424255,
          "Y": -0.30791112780570984,
          "count": 116,
          "label": "GSIGN"
         },
         {
          "X": 0.7133759260177612,
          "Y": 1.2155088186264038,
          "count": 116,
          "label": "GSIGN"
         },
         {
          "X": -0.8002203106880188,
          "Y": -1.5430399179458618,
          "count": 116,
          "label": "GSIGN"
         },
         {
          "X": 0.12445073574781418,
          "Y": 0.05000607669353485,
          "count": 116,
          "label": "GSIGN"
         },
         {
          "X": 0.12445073574781418,
          "Y": 0.05000607669353485,
          "count": 116,
          "label": "GSIGN"
         },
         {
          "X": 1.227840542793274,
          "Y": 1.0427117347717285,
          "count": 116,
          "label": "GSIGN"
         },
         {
          "X": 2.923506736755371,
          "Y": -0.958000123500824,
          "count": 116,
          "label": "GSIGN"
         },
         {
          "X": -0.038906216621398926,
          "Y": -1.3321967124938965,
          "count": 116,
          "label": "GSIGN"
         },
         {
          "X": 0.6420198082923889,
          "Y": -1.793840765953064,
          "count": 116,
          "label": "GSIGN"
         },
         {
          "X": 0.7769594192504883,
          "Y": -0.937835156917572,
          "count": 116,
          "label": "GSIGN"
         },
         {
          "X": -0.010860791429877281,
          "Y": 0.7860143780708313,
          "count": 116,
          "label": "GSIGN"
         },
         {
          "X": 0.8493266105651855,
          "Y": 0.3709956705570221,
          "count": 116,
          "label": "GSIGN"
         },
         {
          "X": -0.010860791429877281,
          "Y": 0.7860143780708313,
          "count": 116,
          "label": "GSIGN"
         },
         {
          "X": 0.9383410811424255,
          "Y": -0.30791112780570984,
          "count": 116,
          "label": "GSIGN"
         },
         {
          "X": 0.12445073574781418,
          "Y": 0.05000607669353485,
          "count": 116,
          "label": "GSIGN"
         },
         {
          "X": 1.7958910465240479,
          "Y": -1.4791693687438965,
          "count": 116,
          "label": "GSIGN"
         },
         {
          "X": -1.0455948114395142,
          "Y": 0.62473464012146,
          "count": 116,
          "label": "GSIGN"
         },
         {
          "X": 0.12445073574781418,
          "Y": 0.05000607669353485,
          "count": 116,
          "label": "GSIGN"
         },
         {
          "X": -2.094820976257324,
          "Y": 0.9459067583084106,
          "count": 116,
          "label": "GSIGN"
         },
         {
          "X": -0.010860791429877281,
          "Y": 0.7860143780708313,
          "count": 116,
          "label": "GSIGN"
         },
         {
          "X": -0.8977599740028381,
          "Y": -2.1725804805755615,
          "count": 116,
          "label": "GSIGN"
         },
         {
          "X": -0.038906216621398926,
          "Y": -1.3321967124938965,
          "count": 116,
          "label": "GSIGN"
         },
         {
          "X": 2.189912796020508,
          "Y": -0.3414364457130432,
          "count": 116,
          "label": "GSIGN"
         },
         {
          "X": -0.038906216621398926,
          "Y": -1.3321967124938965,
          "count": 116,
          "label": "GSIGN"
         },
         {
          "X": 0.12445073574781418,
          "Y": 0.05000607669353485,
          "count": 116,
          "label": "GSIGN"
         },
         {
          "X": 1.9337143898010254,
          "Y": 0.7559248805046082,
          "count": 116,
          "label": "GSIGN"
         },
         {
          "X": -1.3455700874328613,
          "Y": 1.0156828165054321,
          "count": 116,
          "label": "GSIGN"
         },
         {
          "X": -1.433718204498291,
          "Y": -1.7712657451629639,
          "count": 116,
          "label": "GSIGN"
         },
         {
          "X": 0.8493266105651855,
          "Y": 0.3709956705570221,
          "count": 116,
          "label": "GSIGN"
         },
         {
          "X": -1.3374443054199219,
          "Y": 0.9789514541625977,
          "count": 116,
          "label": "GSIGN"
         },
         {
          "X": -1.3968206644058228,
          "Y": -0.7054904103279114,
          "count": 116,
          "label": "GSIGN"
         },
         {
          "X": 0.7769594192504883,
          "Y": -0.937835156917572,
          "count": 69,
          "label": "FALLOIR"
         },
         {
          "X": 0.7133759260177612,
          "Y": 1.2155088186264038,
          "count": 69,
          "label": "FALLOIR"
         },
         {
          "X": 0.006693319883197546,
          "Y": -0.5674325227737427,
          "count": 69,
          "label": "FALLOIR"
         },
         {
          "X": 2.189912796020508,
          "Y": -0.3414364457130432,
          "count": 69,
          "label": "FALLOIR"
         },
         {
          "X": 0.9383410811424255,
          "Y": -0.30791112780570984,
          "count": 69,
          "label": "FALLOIR"
         },
         {
          "X": 2.5816004276275635,
          "Y": -1.5323636531829834,
          "count": 69,
          "label": "FALLOIR"
         },
         {
          "X": 1.9539906978607178,
          "Y": 2.177903652191162,
          "count": 69,
          "label": "FALLOIR"
         },
         {
          "X": 2.189912796020508,
          "Y": -0.3414364457130432,
          "count": 69,
          "label": "FALLOIR"
         },
         {
          "X": 0.12445073574781418,
          "Y": 0.05000607669353485,
          "count": 69,
          "label": "FALLOIR"
         },
         {
          "X": 0.7769594192504883,
          "Y": -0.937835156917572,
          "count": 69,
          "label": "FALLOIR"
         },
         {
          "X": 1.5617005825042725,
          "Y": 0.3695625364780426,
          "count": 69,
          "label": "FALLOIR"
         },
         {
          "X": -1.4802589416503906,
          "Y": -0.13927695155143738,
          "count": 69,
          "label": "FALLOIR"
         },
         {
          "X": 0.5004889369010925,
          "Y": -0.3752165734767914,
          "count": 69,
          "label": "FALLOIR"
         },
         {
          "X": 0.7133759260177612,
          "Y": 1.2155088186264038,
          "count": 69,
          "label": "FALLOIR"
         },
         {
          "X": -2.1325340270996094,
          "Y": -0.914607584476471,
          "count": 69,
          "label": "FALLOIR"
         },
         {
          "X": -0.5316834449768066,
          "Y": -0.3826110363006592,
          "count": 69,
          "label": "FALLOIR"
         },
         {
          "X": -0.010860791429877281,
          "Y": 0.7860143780708313,
          "count": 69,
          "label": "FALLOIR"
         },
         {
          "X": 2.356484889984131,
          "Y": 1.6304043531417847,
          "count": 69,
          "label": "FALLOIR"
         },
         {
          "X": 0.5021993517875671,
          "Y": -0.3690900206565857,
          "count": 69,
          "label": "FALLOIR"
         },
         {
          "X": 0.5021163821220398,
          "Y": -0.36915501952171326,
          "count": 69,
          "label": "FALLOIR"
         },
         {
          "X": 0.054940976202487946,
          "Y": 1.9244228601455688,
          "count": 69,
          "label": "FALLOIR"
         },
         {
          "X": 1.7958910465240479,
          "Y": -1.4791693687438965,
          "count": 69,
          "label": "FALLOIR"
         },
         {
          "X": -0.010860791429877281,
          "Y": 0.7860143780708313,
          "count": 69,
          "label": "FALLOIR"
         },
         {
          "X": -2.1472415924072266,
          "Y": -0.8699626922607422,
          "count": 69,
          "label": "FALLOIR"
         },
         {
          "X": 2.8062100410461426,
          "Y": 0.41145914793014526,
          "count": 69,
          "label": "FALLOIR"
         },
         {
          "X": 2.189912796020508,
          "Y": -0.3414364457130432,
          "count": 69,
          "label": "FALLOIR"
         },
         {
          "X": -0.2342323362827301,
          "Y": -2.38041090965271,
          "count": 69,
          "label": "FALLOIR"
         },
         {
          "X": 1.0381417274475098,
          "Y": 2.305878162384033,
          "count": 69,
          "label": "FALLOIR"
         },
         {
          "X": 2.189912796020508,
          "Y": -0.3414364457130432,
          "count": 69,
          "label": "FALLOIR"
         },
         {
          "X": 1.7958910465240479,
          "Y": -1.4791693687438965,
          "count": 69,
          "label": "FALLOIR"
         },
         {
          "X": 0.9383410811424255,
          "Y": -0.30791112780570984,
          "count": 69,
          "label": "FALLOIR"
         },
         {
          "X": 1.0381417274475098,
          "Y": 2.305878162384033,
          "count": 69,
          "label": "FALLOIR"
         },
         {
          "X": -0.5316834449768066,
          "Y": -0.3826110363006592,
          "count": 69,
          "label": "FALLOIR"
         },
         {
          "X": 0.12445073574781418,
          "Y": 0.05000607669353485,
          "count": 69,
          "label": "FALLOIR"
         },
         {
          "X": -0.5316834449768066,
          "Y": -0.3826110363006592,
          "count": 69,
          "label": "FALLOIR"
         },
         {
          "X": 1.227840542793274,
          "Y": 1.0427117347717285,
          "count": 69,
          "label": "FALLOIR"
         },
         {
          "X": -1.4802589416503906,
          "Y": -0.13927695155143738,
          "count": 69,
          "label": "FALLOIR"
         },
         {
          "X": -0.010860791429877281,
          "Y": 0.7860143780708313,
          "count": 69,
          "label": "FALLOIR"
         },
         {
          "X": 2.356484889984131,
          "Y": 1.6304043531417847,
          "count": 69,
          "label": "FALLOIR"
         },
         {
          "X": -0.573866069316864,
          "Y": 0.29519519209861755,
          "count": 69,
          "label": "FALLOIR"
         },
         {
          "X": -0.7744936347007751,
          "Y": 0.43829581141471863,
          "count": 69,
          "label": "FALLOIR"
         },
         {
          "X": 0.12445073574781418,
          "Y": 0.05000607669353485,
          "count": 69,
          "label": "FALLOIR"
         },
         {
          "X": -0.2342323362827301,
          "Y": -2.38041090965271,
          "count": 69,
          "label": "FALLOIR"
         },
         {
          "X": 2.189912796020508,
          "Y": -0.3414364457130432,
          "count": 69,
          "label": "FALLOIR"
         },
         {
          "X": -1.0455948114395142,
          "Y": 0.62473464012146,
          "count": 69,
          "label": "FALLOIR"
         },
         {
          "X": 1.562938928604126,
          "Y": -0.99180668592453,
          "count": 69,
          "label": "FALLOIR"
         },
         {
          "X": 1.9539906978607178,
          "Y": 2.177903652191162,
          "count": 69,
          "label": "FALLOIR"
         },
         {
          "X": 1.3840988874435425,
          "Y": -0.24738861620426178,
          "count": 69,
          "label": "FALLOIR"
         },
         {
          "X": 1.0381417274475098,
          "Y": 2.305878162384033,
          "count": 69,
          "label": "FALLOIR"
         },
         {
          "X": -0.7458605766296387,
          "Y": 2.3939642906188965,
          "count": 69,
          "label": "FALLOIR"
         },
         {
          "X": 1.228036642074585,
          "Y": 1.042841911315918,
          "count": 69,
          "label": "FALLOIR"
         },
         {
          "X": 1.490423321723938,
          "Y": -0.8618544936180115,
          "count": 69,
          "label": "FALLOIR"
         },
         {
          "X": 2.189912796020508,
          "Y": -0.3414364457130432,
          "count": 69,
          "label": "FALLOIR"
         },
         {
          "X": 0.8493266105651855,
          "Y": 0.3709956705570221,
          "count": 69,
          "label": "FALLOIR"
         },
         {
          "X": 0.311575323343277,
          "Y": -2.505739450454712,
          "count": 69,
          "label": "FALLOIR"
         },
         {
          "X": -2.094820976257324,
          "Y": 0.9459067583084106,
          "count": 69,
          "label": "FALLOIR"
         },
         {
          "X": 0.12445073574781418,
          "Y": 0.05000607669353485,
          "count": 69,
          "label": "FALLOIR"
         },
         {
          "X": 0.8493266105651855,
          "Y": 0.3709956705570221,
          "count": 69,
          "label": "FALLOIR"
         },
         {
          "X": 0.12445073574781418,
          "Y": 0.05000607669353485,
          "count": 69,
          "label": "FALLOIR"
         },
         {
          "X": 0.10488466173410416,
          "Y": -0.5608643889427185,
          "count": 69,
          "label": "FALLOIR"
         },
         {
          "X": -0.5734463334083557,
          "Y": 1.4404056072235107,
          "count": 69,
          "label": "FALLOIR"
         },
         {
          "X": -0.010860791429877281,
          "Y": 0.7860143780708313,
          "count": 69,
          "label": "FALLOIR"
         },
         {
          "X": 1.7958910465240479,
          "Y": -1.4791693687438965,
          "count": 69,
          "label": "FALLOIR"
         },
         {
          "X": 2.8399338722229004,
          "Y": 0.9212411046028137,
          "count": 69,
          "label": "FALLOIR"
         },
         {
          "X": 1.490423321723938,
          "Y": -0.8618544936180115,
          "count": 69,
          "label": "FALLOIR"
         },
         {
          "X": -0.7520882487297058,
          "Y": -0.2695270776748657,
          "count": 69,
          "label": "FALLOIR"
         },
         {
          "X": 0.8493266105651855,
          "Y": 0.3709956705570221,
          "count": 69,
          "label": "FALLOIR"
         },
         {
          "X": 0.3275226056575775,
          "Y": 1.327501893043518,
          "count": 69,
          "label": "FALLOIR"
         },
         {
          "X": 1.5617005825042725,
          "Y": 0.3695625364780426,
          "count": 69,
          "label": "FALLOIR"
         },
         {
          "X": -0.038906216621398926,
          "Y": -1.3321967124938965,
          "count": 75,
          "label": "AVOIR "
         },
         {
          "X": -2.168604612350464,
          "Y": -0.8256732225418091,
          "count": 75,
          "label": "AVOIR "
         },
         {
          "X": 0.19849514961242676,
          "Y": 2.5399622917175293,
          "count": 75,
          "label": "AVOIR "
         },
         {
          "X": 0.311575323343277,
          "Y": -2.505739450454712,
          "count": 75,
          "label": "AVOIR "
         },
         {
          "X": -0.7744936347007751,
          "Y": 0.43829581141471863,
          "count": 75,
          "label": "AVOIR "
         },
         {
          "X": -0.038906216621398926,
          "Y": -1.3321967124938965,
          "count": 75,
          "label": "AVOIR "
         },
         {
          "X": -0.010860791429877281,
          "Y": 0.7860143780708313,
          "count": 75,
          "label": "AVOIR "
         },
         {
          "X": 0.8493266105651855,
          "Y": 0.3709956705570221,
          "count": 75,
          "label": "AVOIR "
         },
         {
          "X": 0.12445073574781418,
          "Y": 0.05000607669353485,
          "count": 75,
          "label": "AVOIR "
         },
         {
          "X": -0.7520882487297058,
          "Y": -0.2695270776748657,
          "count": 75,
          "label": "AVOIR "
         },
         {
          "X": 0.08518155664205551,
          "Y": -0.5668357610702515,
          "count": 75,
          "label": "AVOIR "
         },
         {
          "X": -0.6066305637359619,
          "Y": 0.047458481043577194,
          "count": 75,
          "label": "AVOIR "
         },
         {
          "X": 0.2876945436000824,
          "Y": 1.8856663703918457,
          "count": 75,
          "label": "AVOIR "
         },
         {
          "X": 0.9383410811424255,
          "Y": -0.30791112780570984,
          "count": 75,
          "label": "AVOIR "
         },
         {
          "X": 0.7133759260177612,
          "Y": 1.2155088186264038,
          "count": 75,
          "label": "AVOIR "
         },
         {
          "X": 1.3840988874435425,
          "Y": -0.24738861620426178,
          "count": 75,
          "label": "AVOIR "
         },
         {
          "X": 0.8493266105651855,
          "Y": 0.3709956705570221,
          "count": 75,
          "label": "AVOIR "
         },
         {
          "X": 1.0381417274475098,
          "Y": 2.305878162384033,
          "count": 75,
          "label": "AVOIR "
         },
         {
          "X": 0.8493266105651855,
          "Y": 0.3709956705570221,
          "count": 75,
          "label": "AVOIR "
         },
         {
          "X": 2.5976979732513428,
          "Y": 1.3837021589279175,
          "count": 75,
          "label": "AVOIR "
         },
         {
          "X": 2.8062100410461426,
          "Y": 0.41145914793014526,
          "count": 75,
          "label": "AVOIR "
         },
         {
          "X": -0.010860791429877281,
          "Y": 0.7860143780708313,
          "count": 75,
          "label": "AVOIR "
         },
         {
          "X": 1.7958910465240479,
          "Y": -1.4791693687438965,
          "count": 75,
          "label": "AVOIR "
         },
         {
          "X": 0.5037851333618164,
          "Y": -0.36826446652412415,
          "count": 75,
          "label": "AVOIR "
         },
         {
          "X": 0.7769594192504883,
          "Y": -0.937835156917572,
          "count": 75,
          "label": "AVOIR "
         },
         {
          "X": 2.8399338722229004,
          "Y": 0.9212411046028137,
          "count": 75,
          "label": "AVOIR "
         },
         {
          "X": 3.119617223739624,
          "Y": -0.13792037963867188,
          "count": 75,
          "label": "AVOIR "
         },
         {
          "X": -0.038906216621398926,
          "Y": -1.3321967124938965,
          "count": 75,
          "label": "AVOIR "
         },
         {
          "X": 1.9337143898010254,
          "Y": 0.7559248805046082,
          "count": 75,
          "label": "AVOIR "
         },
         {
          "X": -0.7744936347007751,
          "Y": 0.43829581141471863,
          "count": 75,
          "label": "AVOIR "
         },
         {
          "X": -0.5734463334083557,
          "Y": 1.4404056072235107,
          "count": 75,
          "label": "AVOIR "
         },
         {
          "X": -0.010860791429877281,
          "Y": 0.7860143780708313,
          "count": 75,
          "label": "AVOIR "
         },
         {
          "X": 1.4603018760681152,
          "Y": 1.5007543563842773,
          "count": 75,
          "label": "AVOIR "
         },
         {
          "X": 0.9383410811424255,
          "Y": -0.30791112780570984,
          "count": 75,
          "label": "AVOIR "
         },
         {
          "X": 1.1252766847610474,
          "Y": -1.8188939094543457,
          "count": 75,
          "label": "AVOIR "
         },
         {
          "X": 0.8493266105651855,
          "Y": 0.3709956705570221,
          "count": 75,
          "label": "AVOIR "
         },
         {
          "X": 0.3065185546875,
          "Y": -2.5074639320373535,
          "count": 75,
          "label": "AVOIR "
         },
         {
          "X": 0.030435696244239807,
          "Y": 1.9478543996810913,
          "count": 75,
          "label": "AVOIR "
         },
         {
          "X": 0.12445073574781418,
          "Y": 0.05000607669353485,
          "count": 75,
          "label": "AVOIR "
         },
         {
          "X": 1.5576236248016357,
          "Y": 0.37839797139167786,
          "count": 75,
          "label": "AVOIR "
         },
         {
          "X": 0.9383410811424255,
          "Y": -0.30791112780570984,
          "count": 75,
          "label": "AVOIR "
         },
         {
          "X": -2.2484381198883057,
          "Y": -0.08005529642105103,
          "count": 75,
          "label": "AVOIR "
         },
         {
          "X": 0.7769594192504883,
          "Y": -0.937835156917572,
          "count": 75,
          "label": "AVOIR "
         },
         {
          "X": 1.7958910465240479,
          "Y": -1.4791693687438965,
          "count": 75,
          "label": "AVOIR "
         },
         {
          "X": -0.5734463334083557,
          "Y": 1.4404056072235107,
          "count": 75,
          "label": "AVOIR "
         },
         {
          "X": 1.7958910465240479,
          "Y": -1.4791693687438965,
          "count": 75,
          "label": "AVOIR "
         },
         {
          "X": 1.9337143898010254,
          "Y": 0.7559248805046082,
          "count": 75,
          "label": "AVOIR "
         },
         {
          "X": 0.8493266105651855,
          "Y": 0.3709956705570221,
          "count": 75,
          "label": "AVOIR "
         },
         {
          "X": 0.8493266105651855,
          "Y": 0.3709956705570221,
          "count": 75,
          "label": "AVOIR "
         },
         {
          "X": -0.038906216621398926,
          "Y": -1.3321967124938965,
          "count": 75,
          "label": "AVOIR "
         },
         {
          "X": -0.535822331905365,
          "Y": -0.45780566334724426,
          "count": 75,
          "label": "AVOIR "
         },
         {
          "X": -0.010860791429877281,
          "Y": 0.7860143780708313,
          "count": 75,
          "label": "AVOIR "
         },
         {
          "X": 0.9383410811424255,
          "Y": -0.30791112780570984,
          "count": 75,
          "label": "AVOIR "
         },
         {
          "X": -0.038906216621398926,
          "Y": -1.3321967124938965,
          "count": 75,
          "label": "AVOIR "
         },
         {
          "X": 1.5576236248016357,
          "Y": 0.37839797139167786,
          "count": 75,
          "label": "AVOIR "
         },
         {
          "X": 1.7958910465240479,
          "Y": -1.4791693687438965,
          "count": 75,
          "label": "AVOIR "
         },
         {
          "X": -0.7458605766296387,
          "Y": 2.3939642906188965,
          "count": 75,
          "label": "AVOIR "
         },
         {
          "X": -2.094820976257324,
          "Y": 0.9459067583084106,
          "count": 75,
          "label": "AVOIR "
         },
         {
          "X": -1.0123517513275146,
          "Y": -0.5774029493331909,
          "count": 75,
          "label": "AVOIR "
         },
         {
          "X": 0.12445073574781418,
          "Y": 0.05000607669353485,
          "count": 75,
          "label": "AVOIR "
         },
         {
          "X": 0.12445073574781418,
          "Y": 0.05000607669353485,
          "count": 75,
          "label": "AVOIR "
         },
         {
          "X": -1.986215591430664,
          "Y": -1.3099150657653809,
          "count": 75,
          "label": "AVOIR "
         },
         {
          "X": 1.1252766847610474,
          "Y": -1.8188939094543457,
          "count": 75,
          "label": "AVOIR "
         },
         {
          "X": -1.3968206644058228,
          "Y": -0.7054904103279114,
          "count": 75,
          "label": "AVOIR "
         },
         {
          "X": 0.7769594192504883,
          "Y": -0.937835156917572,
          "count": 75,
          "label": "AVOIR "
         },
         {
          "X": -0.038906216621398926,
          "Y": -1.3321967124938965,
          "count": 75,
          "label": "AVOIR "
         },
         {
          "X": 1.4603018760681152,
          "Y": 1.5007543563842773,
          "count": 75,
          "label": "AVOIR "
         },
         {
          "X": 1.3840988874435425,
          "Y": -0.24738861620426178,
          "count": 75,
          "label": "AVOIR "
         },
         {
          "X": -0.5734463334083557,
          "Y": 1.4404056072235107,
          "count": 75,
          "label": "AVOIR "
         },
         {
          "X": -1.0455948114395142,
          "Y": 0.62473464012146,
          "count": 75,
          "label": "AVOIR "
         },
         {
          "X": 0.8493266105651855,
          "Y": 0.3709956705570221,
          "count": 75,
          "label": "AVOIR "
         },
         {
          "X": 1.9337143898010254,
          "Y": 0.7559248805046082,
          "count": 75,
          "label": "AVOIR "
         },
         {
          "X": -0.7744936347007751,
          "Y": 0.43829581141471863,
          "count": 75,
          "label": "AVOIR "
         },
         {
          "X": 0.054940976202487946,
          "Y": 1.9244228601455688,
          "count": 75,
          "label": "AVOIR "
         },
         {
          "X": 0.8493266105651855,
          "Y": 0.3709956705570221,
          "count": 75,
          "label": "AVOIR "
         },
         {
          "X": 1.1252766847610474,
          "Y": -1.8188939094543457,
          "count": 69,
          "label": "C-EST"
         },
         {
          "X": 0.5004889369010925,
          "Y": -0.3752165734767914,
          "count": 69,
          "label": "C-EST"
         },
         {
          "X": 2.8399338722229004,
          "Y": 0.9212411046028137,
          "count": 69,
          "label": "C-EST"
         },
         {
          "X": 2.189912796020508,
          "Y": -0.3414364457130432,
          "count": 69,
          "label": "C-EST"
         },
         {
          "X": -0.010860791429877281,
          "Y": 0.7860143780708313,
          "count": 69,
          "label": "C-EST"
         },
         {
          "X": 2.189912796020508,
          "Y": -0.3414364457130432,
          "count": 69,
          "label": "C-EST"
         },
         {
          "X": 0.8493266105651855,
          "Y": 0.3709956705570221,
          "count": 69,
          "label": "C-EST"
         },
         {
          "X": -1.3968206644058228,
          "Y": -0.7054904103279114,
          "count": 69,
          "label": "C-EST"
         },
         {
          "X": -0.5734463334083557,
          "Y": 1.4404056072235107,
          "count": 69,
          "label": "C-EST"
         },
         {
          "X": 2.8399338722229004,
          "Y": 0.9212411046028137,
          "count": 69,
          "label": "C-EST"
         },
         {
          "X": 0.006693319883197546,
          "Y": -0.5674325227737427,
          "count": 69,
          "label": "C-EST"
         },
         {
          "X": -0.7520882487297058,
          "Y": -0.2695270776748657,
          "count": 69,
          "label": "C-EST"
         },
         {
          "X": -0.010860791429877281,
          "Y": 0.7860143780708313,
          "count": 69,
          "label": "C-EST"
         },
         {
          "X": 2.8062100410461426,
          "Y": 0.41145914793014526,
          "count": 69,
          "label": "C-EST"
         },
         {
          "X": 0.8493266105651855,
          "Y": 0.3709956705570221,
          "count": 69,
          "label": "C-EST"
         },
         {
          "X": 0.9383410811424255,
          "Y": -0.30791112780570984,
          "count": 69,
          "label": "C-EST"
         },
         {
          "X": 0.8493266105651855,
          "Y": 0.3709956705570221,
          "count": 69,
          "label": "C-EST"
         },
         {
          "X": 1.490423321723938,
          "Y": -0.8618544936180115,
          "count": 69,
          "label": "C-EST"
         },
         {
          "X": -0.5727768540382385,
          "Y": 0.19141483306884766,
          "count": 69,
          "label": "C-EST"
         },
         {
          "X": -0.2342323362827301,
          "Y": -2.38041090965271,
          "count": 69,
          "label": "C-EST"
         },
         {
          "X": 3.123568058013916,
          "Y": -0.21168310940265656,
          "count": 69,
          "label": "C-EST"
         },
         {
          "X": -0.2342323362827301,
          "Y": -2.38041090965271,
          "count": 69,
          "label": "C-EST"
         },
         {
          "X": 0.12445073574781418,
          "Y": 0.05000607669353485,
          "count": 69,
          "label": "C-EST"
         },
         {
          "X": -0.8977599740028381,
          "Y": -2.1725804805755615,
          "count": 69,
          "label": "C-EST"
         },
         {
          "X": -0.010860791429877281,
          "Y": 0.7860143780708313,
          "count": 69,
          "label": "C-EST"
         },
         {
          "X": 0.8493266105651855,
          "Y": 0.3709956705570221,
          "count": 69,
          "label": "C-EST"
         },
         {
          "X": 1.1252766847610474,
          "Y": -1.8188939094543457,
          "count": 69,
          "label": "C-EST"
         },
         {
          "X": 1.9337143898010254,
          "Y": 0.7559248805046082,
          "count": 69,
          "label": "C-EST"
         },
         {
          "X": -1.3455700874328613,
          "Y": 1.0156828165054321,
          "count": 69,
          "label": "C-EST"
         },
         {
          "X": -0.010860791429877281,
          "Y": 0.7860143780708313,
          "count": 69,
          "label": "C-EST"
         },
         {
          "X": -0.038906216621398926,
          "Y": -1.3321967124938965,
          "count": 69,
          "label": "C-EST"
         },
         {
          "X": 0.8493266105651855,
          "Y": 0.3709956705570221,
          "count": 69,
          "label": "C-EST"
         },
         {
          "X": -0.20227792859077454,
          "Y": 2.6058075428009033,
          "count": 69,
          "label": "C-EST"
         },
         {
          "X": -0.038906216621398926,
          "Y": -1.3321967124938965,
          "count": 69,
          "label": "C-EST"
         },
         {
          "X": 0.7809913158416748,
          "Y": -2.468172311782837,
          "count": 69,
          "label": "C-EST"
         },
         {
          "X": 2.189912796020508,
          "Y": -0.3414364457130432,
          "count": 69,
          "label": "C-EST"
         },
         {
          "X": 1.9539906978607178,
          "Y": 2.177903652191162,
          "count": 69,
          "label": "C-EST"
         },
         {
          "X": 0.12445073574781418,
          "Y": 0.05000607669353485,
          "count": 69,
          "label": "C-EST"
         },
         {
          "X": 0.8493266105651855,
          "Y": 0.3709956705570221,
          "count": 69,
          "label": "C-EST"
         },
         {
          "X": 1.5444684028625488,
          "Y": -2.3124451637268066,
          "count": 69,
          "label": "C-EST"
         },
         {
          "X": -0.5734463334083557,
          "Y": 1.4404056072235107,
          "count": 69,
          "label": "C-EST"
         },
         {
          "X": -0.5263254046440125,
          "Y": -0.5030304193496704,
          "count": 69,
          "label": "C-EST"
         },
         {
          "X": 0.8493266105651855,
          "Y": 0.3709956705570221,
          "count": 69,
          "label": "C-EST"
         },
         {
          "X": -0.010860791429877281,
          "Y": 0.7860143780708313,
          "count": 69,
          "label": "C-EST"
         },
         {
          "X": 0.006693319883197546,
          "Y": -0.5674325227737427,
          "count": 69,
          "label": "C-EST"
         },
         {
          "X": -0.010860791429877281,
          "Y": 0.7860143780708313,
          "count": 69,
          "label": "C-EST"
         },
         {
          "X": 2.923506736755371,
          "Y": -0.958000123500824,
          "count": 69,
          "label": "C-EST"
         },
         {
          "X": 0.12445073574781418,
          "Y": 0.05000607669353485,
          "count": 69,
          "label": "C-EST"
         },
         {
          "X": -2.2484381198883057,
          "Y": -0.08005529642105103,
          "count": 69,
          "label": "C-EST"
         },
         {
          "X": 1.4603018760681152,
          "Y": 1.5007543563842773,
          "count": 69,
          "label": "C-EST"
         },
         {
          "X": 0.5037851333618164,
          "Y": -0.36826446652412415,
          "count": 69,
          "label": "C-EST"
         },
         {
          "X": -0.2342323362827301,
          "Y": -2.38041090965271,
          "count": 69,
          "label": "C-EST"
         },
         {
          "X": 0.7769594192504883,
          "Y": -0.937835156917572,
          "count": 69,
          "label": "C-EST"
         },
         {
          "X": 0.7133759260177612,
          "Y": 1.2155088186264038,
          "count": 69,
          "label": "C-EST"
         },
         {
          "X": -0.038906216621398926,
          "Y": -1.3321967124938965,
          "count": 69,
          "label": "C-EST"
         },
         {
          "X": 2.189912796020508,
          "Y": -0.3414364457130432,
          "count": 69,
          "label": "C-EST"
         },
         {
          "X": 1.3840988874435425,
          "Y": -0.24738861620426178,
          "count": 69,
          "label": "C-EST"
         },
         {
          "X": 1.9337143898010254,
          "Y": 0.7559248805046082,
          "count": 69,
          "label": "C-EST"
         },
         {
          "X": 1.0381417274475098,
          "Y": 2.305878162384033,
          "count": 69,
          "label": "C-EST"
         },
         {
          "X": 0.8493266105651855,
          "Y": 0.3709956705570221,
          "count": 69,
          "label": "C-EST"
         },
         {
          "X": -0.038906216621398926,
          "Y": -1.3321967124938965,
          "count": 69,
          "label": "C-EST"
         },
         {
          "X": 0.5059118270874023,
          "Y": -0.36350134015083313,
          "count": 69,
          "label": "C-EST"
         },
         {
          "X": -0.5734463334083557,
          "Y": 1.4404056072235107,
          "count": 69,
          "label": "C-EST"
         },
         {
          "X": 0.7561317086219788,
          "Y": -1.770358681678772,
          "count": 69,
          "label": "C-EST"
         },
         {
          "X": -0.7890880703926086,
          "Y": -1.0077091455459595,
          "count": 69,
          "label": "C-EST"
         },
         {
          "X": 0.12445073574781418,
          "Y": 0.05000607669353485,
          "count": 69,
          "label": "C-EST"
         },
         {
          "X": 2.8399338722229004,
          "Y": 0.9212411046028137,
          "count": 69,
          "label": "C-EST"
         },
         {
          "X": -0.010860791429877281,
          "Y": 0.7860143780708313,
          "count": 69,
          "label": "C-EST"
         },
         {
          "X": -0.6066305637359619,
          "Y": 0.047458481043577194,
          "count": 69,
          "label": "C-EST"
         },
         {
          "X": 1.9539906978607178,
          "Y": 2.177903652191162,
          "count": 72,
          "label": "SOURD"
         },
         {
          "X": -0.7520882487297058,
          "Y": -0.2695270776748657,
          "count": 72,
          "label": "SOURD"
         },
         {
          "X": 1.5617005825042725,
          "Y": 0.3695625364780426,
          "count": 72,
          "label": "SOURD"
         },
         {
          "X": -0.8977599740028381,
          "Y": -2.1725804805755615,
          "count": 72,
          "label": "SOURD"
         },
         {
          "X": 0.12445073574781418,
          "Y": 0.05000607669353485,
          "count": 72,
          "label": "SOURD"
         },
         {
          "X": -0.7827644348144531,
          "Y": -1.1214321851730347,
          "count": 72,
          "label": "SOURD"
         },
         {
          "X": -0.010860791429877281,
          "Y": 0.7860143780708313,
          "count": 72,
          "label": "SOURD"
         },
         {
          "X": -0.5727768540382385,
          "Y": 0.19141483306884766,
          "count": 72,
          "label": "SOURD"
         },
         {
          "X": 0.7133759260177612,
          "Y": 1.2155088186264038,
          "count": 72,
          "label": "SOURD"
         },
         {
          "X": 3.1168785095214844,
          "Y": -0.411366730928421,
          "count": 72,
          "label": "SOURD"
         },
         {
          "X": 1.5444684028625488,
          "Y": -2.3124451637268066,
          "count": 72,
          "label": "SOURD"
         },
         {
          "X": -2.094820976257324,
          "Y": 0.9459067583084106,
          "count": 72,
          "label": "SOURD"
         },
         {
          "X": 0.08518155664205551,
          "Y": -0.5668357610702515,
          "count": 72,
          "label": "SOURD"
         },
         {
          "X": 0.9383410811424255,
          "Y": -0.30791112780570984,
          "count": 72,
          "label": "SOURD"
         },
         {
          "X": -0.7744936347007751,
          "Y": 0.43829581141471863,
          "count": 72,
          "label": "SOURD"
         },
         {
          "X": -1.4802589416503906,
          "Y": -0.13927695155143738,
          "count": 72,
          "label": "SOURD"
         },
         {
          "X": 0.12445073574781418,
          "Y": 0.05000607669353485,
          "count": 72,
          "label": "SOURD"
         },
         {
          "X": -0.038906216621398926,
          "Y": -1.3321967124938965,
          "count": 72,
          "label": "SOURD"
         },
         {
          "X": 2.189912796020508,
          "Y": -0.3414364457130432,
          "count": 72,
          "label": "SOURD"
         },
         {
          "X": 2.2986629009246826,
          "Y": -2.04585337638855,
          "count": 72,
          "label": "SOURD"
         },
         {
          "X": 0.3275226056575775,
          "Y": 1.327501893043518,
          "count": 72,
          "label": "SOURD"
         },
         {
          "X": 0.7133759260177612,
          "Y": 1.2155088186264038,
          "count": 72,
          "label": "SOURD"
         },
         {
          "X": -1.4802589416503906,
          "Y": -0.13927695155143738,
          "count": 72,
          "label": "SOURD"
         },
         {
          "X": 0.12445073574781418,
          "Y": 0.05000607669353485,
          "count": 72,
          "label": "SOURD"
         },
         {
          "X": 0.12445073574781418,
          "Y": 0.05000607669353485,
          "count": 72,
          "label": "SOURD"
         },
         {
          "X": 1.7958910465240479,
          "Y": -1.4791693687438965,
          "count": 72,
          "label": "SOURD"
         },
         {
          "X": 1.7958910465240479,
          "Y": -1.4791693687438965,
          "count": 72,
          "label": "SOURD"
         },
         {
          "X": 0.9383410811424255,
          "Y": -0.30791112780570984,
          "count": 72,
          "label": "SOURD"
         },
         {
          "X": -0.7890880703926086,
          "Y": -1.0077091455459595,
          "count": 72,
          "label": "SOURD"
         },
         {
          "X": -1.0455948114395142,
          "Y": 0.62473464012146,
          "count": 72,
          "label": "SOURD"
         },
         {
          "X": 1.4874746799468994,
          "Y": -1.1944838762283325,
          "count": 72,
          "label": "SOURD"
         },
         {
          "X": 0.030435696244239807,
          "Y": 1.9478543996810913,
          "count": 72,
          "label": "SOURD"
         },
         {
          "X": 0.7809913158416748,
          "Y": -2.468172311782837,
          "count": 72,
          "label": "SOURD"
         },
         {
          "X": 1.9337143898010254,
          "Y": 0.7559248805046082,
          "count": 72,
          "label": "SOURD"
         },
         {
          "X": -1.4802589416503906,
          "Y": -0.13927695155143738,
          "count": 72,
          "label": "SOURD"
         },
         {
          "X": 0.7133759260177612,
          "Y": 1.2155088186264038,
          "count": 72,
          "label": "SOURD"
         },
         {
          "X": 2.7740659713745117,
          "Y": 0.4257631003856659,
          "count": 72,
          "label": "SOURD"
         },
         {
          "X": -0.2342323362827301,
          "Y": -2.38041090965271,
          "count": 72,
          "label": "SOURD"
         },
         {
          "X": 1.4603018760681152,
          "Y": 1.5007543563842773,
          "count": 72,
          "label": "SOURD"
         },
         {
          "X": 0.2876945436000824,
          "Y": 1.8856663703918457,
          "count": 72,
          "label": "SOURD"
         },
         {
          "X": -0.20227792859077454,
          "Y": 2.6058075428009033,
          "count": 72,
          "label": "SOURD"
         },
         {
          "X": 0.7133759260177612,
          "Y": 1.2155088186264038,
          "count": 72,
          "label": "SOURD"
         },
         {
          "X": 1.9337143898010254,
          "Y": 0.7559248805046082,
          "count": 72,
          "label": "SOURD"
         },
         {
          "X": 0.7331911325454712,
          "Y": -1.7729463577270508,
          "count": 72,
          "label": "SOURD"
         },
         {
          "X": -0.038906216621398926,
          "Y": -1.3321967124938965,
          "count": 72,
          "label": "SOURD"
         },
         {
          "X": -1.3455700874328613,
          "Y": 1.0156828165054321,
          "count": 72,
          "label": "SOURD"
         },
         {
          "X": 2.6804513931274414,
          "Y": -1.1999847888946533,
          "count": 72,
          "label": "SOURD"
         },
         {
          "X": -1.433718204498291,
          "Y": -1.7712657451629639,
          "count": 72,
          "label": "SOURD"
         },
         {
          "X": -0.038906216621398926,
          "Y": -1.3321967124938965,
          "count": 72,
          "label": "SOURD"
         },
         {
          "X": 0.8493266105651855,
          "Y": 0.3709956705570221,
          "count": 72,
          "label": "SOURD"
         },
         {
          "X": 1.3840988874435425,
          "Y": -0.24738861620426178,
          "count": 72,
          "label": "SOURD"
         },
         {
          "X": -2.168177843093872,
          "Y": -0.8271084427833557,
          "count": 72,
          "label": "SOURD"
         },
         {
          "X": -0.7744936347007751,
          "Y": 0.43829581141471863,
          "count": 72,
          "label": "SOURD"
         },
         {
          "X": -0.5734463334083557,
          "Y": 1.4404056072235107,
          "count": 72,
          "label": "SOURD"
         },
         {
          "X": 0.12445073574781418,
          "Y": 0.05000607669353485,
          "count": 72,
          "label": "SOURD"
         },
         {
          "X": -0.038906216621398926,
          "Y": -1.3321967124938965,
          "count": 72,
          "label": "SOURD"
         },
         {
          "X": 1.5576236248016357,
          "Y": 0.37839797139167786,
          "count": 72,
          "label": "SOURD"
         },
         {
          "X": 0.7769594192504883,
          "Y": -0.937835156917572,
          "count": 72,
          "label": "SOURD"
         },
         {
          "X": -0.010860791429877281,
          "Y": 0.7860143780708313,
          "count": 72,
          "label": "SOURD"
         },
         {
          "X": 2.5816004276275635,
          "Y": -1.5323636531829834,
          "count": 72,
          "label": "SOURD"
         },
         {
          "X": 0.9383410811424255,
          "Y": -0.30791112780570984,
          "count": 72,
          "label": "SOURD"
         },
         {
          "X": 0.7569299340248108,
          "Y": -1.7701759338378906,
          "count": 72,
          "label": "SOURD"
         },
         {
          "X": -0.038906216621398926,
          "Y": -1.3321967124938965,
          "count": 72,
          "label": "SOURD"
         },
         {
          "X": 0.5022168159484863,
          "Y": -0.369074285030365,
          "count": 72,
          "label": "SOURD"
         },
         {
          "X": -0.010860791429877281,
          "Y": 0.7860143780708313,
          "count": 72,
          "label": "SOURD"
         },
         {
          "X": 0.12445073574781418,
          "Y": 0.05000607669353485,
          "count": 72,
          "label": "SOURD"
         },
         {
          "X": -0.7744936347007751,
          "Y": 0.43829581141471863,
          "count": 72,
          "label": "SOURD"
         },
         {
          "X": 0.12445073574781418,
          "Y": 0.05000607669353485,
          "count": 72,
          "label": "SOURD"
         },
         {
          "X": 1.3840988874435425,
          "Y": -0.24738861620426178,
          "count": 72,
          "label": "SOURD"
         },
         {
          "X": 2.923506736755371,
          "Y": -0.958000123500824,
          "count": 72,
          "label": "SOURD"
         },
         {
          "X": 0.8493266105651855,
          "Y": 0.3709956705570221,
          "count": 72,
          "label": "SOURD"
         },
         {
          "X": 1.9539906978607178,
          "Y": 2.177903652191162,
          "count": 72,
          "label": "SOURD"
         },
         {
          "X": 0.8493266105651855,
          "Y": 0.3709956705570221,
          "count": 47,
          "label": "ENTENDANT"
         },
         {
          "X": 1.5444684028625488,
          "Y": -2.3124451637268066,
          "count": 47,
          "label": "ENTENDANT"
         },
         {
          "X": 2.5976979732513428,
          "Y": 1.3837021589279175,
          "count": 47,
          "label": "ENTENDANT"
         },
         {
          "X": -0.010860791429877281,
          "Y": 0.7860143780708313,
          "count": 47,
          "label": "ENTENDANT"
         },
         {
          "X": 0.19849514961242676,
          "Y": 2.5399622917175293,
          "count": 47,
          "label": "ENTENDANT"
         },
         {
          "X": -1.4223387241363525,
          "Y": -1.1469751596450806,
          "count": 47,
          "label": "ENTENDANT"
         },
         {
          "X": 0.7769594192504883,
          "Y": -0.937835156917572,
          "count": 47,
          "label": "ENTENDANT"
         },
         {
          "X": 1.0381417274475098,
          "Y": 2.305878162384033,
          "count": 47,
          "label": "ENTENDANT"
         },
         {
          "X": 0.5022168159484863,
          "Y": -0.369074285030365,
          "count": 47,
          "label": "ENTENDANT"
         },
         {
          "X": -0.2342323362827301,
          "Y": -2.38041090965271,
          "count": 47,
          "label": "ENTENDANT"
         },
         {
          "X": -0.7520882487297058,
          "Y": -0.2695270776748657,
          "count": 47,
          "label": "ENTENDANT"
         },
         {
          "X": -0.038906216621398926,
          "Y": -1.3321967124938965,
          "count": 47,
          "label": "ENTENDANT"
         },
         {
          "X": 1.1252766847610474,
          "Y": -1.8188939094543457,
          "count": 47,
          "label": "ENTENDANT"
         },
         {
          "X": 1.0381417274475098,
          "Y": 2.305878162384033,
          "count": 47,
          "label": "ENTENDANT"
         },
         {
          "X": 1.7958910465240479,
          "Y": -1.4791693687438965,
          "count": 47,
          "label": "ENTENDANT"
         },
         {
          "X": 1.5509209632873535,
          "Y": 0.3715212941169739,
          "count": 47,
          "label": "ENTENDANT"
         },
         {
          "X": 0.7769594192504883,
          "Y": -0.937835156917572,
          "count": 47,
          "label": "ENTENDANT"
         },
         {
          "X": -0.010860791429877281,
          "Y": 0.7860143780708313,
          "count": 47,
          "label": "ENTENDANT"
         },
         {
          "X": 2.3063695430755615,
          "Y": 1.698819637298584,
          "count": 47,
          "label": "ENTENDANT"
         },
         {
          "X": -0.7520882487297058,
          "Y": -0.2695270776748657,
          "count": 47,
          "label": "ENTENDANT"
         },
         {
          "X": -1.2051360607147217,
          "Y": 1.1815179586410522,
          "count": 47,
          "label": "ENTENDANT"
         },
         {
          "X": -1.664787769317627,
          "Y": 1.7272974252700806,
          "count": 47,
          "label": "ENTENDANT"
         },
         {
          "X": 0.7809913158416748,
          "Y": -2.468172311782837,
          "count": 47,
          "label": "ENTENDANT"
         },
         {
          "X": -0.5316834449768066,
          "Y": -0.3826110363006592,
          "count": 47,
          "label": "ENTENDANT"
         },
         {
          "X": 2.8399338722229004,
          "Y": 0.9212411046028137,
          "count": 47,
          "label": "ENTENDANT"
         },
         {
          "X": 1.7958910465240479,
          "Y": -1.4791693687438965,
          "count": 47,
          "label": "ENTENDANT"
         },
         {
          "X": 0.7769594192504883,
          "Y": -0.937835156917572,
          "count": 47,
          "label": "ENTENDANT"
         },
         {
          "X": -1.4802589416503906,
          "Y": -0.13927695155143738,
          "count": 47,
          "label": "ENTENDANT"
         },
         {
          "X": 2.6804513931274414,
          "Y": -1.1999847888946533,
          "count": 47,
          "label": "ENTENDANT"
         },
         {
          "X": 1.9337143898010254,
          "Y": 0.7559248805046082,
          "count": 47,
          "label": "ENTENDANT"
         },
         {
          "X": -1.433718204498291,
          "Y": -1.7712657451629639,
          "count": 47,
          "label": "ENTENDANT"
         },
         {
          "X": 2.356484889984131,
          "Y": 1.6304043531417847,
          "count": 47,
          "label": "ENTENDANT"
         },
         {
          "X": 2.189912796020508,
          "Y": -0.3414364457130432,
          "count": 47,
          "label": "ENTENDANT"
         },
         {
          "X": 3.1133673191070557,
          "Y": 0.10794708132743835,
          "count": 47,
          "label": "ENTENDANT"
         },
         {
          "X": -0.5734463334083557,
          "Y": 1.4404056072235107,
          "count": 47,
          "label": "ENTENDANT"
         },
         {
          "X": 1.7958910465240479,
          "Y": -1.4791693687438965,
          "count": 47,
          "label": "ENTENDANT"
         },
         {
          "X": 0.7769594192504883,
          "Y": -0.937835156917572,
          "count": 47,
          "label": "ENTENDANT"
         },
         {
          "X": 1.7958910465240479,
          "Y": -1.4791693687438965,
          "count": 47,
          "label": "ENTENDANT"
         },
         {
          "X": 1.9337143898010254,
          "Y": 0.7559248805046082,
          "count": 47,
          "label": "ENTENDANT"
         },
         {
          "X": 0.12445073574781418,
          "Y": 0.05000607669353485,
          "count": 47,
          "label": "ENTENDANT"
         },
         {
          "X": 0.08518155664205551,
          "Y": -0.5668357610702515,
          "count": 47,
          "label": "ENTENDANT"
         },
         {
          "X": 1.5444684028625488,
          "Y": -2.3124451637268066,
          "count": 47,
          "label": "ENTENDANT"
         },
         {
          "X": 0.12445073574781418,
          "Y": 0.05000607669353485,
          "count": 47,
          "label": "ENTENDANT"
         },
         {
          "X": 0.7133759260177612,
          "Y": 1.2155088186264038,
          "count": 47,
          "label": "ENTENDANT"
         },
         {
          "X": 0.8493266105651855,
          "Y": 0.3709956705570221,
          "count": 47,
          "label": "ENTENDANT"
         },
         {
          "X": -0.5734463334083557,
          "Y": 1.4404056072235107,
          "count": 47,
          "label": "ENTENDANT"
         },
         {
          "X": 0.08518155664205551,
          "Y": -0.5668357610702515,
          "count": 47,
          "label": "ENTENDANT"
         }
        ]
       },
       "encoding": {
        "color": {
         "field": "label",
         "type": "nominal"
        },
        "x": {
         "field": "X",
         "type": "quantitative"
        },
        "y": {
         "field": "Y",
         "type": "quantitative"
        }
       },
       "mark": {
        "size": 60,
        "type": "circle"
       },
       "selection": {
        "selector006": {
         "bind": "scales",
         "encodings": [
          "x",
          "y"
         ],
         "mark": {
          "fill": "#333",
          "fillOpacity": 0.125,
          "stroke": "white"
         },
         "on": "[mousedown, window:mouseup] > window:mousemove!",
         "resolve": "global",
         "translate": "[mousedown, window:mouseup] > window:mousemove!",
         "type": "interval",
         "zoom": "wheel!"
        }
       }
      },
      "image/png": "[encoded data removed]",
      "text/plain": [
       "<VegaLite 2 object>\n",
       "\n",
       "If you see this message, it means the renderer has not been properly enabled\n",
       "for the frontend that you are using. For more information, see\n",
       "https://altair-viz.github.io/user_guide/troubleshooting.html\n"
      ]
     },
     "metadata": {},
     "output_type": "display_data"
    }
   ],
   "source": [
    "# standalone graph\n",
    "\n",
    "preds_reduced = TSNE(n_components=2, perplexity = 80).fit_transform(preds)\n",
    "\n",
    "\n",
    "plot_df = pd.DataFrame({'X':preds_reduced[:,0],'Y':preds_reduced[:,1], 'label': label})\n",
    "\n",
    "plot_df = plot_df[plot_df[\"label\"] != 'LS']\n",
    "plot_df[\"count\"] = plot_df.apply(lambda row: len(plot_df[plot_df[\"label\"] == row[\"label\"]]), axis=1)\n",
    "plot_df = plot_df[plot_df[\"count\"] > 45]\n",
    "\n",
    "chart = alt.Chart(plot_df).mark_circle(size=60).encode(\n",
    "    x='X',\n",
    "    y='Y',\n",
    "    color='label').interactive()\n",
    "    \n",
    "display(chart)"
   ]
  },
  {
   "cell_type": "code",
   "execution_count": null,
   "metadata": {},
   "outputs": [],
   "source": []
  }
 ],
 "metadata": {
  "kernelspec": {
   "display_name": "Python 3",
   "language": "python",
   "name": "python3"
  },
  "language_info": {
   "codemirror_mode": {
    "name": "ipython",
    "version": 3
   },
   "file_extension": ".py",
   "mimetype": "text/x-python",
   "name": "python",
   "nbconvert_exporter": "python",
   "pygments_lexer": "ipython3",
   "version": "3.6.8"
  }
 },
 "nbformat": 4,
 "nbformat_minor": 2
}
