{
 "cells": [
  {
   "cell_type": "code",
   "execution_count": 1,
   "metadata": {},
   "outputs": [],
   "source": [
    "import numpy as np\n",
    "import pandas as pd\n",
    "import random\n",
    "from sklearn.metrics.pairwise import cosine_similarity"
   ]
  },
  {
   "cell_type": "code",
   "execution_count": 3,
   "metadata": {},
   "outputs": [
    {
     "name": "stdout",
     "output_type": "stream",
     "text": [
      "(124, 128)\n",
      "124\n"
     ]
    }
   ],
   "source": [
    "# loading data\n",
    "preds = np.load(\"../results/preds.np\")\n",
    "label = np.load(\"../results/label.np\")\n",
    "print(preds.shape)\n",
    "\n",
    "# create prd dataframe\n",
    "preds = pd.Series(preds.tolist())\n",
    "res = pd.DataFrame({'pred':preds, 'label': label})\n",
    "#res[\"count\"] = res.apply(lambda row: len(res[res[\"label\"] == row[\"label\"]]), axis=1)\n",
    "#res = res[res[\"count\"] > 90]\n",
    "\n",
    "\n",
    "print(len(res))"
   ]
  },
  {
   "cell_type": "code",
   "execution_count": 4,
   "metadata": {},
   "outputs": [],
   "source": [
    "def create_positif(df, nbr):\n",
    "    duets = []\n",
    "    list_label = list(set(df[\"label\"].tolist()))\n",
    "    \n",
    "    for elem in range(nbr):\n",
    "        chosen_label = random.choice(list_label)\n",
    "        \n",
    "        # select duet\n",
    "        select = df[df[\"label\"] == chosen_label]\n",
    "        samp = select.sample(2)\n",
    "        samp = samp[\"pred\"].tolist()\n",
    "        d = (samp[0], samp[1])\n",
    "        \n",
    "        duets.append(d)\n",
    "        \n",
    "    return duets\n",
    "        \n",
    "        \n",
    "\n",
    "def create_negatif(df, nbr):\n",
    "    duets = []\n",
    "    list_label = list(set(df[\"label\"].tolist()))\n",
    "    \n",
    "    for elem in range(nbr):\n",
    "        chosen_label = random.choice(list_label)\n",
    "        \n",
    "        # select duet\n",
    "        pos = df[df[\"label\"] == chosen_label]\n",
    "        neg = df[~(df[\"label\"] == chosen_label)]\n",
    "        \n",
    "        p_samp = pos.sample(1)\n",
    "        n_samp = neg.sample(1)\n",
    "        \n",
    "        p_samp = p_samp[\"pred\"].tolist()[0]\n",
    "        n_samp = n_samp[\"pred\"].tolist()[0]\n",
    "        \n",
    "        \n",
    "        d = (p_samp, n_samp)\n",
    "        \n",
    "        duets.append(d)\n",
    "        \n",
    "    return duets\n",
    "        \n",
    "\n"
   ]
  },
  {
   "cell_type": "code",
   "execution_count": 8,
   "metadata": {},
   "outputs": [
    {
     "name": "stdout",
     "output_type": "stream",
     "text": [
      "100\n",
      "100\n"
     ]
    }
   ],
   "source": [
    "positives = create_positif(res, 100)\n",
    "negatives = create_negatif(res, 100)\n",
    "\n",
    "print(len(positives))\n",
    "print(len(negatives))"
   ]
  },
  {
   "cell_type": "code",
   "execution_count": 22,
   "metadata": {},
   "outputs": [
    {
     "name": "stdout",
     "output_type": "stream",
     "text": [
      "Moyenne consine 0.8371299678342687 for 100\n",
      "Moyenne eucli 1.9398523623765156e-05 for 100\n",
      "Moyenne consine 0.8743505164951454\n",
      "Moyenne eucli 1.5819896028691957e-05 for 100\n",
      "\n",
      "\n",
      "\n",
      "accuracy: 0.0098\n",
      "precision: 0.49382716049382713\n",
      "recall: 0.8\n",
      "f1: 0.6106870229007633\n"
     ]
    }
   ],
   "source": [
    "# Evaluation of the model\n",
    "\n",
    "limit_dist = 0.0000158\n",
    "\n",
    "tp = 0\n",
    "tn = 0\n",
    "fp = 0\n",
    "fn = 0\n",
    "\n",
    "# Evaluate positif\n",
    "cosine_pos = []\n",
    "eucli = []\n",
    "for pos in positives:\n",
    "    t1 = np.array([pos[0]])\n",
    "    t2 = np.array([pos[1]])\n",
    "    cosine_pos.append(cosine_similarity(t1, t2)[0][0])\n",
    "    eucli.append(np.linalg.norm(t1[0]-t2[0]))\n",
    "    if eucli[-1] <= limit_dist:\n",
    "        tp += 1\n",
    "    else:\n",
    "        fn += 1\n",
    "\n",
    "c = np.array(cosine_pos)\n",
    "e = np.array(eucli)\n",
    "print(\"Moyenne consine {} for {}\".format(c.mean(), len(c)))\n",
    "print(\"Moyenne eucli {} for {}\".format(e.mean(), len(e)))\n",
    "\n",
    "\n",
    "cosine_neg = []\n",
    "eucli = []\n",
    "for neg in negatives:\n",
    "    t1 = np.array([neg[0]])\n",
    "    t2 = np.array([neg[1]])\n",
    "    cosine_neg.append(cosine_similarity(t1, t2)[0][0])\n",
    "    eucli.append(np.linalg.norm(t1[0]-t2[0]))\n",
    "    \n",
    "    if eucli[-1] > limit_dist:\n",
    "        tn += 1\n",
    "    else:\n",
    "        fp += 1\n",
    "    \n",
    "c = np.array(cosine_neg)\n",
    "e = np.array(eucli)\n",
    "print(\"Moyenne consine {}\".format(c.mean()))\n",
    "print(\"Moyenne eucli {} for {}\".format(e.mean(), len(e)))\n",
    "\n",
    "print(\"\\n\\n\")\n",
    "\n",
    "accuracy = (tp + tn) / 10000\n",
    "precision = tp /(fp + tp)\n",
    "recall = tp / (fn+tp)\n",
    "f1 = 2*((precision*recall)/(precision+recall))\n",
    "\n",
    "print(\"accuracy: {}\".format(accuracy))\n",
    "print(\"precision: {}\".format(precision))\n",
    "print(\"recall: {}\".format(recall))\n",
    "print(\"f1: {}\".format(f1))"
   ]
  },
  {
   "cell_type": "code",
   "execution_count": 16,
   "metadata": {},
   "outputs": [
    {
     "name": "stdout",
     "output_type": "stream",
     "text": [
      "False\n"
     ]
    }
   ],
   "source": [
    "t1 = res[\"pred\"].tolist()[0]\n",
    "t2 = res[\"pred\"].tolist()[1000]\n",
    "\n",
    "t2[0] += 3\n",
    "\n",
    "print((t1 == t2))"
   ]
  }
 ],
 "metadata": {
  "kernelspec": {
   "display_name": "Python 3",
   "language": "python",
   "name": "python3"
  },
  "language_info": {
   "codemirror_mode": {
    "name": "ipython",
    "version": 3
   },
   "file_extension": ".py",
   "mimetype": "text/x-python",
   "name": "python",
   "nbconvert_exporter": "python",
   "pygments_lexer": "ipython3",
   "version": "3.6.8"
  }
 },
 "nbformat": 4,
 "nbformat_minor": 2
}
